{
  "nbformat": 4,
  "nbformat_minor": 0,
  "metadata": {
    "colab": {
      "name": "Herramientas - Clase 1 ML - OOP - Mis ejercicios de clase y notas.ipynb",
      "provenance": [],
      "collapsed_sections": [],
      "authorship_tag": "ABX9TyNHvtYC/m68vInu/8F2xuXq",
      "include_colab_link": true
    },
    "kernelspec": {
      "name": "python3",
      "display_name": "Python 3"
    }
  },
  "cells": [
    {
      "cell_type": "markdown",
      "metadata": {
        "id": "view-in-github",
        "colab_type": "text"
      },
      "source": [
        "<a href=\"https://colab.research.google.com/github/oMateos2020/Master-IA-3/blob/01-OOP/Herramientas_Clase_1_ML_OOP_Mis_ejercicios_de_clase_y_notas.ipynb\" target=\"_parent\"><img src=\"https://colab.research.google.com/assets/colab-badge.svg\" alt=\"Open In Colab\"/></a>"
      ]
    },
    {
      "cell_type": "markdown",
      "metadata": {
        "id": "U94Gg7c8sfR_"
      },
      "source": [
        "CLASE 1 DE ML: OOP EN PYTHON"
      ]
    },
    {
      "cell_type": "code",
      "metadata": {
        "id": "TiVnyme6svj0"
      },
      "source": [
        "#Crear constructor\n",
        "class Manzana:\n",
        "  def __init__(self, color, peso, tipo):\n",
        "    self.color = color\n",
        "    self.peso = peso\n",
        "    self.tipo = tipo\n",
        "    \n",
        "  def describe_manzana(self):\n",
        "    #f\"string: string formateada, mejor asi que \"string\".format\n",
        "    print(f\"La manzana es de tipo {self.tipo}, es de color {self.color} y pesa {self.peso}.\")\n",
        "\n",
        "  def describe_color(self):\n",
        "    print(f\"El color de la manzana es {self.color}.\")\n",
        "\n",
        "  def describe_peso(self):\n",
        "    print(f\"El peso de la manzana es {self.peso} g.\")\n",
        "\n",
        "  def describe_tipo(self):\n",
        "    print(f\"El tipo de la manzana es {self.tipo}.\")\n",
        "\n",
        "  def sell_manzana(self, assistant, precio):\n",
        "    print(f\"Hola muy buenas soy {assistant}\")\n",
        "    self.describe_manzana()"
      ],
      "execution_count": null,
      "outputs": []
    },
    {
      "cell_type": "code",
      "metadata": {
        "id": "hqBDXEmPvQrw"
      },
      "source": [
        "manzana1 = Manzana('azul', 1000.0, 'Blue Oyster')"
      ],
      "execution_count": null,
      "outputs": []
    },
    {
      "cell_type": "code",
      "metadata": {
        "id": "zVT6R_DJtey2",
        "outputId": "07216892-f2be-4bb5-b836-6366f17ac95a",
        "colab": {
          "base_uri": "https://localhost:8080/",
          "height": 35
        }
      },
      "source": [
        "manzana1.color"
      ],
      "execution_count": null,
      "outputs": [
        {
          "output_type": "execute_result",
          "data": {
            "application/vnd.google.colaboratory.intrinsic+json": {
              "type": "string"
            },
            "text/plain": [
              "'azul'"
            ]
          },
          "metadata": {
            "tags": []
          },
          "execution_count": 97
        }
      ]
    },
    {
      "cell_type": "code",
      "metadata": {
        "id": "t2K70q2DvJ5q",
        "outputId": "0e24a2e9-7680-4e3b-ac7f-05d1073236cd",
        "colab": {
          "base_uri": "https://localhost:8080/",
          "height": 34
        }
      },
      "source": [
        "manzana1.describe_manzana()"
      ],
      "execution_count": null,
      "outputs": [
        {
          "output_type": "stream",
          "text": [
            "La manzana es de tipo Blue Oyster, es de color azul y pesa 1000.0.\n"
          ],
          "name": "stdout"
        }
      ]
    },
    {
      "cell_type": "code",
      "metadata": {
        "id": "nMpD3YEFy2hm"
      },
      "source": [
        "#Variables ocultas (hidden): modularidad en el codigo\n",
        "#Crear constructor\n",
        "class Manzana2:\n",
        "  def __init__(self, color, peso, tipo):\n",
        "    self.color = color\n",
        "    self.peso = peso\n",
        "    self.tipo = tipo\n",
        "\n",
        "  def _describe_color(self):\n",
        "    print(f\"El color de la manzana es {self.color}.\")\n",
        "\n",
        "  def _describe_peso(self):\n",
        "    print(f\"El peso de la manzana es {self.peso} g.\")\n",
        "\n",
        "  def _describe_tipo(self):\n",
        "    print(f\"El tipo de la manzana es {self.tipo}.\")\n",
        "\n",
        "  def describe_manzana(self):\n",
        "    self._describe_color()\n",
        "    self._describe_peso()\n",
        "    self._describe_tipo()"
      ],
      "execution_count": null,
      "outputs": []
    },
    {
      "cell_type": "code",
      "metadata": {
        "id": "OWa8MrR88HnH"
      },
      "source": [
        "manzana2 = Manzana2('negra', 1.0, 'Enana Negra')"
      ],
      "execution_count": null,
      "outputs": []
    },
    {
      "cell_type": "code",
      "metadata": {
        "id": "6Vq8OnpvBOcZ",
        "outputId": "79b3e023-5336-460a-d620-72fdc208a68d",
        "colab": {
          "base_uri": "https://localhost:8080/",
          "height": 69
        }
      },
      "source": [
        "manzana2.describe_manzana()"
      ],
      "execution_count": null,
      "outputs": [
        {
          "output_type": "stream",
          "text": [
            "El color de la manzana es negra.\n",
            "El peso de la manzana es 1.0 g.\n",
            "El tipo de la manzana es Enana Negra.\n"
          ],
          "name": "stdout"
        }
      ]
    },
    {
      "cell_type": "code",
      "metadata": {
        "id": "1Fzmc9thG6i3"
      },
      "source": [
        "class Basket:\n",
        "  def __init__(self, manzanas):\n",
        "    self.manzanas = []\n",
        "    for manzana in self.manzanas:\n",
        "      if isinstance(self.manzanas, Manzana):\n",
        "        self.manzanas.append(manzana)\n",
        "\n",
        "      else:\n",
        "        raise Exception(\"manzana no es una clase de tipo Manzana\")\n",
        "\n",
        "  def describe_manzanas(self):\n",
        "     for manzana in self.manzanas:\n",
        "       manzana._describe_manzana()\n"
      ],
      "execution_count": null,
      "outputs": []
    },
    {
      "cell_type": "code",
      "metadata": {
        "id": "Rq9_6iqgE6ve"
      },
      "source": [
        "manzana3 = Manzana2('Rojo', 1000.0, 'Red Sun')"
      ],
      "execution_count": null,
      "outputs": []
    },
    {
      "cell_type": "code",
      "metadata": {
        "id": "BQSEdgGhB8ns"
      },
      "source": [
        "cesta = Basket([manzana1, manzana3])"
      ],
      "execution_count": null,
      "outputs": []
    },
    {
      "cell_type": "code",
      "metadata": {
        "id": "R-Emk7KbFEOm"
      },
      "source": [
        "cesta.describe_manzanas()"
      ],
      "execution_count": null,
      "outputs": []
    },
    {
      "cell_type": "code",
      "metadata": {
        "id": "cFvB-UqQHrHZ"
      },
      "source": [
        "# Metodos estaticos: transformaciones que no dependen de la clase, son mas eficientes que los no estaticos\n",
        "# Si se hace un transformacion como media... etc usar estaticos\n",
        "class Basket2:\n",
        "  def __init__(self, manzanas):\n",
        "    self.manzanas = []\n",
        "    for manzana in self.manzanas:\n",
        "      if isinstance(self.manzanas, Manzana):\n",
        "        self.manzanas.append(manzana)\n",
        "\n",
        "      else:\n",
        "        raise Exception(\"manzana no es una clase de tipo Manzana\")\n",
        "\n",
        "  def describe_manzanas(self):\n",
        "     for manzana in self.manzanas:\n",
        "       manzana._describe_manzana()\n",
        "\n",
        "  @staticmethod\n",
        "  #Decorator\n",
        "  #LA manzana viene de fuera\n",
        "  def comer_manzanas(manzana):\n",
        "    print(f\"La manzana: {manzana.describe_tipo} está siendo comida\")  \n",
        " \n",
        "  "
      ],
      "execution_count": null,
      "outputs": []
    }
  ]
}