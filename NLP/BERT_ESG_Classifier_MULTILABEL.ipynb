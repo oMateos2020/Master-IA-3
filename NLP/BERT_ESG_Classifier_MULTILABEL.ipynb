{
  "cells": [
    {
      "cell_type": "markdown",
      "metadata": {
        "id": "3u0qhulrLgVd"
      },
      "source": [
        "\n",
        "\n",
        "# BERT ESG Classifier\n",
        "Multilabel, usando `content`\n"
      ]
    },
    {
      "cell_type": "markdown",
      "source": [
        "**Pruebas:** Bajar num epochs a 25 y si eso seguir en bloques de 25\n",
        "*   Probar con class weights\n",
        "*   Probar Early Stopping\n",
        "*   Probar a quitar capas Densas\n",
        "*   Probar version de 1024\n",
        "*   Probar lo de la metrica custom del loss para multilabel\n",
        "*   Probar learning rate scheduler como callback basado en el ejemplo de clase de NER (optimizador triangular)\n"
      ],
      "metadata": {
        "id": "tayFhJNfrgZ5"
      }
    },
    {
      "cell_type": "markdown",
      "source": [
        "Esta es la variante multilabel"
      ],
      "metadata": {
        "id": "bxCf3tNPzbMY"
      }
    },
    {
      "cell_type": "code",
      "execution_count": 1,
      "metadata": {
        "colab": {
          "base_uri": "https://localhost:8080/"
        },
        "id": "6TJKAUS1NI3N",
        "outputId": "1ca7829e-8fda-45a0-cd0d-70a03c4bb524"
      },
      "outputs": [
        {
          "output_type": "stream",
          "name": "stdout",
          "text": [
            "Mounted at /content/drive\n"
          ]
        }
      ],
      "source": [
        "from google.colab import drive\n",
        "drive.mount('/content/drive')"
      ]
    },
    {
      "cell_type": "code",
      "execution_count": 2,
      "metadata": {
        "id": "owpmujECNKVL",
        "colab": {
          "base_uri": "https://localhost:8080/"
        },
        "outputId": "1abb759c-41b4-4f94-f62c-713ceaf15591"
      },
      "outputs": [
        {
          "output_type": "stream",
          "name": "stdout",
          "text": [
            "\u001b[K     |████████████████████████████████| 4.6 MB 3.0 MB/s \n",
            "\u001b[K     |████████████████████████████████| 511.7 MB 5.3 kB/s \n",
            "\u001b[K     |████████████████████████████████| 438 kB 77.0 MB/s \n",
            "\u001b[K     |████████████████████████████████| 1.6 MB 70.8 MB/s \n",
            "\u001b[K     |████████████████████████████████| 5.8 MB 82.6 MB/s \n",
            "\u001b[K     |████████████████████████████████| 2.1 MB 4.2 MB/s \n",
            "\u001b[K     |████████████████████████████████| 636 kB 61.2 MB/s \n",
            "\u001b[K     |████████████████████████████████| 352 kB 62.9 MB/s \n",
            "\u001b[K     |████████████████████████████████| 99 kB 10.2 MB/s \n",
            "\u001b[K     |████████████████████████████████| 92 kB 11.6 MB/s \n",
            "\u001b[K     |████████████████████████████████| 43 kB 2.3 MB/s \n",
            "\u001b[K     |████████████████████████████████| 237 kB 55.8 MB/s \n",
            "\u001b[K     |████████████████████████████████| 1.2 MB 58.5 MB/s \n",
            "\u001b[K     |████████████████████████████████| 1.1 MB 58.8 MB/s \n",
            "\u001b[K     |████████████████████████████████| 48.3 MB 105.2 MB/s \n",
            "\u001b[?25h  Building wheel for py-cpuinfo (setup.py) ... \u001b[?25l\u001b[?25hdone\n",
            "  Building wheel for seqeval (setup.py) ... \u001b[?25l\u001b[?25hdone\n",
            "\u001b[K     |████████████████████████████████| 133 kB 4.2 MB/s \n",
            "\u001b[?25h"
          ]
        }
      ],
      "source": [
        "!pip install -q tensorflow-text\n",
        "!pip install -q tf-models-official\n",
        "!pip install -q -U keras-tuner"
      ]
    },
    {
      "cell_type": "code",
      "execution_count": 3,
      "metadata": {
        "id": "rR0TOe0Br7vE"
      },
      "outputs": [],
      "source": [
        "import os\n",
        "import shutil\n",
        "import sys\n",
        "\n",
        "import pandas as pd\n",
        "import numpy as np\n",
        "\n",
        "import matplotlib.pyplot as plt\n",
        "\n",
        "from sklearn.model_selection import KFold, train_test_split\n",
        "from sklearn.utils import shuffle, class_weight\n",
        "from sklearn.metrics import multilabel_confusion_matrix, classification_report\n",
        "\n",
        "import altair as alt\n",
        "\n",
        "import tensorflow as tf\n",
        "import tensorflow_hub as hub\n",
        "import tensorflow_text as text\n",
        "from official.nlp import optimization  # to create AdamW optmizer"
      ]
    },
    {
      "cell_type": "code",
      "execution_count": 4,
      "metadata": {
        "id": "ynj2vuId_ECt"
      },
      "outputs": [],
      "source": [
        "# Leer CSVS\n",
        "path_train = \"/content/drive/Shareddrives/UCM SHARED/TFM_ESG/HTML Extracts/html_extract_10pc_data_train.csv\"\n",
        "path_test = \"/content/drive/Shareddrives/UCM SHARED/TFM_ESG/HTML Extracts/html_extract_10pc_data_test.csv\"\n",
        "\n",
        "df_train = pd.read_csv(path_train)\n",
        "df_test = pd.read_csv(path_test)"
      ]
    },
    {
      "cell_type": "markdown",
      "source": [
        "Análisis distribución etiquetas"
      ],
      "metadata": {
        "id": "8xOPvUHmM0gE"
      }
    },
    {
      "cell_type": "code",
      "source": [
        "df_labels = df_train[['E', 'S', 'G']].astype(bool)\n",
        "df_counts = df_labels.apply(pd.value_counts)\n",
        "print(df_counts)"
      ],
      "metadata": {
        "id": "-T3s7NYvMvEu",
        "colab": {
          "base_uri": "https://localhost:8080/"
        },
        "outputId": "99072ab7-f89e-47ab-b2c9-9eb38bdb6dc3"
      },
      "execution_count": 5,
      "outputs": [
        {
          "output_type": "stream",
          "name": "stdout",
          "text": [
            "           E     S     G\n",
            "False  11430  4388  9186\n",
            "True     533  7575  2777\n"
          ]
        }
      ]
    },
    {
      "cell_type": "code",
      "source": [
        "df_counts.plot.bar()"
      ],
      "metadata": {
        "colab": {
          "base_uri": "https://localhost:8080/",
          "height": 302
        },
        "id": "iFguB0ETPbjt",
        "outputId": "232dd442-4eb7-49b5-a64e-6d069077e2ad"
      },
      "execution_count": 6,
      "outputs": [
        {
          "output_type": "execute_result",
          "data": {
            "text/plain": [
              "<matplotlib.axes._subplots.AxesSubplot at 0x7f416959c150>"
            ]
          },
          "metadata": {},
          "execution_count": 6
        },
        {
          "output_type": "display_data",
          "data": {
            "text/plain": [
              "<Figure size 432x288 with 1 Axes>"
            ],
            "image/png": "[encoded data removed]"
          },
          "metadata": {
            "needs_background": "light"
          }
        }
      ]
    },
    {
      "cell_type": "code",
      "source": [
        "df_rates = df_labels.value_counts(normalize=True).mul(100)\n",
        "df_rates"
      ],
      "metadata": {
        "colab": {
          "base_uri": "https://localhost:8080/"
        },
        "outputId": "9667000c-b6a8-4398-daf6-b9a1ee3709a2",
        "id": "0WSuSEp8OnkI"
      },
      "execution_count": 7,
      "outputs": [
        {
          "output_type": "execute_result",
          "data": {
            "text/plain": [
              "E      S      G    \n",
              "False  True   False    43.885313\n",
              "       False  False    31.321575\n",
              "       True   True     15.556299\n",
              "       False  True      4.781409\n",
              "True   True   True      2.557887\n",
              "              False     1.320739\n",
              "       False  True      0.317646\n",
              "              False     0.259132\n",
              "dtype: float64"
            ]
          },
          "metadata": {},
          "execution_count": 7
        }
      ]
    },
    {
      "cell_type": "code",
      "source": [
        "X_train = df_train['content']\n",
        "y_train = df_train[['E', 'S', 'G']]\n",
        "\n",
        "X_test = df_test['content']\n",
        "y_test = df_test[['E', 'S', 'G']]"
      ],
      "metadata": {
        "id": "X-sQEWxMHkOR"
      },
      "execution_count": 8,
      "outputs": []
    },
    {
      "cell_type": "markdown",
      "metadata": {
        "id": "t7AzO3bZL_CH"
      },
      "source": [
        "Para fine-tuning, se utilizará la matriz pooled_output.\n",
        "\n",
        "# Define el modelo"
      ]
    },
    {
      "cell_type": "code",
      "execution_count": 9,
      "metadata": {
        "id": "2goclPdA7uyf"
      },
      "outputs": [],
      "source": [
        "#@title Choose a BERT model to fine-tune\n",
        "\n",
        "bert_model_name = 'small_bert/bert_en_uncased_L-12_H-768_A-12'\n",
        "\n",
        "map_name_to_handle = {\n",
        "    'bert_en_uncased_L-12_H-768_A-12':\n",
        "        'https://tfhub.dev/tensorflow/bert_en_uncased_L-12_H-768_A-12/2',\n",
        "    'bert_en_cased_L-12_H-768_A-12':\n",
        "        'https://tfhub.dev/tensorflow/bert_en_cased_L-12_H-768_A-12/2',\n",
        "    'bert_multi_cased_L-12_H-768_A-12':\n",
        "        'https://tfhub.dev/tensorflow/bert_multi_cased_L-12_H-768_A-12/2',\n",
        "    'small_bert/bert_en_uncased_L-2_H-128_A-2':\n",
        "        'https://tfhub.dev/tensorflow/small_bert/bert_en_uncased_L-2_H-128_A-2/2',\n",
        "    'small_bert/bert_en_uncased_L-2_H-256_A-4':\n",
        "        'https://tfhub.dev/tensorflow/small_bert/bert_en_uncased_L-2_H-256_A-4/2',\n",
        "    'small_bert/bert_en_uncased_L-2_H-512_A-8':\n",
        "        'https://tfhub.dev/tensorflow/small_bert/bert_en_uncased_L-2_H-512_A-8/2',\n",
        "    'small_bert/bert_en_uncased_L-2_H-768_A-12':\n",
        "        'https://tfhub.dev/tensorflow/small_bert/bert_en_uncased_L-2_H-768_A-12/2',\n",
        "    'small_bert/bert_en_uncased_L-4_H-128_A-2':\n",
        "        'https://tfhub.dev/tensorflow/small_bert/bert_en_uncased_L-4_H-128_A-2/2',\n",
        "    'small_bert/bert_en_uncased_L-4_H-256_A-4':\n",
        "        'https://tfhub.dev/tensorflow/small_bert/bert_en_uncased_L-4_H-256_A-4/2',\n",
        "    'small_bert/bert_en_uncased_L-4_H-512_A-8':\n",
        "        'https://tfhub.dev/tensorflow/small_bert/bert_en_uncased_L-4_H-512_A-8/2',\n",
        "    'small_bert/bert_en_uncased_L-4_H-768_A-12':\n",
        "        'https://tfhub.dev/tensorflow/small_bert/bert_en_uncased_L-4_H-768_A-12/2',\n",
        "    'small_bert/bert_en_uncased_L-6_H-128_A-2':\n",
        "        'https://tfhub.dev/tensorflow/small_bert/bert_en_uncased_L-6_H-128_A-2/2',\n",
        "    'small_bert/bert_en_uncased_L-6_H-256_A-4':\n",
        "        'https://tfhub.dev/tensorflow/small_bert/bert_en_uncased_L-6_H-256_A-4/2',\n",
        "    'small_bert/bert_en_uncased_L-6_H-512_A-8':\n",
        "        'https://tfhub.dev/tensorflow/small_bert/bert_en_uncased_L-6_H-512_A-8/2',\n",
        "    'small_bert/bert_en_uncased_L-6_H-768_A-12':\n",
        "        'https://tfhub.dev/tensorflow/small_bert/bert_en_uncased_L-6_H-768_A-12/2',\n",
        "    'small_bert/bert_en_uncased_L-8_H-128_A-2':\n",
        "        'https://tfhub.dev/tensorflow/small_bert/bert_en_uncased_L-8_H-128_A-2/2',\n",
        "    'small_bert/bert_en_uncased_L-8_H-256_A-4':\n",
        "        'https://tfhub.dev/tensorflow/small_bert/bert_en_uncased_L-8_H-256_A-4/2',\n",
        "    'small_bert/bert_en_uncased_L-8_H-512_A-8':\n",
        "        'https://tfhub.dev/tensorflow/small_bert/bert_en_uncased_L-8_H-512_A-8/2',\n",
        "    'small_bert/bert_en_uncased_L-8_H-768_A-12':\n",
        "        'https://tfhub.dev/tensorflow/small_bert/bert_en_uncased_L-8_H-768_A-12/2',\n",
        "    'small_bert/bert_en_uncased_L-10_H-128_A-2':\n",
        "        'https://tfhub.dev/tensorflow/small_bert/bert_en_uncased_L-10_H-128_A-2/2',\n",
        "    'small_bert/bert_en_uncased_L-10_H-256_A-4':\n",
        "        'https://tfhub.dev/tensorflow/small_bert/bert_en_uncased_L-10_H-256_A-4/2',\n",
        "    'small_bert/bert_en_uncased_L-10_H-512_A-8':\n",
        "        'https://tfhub.dev/tensorflow/small_bert/bert_en_uncased_L-10_H-512_A-8/2',\n",
        "    'small_bert/bert_en_uncased_L-10_H-768_A-12':\n",
        "        'https://tfhub.dev/tensorflow/small_bert/bert_en_uncased_L-10_H-768_A-12/2',\n",
        "    'small_bert/bert_en_uncased_L-12_H-128_A-2':\n",
        "        'https://tfhub.dev/tensorflow/small_bert/bert_en_uncased_L-12_H-128_A-2/2',\n",
        "    'small_bert/bert_en_uncased_L-12_H-256_A-4':\n",
        "        'https://tfhub.dev/tensorflow/small_bert/bert_en_uncased_L-12_H-256_A-4/2',\n",
        "    'small_bert/bert_en_uncased_L-12_H-512_A-8':\n",
        "        'https://tfhub.dev/tensorflow/small_bert/bert_en_uncased_L-12_H-512_A-8/2',\n",
        "    'small_bert/bert_en_uncased_L-12_H-768_A-12':\n",
        "        'https://tfhub.dev/tensorflow/small_bert/bert_en_uncased_L-12_H-768_A-12/2',\n",
        "    'albert_en_base':\n",
        "        'https://tfhub.dev/tensorflow/albert_en_base/3',\n",
        "    'electra_small':\n",
        "        'https://tfhub.dev/google/electra_small/3',\n",
        "    'electra_base':\n",
        "        'https://tfhub.dev/google/electra_base/3',\n",
        "    'experts_pubmed':\n",
        "        'https://tfhub.dev/google/experts/bert/pubmed/3',\n",
        "    'experts_wiki_books':\n",
        "        'https://tfhub.dev/google/experts/bert/wiki_books/3',\n",
        "    'talking-heads_base':\n",
        "        'https://tfhub.dev/tensorflow/talkheads_ggelu_bert_en_base/3',\n",
        "}\n",
        "\n",
        "map_model_to_preprocess = {\n",
        "    'bert_en_uncased_L-12_H-768_A-12':\n",
        "        'https://tfhub.dev/tensorflow/bert_en_uncased_preprocess/3',\n",
        "    'bert_en_cased_L-12_H-768_A-12':\n",
        "        'https://tfhub.dev/tensorflow/bert_en_cased_preprocess/3',\n",
        "    'small_bert/bert_en_uncased_L-2_H-128_A-2':\n",
        "        'https://tfhub.dev/tensorflow/bert_en_uncased_preprocess/3',\n",
        "    'small_bert/bert_en_uncased_L-2_H-256_A-4':\n",
        "        'https://tfhub.dev/tensorflow/bert_en_uncased_preprocess/3',\n",
        "    'small_bert/bert_en_uncased_L-2_H-512_A-8':\n",
        "        'https://tfhub.dev/tensorflow/bert_en_uncased_preprocess/3',\n",
        "    'small_bert/bert_en_uncased_L-2_H-768_A-12':\n",
        "        'https://tfhub.dev/tensorflow/bert_en_uncased_preprocess/3',\n",
        "    'small_bert/bert_en_uncased_L-4_H-128_A-2':\n",
        "        'https://tfhub.dev/tensorflow/bert_en_uncased_preprocess/3',\n",
        "    'small_bert/bert_en_uncased_L-4_H-256_A-4':\n",
        "        'https://tfhub.dev/tensorflow/bert_en_uncased_preprocess/3',\n",
        "    'small_bert/bert_en_uncased_L-4_H-512_A-8':\n",
        "        'https://tfhub.dev/tensorflow/bert_en_uncased_preprocess/3',\n",
        "    'small_bert/bert_en_uncased_L-4_H-768_A-12':\n",
        "        'https://tfhub.dev/tensorflow/bert_en_uncased_preprocess/3',\n",
        "    'small_bert/bert_en_uncased_L-6_H-128_A-2':\n",
        "        'https://tfhub.dev/tensorflow/bert_en_uncased_preprocess/3',\n",
        "    'small_bert/bert_en_uncased_L-6_H-256_A-4':\n",
        "        'https://tfhub.dev/tensorflow/bert_en_uncased_preprocess/3',\n",
        "    'small_bert/bert_en_uncased_L-6_H-512_A-8':\n",
        "        'https://tfhub.dev/tensorflow/bert_en_uncased_preprocess/3',\n",
        "    'small_bert/bert_en_uncased_L-6_H-768_A-12':\n",
        "        'https://tfhub.dev/tensorflow/bert_en_uncased_preprocess/3',\n",
        "    'small_bert/bert_en_uncased_L-8_H-128_A-2':\n",
        "        'https://tfhub.dev/tensorflow/bert_en_uncased_preprocess/3',\n",
        "    'small_bert/bert_en_uncased_L-8_H-256_A-4':\n",
        "        'https://tfhub.dev/tensorflow/bert_en_uncased_preprocess/3',\n",
        "    'small_bert/bert_en_uncased_L-8_H-512_A-8':\n",
        "        'https://tfhub.dev/tensorflow/bert_en_uncased_preprocess/3',\n",
        "    'small_bert/bert_en_uncased_L-8_H-768_A-12':\n",
        "        'https://tfhub.dev/tensorflow/bert_en_uncased_preprocess/3',\n",
        "    'small_bert/bert_en_uncased_L-10_H-128_A-2':\n",
        "        'https://tfhub.dev/tensorflow/bert_en_uncased_preprocess/3',\n",
        "    'small_bert/bert_en_uncased_L-10_H-256_A-4':\n",
        "        'https://tfhub.dev/tensorflow/bert_en_uncased_preprocess/3',\n",
        "    'small_bert/bert_en_uncased_L-10_H-512_A-8':\n",
        "        'https://tfhub.dev/tensorflow/bert_en_uncased_preprocess/3',\n",
        "    'small_bert/bert_en_uncased_L-10_H-768_A-12':\n",
        "        'https://tfhub.dev/tensorflow/bert_en_uncased_preprocess/3',\n",
        "    'small_bert/bert_en_uncased_L-12_H-128_A-2':\n",
        "        'https://tfhub.dev/tensorflow/bert_en_uncased_preprocess/3',\n",
        "    'small_bert/bert_en_uncased_L-12_H-256_A-4':\n",
        "        'https://tfhub.dev/tensorflow/bert_en_uncased_preprocess/3',\n",
        "    'small_bert/bert_en_uncased_L-12_H-512_A-8':\n",
        "        'https://tfhub.dev/tensorflow/bert_en_uncased_preprocess/3',\n",
        "    'small_bert/bert_en_uncased_L-12_H-768_A-12':\n",
        "        'https://tfhub.dev/tensorflow/bert_en_uncased_preprocess/3',\n",
        "    'bert_multi_cased_L-12_H-768_A-12':\n",
        "        'https://tfhub.dev/tensorflow/bert_multi_cased_preprocess/3',\n",
        "    'albert_en_base':\n",
        "        'https://tfhub.dev/tensorflow/albert_en_preprocess/3',\n",
        "    'electra_small':\n",
        "        'https://tfhub.dev/tensorflow/bert_en_uncased_preprocess/3',\n",
        "    'electra_base':\n",
        "        'https://tfhub.dev/tensorflow/bert_en_uncased_preprocess/3',\n",
        "    'experts_pubmed':\n",
        "        'https://tfhub.dev/tensorflow/bert_en_uncased_preprocess/3',\n",
        "    'experts_wiki_books':\n",
        "        'https://tfhub.dev/tensorflow/bert_en_uncased_preprocess/3',\n",
        "    'talking-heads_base':\n",
        "        'https://tfhub.dev/tensorflow/bert_en_uncased_preprocess/3',\n",
        "}\n",
        "\n",
        "tfhub_handle_encoder = map_name_to_handle[bert_model_name]\n",
        "tfhub_handle_preprocess = map_model_to_preprocess[bert_model_name]"
      ]
    },
    {
      "cell_type": "code",
      "execution_count": 10,
      "metadata": {
        "id": "Obzi7rZuMoPs"
      },
      "outputs": [],
      "source": [
        "\n",
        "def build_classifier_model(encoder, processer, epochs_set, initial_learning_rate):\n",
        "    # Definición de la entrada del modelo\n",
        "    text_input = tf.keras.layers.Input(\n",
        "        shape=(),\n",
        "        dtype=tf.string,\n",
        "        name='text'\n",
        "    )\n",
        "    # Definición del preprocesador para bert\n",
        "    preprocessing_layer = hub.KerasLayer(\n",
        "        processer,\n",
        "        name='preprocessing'\n",
        "    )\n",
        "    encoder_inputs = preprocessing_layer(text_input)\n",
        "\n",
        "    # Definición del Modelo Bert para codificar la información.\n",
        "    encoder = hub.KerasLayer(\n",
        "        encoder,\n",
        "        trainable=True,\n",
        "        name='BERT_encoder'\n",
        "    )\n",
        "    outputs = encoder(encoder_inputs)\n",
        "   \n",
        "    # Seleccionamos la representación del documento entero.\n",
        "    net = outputs['pooled_output']\n",
        "   \n",
        "    # Definimos la arquitectura del modelo de salida ajustada a la tarea\n",
        "    net = tf.keras.layers.Dropout(0.5)(net)\n",
        "    net = tf.keras.layers.Dense(units = 384, activation='relu')(net)\n",
        "    net = tf.keras.layers.Dense(units = 192, activation='relu')(net)\n",
        "    net = tf.keras.layers.Dense(units = 96, activation='relu')(net)\n",
        "    net = tf.keras.layers.Dense(units = 48, activation='relu')(net)\n",
        "    net = tf.keras.layers.Dense(units = 24, activation='relu')(net)\n",
        "    net = tf.keras.layers.Dense(units = 12, activation='relu')(net)\n",
        "    net = tf.keras.layers.Dense(units = 6, activation='relu')(net)  \n",
        "    net = tf.keras.layers.Dense(units = 3, activation='sigmoid', name='classifier')(net)\n",
        "    \n",
        "    classifier_model = tf.keras.Model(text_input, net)\n",
        "    \n",
        "    # Definición del optimizador para el problema\n",
        "    epochs = epochs_set\n",
        "    steps_per_epoch = df_train.shape[0]\n",
        "    num_train_steps = steps_per_epoch * epochs\n",
        "    num_warmup_steps = int(0.1*num_train_steps)\n",
        "   \n",
        "    optimizer = optimization.create_optimizer(\n",
        "        init_lr=initial_learning_rate,\n",
        "        num_train_steps=num_train_steps,\n",
        "        num_warmup_steps=num_warmup_steps,\n",
        "        optimizer_type='adamw'\n",
        "      )\n",
        "    # Compilación del modelo\n",
        "    classifier_model.compile(\n",
        "        optimizer=optimizer,\n",
        "        loss=\"binary_crossentropy\",\n",
        "        metrics=[\"accuracy\"]\n",
        "      )\n",
        "\n",
        "    return classifier_model "
      ]
    },
    {
      "cell_type": "markdown",
      "metadata": {
        "id": "UcrsdUx6eCSX"
      },
      "source": [
        "Una vez definido el modelo vamos a contruirlo realizando la llamada a la función anterior."
      ]
    },
    {
      "cell_type": "code",
      "execution_count": 11,
      "metadata": {
        "colab": {
          "base_uri": "https://localhost:8080/"
        },
        "id": "XdQIyl0IMy0Y",
        "outputId": "67c3d459-fe20-4cfc-b68f-a3af711570a4",
        "tags": []
      },
      "outputs": [
        {
          "output_type": "stream",
          "name": "stdout",
          "text": [
            "Model: \"model\"\n",
            "__________________________________________________________________________________________________\n",
            " Layer (type)                   Output Shape         Param #     Connected to                     \n",
            "==================================================================================================\n",
            " text (InputLayer)              [(None,)]            0           []                               \n",
            "                                                                                                  \n",
            " preprocessing (KerasLayer)     {'input_word_ids':   0           ['text[0][0]']                   \n",
            "                                (None, 128),                                                      \n",
            "                                 'input_mask': (Non                                               \n",
            "                                e, 128),                                                          \n",
            "                                 'input_type_ids':                                                \n",
            "                                (None, 128)}                                                      \n",
            "                                                                                                  \n",
            " BERT_encoder (KerasLayer)      {'pooled_output': (  109482241   ['preprocessing[0][0]',          \n",
            "                                None, 768),                       'preprocessing[0][1]',          \n",
            "                                 'sequence_output':               'preprocessing[0][2]']          \n",
            "                                 (None, 128, 768),                                                \n",
            "                                 'encoder_outputs':                                               \n",
            "                                 [(None, 128, 768),                                               \n",
            "                                 (None, 128, 768),                                                \n",
            "                                 (None, 128, 768),                                                \n",
            "                                 (None, 128, 768),                                                \n",
            "                                 (None, 128, 768),                                                \n",
            "                                 (None, 128, 768),                                                \n",
            "                                 (None, 128, 768),                                                \n",
            "                                 (None, 128, 768),                                                \n",
            "                                 (None, 128, 768),                                                \n",
            "                                 (None, 128, 768),                                                \n",
            "                                 (None, 128, 768),                                                \n",
            "                                 (None, 128, 768)],                                               \n",
            "                                 'default': (None,                                                \n",
            "                                768)}                                                             \n",
            "                                                                                                  \n",
            " dropout (Dropout)              (None, 768)          0           ['BERT_encoder[0][13]']          \n",
            "                                                                                                  \n",
            " dense (Dense)                  (None, 384)          295296      ['dropout[0][0]']                \n",
            "                                                                                                  \n",
            " dense_1 (Dense)                (None, 192)          73920       ['dense[0][0]']                  \n",
            "                                                                                                  \n",
            " dense_2 (Dense)                (None, 96)           18528       ['dense_1[0][0]']                \n",
            "                                                                                                  \n",
            " dense_3 (Dense)                (None, 48)           4656        ['dense_2[0][0]']                \n",
            "                                                                                                  \n",
            " dense_4 (Dense)                (None, 24)           1176        ['dense_3[0][0]']                \n",
            "                                                                                                  \n",
            " dense_5 (Dense)                (None, 12)           300         ['dense_4[0][0]']                \n",
            "                                                                                                  \n",
            " dense_6 (Dense)                (None, 6)            78          ['dense_5[0][0]']                \n",
            "                                                                                                  \n",
            " classifier (Dense)             (None, 3)            21          ['dense_6[0][0]']                \n",
            "                                                                                                  \n",
            "==================================================================================================\n",
            "Total params: 109,876,216\n",
            "Trainable params: 109,876,215\n",
            "Non-trainable params: 1\n",
            "__________________________________________________________________________________________________\n"
          ]
        }
      ],
      "source": [
        "num_epochs = 50\n",
        "\n",
        "# Modelo para Environment\n",
        "model = build_classifier_model(\n",
        "    tfhub_handle_encoder,\n",
        "    tfhub_handle_preprocess,\n",
        "    num_epochs,\n",
        "    5e-5\n",
        ")\n",
        "model.summary()"
      ]
    },
    {
      "cell_type": "code",
      "execution_count": null,
      "metadata": {
        "colab": {
          "base_uri": "https://localhost:8080/"
        },
        "id": "Oz_T4lM6eJLz",
        "outputId": "b4683c21-38f7-445b-8187-08fa49d1f3a3",
        "tags": []
      },
      "outputs": [
        {
          "output_type": "stream",
          "name": "stdout",
          "text": [
            "Epoch 1/50\n",
            "337/337 [==============================] - 219s 599ms/step - loss: 0.7381 - accuracy: 0.3427 - val_loss: 0.7106 - val_accuracy: 0.3409\n",
            "Epoch 2/50\n",
            "337/337 [==============================] - 194s 576ms/step - loss: 0.7134 - accuracy: 0.3491 - val_loss: 0.6987 - val_accuracy: 0.3350\n",
            "Epoch 3/50\n",
            "337/337 [==============================] - 193s 573ms/step - loss: 0.7051 - accuracy: 0.3478 - val_loss: 0.6951 - val_accuracy: 0.3166\n",
            "Epoch 4/50\n",
            "337/337 [==============================] - 193s 573ms/step - loss: 0.6984 - accuracy: 0.3401 - val_loss: 0.6940 - val_accuracy: 0.3208\n",
            "Epoch 5/50\n",
            "337/337 [==============================] - 193s 574ms/step - loss: 0.6964 - accuracy: 0.3425 - val_loss: 0.6929 - val_accuracy: 0.3141\n",
            "Epoch 6/50\n",
            "337/337 [==============================] - 194s 574ms/step - loss: 0.6932 - accuracy: 0.3392 - val_loss: 0.6900 - val_accuracy: 0.3158\n",
            "Epoch 7/50\n",
            "337/337 [==============================] - 193s 574ms/step - loss: 0.6878 - accuracy: 0.3328 - val_loss: 0.6847 - val_accuracy: 0.2414\n",
            "Epoch 8/50\n",
            "337/337 [==============================] - 193s 573ms/step - loss: 0.6790 - accuracy: 0.3121 - val_loss: 0.6781 - val_accuracy: 0.2815\n",
            "Epoch 9/50\n",
            "337/337 [==============================] - 193s 573ms/step - loss: 0.6686 - accuracy: 0.2960 - val_loss: 0.6691 - val_accuracy: 0.2590\n",
            "Epoch 10/50\n",
            "337/337 [==============================] - 193s 572ms/step - loss: 0.6571 - accuracy: 0.2901 - val_loss: 0.6639 - val_accuracy: 0.2607\n",
            "Epoch 11/50\n",
            "337/337 [==============================] - 193s 572ms/step - loss: 0.6455 - accuracy: 0.2915 - val_loss: 0.6648 - val_accuracy: 0.2690\n",
            "Epoch 12/50\n",
            "337/337 [==============================] - 193s 572ms/step - loss: 0.6309 - accuracy: 0.2968 - val_loss: 0.6632 - val_accuracy: 0.2498\n",
            "Epoch 13/50\n",
            "337/337 [==============================] - 193s 572ms/step - loss: 0.6164 - accuracy: 0.3061 - val_loss: 0.6640 - val_accuracy: 0.2506\n",
            "Epoch 14/50\n",
            "337/337 [==============================] - 193s 573ms/step - loss: 0.6019 - accuracy: 0.3315 - val_loss: 0.6748 - val_accuracy: 0.2865\n",
            "Epoch 15/50\n",
            "337/337 [==============================] - 193s 572ms/step - loss: 0.5874 - accuracy: 0.3494 - val_loss: 0.6843 - val_accuracy: 0.3166\n",
            "Epoch 16/50\n",
            "337/337 [==============================] - 200s 593ms/step - loss: 0.5716 - accuracy: 0.3767 - val_loss: 0.7217 - val_accuracy: 0.3743\n",
            "Epoch 17/50\n",
            "337/337 [==============================] - 201s 595ms/step - loss: 0.5576 - accuracy: 0.3925 - val_loss: 0.7354 - val_accuracy: 0.4211\n",
            "Epoch 18/50\n",
            "337/337 [==============================] - 199s 591ms/step - loss: 0.5416 - accuracy: 0.4023 - val_loss: 0.7050 - val_accuracy: 0.4244\n",
            "Epoch 19/50\n",
            "337/337 [==============================] - 200s 595ms/step - loss: 0.5292 - accuracy: 0.4204 - val_loss: 0.7420 - val_accuracy: 0.4545\n",
            "Epoch 20/50\n",
            "337/337 [==============================] - 193s 574ms/step - loss: 0.5175 - accuracy: 0.4458 - val_loss: 0.9005 - val_accuracy: 0.4495\n",
            "Epoch 21/50\n",
            "337/337 [==============================] - 193s 573ms/step - loss: 0.5093 - accuracy: 0.4623 - val_loss: 0.7026 - val_accuracy: 0.4227\n",
            "Epoch 22/50\n",
            "337/337 [==============================] - 193s 573ms/step - loss: 0.4980 - accuracy: 0.4471 - val_loss: 0.7875 - val_accuracy: 0.4269\n",
            "Epoch 23/50\n",
            "337/337 [==============================] - 193s 572ms/step - loss: 0.4866 - accuracy: 0.3452 - val_loss: 0.7834 - val_accuracy: 0.3150\n",
            "Epoch 24/50\n",
            "337/337 [==============================] - 193s 573ms/step - loss: 0.4736 - accuracy: 0.2784 - val_loss: 0.8684 - val_accuracy: 0.3233\n",
            "Epoch 25/50\n",
            "337/337 [==============================] - 193s 573ms/step - loss: 0.4643 - accuracy: 0.2823 - val_loss: 0.7824 - val_accuracy: 0.2598\n",
            "Epoch 26/50\n",
            "337/337 [==============================] - 193s 573ms/step - loss: 0.4530 - accuracy: 0.3021 - val_loss: 0.8230 - val_accuracy: 0.3258\n",
            "Epoch 27/50\n",
            "337/337 [==============================] - 193s 573ms/step - loss: 0.4394 - accuracy: 0.3163 - val_loss: 0.7391 - val_accuracy: 0.3559\n",
            "Epoch 28/50\n",
            "337/337 [==============================] - 193s 573ms/step - loss: 0.4276 - accuracy: 0.3386 - val_loss: 0.7981 - val_accuracy: 0.3484\n",
            "Epoch 29/50\n",
            "337/337 [==============================] - 194s 575ms/step - loss: 0.4136 - accuracy: 0.3686 - val_loss: 0.7690 - val_accuracy: 0.3826\n",
            "Epoch 30/50\n",
            "337/337 [==============================] - 194s 574ms/step - loss: 0.4039 - accuracy: 0.3868 - val_loss: 0.7542 - val_accuracy: 0.3784\n",
            "Epoch 31/50\n",
            "337/337 [==============================] - 193s 573ms/step - loss: 0.3940 - accuracy: 0.4096 - val_loss: 0.7634 - val_accuracy: 0.4119\n",
            "Epoch 32/50\n",
            "337/337 [==============================] - 193s 573ms/step - loss: 0.3836 - accuracy: 0.4331 - val_loss: 0.8360 - val_accuracy: 0.4027\n",
            "Epoch 33/50\n",
            "337/337 [==============================] - 193s 573ms/step - loss: 0.3776 - accuracy: 0.4448 - val_loss: 0.7859 - val_accuracy: 0.4511\n",
            "Epoch 34/50\n",
            "337/337 [==============================] - 193s 573ms/step - loss: 0.3699 - accuracy: 0.4556 - val_loss: 0.9062 - val_accuracy: 0.4102\n",
            "Epoch 35/50\n",
            "337/337 [==============================] - 193s 573ms/step - loss: 0.3649 - accuracy: 0.4647 - val_loss: 1.0712 - val_accuracy: 0.3492\n",
            "Epoch 36/50\n",
            "337/337 [==============================] - 199s 590ms/step - loss: 0.3570 - accuracy: 0.4724 - val_loss: 0.8065 - val_accuracy: 0.4612\n",
            "Epoch 37/50\n",
            "337/337 [==============================] - 199s 590ms/step - loss: 0.3480 - accuracy: 0.4764 - val_loss: 0.9114 - val_accuracy: 0.4637\n",
            "Epoch 38/50\n",
            "337/337 [==============================] - 199s 591ms/step - loss: 0.3364 - accuracy: 0.4867 - val_loss: 0.7775 - val_accuracy: 0.4996\n",
            "Epoch 39/50\n",
            "337/337 [==============================] - 193s 573ms/step - loss: 0.3214 - accuracy: 0.5072 - val_loss: 0.9002 - val_accuracy: 0.4695\n",
            "Epoch 40/50\n",
            "337/337 [==============================] - 193s 572ms/step - loss: 0.2951 - accuracy: 0.5258 - val_loss: 0.9265 - val_accuracy: 0.4871\n",
            "Epoch 41/50\n",
            "337/337 [==============================] - 200s 593ms/step - loss: 0.2157 - accuracy: 0.6017 - val_loss: 0.6525 - val_accuracy: 0.5489\n",
            "Epoch 42/50\n",
            "337/337 [==============================] - 193s 573ms/step - loss: 0.1326 - accuracy: 0.6211 - val_loss: 0.7015 - val_accuracy: 0.5363\n",
            "Epoch 43/50\n",
            "337/337 [==============================] - 198s 589ms/step - loss: 0.1147 - accuracy: 0.6190 - val_loss: 0.6080 - val_accuracy: 0.5631\n",
            "Epoch 44/50\n",
            "337/337 [==============================] - 194s 574ms/step - loss: 0.1050 - accuracy: 0.6206 - val_loss: 0.7173 - val_accuracy: 0.5522\n",
            "Epoch 45/50\n",
            "337/337 [==============================] - 200s 594ms/step - loss: 0.0960 - accuracy: 0.6247 - val_loss: 0.6529 - val_accuracy: 0.5673\n",
            "Epoch 46/50\n",
            "337/337 [==============================] - 194s 575ms/step - loss: 0.0906 - accuracy: 0.6240 - val_loss: 0.6733 - val_accuracy: 0.5530\n",
            "Epoch 47/50\n",
            "337/337 [==============================] - 193s 572ms/step - loss: 0.0804 - accuracy: 0.6277 - val_loss: 0.6113 - val_accuracy: 0.5572\n",
            "Epoch 48/50\n",
            "337/337 [==============================] - 193s 574ms/step - loss: 0.0735 - accuracy: 0.6304 - val_loss: 0.6454 - val_accuracy: 0.5464\n",
            "Epoch 49/50\n",
            "337/337 [==============================] - 198s 589ms/step - loss: 0.0698 - accuracy: 0.6319 - val_loss: 0.6470 - val_accuracy: 0.5890\n",
            "Epoch 50/50\n",
            "249/337 [=====================>........] - ETA: 48s - loss: 0.0614 - accuracy: 0.6363"
          ]
        }
      ],
      "source": [
        "# Entrenamiento Fine Tuning\n",
        "checkpoint_filepath = '/content/drive/MyDrive/ESG_BERT_Train/ESG_Multilabel_Train/RAW_Content/check'\n",
        "model_checkpoint_callback = tf.keras.callbacks.ModelCheckpoint(\n",
        "    filepath=checkpoint_filepath,\n",
        "    save_weights_only=True,\n",
        "    monitor='val_accuracy',\n",
        "    mode='max',\n",
        "    save_best_only=True)\n",
        "\n",
        "history = model.fit(x=X_train,\n",
        "                    y=y_train,\n",
        "                    validation_split=0.1,\n",
        "                    batch_size=32,\n",
        "                    epochs=num_epochs, \n",
        "                    callbacks=[model_checkpoint_callback]\n",
        "                    )"
      ]
    },
    {
      "cell_type": "code",
      "source": [
        "import matplotlib.pyplot as plt\n",
        "\n",
        "# summarize history for accuracy\n",
        "plt.plot(history.history['accuracy'])\n",
        "plt.plot(history.history['val_accuracy'])\n",
        "plt.title('model accuracy')\n",
        "plt.ylabel('accuracy')\n",
        "plt.xlabel('epoch')\n",
        "plt.legend(['Train', 'Validation'], loc='upper left')\n",
        "plt.show()\n",
        "\n",
        "# summarize history for loss\n",
        "plt.plot(history.history['loss'])\n",
        "plt.plot(history.history['val_loss'])\n",
        "plt.title('model loss')\n",
        "plt.ylabel('loss')\n",
        "plt.xlabel('epoch')\n",
        "plt.legend(['Train', 'Validation'], loc='upper left')\n",
        "plt.show()"
      ],
      "metadata": {
        "id": "LrS-R_ORE0_J",
        "colab": {
          "base_uri": "https://localhost:8080/",
          "height": 573
        },
        "outputId": "13616e9d-96ba-41fc-9726-616b8e7d97e6"
      },
      "execution_count": null,
      "outputs": [
        {
          "output_type": "display_data",
          "data": {
            "text/plain": [
              "<Figure size 432x288 with 1 Axes>"
            ],
            "image/png": "[encoded data removed]"
          },
          "metadata": {
            "needs_background": "light"
          }
        },
        {
          "output_type": "display_data",
          "data": {
            "text/plain": [
              "<Figure size 432x288 with 1 Axes>"
            ],
            "image/png": "[encoded data removed]"
          },
          "metadata": {
            "needs_background": "light"
          }
        }
      ]
    },
    {
      "cell_type": "markdown",
      "source": [
        "function ClickConnect(){\n",
        "console.log(\"Working\"); \n",
        "document.querySelector(\"colab-toolbar-button#connect\").click() \n",
        "}\n",
        "setInterval(ClickConnect,60000)"
      ],
      "metadata": {
        "id": "euf-_fcsvxTF"
      }
    },
    {
      "cell_type": "code",
      "execution_count": 27,
      "metadata": {
        "id": "MDc231otM7Lj",
        "colab": {
          "base_uri": "https://localhost:8080/"
        },
        "outputId": "f5f24a8f-8153-4173-87e3-e35390800d55"
      },
      "outputs": [
        {
          "output_type": "stream",
          "name": "stdout",
          "text": [
            "42/42 [==============================] - 9s 225ms/step\n"
          ]
        }
      ],
      "source": [
        "preds_proba = model.predict(X_test)\n",
        "preds = preds_proba.round().astype(int).tolist()\n",
        "#preds = [np.argmax(i) for i in preds]"
      ]
    },
    {
      "cell_type": "code",
      "execution_count": 29,
      "metadata": {
        "id": "YdsQflaRM7Lk"
      },
      "outputs": [],
      "source": [
        "preds_str = [str(i) for i in preds]\n",
        "y_test_str = [str(i) for i in y_test.values.tolist()]"
      ]
    },
    {
      "cell_type": "code",
      "execution_count": 30,
      "metadata": {
        "id": "86XBGAqhM7Ll"
      },
      "outputs": [],
      "source": [
        "data_tuples = list(zip(preds_str , y_test_str))\n",
        "dataset_test = pd.DataFrame(data_tuples,columns=[\"pred\",\"real\"])"
      ]
    },
    {
      "cell_type": "code",
      "execution_count": 31,
      "metadata": {
        "id": "7NDxZAnoM7Ll",
        "colab": {
          "base_uri": "https://localhost:8080/",
          "height": 587
        },
        "outputId": "9ab68298-222d-4c8b-ef6b-ca189b0e5332"
      },
      "outputs": [
        {
          "output_type": "execute_result",
          "data": {
            "text/html": [
              "\n",
              "<div id=\"altair-viz-2dfa5b259bb54f41b21a959662494d3d\"></div>\n",
              "<script type=\"text/javascript\">\n",
              "  var VEGA_DEBUG = (typeof VEGA_DEBUG == \"undefined\") ? {} : VEGA_DEBUG;\n",
              "  (function(spec, embedOpt){\n",
              "    let outputDiv = document.currentScript.previousElementSibling;\n",
              "    if (outputDiv.id !== \"altair-viz-2dfa5b259bb54f41b21a959662494d3d\") {\n",
              "      outputDiv = document.getElementById(\"altair-viz-2dfa5b259bb54f41b21a959662494d3d\");\n",
              "    }\n",
              "    const paths = {\n",
              "      \"vega\": \"https://cdn.jsdelivr.net/npm//vega@5?noext\",\n",
              "      \"vega-lib\": \"https://cdn.jsdelivr.net/npm//vega-lib?noext\",\n",
              "      \"vega-lite\": \"https://cdn.jsdelivr.net/npm//vega-lite@4.17.0?noext\",\n",
              "      \"vega-embed\": \"https://cdn.jsdelivr.net/npm//vega-embed@6?noext\",\n",
              "    };\n",
              "\n",
              "    function maybeLoadScript(lib, version) {\n",
              "      var key = `${lib.replace(\"-\", \"\")}_version`;\n",
              "      return (VEGA_DEBUG[key] == version) ?\n",
              "        Promise.resolve(paths[lib]) :\n",
              "        new Promise(function(resolve, reject) {\n",
              "          var s = document.createElement('script');\n",
              "          document.getElementsByTagName(\"head\")[0].appendChild(s);\n",
              "          s.async = true;\n",
              "          s.onload = () => {\n",
              "            VEGA_DEBUG[key] = version;\n",
              "            return resolve(paths[lib]);\n",
              "          };\n",
              "          s.onerror = () => reject(`Error loading script: ${paths[lib]}`);\n",
              "          s.src = paths[lib];\n",
              "        });\n",
              "    }\n",
              "\n",
              "    function showError(err) {\n",
              "      outputDiv.innerHTML = `<div class=\"error\" style=\"color:red;\">${err}</div>`;\n",
              "      throw err;\n",
              "    }\n",
              "\n",
              "    function displayChart(vegaEmbed) {\n",
              "      vegaEmbed(outputDiv, spec, embedOpt)\n",
              "        .catch(err => showError(`Javascript Error: ${err.message}<br>This usually means there's a typo in your chart specification. See the javascript console for the full traceback.`));\n",
              "    }\n",
              "\n",
              "    if(typeof define === \"function\" && define.amd) {\n",
              "      requirejs.config({paths});\n",
              "      require([\"vega-embed\"], displayChart, err => showError(`Error loading script: ${err.message}`));\n",
              "    } else {\n",
              "      maybeLoadScript(\"vega\", \"5\")\n",
              "        .then(() => maybeLoadScript(\"vega-lite\", \"4.17.0\"))\n",
              "        .then(() => maybeLoadScript(\"vega-embed\", \"6\"))\n",
              "        .catch(showError)\n",
              "        .then(() => displayChart(vegaEmbed));\n",
              "    }\n",
              "  })({\"config\": {\"view\": {\"continuousWidth\": 400, \"continuousHeight\": 300}}, \"layer\": [{\"mark\": \"rect\", \"encoding\": {\"color\": {\"field\": \"count\", \"legend\": {\"direction\": \"vertical\"}, \"scale\": {\"scheme\": \"viridis\"}, \"type\": \"quantitative\"}, \"x\": {\"field\": \"pred\", \"scale\": {\"paddingInner\": 0}, \"type\": \"ordinal\"}, \"y\": {\"field\": \"real\", \"scale\": {\"paddingInner\": 0}, \"type\": \"ordinal\"}}, \"height\": 500, \"transform\": [{\"aggregate\": [{\"op\": \"count\", \"as\": \"count\"}], \"groupby\": [\"pred\", \"real\"]}], \"width\": 500}, {\"mark\": {\"type\": \"text\", \"baseline\": \"middle\"}, \"encoding\": {\"color\": {\"condition\": {\"value\": \"black\", \"test\": \"(datum.count > 100)\"}, \"value\": \"white\"}, \"text\": {\"field\": \"count\", \"type\": \"quantitative\"}, \"x\": {\"field\": \"pred\", \"scale\": {\"paddingInner\": 0}, \"type\": \"ordinal\"}, \"y\": {\"field\": \"real\", \"scale\": {\"paddingInner\": 0}, \"type\": \"ordinal\"}}, \"height\": 500, \"transform\": [{\"aggregate\": [{\"op\": \"count\", \"as\": \"count\"}], \"groupby\": [\"pred\", \"real\"]}], \"width\": 500}], \"data\": {\"name\": \"data-4d8febc6189dd87eb7911d2d4b82a4c4\"}, \"$schema\": \"https://vega.github.io/schema/vega-lite/v4.17.0.json\", \"datasets\": {\"data-4d8febc6189dd87eb7911d2d4b82a4c4\": [{\"pred\": \"[0, 1, 0]\", \"real\": \"[0, 1, 0]\"}, {\"pred\": \"[0, 0, 0]\", \"real\": \"[0, 0, 0]\"}, {\"pred\": \"[0, 0, 0]\", \"real\": \"[0, 0, 0]\"}, {\"pred\": \"[0, 1, 0]\", \"real\": \"[0, 1, 0]\"}, {\"pred\": \"[0, 0, 0]\", \"real\": \"[0, 0, 0]\"}, {\"pred\": \"[0, 1, 0]\", \"real\": \"[0, 1, 0]\"}, {\"pred\": \"[0, 1, 0]\", \"real\": \"[0, 1, 0]\"}, {\"pred\": \"[0, 0, 0]\", \"real\": \"[0, 0, 0]\"}, {\"pred\": \"[0, 0, 0]\", \"real\": \"[0, 0, 0]\"}, {\"pred\": \"[0, 1, 0]\", \"real\": \"[0, 1, 1]\"}, {\"pred\": \"[0, 1, 0]\", \"real\": \"[0, 1, 1]\"}, {\"pred\": \"[0, 1, 1]\", \"real\": \"[0, 1, 1]\"}, {\"pred\": \"[0, 1, 0]\", \"real\": \"[0, 1, 0]\"}, {\"pred\": \"[0, 1, 0]\", \"real\": \"[0, 1, 0]\"}, {\"pred\": \"[0, 1, 0]\", \"real\": \"[0, 1, 1]\"}, {\"pred\": \"[0, 1, 0]\", \"real\": \"[0, 1, 0]\"}, {\"pred\": \"[0, 1, 0]\", \"real\": \"[0, 1, 0]\"}, {\"pred\": \"[0, 1, 0]\", \"real\": \"[0, 1, 0]\"}, {\"pred\": \"[0, 1, 0]\", \"real\": \"[0, 1, 0]\"}, {\"pred\": \"[0, 1, 0]\", \"real\": \"[0, 1, 0]\"}, {\"pred\": \"[0, 1, 0]\", \"real\": \"[0, 1, 0]\"}, {\"pred\": \"[0, 0, 0]\", \"real\": \"[0, 0, 0]\"}, {\"pred\": \"[0, 1, 0]\", \"real\": \"[0, 0, 0]\"}, {\"pred\": \"[0, 1, 0]\", \"real\": \"[0, 1, 1]\"}, {\"pred\": \"[0, 0, 0]\", \"real\": \"[0, 0, 0]\"}, {\"pred\": \"[0, 1, 1]\", \"real\": \"[0, 1, 1]\"}, {\"pred\": \"[0, 0, 0]\", \"real\": \"[0, 0, 0]\"}, {\"pred\": \"[0, 0, 0]\", \"real\": \"[0, 0, 0]\"}, {\"pred\": \"[0, 1, 0]\", \"real\": \"[0, 1, 0]\"}, {\"pred\": \"[0, 0, 1]\", \"real\": \"[0, 1, 1]\"}, {\"pred\": \"[0, 1, 0]\", \"real\": \"[0, 1, 0]\"}, {\"pred\": \"[0, 0, 0]\", \"real\": \"[0, 0, 0]\"}, {\"pred\": \"[0, 0, 0]\", \"real\": \"[0, 0, 0]\"}, {\"pred\": \"[0, 1, 0]\", \"real\": \"[0, 1, 0]\"}, {\"pred\": \"[1, 1, 0]\", \"real\": \"[0, 1, 1]\"}, {\"pred\": \"[0, 1, 0]\", \"real\": \"[0, 1, 1]\"}, {\"pred\": \"[1, 1, 1]\", \"real\": \"[0, 1, 0]\"}, {\"pred\": \"[0, 0, 0]\", \"real\": \"[0, 1, 0]\"}, {\"pred\": \"[1, 0, 0]\", \"real\": \"[0, 1, 0]\"}, {\"pred\": \"[0, 1, 0]\", \"real\": \"[0, 1, 0]\"}, {\"pred\": \"[0, 1, 1]\", \"real\": \"[0, 1, 1]\"}, {\"pred\": \"[0, 0, 0]\", \"real\": \"[0, 0, 0]\"}, {\"pred\": \"[0, 0, 0]\", \"real\": \"[0, 0, 0]\"}, {\"pred\": \"[0, 0, 0]\", \"real\": \"[0, 1, 0]\"}, {\"pred\": \"[0, 1, 0]\", \"real\": \"[0, 1, 0]\"}, {\"pred\": \"[0, 0, 0]\", \"real\": \"[0, 0, 0]\"}, {\"pred\": \"[0, 1, 0]\", \"real\": \"[0, 1, 1]\"}, {\"pred\": \"[0, 0, 0]\", \"real\": \"[0, 0, 0]\"}, {\"pred\": \"[0, 0, 0]\", \"real\": \"[0, 0, 0]\"}, {\"pred\": \"[0, 1, 0]\", \"real\": \"[0, 1, 1]\"}, {\"pred\": \"[0, 1, 0]\", \"real\": \"[0, 1, 0]\"}, {\"pred\": \"[0, 0, 1]\", \"real\": \"[0, 0, 1]\"}, {\"pred\": \"[1, 0, 0]\", \"real\": \"[0, 0, 0]\"}, {\"pred\": \"[0, 1, 0]\", \"real\": \"[0, 1, 1]\"}, {\"pred\": \"[0, 1, 0]\", \"real\": \"[0, 1, 0]\"}, {\"pred\": \"[0, 1, 0]\", \"real\": \"[0, 1, 1]\"}, {\"pred\": \"[0, 1, 0]\", \"real\": \"[0, 1, 0]\"}, {\"pred\": \"[0, 0, 1]\", \"real\": \"[0, 1, 1]\"}, {\"pred\": \"[0, 0, 0]\", \"real\": \"[0, 0, 0]\"}, {\"pred\": \"[0, 1, 0]\", \"real\": \"[0, 1, 0]\"}, {\"pred\": \"[0, 0, 0]\", \"real\": \"[0, 0, 0]\"}, {\"pred\": \"[0, 0, 0]\", \"real\": \"[0, 0, 0]\"}, {\"pred\": \"[0, 1, 0]\", \"real\": \"[0, 0, 0]\"}, {\"pred\": \"[0, 1, 0]\", \"real\": \"[0, 1, 0]\"}, {\"pred\": \"[0, 1, 0]\", \"real\": \"[0, 1, 1]\"}, {\"pred\": \"[0, 1, 0]\", \"real\": \"[0, 0, 0]\"}, {\"pred\": \"[0, 1, 0]\", \"real\": \"[0, 0, 0]\"}, {\"pred\": \"[0, 0, 0]\", \"real\": \"[0, 1, 0]\"}, {\"pred\": \"[0, 0, 0]\", \"real\": \"[0, 0, 0]\"}, {\"pred\": \"[0, 1, 0]\", \"real\": \"[0, 0, 0]\"}, {\"pred\": \"[0, 0, 0]\", \"real\": \"[0, 0, 0]\"}, {\"pred\": \"[0, 0, 0]\", \"real\": \"[0, 0, 0]\"}, {\"pred\": \"[0, 0, 0]\", \"real\": \"[0, 0, 0]\"}, {\"pred\": \"[0, 1, 0]\", \"real\": \"[0, 1, 0]\"}, {\"pred\": \"[1, 1, 1]\", \"real\": \"[1, 1, 1]\"}, {\"pred\": \"[0, 1, 0]\", \"real\": \"[0, 1, 0]\"}, {\"pred\": \"[0, 1, 0]\", \"real\": \"[1, 1, 0]\"}, {\"pred\": \"[0, 1, 0]\", \"real\": \"[0, 1, 0]\"}, {\"pred\": \"[0, 1, 0]\", \"real\": \"[0, 1, 0]\"}, {\"pred\": \"[0, 0, 0]\", \"real\": \"[0, 0, 0]\"}, {\"pred\": \"[0, 0, 0]\", \"real\": \"[0, 0, 0]\"}, {\"pred\": \"[0, 0, 1]\", \"real\": \"[0, 0, 0]\"}, {\"pred\": \"[0, 0, 1]\", \"real\": \"[0, 0, 0]\"}, {\"pred\": \"[0, 1, 0]\", \"real\": \"[0, 1, 0]\"}, {\"pred\": \"[0, 0, 0]\", \"real\": \"[0, 1, 0]\"}, {\"pred\": \"[0, 0, 0]\", \"real\": \"[0, 0, 0]\"}, {\"pred\": \"[0, 1, 0]\", \"real\": \"[0, 1, 0]\"}, {\"pred\": \"[0, 0, 0]\", \"real\": \"[0, 1, 0]\"}, {\"pred\": \"[0, 0, 0]\", \"real\": \"[0, 0, 0]\"}, {\"pred\": \"[0, 1, 1]\", \"real\": \"[0, 1, 0]\"}, {\"pred\": \"[0, 0, 0]\", \"real\": \"[0, 1, 1]\"}, {\"pred\": \"[0, 0, 0]\", \"real\": \"[0, 1, 0]\"}, {\"pred\": \"[0, 0, 0]\", \"real\": \"[0, 1, 0]\"}, {\"pred\": \"[0, 0, 0]\", \"real\": \"[0, 0, 0]\"}, {\"pred\": \"[0, 0, 0]\", \"real\": \"[0, 0, 0]\"}, {\"pred\": \"[0, 0, 0]\", \"real\": \"[0, 0, 0]\"}, {\"pred\": \"[0, 1, 0]\", \"real\": \"[0, 1, 0]\"}, {\"pred\": \"[0, 1, 0]\", \"real\": \"[0, 1, 0]\"}, {\"pred\": \"[0, 1, 1]\", \"real\": \"[0, 1, 1]\"}, {\"pred\": \"[0, 0, 0]\", \"real\": \"[0, 0, 0]\"}, {\"pred\": \"[0, 1, 0]\", \"real\": \"[0, 1, 0]\"}, {\"pred\": \"[0, 1, 0]\", \"real\": \"[0, 0, 0]\"}, {\"pred\": \"[1, 1, 1]\", \"real\": \"[0, 1, 0]\"}, {\"pred\": \"[0, 1, 0]\", \"real\": \"[0, 1, 0]\"}, {\"pred\": \"[0, 1, 0]\", \"real\": \"[0, 1, 0]\"}, {\"pred\": \"[0, 1, 0]\", \"real\": \"[0, 1, 0]\"}, {\"pred\": \"[0, 1, 0]\", \"real\": \"[0, 1, 0]\"}, {\"pred\": \"[0, 1, 0]\", \"real\": \"[0, 1, 1]\"}, {\"pred\": \"[0, 0, 0]\", \"real\": \"[0, 0, 0]\"}, {\"pred\": \"[0, 0, 0]\", \"real\": \"[0, 0, 1]\"}, {\"pred\": \"[0, 1, 0]\", \"real\": \"[0, 1, 0]\"}, {\"pred\": \"[0, 0, 1]\", \"real\": \"[0, 1, 1]\"}, {\"pred\": \"[0, 1, 0]\", \"real\": \"[1, 0, 0]\"}, {\"pred\": \"[0, 0, 0]\", \"real\": \"[0, 0, 0]\"}, {\"pred\": \"[0, 1, 0]\", \"real\": \"[0, 0, 0]\"}, {\"pred\": \"[0, 1, 1]\", \"real\": \"[0, 1, 0]\"}, {\"pred\": \"[0, 1, 0]\", \"real\": \"[0, 0, 0]\"}, {\"pred\": \"[0, 1, 0]\", \"real\": \"[0, 0, 0]\"}, {\"pred\": \"[0, 0, 1]\", \"real\": \"[0, 1, 1]\"}, {\"pred\": \"[0, 0, 1]\", \"real\": \"[0, 1, 1]\"}, {\"pred\": \"[0, 1, 0]\", \"real\": \"[0, 1, 0]\"}, {\"pred\": \"[0, 0, 0]\", \"real\": \"[0, 1, 0]\"}, {\"pred\": \"[0, 0, 0]\", \"real\": \"[0, 0, 0]\"}, {\"pred\": \"[0, 1, 0]\", \"real\": \"[0, 1, 1]\"}, {\"pred\": \"[0, 1, 0]\", \"real\": \"[0, 1, 0]\"}, {\"pred\": \"[0, 0, 0]\", \"real\": \"[0, 1, 0]\"}, {\"pred\": \"[0, 1, 1]\", \"real\": \"[0, 1, 0]\"}, {\"pred\": \"[0, 0, 0]\", \"real\": \"[0, 0, 0]\"}, {\"pred\": \"[0, 0, 0]\", \"real\": \"[0, 0, 1]\"}, {\"pred\": \"[0, 1, 0]\", \"real\": \"[0, 1, 0]\"}, {\"pred\": \"[0, 0, 0]\", \"real\": \"[0, 0, 0]\"}, {\"pred\": \"[0, 1, 0]\", \"real\": \"[0, 1, 0]\"}, {\"pred\": \"[0, 1, 0]\", \"real\": \"[0, 1, 0]\"}, {\"pred\": \"[0, 1, 0]\", \"real\": \"[0, 1, 0]\"}, {\"pred\": \"[0, 1, 0]\", \"real\": \"[0, 1, 0]\"}, {\"pred\": \"[0, 0, 0]\", \"real\": \"[0, 1, 0]\"}, {\"pred\": \"[0, 1, 0]\", \"real\": \"[0, 1, 0]\"}, {\"pred\": \"[0, 1, 0]\", \"real\": \"[0, 1, 1]\"}, {\"pred\": \"[0, 1, 0]\", \"real\": \"[0, 1, 0]\"}, {\"pred\": \"[0, 0, 0]\", \"real\": \"[0, 0, 0]\"}, {\"pred\": \"[0, 1, 0]\", \"real\": \"[0, 1, 0]\"}, {\"pred\": \"[0, 1, 0]\", \"real\": \"[0, 0, 0]\"}, {\"pred\": \"[0, 1, 0]\", \"real\": \"[0, 1, 1]\"}, {\"pred\": \"[1, 0, 1]\", \"real\": \"[1, 1, 1]\"}, {\"pred\": \"[0, 0, 0]\", \"real\": \"[0, 1, 0]\"}, {\"pred\": \"[0, 0, 0]\", \"real\": \"[0, 1, 1]\"}, {\"pred\": \"[0, 0, 1]\", \"real\": \"[0, 0, 1]\"}, {\"pred\": \"[0, 0, 0]\", \"real\": \"[0, 0, 0]\"}, {\"pred\": \"[0, 0, 0]\", \"real\": \"[0, 1, 0]\"}, {\"pred\": \"[0, 0, 1]\", \"real\": \"[0, 0, 0]\"}, {\"pred\": \"[0, 1, 0]\", \"real\": \"[0, 1, 0]\"}, {\"pred\": \"[0, 1, 0]\", \"real\": \"[0, 1, 0]\"}, {\"pred\": \"[0, 0, 1]\", \"real\": \"[0, 0, 0]\"}, {\"pred\": \"[0, 1, 0]\", \"real\": \"[0, 1, 0]\"}, {\"pred\": \"[0, 1, 0]\", \"real\": \"[0, 0, 1]\"}, {\"pred\": \"[0, 0, 0]\", \"real\": \"[0, 1, 0]\"}, {\"pred\": \"[0, 0, 0]\", \"real\": \"[0, 1, 0]\"}, {\"pred\": \"[0, 1, 0]\", \"real\": \"[0, 1, 1]\"}, {\"pred\": \"[0, 0, 0]\", \"real\": \"[0, 0, 0]\"}, {\"pred\": \"[0, 0, 0]\", \"real\": \"[0, 1, 1]\"}, {\"pred\": \"[0, 1, 0]\", \"real\": \"[0, 1, 1]\"}, {\"pred\": \"[0, 1, 0]\", \"real\": \"[0, 1, 0]\"}, {\"pred\": \"[0, 0, 0]\", \"real\": \"[0, 0, 0]\"}, {\"pred\": \"[0, 1, 0]\", \"real\": \"[0, 1, 0]\"}, {\"pred\": \"[0, 0, 0]\", \"real\": \"[0, 0, 0]\"}, {\"pred\": \"[0, 1, 0]\", \"real\": \"[0, 1, 0]\"}, {\"pred\": \"[0, 0, 0]\", \"real\": \"[0, 0, 0]\"}, {\"pred\": \"[0, 0, 0]\", \"real\": \"[0, 0, 0]\"}, {\"pred\": \"[0, 1, 0]\", \"real\": \"[0, 0, 0]\"}, {\"pred\": \"[0, 1, 0]\", \"real\": \"[0, 1, 0]\"}, {\"pred\": \"[0, 0, 0]\", \"real\": \"[0, 0, 0]\"}, {\"pred\": \"[1, 1, 0]\", \"real\": \"[1, 1, 1]\"}, {\"pred\": \"[0, 1, 0]\", \"real\": \"[0, 1, 0]\"}, {\"pred\": \"[0, 1, 1]\", \"real\": \"[0, 1, 1]\"}, {\"pred\": \"[0, 1, 0]\", \"real\": \"[0, 0, 0]\"}, {\"pred\": \"[0, 0, 1]\", \"real\": \"[0, 1, 1]\"}, {\"pred\": \"[0, 1, 1]\", \"real\": \"[0, 1, 1]\"}, {\"pred\": \"[0, 1, 0]\", \"real\": \"[0, 1, 0]\"}, {\"pred\": \"[0, 1, 0]\", \"real\": \"[0, 0, 0]\"}, {\"pred\": \"[0, 1, 0]\", \"real\": \"[0, 1, 0]\"}, {\"pred\": \"[0, 1, 0]\", \"real\": \"[0, 1, 0]\"}, {\"pred\": \"[0, 0, 0]\", \"real\": \"[0, 0, 0]\"}, {\"pred\": \"[0, 0, 0]\", \"real\": \"[0, 1, 0]\"}, {\"pred\": \"[0, 0, 0]\", \"real\": \"[0, 0, 0]\"}, {\"pred\": \"[0, 1, 0]\", \"real\": \"[0, 0, 0]\"}, {\"pred\": \"[0, 1, 0]\", \"real\": \"[0, 0, 0]\"}, {\"pred\": \"[0, 1, 0]\", \"real\": \"[0, 1, 1]\"}, {\"pred\": \"[0, 0, 0]\", \"real\": \"[0, 0, 0]\"}, {\"pred\": \"[0, 0, 0]\", \"real\": \"[0, 1, 0]\"}, {\"pred\": \"[0, 0, 0]\", \"real\": \"[0, 0, 0]\"}, {\"pred\": \"[0, 1, 0]\", \"real\": \"[0, 1, 0]\"}, {\"pred\": \"[0, 1, 0]\", \"real\": \"[0, 0, 0]\"}, {\"pred\": \"[0, 0, 0]\", \"real\": \"[0, 1, 0]\"}, {\"pred\": \"[0, 0, 0]\", \"real\": \"[0, 0, 0]\"}, {\"pred\": \"[0, 1, 0]\", \"real\": \"[0, 0, 0]\"}, {\"pred\": \"[0, 1, 0]\", \"real\": \"[0, 1, 0]\"}, {\"pred\": \"[0, 1, 0]\", \"real\": \"[0, 1, 0]\"}, {\"pred\": \"[0, 0, 0]\", \"real\": \"[0, 1, 0]\"}, {\"pred\": \"[0, 1, 0]\", \"real\": \"[0, 1, 0]\"}, {\"pred\": \"[0, 0, 1]\", \"real\": \"[0, 1, 1]\"}, {\"pred\": \"[0, 0, 0]\", \"real\": \"[0, 1, 0]\"}, {\"pred\": \"[0, 1, 1]\", \"real\": \"[0, 1, 1]\"}, {\"pred\": \"[0, 0, 0]\", \"real\": \"[0, 0, 0]\"}, {\"pred\": \"[0, 1, 0]\", \"real\": \"[0, 1, 0]\"}, {\"pred\": \"[0, 1, 0]\", \"real\": \"[0, 1, 0]\"}, {\"pred\": \"[0, 1, 0]\", \"real\": \"[0, 1, 0]\"}, {\"pred\": \"[1, 1, 0]\", \"real\": \"[0, 1, 0]\"}, {\"pred\": \"[0, 0, 0]\", \"real\": \"[0, 0, 0]\"}, {\"pred\": \"[0, 1, 0]\", \"real\": \"[0, 1, 0]\"}, {\"pred\": \"[0, 1, 0]\", \"real\": \"[0, 1, 0]\"}, {\"pred\": \"[0, 1, 1]\", \"real\": \"[0, 1, 1]\"}, {\"pred\": \"[0, 1, 1]\", \"real\": \"[0, 1, 0]\"}, {\"pred\": \"[0, 0, 0]\", \"real\": \"[0, 1, 0]\"}, {\"pred\": \"[0, 1, 0]\", \"real\": \"[0, 0, 0]\"}, {\"pred\": \"[0, 1, 0]\", \"real\": \"[0, 0, 1]\"}, {\"pred\": \"[0, 1, 0]\", \"real\": \"[0, 1, 0]\"}, {\"pred\": \"[0, 0, 0]\", \"real\": \"[0, 0, 0]\"}, {\"pred\": \"[0, 1, 0]\", \"real\": \"[0, 0, 0]\"}, {\"pred\": \"[0, 1, 0]\", \"real\": \"[0, 1, 1]\"}, {\"pred\": \"[0, 0, 0]\", \"real\": \"[0, 0, 1]\"}, {\"pred\": \"[0, 1, 0]\", \"real\": \"[0, 1, 0]\"}, {\"pred\": \"[0, 0, 0]\", \"real\": \"[0, 0, 0]\"}, {\"pred\": \"[0, 1, 0]\", \"real\": \"[0, 1, 0]\"}, {\"pred\": \"[0, 1, 0]\", \"real\": \"[0, 1, 0]\"}, {\"pred\": \"[0, 0, 0]\", \"real\": \"[0, 0, 0]\"}, {\"pred\": \"[0, 0, 0]\", \"real\": \"[0, 0, 0]\"}, {\"pred\": \"[0, 1, 0]\", \"real\": \"[0, 1, 0]\"}, {\"pred\": \"[0, 1, 0]\", \"real\": \"[0, 1, 0]\"}, {\"pred\": \"[0, 1, 0]\", \"real\": \"[0, 1, 0]\"}, {\"pred\": \"[0, 1, 0]\", \"real\": \"[0, 1, 0]\"}, {\"pred\": \"[0, 1, 0]\", \"real\": \"[0, 1, 0]\"}, {\"pred\": \"[0, 1, 0]\", \"real\": \"[0, 0, 0]\"}, {\"pred\": \"[0, 0, 0]\", \"real\": \"[0, 1, 0]\"}, {\"pred\": \"[0, 0, 0]\", \"real\": \"[0, 0, 0]\"}, {\"pred\": \"[0, 1, 0]\", \"real\": \"[0, 1, 1]\"}, {\"pred\": \"[0, 1, 0]\", \"real\": \"[0, 1, 0]\"}, {\"pred\": \"[0, 0, 0]\", \"real\": \"[0, 0, 0]\"}, {\"pred\": \"[0, 1, 0]\", \"real\": \"[0, 1, 0]\"}, {\"pred\": \"[0, 1, 0]\", \"real\": \"[0, 1, 1]\"}, {\"pred\": \"[0, 0, 0]\", \"real\": \"[0, 0, 0]\"}, {\"pred\": \"[0, 0, 0]\", \"real\": \"[0, 0, 0]\"}, {\"pred\": \"[0, 1, 0]\", \"real\": \"[0, 1, 0]\"}, {\"pred\": \"[0, 0, 0]\", \"real\": \"[0, 0, 0]\"}, {\"pred\": \"[0, 1, 0]\", \"real\": \"[0, 1, 1]\"}, {\"pred\": \"[0, 0, 0]\", \"real\": \"[0, 0, 0]\"}, {\"pred\": \"[0, 0, 0]\", \"real\": \"[0, 0, 0]\"}, {\"pred\": \"[0, 1, 1]\", \"real\": \"[0, 1, 1]\"}, {\"pred\": \"[0, 1, 0]\", \"real\": \"[0, 0, 0]\"}, {\"pred\": \"[0, 0, 0]\", \"real\": \"[0, 0, 0]\"}, {\"pred\": \"[0, 1, 0]\", \"real\": \"[0, 1, 0]\"}, {\"pred\": \"[0, 1, 0]\", \"real\": \"[0, 1, 0]\"}, {\"pred\": \"[0, 1, 0]\", \"real\": \"[0, 1, 0]\"}, {\"pred\": \"[0, 1, 0]\", \"real\": \"[0, 1, 0]\"}, {\"pred\": \"[0, 1, 0]\", \"real\": \"[0, 1, 0]\"}, {\"pred\": \"[0, 0, 0]\", \"real\": \"[0, 0, 0]\"}, {\"pred\": \"[0, 0, 0]\", \"real\": \"[1, 1, 0]\"}, {\"pred\": \"[0, 1, 0]\", \"real\": \"[0, 1, 0]\"}, {\"pred\": \"[0, 0, 0]\", \"real\": \"[0, 1, 0]\"}, {\"pred\": \"[0, 0, 0]\", \"real\": \"[0, 0, 0]\"}, {\"pred\": \"[0, 1, 1]\", \"real\": \"[0, 1, 1]\"}, {\"pred\": \"[0, 1, 0]\", \"real\": \"[0, 1, 0]\"}, {\"pred\": \"[0, 1, 1]\", \"real\": \"[0, 1, 1]\"}, {\"pred\": \"[0, 1, 0]\", \"real\": \"[0, 1, 0]\"}, {\"pred\": \"[0, 0, 0]\", \"real\": \"[0, 0, 0]\"}, {\"pred\": \"[0, 1, 0]\", \"real\": \"[0, 1, 0]\"}, {\"pred\": \"[0, 0, 0]\", \"real\": \"[0, 0, 0]\"}, {\"pred\": \"[0, 1, 0]\", \"real\": \"[0, 1, 0]\"}, {\"pred\": \"[0, 1, 0]\", \"real\": \"[0, 1, 0]\"}, {\"pred\": \"[0, 1, 0]\", \"real\": \"[0, 1, 0]\"}, {\"pred\": \"[0, 0, 0]\", \"real\": \"[0, 0, 0]\"}, {\"pred\": \"[0, 1, 0]\", \"real\": \"[0, 0, 0]\"}, {\"pred\": \"[0, 0, 0]\", \"real\": \"[0, 0, 0]\"}, {\"pred\": \"[0, 0, 1]\", \"real\": \"[0, 0, 0]\"}, {\"pred\": \"[0, 1, 0]\", \"real\": \"[0, 1, 0]\"}, {\"pred\": \"[0, 1, 0]\", \"real\": \"[0, 0, 0]\"}, {\"pred\": \"[1, 0, 1]\", \"real\": \"[0, 0, 1]\"}, {\"pred\": \"[0, 1, 0]\", \"real\": \"[0, 1, 0]\"}, {\"pred\": \"[0, 1, 1]\", \"real\": \"[0, 1, 1]\"}, {\"pred\": \"[0, 0, 0]\", \"real\": \"[0, 0, 0]\"}, {\"pred\": \"[0, 0, 0]\", \"real\": \"[0, 0, 1]\"}, {\"pred\": \"[0, 1, 1]\", \"real\": \"[0, 1, 1]\"}, {\"pred\": \"[0, 1, 0]\", \"real\": \"[0, 0, 0]\"}, {\"pred\": \"[0, 1, 0]\", \"real\": \"[0, 1, 0]\"}, {\"pred\": \"[0, 1, 0]\", \"real\": \"[0, 0, 0]\"}, {\"pred\": \"[1, 1, 1]\", \"real\": \"[1, 1, 1]\"}, {\"pred\": \"[0, 1, 0]\", \"real\": \"[0, 1, 0]\"}, {\"pred\": \"[1, 1, 0]\", \"real\": \"[0, 1, 1]\"}, {\"pred\": \"[0, 0, 1]\", \"real\": \"[0, 0, 0]\"}, {\"pred\": \"[0, 1, 1]\", \"real\": \"[0, 1, 0]\"}, {\"pred\": \"[0, 0, 0]\", \"real\": \"[0, 0, 0]\"}, {\"pred\": \"[0, 0, 1]\", \"real\": \"[0, 0, 1]\"}, {\"pred\": \"[0, 0, 0]\", \"real\": \"[0, 0, 0]\"}, {\"pred\": \"[0, 1, 0]\", \"real\": \"[0, 1, 1]\"}, {\"pred\": \"[0, 1, 0]\", \"real\": \"[0, 1, 0]\"}, {\"pred\": \"[0, 1, 1]\", \"real\": \"[0, 1, 1]\"}, {\"pred\": \"[0, 0, 0]\", \"real\": \"[0, 0, 0]\"}, {\"pred\": \"[0, 0, 0]\", \"real\": \"[0, 0, 1]\"}, {\"pred\": \"[0, 1, 0]\", \"real\": \"[0, 1, 0]\"}, {\"pred\": \"[0, 0, 0]\", \"real\": \"[0, 0, 0]\"}, {\"pred\": \"[0, 0, 1]\", \"real\": \"[0, 0, 1]\"}, {\"pred\": \"[0, 1, 0]\", \"real\": \"[0, 1, 0]\"}, {\"pred\": \"[0, 1, 1]\", \"real\": \"[0, 1, 1]\"}, {\"pred\": \"[0, 1, 0]\", \"real\": \"[0, 1, 0]\"}, {\"pred\": \"[0, 0, 0]\", \"real\": \"[0, 0, 0]\"}, {\"pred\": \"[0, 1, 0]\", \"real\": \"[0, 1, 0]\"}, {\"pred\": \"[0, 1, 0]\", \"real\": \"[0, 1, 0]\"}, {\"pred\": \"[1, 0, 0]\", \"real\": \"[0, 0, 0]\"}, {\"pred\": \"[0, 1, 0]\", \"real\": \"[0, 0, 1]\"}, {\"pred\": \"[0, 0, 1]\", \"real\": \"[0, 0, 1]\"}, {\"pred\": \"[0, 0, 0]\", \"real\": \"[0, 0, 0]\"}, {\"pred\": \"[0, 1, 0]\", \"real\": \"[0, 1, 0]\"}, {\"pred\": \"[0, 1, 0]\", \"real\": \"[0, 1, 1]\"}, {\"pred\": \"[0, 1, 0]\", \"real\": \"[0, 1, 0]\"}, {\"pred\": \"[0, 0, 0]\", \"real\": \"[0, 0, 0]\"}, {\"pred\": \"[0, 1, 0]\", \"real\": \"[0, 1, 0]\"}, {\"pred\": \"[0, 0, 0]\", \"real\": \"[0, 0, 0]\"}, {\"pred\": \"[0, 1, 0]\", \"real\": \"[0, 1, 1]\"}, {\"pred\": \"[0, 1, 0]\", \"real\": \"[0, 1, 0]\"}, {\"pred\": \"[0, 0, 0]\", \"real\": \"[0, 0, 0]\"}, {\"pred\": \"[0, 1, 0]\", \"real\": \"[0, 1, 0]\"}, {\"pred\": \"[0, 1, 0]\", \"real\": \"[0, 1, 0]\"}, {\"pred\": \"[0, 1, 0]\", \"real\": \"[0, 0, 0]\"}, {\"pred\": \"[0, 0, 0]\", \"real\": \"[0, 1, 0]\"}, {\"pred\": \"[0, 0, 0]\", \"real\": \"[0, 1, 0]\"}, {\"pred\": \"[0, 1, 0]\", \"real\": \"[0, 1, 0]\"}, {\"pred\": \"[0, 1, 1]\", \"real\": \"[0, 0, 0]\"}, {\"pred\": \"[0, 0, 0]\", \"real\": \"[0, 0, 0]\"}, {\"pred\": \"[0, 1, 1]\", \"real\": \"[0, 1, 1]\"}, {\"pred\": \"[0, 1, 0]\", \"real\": \"[0, 1, 0]\"}, {\"pred\": \"[0, 1, 0]\", \"real\": \"[0, 1, 0]\"}, {\"pred\": \"[0, 1, 0]\", \"real\": \"[0, 1, 0]\"}, {\"pred\": \"[0, 1, 0]\", \"real\": \"[0, 1, 0]\"}, {\"pred\": \"[0, 1, 0]\", \"real\": \"[0, 1, 0]\"}, {\"pred\": \"[0, 0, 0]\", \"real\": \"[0, 0, 0]\"}, {\"pred\": \"[0, 0, 1]\", \"real\": \"[0, 0, 1]\"}, {\"pred\": \"[0, 1, 0]\", \"real\": \"[0, 1, 0]\"}, {\"pred\": \"[0, 1, 0]\", \"real\": \"[0, 1, 0]\"}, {\"pred\": \"[0, 0, 1]\", \"real\": \"[0, 0, 1]\"}, {\"pred\": \"[0, 1, 1]\", \"real\": \"[0, 1, 1]\"}, {\"pred\": \"[1, 1, 1]\", \"real\": \"[0, 1, 1]\"}, {\"pred\": \"[0, 1, 0]\", \"real\": \"[0, 0, 0]\"}, {\"pred\": \"[0, 0, 1]\", \"real\": \"[0, 0, 1]\"}, {\"pred\": \"[0, 1, 0]\", \"real\": \"[0, 1, 0]\"}, {\"pred\": \"[0, 1, 0]\", \"real\": \"[1, 1, 0]\"}, {\"pred\": \"[0, 1, 0]\", \"real\": \"[0, 1, 0]\"}, {\"pred\": \"[0, 0, 0]\", \"real\": \"[0, 1, 0]\"}, {\"pred\": \"[0, 1, 0]\", \"real\": \"[0, 1, 0]\"}, {\"pred\": \"[0, 0, 0]\", \"real\": \"[0, 1, 0]\"}, {\"pred\": \"[0, 1, 0]\", \"real\": \"[0, 1, 0]\"}, {\"pred\": \"[0, 0, 0]\", \"real\": \"[0, 0, 0]\"}, {\"pred\": \"[0, 1, 0]\", \"real\": \"[0, 1, 0]\"}, {\"pred\": \"[0, 1, 0]\", \"real\": \"[0, 1, 0]\"}, {\"pred\": \"[0, 1, 0]\", \"real\": \"[0, 1, 1]\"}, {\"pred\": \"[0, 0, 0]\", \"real\": \"[0, 0, 0]\"}, {\"pred\": \"[0, 1, 0]\", \"real\": \"[0, 1, 0]\"}, {\"pred\": \"[0, 1, 1]\", \"real\": \"[0, 1, 1]\"}, {\"pred\": \"[0, 1, 0]\", \"real\": \"[0, 0, 1]\"}, {\"pred\": \"[0, 1, 0]\", \"real\": \"[0, 1, 1]\"}, {\"pred\": \"[0, 1, 0]\", \"real\": \"[0, 1, 0]\"}, {\"pred\": \"[0, 0, 0]\", \"real\": \"[0, 0, 0]\"}, {\"pred\": \"[0, 1, 0]\", \"real\": \"[0, 1, 0]\"}, {\"pred\": \"[0, 0, 1]\", \"real\": \"[0, 0, 0]\"}, {\"pred\": \"[0, 1, 0]\", \"real\": \"[0, 0, 0]\"}, {\"pred\": \"[0, 1, 0]\", \"real\": \"[0, 1, 0]\"}, {\"pred\": \"[0, 1, 0]\", \"real\": \"[0, 1, 0]\"}, {\"pred\": \"[0, 1, 0]\", \"real\": \"[0, 1, 0]\"}, {\"pred\": \"[0, 0, 0]\", \"real\": \"[0, 1, 0]\"}, {\"pred\": \"[0, 0, 0]\", \"real\": \"[0, 0, 0]\"}, {\"pred\": \"[1, 1, 1]\", \"real\": \"[1, 0, 1]\"}, {\"pred\": \"[0, 1, 0]\", \"real\": \"[0, 1, 0]\"}, {\"pred\": \"[0, 1, 0]\", \"real\": \"[0, 1, 0]\"}, {\"pred\": \"[0, 0, 0]\", \"real\": \"[0, 1, 0]\"}, {\"pred\": \"[0, 1, 0]\", \"real\": \"[0, 1, 1]\"}, {\"pred\": \"[0, 1, 0]\", \"real\": \"[0, 1, 1]\"}, {\"pred\": \"[0, 0, 1]\", \"real\": \"[0, 1, 1]\"}, {\"pred\": \"[0, 1, 0]\", \"real\": \"[0, 0, 0]\"}, {\"pred\": \"[0, 0, 0]\", \"real\": \"[0, 0, 0]\"}, {\"pred\": \"[0, 1, 0]\", \"real\": \"[0, 1, 0]\"}, {\"pred\": \"[0, 1, 0]\", \"real\": \"[0, 1, 1]\"}, {\"pred\": \"[0, 1, 0]\", \"real\": \"[0, 1, 0]\"}, {\"pred\": \"[0, 1, 0]\", \"real\": \"[0, 0, 0]\"}, {\"pred\": \"[0, 0, 0]\", \"real\": \"[0, 1, 0]\"}, {\"pred\": \"[0, 0, 0]\", \"real\": \"[0, 0, 0]\"}, {\"pred\": \"[0, 0, 0]\", \"real\": \"[0, 0, 0]\"}, {\"pred\": \"[0, 1, 0]\", \"real\": \"[0, 1, 0]\"}, {\"pred\": \"[0, 0, 0]\", \"real\": \"[0, 0, 0]\"}, {\"pred\": \"[0, 0, 0]\", \"real\": \"[0, 0, 0]\"}, {\"pred\": \"[0, 1, 0]\", \"real\": \"[0, 0, 0]\"}, {\"pred\": \"[0, 0, 0]\", \"real\": \"[0, 0, 0]\"}, {\"pred\": \"[0, 0, 0]\", \"real\": \"[0, 0, 0]\"}, {\"pred\": \"[0, 1, 0]\", \"real\": \"[0, 0, 0]\"}, {\"pred\": \"[0, 0, 0]\", \"real\": \"[0, 0, 0]\"}, {\"pred\": \"[0, 1, 0]\", \"real\": \"[0, 1, 0]\"}, {\"pred\": \"[0, 1, 0]\", \"real\": \"[0, 1, 0]\"}, {\"pred\": \"[0, 0, 0]\", \"real\": \"[0, 0, 0]\"}, {\"pred\": \"[0, 1, 0]\", \"real\": \"[0, 1, 0]\"}, {\"pred\": \"[0, 0, 0]\", \"real\": \"[0, 0, 0]\"}, {\"pred\": \"[0, 1, 0]\", \"real\": \"[0, 1, 0]\"}, {\"pred\": \"[0, 1, 0]\", \"real\": \"[0, 1, 0]\"}, {\"pred\": \"[0, 1, 0]\", \"real\": \"[0, 0, 0]\"}, {\"pred\": \"[1, 1, 0]\", \"real\": \"[1, 1, 0]\"}, {\"pred\": \"[0, 1, 0]\", \"real\": \"[0, 1, 1]\"}, {\"pred\": \"[0, 0, 0]\", \"real\": \"[0, 0, 0]\"}, {\"pred\": \"[0, 0, 0]\", \"real\": \"[0, 0, 0]\"}, {\"pred\": \"[0, 1, 1]\", \"real\": \"[0, 1, 0]\"}, {\"pred\": \"[1, 1, 1]\", \"real\": \"[1, 1, 1]\"}, {\"pred\": \"[0, 0, 0]\", \"real\": \"[0, 0, 0]\"}, {\"pred\": \"[0, 1, 0]\", \"real\": \"[0, 1, 0]\"}, {\"pred\": \"[0, 1, 0]\", \"real\": \"[0, 0, 0]\"}, {\"pred\": \"[0, 0, 0]\", \"real\": \"[0, 0, 0]\"}, {\"pred\": \"[0, 0, 0]\", \"real\": \"[0, 0, 0]\"}, {\"pred\": \"[0, 1, 0]\", \"real\": \"[0, 1, 0]\"}, {\"pred\": \"[0, 1, 1]\", \"real\": \"[0, 1, 1]\"}, {\"pred\": \"[0, 1, 0]\", \"real\": \"[0, 1, 0]\"}, {\"pred\": \"[0, 0, 1]\", \"real\": \"[0, 1, 1]\"}, {\"pred\": \"[0, 1, 0]\", \"real\": \"[0, 1, 0]\"}, {\"pred\": \"[0, 0, 0]\", \"real\": \"[0, 0, 0]\"}, {\"pred\": \"[0, 0, 0]\", \"real\": \"[0, 1, 1]\"}, {\"pred\": \"[0, 0, 0]\", \"real\": \"[0, 0, 0]\"}, {\"pred\": \"[0, 0, 0]\", \"real\": \"[0, 0, 0]\"}, {\"pred\": \"[0, 0, 0]\", \"real\": \"[0, 0, 0]\"}, {\"pred\": \"[0, 1, 0]\", \"real\": \"[0, 1, 0]\"}, {\"pred\": \"[0, 1, 0]\", \"real\": \"[0, 1, 0]\"}, {\"pred\": \"[0, 0, 0]\", \"real\": \"[0, 0, 1]\"}, {\"pred\": \"[0, 1, 0]\", \"real\": \"[0, 1, 0]\"}, {\"pred\": \"[0, 0, 1]\", \"real\": \"[0, 0, 1]\"}, {\"pred\": \"[0, 0, 0]\", \"real\": \"[0, 0, 0]\"}, {\"pred\": \"[0, 1, 0]\", \"real\": \"[1, 1, 0]\"}, {\"pred\": \"[0, 1, 0]\", \"real\": \"[0, 1, 0]\"}, {\"pred\": \"[0, 1, 1]\", \"real\": \"[0, 1, 1]\"}, {\"pred\": \"[0, 1, 0]\", \"real\": \"[0, 1, 0]\"}, {\"pred\": \"[0, 0, 0]\", \"real\": \"[0, 1, 0]\"}, {\"pred\": \"[0, 1, 0]\", \"real\": \"[0, 1, 0]\"}, {\"pred\": \"[0, 1, 0]\", \"real\": \"[0, 1, 0]\"}, {\"pred\": \"[0, 0, 0]\", \"real\": \"[0, 0, 0]\"}, {\"pred\": \"[0, 1, 0]\", \"real\": \"[0, 1, 0]\"}, {\"pred\": \"[0, 0, 0]\", \"real\": \"[0, 1, 1]\"}, {\"pred\": \"[0, 1, 0]\", \"real\": \"[0, 1, 0]\"}, {\"pred\": \"[0, 1, 0]\", \"real\": \"[0, 0, 0]\"}, {\"pred\": \"[0, 1, 0]\", \"real\": \"[0, 1, 0]\"}, {\"pred\": \"[0, 1, 0]\", \"real\": \"[0, 1, 0]\"}, {\"pred\": \"[0, 0, 0]\", \"real\": \"[0, 0, 1]\"}, {\"pred\": \"[0, 1, 0]\", \"real\": \"[0, 1, 1]\"}, {\"pred\": \"[0, 1, 0]\", \"real\": \"[0, 0, 0]\"}, {\"pred\": \"[0, 1, 0]\", \"real\": \"[0, 0, 0]\"}, {\"pred\": \"[0, 1, 1]\", \"real\": \"[0, 1, 1]\"}, {\"pred\": \"[0, 0, 0]\", \"real\": \"[0, 0, 1]\"}, {\"pred\": \"[0, 0, 0]\", \"real\": \"[0, 0, 0]\"}, {\"pred\": \"[0, 0, 0]\", \"real\": \"[0, 0, 0]\"}, {\"pred\": \"[0, 1, 0]\", \"real\": \"[0, 1, 0]\"}, {\"pred\": \"[0, 0, 0]\", \"real\": \"[0, 1, 0]\"}, {\"pred\": \"[0, 1, 0]\", \"real\": \"[0, 1, 0]\"}, {\"pred\": \"[0, 0, 0]\", \"real\": \"[0, 0, 0]\"}, {\"pred\": \"[0, 1, 0]\", \"real\": \"[1, 1, 0]\"}, {\"pred\": \"[0, 0, 0]\", \"real\": \"[0, 0, 0]\"}, {\"pred\": \"[0, 1, 1]\", \"real\": \"[0, 1, 1]\"}, {\"pred\": \"[0, 0, 0]\", \"real\": \"[0, 0, 0]\"}, {\"pred\": \"[0, 1, 0]\", \"real\": \"[0, 1, 0]\"}, {\"pred\": \"[0, 0, 0]\", \"real\": \"[0, 0, 0]\"}, {\"pred\": \"[1, 1, 1]\", \"real\": \"[0, 1, 0]\"}, {\"pred\": \"[0, 0, 0]\", \"real\": \"[0, 0, 0]\"}, {\"pred\": \"[0, 1, 0]\", \"real\": \"[0, 1, 0]\"}, {\"pred\": \"[0, 1, 0]\", \"real\": \"[0, 1, 0]\"}, {\"pred\": \"[0, 0, 0]\", \"real\": \"[0, 1, 1]\"}, {\"pred\": \"[0, 1, 0]\", \"real\": \"[0, 1, 0]\"}, {\"pred\": \"[0, 1, 0]\", \"real\": \"[0, 1, 1]\"}, {\"pred\": \"[0, 1, 0]\", \"real\": \"[0, 1, 0]\"}, {\"pred\": \"[0, 1, 1]\", \"real\": \"[0, 1, 1]\"}, {\"pred\": \"[0, 0, 0]\", \"real\": \"[0, 0, 0]\"}, {\"pred\": \"[0, 1, 0]\", \"real\": \"[0, 1, 0]\"}, {\"pred\": \"[0, 1, 1]\", \"real\": \"[0, 1, 1]\"}, {\"pred\": \"[0, 0, 0]\", \"real\": \"[0, 0, 0]\"}, {\"pred\": \"[0, 0, 0]\", \"real\": \"[0, 0, 1]\"}, {\"pred\": \"[0, 1, 1]\", \"real\": \"[0, 0, 0]\"}, {\"pred\": \"[0, 0, 0]\", \"real\": \"[0, 0, 0]\"}, {\"pred\": \"[0, 1, 0]\", \"real\": \"[0, 1, 0]\"}, {\"pred\": \"[0, 0, 0]\", \"real\": \"[0, 1, 0]\"}, {\"pred\": \"[0, 1, 1]\", \"real\": \"[0, 1, 1]\"}, {\"pred\": \"[0, 1, 0]\", \"real\": \"[0, 1, 1]\"}, {\"pred\": \"[0, 1, 0]\", \"real\": \"[0, 1, 0]\"}, {\"pred\": \"[0, 1, 0]\", \"real\": \"[0, 1, 0]\"}, {\"pred\": \"[0, 1, 1]\", \"real\": \"[0, 1, 1]\"}, {\"pred\": \"[0, 0, 0]\", \"real\": \"[0, 0, 0]\"}, {\"pred\": \"[0, 0, 0]\", \"real\": \"[0, 0, 0]\"}, {\"pred\": \"[0, 1, 0]\", \"real\": \"[0, 1, 1]\"}, {\"pred\": \"[0, 1, 0]\", \"real\": \"[0, 1, 0]\"}, {\"pred\": \"[0, 1, 0]\", \"real\": \"[0, 1, 0]\"}, {\"pred\": \"[1, 1, 1]\", \"real\": \"[0, 1, 1]\"}, {\"pred\": \"[1, 1, 0]\", \"real\": \"[0, 1, 0]\"}, {\"pred\": \"[0, 1, 0]\", \"real\": \"[0, 1, 0]\"}, {\"pred\": \"[0, 0, 0]\", \"real\": \"[0, 0, 0]\"}, {\"pred\": \"[0, 1, 1]\", \"real\": \"[0, 1, 1]\"}, {\"pred\": \"[0, 1, 0]\", \"real\": \"[0, 1, 0]\"}, {\"pred\": \"[0, 1, 0]\", \"real\": \"[0, 1, 0]\"}, {\"pred\": \"[0, 1, 1]\", \"real\": \"[0, 1, 0]\"}, {\"pred\": \"[0, 0, 0]\", \"real\": \"[0, 0, 0]\"}, {\"pred\": \"[0, 1, 0]\", \"real\": \"[0, 1, 0]\"}, {\"pred\": \"[0, 1, 0]\", \"real\": \"[0, 1, 0]\"}, {\"pred\": \"[0, 1, 0]\", \"real\": \"[0, 1, 0]\"}, {\"pred\": \"[0, 1, 0]\", \"real\": \"[0, 1, 0]\"}, {\"pred\": \"[0, 1, 0]\", \"real\": \"[0, 1, 0]\"}, {\"pred\": \"[0, 1, 0]\", \"real\": \"[0, 1, 1]\"}, {\"pred\": \"[0, 0, 0]\", \"real\": \"[0, 1, 0]\"}, {\"pred\": \"[0, 0, 0]\", \"real\": \"[0, 1, 0]\"}, {\"pred\": \"[0, 0, 0]\", \"real\": \"[0, 1, 1]\"}, {\"pred\": \"[0, 1, 1]\", \"real\": \"[0, 1, 1]\"}, {\"pred\": \"[0, 1, 0]\", \"real\": \"[0, 1, 0]\"}, {\"pred\": \"[0, 1, 0]\", \"real\": \"[0, 1, 0]\"}, {\"pred\": \"[0, 1, 0]\", \"real\": \"[0, 1, 0]\"}, {\"pred\": \"[0, 1, 0]\", \"real\": \"[0, 1, 0]\"}, {\"pred\": \"[0, 1, 0]\", \"real\": \"[0, 1, 0]\"}, {\"pred\": \"[0, 1, 0]\", \"real\": \"[0, 1, 0]\"}, {\"pred\": \"[0, 1, 0]\", \"real\": \"[0, 0, 0]\"}, {\"pred\": \"[0, 0, 0]\", \"real\": \"[0, 0, 0]\"}, {\"pred\": \"[0, 0, 1]\", \"real\": \"[0, 1, 1]\"}, {\"pred\": \"[0, 0, 0]\", \"real\": \"[0, 0, 0]\"}, {\"pred\": \"[0, 1, 1]\", \"real\": \"[0, 1, 1]\"}, {\"pred\": \"[0, 1, 0]\", \"real\": \"[0, 1, 0]\"}, {\"pred\": \"[0, 1, 0]\", \"real\": \"[0, 1, 0]\"}, {\"pred\": \"[0, 1, 0]\", \"real\": \"[0, 1, 0]\"}, {\"pred\": \"[0, 1, 0]\", \"real\": \"[0, 1, 0]\"}, {\"pred\": \"[0, 0, 0]\", \"real\": \"[0, 0, 0]\"}, {\"pred\": \"[0, 0, 0]\", \"real\": \"[0, 0, 0]\"}, {\"pred\": \"[0, 1, 0]\", \"real\": \"[0, 0, 0]\"}, {\"pred\": \"[0, 0, 0]\", \"real\": \"[0, 1, 0]\"}, {\"pred\": \"[0, 1, 0]\", \"real\": \"[0, 0, 0]\"}, {\"pred\": \"[0, 1, 0]\", \"real\": \"[0, 0, 0]\"}, {\"pred\": \"[0, 1, 0]\", \"real\": \"[0, 1, 0]\"}, {\"pred\": \"[0, 1, 1]\", \"real\": \"[0, 1, 0]\"}, {\"pred\": \"[0, 1, 0]\", \"real\": \"[0, 1, 1]\"}, {\"pred\": \"[1, 1, 1]\", \"real\": \"[0, 0, 1]\"}, {\"pred\": \"[0, 0, 0]\", \"real\": \"[0, 0, 0]\"}, {\"pred\": \"[0, 1, 1]\", \"real\": \"[0, 0, 0]\"}, {\"pred\": \"[0, 1, 0]\", \"real\": \"[0, 0, 0]\"}, {\"pred\": \"[0, 1, 0]\", \"real\": \"[0, 1, 0]\"}, {\"pred\": \"[0, 1, 0]\", \"real\": \"[0, 1, 0]\"}, {\"pred\": \"[0, 1, 0]\", \"real\": \"[0, 1, 0]\"}, {\"pred\": \"[0, 1, 1]\", \"real\": \"[0, 1, 0]\"}, {\"pred\": \"[0, 0, 1]\", \"real\": \"[0, 0, 1]\"}, {\"pred\": \"[0, 1, 1]\", \"real\": \"[0, 1, 1]\"}, {\"pred\": \"[0, 1, 1]\", \"real\": \"[0, 0, 1]\"}, {\"pred\": \"[0, 1, 0]\", \"real\": \"[0, 1, 0]\"}, {\"pred\": \"[0, 1, 1]\", \"real\": \"[0, 1, 0]\"}, {\"pred\": \"[0, 1, 0]\", \"real\": \"[0, 1, 0]\"}, {\"pred\": \"[0, 0, 0]\", \"real\": \"[0, 0, 0]\"}, {\"pred\": \"[1, 1, 0]\", \"real\": \"[1, 1, 1]\"}, {\"pred\": \"[0, 1, 0]\", \"real\": \"[0, 1, 1]\"}, {\"pred\": \"[0, 1, 0]\", \"real\": \"[0, 1, 0]\"}, {\"pred\": \"[0, 0, 0]\", \"real\": \"[0, 0, 0]\"}, {\"pred\": \"[0, 0, 0]\", \"real\": \"[0, 0, 0]\"}, {\"pred\": \"[0, 1, 0]\", \"real\": \"[0, 1, 1]\"}, {\"pred\": \"[0, 1, 1]\", \"real\": \"[0, 1, 1]\"}, {\"pred\": \"[0, 1, 0]\", \"real\": \"[0, 0, 0]\"}, {\"pred\": \"[0, 1, 1]\", \"real\": \"[0, 1, 1]\"}, {\"pred\": \"[0, 1, 0]\", \"real\": \"[0, 1, 0]\"}, {\"pred\": \"[0, 1, 0]\", \"real\": \"[1, 1, 0]\"}, {\"pred\": \"[0, 0, 0]\", \"real\": \"[0, 0, 1]\"}, {\"pred\": \"[0, 0, 0]\", \"real\": \"[0, 0, 0]\"}, {\"pred\": \"[0, 1, 0]\", \"real\": \"[0, 1, 0]\"}, {\"pred\": \"[0, 1, 0]\", \"real\": \"[0, 1, 0]\"}, {\"pred\": \"[0, 0, 0]\", \"real\": \"[0, 0, 0]\"}, {\"pred\": \"[0, 1, 0]\", \"real\": \"[0, 1, 0]\"}, {\"pred\": \"[0, 1, 0]\", \"real\": \"[0, 1, 1]\"}, {\"pred\": \"[0, 1, 0]\", \"real\": \"[0, 0, 0]\"}, {\"pred\": \"[0, 0, 0]\", \"real\": \"[1, 0, 1]\"}, {\"pred\": \"[0, 0, 0]\", \"real\": \"[0, 1, 0]\"}, {\"pred\": \"[0, 1, 0]\", \"real\": \"[0, 1, 0]\"}, {\"pred\": \"[0, 1, 0]\", \"real\": \"[0, 1, 0]\"}, {\"pred\": \"[0, 1, 0]\", \"real\": \"[0, 1, 0]\"}, {\"pred\": \"[0, 0, 0]\", \"real\": \"[0, 0, 0]\"}, {\"pred\": \"[0, 1, 0]\", \"real\": \"[0, 1, 0]\"}, {\"pred\": \"[0, 1, 0]\", \"real\": \"[0, 1, 0]\"}, {\"pred\": \"[0, 1, 0]\", \"real\": \"[0, 1, 0]\"}, {\"pred\": \"[0, 0, 0]\", \"real\": \"[0, 0, 0]\"}, {\"pred\": \"[0, 1, 0]\", \"real\": \"[0, 1, 0]\"}, {\"pred\": \"[0, 0, 0]\", \"real\": \"[0, 0, 0]\"}, {\"pred\": \"[0, 0, 0]\", \"real\": \"[0, 0, 0]\"}, {\"pred\": \"[0, 1, 0]\", \"real\": \"[0, 1, 0]\"}, {\"pred\": \"[0, 1, 0]\", \"real\": \"[0, 1, 0]\"}, {\"pred\": \"[0, 1, 1]\", \"real\": \"[0, 1, 1]\"}, {\"pred\": \"[0, 0, 0]\", \"real\": \"[0, 1, 0]\"}, {\"pred\": \"[0, 0, 0]\", \"real\": \"[0, 0, 0]\"}, {\"pred\": \"[0, 0, 0]\", \"real\": \"[0, 0, 0]\"}, {\"pred\": \"[0, 1, 0]\", \"real\": \"[0, 1, 0]\"}, {\"pred\": \"[0, 0, 0]\", \"real\": \"[0, 0, 0]\"}, {\"pred\": \"[0, 1, 0]\", \"real\": \"[0, 0, 1]\"}, {\"pred\": \"[0, 0, 0]\", \"real\": \"[0, 1, 0]\"}, {\"pred\": \"[0, 1, 0]\", \"real\": \"[0, 0, 0]\"}, {\"pred\": \"[0, 1, 0]\", \"real\": \"[0, 0, 0]\"}, {\"pred\": \"[0, 1, 1]\", \"real\": \"[0, 1, 0]\"}, {\"pred\": \"[0, 0, 1]\", \"real\": \"[0, 0, 1]\"}, {\"pred\": \"[0, 1, 0]\", \"real\": \"[0, 1, 0]\"}, {\"pred\": \"[0, 1, 0]\", \"real\": \"[0, 1, 0]\"}, {\"pred\": \"[0, 1, 0]\", \"real\": \"[0, 1, 0]\"}, {\"pred\": \"[0, 1, 0]\", \"real\": \"[0, 1, 0]\"}, {\"pred\": \"[0, 1, 0]\", \"real\": \"[0, 0, 0]\"}, {\"pred\": \"[0, 0, 0]\", \"real\": \"[0, 0, 0]\"}, {\"pred\": \"[0, 1, 0]\", \"real\": \"[0, 1, 0]\"}, {\"pred\": \"[0, 1, 1]\", \"real\": \"[0, 1, 0]\"}, {\"pred\": \"[0, 0, 0]\", \"real\": \"[0, 1, 0]\"}, {\"pred\": \"[0, 1, 0]\", \"real\": \"[0, 1, 0]\"}, {\"pred\": \"[0, 0, 1]\", \"real\": \"[0, 0, 0]\"}, {\"pred\": \"[0, 0, 0]\", \"real\": \"[0, 0, 0]\"}, {\"pred\": \"[0, 0, 0]\", \"real\": \"[0, 1, 1]\"}, {\"pred\": \"[0, 0, 0]\", \"real\": \"[0, 0, 0]\"}, {\"pred\": \"[0, 1, 0]\", \"real\": \"[0, 1, 0]\"}, {\"pred\": \"[0, 1, 1]\", \"real\": \"[0, 1, 0]\"}, {\"pred\": \"[0, 0, 0]\", \"real\": \"[0, 0, 0]\"}, {\"pred\": \"[0, 0, 0]\", \"real\": \"[0, 1, 1]\"}, {\"pred\": \"[0, 1, 0]\", \"real\": \"[0, 0, 0]\"}, {\"pred\": \"[0, 0, 0]\", \"real\": \"[0, 0, 0]\"}, {\"pred\": \"[0, 0, 1]\", \"real\": \"[0, 0, 1]\"}, {\"pred\": \"[0, 1, 0]\", \"real\": \"[0, 0, 0]\"}, {\"pred\": \"[0, 0, 1]\", \"real\": \"[0, 1, 0]\"}, {\"pred\": \"[0, 1, 0]\", \"real\": \"[0, 1, 0]\"}, {\"pred\": \"[0, 0, 0]\", \"real\": \"[0, 0, 0]\"}, {\"pred\": \"[0, 1, 0]\", \"real\": \"[0, 1, 1]\"}, {\"pred\": \"[1, 1, 1]\", \"real\": \"[1, 1, 1]\"}, {\"pred\": \"[0, 1, 0]\", \"real\": \"[0, 1, 0]\"}, {\"pred\": \"[0, 0, 0]\", \"real\": \"[0, 0, 0]\"}, {\"pred\": \"[0, 0, 0]\", \"real\": \"[0, 0, 1]\"}, {\"pred\": \"[0, 0, 0]\", \"real\": \"[0, 0, 1]\"}, {\"pred\": \"[0, 0, 0]\", \"real\": \"[0, 0, 1]\"}, {\"pred\": \"[0, 1, 0]\", \"real\": \"[0, 1, 1]\"}, {\"pred\": \"[0, 0, 0]\", \"real\": \"[0, 1, 0]\"}, {\"pred\": \"[0, 0, 0]\", \"real\": \"[0, 1, 0]\"}, {\"pred\": \"[0, 0, 0]\", \"real\": \"[0, 1, 0]\"}, {\"pred\": \"[0, 1, 1]\", \"real\": \"[0, 1, 1]\"}, {\"pred\": \"[0, 1, 0]\", \"real\": \"[0, 1, 0]\"}, {\"pred\": \"[0, 1, 1]\", \"real\": \"[0, 1, 0]\"}, {\"pred\": \"[0, 0, 0]\", \"real\": \"[0, 0, 0]\"}, {\"pred\": \"[0, 1, 0]\", \"real\": \"[0, 1, 0]\"}, {\"pred\": \"[0, 1, 1]\", \"real\": \"[0, 0, 0]\"}, {\"pred\": \"[1, 1, 1]\", \"real\": \"[0, 0, 1]\"}, {\"pred\": \"[0, 1, 0]\", \"real\": \"[0, 1, 0]\"}, {\"pred\": \"[0, 0, 0]\", \"real\": \"[0, 0, 0]\"}, {\"pred\": \"[0, 0, 0]\", \"real\": \"[0, 0, 0]\"}, {\"pred\": \"[0, 1, 0]\", \"real\": \"[0, 1, 1]\"}, {\"pred\": \"[0, 1, 1]\", \"real\": \"[0, 1, 1]\"}, {\"pred\": \"[0, 0, 0]\", \"real\": \"[0, 0, 1]\"}, {\"pred\": \"[0, 0, 0]\", \"real\": \"[0, 1, 0]\"}, {\"pred\": \"[0, 0, 0]\", \"real\": \"[0, 1, 0]\"}, {\"pred\": \"[0, 1, 0]\", \"real\": \"[0, 1, 0]\"}, {\"pred\": \"[0, 0, 0]\", \"real\": \"[0, 0, 1]\"}, {\"pred\": \"[0, 1, 0]\", \"real\": \"[0, 1, 0]\"}, {\"pred\": \"[0, 1, 0]\", \"real\": \"[0, 1, 0]\"}, {\"pred\": \"[0, 1, 0]\", \"real\": \"[0, 1, 1]\"}, {\"pred\": \"[0, 1, 0]\", \"real\": \"[0, 1, 0]\"}, {\"pred\": \"[0, 0, 0]\", \"real\": \"[0, 1, 0]\"}, {\"pred\": \"[0, 1, 0]\", \"real\": \"[0, 1, 0]\"}, {\"pred\": \"[0, 1, 0]\", \"real\": \"[0, 1, 0]\"}, {\"pred\": \"[0, 1, 1]\", \"real\": \"[0, 1, 1]\"}, {\"pred\": \"[0, 0, 0]\", \"real\": \"[0, 0, 0]\"}, {\"pred\": \"[0, 0, 0]\", \"real\": \"[0, 1, 0]\"}, {\"pred\": \"[0, 1, 1]\", \"real\": \"[1, 1, 1]\"}, {\"pred\": \"[0, 0, 0]\", \"real\": \"[0, 0, 0]\"}, {\"pred\": \"[0, 1, 0]\", \"real\": \"[0, 1, 0]\"}, {\"pred\": \"[0, 0, 0]\", \"real\": \"[0, 0, 0]\"}, {\"pred\": \"[0, 0, 0]\", \"real\": \"[0, 0, 1]\"}, {\"pred\": \"[0, 1, 0]\", \"real\": \"[0, 1, 0]\"}, {\"pred\": \"[0, 0, 0]\", \"real\": \"[0, 1, 0]\"}, {\"pred\": \"[0, 1, 0]\", \"real\": \"[0, 1, 1]\"}, {\"pred\": \"[0, 1, 0]\", \"real\": \"[0, 1, 0]\"}, {\"pred\": \"[0, 0, 1]\", \"real\": \"[0, 0, 1]\"}, {\"pred\": \"[0, 1, 0]\", \"real\": \"[0, 1, 1]\"}, {\"pred\": \"[0, 0, 0]\", \"real\": \"[1, 0, 1]\"}, {\"pred\": \"[0, 0, 0]\", \"real\": \"[0, 0, 0]\"}, {\"pred\": \"[0, 1, 0]\", \"real\": \"[0, 0, 0]\"}, {\"pred\": \"[0, 0, 0]\", \"real\": \"[0, 0, 0]\"}, {\"pred\": \"[0, 0, 0]\", \"real\": \"[1, 0, 0]\"}, {\"pred\": \"[0, 0, 0]\", \"real\": \"[0, 0, 0]\"}, {\"pred\": \"[0, 0, 1]\", \"real\": \"[0, 0, 1]\"}, {\"pred\": \"[0, 1, 0]\", \"real\": \"[0, 1, 0]\"}, {\"pred\": \"[0, 1, 0]\", \"real\": \"[0, 1, 0]\"}, {\"pred\": \"[0, 0, 0]\", \"real\": \"[0, 0, 1]\"}, {\"pred\": \"[0, 0, 0]\", \"real\": \"[0, 0, 0]\"}, {\"pred\": \"[0, 1, 0]\", \"real\": \"[0, 1, 0]\"}, {\"pred\": \"[0, 1, 0]\", \"real\": \"[0, 1, 0]\"}, {\"pred\": \"[0, 1, 0]\", \"real\": \"[0, 1, 0]\"}, {\"pred\": \"[0, 1, 0]\", \"real\": \"[0, 1, 0]\"}, {\"pred\": \"[0, 1, 0]\", \"real\": \"[0, 0, 0]\"}, {\"pred\": \"[0, 0, 0]\", \"real\": \"[0, 0, 0]\"}, {\"pred\": \"[0, 1, 0]\", \"real\": \"[0, 1, 0]\"}, {\"pred\": \"[0, 1, 0]\", \"real\": \"[0, 0, 0]\"}, {\"pred\": \"[0, 1, 1]\", \"real\": \"[0, 1, 0]\"}, {\"pred\": \"[0, 0, 0]\", \"real\": \"[0, 0, 0]\"}, {\"pred\": \"[0, 0, 0]\", \"real\": \"[0, 0, 0]\"}, {\"pred\": \"[0, 1, 0]\", \"real\": \"[0, 0, 0]\"}, {\"pred\": \"[0, 0, 0]\", \"real\": \"[0, 0, 0]\"}, {\"pred\": \"[0, 1, 0]\", \"real\": \"[0, 1, 0]\"}, {\"pred\": \"[0, 1, 0]\", \"real\": \"[0, 1, 1]\"}, {\"pred\": \"[0, 1, 0]\", \"real\": \"[0, 1, 0]\"}, {\"pred\": \"[0, 0, 0]\", \"real\": \"[0, 1, 0]\"}, {\"pred\": \"[0, 0, 0]\", \"real\": \"[0, 1, 0]\"}, {\"pred\": \"[0, 1, 1]\", \"real\": \"[0, 1, 1]\"}, {\"pred\": \"[0, 1, 0]\", \"real\": \"[0, 1, 0]\"}, {\"pred\": \"[0, 0, 1]\", \"real\": \"[0, 1, 1]\"}, {\"pred\": \"[0, 1, 0]\", \"real\": \"[0, 1, 0]\"}, {\"pred\": \"[1, 1, 0]\", \"real\": \"[1, 1, 0]\"}, {\"pred\": \"[0, 1, 0]\", \"real\": \"[0, 1, 0]\"}, {\"pred\": \"[0, 0, 0]\", \"real\": \"[0, 0, 0]\"}, {\"pred\": \"[0, 0, 0]\", \"real\": \"[0, 0, 0]\"}, {\"pred\": \"[0, 1, 0]\", \"real\": \"[0, 1, 0]\"}, {\"pred\": \"[0, 0, 0]\", \"real\": \"[0, 1, 1]\"}, {\"pred\": \"[0, 1, 0]\", \"real\": \"[0, 1, 0]\"}, {\"pred\": \"[0, 1, 0]\", \"real\": \"[0, 1, 0]\"}, {\"pred\": \"[0, 0, 0]\", \"real\": \"[0, 0, 0]\"}, {\"pred\": \"[0, 1, 0]\", \"real\": \"[0, 1, 0]\"}, {\"pred\": \"[0, 1, 0]\", \"real\": \"[0, 1, 0]\"}, {\"pred\": \"[0, 0, 0]\", \"real\": \"[0, 0, 0]\"}, {\"pred\": \"[0, 1, 0]\", \"real\": \"[0, 1, 0]\"}, {\"pred\": \"[0, 0, 1]\", \"real\": \"[0, 1, 1]\"}, {\"pred\": \"[0, 0, 0]\", \"real\": \"[0, 1, 1]\"}, {\"pred\": \"[0, 1, 1]\", \"real\": \"[0, 1, 0]\"}, {\"pred\": \"[0, 1, 1]\", \"real\": \"[0, 1, 0]\"}, {\"pred\": \"[0, 0, 0]\", \"real\": \"[0, 0, 0]\"}, {\"pred\": \"[0, 1, 0]\", \"real\": \"[0, 1, 0]\"}, {\"pred\": \"[0, 1, 0]\", \"real\": \"[0, 1, 0]\"}, {\"pred\": \"[0, 0, 0]\", \"real\": \"[0, 0, 0]\"}, {\"pred\": \"[0, 0, 0]\", \"real\": \"[0, 0, 0]\"}, {\"pred\": \"[0, 1, 0]\", \"real\": \"[0, 1, 0]\"}, {\"pred\": \"[0, 1, 0]\", \"real\": \"[0, 1, 1]\"}, {\"pred\": \"[0, 1, 0]\", \"real\": \"[1, 1, 1]\"}, {\"pred\": \"[0, 1, 0]\", \"real\": \"[0, 1, 0]\"}, {\"pred\": \"[0, 1, 0]\", \"real\": \"[0, 1, 0]\"}, {\"pred\": \"[0, 1, 0]\", \"real\": \"[0, 1, 0]\"}, {\"pred\": \"[0, 0, 0]\", \"real\": \"[0, 0, 0]\"}, {\"pred\": \"[1, 1, 0]\", \"real\": \"[1, 1, 1]\"}, {\"pred\": \"[0, 1, 1]\", \"real\": \"[0, 1, 0]\"}, {\"pred\": \"[0, 0, 0]\", \"real\": \"[0, 0, 0]\"}, {\"pred\": \"[0, 0, 0]\", \"real\": \"[0, 0, 0]\"}, {\"pred\": \"[0, 1, 0]\", \"real\": \"[0, 1, 0]\"}, {\"pred\": \"[0, 1, 1]\", \"real\": \"[0, 1, 1]\"}, {\"pred\": \"[0, 0, 0]\", \"real\": \"[0, 0, 0]\"}, {\"pred\": \"[0, 0, 0]\", \"real\": \"[0, 0, 0]\"}, {\"pred\": \"[0, 0, 0]\", \"real\": \"[0, 1, 0]\"}, {\"pred\": \"[0, 1, 0]\", \"real\": \"[0, 1, 0]\"}, {\"pred\": \"[0, 1, 0]\", \"real\": \"[0, 1, 0]\"}, {\"pred\": \"[0, 0, 0]\", \"real\": \"[0, 0, 0]\"}, {\"pred\": \"[0, 1, 0]\", \"real\": \"[0, 1, 1]\"}, {\"pred\": \"[0, 0, 0]\", \"real\": \"[1, 1, 1]\"}, {\"pred\": \"[0, 0, 0]\", \"real\": \"[0, 0, 0]\"}, {\"pred\": \"[0, 0, 0]\", \"real\": \"[0, 0, 0]\"}, {\"pred\": \"[0, 1, 0]\", \"real\": \"[0, 1, 0]\"}, {\"pred\": \"[0, 1, 0]\", \"real\": \"[0, 1, 0]\"}, {\"pred\": \"[0, 0, 0]\", \"real\": \"[0, 1, 0]\"}, {\"pred\": \"[0, 0, 0]\", \"real\": \"[0, 0, 0]\"}, {\"pred\": \"[0, 1, 0]\", \"real\": \"[0, 1, 1]\"}, {\"pred\": \"[0, 1, 0]\", \"real\": \"[0, 1, 0]\"}, {\"pred\": \"[0, 1, 0]\", \"real\": \"[0, 1, 0]\"}, {\"pred\": \"[0, 1, 0]\", \"real\": \"[0, 1, 0]\"}, {\"pred\": \"[0, 0, 0]\", \"real\": \"[0, 1, 0]\"}, {\"pred\": \"[0, 1, 0]\", \"real\": \"[0, 1, 1]\"}, {\"pred\": \"[0, 0, 0]\", \"real\": \"[0, 1, 0]\"}, {\"pred\": \"[0, 0, 0]\", \"real\": \"[0, 0, 0]\"}, {\"pred\": \"[0, 0, 0]\", \"real\": \"[0, 0, 0]\"}, {\"pred\": \"[0, 0, 0]\", \"real\": \"[0, 0, 0]\"}, {\"pred\": \"[0, 0, 0]\", \"real\": \"[0, 0, 0]\"}, {\"pred\": \"[0, 1, 0]\", \"real\": \"[0, 1, 0]\"}, {\"pred\": \"[0, 0, 0]\", \"real\": \"[0, 0, 0]\"}, {\"pred\": \"[0, 1, 0]\", \"real\": \"[0, 1, 1]\"}, {\"pred\": \"[0, 1, 0]\", \"real\": \"[0, 0, 0]\"}, {\"pred\": \"[0, 1, 1]\", \"real\": \"[0, 1, 0]\"}, {\"pred\": \"[0, 0, 0]\", \"real\": \"[0, 0, 0]\"}, {\"pred\": \"[0, 1, 0]\", \"real\": \"[0, 1, 1]\"}, {\"pred\": \"[0, 1, 1]\", \"real\": \"[0, 1, 1]\"}, {\"pred\": \"[0, 1, 0]\", \"real\": \"[0, 1, 0]\"}, {\"pred\": \"[0, 1, 0]\", \"real\": \"[0, 1, 0]\"}, {\"pred\": \"[0, 0, 0]\", \"real\": \"[0, 0, 0]\"}, {\"pred\": \"[0, 1, 0]\", \"real\": \"[0, 1, 0]\"}, {\"pred\": \"[0, 1, 0]\", \"real\": \"[0, 0, 0]\"}, {\"pred\": \"[0, 0, 0]\", \"real\": \"[0, 0, 0]\"}, {\"pred\": \"[1, 1, 1]\", \"real\": \"[1, 1, 1]\"}, {\"pred\": \"[0, 0, 0]\", \"real\": \"[0, 0, 0]\"}, {\"pred\": \"[0, 1, 0]\", \"real\": \"[0, 1, 0]\"}, {\"pred\": \"[0, 1, 0]\", \"real\": \"[0, 1, 0]\"}, {\"pred\": \"[0, 1, 0]\", \"real\": \"[0, 1, 0]\"}, {\"pred\": \"[0, 1, 0]\", \"real\": \"[0, 0, 0]\"}, {\"pred\": \"[0, 0, 0]\", \"real\": \"[0, 1, 0]\"}, {\"pred\": \"[0, 0, 0]\", \"real\": \"[0, 0, 0]\"}, {\"pred\": \"[0, 1, 0]\", \"real\": \"[0, 1, 0]\"}, {\"pred\": \"[0, 0, 0]\", \"real\": \"[0, 0, 0]\"}, {\"pred\": \"[0, 0, 0]\", \"real\": \"[0, 0, 0]\"}, {\"pred\": \"[0, 1, 0]\", \"real\": \"[0, 1, 0]\"}, {\"pred\": \"[0, 1, 0]\", \"real\": \"[0, 1, 0]\"}, {\"pred\": \"[0, 1, 0]\", \"real\": \"[1, 1, 1]\"}, {\"pred\": \"[0, 1, 0]\", \"real\": \"[0, 1, 0]\"}, {\"pred\": \"[0, 0, 1]\", \"real\": \"[0, 0, 1]\"}, {\"pred\": \"[0, 1, 0]\", \"real\": \"[0, 1, 0]\"}, {\"pred\": \"[1, 1, 1]\", \"real\": \"[1, 1, 1]\"}, {\"pred\": \"[0, 1, 0]\", \"real\": \"[0, 0, 0]\"}, {\"pred\": \"[0, 1, 1]\", \"real\": \"[0, 1, 1]\"}, {\"pred\": \"[0, 1, 0]\", \"real\": \"[0, 1, 0]\"}, {\"pred\": \"[1, 1, 1]\", \"real\": \"[0, 0, 0]\"}, {\"pred\": \"[0, 1, 0]\", \"real\": \"[0, 1, 0]\"}, {\"pred\": \"[0, 1, 0]\", \"real\": \"[0, 1, 0]\"}, {\"pred\": \"[1, 0, 1]\", \"real\": \"[1, 1, 1]\"}, {\"pred\": \"[0, 0, 0]\", \"real\": \"[0, 1, 0]\"}, {\"pred\": \"[0, 1, 0]\", \"real\": \"[0, 0, 0]\"}, {\"pred\": \"[0, 0, 1]\", \"real\": \"[0, 1, 0]\"}, {\"pred\": \"[0, 0, 0]\", \"real\": \"[0, 0, 0]\"}, {\"pred\": \"[0, 0, 0]\", \"real\": \"[0, 0, 0]\"}, {\"pred\": \"[0, 0, 0]\", \"real\": \"[0, 1, 1]\"}, {\"pred\": \"[0, 0, 0]\", \"real\": \"[0, 0, 0]\"}, {\"pred\": \"[0, 0, 0]\", \"real\": \"[0, 0, 0]\"}, {\"pred\": \"[0, 0, 1]\", \"real\": \"[0, 1, 1]\"}, {\"pred\": \"[0, 1, 0]\", \"real\": \"[0, 1, 0]\"}, {\"pred\": \"[0, 1, 0]\", \"real\": \"[0, 1, 0]\"}, {\"pred\": \"[0, 0, 0]\", \"real\": \"[0, 1, 0]\"}, {\"pred\": \"[0, 0, 0]\", \"real\": \"[0, 1, 0]\"}, {\"pred\": \"[0, 1, 0]\", \"real\": \"[0, 1, 0]\"}, {\"pred\": \"[0, 1, 0]\", \"real\": \"[0, 1, 1]\"}, {\"pred\": \"[0, 1, 0]\", \"real\": \"[0, 1, 0]\"}, {\"pred\": \"[0, 1, 0]\", \"real\": \"[0, 1, 0]\"}, {\"pred\": \"[1, 1, 1]\", \"real\": \"[1, 1, 1]\"}, {\"pred\": \"[0, 1, 1]\", \"real\": \"[0, 1, 1]\"}, {\"pred\": \"[1, 1, 0]\", \"real\": \"[0, 1, 0]\"}, {\"pred\": \"[0, 1, 0]\", \"real\": \"[0, 1, 0]\"}, {\"pred\": \"[0, 0, 0]\", \"real\": \"[0, 1, 0]\"}, {\"pred\": \"[0, 1, 0]\", \"real\": \"[0, 0, 0]\"}, {\"pred\": \"[0, 1, 0]\", \"real\": \"[0, 0, 0]\"}, {\"pred\": \"[0, 1, 1]\", \"real\": \"[0, 1, 0]\"}, {\"pred\": \"[0, 1, 0]\", \"real\": \"[0, 1, 0]\"}, {\"pred\": \"[0, 1, 0]\", \"real\": \"[0, 1, 0]\"}, {\"pred\": \"[0, 1, 0]\", \"real\": \"[0, 1, 1]\"}, {\"pred\": \"[0, 1, 0]\", \"real\": \"[0, 0, 0]\"}, {\"pred\": \"[1, 1, 1]\", \"real\": \"[1, 1, 1]\"}, {\"pred\": \"[0, 0, 1]\", \"real\": \"[0, 1, 1]\"}, {\"pred\": \"[0, 0, 0]\", \"real\": \"[0, 1, 0]\"}, {\"pred\": \"[0, 1, 0]\", \"real\": \"[0, 1, 0]\"}, {\"pred\": \"[0, 1, 0]\", \"real\": \"[0, 1, 1]\"}, {\"pred\": \"[0, 0, 0]\", \"real\": \"[0, 0, 0]\"}, {\"pred\": \"[0, 1, 0]\", \"real\": \"[0, 1, 0]\"}, {\"pred\": \"[0, 1, 0]\", \"real\": \"[0, 1, 0]\"}, {\"pred\": \"[0, 1, 0]\", \"real\": \"[0, 1, 0]\"}, {\"pred\": \"[0, 0, 0]\", \"real\": \"[0, 0, 0]\"}, {\"pred\": \"[0, 1, 1]\", \"real\": \"[0, 1, 1]\"}, {\"pred\": \"[0, 1, 0]\", \"real\": \"[0, 1, 0]\"}, {\"pred\": \"[0, 0, 1]\", \"real\": \"[0, 1, 1]\"}, {\"pred\": \"[0, 0, 0]\", \"real\": \"[0, 0, 0]\"}, {\"pred\": \"[0, 1, 0]\", \"real\": \"[0, 1, 0]\"}, {\"pred\": \"[0, 1, 0]\", \"real\": \"[0, 1, 0]\"}, {\"pred\": \"[0, 1, 0]\", \"real\": \"[0, 1, 1]\"}, {\"pred\": \"[0, 1, 0]\", \"real\": \"[0, 1, 0]\"}, {\"pred\": \"[0, 0, 0]\", \"real\": \"[0, 1, 0]\"}, {\"pred\": \"[0, 1, 0]\", \"real\": \"[0, 0, 0]\"}, {\"pred\": \"[0, 1, 0]\", \"real\": \"[0, 1, 0]\"}, {\"pred\": \"[0, 0, 0]\", \"real\": \"[0, 0, 0]\"}, {\"pred\": \"[0, 0, 0]\", \"real\": \"[0, 1, 0]\"}, {\"pred\": \"[1, 0, 1]\", \"real\": \"[0, 1, 0]\"}, {\"pred\": \"[0, 1, 0]\", \"real\": \"[0, 1, 0]\"}, {\"pred\": \"[0, 0, 0]\", \"real\": \"[0, 0, 0]\"}, {\"pred\": \"[0, 1, 0]\", \"real\": \"[0, 0, 0]\"}, {\"pred\": \"[0, 1, 0]\", \"real\": \"[0, 1, 0]\"}, {\"pred\": \"[0, 0, 0]\", \"real\": \"[0, 1, 0]\"}, {\"pred\": \"[0, 1, 0]\", \"real\": \"[0, 1, 1]\"}, {\"pred\": \"[0, 1, 1]\", \"real\": \"[0, 1, 1]\"}, {\"pred\": \"[0, 1, 0]\", \"real\": \"[0, 0, 0]\"}, {\"pred\": \"[0, 0, 1]\", \"real\": \"[0, 1, 0]\"}, {\"pred\": \"[0, 0, 0]\", \"real\": \"[0, 0, 0]\"}, {\"pred\": \"[0, 1, 0]\", \"real\": \"[0, 1, 0]\"}, {\"pred\": \"[0, 1, 1]\", \"real\": \"[0, 1, 1]\"}, {\"pred\": \"[0, 1, 0]\", \"real\": \"[0, 1, 0]\"}, {\"pred\": \"[0, 1, 1]\", \"real\": \"[0, 1, 1]\"}, {\"pred\": \"[0, 0, 0]\", \"real\": \"[0, 0, 0]\"}, {\"pred\": \"[0, 1, 0]\", \"real\": \"[0, 1, 0]\"}, {\"pred\": \"[0, 0, 0]\", \"real\": \"[0, 0, 0]\"}, {\"pred\": \"[0, 1, 1]\", \"real\": \"[0, 1, 1]\"}, {\"pred\": \"[0, 0, 0]\", \"real\": \"[0, 0, 0]\"}, {\"pred\": \"[0, 1, 0]\", \"real\": \"[0, 1, 0]\"}, {\"pred\": \"[0, 1, 0]\", \"real\": \"[0, 1, 0]\"}, {\"pred\": \"[0, 1, 0]\", \"real\": \"[0, 1, 0]\"}, {\"pred\": \"[0, 1, 0]\", \"real\": \"[0, 1, 1]\"}, {\"pred\": \"[1, 1, 1]\", \"real\": \"[0, 0, 1]\"}, {\"pred\": \"[0, 1, 0]\", \"real\": \"[0, 1, 0]\"}, {\"pred\": \"[0, 1, 0]\", \"real\": \"[0, 1, 0]\"}, {\"pred\": \"[0, 1, 0]\", \"real\": \"[0, 1, 0]\"}, {\"pred\": \"[0, 1, 0]\", \"real\": \"[0, 1, 0]\"}, {\"pred\": \"[0, 1, 0]\", \"real\": \"[0, 0, 1]\"}, {\"pred\": \"[0, 0, 0]\", \"real\": \"[0, 0, 0]\"}, {\"pred\": \"[0, 1, 0]\", \"real\": \"[0, 1, 1]\"}, {\"pred\": \"[0, 1, 0]\", \"real\": \"[0, 1, 0]\"}, {\"pred\": \"[0, 1, 0]\", \"real\": \"[0, 1, 0]\"}, {\"pred\": \"[0, 1, 0]\", \"real\": \"[0, 1, 1]\"}, {\"pred\": \"[0, 1, 0]\", \"real\": \"[0, 1, 0]\"}, {\"pred\": \"[1, 0, 1]\", \"real\": \"[1, 1, 1]\"}, {\"pred\": \"[0, 1, 0]\", \"real\": \"[0, 1, 0]\"}, {\"pred\": \"[0, 1, 0]\", \"real\": \"[0, 1, 0]\"}, {\"pred\": \"[0, 1, 0]\", \"real\": \"[0, 1, 0]\"}, {\"pred\": \"[0, 0, 0]\", \"real\": \"[0, 0, 0]\"}, {\"pred\": \"[0, 0, 0]\", \"real\": \"[0, 0, 0]\"}, {\"pred\": \"[0, 0, 0]\", \"real\": \"[0, 1, 0]\"}, {\"pred\": \"[0, 1, 0]\", \"real\": \"[0, 1, 1]\"}, {\"pred\": \"[0, 1, 0]\", \"real\": \"[0, 0, 0]\"}, {\"pred\": \"[0, 0, 0]\", \"real\": \"[0, 1, 0]\"}, {\"pred\": \"[0, 1, 0]\", \"real\": \"[0, 0, 1]\"}, {\"pred\": \"[0, 0, 0]\", \"real\": \"[0, 0, 0]\"}, {\"pred\": \"[0, 1, 0]\", \"real\": \"[0, 0, 0]\"}, {\"pred\": \"[0, 1, 0]\", \"real\": \"[0, 1, 0]\"}, {\"pred\": \"[1, 0, 0]\", \"real\": \"[1, 0, 0]\"}, {\"pred\": \"[1, 1, 1]\", \"real\": \"[0, 1, 1]\"}, {\"pred\": \"[1, 1, 0]\", \"real\": \"[0, 1, 1]\"}, {\"pred\": \"[0, 1, 1]\", \"real\": \"[0, 1, 0]\"}, {\"pred\": \"[0, 1, 0]\", \"real\": \"[0, 1, 0]\"}, {\"pred\": \"[0, 1, 0]\", \"real\": \"[0, 1, 0]\"}, {\"pred\": \"[0, 1, 0]\", \"real\": \"[0, 1, 0]\"}, {\"pred\": \"[0, 0, 0]\", \"real\": \"[0, 0, 0]\"}, {\"pred\": \"[0, 1, 0]\", \"real\": \"[0, 1, 0]\"}, {\"pred\": \"[1, 1, 1]\", \"real\": \"[1, 1, 0]\"}, {\"pred\": \"[0, 1, 0]\", \"real\": \"[0, 1, 0]\"}, {\"pred\": \"[0, 1, 0]\", \"real\": \"[0, 1, 0]\"}, {\"pred\": \"[0, 1, 0]\", \"real\": \"[0, 1, 0]\"}, {\"pred\": \"[0, 0, 0]\", \"real\": \"[0, 0, 0]\"}, {\"pred\": \"[0, 1, 0]\", \"real\": \"[0, 0, 1]\"}, {\"pred\": \"[0, 1, 0]\", \"real\": \"[0, 1, 0]\"}, {\"pred\": \"[0, 1, 0]\", \"real\": \"[0, 1, 1]\"}, {\"pred\": \"[0, 0, 0]\", \"real\": \"[0, 0, 0]\"}, {\"pred\": \"[1, 1, 1]\", \"real\": \"[1, 1, 1]\"}, {\"pred\": \"[0, 0, 0]\", \"real\": \"[0, 1, 0]\"}, {\"pred\": \"[0, 0, 0]\", \"real\": \"[0, 1, 1]\"}, {\"pred\": \"[0, 0, 0]\", \"real\": \"[0, 0, 0]\"}, {\"pred\": \"[0, 1, 1]\", \"real\": \"[1, 1, 1]\"}, {\"pred\": \"[0, 0, 0]\", \"real\": \"[0, 0, 0]\"}, {\"pred\": \"[0, 1, 0]\", \"real\": \"[0, 1, 0]\"}, {\"pred\": \"[0, 1, 0]\", \"real\": \"[1, 1, 1]\"}, {\"pred\": \"[0, 0, 0]\", \"real\": \"[0, 0, 0]\"}, {\"pred\": \"[0, 0, 0]\", \"real\": \"[0, 1, 0]\"}, {\"pred\": \"[0, 1, 0]\", \"real\": \"[0, 1, 0]\"}, {\"pred\": \"[0, 1, 1]\", \"real\": \"[0, 1, 0]\"}, {\"pred\": \"[0, 1, 0]\", \"real\": \"[0, 0, 0]\"}, {\"pred\": \"[0, 0, 0]\", \"real\": \"[0, 1, 0]\"}, {\"pred\": \"[0, 1, 1]\", \"real\": \"[0, 1, 1]\"}, {\"pred\": \"[0, 0, 0]\", \"real\": \"[1, 1, 1]\"}, {\"pred\": \"[0, 0, 0]\", \"real\": \"[0, 0, 0]\"}, {\"pred\": \"[0, 0, 1]\", \"real\": \"[0, 0, 0]\"}, {\"pred\": \"[0, 1, 0]\", \"real\": \"[0, 1, 1]\"}, {\"pred\": \"[0, 1, 0]\", \"real\": \"[0, 1, 0]\"}, {\"pred\": \"[0, 1, 0]\", \"real\": \"[0, 1, 0]\"}, {\"pred\": \"[0, 1, 0]\", \"real\": \"[0, 1, 0]\"}, {\"pred\": \"[0, 0, 0]\", \"real\": \"[0, 0, 0]\"}, {\"pred\": \"[0, 1, 0]\", \"real\": \"[0, 1, 0]\"}, {\"pred\": \"[0, 0, 0]\", \"real\": \"[0, 0, 0]\"}, {\"pred\": \"[0, 0, 0]\", \"real\": \"[0, 0, 0]\"}, {\"pred\": \"[0, 1, 0]\", \"real\": \"[0, 1, 0]\"}, {\"pred\": \"[0, 1, 0]\", \"real\": \"[0, 1, 1]\"}, {\"pred\": \"[0, 0, 0]\", \"real\": \"[0, 0, 0]\"}, {\"pred\": \"[0, 1, 0]\", \"real\": \"[0, 1, 1]\"}, {\"pred\": \"[0, 0, 0]\", \"real\": \"[0, 0, 0]\"}, {\"pred\": \"[0, 0, 1]\", \"real\": \"[0, 0, 0]\"}, {\"pred\": \"[0, 0, 0]\", \"real\": \"[0, 1, 1]\"}, {\"pred\": \"[0, 1, 0]\", \"real\": \"[0, 1, 0]\"}, {\"pred\": \"[0, 1, 1]\", \"real\": \"[0, 1, 1]\"}, {\"pred\": \"[0, 0, 0]\", \"real\": \"[0, 0, 0]\"}, {\"pred\": \"[0, 0, 0]\", \"real\": \"[0, 0, 0]\"}, {\"pred\": \"[0, 0, 0]\", \"real\": \"[0, 1, 0]\"}, {\"pred\": \"[0, 0, 1]\", \"real\": \"[0, 0, 0]\"}, {\"pred\": \"[0, 0, 0]\", \"real\": \"[0, 0, 0]\"}, {\"pred\": \"[0, 1, 0]\", \"real\": \"[0, 0, 0]\"}, {\"pred\": \"[0, 0, 0]\", \"real\": \"[0, 1, 0]\"}, {\"pred\": \"[0, 1, 0]\", \"real\": \"[0, 1, 0]\"}, {\"pred\": \"[0, 1, 0]\", \"real\": \"[0, 1, 1]\"}, {\"pred\": \"[0, 1, 0]\", \"real\": \"[0, 1, 0]\"}, {\"pred\": \"[0, 1, 1]\", \"real\": \"[0, 1, 1]\"}, {\"pred\": \"[0, 0, 0]\", \"real\": \"[0, 0, 1]\"}, {\"pred\": \"[0, 1, 0]\", \"real\": \"[0, 1, 0]\"}, {\"pred\": \"[0, 1, 0]\", \"real\": \"[0, 1, 0]\"}, {\"pred\": \"[0, 1, 0]\", \"real\": \"[0, 1, 1]\"}, {\"pred\": \"[0, 1, 0]\", \"real\": \"[1, 1, 1]\"}, {\"pred\": \"[0, 0, 0]\", \"real\": \"[0, 1, 0]\"}, {\"pred\": \"[0, 0, 1]\", \"real\": \"[1, 1, 0]\"}, {\"pred\": \"[0, 0, 0]\", \"real\": \"[0, 0, 0]\"}, {\"pred\": \"[0, 1, 0]\", \"real\": \"[0, 1, 0]\"}, {\"pred\": \"[0, 1, 0]\", \"real\": \"[1, 1, 0]\"}, {\"pred\": \"[0, 1, 0]\", \"real\": \"[0, 1, 0]\"}, {\"pred\": \"[0, 0, 0]\", \"real\": \"[0, 0, 0]\"}, {\"pred\": \"[0, 0, 0]\", \"real\": \"[0, 0, 0]\"}, {\"pred\": \"[0, 1, 1]\", \"real\": \"[0, 1, 1]\"}, {\"pred\": \"[0, 1, 0]\", \"real\": \"[0, 1, 0]\"}, {\"pred\": \"[0, 0, 0]\", \"real\": \"[0, 1, 0]\"}, {\"pred\": \"[0, 1, 1]\", \"real\": \"[0, 1, 1]\"}, {\"pred\": \"[0, 1, 0]\", \"real\": \"[0, 1, 0]\"}, {\"pred\": \"[0, 0, 0]\", \"real\": \"[0, 0, 0]\"}, {\"pred\": \"[0, 1, 0]\", \"real\": \"[0, 1, 0]\"}, {\"pred\": \"[0, 0, 1]\", \"real\": \"[0, 0, 0]\"}, {\"pred\": \"[0, 1, 0]\", \"real\": \"[0, 1, 0]\"}, {\"pred\": \"[0, 1, 0]\", \"real\": \"[0, 1, 0]\"}, {\"pred\": \"[0, 1, 0]\", \"real\": \"[0, 1, 0]\"}, {\"pred\": \"[0, 0, 1]\", \"real\": \"[0, 0, 0]\"}, {\"pred\": \"[1, 1, 1]\", \"real\": \"[1, 1, 0]\"}, {\"pred\": \"[0, 1, 1]\", \"real\": \"[0, 1, 0]\"}, {\"pred\": \"[0, 1, 0]\", \"real\": \"[0, 1, 0]\"}, {\"pred\": \"[0, 1, 0]\", \"real\": \"[0, 1, 0]\"}, {\"pred\": \"[0, 1, 0]\", \"real\": \"[0, 1, 0]\"}, {\"pred\": \"[0, 0, 0]\", \"real\": \"[0, 0, 0]\"}, {\"pred\": \"[0, 0, 0]\", \"real\": \"[0, 0, 0]\"}, {\"pred\": \"[0, 1, 0]\", \"real\": \"[0, 1, 1]\"}, {\"pred\": \"[0, 1, 0]\", \"real\": \"[0, 1, 0]\"}, {\"pred\": \"[0, 1, 1]\", \"real\": \"[0, 1, 0]\"}, {\"pred\": \"[0, 1, 0]\", \"real\": \"[0, 1, 0]\"}, {\"pred\": \"[0, 1, 0]\", \"real\": \"[0, 1, 0]\"}, {\"pred\": \"[0, 1, 1]\", \"real\": \"[0, 1, 1]\"}, {\"pred\": \"[0, 1, 0]\", \"real\": \"[0, 1, 0]\"}, {\"pred\": \"[0, 0, 0]\", \"real\": \"[0, 1, 0]\"}, {\"pred\": \"[0, 1, 0]\", \"real\": \"[0, 1, 0]\"}, {\"pred\": \"[0, 1, 1]\", \"real\": \"[0, 1, 0]\"}, {\"pred\": \"[0, 0, 0]\", \"real\": \"[0, 0, 0]\"}, {\"pred\": \"[0, 1, 1]\", \"real\": \"[0, 1, 1]\"}, {\"pred\": \"[0, 0, 0]\", \"real\": \"[0, 1, 0]\"}, {\"pred\": \"[1, 0, 1]\", \"real\": \"[0, 0, 0]\"}, {\"pred\": \"[0, 1, 0]\", \"real\": \"[0, 1, 1]\"}, {\"pred\": \"[0, 1, 0]\", \"real\": \"[0, 0, 0]\"}, {\"pred\": \"[0, 1, 1]\", \"real\": \"[0, 1, 0]\"}, {\"pred\": \"[0, 0, 0]\", \"real\": \"[0, 1, 0]\"}, {\"pred\": \"[0, 1, 0]\", \"real\": \"[0, 1, 0]\"}, {\"pred\": \"[0, 0, 1]\", \"real\": \"[0, 0, 1]\"}, {\"pred\": \"[0, 1, 0]\", \"real\": \"[0, 1, 1]\"}, {\"pred\": \"[0, 0, 0]\", \"real\": \"[0, 1, 1]\"}, {\"pred\": \"[0, 1, 0]\", \"real\": \"[0, 1, 0]\"}, {\"pred\": \"[0, 1, 0]\", \"real\": \"[0, 1, 0]\"}, {\"pred\": \"[0, 0, 0]\", \"real\": \"[0, 0, 0]\"}, {\"pred\": \"[0, 0, 0]\", \"real\": \"[0, 0, 1]\"}, {\"pred\": \"[0, 0, 0]\", \"real\": \"[0, 0, 0]\"}, {\"pred\": \"[0, 1, 0]\", \"real\": \"[0, 1, 0]\"}, {\"pred\": \"[0, 1, 0]\", \"real\": \"[0, 1, 0]\"}, {\"pred\": \"[0, 0, 0]\", \"real\": \"[0, 0, 0]\"}, {\"pred\": \"[0, 0, 1]\", \"real\": \"[0, 0, 1]\"}, {\"pred\": \"[0, 0, 0]\", \"real\": \"[0, 0, 0]\"}, {\"pred\": \"[1, 1, 0]\", \"real\": \"[1, 1, 1]\"}, {\"pred\": \"[0, 0, 0]\", \"real\": \"[0, 0, 0]\"}, {\"pred\": \"[1, 1, 1]\", \"real\": \"[0, 0, 0]\"}, {\"pred\": \"[0, 1, 0]\", \"real\": \"[0, 1, 0]\"}, {\"pred\": \"[0, 1, 0]\", \"real\": \"[0, 1, 1]\"}, {\"pred\": \"[0, 0, 0]\", \"real\": \"[0, 0, 0]\"}, {\"pred\": \"[0, 1, 0]\", \"real\": \"[0, 1, 0]\"}, {\"pred\": \"[0, 1, 0]\", \"real\": \"[0, 1, 0]\"}, {\"pred\": \"[0, 1, 0]\", \"real\": \"[0, 1, 0]\"}, {\"pred\": \"[0, 1, 0]\", \"real\": \"[0, 1, 0]\"}, {\"pred\": \"[0, 0, 0]\", \"real\": \"[0, 0, 0]\"}, {\"pred\": \"[0, 1, 0]\", \"real\": \"[0, 1, 0]\"}, {\"pred\": \"[1, 1, 0]\", \"real\": \"[0, 1, 0]\"}, {\"pred\": \"[0, 0, 0]\", \"real\": \"[0, 0, 0]\"}, {\"pred\": \"[0, 1, 0]\", \"real\": \"[0, 0, 0]\"}, {\"pred\": \"[0, 1, 1]\", \"real\": \"[0, 1, 1]\"}, {\"pred\": \"[0, 1, 0]\", \"real\": \"[0, 1, 0]\"}, {\"pred\": \"[0, 0, 0]\", \"real\": \"[0, 0, 1]\"}, {\"pred\": \"[0, 1, 0]\", \"real\": \"[0, 0, 0]\"}, {\"pred\": \"[0, 0, 0]\", \"real\": \"[0, 0, 0]\"}, {\"pred\": \"[0, 1, 0]\", \"real\": \"[0, 1, 0]\"}, {\"pred\": \"[0, 1, 0]\", \"real\": \"[0, 1, 0]\"}, {\"pred\": \"[0, 1, 0]\", \"real\": \"[0, 1, 0]\"}, {\"pred\": \"[0, 1, 0]\", \"real\": \"[0, 1, 0]\"}, {\"pred\": \"[0, 1, 0]\", \"real\": \"[0, 1, 0]\"}, {\"pred\": \"[0, 0, 0]\", \"real\": \"[0, 0, 0]\"}, {\"pred\": \"[1, 1, 1]\", \"real\": \"[0, 0, 0]\"}, {\"pred\": \"[0, 1, 1]\", \"real\": \"[0, 1, 0]\"}, {\"pred\": \"[0, 0, 0]\", \"real\": \"[0, 0, 0]\"}, {\"pred\": \"[0, 1, 0]\", \"real\": \"[0, 0, 0]\"}, {\"pred\": \"[0, 1, 1]\", \"real\": \"[0, 1, 0]\"}, {\"pred\": \"[0, 1, 0]\", \"real\": \"[0, 1, 0]\"}, {\"pred\": \"[0, 1, 0]\", \"real\": \"[0, 1, 0]\"}, {\"pred\": \"[0, 1, 0]\", \"real\": \"[0, 1, 0]\"}, {\"pred\": \"[0, 1, 0]\", \"real\": \"[0, 1, 0]\"}, {\"pred\": \"[0, 0, 0]\", \"real\": \"[0, 0, 0]\"}, {\"pred\": \"[0, 1, 0]\", \"real\": \"[0, 1, 0]\"}, {\"pred\": \"[0, 1, 0]\", \"real\": \"[0, 1, 0]\"}, {\"pred\": \"[0, 1, 0]\", \"real\": \"[0, 1, 0]\"}, {\"pred\": \"[0, 1, 1]\", \"real\": \"[0, 1, 0]\"}, {\"pred\": \"[0, 1, 0]\", \"real\": \"[0, 1, 0]\"}, {\"pred\": \"[0, 1, 0]\", \"real\": \"[0, 1, 0]\"}, {\"pred\": \"[0, 1, 1]\", \"real\": \"[0, 1, 1]\"}, {\"pred\": \"[0, 1, 0]\", \"real\": \"[0, 1, 0]\"}, {\"pred\": \"[0, 1, 0]\", \"real\": \"[0, 0, 0]\"}, {\"pred\": \"[0, 0, 0]\", \"real\": \"[0, 0, 1]\"}, {\"pred\": \"[0, 1, 0]\", \"real\": \"[0, 1, 0]\"}, {\"pred\": \"[0, 1, 0]\", \"real\": \"[0, 1, 0]\"}, {\"pred\": \"[0, 0, 0]\", \"real\": \"[0, 0, 0]\"}, {\"pred\": \"[1, 1, 1]\", \"real\": \"[1, 1, 1]\"}, {\"pred\": \"[0, 0, 0]\", \"real\": \"[0, 0, 0]\"}, {\"pred\": \"[0, 0, 0]\", \"real\": \"[0, 0, 0]\"}, {\"pred\": \"[0, 1, 1]\", \"real\": \"[0, 1, 1]\"}, {\"pred\": \"[0, 0, 0]\", \"real\": \"[0, 1, 1]\"}, {\"pred\": \"[0, 1, 1]\", \"real\": \"[0, 1, 1]\"}, {\"pred\": \"[0, 0, 1]\", \"real\": \"[0, 0, 0]\"}, {\"pred\": \"[0, 0, 0]\", \"real\": \"[0, 1, 0]\"}, {\"pred\": \"[0, 1, 0]\", \"real\": \"[0, 1, 0]\"}, {\"pred\": \"[1, 1, 1]\", \"real\": \"[1, 1, 0]\"}, {\"pred\": \"[1, 1, 0]\", \"real\": \"[0, 1, 0]\"}, {\"pred\": \"[0, 1, 0]\", \"real\": \"[0, 1, 0]\"}, {\"pred\": \"[0, 1, 0]\", \"real\": \"[0, 0, 0]\"}, {\"pred\": \"[0, 1, 0]\", \"real\": \"[0, 1, 0]\"}, {\"pred\": \"[0, 1, 0]\", \"real\": \"[0, 1, 1]\"}, {\"pred\": \"[0, 0, 0]\", \"real\": \"[0, 0, 0]\"}, {\"pred\": \"[0, 1, 1]\", \"real\": \"[0, 1, 1]\"}, {\"pred\": \"[0, 1, 0]\", \"real\": \"[0, 1, 0]\"}, {\"pred\": \"[0, 1, 0]\", \"real\": \"[0, 1, 0]\"}, {\"pred\": \"[0, 1, 0]\", \"real\": \"[0, 1, 1]\"}, {\"pred\": \"[0, 0, 0]\", \"real\": \"[0, 0, 0]\"}, {\"pred\": \"[0, 0, 0]\", \"real\": \"[0, 0, 0]\"}, {\"pred\": \"[0, 1, 1]\", \"real\": \"[0, 1, 1]\"}, {\"pred\": \"[0, 1, 0]\", \"real\": \"[0, 1, 1]\"}, {\"pred\": \"[0, 0, 0]\", \"real\": \"[0, 0, 0]\"}, {\"pred\": \"[1, 1, 1]\", \"real\": \"[0, 0, 1]\"}, {\"pred\": \"[0, 0, 0]\", \"real\": \"[0, 0, 0]\"}, {\"pred\": \"[1, 1, 1]\", \"real\": \"[0, 1, 1]\"}, {\"pred\": \"[0, 0, 0]\", \"real\": \"[0, 1, 0]\"}, {\"pred\": \"[1, 1, 1]\", \"real\": \"[1, 1, 1]\"}, {\"pred\": \"[0, 0, 0]\", \"real\": \"[0, 1, 1]\"}, {\"pred\": \"[0, 0, 0]\", \"real\": \"[0, 0, 1]\"}, {\"pred\": \"[0, 1, 0]\", \"real\": \"[0, 1, 1]\"}, {\"pred\": \"[0, 1, 0]\", \"real\": \"[0, 0, 0]\"}, {\"pred\": \"[0, 0, 0]\", \"real\": \"[0, 0, 0]\"}, {\"pred\": \"[0, 0, 0]\", \"real\": \"[0, 0, 0]\"}, {\"pred\": \"[0, 0, 0]\", \"real\": \"[0, 1, 0]\"}, {\"pred\": \"[0, 1, 0]\", \"real\": \"[0, 1, 0]\"}, {\"pred\": \"[0, 1, 0]\", \"real\": \"[0, 1, 0]\"}, {\"pred\": \"[0, 1, 0]\", \"real\": \"[0, 1, 0]\"}, {\"pred\": \"[0, 1, 0]\", \"real\": \"[0, 0, 0]\"}, {\"pred\": \"[0, 0, 0]\", \"real\": \"[0, 0, 0]\"}, {\"pred\": \"[0, 1, 0]\", \"real\": \"[0, 1, 1]\"}, {\"pred\": \"[0, 1, 0]\", \"real\": \"[0, 1, 0]\"}, {\"pred\": \"[0, 1, 0]\", \"real\": \"[0, 1, 0]\"}, {\"pred\": \"[0, 1, 0]\", \"real\": \"[0, 1, 0]\"}, {\"pred\": \"[0, 0, 0]\", \"real\": \"[0, 0, 0]\"}, {\"pred\": \"[0, 1, 0]\", \"real\": \"[0, 1, 0]\"}, {\"pred\": \"[0, 1, 0]\", \"real\": \"[0, 0, 0]\"}, {\"pred\": \"[0, 0, 0]\", \"real\": \"[0, 0, 0]\"}, {\"pred\": \"[0, 1, 0]\", \"real\": \"[0, 1, 0]\"}, {\"pred\": \"[0, 1, 0]\", \"real\": \"[0, 1, 0]\"}, {\"pred\": \"[0, 0, 0]\", \"real\": \"[0, 0, 0]\"}, {\"pred\": \"[0, 1, 0]\", \"real\": \"[0, 0, 0]\"}, {\"pred\": \"[0, 1, 0]\", \"real\": \"[0, 0, 0]\"}, {\"pred\": \"[0, 0, 1]\", \"real\": \"[0, 0, 1]\"}, {\"pred\": \"[0, 1, 0]\", \"real\": \"[1, 1, 0]\"}, {\"pred\": \"[0, 0, 0]\", \"real\": \"[0, 0, 0]\"}, {\"pred\": \"[0, 1, 0]\", \"real\": \"[0, 1, 0]\"}, {\"pred\": \"[0, 1, 1]\", \"real\": \"[0, 0, 0]\"}, {\"pred\": \"[0, 1, 0]\", \"real\": \"[0, 1, 0]\"}, {\"pred\": \"[0, 0, 0]\", \"real\": \"[0, 0, 0]\"}, {\"pred\": \"[0, 0, 0]\", \"real\": \"[1, 0, 1]\"}, {\"pred\": \"[0, 1, 1]\", \"real\": \"[0, 0, 0]\"}, {\"pred\": \"[0, 0, 0]\", \"real\": \"[0, 0, 0]\"}, {\"pred\": \"[0, 1, 1]\", \"real\": \"[0, 1, 0]\"}, {\"pred\": \"[0, 1, 0]\", \"real\": \"[0, 1, 0]\"}, {\"pred\": \"[0, 0, 0]\", \"real\": \"[0, 1, 0]\"}, {\"pred\": \"[1, 1, 0]\", \"real\": \"[1, 1, 0]\"}, {\"pred\": \"[0, 1, 0]\", \"real\": \"[0, 1, 0]\"}, {\"pred\": \"[0, 1, 1]\", \"real\": \"[0, 1, 0]\"}, {\"pred\": \"[0, 0, 0]\", \"real\": \"[0, 0, 0]\"}, {\"pred\": \"[0, 0, 0]\", \"real\": \"[0, 0, 0]\"}, {\"pred\": \"[0, 0, 0]\", \"real\": \"[0, 1, 0]\"}, {\"pred\": \"[0, 0, 1]\", \"real\": \"[0, 0, 0]\"}, {\"pred\": \"[0, 1, 0]\", \"real\": \"[1, 1, 1]\"}, {\"pred\": \"[0, 0, 1]\", \"real\": \"[0, 1, 1]\"}, {\"pred\": \"[0, 1, 0]\", \"real\": \"[0, 1, 0]\"}, {\"pred\": \"[1, 1, 0]\", \"real\": \"[0, 0, 0]\"}, {\"pred\": \"[0, 1, 1]\", \"real\": \"[1, 1, 1]\"}, {\"pred\": \"[0, 0, 0]\", \"real\": \"[0, 1, 0]\"}, {\"pred\": \"[0, 0, 1]\", \"real\": \"[0, 0, 0]\"}, {\"pred\": \"[0, 0, 0]\", \"real\": \"[0, 0, 0]\"}, {\"pred\": \"[0, 0, 0]\", \"real\": \"[0, 1, 0]\"}, {\"pred\": \"[0, 1, 0]\", \"real\": \"[0, 1, 0]\"}, {\"pred\": \"[0, 1, 0]\", \"real\": \"[0, 0, 1]\"}, {\"pred\": \"[0, 1, 0]\", \"real\": \"[0, 1, 1]\"}, {\"pred\": \"[0, 0, 0]\", \"real\": \"[0, 1, 0]\"}, {\"pred\": \"[0, 0, 0]\", \"real\": \"[0, 0, 0]\"}, {\"pred\": \"[0, 1, 0]\", \"real\": \"[0, 1, 0]\"}, {\"pred\": \"[0, 1, 0]\", \"real\": \"[0, 1, 0]\"}, {\"pred\": \"[0, 1, 0]\", \"real\": \"[0, 1, 0]\"}, {\"pred\": \"[0, 0, 0]\", \"real\": \"[0, 1, 0]\"}, {\"pred\": \"[0, 0, 0]\", \"real\": \"[0, 0, 0]\"}, {\"pred\": \"[0, 1, 0]\", \"real\": \"[0, 1, 0]\"}, {\"pred\": \"[0, 0, 1]\", \"real\": \"[0, 1, 1]\"}, {\"pred\": \"[1, 1, 1]\", \"real\": \"[1, 1, 1]\"}, {\"pred\": \"[1, 1, 1]\", \"real\": \"[0, 0, 1]\"}, {\"pred\": \"[0, 1, 1]\", \"real\": \"[0, 1, 1]\"}, {\"pred\": \"[0, 1, 0]\", \"real\": \"[0, 0, 0]\"}, {\"pred\": \"[0, 0, 0]\", \"real\": \"[0, 0, 0]\"}, {\"pred\": \"[0, 0, 0]\", \"real\": \"[0, 1, 0]\"}, {\"pred\": \"[1, 1, 0]\", \"real\": \"[0, 0, 0]\"}, {\"pred\": \"[0, 1, 0]\", \"real\": \"[0, 1, 0]\"}, {\"pred\": \"[0, 1, 1]\", \"real\": \"[0, 1, 1]\"}, {\"pred\": \"[0, 1, 0]\", \"real\": \"[0, 1, 0]\"}, {\"pred\": \"[0, 0, 0]\", \"real\": \"[0, 0, 0]\"}, {\"pred\": \"[0, 1, 0]\", \"real\": \"[0, 1, 1]\"}, {\"pred\": \"[0, 1, 1]\", \"real\": \"[0, 1, 0]\"}, {\"pred\": \"[0, 1, 0]\", \"real\": \"[0, 1, 0]\"}, {\"pred\": \"[0, 1, 0]\", \"real\": \"[0, 1, 0]\"}, {\"pred\": \"[0, 1, 1]\", \"real\": \"[0, 1, 0]\"}, {\"pred\": \"[0, 1, 0]\", \"real\": \"[1, 1, 0]\"}, {\"pred\": \"[0, 1, 1]\", \"real\": \"[0, 0, 0]\"}, {\"pred\": \"[0, 1, 0]\", \"real\": \"[0, 1, 0]\"}, {\"pred\": \"[0, 1, 0]\", \"real\": \"[0, 1, 0]\"}, {\"pred\": \"[1, 1, 0]\", \"real\": \"[0, 1, 1]\"}, {\"pred\": \"[0, 1, 0]\", \"real\": \"[0, 1, 1]\"}, {\"pred\": \"[0, 0, 1]\", \"real\": \"[0, 0, 1]\"}, {\"pred\": \"[0, 0, 0]\", \"real\": \"[0, 0, 0]\"}, {\"pred\": \"[0, 0, 0]\", \"real\": \"[0, 1, 0]\"}, {\"pred\": \"[1, 1, 1]\", \"real\": \"[1, 1, 1]\"}, {\"pred\": \"[0, 0, 0]\", \"real\": \"[0, 0, 0]\"}, {\"pred\": \"[0, 0, 0]\", \"real\": \"[0, 0, 1]\"}, {\"pred\": \"[0, 0, 0]\", \"real\": \"[0, 0, 0]\"}, {\"pred\": \"[1, 1, 1]\", \"real\": \"[1, 1, 0]\"}, {\"pred\": \"[0, 1, 0]\", \"real\": \"[0, 1, 0]\"}, {\"pred\": \"[0, 1, 0]\", \"real\": \"[0, 0, 0]\"}, {\"pred\": \"[1, 0, 1]\", \"real\": \"[0, 1, 1]\"}, {\"pred\": \"[0, 0, 0]\", \"real\": \"[0, 0, 0]\"}, {\"pred\": \"[0, 1, 0]\", \"real\": \"[0, 1, 0]\"}, {\"pred\": \"[0, 1, 0]\", \"real\": \"[0, 0, 0]\"}, {\"pred\": \"[0, 0, 0]\", \"real\": \"[0, 0, 0]\"}, {\"pred\": \"[0, 0, 0]\", \"real\": \"[0, 0, 1]\"}, {\"pred\": \"[0, 0, 1]\", \"real\": \"[0, 1, 1]\"}, {\"pred\": \"[0, 0, 0]\", \"real\": \"[0, 0, 0]\"}, {\"pred\": \"[0, 1, 0]\", \"real\": \"[0, 1, 0]\"}, {\"pred\": \"[0, 1, 1]\", \"real\": \"[0, 0, 1]\"}, {\"pred\": \"[0, 1, 0]\", \"real\": \"[0, 1, 1]\"}, {\"pred\": \"[0, 1, 0]\", \"real\": \"[0, 1, 0]\"}, {\"pred\": \"[0, 0, 1]\", \"real\": \"[0, 1, 1]\"}, {\"pred\": \"[0, 1, 0]\", \"real\": \"[0, 0, 0]\"}, {\"pred\": \"[0, 1, 1]\", \"real\": \"[1, 1, 1]\"}, {\"pred\": \"[0, 1, 0]\", \"real\": \"[0, 1, 0]\"}, {\"pred\": \"[0, 0, 0]\", \"real\": \"[0, 0, 0]\"}, {\"pred\": \"[0, 1, 0]\", \"real\": \"[0, 0, 0]\"}, {\"pred\": \"[0, 1, 1]\", \"real\": \"[0, 1, 1]\"}, {\"pred\": \"[0, 1, 0]\", \"real\": \"[0, 1, 0]\"}, {\"pred\": \"[0, 0, 0]\", \"real\": \"[0, 0, 0]\"}, {\"pred\": \"[0, 1, 0]\", \"real\": \"[0, 1, 0]\"}, {\"pred\": \"[0, 1, 0]\", \"real\": \"[0, 1, 0]\"}, {\"pred\": \"[0, 1, 0]\", \"real\": \"[0, 1, 1]\"}, {\"pred\": \"[0, 0, 0]\", \"real\": \"[0, 0, 0]\"}, {\"pred\": \"[0, 1, 0]\", \"real\": \"[0, 1, 0]\"}, {\"pred\": \"[0, 0, 0]\", \"real\": \"[0, 0, 0]\"}, {\"pred\": \"[0, 1, 0]\", \"real\": \"[0, 1, 0]\"}, {\"pred\": \"[0, 1, 1]\", \"real\": \"[0, 1, 0]\"}, {\"pred\": \"[0, 1, 0]\", \"real\": \"[0, 1, 0]\"}, {\"pred\": \"[0, 1, 0]\", \"real\": \"[0, 1, 1]\"}, {\"pred\": \"[0, 0, 0]\", \"real\": \"[0, 0, 1]\"}, {\"pred\": \"[0, 0, 0]\", \"real\": \"[0, 0, 0]\"}, {\"pred\": \"[0, 1, 1]\", \"real\": \"[0, 1, 1]\"}, {\"pred\": \"[0, 1, 0]\", \"real\": \"[0, 1, 0]\"}, {\"pred\": \"[0, 1, 0]\", \"real\": \"[0, 1, 0]\"}, {\"pred\": \"[0, 1, 0]\", \"real\": \"[0, 1, 0]\"}, {\"pred\": \"[0, 0, 0]\", \"real\": \"[0, 1, 0]\"}, {\"pred\": \"[0, 0, 0]\", \"real\": \"[0, 0, 0]\"}, {\"pred\": \"[0, 0, 0]\", \"real\": \"[0, 0, 0]\"}, {\"pred\": \"[0, 1, 0]\", \"real\": \"[0, 0, 0]\"}, {\"pred\": \"[0, 0, 0]\", \"real\": \"[0, 0, 0]\"}, {\"pred\": \"[0, 0, 0]\", \"real\": \"[0, 0, 0]\"}, {\"pred\": \"[0, 0, 0]\", \"real\": \"[0, 0, 0]\"}, {\"pred\": \"[0, 0, 0]\", \"real\": \"[0, 0, 0]\"}, {\"pred\": \"[0, 1, 0]\", \"real\": \"[0, 1, 1]\"}, {\"pred\": \"[0, 0, 0]\", \"real\": \"[0, 1, 0]\"}, {\"pred\": \"[0, 1, 0]\", \"real\": \"[0, 1, 0]\"}, {\"pred\": \"[0, 0, 0]\", \"real\": \"[0, 0, 0]\"}, {\"pred\": \"[0, 0, 0]\", \"real\": \"[0, 0, 0]\"}, {\"pred\": \"[0, 0, 0]\", \"real\": \"[0, 1, 0]\"}, {\"pred\": \"[0, 1, 0]\", \"real\": \"[0, 1, 0]\"}, {\"pred\": \"[0, 0, 0]\", \"real\": \"[0, 0, 0]\"}, {\"pred\": \"[0, 0, 0]\", \"real\": \"[0, 0, 0]\"}, {\"pred\": \"[0, 1, 1]\", \"real\": \"[0, 1, 0]\"}, {\"pred\": \"[0, 0, 0]\", \"real\": \"[0, 0, 0]\"}, {\"pred\": \"[0, 1, 1]\", \"real\": \"[0, 1, 1]\"}, {\"pred\": \"[0, 0, 0]\", \"real\": \"[0, 1, 0]\"}, {\"pred\": \"[0, 0, 0]\", \"real\": \"[0, 1, 1]\"}, {\"pred\": \"[0, 0, 1]\", \"real\": \"[0, 0, 1]\"}, {\"pred\": \"[0, 1, 0]\", \"real\": \"[0, 1, 0]\"}, {\"pred\": \"[0, 0, 0]\", \"real\": \"[0, 0, 0]\"}, {\"pred\": \"[0, 1, 0]\", \"real\": \"[0, 1, 0]\"}, {\"pred\": \"[0, 1, 0]\", \"real\": \"[0, 1, 0]\"}, {\"pred\": \"[0, 1, 0]\", \"real\": \"[0, 1, 1]\"}, {\"pred\": \"[0, 1, 0]\", \"real\": \"[0, 0, 0]\"}, {\"pred\": \"[0, 1, 0]\", \"real\": \"[0, 1, 0]\"}, {\"pred\": \"[0, 1, 0]\", \"real\": \"[0, 1, 0]\"}, {\"pred\": \"[0, 1, 1]\", \"real\": \"[0, 1, 0]\"}, {\"pred\": \"[0, 1, 0]\", \"real\": \"[0, 1, 0]\"}, {\"pred\": \"[0, 1, 1]\", \"real\": \"[0, 1, 1]\"}, {\"pred\": \"[0, 0, 0]\", \"real\": \"[0, 0, 0]\"}, {\"pred\": \"[0, 0, 0]\", \"real\": \"[0, 0, 0]\"}, {\"pred\": \"[1, 1, 1]\", \"real\": \"[1, 1, 1]\"}, {\"pred\": \"[0, 1, 0]\", \"real\": \"[0, 0, 0]\"}, {\"pred\": \"[0, 1, 0]\", \"real\": \"[0, 1, 0]\"}, {\"pred\": \"[0, 1, 0]\", \"real\": \"[0, 1, 0]\"}, {\"pred\": \"[1, 1, 0]\", \"real\": \"[0, 1, 0]\"}, {\"pred\": \"[0, 1, 0]\", \"real\": \"[0, 1, 1]\"}, {\"pred\": \"[0, 1, 0]\", \"real\": \"[0, 1, 0]\"}, {\"pred\": \"[0, 1, 0]\", \"real\": \"[0, 1, 0]\"}, {\"pred\": \"[0, 1, 0]\", \"real\": \"[0, 0, 0]\"}, {\"pred\": \"[0, 1, 1]\", \"real\": \"[0, 1, 1]\"}, {\"pred\": \"[0, 0, 0]\", \"real\": \"[0, 1, 1]\"}, {\"pred\": \"[0, 1, 1]\", \"real\": \"[0, 1, 0]\"}, {\"pred\": \"[0, 0, 0]\", \"real\": \"[0, 1, 0]\"}, {\"pred\": \"[0, 0, 0]\", \"real\": \"[0, 1, 0]\"}, {\"pred\": \"[0, 1, 0]\", \"real\": \"[0, 1, 1]\"}, {\"pred\": \"[0, 0, 0]\", \"real\": \"[0, 0, 0]\"}, {\"pred\": \"[0, 1, 0]\", \"real\": \"[0, 1, 0]\"}, {\"pred\": \"[0, 1, 0]\", \"real\": \"[0, 1, 0]\"}, {\"pred\": \"[0, 0, 0]\", \"real\": \"[0, 1, 0]\"}, {\"pred\": \"[0, 0, 0]\", \"real\": \"[0, 0, 0]\"}, {\"pred\": \"[0, 0, 0]\", \"real\": \"[0, 0, 0]\"}, {\"pred\": \"[0, 0, 0]\", \"real\": \"[0, 0, 0]\"}, {\"pred\": \"[0, 0, 1]\", \"real\": \"[0, 0, 1]\"}, {\"pred\": \"[0, 0, 0]\", \"real\": \"[0, 0, 0]\"}, {\"pred\": \"[0, 1, 0]\", \"real\": \"[0, 1, 0]\"}, {\"pred\": \"[1, 1, 1]\", \"real\": \"[1, 1, 1]\"}, {\"pred\": \"[0, 0, 0]\", \"real\": \"[0, 1, 0]\"}, {\"pred\": \"[0, 0, 0]\", \"real\": \"[0, 1, 1]\"}, {\"pred\": \"[0, 0, 0]\", \"real\": \"[0, 0, 0]\"}, {\"pred\": \"[0, 1, 0]\", \"real\": \"[0, 0, 0]\"}, {\"pred\": \"[0, 0, 0]\", \"real\": \"[0, 0, 0]\"}, {\"pred\": \"[0, 1, 0]\", \"real\": \"[0, 1, 0]\"}, {\"pred\": \"[0, 1, 0]\", \"real\": \"[0, 1, 0]\"}, {\"pred\": \"[1, 0, 1]\", \"real\": \"[0, 0, 0]\"}, {\"pred\": \"[0, 0, 0]\", \"real\": \"[0, 0, 0]\"}, {\"pred\": \"[0, 1, 0]\", \"real\": \"[0, 1, 0]\"}, {\"pred\": \"[1, 0, 1]\", \"real\": \"[0, 0, 1]\"}, {\"pred\": \"[0, 1, 0]\", \"real\": \"[0, 1, 1]\"}, {\"pred\": \"[0, 1, 0]\", \"real\": \"[0, 1, 0]\"}, {\"pred\": \"[0, 1, 1]\", \"real\": \"[0, 1, 1]\"}, {\"pred\": \"[1, 0, 0]\", \"real\": \"[0, 1, 1]\"}, {\"pred\": \"[0, 0, 0]\", \"real\": \"[0, 0, 0]\"}, {\"pred\": \"[0, 1, 0]\", \"real\": \"[0, 1, 0]\"}, {\"pred\": \"[0, 1, 0]\", \"real\": \"[0, 1, 0]\"}, {\"pred\": \"[0, 1, 1]\", \"real\": \"[0, 1, 1]\"}, {\"pred\": \"[0, 1, 0]\", \"real\": \"[0, 1, 0]\"}, {\"pred\": \"[0, 1, 0]\", \"real\": \"[0, 1, 1]\"}, {\"pred\": \"[0, 1, 0]\", \"real\": \"[0, 1, 1]\"}, {\"pred\": \"[1, 1, 0]\", \"real\": \"[1, 1, 1]\"}, {\"pred\": \"[0, 0, 0]\", \"real\": \"[0, 0, 0]\"}, {\"pred\": \"[0, 1, 0]\", \"real\": \"[0, 1, 0]\"}, {\"pred\": \"[0, 1, 1]\", \"real\": \"[0, 1, 0]\"}, {\"pred\": \"[0, 1, 0]\", \"real\": \"[0, 1, 1]\"}]}}, {\"mode\": \"vega-lite\"});\n",
              "</script>"
            ],
            "text/plain": [
              "alt.LayerChart(...)"
            ]
          },
          "metadata": {},
          "execution_count": 31
        }
      ],
      "source": [
        "# Configure common options\n",
        "base = alt.Chart(dataset_test).transform_aggregate(\n",
        "    count='count()',\n",
        "    groupby=['pred', 'real']\n",
        ").encode(\n",
        "    alt.X('pred:O', scale=alt.Scale(paddingInner=0)),\n",
        "    alt.Y('real:O', scale=alt.Scale(paddingInner=0)),\n",
        ").properties(\n",
        "    width=500,\n",
        "    height=500\n",
        ")\n",
        "\n",
        "# Configure heatmap\n",
        "heatmap = base.mark_rect().encode(\n",
        "    color=alt.Color('count:Q',\n",
        "        scale=alt.Scale(scheme='viridis'),\n",
        "        legend=alt.Legend(direction='vertical')\n",
        "    )\n",
        ")\n",
        "\n",
        "# Configure text\n",
        "text = base.mark_text(baseline='middle').encode(\n",
        "    text='count:Q',\n",
        "    color=alt.condition(\n",
        "        alt.datum.count > 100,\n",
        "        alt.value('black'),\n",
        "        alt.value('white')\n",
        "    )\n",
        ")\n",
        "\n",
        "# Draw the chart\n",
        "heatmap + text"
      ]
    },
    {
      "cell_type": "code",
      "source": [
        "matrix = multilabel_confusion_matrix(y_test.values.tolist(), preds)\n",
        "matrix "
      ],
      "metadata": {
        "id": "ygDM5qQUVGrz",
        "colab": {
          "base_uri": "https://localhost:8080/"
        },
        "outputId": "9e0d5991-6192-458b-cf28-dc4c73fcc31f"
      },
      "execution_count": 32,
      "outputs": [
        {
          "output_type": "execute_result",
          "data": {
            "text/plain": [
              "array([[[1235,   37],\n",
              "        [  26,   32]],\n",
              "\n",
              "       [[ 369,  119],\n",
              "        [ 146,  696]],\n",
              "\n",
              "       [[ 943,   78],\n",
              "        [ 164,  145]]])"
            ]
          },
          "metadata": {},
          "execution_count": 32
        }
      ]
    },
    {
      "cell_type": "code",
      "source": [
        "print(classification_report(y_test.values.tolist(), preds, output_dict=False, target_names=['E', 'S', 'G']))"
      ],
      "metadata": {
        "id": "5eL-fVbNVBsx",
        "colab": {
          "base_uri": "https://localhost:8080/"
        },
        "outputId": "940699f9-7754-423d-bb5d-7640b3fda9e5"
      },
      "execution_count": 33,
      "outputs": [
        {
          "output_type": "stream",
          "name": "stdout",
          "text": [
            "              precision    recall  f1-score   support\n",
            "\n",
            "           E       0.46      0.55      0.50        58\n",
            "           S       0.85      0.83      0.84       842\n",
            "           G       0.65      0.47      0.55       309\n",
            "\n",
            "   micro avg       0.79      0.72      0.75      1209\n",
            "   macro avg       0.66      0.62      0.63      1209\n",
            "weighted avg       0.78      0.72      0.75      1209\n",
            " samples avg       0.54      0.51      0.51      1209\n",
            "\n"
          ]
        },
        {
          "output_type": "stream",
          "name": "stderr",
          "text": [
            "/usr/local/lib/python3.7/dist-packages/sklearn/metrics/_classification.py:1318: UndefinedMetricWarning: Precision and F-score are ill-defined and being set to 0.0 in samples with no predicted labels. Use `zero_division` parameter to control this behavior.\n",
            "  _warn_prf(average, modifier, msg_start, len(result))\n",
            "/usr/local/lib/python3.7/dist-packages/sklearn/metrics/_classification.py:1318: UndefinedMetricWarning: Recall and F-score are ill-defined and being set to 0.0 in samples with no true labels. Use `zero_division` parameter to control this behavior.\n",
            "  _warn_prf(average, modifier, msg_start, len(result))\n"
          ]
        }
      ]
    },
    {
      "cell_type": "code",
      "source": [
        "!pip install mlcm"
      ],
      "metadata": {
        "id": "-wHj_SokvY-l",
        "colab": {
          "base_uri": "https://localhost:8080/"
        },
        "outputId": "0bcfcf07-4b2e-42a7-90a6-48314218460d"
      },
      "execution_count": 34,
      "outputs": [
        {
          "output_type": "stream",
          "name": "stdout",
          "text": [
            "Looking in indexes: https://pypi.org/simple, https://us-python.pkg.dev/colab-wheels/public/simple/\n",
            "Requirement already satisfied: mlcm in /usr/local/lib/python3.7/dist-packages (0.0.1)\n",
            "Requirement already satisfied: numpy in /usr/local/lib/python3.7/dist-packages (from mlcm) (1.21.6)\n"
          ]
        }
      ]
    },
    {
      "cell_type": "code",
      "source": [
        "from mlcm import mlcm\n",
        "\n",
        "\n",
        "conf_mat, normal_conf_mat = mlcm.cm(y_test.values.tolist(), preds)\n",
        "print('\\nRaw confusion Matrix:')\n",
        "print(conf_mat)\n",
        "print('\\nNormalized confusion Matrix (%):')\n",
        "print(normal_conf_mat)\n",
        "\n",
        "one_vs_rest = mlcm.stats(conf_mat)"
      ],
      "metadata": {
        "id": "ZQ3SsWLmv6Ob",
        "colab": {
          "base_uri": "https://localhost:8080/"
        },
        "outputId": "da17f1b0-f6b0-42f8-df55-9e4938bc583b"
      },
      "execution_count": 35,
      "outputs": [
        {
          "output_type": "stream",
          "name": "stdout",
          "text": [
            "MLCM has one extra row (NTL) and one extra column (NPL).        \n",
            "Please read the following paper for more information:\n",
            "        Heydarian et al., MLCM: Multi-Label Confusion Matrix, IEEE Access,2022        \n",
            "To skip this message, please add parameter \"print_note=False\"\n",
            "        e.g., conf_mat,normal_conf_mat = mlcm.cm(label_true,label_pred,False)\n",
            "\n",
            "Raw confusion Matrix:\n",
            "[[ 32   2   5  24]\n",
            " [ 17 696  50 138]\n",
            " [ 16  17 145 150]\n",
            " [  9 101  28 296]]\n",
            "\n",
            "Normalized confusion Matrix (%):\n",
            "[[51.  3.  8. 38.]\n",
            " [ 2. 77.  6. 15.]\n",
            " [ 5.  5. 44. 46.]\n",
            " [ 2. 23.  6. 68.]]\n",
            "[[[1137   42]\n",
            "  [  31   32]]\n",
            "\n",
            " [[ 473  120]\n",
            "  [ 205  696]]\n",
            "\n",
            " [[1024   83]\n",
            "  [ 183  145]]\n",
            "\n",
            " [[ 873  312]\n",
            "  [ 138  296]]]\n",
            "\n",
            "       class#     precision        recall      f1-score        weight\n",
            "\n",
            "            0          0.43          0.51          0.47          63\n",
            "            1          0.85          0.77          0.81          901\n",
            "            2          0.64          0.44          0.52          328\n",
            "          NTL          0.49          0.68          0.57          434\n",
            "\n",
            "    micro avg          0.68          0.68          0.68          1726\n",
            "    macro avg          0.60          0.60          0.59          1726\n",
            " weighted avg          0.70          0.68          0.68          1726\n"
          ]
        }
      ]
    },
    {
      "cell_type": "markdown",
      "source": [
        "https://stackoverflow.com/questions/48254832/keras-class-weight-in-multi-label-binary-classification\n",
        "\n",
        "https://stackoverflow.com/questions/48485870/multi-label-classification-with-class-weights-in-keras\n",
        "\n",
        "https://stackoverflow.com/questions/68374999/is-this-the-correct-use-of-sklearn-classification-report-for-multi-label-classif\n",
        "\n",
        "https://towardsdatascience.com/evaluating-multi-label-classifiers-a31be83da6ea\n"
      ],
      "metadata": {
        "id": "CkJMxtmHdNb2"
      }
    },
    {
      "cell_type": "markdown",
      "source": [
        "# Referencias\n",
        "\n",
        "\n",
        "\n",
        "1.   Multi-Label Classification with Deep Learning - *Jason Brownlee on August 31, 2020* - https://machinelearningmastery.com/multi-label-classification-with-deep-learning/\n",
        "2.   Deep Learning for Multi-label Classification - *Jesse Read, Fernando Perez-Cruz* - https://arxiv.org/pdf/1502.05988.pdf\n",
        "\n",
        "\n",
        "\n",
        "\n"
      ],
      "metadata": {
        "id": "aq0q494JzibH"
      }
    },
    {
      "cell_type": "code",
      "source": [
        ""
      ],
      "metadata": {
        "id": "JeG2jBeXwWN1"
      },
      "execution_count": null,
      "outputs": []
    }
  ],
  "metadata": {
    "accelerator": "GPU",
    "colab": {
      "collapsed_sections": [],
      "name": "[01_MULTILABEL_small_bert_en_uncased_L-12_H-768_A-12]TFM_BERT_ESG_Classifier-RAW_Content.ipynb",
      "provenance": [],
      "machine_shape": "hm"
    },
    "kernelspec": {
      "display_name": "Python 3 (ipykernel)",
      "language": "python",
      "name": "python3"
    },
    "language_info": {
      "codemirror_mode": {
        "name": "ipython",
        "version": 3
      },
      "file_extension": ".py",
      "mimetype": "text/x-python",
      "name": "python",
      "nbconvert_exporter": "python",
      "pygments_lexer": "ipython3",
      "version": "3.9.12"
    },
    "gpuClass": "standard"
  },
  "nbformat": 4,
  "nbformat_minor": 0
}