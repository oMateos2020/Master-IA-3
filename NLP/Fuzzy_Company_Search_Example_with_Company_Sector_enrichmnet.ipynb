{
  "nbformat": 4,
  "nbformat_minor": 0,
  "metadata": {
    "colab": {
      "provenance": [],
      "collapsed_sections": []
    },
    "kernelspec": {
      "name": "python3",
      "display_name": "Python 3"
    },
    "language_info": {
      "name": "python"
    }
  },
  "cells": [
    {
      "cell_type": "markdown",
      "source": [
        "# **TheFuzz**\n",
        "Fuzzy string matching like a boss. It uses Levenshtein Distance to calculate the differences between sequences in a simple-to-use package.\n",
        "\n",
        "**Requirements**\n",
        "\n",
        "Python 2.7 or higher\n",
        "difflib\n",
        "python-Levenshtein (optional, provides a 4-10x speedup in String Matching, though may result in differing results for certain cases)\n"
      ],
      "metadata": {
        "id": "ltdnhzoeMnoC"
      }
    },
    {
      "cell_type": "code",
      "source": [
        "!pip install thefuzz[speedup]"
      ],
      "metadata": {
        "colab": {
          "base_uri": "https://localhost:8080/"
        },
        "id": "PbBaBPiqlMcK",
        "outputId": "97be28a2-1d8b-41e2-d668-74a8e02687a9"
      },
      "execution_count": 1,
      "outputs": [
        {
          "output_type": "stream",
          "name": "stdout",
          "text": [
            "Looking in indexes: https://pypi.org/simple, https://us-python.pkg.dev/colab-wheels/public/simple/\n",
            "Collecting thefuzz[speedup]\n",
            "  Downloading thefuzz-0.19.0-py2.py3-none-any.whl (17 kB)\n",
            "Collecting python-levenshtein>=0.12\n",
            "  Downloading python-Levenshtein-0.12.2.tar.gz (50 kB)\n",
            "\u001b[K     |████████████████████████████████| 50 kB 4.1 MB/s \n",
            "\u001b[?25hRequirement already satisfied: setuptools in /usr/local/lib/python3.7/dist-packages (from python-levenshtein>=0.12->thefuzz[speedup]) (57.4.0)\n",
            "Building wheels for collected packages: python-levenshtein\n",
            "  Building wheel for python-levenshtein (setup.py) ... \u001b[?25l\u001b[?25hdone\n",
            "  Created wheel for python-levenshtein: filename=python_Levenshtein-0.12.2-cp37-cp37m-linux_x86_64.whl size=149867 sha256=81613d2d0a3470161ff5286d3b4b7e87a91a4a754d7d9e5a86950d7e042ef934\n",
            "  Stored in directory: /root/.cache/pip/wheels/05/5f/ca/7c4367734892581bb5ff896f15027a932c551080b2abd3e00d\n",
            "Successfully built python-levenshtein\n",
            "Installing collected packages: thefuzz, python-levenshtein\n",
            "Successfully installed python-levenshtein-0.12.2 thefuzz-0.19.0\n"
          ]
        }
      ]
    },
    {
      "cell_type": "code",
      "source": [
        "import pandas as pd\n",
        "import numpy as np\n",
        "from thefuzz import process, fuzz"
      ],
      "metadata": {
        "id": "V5rhuOs1sIAY"
      },
      "execution_count": 3,
      "outputs": []
    },
    {
      "cell_type": "markdown",
      "source": [
        "## Data Loading"
      ],
      "metadata": {
        "id": "rTUCFP3us7oh"
      }
    },
    {
      "cell_type": "markdown",
      "source": [
        "As an example of use we will use a list of extracted brands and check how it would work by performing a fuzzy search of those terms into the SP500 dataset, in order to get a match eventhought the terms on both sides are not exactly the same. "
      ],
      "metadata": {
        "id": "cvPMesJItCLW"
      }
    },
    {
      "cell_type": "code",
      "execution_count": 37,
      "metadata": {
        "id": "dD3HsK8NrlIX"
      },
      "outputs": [],
      "source": [
        "extracted_brands = ['Amazon',\n",
        "                    'Electronic Arts',\n",
        "                    'Sony',\n",
        "                    'EA',\n",
        "                    'Embracer',\n",
        "                    'Microsoft',\n",
        "                    'Comcast',\n",
        "                    'Blizzard',\n",
        "                    'CNBC',\n",
        "                    'Apple',\n",
        "                    'NBC Universal',\n",
        "                    'Eidos',\n",
        "                    'Disney',\n",
        "                    'Bungie',\n",
        "                    'EA Games',\n",
        "                    'Activision',\n",
        "                    'Crystal Dynamics']"
      ]
    },
    {
      "cell_type": "code",
      "source": [
        "# Load in the SP500 file\n",
        "sp500 = pd.read_csv('/content/SP500_constituents.csv')\n",
        "\n",
        "# Display the first columns\n",
        "sp500.head()"
      ],
      "metadata": {
        "colab": {
          "base_uri": "https://localhost:8080/",
          "height": 206
        },
        "id": "G5fY94j2sIhr",
        "outputId": "b3e26e87-5523-4347-ea59-e6fadcf7326a"
      },
      "execution_count": 6,
      "outputs": [
        {
          "output_type": "execute_result",
          "data": {
            "text/plain": [
              "  Symbol                 Name       Sector\n",
              "0    MMM                   3M  Industrials\n",
              "1    AOS          A. O. Smith  Industrials\n",
              "2    ABT  Abbott Laboratories  Health Care\n",
              "3   ABBV               AbbVie  Health Care\n",
              "4   ABMD              Abiomed  Health Care"
            ],
            "text/html": [
              "\n",
              "  <div id=\"df-5feab396-95a9-464e-9c88-455d575fb00c\">\n",
              "    <div class=\"colab-df-container\">\n",
              "      <div>\n",
              "<style scoped>\n",
              "    .dataframe tbody tr th:only-of-type {\n",
              "        vertical-align: middle;\n",
              "    }\n",
              "\n",
              "    .dataframe tbody tr th {\n",
              "        vertical-align: top;\n",
              "    }\n",
              "\n",
              "    .dataframe thead th {\n",
              "        text-align: right;\n",
              "    }\n",
              "</style>\n",
              "<table border=\"1\" class=\"dataframe\">\n",
              "  <thead>\n",
              "    <tr style=\"text-align: right;\">\n",
              "      <th></th>\n",
              "      <th>Symbol</th>\n",
              "      <th>Name</th>\n",
              "      <th>Sector</th>\n",
              "    </tr>\n",
              "  </thead>\n",
              "  <tbody>\n",
              "    <tr>\n",
              "      <th>0</th>\n",
              "      <td>MMM</td>\n",
              "      <td>3M</td>\n",
              "      <td>Industrials</td>\n",
              "    </tr>\n",
              "    <tr>\n",
              "      <th>1</th>\n",
              "      <td>AOS</td>\n",
              "      <td>A. O. Smith</td>\n",
              "      <td>Industrials</td>\n",
              "    </tr>\n",
              "    <tr>\n",
              "      <th>2</th>\n",
              "      <td>ABT</td>\n",
              "      <td>Abbott Laboratories</td>\n",
              "      <td>Health Care</td>\n",
              "    </tr>\n",
              "    <tr>\n",
              "      <th>3</th>\n",
              "      <td>ABBV</td>\n",
              "      <td>AbbVie</td>\n",
              "      <td>Health Care</td>\n",
              "    </tr>\n",
              "    <tr>\n",
              "      <th>4</th>\n",
              "      <td>ABMD</td>\n",
              "      <td>Abiomed</td>\n",
              "      <td>Health Care</td>\n",
              "    </tr>\n",
              "  </tbody>\n",
              "</table>\n",
              "</div>\n",
              "      <button class=\"colab-df-convert\" onclick=\"convertToInteractive('df-5feab396-95a9-464e-9c88-455d575fb00c')\"\n",
              "              title=\"Convert this dataframe to an interactive table.\"\n",
              "              style=\"display:none;\">\n",
              "        \n",
              "  <svg xmlns=\"http://www.w3.org/2000/svg\" height=\"24px\"viewBox=\"0 0 24 24\"\n",
              "       width=\"24px\">\n",
              "    <path d=\"M0 0h24v24H0V0z\" fill=\"none\"/>\n",
              "    <path d=\"M18.56 5.44l.94 2.06.94-2.06 2.06-.94-2.06-.94-.94-2.06-.94 2.06-2.06.94zm-11 1L8.5 8.5l.94-2.06 2.06-.94-2.06-.94L8.5 2.5l-.94 2.06-2.06.94zm10 10l.94 2.06.94-2.06 2.06-.94-2.06-.94-.94-2.06-.94 2.06-2.06.94z\"/><path d=\"M17.41 7.96l-1.37-1.37c-.4-.4-.92-.59-1.43-.59-.52 0-1.04.2-1.43.59L10.3 9.45l-7.72 7.72c-.78.78-.78 2.05 0 2.83L4 21.41c.39.39.9.59 1.41.59.51 0 1.02-.2 1.41-.59l7.78-7.78 2.81-2.81c.8-.78.8-2.07 0-2.86zM5.41 20L4 18.59l7.72-7.72 1.47 1.35L5.41 20z\"/>\n",
              "  </svg>\n",
              "      </button>\n",
              "      \n",
              "  <style>\n",
              "    .colab-df-container {\n",
              "      display:flex;\n",
              "      flex-wrap:wrap;\n",
              "      gap: 12px;\n",
              "    }\n",
              "\n",
              "    .colab-df-convert {\n",
              "      background-color: #E8F0FE;\n",
              "      border: none;\n",
              "      border-radius: 50%;\n",
              "      cursor: pointer;\n",
              "      display: none;\n",
              "      fill: #1967D2;\n",
              "      height: 32px;\n",
              "      padding: 0 0 0 0;\n",
              "      width: 32px;\n",
              "    }\n",
              "\n",
              "    .colab-df-convert:hover {\n",
              "      background-color: #E2EBFA;\n",
              "      box-shadow: 0px 1px 2px rgba(60, 64, 67, 0.3), 0px 1px 3px 1px rgba(60, 64, 67, 0.15);\n",
              "      fill: #174EA6;\n",
              "    }\n",
              "\n",
              "    [theme=dark] .colab-df-convert {\n",
              "      background-color: #3B4455;\n",
              "      fill: #D2E3FC;\n",
              "    }\n",
              "\n",
              "    [theme=dark] .colab-df-convert:hover {\n",
              "      background-color: #434B5C;\n",
              "      box-shadow: 0px 1px 3px 1px rgba(0, 0, 0, 0.15);\n",
              "      filter: drop-shadow(0px 1px 2px rgba(0, 0, 0, 0.3));\n",
              "      fill: #FFFFFF;\n",
              "    }\n",
              "  </style>\n",
              "\n",
              "      <script>\n",
              "        const buttonEl =\n",
              "          document.querySelector('#df-5feab396-95a9-464e-9c88-455d575fb00c button.colab-df-convert');\n",
              "        buttonEl.style.display =\n",
              "          google.colab.kernel.accessAllowed ? 'block' : 'none';\n",
              "\n",
              "        async function convertToInteractive(key) {\n",
              "          const element = document.querySelector('#df-5feab396-95a9-464e-9c88-455d575fb00c');\n",
              "          const dataTable =\n",
              "            await google.colab.kernel.invokeFunction('convertToInteractive',\n",
              "                                                     [key], {});\n",
              "          if (!dataTable) return;\n",
              "\n",
              "          const docLinkHtml = 'Like what you see? Visit the ' +\n",
              "            '<a target=\"_blank\" href=https://colab.research.google.com/notebooks/data_table.ipynb>data table notebook</a>'\n",
              "            + ' to learn more about interactive tables.';\n",
              "          element.innerHTML = '';\n",
              "          dataTable['output_type'] = 'display_data';\n",
              "          await google.colab.output.renderOutput(dataTable, element);\n",
              "          const docLink = document.createElement('div');\n",
              "          docLink.innerHTML = docLinkHtml;\n",
              "          element.appendChild(docLink);\n",
              "        }\n",
              "      </script>\n",
              "    </div>\n",
              "  </div>\n",
              "  "
            ]
          },
          "metadata": {},
          "execution_count": 6
        }
      ]
    },
    {
      "cell_type": "markdown",
      "metadata": {
        "id": "AqTLnk3Mk0CD"
      },
      "source": [
        "## FuzzyWuzzy"
      ]
    },
    {
      "cell_type": "markdown",
      "metadata": {
        "id": "xFlXFOBKk0CD"
      },
      "source": [
        "FuzzyWuzzy has four scorer options to find the Levenshtein distance between two strings. In this example, I would check on the token sort ratio and the token set ratio, for I believe they are more suitable for this dataset which might have mixed words order and duplicated words.<br>\n",
        "I would pick four brand names and find their similar names in the Brand column. Since we're matching the Brand column with itself, the result would always include the selected name with a score of 100."
      ]
    },
    {
      "cell_type": "markdown",
      "metadata": {
        "id": "sHc-HReck0CD"
      },
      "source": [
        "### Token Sort Ratio\n",
        "The token sort ratio scorer tokenizes the strings and cleans them by returning these strings to lower cases, removing punctuations, and then sorting them alphabetically. After that, it finds the Levenshtein distance and returns the similarity percentage."
      ]
    },
    {
      "cell_type": "code",
      "execution_count": 10,
      "metadata": {
        "colab": {
          "base_uri": "https://localhost:8080/"
        },
        "id": "pu71qRH7k0CE",
        "outputId": "f9e03f4f-57ad-445d-e36b-867092c3a286"
      },
      "outputs": [
        {
          "output_type": "execute_result",
          "data": {
            "text/plain": [
              "[('Amazon', 100, 25), ('Aon', 67, 42), ('AutoZone', 57, 54)]"
            ]
          },
          "metadata": {},
          "execution_count": 10
        }
      ],
      "source": [
        "# OK\n",
        "process.extract('Amazon', sp500.Name, scorer=fuzz.token_sort_ratio, limit=3)"
      ]
    },
    {
      "cell_type": "code",
      "source": [
        "# Activision is now Activision Blizzard so it gets a 69 score at TSR\n",
        "process.extract('Activision', sp500.Name, scorer=fuzz.token_sort_ratio, limit=3)"
      ],
      "metadata": {
        "colab": {
          "base_uri": "https://localhost:8080/"
        },
        "id": "qIw1nlx6suT4",
        "outputId": "daf04e18-6c21-490c-c57c-d2bd9e56f21c"
      },
      "execution_count": 11,
      "outputs": [
        {
          "output_type": "execute_result",
          "data": {
            "text/plain": [
              "[('Activision Blizzard', 69, 6),\n",
              " ('Union Pacific', 61, 455),\n",
              " ('Verisign', 56, 463)]"
            ]
          },
          "metadata": {},
          "execution_count": 11
        }
      ]
    },
    {
      "cell_type": "code",
      "source": [
        "# If we try to search EA Games into the Names the matches are bad\n",
        "process.extract('EA Games', sp500.Name, scorer=fuzz.token_sort_ratio, limit=3)"
      ],
      "metadata": {
        "colab": {
          "base_uri": "https://localhost:8080/"
        },
        "outputId": "7b4d808e-3f8a-48d9-aeec-fa47c004518b",
        "id": "dB6zhntOu642"
      },
      "execution_count": 12,
      "outputs": [
        {
          "output_type": "execute_result",
          "data": {
            "text/plain": [
              "[('Cboe Global Markets', 52, 91),\n",
              " ('Global Payments', 52, 215),\n",
              " ('Baker Hughes', 50, 57)]"
            ]
          },
          "metadata": {},
          "execution_count": 12
        }
      ]
    },
    {
      "cell_type": "code",
      "source": [
        "# By searching EA Games by the SP500 symbol there could be a match with EA, but with this metric the score is too low\n",
        "process.extract('EA Games', sp500.Symbol, scorer=fuzz.token_sort_ratio)"
      ],
      "metadata": {
        "colab": {
          "base_uri": "https://localhost:8080/"
        },
        "id": "yYXdbBH3uOVp",
        "outputId": "84349b54-274d-4d78-984e-9d79875ddccb"
      },
      "execution_count": 13,
      "outputs": [
        {
          "output_type": "execute_result",
          "data": {
            "text/plain": [
              "[('AES', 55, 11),\n",
              " ('AME', 55, 36),\n",
              " ('AKAM', 50, 15),\n",
              " ('EA', 40, 166),\n",
              " ('ES', 40, 180)]"
            ]
          },
          "metadata": {},
          "execution_count": 13
        }
      ]
    },
    {
      "cell_type": "code",
      "source": [
        "# If we try to search Electronic Arts by Name the matches are OK\n",
        "process.extract('Electronic Arts', sp500.Name, scorer=fuzz.token_sort_ratio, limit=3)"
      ],
      "metadata": {
        "colab": {
          "base_uri": "https://localhost:8080/"
        },
        "id": "VTlw2S-zuAvS",
        "outputId": "7bb6988b-86e8-4b76-fac7-e6b5d3a5923d"
      },
      "execution_count": 15,
      "outputs": [
        {
          "output_type": "execute_result",
          "data": {
            "text/plain": [
              "[('Electronic Arts', 100, 166),\n",
              " ('Crown Castle', 59, 131),\n",
              " ('American Electric Power', 58, 29)]"
            ]
          },
          "metadata": {},
          "execution_count": 15
        }
      ]
    },
    {
      "cell_type": "markdown",
      "metadata": {
        "id": "WX-xJKcvk0CG"
      },
      "source": [
        "### Token Set Ratio\n",
        "The token set ratio scorer also tokenizes the strings, and follows processing steps just like the token sort ratio. Then it collects common tokens between two strings and performs pairwise comparisons to find the similarity percentage."
      ]
    },
    {
      "cell_type": "code",
      "execution_count": 20,
      "metadata": {
        "colab": {
          "base_uri": "https://localhost:8080/"
        },
        "outputId": "82fd6399-4c60-4c17-ec26-4c76903792ac",
        "id": "gHlD3SdQJQoX"
      },
      "outputs": [
        {
          "output_type": "execute_result",
          "data": {
            "text/plain": [
              "[('Amazon', 100, 25), ('Aon', 67, 42), ('AutoZone', 57, 54)]"
            ]
          },
          "metadata": {},
          "execution_count": 20
        }
      ],
      "source": [
        "# OK\n",
        "process.extract('Amazon', sp500.Name, scorer=fuzz.token_set_ratio, limit=3)"
      ]
    },
    {
      "cell_type": "code",
      "source": [
        "# Activision is now Activision Blizzard so it gets a 69 score at TSR\n",
        "process.extract('Activision', sp500.Name, scorer=fuzz.token_set_ratio, limit=3)"
      ],
      "metadata": {
        "colab": {
          "base_uri": "https://localhost:8080/"
        },
        "outputId": "de186565-76c6-4740-9c4e-b122a4fd581e",
        "id": "-y-JaEChJQoZ"
      },
      "execution_count": 19,
      "outputs": [
        {
          "output_type": "execute_result",
          "data": {
            "text/plain": [
              "[('Activision Blizzard', 100, 6),\n",
              " ('Union Pacific', 61, 455),\n",
              " ('Verisign', 56, 463)]"
            ]
          },
          "metadata": {},
          "execution_count": 19
        }
      ]
    },
    {
      "cell_type": "code",
      "source": [
        "# If we try to search EA Games into the Names the matches are bad\n",
        "process.extract('EA Games', sp500.Name, scorer=fuzz.token_set_ratio, limit=3)"
      ],
      "metadata": {
        "colab": {
          "base_uri": "https://localhost:8080/"
        },
        "outputId": "5d8977f9-c183-4086-e073-8bfc6fc50088",
        "id": "eFGQkfmNJQoZ"
      },
      "execution_count": 18,
      "outputs": [
        {
          "output_type": "execute_result",
          "data": {
            "text/plain": [
              "[('Cboe Global Markets', 52, 91),\n",
              " ('Global Payments', 52, 215),\n",
              " ('Baker Hughes', 50, 57)]"
            ]
          },
          "metadata": {},
          "execution_count": 18
        }
      ]
    },
    {
      "cell_type": "code",
      "source": [
        "# By searching EA Games by the SP500 symbol there could be a match with EA, but with this metric the score is too low\n",
        "process.extract('EA Games', sp500.Symbol, scorer=fuzz.token_set_ratio, limit=3)"
      ],
      "metadata": {
        "colab": {
          "base_uri": "https://localhost:8080/"
        },
        "outputId": "17abc0f2-1969-4619-dc2d-58a910097999",
        "id": "yG0q1CIMJQoa"
      },
      "execution_count": 17,
      "outputs": [
        {
          "output_type": "execute_result",
          "data": {
            "text/plain": [
              "[('EA', 100, 166), ('AES', 55, 11), ('AME', 55, 36)]"
            ]
          },
          "metadata": {},
          "execution_count": 17
        }
      ]
    },
    {
      "cell_type": "code",
      "source": [
        "# If we try to search Electronic Arts by Name the matches are OK\n",
        "process.extract('Electronic Arts', sp500.Name, scorer=fuzz.token_set_ratio, limit=3)"
      ],
      "metadata": {
        "colab": {
          "base_uri": "https://localhost:8080/"
        },
        "outputId": "5e19521e-8d9b-45c6-a26f-59c2d4f04ef7",
        "id": "CUlAy8G8JQoa"
      },
      "execution_count": 16,
      "outputs": [
        {
          "output_type": "execute_result",
          "data": {
            "text/plain": [
              "[('Electronic Arts', 100, 166),\n",
              " ('Crown Castle', 59, 131),\n",
              " ('American Electric Power', 58, 29)]"
            ]
          },
          "metadata": {},
          "execution_count": 16
        }
      ]
    },
    {
      "cell_type": "markdown",
      "source": [],
      "metadata": {
        "id": "1Xw0hbrAJrRd"
      }
    },
    {
      "cell_type": "code",
      "source": [
        "def get_filtered_standard_names(extracted_names, lut_names, threshold=0.95):\n",
        "  '''\n",
        "    Gets the standard name for a given name extracted from some text over some \n",
        "    similarity threshold. Gets the std name from a lut table by fuzzy search.\n",
        "    We use Token Set Ratio to be more flexible.\n",
        "\n",
        "    extracted_names: names to be standardized by approx searching in lut_names\n",
        "    lut_names: standardized names\n",
        "  '''\n",
        "  from thefuzz import process, fuzz\n",
        "\n",
        "  output = []\n",
        "  for extracted_name in extracted_names:\n",
        "    name_macth = process.extractOne(extracted_name, sp500.Name, \n",
        "                                    scorer=fuzz.token_set_ratio)\n",
        "    similarity = name_macth[1]/100\n",
        "    if similarity >= threshold:\n",
        "      output.append(name_macth[:2]) \n",
        "\n",
        "  return output\n"
      ],
      "metadata": {
        "id": "e46AvZlLJrX-"
      },
      "execution_count": 82,
      "outputs": []
    },
    {
      "cell_type": "code",
      "source": [
        "get_filtered_standard_names(extracted_brands, sp500.Name)"
      ],
      "metadata": {
        "colab": {
          "base_uri": "https://localhost:8080/"
        },
        "id": "PCi4G4pmkGvT",
        "outputId": "716bec9e-3823-4910-8bd2-654c01e60aef"
      },
      "execution_count": 83,
      "outputs": [
        {
          "output_type": "execute_result",
          "data": {
            "text/plain": [
              "[('Amazon', 100),\n",
              " ('Electronic Arts', 100),\n",
              " ('Microsoft', 100),\n",
              " ('Comcast', 100),\n",
              " ('Activision Blizzard', 100),\n",
              " ('Apple', 100),\n",
              " ('The Walt Disney Company', 100),\n",
              " ('Activision Blizzard', 100)]"
            ]
          },
          "metadata": {},
          "execution_count": 83
        }
      ]
    },
    {
      "cell_type": "code",
      "source": [
        "def get_company_sectors(standard_names_tuples, lut_company_sectors):\n",
        "  '''\n",
        "  '''\n",
        "  output = []\n",
        "  for std_comp_name, _ in standard_names_tuples:\n",
        "    sectors = list(sp500[['Name','Sector']].where(sp500.Name == std_comp_name).dropna().itertuples(index=False, name=None))\n",
        "    output += sectors\n",
        "  return output"
      ],
      "metadata": {
        "id": "owhXP1fOon6a"
      },
      "execution_count": 94,
      "outputs": []
    },
    {
      "cell_type": "code",
      "source": [
        "get_company_sectors(get_filtered_standard_names(extracted_brands, sp500.Name), sp500)"
      ],
      "metadata": {
        "colab": {
          "base_uri": "https://localhost:8080/"
        },
        "id": "ERCb2AdUopeh",
        "outputId": "d788da4e-8634-472e-b720-ef138a17eba0"
      },
      "execution_count": 95,
      "outputs": [
        {
          "output_type": "execute_result",
          "data": {
            "text/plain": [
              "[('Amazon', 'Consumer Discretionary'),\n",
              " ('Electronic Arts', 'Communication Services'),\n",
              " ('Microsoft', 'Information Technology'),\n",
              " ('Comcast', 'Communication Services'),\n",
              " ('Activision Blizzard', 'Communication Services'),\n",
              " ('Apple', 'Information Technology'),\n",
              " ('The Walt Disney Company', 'Communication Services'),\n",
              " ('Activision Blizzard', 'Communication Services')]"
            ]
          },
          "metadata": {},
          "execution_count": 95
        }
      ]
    },
    {
      "cell_type": "markdown",
      "source": [],
      "metadata": {
        "id": "3uX-1Cqqwhj1"
      }
    },
    {
      "cell_type": "markdown",
      "source": [
        "## Referencias \n",
        "* Approximate string matching or Fuzzy searching - https://en.wikipedia.org/wiki/Approximate_string_matching\n",
        "* Levenshtein distance - https://en.wikipedia.org/wiki/Levenshtein_distance\n",
        "* The Fuzz - https://github.com/seatgeek/thefuzz (formerly known as fuzzywuzzy)\n"
      ],
      "metadata": {
        "id": "QC2FWnjeMMtY"
      }
    },
    {
      "cell_type": "code",
      "source": [],
      "metadata": {
        "id": "EF44c3oSoo-f"
      },
      "execution_count": null,
      "outputs": []
    },
    {
      "cell_type": "code",
      "source": [],
      "metadata": {
        "id": "xgGbsF6tMYbh"
      },
      "execution_count": null,
      "outputs": []
    }
  ]
}