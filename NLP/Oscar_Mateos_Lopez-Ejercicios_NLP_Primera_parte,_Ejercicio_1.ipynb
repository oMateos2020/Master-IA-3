{
 "cells": [
  {
   "cell_type": "markdown",
   "metadata": {
    "id": "23pU1mVwuVhy"
   },
   "source": [
    "# Alumno: Oscar Mateos López"
   ]
  },
  {
   "cell_type": "markdown",
   "metadata": {
    "id": "UgRnpKudjk27"
   },
   "source": [
    "# **Ejercicios NLP (primera parte) Para evaluar la primera parte del módulo de PLN se proponen dos ejercicios**\n",
    " \n",
    "Ambos ejercicios utilizan el corpus de críticas de cine \"mundocine\". \n",
    "\n",
    "Estas críticas están almacenadas en archivos XML en un formato que ya se ha visto el el notebook NLP_07."
   ]
  },
  {
   "cell_type": "markdown",
   "metadata": {
    "id": "lHsjrQ2zwTyB"
   },
   "source": [
    "# **Puesta a punto del entorno en Colab**\n",
    "Los ejercicios se realizarán en Google Colab, por lo son necesarios los siguientes pasos para poder ejecutar los ejercicios. "
   ]
  },
  {
   "cell_type": "code",
   "execution_count": 2,
   "metadata": {
    "colab": {
     "base_uri": "https://localhost:8080/"
    },
    "id": "GxrXBYuguUdJ",
    "outputId": "01e5c93e-7ecf-48eb-9bad-ab107b9825ee"
   },
   "outputs": [
    {
     "name": "stdout",
     "output_type": "stream",
     "text": [
      "\u001b[K     |████████████████████████████████| 13.9MB 197kB/s \n",
      "\u001b[K     |████████████████████████████████| 12.8MB 231kB/s \n",
      "\u001b[K     |████████████████████████████████| 51kB 5.2MB/s \n",
      "\u001b[K     |████████████████████████████████| 9.1MB 32.6MB/s \n",
      "\u001b[K     |████████████████████████████████| 624kB 36.0MB/s \n",
      "\u001b[K     |████████████████████████████████| 460kB 36.2MB/s \n",
      "\u001b[K     |████████████████████████████████| 122kB 41.5MB/s \n",
      "\u001b[?25h  Building wheel for es-core-news-sm (setup.py) ... \u001b[?25l\u001b[?25hdone\n",
      "  Building wheel for smart-open (setup.py) ... \u001b[?25l\u001b[?25hdone\n"
     ]
    }
   ],
   "source": [
    "!pip -q install https://github.com/explosion/spacy-models/releases/download/es_core_news_sm-3.0.0/es_core_news_sm-3.0.0.tar.gz"
   ]
  },
  {
   "cell_type": "code",
   "execution_count": 1,
   "metadata": {
    "id": "Le4GJBgErZsL"
   },
   "outputs": [],
   "source": [
    "import os, re, string, spacy\n",
    "from xml.dom.minidom import parseString\n",
    "import pandas as pd\n",
    "import numpy as np\n",
    "import matplotlib.pyplot as plt\n",
    "import spacy\n",
    "from sklearn.feature_extraction.text import CountVectorizer, TfidfVectorizer\n",
    "from gensim.utils import simple_preprocess\n",
    "from gensim.models import Word2Vec\n",
    "from sklearn.linear_model import LogisticRegression, SGDClassifier\n",
    "from sklearn.metrics import classification_report\n",
    "from sklearn.naive_bayes import MultinomialNB, GaussianNB\n",
    "from sklearn.svm import SVC\n",
    "from sklearn.metrics import classification_report, roc_curve, auc, roc_auc_score\n",
    "import pickle\n",
    "\n",
    "pd.options.display.max_colwidth = None\n",
    "np.random.seed(123)\n",
    "\n",
    "nlp = spacy.load(\"es_core_news_sm\")"
   ]
  },
  {
   "cell_type": "code",
   "execution_count": 2,
   "metadata": {
    "colab": {
     "base_uri": "https://localhost:8080/"
    },
    "id": "f_lgJ8y3hw00",
    "outputId": "7a0bca21-9c7c-47da-9fcb-3c86adb60fbc"
   },
   "outputs": [
    {
     "name": "stdout",
     "output_type": "stream",
     "text": [
      "Downloading...\n",
      "From: https://drive.google.com/uc?id=1uWcXDDZirXxJkjxM04Pntf4XoNDc1rvu\n",
      "To: /content/criticas.zip\n",
      "6.73MB [00:00, 10.1MB/s]\n"
     ]
    }
   ],
   "source": [
    "# Me descargo el fichero de mi drive a traves de un enlace compartido (tenia problemas al subirlo al Colab a mano)\n",
    "!gdown --id 1uWcXDDZirXxJkjxM04Pntf4XoNDc1rvu"
   ]
  },
  {
   "cell_type": "code",
   "execution_count": 3,
   "metadata": {
    "colab": {
     "base_uri": "https://localhost:8080/"
    },
    "id": "jxune82-82yx",
    "outputId": "afc2b032-71d7-4844-9437-503e3ac87160"
   },
   "outputs": [
    {
     "name": "stdout",
     "output_type": "stream",
     "text": [
      "criticas.zip  \u001b[0m\u001b[01;34msample_data\u001b[0m/\n"
     ]
    }
   ],
   "source": [
    "ls"
   ]
  },
  {
   "cell_type": "code",
   "execution_count": 4,
   "metadata": {
    "colab": {
     "base_uri": "https://localhost:8080/"
    },
    "id": "S6YVu863CzNw",
    "outputId": "416793e6-9d7c-4c87-8525-d4191dc2a581"
   },
   "outputs": [
    {
     "name": "stdout",
     "output_type": "stream",
     "text": [
      "rm: cannot remove 'criticas': No such file or directory\n"
     ]
    }
   ],
   "source": [
    "!rm -rv criticas"
   ]
  },
  {
   "cell_type": "code",
   "execution_count": 5,
   "metadata": {
    "id": "Qk3qlv2U86fJ"
   },
   "outputs": [],
   "source": [
    "!unzip -q \"criticas.zip\""
   ]
  },
  {
   "cell_type": "code",
   "execution_count": 6,
   "metadata": {
    "colab": {
     "base_uri": "https://localhost:8080/"
    },
    "id": "FYI7qP0Hl-st",
    "outputId": "b8d93d77-627c-4342-d638-85aac06ae438"
   },
   "outputs": [
    {
     "name": "stdout",
     "output_type": "stream",
     "text": [
      "3878\n"
     ]
    }
   ],
   "source": [
    "# Conntamos número de criticas total entre train y test\n",
    "!ls criticas/*/*.xml | wc -l"
   ]
  },
  {
   "cell_type": "code",
   "execution_count": 7,
   "metadata": {
    "colab": {
     "base_uri": "https://localhost:8080/"
    },
    "id": "AwS-P3_6kxiR",
    "outputId": "503090c5-8132-4320-c96d-6c9062f88ac7"
   },
   "outputs": [
    {
     "name": "stdout",
     "output_type": "stream",
     "text": [
      "2714\n"
     ]
    }
   ],
   "source": [
    "# Contamos número de criticas total en train\n",
    "!ls criticas/train/*.xml | wc -l\n"
   ]
  },
  {
   "cell_type": "code",
   "execution_count": 8,
   "metadata": {
    "colab": {
     "base_uri": "https://localhost:8080/"
    },
    "id": "aYatgvVxmwBZ",
    "outputId": "ed8e2205-6e4a-4cf4-c06f-bb351240d54f"
   },
   "outputs": [
    {
     "name": "stdout",
     "output_type": "stream",
     "text": [
      "1164\n"
     ]
    }
   ],
   "source": [
    "# Contamos número de criticas total en test\n",
    "!ls criticas/test/*.xml | wc -l\n"
   ]
  },
  {
   "cell_type": "markdown",
   "metadata": {
    "id": "7AsY8RD_jhwA"
   },
   "source": [
    "# **Ejercicio 1: clasificación de texto**\n",
    "Cada crítica tiene una valoración de la película entre 1 y 5. Divide este rango en 3 niveles:\n",
    " \n",
    " - MALA: de 1 a 2\n",
    " - REGULAR: 3\n",
    " - BUENA: de 4 a 5\n"
   ]
  },
  {
   "cell_type": "code",
   "execution_count": 186,
   "metadata": {
    "id": "round-imperial"
   },
   "outputs": [],
   "source": [
    "# Funcion para cargar las criticas de cada directorio en modo stream\n",
    "def parse_folder(path):\n",
    "    \"\"\"generator that reads the contents of XML files in a folder\n",
    "    Returns the <body> of the <review> in each XML file.\n",
    "    XML files encoded as 'latin-1'\"\"\"\n",
    "    for file in sorted([f for f in os.listdir(path) if f.endswith('.xml')],\n",
    "                        key=lambda x: int(re.match(r'\\d+',x).group())):\n",
    "        #with open(os.path.join(path, file), encoding='latin-1') as f:\n",
    "        #   doc=parseString(f.read())\n",
    "        with open(os.path.join(path, file), encoding='latin-1') as f:\n",
    "            doc=parseString(re.sub(r'(<>)|&|(<-)', '', f.read()))\n",
    "\n",
    "            titulo = doc.documentElement.attributes[\"title\"].value\n",
    "\n",
    "            btxt = \"\"\n",
    "            review_bod = doc.getElementsByTagName(\"body\")\n",
    "            if len(review_bod) > 0:\n",
    "                for node in review_bod[0].childNodes:\n",
    "                    if node.nodeType == node.TEXT_NODE:\n",
    "                        btxt += node.data + \" \"\n",
    "\n",
    "            rtxt = \"\"\n",
    "            review_summ = doc.getElementsByTagName(\"summary\")\n",
    "            if len(review_summ) > 0:\n",
    "                for node in review_summ[0].childNodes:\n",
    "                    if node.nodeType == node.TEXT_NODE:\n",
    "                        rtxt += node.data + \" \"\n",
    "\n",
    "            rank = int(doc.documentElement.attributes[\"rank\"].value)\n",
    "\n",
    "            #Tramificar puntuaciones\n",
    "            if (rank >= 1 and rank <= 2):\n",
    "              rank_rating = \"MALA\"\n",
    "            elif (rank == 3):\n",
    "              rank_rating = \"REGULAR\"\n",
    "            elif (rank > 3 and rank <= 5):\n",
    "              rank_rating = \"BUENA\"\n",
    "\n",
    "            yield titulo, rtxt, btxt, rank, rank_rating"
   ]
  },
  {
   "cell_type": "markdown",
   "metadata": {
    "id": "B3I3MKStWj0y"
   },
   "source": [
    "## **Limpieza de texto: Función de normalización con `spaCy`**\n",
    "Realizaremos el siguiente procesado:\n",
    "- Introducir un espacio después de determinados signos de puntuación (\".\", \"?\") para que el tokenizado sea correcto\n",
    "- Separar el texto en *tokens*\n",
    "- Eliminar los *tokens* de tipo *stop-word*, signos de puntuación o espacios o de longitud 1 o 2\n",
    "- Convertir las entidades de tipo `PER` al token *persona*\n",
    "- Lematizar el texto y pasarlo a minúsculas quitando espacios extra\n",
    "- Eliminar digitos entre parentesis como los años (1990)\n",
    "- Eliminar menciones y referencias a webs\n",
    "\n",
    "\n",
    "**Las criticas normalizadas se usarán para generar el BoW o la matriz Tf-Idf.**\n"
   ]
  },
  {
   "cell_type": "code",
   "execution_count": 188,
   "metadata": {
    "id": "surface-traveler"
   },
   "outputs": [],
   "source": [
    "def normaliza(texto, lemas=False):\n",
    "    # Separamos después de ciertos signos de puntuación\n",
    "    # Esta exp regular se ha incluido \"a mano\" tras ver que era necesaria para algunos ejemplos\n",
    "    texto = re.sub(r\"([\\.\\?])\", r\"\\1 \", texto) # Introduce espacio despues de punto e interrogacion\n",
    "    texto = re.sub(r'[(\\d+)]+', '', texto) #elimina numeros entre parentesis\n",
    "    texto = re.sub(r'@[\\w_]+|https?://[\\w_./]+', '', texto) #elimina menciones y URL\n",
    "    doc = nlp(texto)\n",
    "    tokens = [t for t in doc if not t.is_punct and not t.is_stop and not t.is_space and len(t.text)>2]\n",
    "  \n",
    "    palabras = []\n",
    "    # Los nombres concretos de las personas nos dan igual: sustituimos span por 'persona'\n",
    "    for t in tokens:\n",
    "        if t.ent_iob_=='B' and t.ent_type_=='PER':\n",
    "            palabras.append('persona') \n",
    "        elif t.ent_iob_=='I' and t.ent_type_=='PER':\n",
    "            continue\n",
    "        else:\n",
    "            palabras.append(t.lemma_.lower().strip())\n",
    "    salida = ' '.join(palabras)\n",
    "    \n",
    "    return salida"
   ]
  },
  {
   "cell_type": "markdown",
   "metadata": {
    "id": "msifjXOnWSnf"
   },
   "source": [
    "## **Extracción de características básicas en un DataFrame**\n",
    "\n",
    "Utilizando la librería `textaCy` procesamos cada documento y generamos una serie de estadísticos. \\\n",
    "Guardaremos los resultados en un objeto `DataFrame` de Pandas.\\\n",
    "Como característica de cada crítica vamos a extraer:\n",
    "- Título de la película\n",
    "- Longitud (en caracteres) del resumen\n",
    "- Resumen\n",
    "- Longitud (en caracteres) del texto de la crítica\n",
    "- Crítica\n",
    "- Número de palabras de la crítica \n",
    "- Longitud (en caracteres) del texto de la crítica normalizada\n",
    "- Crítica normalizada\n",
    "- Número de palabras de la crítica normalizada\n",
    "- Puntuación de la crítica {1-5}\n",
    "- Valoracion de la crítica {MALA, REGULAR, BUENA}"
   ]
  },
  {
   "cell_type": "markdown",
   "metadata": {
    "id": "-1jkAafJyGna"
   },
   "source": [
    "Exploramos la salida de `parse_folder`"
   ]
  },
  {
   "cell_type": "code",
   "execution_count": 189,
   "metadata": {
    "colab": {
     "base_uri": "https://localhost:8080/"
    },
    "id": "eMLlTWnb39kV",
    "outputId": "6e5b36e6-a4fd-4736-b065-3c7d5cd4f7bb"
   },
   "outputs": [
    {
     "data": {
      "text/plain": [
       "<generator object parse_folder at 0x7f7365179d50>"
      ]
     },
     "execution_count": 189,
     "metadata": {
      "tags": []
     },
     "output_type": "execute_result"
    }
   ],
   "source": [
    "# Train folder\n",
    "path = '/content/criticas/train'\n",
    "parse_criticas = parse_folder(path)\n",
    "parse_criticas"
   ]
  },
  {
   "cell_type": "code",
   "execution_count": 12,
   "metadata": {
    "colab": {
     "base_uri": "https://localhost:8080/"
    },
    "id": "3RvVyXkcw16p",
    "outputId": "67990060-99c0-4be6-f590-8248936792b9"
   },
   "outputs": [
    {
     "name": "stdout",
     "output_type": "stream",
     "text": [
      "Titulo: La guerra de los mundos\n",
      "\n",
      "Resumen: Hasta los cojones de los yankis\n",
      "\n",
      "Critica: \n",
      "Cada vez me gusta menos el cine de masas. Las peliculas que ven todo el mundo me parecen cada vez mas coñazo y mas insufribles. No\n",
      "se porqué pero siempre el prota es tonto del culo y tiene suerte, y al final de la peli, cuando ha logrado vencer al mal, se\n",
      "convierte en listo, y las chorradas que hacia al comienzo de la pelicula se esfuman como por arte de magia. Se vuelve maduro e\n",
      "inteligente.Esta peli de Spielberg es mas de lo mismo, huir y huir y que no le den ni un solo tiro. Además el cabron ha metido a\n",
      "un par de actores que es como para echarles de comer aparte. La niña, una vieja metida en el cuerpo de una niña, porque solo hay\n",
      "que verle hablar (en version original claro) para darse cuenta que estamos ante uno de los grandes freaks del cine. Se creeran que\n",
      "hace gracia la nena cuando habla igual que su puta madre, pero a mi me causa pavor. Ver a una cria que habla como una persona\n",
      "madura es algo horroroso. Los niños son niños y verlos fuera de su rol asusta.Luego esta el hijo adolescente que tiene el Cruise.\n",
      "Otro subnormal que es para darle de bofetadas hasta que se te vea el hueso a la mano. Fiel reflejo de lo que se denomina\n",
      "manipulacion militar, el chico quiere matar a los bichos sin ningun arma, hale, a lo loco y sin pensar, venga, a saco.Que quereis\n",
      "que os diga, pero a mi eso me parece fanatismo y locura. Que alguien quiera ir a luchar sin medios es ir a una muerte segura, por\n",
      "eso me jode sobremanera que al final de la pelicula aparezca el mongo este y sus abuelos y toda la familia. Se salva todo dios, y\n",
      "encima la vieja aparece en traje de los domingos y toda maquillada.¿Pero que sinsorgada es esta? Solo falta que Cruise vuelva con\n",
      "su exmujer y que el mundo sea mucho mejor. Tranquilos, os cuento el final de la peli pero no pasa nada, todas las pelis acaban de\n",
      "igual manera, y decir eso no resta misterio al bodrio este. Yo no se de que va Spielberg, pero a este paso se va a convertir tan\n",
      "solo en un director que es bueno haciendo efectos especiales, porque lo que es contando historias?¿No os disteis cuenta de que los\n",
      "norteamericanos no saben guardar la compostura? Que todo lo dicen gritando. En momentos dificiles lo mas sensato es tranquilizarse\n",
      "y no discutir por chorradas, y en toda la puta peli no paran de gritar y pegarse entre ellos.Me hace gracia como al comienzo de la\n",
      "peli, cuando el suelo empieza a resquebrajarse, la gente se queda ahí a mirar que pasa. Joder, no se ellos, pero yo ya estaria\n",
      "corriendo como una puta desde hace tiempo, e escondiéndome. Si veo que un bicho esta lanzando rayos y machacando a to dios, me\n",
      "escondo.En fin, que para que seguir hablando de esta mierda, si lo que querian ya lo han conseguido, que es que pagasemos la\n",
      "entrada, por eso creo que va a ir al cine su prima, a partir de ahora me lo bajare todo de internet, que por lo que se ve, la\n",
      "calidad de las pelis es aceptable, y puedo pasarla palante. Hoy en dia no tener un mando con el forward en la mano es morir.\n",
      "\n",
      "Puntuacion: 1\n"
     ]
    }
   ],
   "source": [
    "import textwrap\n",
    "#print(textwrap.fill(string, 40))\n",
    "\n",
    "# Comprobamos primera lectura\n",
    "# Tuplas de parse_folder: \n",
    "# (titulo, rtxt (resumen de la critica), btxt (critica), rank [1-5])\n",
    "for c in parse_criticas:\n",
    "  print(f'Titulo: {c[0]}\\n')\n",
    "  print(f'Resumen: {textwrap.fill(c[1], 130)}\\n')\n",
    "  print(f'Critica: \\n{textwrap.fill(c[2], 130)}\\n')\n",
    "  print(f'Puntuacion: {c[3]}')\n",
    "  break\n"
   ]
  },
  {
   "cell_type": "markdown",
   "metadata": {
    "id": "M_iVLZ8b8UYS"
   },
   "source": [
    "**Exploración de datos faltantes:** \n",
    "Iteramos para ver si hay alguna critica vacía o sin valoración"
   ]
  },
  {
   "cell_type": "code",
   "execution_count": 13,
   "metadata": {
    "colab": {
     "base_uri": "https://localhost:8080/"
    },
    "id": "rvh6hye62ORe",
    "outputId": "22028c12-1867-4893-8406-3e037030fb1f"
   },
   "outputs": [
    {
     "name": "stdout",
     "output_type": "stream",
     "text": [
      "Titulo: Death Proof\n",
      "\n",
      "Resumen: Un loco de la carretera anda suelto y busca presas sexys (un intento de resumir una película sin sentido y con poco argumento...)\n",
      "\n",
      "Critica: \n",
      "\n",
      "Puntuacion: 2\n"
     ]
    }
   ],
   "source": [
    "# Comprobamos si hay alguna critica vacia\n",
    "for c in parse_criticas:\n",
    "  if len(c[2]) == 0:\n",
    "    print(f'Titulo: {c[0]}\\n')\n",
    "    print(f'Resumen: {textwrap.fill(c[1], 130)}\\n')\n",
    "    print(f'Critica: {textwrap.fill(c[2], 130)}\\n')\n",
    "    print(f'Puntuacion: {c[3]}')\n",
    "  "
   ]
  },
  {
   "cell_type": "markdown",
   "metadata": {
    "id": "WP3nzzEX2q4y"
   },
   "source": [
    "Aquí podríamos quitar esta crítica, pero como tiene resumen (Yademás es de 130 caracteres) vamos a probar a usarlo en lugar de su crítica, que en este caso está vacía, será una forma de imputar este dato faltante que nos aportará más información que eliminarla."
   ]
  },
  {
   "cell_type": "markdown",
   "metadata": {
    "id": "cfKaAlNM33vX"
   },
   "source": [
    "De hecho se podría usar el siguiente criterio: Usar el resumen como crítica en los casos que su resumen sea más largo que su crítica, con esto de alguna manera se detectarían críticas que por algún motivo estén incompletas.\n",
    "\n",
    "Explorando los datos vemos que no se da este caso aparte de esta critica vacía, pero tendremos en cuenta el criterio posteriormente **en un caso real con mas criticas erróneas podría tener mayor impacto que en este caso práctico**."
   ]
  },
  {
   "cell_type": "markdown",
   "metadata": {
    "id": "VfK9WuHm3n_X"
   },
   "source": [
    "No hay ninguna sin puntuación\n",
    "\n",
    "Obtenemos el dataframe **rellenando la crítica y la crítica normalizada se rellenarán con el resumen y resumen normalizado si la critica está vacía**."
   ]
  },
  {
   "cell_type": "code",
   "execution_count": 14,
   "metadata": {
    "id": "I-TO9f3zujHg"
   },
   "outputs": [],
   "source": [
    "# Obtenemos el Dataframe con el arreglo para la critica vacia\n",
    "# Creamos una lista en blanco\n",
    "datos = []\n",
    "\n",
    "# Recorremos las críticas y calculamos sus métricas\n",
    "# Si la  critica normalizada está vacía: la critica y la critica normalizada se rellenarán con el resumen y resumen normalizado\n",
    "# Tuplas de parse_folder: (titulo, rtxt (resumen de la critica), btxt (critica), rank (1-5))\n",
    "for c in parse_folder(path):\n",
    "  cNorm = normaliza(c[2], lemas=True)\n",
    "\n",
    "  datos.append({\n",
    "      'Titulo': c[0],\n",
    "      'Long_Resumen': len(c[1]),\n",
    "      'Resumen': c[1],\n",
    "      'Long_Critica': len(c[2]),\n",
    "      'Critica': c[2] if len(c[2]) > 0 else c[1],\n",
    "      'Palabras_Critica': len(c[2].split(' ')),\n",
    "      'Long_Critica_Normalizada': len(cNorm),\n",
    "      'Palabras_Critica_Normalizada': len(cNorm.split(' ')),\n",
    "      'Critica_Normalizada': cNorm if len(cNorm) > 0 else normaliza(c[1], lemas=True),\n",
    "      'Puntuacion': c[3],\n",
    "      'Valoracion': c[4]\n",
    "  })\n",
    "\n",
    "resumen = pd.DataFrame(datos)"
   ]
  },
  {
   "cell_type": "code",
   "execution_count": 190,
   "metadata": {
    "colab": {
     "base_uri": "https://localhost:8080/",
     "height": 274
    },
    "id": "cAXhOqRG2Yxt",
    "outputId": "f09b773e-44eb-4e1e-8dc2-a5c4085f3dfe"
   },
   "outputs": [
    {
     "data": {
      "text/html": [
       "<div>\n",
       "<style scoped>\n",
       "    .dataframe tbody tr th:only-of-type {\n",
       "        vertical-align: middle;\n",
       "    }\n",
       "\n",
       "    .dataframe tbody tr th {\n",
       "        vertical-align: top;\n",
       "    }\n",
       "\n",
       "    .dataframe thead th {\n",
       "        text-align: right;\n",
       "    }\n",
       "</style>\n",
       "<table border=\"1\" class=\"dataframe\">\n",
       "  <thead>\n",
       "    <tr style=\"text-align: right;\">\n",
       "      <th></th>\n",
       "      <th>Titulo</th>\n",
       "      <th>Long_Resumen</th>\n",
       "      <th>Resumen</th>\n",
       "      <th>Long_Critica</th>\n",
       "      <th>Critica</th>\n",
       "      <th>Palabras_Critica</th>\n",
       "      <th>Long_Critica_Normalizada</th>\n",
       "      <th>Palabras_Critica_Normalizada</th>\n",
       "      <th>Critica_Normalizada</th>\n",
       "      <th>Puntuacion</th>\n",
       "      <th>Valoracion</th>\n",
       "    </tr>\n",
       "  </thead>\n",
       "  <tbody>\n",
       "    <tr>\n",
       "      <th>1824</th>\n",
       "      <td>Death Proof</td>\n",
       "      <td>130</td>\n",
       "      <td>Un loco de la carretera anda suelto y busca presas sexys (un intento de resumir una película sin sentido y con poco argumento...)</td>\n",
       "      <td>0</td>\n",
       "      <td>Un loco de la carretera anda suelto y busca presas sexys (un intento de resumir una película sin sentido y con poco argumento...)</td>\n",
       "      <td>1</td>\n",
       "      <td>0</td>\n",
       "      <td>1</td>\n",
       "      <td>loco carretera andar suelto buscar presa sexys resumir película sentido argumento</td>\n",
       "      <td>2</td>\n",
       "      <td>MALA</td>\n",
       "    </tr>\n",
       "  </tbody>\n",
       "</table>\n",
       "</div>"
      ],
      "text/plain": [
       "           Titulo  Long_Resumen  ... Puntuacion  Valoracion\n",
       "1824  Death Proof           130  ...          2        MALA\n",
       "\n",
       "[1 rows x 11 columns]"
      ]
     },
     "execution_count": 190,
     "metadata": {
      "tags": []
     },
     "output_type": "execute_result"
    }
   ],
   "source": [
    "#resumen.sort_values('Long_Critica_Normalizada')\n",
    "resumen.query('Long_Critica < Long_Resumen')"
   ]
  },
  {
   "cell_type": "code",
   "execution_count": 16,
   "metadata": {
    "id": "Sn2Vg3M-wsW6"
   },
   "outputs": [],
   "source": [
    "# Guardamos resumen en CSV por si fuera necesario ejecutar oto día y ahoarnos estos pasos\n",
    "# Separador especial: caracter \"·\"; porque en la critica o resumen pueden existir comas o puntos y comas ya.\n",
    "resumen.to_csv(\"resumen.csv\", sep='·', index=False)"
   ]
  },
  {
   "cell_type": "code",
   "execution_count": 17,
   "metadata": {
    "colab": {
     "base_uri": "https://localhost:8080/"
    },
    "id": "zGaAb-egDwQv",
    "outputId": "e685d361-8c53-4868-9b41-ac60f9e36068"
   },
   "outputs": [
    {
     "data": {
      "text/plain": [
       "2714"
      ]
     },
     "execution_count": 17,
     "metadata": {
      "tags": []
     },
     "output_type": "execute_result"
    }
   ],
   "source": [
    "# Comprobamos que esten las 2714 criticas\n",
    "len(resumen)"
   ]
  },
  {
   "cell_type": "code",
   "execution_count": 18,
   "metadata": {
    "colab": {
     "base_uri": "https://localhost:8080/",
     "height": 274
    },
    "id": "VrmPEB476G2W",
    "outputId": "e62ac313-1e06-47df-f4d5-383f83202814"
   },
   "outputs": [
    {
     "data": {
      "text/html": [
       "<div>\n",
       "<style scoped>\n",
       "    .dataframe tbody tr th:only-of-type {\n",
       "        vertical-align: middle;\n",
       "    }\n",
       "\n",
       "    .dataframe tbody tr th {\n",
       "        vertical-align: top;\n",
       "    }\n",
       "\n",
       "    .dataframe thead th {\n",
       "        text-align: right;\n",
       "    }\n",
       "</style>\n",
       "<table border=\"1\" class=\"dataframe\">\n",
       "  <thead>\n",
       "    <tr style=\"text-align: right;\">\n",
       "      <th></th>\n",
       "      <th>Titulo</th>\n",
       "      <th>Long_Resumen</th>\n",
       "      <th>Resumen</th>\n",
       "      <th>Long_Critica</th>\n",
       "      <th>Critica</th>\n",
       "      <th>Palabras_Critica</th>\n",
       "      <th>Long_Critica_Normalizada</th>\n",
       "      <th>Palabras_Critica_Normalizada</th>\n",
       "      <th>Critica_Normalizada</th>\n",
       "      <th>Puntuacion</th>\n",
       "      <th>Valoracion</th>\n",
       "    </tr>\n",
       "  </thead>\n",
       "  <tbody>\n",
       "    <tr>\n",
       "      <th>1824</th>\n",
       "      <td>Death Proof</td>\n",
       "      <td>130</td>\n",
       "      <td>Un loco de la carretera anda suelto y busca presas sexys (un intento de resumir una película sin sentido y con poco argumento...)</td>\n",
       "      <td>0</td>\n",
       "      <td>Un loco de la carretera anda suelto y busca presas sexys (un intento de resumir una película sin sentido y con poco argumento...)</td>\n",
       "      <td>1</td>\n",
       "      <td>0</td>\n",
       "      <td>1</td>\n",
       "      <td>loco carretera andar suelto buscar presa sexys resumir película sentido argumento</td>\n",
       "      <td>2</td>\n",
       "      <td>MALA</td>\n",
       "    </tr>\n",
       "  </tbody>\n",
       "</table>\n",
       "</div>"
      ],
      "text/plain": [
       "           Titulo  Long_Resumen  ... Puntuacion  Valoracion\n",
       "1824  Death Proof           130  ...          2        MALA\n",
       "\n",
       "[1 rows x 11 columns]"
      ]
     },
     "execution_count": 18,
     "metadata": {
      "tags": []
     },
     "output_type": "execute_result"
    }
   ],
   "source": [
    "# Comprobamos para la que no tenia critica\n",
    "resumen.loc[resumen['Long_Critica_Normalizada'] == 0]"
   ]
  },
  {
   "cell_type": "markdown",
   "metadata": {
    "id": "KF-iVLgzC8h-"
   },
   "source": [
    "Podemos ver comparando los campos de longitudes y número de palabras antes de normalizar y después que las críticas se han reducido bastante en su extensión."
   ]
  },
  {
   "cell_type": "code",
   "execution_count": 19,
   "metadata": {
    "colab": {
     "base_uri": "https://localhost:8080/",
     "height": 1000
    },
    "id": "hpTz7KvoC64l",
    "outputId": "d0b7eb43-9c70-4a01-d758-d0332ffc4d10"
   },
   "outputs": [
    {
     "data": {
      "text/html": [
       "<div>\n",
       "<style scoped>\n",
       "    .dataframe tbody tr th:only-of-type {\n",
       "        vertical-align: middle;\n",
       "    }\n",
       "\n",
       "    .dataframe tbody tr th {\n",
       "        vertical-align: top;\n",
       "    }\n",
       "\n",
       "    .dataframe thead th {\n",
       "        text-align: right;\n",
       "    }\n",
       "</style>\n",
       "<table border=\"1\" class=\"dataframe\">\n",
       "  <thead>\n",
       "    <tr style=\"text-align: right;\">\n",
       "      <th></th>\n",
       "      <th>Titulo</th>\n",
       "      <th>Long_Resumen</th>\n",
       "      <th>Resumen</th>\n",
       "      <th>Long_Critica</th>\n",
       "      <th>Critica</th>\n",
       "      <th>Palabras_Critica</th>\n",
       "      <th>Long_Critica_Normalizada</th>\n",
       "      <th>Palabras_Critica_Normalizada</th>\n",
       "      <th>Critica_Normalizada</th>\n",
       "      <th>Puntuacion</th>\n",
       "      <th>Valoracion</th>\n",
       "    </tr>\n",
       "  </thead>\n",
       "  <tbody>\n",
       "    <tr>\n",
       "      <th>0</th>\n",
       "      <td>La guerra de los mundos</td>\n",
       "      <td>32</td>\n",
       "      <td>Hasta los cojones de los yankis</td>\n",
       "      <td>2951</td>\n",
       "      <td>Cada vez me gusta menos el cine de masas. Las peliculas que ven todo el mundo me parecen cada vez mas coñazo y mas insufribles. No se porqué pero siempre el prota es tonto del culo y tiene suerte, y al final de la peli, cuando ha logrado vencer al mal, se convierte en listo, y las chorradas que hacia al comienzo de la pelicula se esfuman como por arte de magia. Se vuelve maduro e inteligente.Esta peli de Spielberg es mas de lo mismo, huir y huir y que no le den ni un solo tiro. Además el cabron ha metido a un par de actores que es como para echarles de comer aparte. La niña, una vieja metida en el cuerpo de una niña, porque solo hay que verle hablar (en version original claro) para darse cuenta que estamos ante uno de los grandes freaks del cine. Se creeran que hace gracia la nena cuando habla igual que su puta madre, pero a mi me causa pavor. Ver a una cria que habla como una persona madura es algo horroroso. Los niños son niños y verlos fuera de su rol asusta.Luego esta el hijo adolescente que tiene el Cruise. Otro subnormal que es para darle de bofetadas hasta que se te vea el hueso a la mano. Fiel reflejo de lo que se denomina manipulacion militar, el chico quiere matar a los bichos sin ningun arma, hale, a lo loco y sin pensar, venga, a saco.Que quereis que os diga, pero a mi eso me parece fanatismo y locura. Que alguien quiera ir a luchar sin medios es ir a una muerte segura, por eso me jode sobremanera que al final de la pelicula aparezca el mongo este y sus abuelos y toda la familia. Se salva todo dios, y encima la vieja aparece en traje de los domingos y toda maquillada.¿Pero que sinsorgada es esta? Solo falta que Cruise vuelva con su exmujer y que el mundo sea mucho mejor. Tranquilos, os cuento el final de la peli pero no pasa nada, todas las pelis acaban de igual manera, y decir eso no resta misterio al bodrio este. Yo no se de que va Spielberg, pero a este paso se va a convertir tan solo en un director que es bueno haciendo efectos especiales, porque lo que es contando historias?¿No os disteis cuenta de que los norteamericanos no saben guardar la compostura? Que todo lo dicen gritando. En momentos dificiles lo mas sensato es tranquilizarse y no discutir por chorradas, y en toda la puta peli no paran de gritar y pegarse entre ellos.Me hace gracia como al comienzo de la peli, cuando el suelo empieza a resquebrajarse, la gente se queda ahí a mirar que pasa. Joder, no se ellos, pero yo ya estaria corriendo como una puta desde hace tiempo, e escondiéndome. Si veo que un bicho esta lanzando rayos y machacando a to dios, me escondo.En fin, que para que seguir hablando de esta mierda, si lo que querian ya lo han conseguido, que es que pagasemos la entrada, por eso creo que va a ir al cine su prima, a partir de ahora me lo bajare todo de internet, que por lo que se ve, la calidad de las pelis es aceptable, y puedo pasarla palante. Hoy en dia no tener un mando con el forward en la mano es morir.</td>\n",
       "      <td>569</td>\n",
       "      <td>1426</td>\n",
       "      <td>206</td>\n",
       "      <td>gustar cine masa pelicula ver mundo parecer coñazo insufribl porquar prota tonto culo suerte peli lograr vencer convertir listo chorrada comienzo pelicula esfumar arte magia volver maduro inteligente peli persona huir huir dar tiro cabron meter par actor echarl comer aparte niña viejo metida cuerpo niña ver él hablar version original dar él freak cine creeran gracia nena puta madre causar pavor cria persona maduro horroroso niño niño ver él rol asusta hijo adolescente cruise subnormal dar él bofetada ver hueso mano fiel reflejo denominar manipulacion militar chico matar bicho ningun arma hale loco pensar venir saco quereis decir fanatismo locura alguien querer luchar medio muerte seguro jodar sobremanerir pelicula aparecer mongo abuelo familia salir dio viejo aparecer traje domingo maquillada sinsorgadar faltar persona volver exmujer mundo tranquilos contar peli pasar peli acabar restar misterio bodrio persona paso convertir director efecto especial contar historia disteis norteamericano guardar compostura gritar momento dificil sensato tranquilizar él discutir chorrada puta peli parar gritar pegar él gracia comienzo peli suelo empezar resquebrajar él gente quedar mirar pasar joder estario correr puta escondiéndome ver bicho lanzar rayo machacar dios escondo seguir hablar mierda queriar conseguir pagaser entrada cine prima bajarar internet calidad peli aceptable pasar él palante mando forward mano morir</td>\n",
       "      <td>1</td>\n",
       "      <td>MALA</td>\n",
       "    </tr>\n",
       "    <tr>\n",
       "      <th>1</th>\n",
       "      <td>Spiderman 2</td>\n",
       "      <td>45</td>\n",
       "      <td>Poniendo a parir una peli que no cuenta nada</td>\n",
       "      <td>3403</td>\n",
       "      <td>Es un dolor esto del cine. Yo ya voy con miedo. Primero por las colas tan largas, segundo por ver quien te toca al lado, y tercero por los guiones cada vez mas gilipollescos que se curran. El cine esta cayendo en picado, como la tele, como el mundo editorial, donde cualquier gualtrapa que por solo salir en la tele te \"escribe\" un \"libro\". Lo de Spiderman es para coger al director y darle cuatro ostias. Pero a cuento de que te mete tanta filosofia de cura en boca de tantos personajes de la peli?, nos quieren dejar vivir un poco?. Yo voy al cine a ver a Spiderman como zurra a los malos, no a enmierdarme en su vida privada y sus problemas psicologicos. Me la suda la novia de Spiderman, esa lerda con cara de pastora de los montes de Usurbil que parece que no folla nunca, y que es una pretenciosa que le dice al final que le va a salvar la vida, y que le monta un pollo porque no ha podido ir a ver su mierda de obra de teatro. Pero que tipo de personaje es este? Menuda subnor? Y la vieja? Una petarda que no para de dar consejillos en plan Reverendo Smith, vete a dar consejos a tu puta madre, vieja chocha! Pon la tele y dejame en paz, pesada. Y Spiderman, menudo tontolava, un superheroe que no tiene un puto duro. Que aprenda de Batman, que esta forrao en la baticueva haciendose pajas sin hacer nada espiando a las vecinas con microcámaras Es que ya me toca los huevos, que se dedique a coger a los malos y en cambio no sea capaz de hacer que le embarguen la casa a su tia May. Anda y que te den por culo, mediocre. Haz como octopus, roba por ahí algo y dejanos en paz, llorona, que no paras de dar el coñazo toda la peli con esa cara de mico que tienes, hijoputa. Resulta revelador lo de que no le salga la tela de araña, eso en mi pueblo se llama gatillazo, y es que es normal, es un friki de puta madre, un lerdo. Solo es alguien cuando se pone la mascara de Spiderman. Es como mucha gente en la vida real, que no es nadie sino se pone una \"careta\" Lo unico destacable de la peli es la accion, que esta de puta madre, y cuando Spider va y viene por los edificios volando. Y los golpes de humor, hay varios, sobre todo protagonizados por el Editor del periodico, un personaje que representa perfectamente al tipico cabronazo agarrao que no da nada por nada. Brillante El buen observador vera que la peli alterna accion-relacion. La accion cojonuda, venga paqui palla, en cambio cuando mete la absurda y anodina relacion entre la pastora y el mico, la peli cae hasta limites insospechados. Dan vergüenza ajena los dos, como pueden ser tan gilipollas? Es que no saben el significado de la palabra mamada o pajon castellano? No, en esas pelis no meten sexo ni por asomo, son todos unos moñas y dan por culo todo el rato, pero claro, los tios quieren llegar a todos los publicos, y ellos entienden que los niños no tienen sexualidad, cuando en los años 80, cuando muchos de nosotros ibamos al cine o veiamos la tele, veiamos cosas mas jevys, o que coño, hoy mismo, que cualquiera ponga la tele a las 6 de la tarde y vera un monton de ponzoña increible, seres anonimos hablando de cómo follan con este o el otro. No voy a hablar mas de esta peli, perdon, de este desproposito. Me jode haber pagado por semejante mierdon, la proxima vez me bajare la peli de internet y paga supu. Que le den a Spiderman, aquel idolo de mi juventud de los comics, va a ver Spiderman 3 su prima la de Atapuerca..</td>\n",
       "      <td>653</td>\n",
       "      <td>1799</td>\n",
       "      <td>259</td>\n",
       "      <td>dolor cine miedo cola larga tocar tercero guión gilipollesco correr cine caer picado tele mundo editorial gualtrapa salir tele escribir libro persona coger director dar él ostia cuento meter tanto filosofia cura boca tanto personaje peli querer dejar vivir cine persona zurra malo enmierdar yo vida privado problema psicologico suda novia persona lerda cara pastora monte usurbil follar pretenciós salvar vida montar pollo poder mierda obra teatro tipo personaje menuda subnor viejo petarda consejillo plan persona vetar consejo puta madre viejo chocha pon tele dejamar paz pesado persona tontolava superheroe puto duro aprendar persona forrao baticueva hacer él paja espiar vecina microcámara tocar huevo dedicar coger malo cambio capaz embargar casa persona anda dar culo mediocre haz octopu robar deja yo paz llorona parar coñazo peli cara mico tener hijoputa resultar revelador salir tela araña pueblo llamar gatillazo normal friki puta madre lerdo alguien poner mascara persona gente vida real poner careta unico destacable peli accion puta madre persona venir edificio volar golpe humor protagonizado editor periodico personaje representar perfectamente tipico cabronazo agarrao brillante observador vera peli alterno accion-relacion accion cojonuda venir paqui pallo cambio meter absurdo anodinar relacion pastora mico peli caer limit insospechado vergüenzo ajenar gilipol él significado palabra mamado pajon castellano peli meter sexo asomo moña culo rato tio querer llegar publico entender niño sexualidad año ibar cine veiamos tele veiar jevys coño cualquiera poner tele vero monton ponzoña increible ser anonimos hablar follar hablar peli perdon desproposito jodar pagar semejante mierdon proxima bajarar peli internet pagar supu dar persona idolo juventud comic spiderman prima atapuerca</td>\n",
       "      <td>2</td>\n",
       "      <td>MALA</td>\n",
       "    </tr>\n",
       "  </tbody>\n",
       "</table>\n",
       "</div>"
      ],
      "text/plain": [
       "                    Titulo  Long_Resumen  ... Puntuacion  Valoracion\n",
       "0  La guerra de los mundos            32  ...          1        MALA\n",
       "1              Spiderman 2            45  ...          2        MALA\n",
       "\n",
       "[2 rows x 11 columns]"
      ]
     },
     "execution_count": 19,
     "metadata": {
      "tags": []
     },
     "output_type": "execute_result"
    }
   ],
   "source": [
    "resumen.head(2)"
   ]
  },
  {
   "cell_type": "markdown",
   "metadata": {
    "id": "Nzw_YTA19X8e"
   },
   "source": [
    "### **Análisis exploratorio de los datos (EDA)**\n",
    "Estudiamos primero los datos para comprobar su adecuación.  \n"
   ]
  },
  {
   "cell_type": "markdown",
   "metadata": {
    "id": "3tRrJLZNB7Sq"
   },
   "source": [
    "Primero vemos si las clases están balanceadas: Las clases estan balanceadas."
   ]
  },
  {
   "cell_type": "code",
   "execution_count": 191,
   "metadata": {
    "colab": {
     "base_uri": "https://localhost:8080/"
    },
    "id": "_Tf90Rw59X8k",
    "outputId": "18c20735-6737-4f3b-9df3-be07bc93dd2e"
   },
   "outputs": [
    {
     "data": {
      "text/plain": [
       "BUENA      956\n",
       "MALA       879\n",
       "REGULAR    879\n",
       "Name: Valoracion, dtype: int64"
      ]
     },
     "execution_count": 191,
     "metadata": {
      "tags": []
     },
     "output_type": "execute_result"
    }
   ],
   "source": [
    "# Vemos distribucion de clases\n",
    "resumen['Valoracion'].value_counts()"
   ]
  },
  {
   "cell_type": "code",
   "execution_count": 21,
   "metadata": {
    "colab": {
     "base_uri": "https://localhost:8080/"
    },
    "id": "qMFM6VZc_6VC",
    "outputId": "afac81b5-1c1b-48ba-9c70-1fd83d971d69"
   },
   "outputs": [
    {
     "data": {
      "text/plain": [
       "{'BUENA': 0.3522476050110538,\n",
       " 'MALA': 0.3238761974944731,\n",
       " 'REGULAR': 0.3238761974944731}"
      ]
     },
     "execution_count": 21,
     "metadata": {
      "tags": []
     },
     "output_type": "execute_result"
    }
   ],
   "source": [
    "# Pesos de cada clase\n",
    "class_weights = dict(sorted((resumen['Valoracion'].value_counts(normalize=True)).items()))\n",
    "class_weights"
   ]
  },
  {
   "cell_type": "markdown",
   "metadata": {
    "id": "O4-vf9OeHaB6"
   },
   "source": [
    "\n",
    "\n",
    "Representamos longitudes de criticas normalizadas como diagrama de cajas:"
   ]
  },
  {
   "cell_type": "code",
   "execution_count": 22,
   "metadata": {
    "colab": {
     "base_uri": "https://localhost:8080/",
     "height": 316
    },
    "id": "4PG_cvbBHaB8",
    "outputId": "fedf8592-0eee-4737-f5e6-4ed9754002b2"
   },
   "outputs": [
    {
     "data": {
      "image/png": "[encoded data removed]",
      "text/plain": [
       "<Figure size 360x360 with 1 Axes>"
      ]
     },
     "metadata": {
      "image/png": {
       "height": 299,
       "width": 363
      },
      "needs_background": "light",
      "tags": []
     },
     "output_type": "display_data"
    }
   ],
   "source": [
    "# Boxplot de 'Long_Critica_Normalizada'\n",
    "plt.style.use('fivethirtyeight')\n",
    " \n",
    "%matplotlib inline\n",
    "%config InlineBackend.figure_format = 'retina'\n",
    " \n",
    "fig, ax = plt.subplots(figsize=(5, 5))\n",
    "plt.boxplot(resumen['Long_Critica_Normalizada'])\n",
    "plt.show()"
   ]
  },
  {
   "cell_type": "code",
   "execution_count": 23,
   "metadata": {
    "colab": {
     "base_uri": "https://localhost:8080/",
     "height": 316
    },
    "id": "sTrC0J1jCtdQ",
    "outputId": "7d361490-bc96-4291-812e-5d549d0e9f96"
   },
   "outputs": [
    {
     "data": {
      "image/png": "[encoded data removed]",
      "text/plain": [
       "<Figure size 360x360 with 1 Axes>"
      ]
     },
     "metadata": {
      "image/png": {
       "height": 299,
       "width": 356
      },
      "needs_background": "light",
      "tags": []
     },
     "output_type": "display_data"
    }
   ],
   "source": [
    "# Boxplot de 'Palabras_Critica_Normalizada'\n",
    "plt.style.use('fivethirtyeight')\n",
    "\n",
    "%matplotlib inline\n",
    "%config InlineBackend.figure_format = 'retina'\n",
    "\n",
    "fig, ax = plt.subplots(figsize=(5, 5))\n",
    "plt.boxplot(resumen['Palabras_Critica_Normalizada'])\n",
    "plt.show()"
   ]
  },
  {
   "cell_type": "markdown",
   "metadata": {
    "id": "B5kypqEsqKLZ"
   },
   "source": [
    "Vemos que hay algunos outliers: Criticas muy extensas... pero al ser texto que aporta información nos quedamos con todas ellas."
   ]
  },
  {
   "cell_type": "markdown",
   "metadata": {
    "id": "indian-whale"
   },
   "source": [
    "## **Extracción de características *sparse* con `scikit-learn`**\n",
    "Vamos a calculas las matrices de características *Bag-of-Words* y *Tf-Idf* del conjunto de textos anterior.\\\n",
    "Vamos a usar la librería `scikit-learn` para vectorizar los documentos.\n",
    "\n",
    "Concretamente, se generarán estas matrices de características para el conjunto de las críticas. \n",
    "- Matriz BoW simple (**Se ha probado también a generarlo con bigramas y con bigramas y trigramas pero no han dado mejor resultado**).\n",
    "- Matriz TF-IDF (**Se han probado configuracion por defecto [mínimo de 1 y máximo de 1 documentos] y eliminando las palabras menos frecuentes y las más frecuentes [mínimo de 2 y máximo de 5 documentos] funcionando mejor la configuración por defecto**)\n",
    "  - Cuáles son las palabras más frecuentes eliminadas."
   ]
  },
  {
   "cell_type": "markdown",
   "metadata": {
    "id": "lDegyU8vI6Vq"
   },
   "source": [
    "Se podría usar el DataFrame ya generado (columna `Critica_Normalizada`) directamente para la generacion de los conjuntos BoW y TF-IDF, lo que implicaría usar el dataset cargado en memoria, pero como se ha querido usar el **enfoque *streaming* con generadores, vamos a hacer lo mismo para la generacion de los mismos**. Dejaremos este DataFrame para el analisis EDA previo y la generación del CSV de back-up.\n",
    "\n",
    "Como hemos detectado que hay una critica vacia la pasaremos con next en nuestro generador si la l\n",
    "\n",
    "Para seguir con el ejercicio, utilizamos la funcion `generaCritica` vista en clase **con la modificación de incluir el criterio de imputación de criticas vacías o incompletas**."
   ]
  },
  {
   "cell_type": "code",
   "execution_count": 192,
   "metadata": {
    "id": "express-explorer"
   },
   "outputs": [],
   "source": [
    "# Como queremos seguir el enfoque Streaming \n",
    "# Tuplas de parse_folder: (titulo, rtxt (resumen de la critica), btxt (critica), rank (1-5))\n",
    "def generaCritica(criticas):\n",
    "    \"\"\"Función de tipo generator que devuelve el\n",
    "    texto normalizado de cada crítica.\n",
    "    Entrada:\n",
    "    criticas: objeto 'parse_folder' que itera\n",
    "    sobre el directio de las críticas\n",
    "    Salida:\n",
    "    texto normalizado de cada crítica\"\"\"\n",
    "    for c in criticas:\n",
    "        # \n",
    "        # Usamos mejor el criterio de usar el resumen si este es mayor que la crítica,\n",
    "        if len(c[1]) > len(c[2]):\n",
    "          yield normaliza(c[1], lemas=True)\n",
    "        # Y para los casos en los que ambas esten vacías se eliminarían\n",
    "        elif len(c[2]) == 0:\n",
    "          continue   # Saltamos la(s) vacía(s)\n",
    "        else:\n",
    "          yield normaliza(c[2], lemas=True)"
   ]
  },
  {
   "cell_type": "markdown",
   "metadata": {
    "id": "pleased-number"
   },
   "source": [
    "### **Generación de la matriz de características BoW**\n",
    "Se generará la matriz BoW con unigramas, bigramas y trigramas.\n",
    "\n",
    "\n",
    "\n"
   ]
  },
  {
   "cell_type": "code",
   "execution_count": 25,
   "metadata": {
    "colab": {
     "base_uri": "https://localhost:8080/"
    },
    "id": "limited-bloom",
    "outputId": "e3b4b2f4-2da9-46ea-a53e-2065f1f682e9"
   },
   "outputs": [
    {
     "data": {
      "text/plain": [
       "<2714x38035 sparse matrix of type '<class 'numpy.int64'>'\n",
       "\twith 414040 stored elements in Compressed Sparse Row format>"
      ]
     },
     "execution_count": 25,
     "metadata": {
      "tags": []
     },
     "output_type": "execute_result"
    }
   ],
   "source": [
    "# CountVectorizer acepta como entrada cualquier objeto iterable que devuelva x cada iteracion un str\n",
    "#vect_BoW = CountVectorizer(ngram_range=(1,2))#Con Exactitud:  0.45\n",
    "#vect_BoW = CountVectorizer(ngram_range=(1,3))#Con Exactitud:  0.43\n",
    "vect_BoW = CountVectorizer()                  #Con Exactitud:  0.59\n",
    "\n",
    "criticas = generaCritica(parse_folder(path))\n",
    "# fit_transform aprende y transforma el vocabulario\n",
    "BoW_criticas = vect_BoW.fit_transform(criticas) \n",
    "\n",
    "# num_criticas * long_vocab\n",
    "BoW_criticas"
   ]
  },
  {
   "cell_type": "markdown",
   "metadata": {
    "id": "MA9rky4aP7gC"
   },
   "source": [
    "### **Generación de la matriz de características Tf-Idf**\n",
    "Matriz TF-IDF eliminando las palabras menos frecuentes y las más frecuentes (mínimo de 2 y máximo de 5 documentos) y (mínimo de 1 y máximo de 1 documentos, por defecto).\n",
    "\n",
    "\n"
   ]
  },
  {
   "cell_type": "code",
   "execution_count": 26,
   "metadata": {
    "colab": {
     "base_uri": "https://localhost:8080/"
    },
    "id": "pending-samba",
    "outputId": "202152f9-20a1-4213-d0d0-3d95ae5b7208"
   },
   "outputs": [
    {
     "data": {
      "text/plain": [
       "<2714x38035 sparse matrix of type '<class 'numpy.float64'>'\n",
       "\twith 414040 stored elements in Compressed Sparse Row format>"
      ]
     },
     "execution_count": 26,
     "metadata": {
      "tags": []
     },
     "output_type": "execute_result"
    }
   ],
   "source": [
    "# Matriz TF-IDF eliminando las palabras menos frecuentes y las más frecuentes (mínimo de 2 y máximo de 5 documentos)\n",
    "# En este caso la dimension se reduce porque no consideran palabras segun num de ocurrencias\n",
    "#vect_TfIdf = TfidfVectorizer(min_df=2, max_df=5) #Con Exactitud:  0.41\n",
    "\n",
    "# Matriz TF-IDF, valores por defecto (min_df=1, max_df=1.0)\n",
    "vect_TfIdf = TfidfVectorizer() #Con Exactitud:  0.48\n",
    "\n",
    "criticas = generaCritica(parse_folder(path))\n",
    "# fit_transform aprende y transforma el vocab\n",
    "TfIdf_criticas = vect_TfIdf.fit_transform(criticas) \n",
    "\n",
    "TfIdf_criticas"
   ]
  },
  {
   "cell_type": "markdown",
   "metadata": {
    "id": "fXAIT9awjF8p"
   },
   "source": [
    "### **Generación del conjunto de test**"
   ]
  },
  {
   "cell_type": "code",
   "execution_count": 193,
   "metadata": {
    "id": "NEXs-yw8jwx6"
   },
   "outputs": [],
   "source": [
    "# Test folder\n",
    "test_path = '/content/criticas/test'"
   ]
  },
  {
   "cell_type": "code",
   "execution_count": 28,
   "metadata": {
    "id": "ovNaS-Gfjwx_"
   },
   "outputs": [],
   "source": [
    "# Creamos una lista en blanco\n",
    "datos_test = []\n",
    "\n",
    "# Recorremos las críticas y generamos el dataset de test\n",
    "# Tuplas de parse_folder: (titulo, rtxt (resumen de la critica), btxt (critica), rank (1-5))\n",
    "for c in parse_folder(test_path):\n",
    "  cNorm = normaliza(c[2], lemas=True)\n",
    "\n",
    "  datos_test.append({\n",
    "      'Titulo': c[0],\n",
    "      'Critica': c[2],\n",
    "      'Long_Critica_Normalizada': len(cNorm),\n",
    "      'Critica_Normalizada': cNorm,\n",
    "      'Valoracion': c[4]\n",
    "  })\n",
    "\n",
    "resumen_test = pd.DataFrame(datos_test)"
   ]
  },
  {
   "cell_type": "code",
   "execution_count": 194,
   "metadata": {
    "colab": {
     "base_uri": "https://localhost:8080/",
     "height": 49
    },
    "id": "mXVQwj-m9JWC",
    "outputId": "afb6713c-bbb2-4547-f88f-9eb8313b7d37"
   },
   "outputs": [
    {
     "data": {
      "text/html": [
       "<div>\n",
       "<style scoped>\n",
       "    .dataframe tbody tr th:only-of-type {\n",
       "        vertical-align: middle;\n",
       "    }\n",
       "\n",
       "    .dataframe tbody tr th {\n",
       "        vertical-align: top;\n",
       "    }\n",
       "\n",
       "    .dataframe thead th {\n",
       "        text-align: right;\n",
       "    }\n",
       "</style>\n",
       "<table border=\"1\" class=\"dataframe\">\n",
       "  <thead>\n",
       "    <tr style=\"text-align: right;\">\n",
       "      <th></th>\n",
       "      <th>Titulo</th>\n",
       "      <th>Critica</th>\n",
       "      <th>Long_Critica_Normalizada</th>\n",
       "      <th>Critica_Normalizada</th>\n",
       "      <th>Valoracion</th>\n",
       "    </tr>\n",
       "  </thead>\n",
       "  <tbody>\n",
       "  </tbody>\n",
       "</table>\n",
       "</div>"
      ],
      "text/plain": [
       "Empty DataFrame\n",
       "Columns: [Titulo, Critica, Long_Critica_Normalizada, Critica_Normalizada, Valoracion]\n",
       "Index: []"
      ]
     },
     "execution_count": 194,
     "metadata": {
      "tags": []
     },
     "output_type": "execute_result"
    }
   ],
   "source": [
    "# Comprobamos si hay alguna critica vacia tras normalizar\n",
    "resumen_test.loc[resumen_test['Long_Critica_Normalizada'] == 0]"
   ]
  },
  {
   "cell_type": "code",
   "execution_count": 196,
   "metadata": {
    "colab": {
     "base_uri": "https://localhost:8080/",
     "height": 497
    },
    "id": "kt7Dfhx-9Zg4",
    "outputId": "26f9130d-3e76-42fd-a8c1-334e4c6aa1c0"
   },
   "outputs": [
    {
     "data": {
      "text/html": [
       "<div>\n",
       "<style scoped>\n",
       "    .dataframe tbody tr th:only-of-type {\n",
       "        vertical-align: middle;\n",
       "    }\n",
       "\n",
       "    .dataframe tbody tr th {\n",
       "        vertical-align: top;\n",
       "    }\n",
       "\n",
       "    .dataframe thead th {\n",
       "        text-align: right;\n",
       "    }\n",
       "</style>\n",
       "<table border=\"1\" class=\"dataframe\">\n",
       "  <thead>\n",
       "    <tr style=\"text-align: right;\">\n",
       "      <th></th>\n",
       "      <th>Titulo</th>\n",
       "      <th>Critica</th>\n",
       "      <th>Long_Critica_Normalizada</th>\n",
       "      <th>Critica_Normalizada</th>\n",
       "      <th>Valoracion</th>\n",
       "    </tr>\n",
       "  </thead>\n",
       "  <tbody>\n",
       "    <tr>\n",
       "      <th>785</th>\n",
       "      <td>El ilusionista</td>\n",
       "      <td>Cinta cuyos únicos puntos positivos son Paul Giamatti (grande como siempre, el resto como si pasasen por ahí.) y el aspecto técnico, a la altura de las circunstancias.La dirección falla estrepitosamente hasta tal punto que la historia queda borrosamente esbozada en pantalla; uno no logra saber qué es lo que intentan contarnos hasta bien entrada la hora y cuarto de duración. Y su guión, tramposo hasta más no poder, no ayuda en absoluto.Bastante decepcionante, aunque se deja ver y, al menos, dentro de lo que cabe, es entretenidilla y las secuencias \"mágicas\" son bastante atractivas para la vista.</td>\n",
       "      <td>331</td>\n",
       "      <td>cinta cuyo único punto positivo persona grande resto pasar aspecto técnico altura circunstancia dirección fallo estrepitosamente punto historia quedar borrosamente esbozado pantalla lograr contarno entrado hora cuarto duración guión tramposo ayudar absoluto decepcionante dejar caber entretenidilla secuencia mágico atractivo vista</td>\n",
       "      <td>MALA</td>\n",
       "    </tr>\n",
       "  </tbody>\n",
       "</table>\n",
       "</div>"
      ],
      "text/plain": [
       "             Titulo  ... Valoracion\n",
       "785  El ilusionista  ...       MALA\n",
       "\n",
       "[1 rows x 5 columns]"
      ]
     },
     "execution_count": 196,
     "metadata": {
      "tags": []
     },
     "output_type": "execute_result"
    }
   ],
   "source": [
    "# Vemos si tienen sentido las longitudes mínimas: parece que si\n",
    "resumen_test.sort_values('Long_Critica_Normalizada').head(1)"
   ]
  },
  {
   "cell_type": "code",
   "execution_count": 198,
   "metadata": {
    "id": "xG2s01DulZ3U"
   },
   "outputs": [],
   "source": [
    "X_test = resumen_test['Critica_Normalizada']\n",
    "y_test = resumen_test['Valoracion']"
   ]
  },
  {
   "cell_type": "code",
   "execution_count": 197,
   "metadata": {
    "colab": {
     "base_uri": "https://localhost:8080/"
    },
    "id": "LdsaXyP49JWD",
    "outputId": "c2b86227-73c1-4b1e-d9bb-8e3bee98d00d"
   },
   "outputs": [
    {
     "data": {
      "text/plain": [
       "1164"
      ]
     },
     "execution_count": 197,
     "metadata": {
      "tags": []
     },
     "output_type": "execute_result"
    }
   ],
   "source": [
    "# Numero de ejemplos de test correcto\n",
    "len(resumen_test)"
   ]
  },
  {
   "cell_type": "markdown",
   "metadata": {
    "id": "l-h_MskOcvgs"
   },
   "source": [
    "### **Generación de modelos** \n",
    "Funciones auxiliares para validación:"
   ]
  },
  {
   "cell_type": "code",
   "execution_count": 199,
   "metadata": {
    "id": "BkwxtCc99xMT"
   },
   "outputs": [],
   "source": [
    "# Funcion para plotear las curvas ROC y mostrar el AUC para cada clase\n",
    "def plot_auc(y_test, y_pred_proba, label_list, title):\n",
    "  '''\n",
    "    y_test: etiquetas reales\n",
    "    y_pred_proba: predicciones\n",
    "  '''\n",
    "  colors = [\"green\", \"red\", \"orange\"]\n",
    "  classes = {v: k for v, k in enumerate(label_list)}\n",
    "\n",
    "  fig, ax1 = plt.subplots(1,figsize=(10, 5))\n",
    "   \n",
    "  for c in classes:\n",
    "    clase_positiva = c\n",
    "    label = classes[clase_positiva]\n",
    "    fpr, tpr, thresholds = roc_curve(y_test, y_pred_proba[:,labels.index(label)], pos_label=label)\n",
    "    ax1.plot(fpr, tpr, 'r-.', label = classes[c]+'(%2.2f)' % auc(fpr, tpr), color=colors[c])\n",
    "\n",
    "  ax1.set_xlabel('False Positive Rate')\n",
    "  ax1.set_ylabel('True Positive Rate')\n",
    "  ax1.plot(fpr, fpr, 'b-', label = 'Random Guess')\n",
    "  ax1.set_title(title)\n",
    "  ax1.legend();"
   ]
  },
  {
   "cell_type": "code",
   "execution_count": 34,
   "metadata": {
    "id": "cJH3bG__OGR2"
   },
   "outputs": [],
   "source": [
    "#definimos una función para entrenar y validar cada clasificador\n",
    "def train_predict_evaluate_model(classifier, \n",
    "                                 train_features, train_labels, \n",
    "                                 test_features, test_labels):\n",
    "    # build model    \n",
    "    classifier.fit(train_features, train_labels)\n",
    "    # predict using model\n",
    "    predictions = classifier.predict(test_features) \n",
    "    # evaluate model prediction performance   \n",
    "    print(classification_report(test_labels, predictions))\n",
    "    return predictions \n",
    "\n",
    "# creamos los modelos para\n",
    "modelos = [('Logistic Regression', LogisticRegression(solver='liblinear')),\n",
    "               ('Naïve Bayes', MultinomialNB()),\n",
    "               ('Linear SVM', SGDClassifier(loss='hinge', max_iter=10000, tol=1e-5)),\n",
    "               ('RBF SVM', SVC(gamma='scale', C=2))]"
   ]
  },
  {
   "cell_type": "markdown",
   "metadata": {
    "id": "q0q99bFHeQH_"
   },
   "source": [
    "#### **Modelos con una matriz sparse (BoW o TF-IDF) + clasificador**\n",
    "Se probarán dos modelos cada uno de ellos con un tipo de matriz sparse diferente.\n",
    "- Bow (unigramas) + NaiveBayes (Se han probado: solo unigramas, unigramas y bigramas y unigramas, bigramas y trigramas).\n",
    "- TF-IDF + NaiveBayes (Se han probado vectorizaciones sin especificar límites de ocurrencias, y eliminando las palabras menos frecuentes y las más frecuentes [mínimo de 2 y máximo de 5 documentos], funcionando mejor a llamar al vectorizador sin argumentos [mínimo de 1 y máximo de 1 documentos]).\n"
   ]
  },
  {
   "cell_type": "markdown",
   "metadata": {
    "id": "SOZToE77CCFJ"
   },
   "source": [
    "##### **Seleccion de clasificador para Bow**\n",
    "\n",
    "Para ver el rendimiento del modelo usamos el conjunto de test. Primero transformamos el conjunto de test a su matriz BoW mediante el vectorizador aprendido en TRAIN y aplicamos el modelo entrenado:"
   ]
  },
  {
   "cell_type": "code",
   "execution_count": 35,
   "metadata": {
    "colab": {
     "base_uri": "https://localhost:8080/"
    },
    "id": "vi8ldtrzfwTA",
    "outputId": "c0ec3e70-5ffe-414d-bdfb-f45c782b28d4"
   },
   "outputs": [
    {
     "data": {
      "text/plain": [
       "<2714x38035 sparse matrix of type '<class 'numpy.int64'>'\n",
       "\twith 414040 stored elements in Compressed Sparse Row format>"
      ]
     },
     "execution_count": 35,
     "metadata": {
      "tags": []
     },
     "output_type": "execute_result"
    }
   ],
   "source": [
    "# Se usaran como entradas\n",
    "X_train_vectorized_BoW = BoW_criticas\n",
    "X_train_vectorized_BoW"
   ]
  },
  {
   "cell_type": "markdown",
   "metadata": {
    "id": "kjW_jee7HaCM"
   },
   "source": [
    "Verificación del modelo:\n",
    "\n"
   ]
  },
  {
   "cell_type": "code",
   "execution_count": 36,
   "metadata": {
    "colab": {
     "base_uri": "https://localhost:8080/"
    },
    "id": "vGpTfmSFHaCM",
    "outputId": "6dc4b504-7b16-42eb-84c3-c204a531035d"
   },
   "outputs": [
    {
     "data": {
      "text/plain": [
       "<1164x38035 sparse matrix of type '<class 'numpy.int64'>'\n",
       "\twith 176002 stored elements in Compressed Sparse Row format>"
      ]
     },
     "execution_count": 36,
     "metadata": {
      "tags": []
     },
     "output_type": "execute_result"
    }
   ],
   "source": [
    "# Predecimos sobre el conjunto de test\n",
    "# vectorizamos  para generar la BoW en el clasificador\n",
    "X_test_vectorized_BoW = vect_BoW.transform(X_test)\n",
    "X_test_vectorized_BoW"
   ]
  },
  {
   "cell_type": "code",
   "execution_count": 200,
   "metadata": {
    "id": "-kkUuyuUVbBG"
   },
   "outputs": [],
   "source": [
    "y_train = resumen['Valoracion']"
   ]
  },
  {
   "cell_type": "code",
   "execution_count": 38,
   "metadata": {
    "colab": {
     "base_uri": "https://localhost:8080/"
    },
    "id": "GcEOoc6rO3m8",
    "outputId": "6e4bae4d-c355-4c32-c0f6-f62555fd08c4"
   },
   "outputs": [
    {
     "name": "stdout",
     "output_type": "stream",
     "text": [
      "Modelo Logistic Regression con características BoW\n",
      "              precision    recall  f1-score   support\n",
      "\n",
      "       BUENA       0.63      0.64      0.63       395\n",
      "        MALA       0.66      0.66      0.66       395\n",
      "     REGULAR       0.47      0.46      0.46       374\n",
      "\n",
      "    accuracy                           0.59      1164\n",
      "   macro avg       0.58      0.58      0.58      1164\n",
      "weighted avg       0.59      0.59      0.59      1164\n",
      "\n",
      "Modelo Naïve Bayes con características BoW\n",
      "              precision    recall  f1-score   support\n",
      "\n",
      "       BUENA       0.55      0.79      0.65       395\n",
      "        MALA       0.73      0.58      0.65       395\n",
      "     REGULAR       0.51      0.39      0.44       374\n",
      "\n",
      "    accuracy                           0.59      1164\n",
      "   macro avg       0.60      0.58      0.58      1164\n",
      "weighted avg       0.60      0.59      0.58      1164\n",
      "\n",
      "Modelo Linear SVM con características BoW\n",
      "              precision    recall  f1-score   support\n",
      "\n",
      "       BUENA       0.59      0.67      0.62       395\n",
      "        MALA       0.70      0.62      0.66       395\n",
      "     REGULAR       0.46      0.45      0.45       374\n",
      "\n",
      "    accuracy                           0.58      1164\n",
      "   macro avg       0.58      0.58      0.58      1164\n",
      "weighted avg       0.58      0.58      0.58      1164\n",
      "\n",
      "Modelo RBF SVM con características BoW\n",
      "              precision    recall  f1-score   support\n",
      "\n",
      "       BUENA       0.59      0.65      0.62       395\n",
      "        MALA       0.65      0.63      0.64       395\n",
      "     REGULAR       0.48      0.45      0.46       374\n",
      "\n",
      "    accuracy                           0.58      1164\n",
      "   macro avg       0.57      0.57      0.57      1164\n",
      "weighted avg       0.58      0.58      0.58      1164\n",
      "\n"
     ]
    }
   ],
   "source": [
    "#entrenamos clasificadores con modelos BoW\n",
    "for m, clf in modelos:\n",
    "    print('Modelo {} con características BoW'.format(m))\n",
    "    BoW_predictions = train_predict_evaluate_model(classifier=clf,\n",
    "                                           train_features=X_train_vectorized_BoW,\n",
    "                                           train_labels=y_train,\n",
    "                                           test_features=X_test_vectorized_BoW,\n",
    "                                           test_labels=y_test)"
   ]
  },
  {
   "cell_type": "markdown",
   "metadata": {
    "id": "B4ytTB5-97E5"
   },
   "source": [
    "Seleccionamos Naïve Bayes"
   ]
  },
  {
   "cell_type": "markdown",
   "metadata": {
    "id": "ur6_5d-2eQj0"
   },
   "source": [
    "##### **Bow + NaiveBayes**\n",
    "Se han probado 3 vectorizaciones BoW: solo unigramas, unigramas y bigramas y unigramas, bigramas y trigramas. \n",
    "**El que mejor ha resultado es el que usa solo unigramas.**\n"
   ]
  },
  {
   "cell_type": "markdown",
   "metadata": {
    "id": "2rA7u2NqmLjE"
   },
   "source": [
    "Entrenamiento del modelo:"
   ]
  },
  {
   "cell_type": "code",
   "execution_count": 39,
   "metadata": {
    "id": "hBGA5ieNeaMB"
   },
   "outputs": [],
   "source": [
    "#Entrenamos el modelo con el conjunto de train\n",
    "from sklearn.model_selection import GridSearchCV\n",
    "\n",
    "modelNB_BoW = MultinomialNB()\n",
    "param_grid = {'alpha': [1.0, 0.1, 0.01, 0.001, 0.0001, 0.00001, 0],\n",
    "              'class_prior': [None, class_weights],\n",
    "              'fit_prior': [True, False]}\n",
    "\n",
    "#Entrenamos el modelo con el conjunto de train por GridSearch y nos quedamos con el mejor\n",
    "modelNB_BoW = MultinomialNB()\n",
    "cv = GridSearchCV(modelNB_BoW, param_grid, scoring=\"accuracy\", cv=5, n_jobs=-1)\n",
    "\n",
    "cv.fit(X_train_vectorized_BoW, y_train)\n",
    "cv.cv_results_\n",
    "modelNB_BoW = cv.best_estimator_"
   ]
  },
  {
   "cell_type": "code",
   "execution_count": 40,
   "metadata": {
    "colab": {
     "base_uri": "https://localhost:8080/"
    },
    "id": "MUMPN5m3_ixp",
    "outputId": "94d7e6a8-ba28-45c7-a8db-6d16cfabfdcf"
   },
   "outputs": [
    {
     "data": {
      "text/plain": [
       "MultinomialNB(alpha=1.0, class_prior=None, fit_prior=False)"
      ]
     },
     "execution_count": 40,
     "metadata": {
      "tags": []
     },
     "output_type": "execute_result"
    }
   ],
   "source": [
    "modelNB_BoW"
   ]
  },
  {
   "cell_type": "code",
   "execution_count": 41,
   "metadata": {
    "colab": {
     "base_uri": "https://localhost:8080/"
    },
    "id": "74_fbmoTHaCN",
    "outputId": "00f7bca5-8b21-4d38-91c5-aaa5d7ab6168"
   },
   "outputs": [
    {
     "data": {
      "text/plain": [
       "array(['MALA', 'MALA', 'MALA', 'MALA', 'REGULAR'], dtype='<U7')"
      ]
     },
     "execution_count": 41,
     "metadata": {
      "tags": []
     },
     "output_type": "execute_result"
    }
   ],
   "source": [
    "prediccion = modelNB_BoW.predict(X_test_vectorized_BoW)\n",
    "\n",
    "#5 primeras preds\n",
    "prediccion[:5]"
   ]
  },
  {
   "cell_type": "code",
   "execution_count": 42,
   "metadata": {
    "colab": {
     "base_uri": "https://localhost:8080/"
    },
    "id": "WvhAArEYHaCN",
    "outputId": "72839cf0-0c3e-4611-8188-75d81f1d5379"
   },
   "outputs": [
    {
     "data": {
      "text/plain": [
       "(1164,)"
      ]
     },
     "execution_count": 42,
     "metadata": {
      "tags": []
     },
     "output_type": "execute_result"
    }
   ],
   "source": [
    "# Comprobamos numero predicciones\n",
    "prediccion.shape"
   ]
  },
  {
   "cell_type": "markdown",
   "metadata": {
    "id": "-pgji7V8HaCN"
   },
   "source": [
    "Vemos el resultado de la predicción y calculamos su precisión con distintas métricas.  \n",
    "Ejemplo de predicción de algunas muestras:"
   ]
  },
  {
   "cell_type": "code",
   "execution_count": 43,
   "metadata": {
    "colab": {
     "base_uri": "https://localhost:8080/",
     "height": 1000
    },
    "id": "dK49NTthHaCN",
    "outputId": "55df1e97-1e89-4698-c41d-150ea1365e13"
   },
   "outputs": [
    {
     "data": {
      "text/html": [
       "<div>\n",
       "<style scoped>\n",
       "    .dataframe tbody tr th:only-of-type {\n",
       "        vertical-align: middle;\n",
       "    }\n",
       "\n",
       "    .dataframe tbody tr th {\n",
       "        vertical-align: top;\n",
       "    }\n",
       "\n",
       "    .dataframe thead th {\n",
       "        text-align: right;\n",
       "    }\n",
       "</style>\n",
       "<table border=\"1\" class=\"dataframe\">\n",
       "  <thead>\n",
       "    <tr style=\"text-align: right;\">\n",
       "      <th></th>\n",
       "      <th>Texto</th>\n",
       "      <th>Valoracion</th>\n",
       "      <th>Predicción</th>\n",
       "    </tr>\n",
       "  </thead>\n",
       "  <tbody>\n",
       "    <tr>\n",
       "      <th>883</th>\n",
       "      <td>gracia querejeta directora tomado medida conocimiento obra ldquo;cuar vuelva ladordquo año recordar gustar ver ldquo;el viaje persona ldquo;héctorrdquo pese pinta priori acudí cine ldquo;siete mesa billar francésrdquo ir encontrar llevado vibración película encontrar finalmente película deber marcar referencia camino posible transitar cine español decir evidente público demandar cine género español amplio presupuesto propuesta gracia querejeta cabida cartelera necesario ldquo;siete mesa billar francésrdquo guión obra directora persona capaz crear personaje carne hueso sentir puñado estupendo actor capaz dar él vida película falta director solvente proyecto éxito taquilla siglo xxi falta cosa campaña marketing fallar seguramente falta presupuesto holgado decir guión construcción personaje rabia error acabar comprender resolución historia tuerto persona consecuente visto resto film improvisado sensación reducir duración fim alargar historia persona impecable persona pese previsibilidad resolución pequeño pega guión ejemplar actuación pegar blanca persona ganar premio festival cine san sebastián interpretación femenino haber él ganar persona haber injusticia increíble lucha persona realmente durar año resto secundario igualmente soberbio película niño víctor valdivia promesa cine español actúar destacar alguien tomar él desprecio gustar mencionar persona año robar escena compañero reparto mérito atribuir él directora planificar escena aprovechar máximo talento actor calmado transparente puesto escena demostración confianza actor regalo espectador añadir presupuesto cine españa valoración moonfleet</td>\n",
       "      <td>BUENA</td>\n",
       "      <td>REGULAR</td>\n",
       "    </tr>\n",
       "    <tr>\n",
       "      <th>154</th>\n",
       "      <td>monster house suscribir línea cinta animación estrenado llevar año exagerar calificar pionera asunción patrón estético temático género terror empleado animación monster house cinta apto público venir clase rodado cine terror tratar dejar binomio aventuras-humor habitual animación año monster house guiño continuo referente cinematográfico género miedo casa encantado miedo vecino misterioso sospechoso ocultar secreto terrorífico recordar disparatado matarás vecino persona llamada anónimo amenazador teléfono concurrencia extraño suceso halloween aspecto ambientación movimiento cámara deudor cine distinto animación puesto buscar paralelismo tripleta investigador formado preadolescent recordar entrañabl goonies perfil distinto personaje valiente cualificado investigador persona amigo regordete gracioso partidario ejercer héroe cambio arriesgar pellejo jenny chica suspirir poner sensatez grupo caracterización persona viejo encorvado rostro enjuto temible vestido harapiento ropaj resultar familiar punto cómico explotar pintoresco secundario friki-pizzero skull veinteañero especialista videojuego cómics acudir compañía solicitar él consejo canguro persona novio persona pareja despistado poli tratamiento gráfico monster house demostrar animación digital quedar margen seguir sorprender filme margen magnífico tratamiento textura cinta sobresalir ágil movimiento cámara cuidado atmósfero perfecto introducir yo propuesta misterio principal virtud cinta dirigido debutante persona apadrinado zorro persona persona errar tiro polard express radicar magnífico inteligente guión reparo historia aventura miedo capaz resultar divertido niño adulto acudir estereotipo visto ciento cinta terror historia ocultar monstruoso casa original predecible querer descubrir él acompañen compañía singular aventura diversión garantizado</td>\n",
       "      <td>BUENA</td>\n",
       "      <td>BUENA</td>\n",
       "    </tr>\n",
       "    <tr>\n",
       "      <th>210</th>\n",
       "      <td>pareja detective aficionado sacado misterioso asesinato manhattan aparición fantástico parca corifeo poderosa afrodita personaje atolondrado persona papel atolondrado persona tanto personaje persona antihéroe interpretar heroína persona luchar malo apocamiento protagonista hipocondríaco robar medalla allen cajón sastre interminable sacar mil cine invención transcripción vida privado opción entretenida viendo meter chica llegar conclusión persona ególatrar musa persona aprendiz periodista notición siglo mano demostrar noble inglés famoso asesino serie investigar él colar vida cama acabar enamorar él scoop match point funcionar mecanismo relojerío ocurrir historia persona obra frase casual clavo acto servir descubrir asesino tercero escribir llevadero llenar paja minuto película información tic pasado personaje debilidad repetición coger azar cosa bonito gratuito autobiográficar detalle servir atar nudo pasar sembrar diálogo pista espectador cansar agradecer él</td>\n",
       "      <td>REGULAR</td>\n",
       "      <td>BUENA</td>\n",
       "    </tr>\n",
       "    <tr>\n",
       "      <th>448</th>\n",
       "      <td>escuchar sentenciar pleito escuchar parte persona aplicar norma banderas padre mostrar perspectiva nipón cartas iwo jima cuidado fotografía monocromático destacar rojo sangre bandera sol naciente atípico film estrenado mundo presupuesto menor persona aprovechar decorado plano filmado anterioridad suponer reencuentro persona cine autor profundizar valentía coraje obediencia soldado japonés inexpresividad actor nipón resultar sorprendente máxime cine oriental cara protagonista generalmente expresivo mayoría grandísimo persona adolecir mostrar expresión rien sufrir banda sonoro simplista efectivo resultar magistral sobreaviso estabamos mejor scor acorde mostrar poético divino inhumanir guerra contienda bélico plano camar hombro escena crudo batalla aportar aportar banderas aspecto prácticamente documental empezar marca casa director agradecer persona cinta mostrar justo traumatizar yo parte negativo cinta excesivo lentitud lastrar momento exceso min proyección brutalmente pesado cinta eastwood aprender error banderas flashback llegar aburrir espectador contar justo conciso ayudar entender personaje cuestión contar destacar plano ver quedar monte suribachi playa ritmo banda sonora bello dulce mostrar vida perder pequeño trozo tierra</td>\n",
       "      <td>BUENA</td>\n",
       "      <td>REGULAR</td>\n",
       "    </tr>\n",
       "    <tr>\n",
       "      <th>991</th>\n",
       "      <td>ocasión oportunidad merecer pena sobretodo disfrutar rato aventura búsqueda ingrediente tópico película género prota irónico dote héroe mujer deseado tonto prota irónico precisa ayuda secundario divertido frase ingeniosa malo malo tontería dejar malo caso producto factoria bruckheimer perder gancho embarca principio persona pista está impaciente llegar conservar humor relación distinto personaje unir brillante persona sorprender capacidad unir historia realmente suceder búsqueda tesoro asombroso parecer cosa inverosímil denotar documentación venir perla historia esprar llegar búsqueda decaer tono humor seguir entretener persona gustar evadirno mundanal ruido película entretengar hacer pasar rato</td>\n",
       "      <td>BUENA</td>\n",
       "      <td>REGULAR</td>\n",
       "    </tr>\n",
       "  </tbody>\n",
       "</table>\n",
       "</div>"
      ],
      "text/plain": [
       "                                                                                                                                                                                                                                                                                                                                                                                                                                                                                                                                                                                                                                                                                                                                                                                                                                                                                                                                                                                                                                                                                                                                                                                                                                                                                                                                                                                                                                                                                                                                                                                                                                                                                                                                                                                                                                                                                                     Texto  ... Predicción\n",
       "883                                                                                                                                                                                                                  gracia querejeta directora tomado medida conocimiento obra ldquo;cuar vuelva ladordquo año recordar gustar ver ldquo;el viaje persona ldquo;héctorrdquo pese pinta priori acudí cine ldquo;siete mesa billar francésrdquo ir encontrar llevado vibración película encontrar finalmente película deber marcar referencia camino posible transitar cine español decir evidente público demandar cine género español amplio presupuesto propuesta gracia querejeta cabida cartelera necesario ldquo;siete mesa billar francésrdquo guión obra directora persona capaz crear personaje carne hueso sentir puñado estupendo actor capaz dar él vida película falta director solvente proyecto éxito taquilla siglo xxi falta cosa campaña marketing fallar seguramente falta presupuesto holgado decir guión construcción personaje rabia error acabar comprender resolución historia tuerto persona consecuente visto resto film improvisado sensación reducir duración fim alargar historia persona impecable persona pese previsibilidad resolución pequeño pega guión ejemplar actuación pegar blanca persona ganar premio festival cine san sebastián interpretación femenino haber él ganar persona haber injusticia increíble lucha persona realmente durar año resto secundario igualmente soberbio película niño víctor valdivia promesa cine español actúar destacar alguien tomar él desprecio gustar mencionar persona año robar escena compañero reparto mérito atribuir él directora planificar escena aprovechar máximo talento actor calmado transparente puesto escena demostración confianza actor regalo espectador añadir presupuesto cine españa valoración moonfleet  ...    REGULAR\n",
       "154  monster house suscribir línea cinta animación estrenado llevar año exagerar calificar pionera asunción patrón estético temático género terror empleado animación monster house cinta apto público venir clase rodado cine terror tratar dejar binomio aventuras-humor habitual animación año monster house guiño continuo referente cinematográfico género miedo casa encantado miedo vecino misterioso sospechoso ocultar secreto terrorífico recordar disparatado matarás vecino persona llamada anónimo amenazador teléfono concurrencia extraño suceso halloween aspecto ambientación movimiento cámara deudor cine distinto animación puesto buscar paralelismo tripleta investigador formado preadolescent recordar entrañabl goonies perfil distinto personaje valiente cualificado investigador persona amigo regordete gracioso partidario ejercer héroe cambio arriesgar pellejo jenny chica suspirir poner sensatez grupo caracterización persona viejo encorvado rostro enjuto temible vestido harapiento ropaj resultar familiar punto cómico explotar pintoresco secundario friki-pizzero skull veinteañero especialista videojuego cómics acudir compañía solicitar él consejo canguro persona novio persona pareja despistado poli tratamiento gráfico monster house demostrar animación digital quedar margen seguir sorprender filme margen magnífico tratamiento textura cinta sobresalir ágil movimiento cámara cuidado atmósfero perfecto introducir yo propuesta misterio principal virtud cinta dirigido debutante persona apadrinado zorro persona persona errar tiro polard express radicar magnífico inteligente guión reparo historia aventura miedo capaz resultar divertido niño adulto acudir estereotipo visto ciento cinta terror historia ocultar monstruoso casa original predecible querer descubrir él acompañen compañía singular aventura diversión garantizado  ...      BUENA\n",
       "210                                                                                                                                                                                                                                                                                                                                                                                                                                                                                                                                                                                                                                                                                                                                                                                                                                                                                          pareja detective aficionado sacado misterioso asesinato manhattan aparición fantástico parca corifeo poderosa afrodita personaje atolondrado persona papel atolondrado persona tanto personaje persona antihéroe interpretar heroína persona luchar malo apocamiento protagonista hipocondríaco robar medalla allen cajón sastre interminable sacar mil cine invención transcripción vida privado opción entretenida viendo meter chica llegar conclusión persona ególatrar musa persona aprendiz periodista notición siglo mano demostrar noble inglés famoso asesino serie investigar él colar vida cama acabar enamorar él scoop match point funcionar mecanismo relojerío ocurrir historia persona obra frase casual clavo acto servir descubrir asesino tercero escribir llevadero llenar paja minuto película información tic pasado personaje debilidad repetición coger azar cosa bonito gratuito autobiográficar detalle servir atar nudo pasar sembrar diálogo pista espectador cansar agradecer él  ...      BUENA\n",
       "448                                                                                                                                                                                                                                                                                                                                                                                                                                                                                                                                                                                                       escuchar sentenciar pleito escuchar parte persona aplicar norma banderas padre mostrar perspectiva nipón cartas iwo jima cuidado fotografía monocromático destacar rojo sangre bandera sol naciente atípico film estrenado mundo presupuesto menor persona aprovechar decorado plano filmado anterioridad suponer reencuentro persona cine autor profundizar valentía coraje obediencia soldado japonés inexpresividad actor nipón resultar sorprendente máxime cine oriental cara protagonista generalmente expresivo mayoría grandísimo persona adolecir mostrar expresión rien sufrir banda sonoro simplista efectivo resultar magistral sobreaviso estabamos mejor scor acorde mostrar poético divino inhumanir guerra contienda bélico plano camar hombro escena crudo batalla aportar aportar banderas aspecto prácticamente documental empezar marca casa director agradecer persona cinta mostrar justo traumatizar yo parte negativo cinta excesivo lentitud lastrar momento exceso min proyección brutalmente pesado cinta eastwood aprender error banderas flashback llegar aburrir espectador contar justo conciso ayudar entender personaje cuestión contar destacar plano ver quedar monte suribachi playa ritmo banda sonora bello dulce mostrar vida perder pequeño trozo tierra  ...    REGULAR\n",
       "991                                                                                                                                                                                                                                                                                                                                                                                                                                                                                                                                                                                                                                                                                                                                                                                                                                                                                                                                                                                                                                                                                                                                                                       ocasión oportunidad merecer pena sobretodo disfrutar rato aventura búsqueda ingrediente tópico película género prota irónico dote héroe mujer deseado tonto prota irónico precisa ayuda secundario divertido frase ingeniosa malo malo tontería dejar malo caso producto factoria bruckheimer perder gancho embarca principio persona pista está impaciente llegar conservar humor relación distinto personaje unir brillante persona sorprender capacidad unir historia realmente suceder búsqueda tesoro asombroso parecer cosa inverosímil denotar documentación venir perla historia esprar llegar búsqueda decaer tono humor seguir entretener persona gustar evadirno mundanal ruido película entretengar hacer pasar rato  ...    REGULAR\n",
       "\n",
       "[5 rows x 3 columns]"
      ]
     },
     "execution_count": 43,
     "metadata": {
      "tags": []
     },
     "output_type": "execute_result"
    }
   ],
   "source": [
    "pd.DataFrame({\n",
    "    'Texto':X_test,\n",
    "    'Valoracion':y_test,\n",
    "    'Predicción':prediccion\n",
    "}).sample(5)"
   ]
  },
  {
   "cell_type": "markdown",
   "metadata": {
    "id": "Y7FWeeW-HaCO"
   },
   "source": [
    "Exactitud del modelo\n",
    "(Núm. predicciones correctas / Total de muestras)"
   ]
  },
  {
   "cell_type": "code",
   "execution_count": 44,
   "metadata": {
    "colab": {
     "base_uri": "https://localhost:8080/"
    },
    "id": "SJGSU38jHaCO",
    "outputId": "6257badc-ca68-42f3-f065-44bc92828785"
   },
   "outputs": [
    {
     "name": "stdout",
     "output_type": "stream",
     "text": [
      "Exactitud:  0.5893470790378007\n"
     ]
    }
   ],
   "source": [
    "from sklearn.metrics import accuracy_score\n",
    "\n",
    "# Exactitud (accuracy) <> Precisón  \n",
    "print('Exactitud: ', accuracy_score(y_test, prediccion))"
   ]
  },
  {
   "cell_type": "markdown",
   "metadata": {
    "id": "nF0lKm53HaCP"
   },
   "source": [
    "Matriz de confusión (predicción -columnas- frente a etiquetas reales -filas-)"
   ]
  },
  {
   "cell_type": "code",
   "execution_count": 45,
   "metadata": {
    "colab": {
     "base_uri": "https://localhost:8080/"
    },
    "id": "D4eie0lN4awS",
    "outputId": "0ce4b928-e1f6-45ae-ed1f-8868e4161725"
   },
   "outputs": [
    {
     "data": {
      "text/plain": [
       "['BUENA', 'MALA', 'REGULAR']"
      ]
     },
     "execution_count": 45,
     "metadata": {
      "tags": []
     },
     "output_type": "execute_result"
    }
   ],
   "source": [
    "# Chequeamos el orden de las etiquetas en el modelo\n",
    "labels = list(modelNB_BoW.classes_)\n",
    "labels"
   ]
  },
  {
   "cell_type": "code",
   "execution_count": 46,
   "metadata": {
    "colab": {
     "base_uri": "https://localhost:8080/",
     "height": 143
    },
    "id": "ZeDHoJhaHaCP",
    "outputId": "e2261acb-eb5d-4520-8d0a-d722491e93ef"
   },
   "outputs": [
    {
     "data": {
      "text/html": [
       "<div>\n",
       "<style scoped>\n",
       "    .dataframe tbody tr th:only-of-type {\n",
       "        vertical-align: middle;\n",
       "    }\n",
       "\n",
       "    .dataframe tbody tr th {\n",
       "        vertical-align: top;\n",
       "    }\n",
       "\n",
       "    .dataframe thead th {\n",
       "        text-align: right;\n",
       "    }\n",
       "</style>\n",
       "<table border=\"1\" class=\"dataframe\">\n",
       "  <thead>\n",
       "    <tr style=\"text-align: right;\">\n",
       "      <th></th>\n",
       "      <th>BUENA_true</th>\n",
       "      <th>MALA_true</th>\n",
       "      <th>REGULAR_true</th>\n",
       "    </tr>\n",
       "  </thead>\n",
       "  <tbody>\n",
       "    <tr>\n",
       "      <th>BUENA_true</th>\n",
       "      <td>312</td>\n",
       "      <td>28</td>\n",
       "      <td>55</td>\n",
       "    </tr>\n",
       "    <tr>\n",
       "      <th>MALA_true</th>\n",
       "      <td>82</td>\n",
       "      <td>229</td>\n",
       "      <td>84</td>\n",
       "    </tr>\n",
       "    <tr>\n",
       "      <th>REGULAR_true</th>\n",
       "      <td>173</td>\n",
       "      <td>56</td>\n",
       "      <td>145</td>\n",
       "    </tr>\n",
       "  </tbody>\n",
       "</table>\n",
       "</div>"
      ],
      "text/plain": [
       "              BUENA_true  MALA_true  REGULAR_true\n",
       "BUENA_true           312         28            55\n",
       "MALA_true             82        229            84\n",
       "REGULAR_true         173         56           145"
      ]
     },
     "execution_count": 46,
     "metadata": {
      "tags": []
     },
     "output_type": "execute_result"
    }
   ],
   "source": [
    "from sklearn.metrics import confusion_matrix\n",
    "\n",
    "cm=confusion_matrix(y_test, prediccion)\n",
    "pd.DataFrame(cm, index=('BUENA_true','MALA_true', 'REGULAR_true'), columns=('BUENA_true','MALA_true', 'REGULAR_true'))\n",
    "#filas: True, columnas: Prediction"
   ]
  },
  {
   "cell_type": "markdown",
   "metadata": {
    "id": "33loeAqHHaCQ"
   },
   "source": [
    "Podemos ver un informe más completo del clasificador con la métrica `classification_report`:"
   ]
  },
  {
   "cell_type": "code",
   "execution_count": 47,
   "metadata": {
    "colab": {
     "base_uri": "https://localhost:8080/"
    },
    "id": "p5thWdiQHaCQ",
    "outputId": "1f32ef56-c1bc-4875-fa0d-dcaf99ef8fbf"
   },
   "outputs": [
    {
     "name": "stdout",
     "output_type": "stream",
     "text": [
      "              precision    recall  f1-score   support\n",
      "\n",
      "       BUENA       0.55      0.79      0.65       395\n",
      "        MALA       0.73      0.58      0.65       395\n",
      "     REGULAR       0.51      0.39      0.44       374\n",
      "\n",
      "    accuracy                           0.59      1164\n",
      "   macro avg       0.60      0.59      0.58      1164\n",
      "weighted avg       0.60      0.59      0.58      1164\n",
      "\n"
     ]
    }
   ],
   "source": [
    "from sklearn.metrics import classification_report\n",
    "\n",
    "print(classification_report(y_test, prediccion))"
   ]
  },
  {
   "cell_type": "markdown",
   "metadata": {
    "id": "24_BC8waHaCR"
   },
   "source": [
    "Área bajo la curva ROC:  \n",
    "Para calcular el área bajo la curva ROC (AUC) es necesario obtener la probabilidad de salida del clasificador con `predict_proba`"
   ]
  },
  {
   "cell_type": "code",
   "execution_count": 48,
   "metadata": {
    "colab": {
     "base_uri": "https://localhost:8080/"
    },
    "id": "LnL8z4UfqdXX",
    "outputId": "bfb63e95-c282-416b-eeda-9a283ccad99c"
   },
   "outputs": [
    {
     "data": {
      "text/plain": [
       "0.7971342035522049"
      ]
     },
     "execution_count": 48,
     "metadata": {
      "tags": []
     },
     "output_type": "execute_result"
    }
   ],
   "source": [
    "prediccion_prob = modelNB_BoW.predict_proba(vect_BoW.transform(X_test))\n",
    "\n",
    "# Etiqueta: 'BUENA'\n",
    "#la primera columna corresponde a la etiqueta 'BUENA'\n",
    "#Es necesario convertir los True Labels a un array lógico (1 para etiqueta REGULAR)\n",
    "roc_auc_score((y_test=='BUENA'), prediccion_prob[:,labels.index('BUENA')], multi_class='ovr')"
   ]
  },
  {
   "cell_type": "code",
   "execution_count": 49,
   "metadata": {
    "colab": {
     "base_uri": "https://localhost:8080/"
    },
    "id": "Zq26UwL4HaCR",
    "outputId": "e15556fa-ac5e-4733-8392-915d5f7447a1"
   },
   "outputs": [
    {
     "data": {
      "text/plain": [
       "0.8410067323994666"
      ]
     },
     "execution_count": 49,
     "metadata": {
      "tags": []
     },
     "output_type": "execute_result"
    }
   ],
   "source": [
    "# Etiqueta: 'MALA'\n",
    "#la segunda columna corresponde a la etiqueta 'MALA'\n",
    "\n",
    "#Es necesario convertir los True Labels a un array lógico (1 para etiqueta MALA)\n",
    "roc_auc_score((y_test=='MALA'), prediccion_prob[:,labels.index('MALA')], multi_class='ovr')"
   ]
  },
  {
   "cell_type": "code",
   "execution_count": 50,
   "metadata": {
    "colab": {
     "base_uri": "https://localhost:8080/"
    },
    "id": "YUcDo-HEqN2D",
    "outputId": "c2234a7e-a58d-428f-aa9c-eb10576a957f"
   },
   "outputs": [
    {
     "data": {
      "text/plain": [
       "0.6509747512353619"
      ]
     },
     "execution_count": 50,
     "metadata": {
      "tags": []
     },
     "output_type": "execute_result"
    }
   ],
   "source": [
    "# Etiqueta: 'REGULAR'\n",
    "#Es necesario convertir los True Labels a un array lógico (1 para etiqueta REGULAR)\n",
    "roc_auc_score((y_test=='REGULAR'), prediccion_prob[:,labels.index('REGULAR')], multi_class='ovr')"
   ]
  },
  {
   "cell_type": "code",
   "execution_count": 51,
   "metadata": {
    "colab": {
     "base_uri": "https://localhost:8080/",
     "height": 349
    },
    "id": "uM7CM5UPrJtu",
    "outputId": "43c3bbfa-8eb0-4477-e205-7f121a0b3f12"
   },
   "outputs": [
    {
     "data": {
      "image/png": "[encoded data removed]",
      "text/plain": [
       "<Figure size 720x360 with 1 Axes>"
      ]
     },
     "metadata": {
      "image/png": {
       "height": 332,
       "width": 676
      },
      "needs_background": "light",
      "tags": []
     },
     "output_type": "display_data"
    }
   ],
   "source": [
    "# Curvas ROC\n",
    "plot_auc(y_test, prediccion_prob, labels, \"BoW + Naïve Bayes\")"
   ]
  },
  {
   "cell_type": "markdown",
   "metadata": {
    "id": "j69AXO2kCTeq"
   },
   "source": [
    "##### **Seleccion de clasificador para TF-IDF**\n",
    "Para ver el rendimiento del modelo usamos el conjunto de test. Primero transformamos el conjunto de test a su matriz TF-IDF mediante el vectorizador aprendido en TRAIN y aplicamos el modelo entrenado:"
   ]
  },
  {
   "cell_type": "code",
   "execution_count": 52,
   "metadata": {
    "colab": {
     "base_uri": "https://localhost:8080/"
    },
    "id": "Ivd6BA9BBnyn",
    "outputId": "7165d882-0d79-4d27-c3db-f16ada659b8b"
   },
   "outputs": [
    {
     "data": {
      "text/plain": [
       "<2714x38035 sparse matrix of type '<class 'numpy.float64'>'\n",
       "\twith 414040 stored elements in Compressed Sparse Row format>"
      ]
     },
     "execution_count": 52,
     "metadata": {
      "tags": []
     },
     "output_type": "execute_result"
    }
   ],
   "source": [
    "# Se usaran como entradas\n",
    "X_train_vectorized_TfIdf = TfIdf_criticas\n",
    "X_train_vectorized_TfIdf"
   ]
  },
  {
   "cell_type": "markdown",
   "metadata": {
    "id": "xQsIbXlTBnyr"
   },
   "source": [
    "Verificación del modelo:\n",
    "\n"
   ]
  },
  {
   "cell_type": "code",
   "execution_count": 53,
   "metadata": {
    "colab": {
     "base_uri": "https://localhost:8080/"
    },
    "id": "ykWaxsLHBnys",
    "outputId": "d70ad689-c092-497b-f03d-355f841a81f1"
   },
   "outputs": [
    {
     "data": {
      "text/plain": [
       "<1164x38035 sparse matrix of type '<class 'numpy.float64'>'\n",
       "\twith 176002 stored elements in Compressed Sparse Row format>"
      ]
     },
     "execution_count": 53,
     "metadata": {
      "tags": []
     },
     "output_type": "execute_result"
    }
   ],
   "source": [
    "# Predecimos sobre el conjunto de test\n",
    "# vectorizamos  para generar la BoW en el clasificador\n",
    "X_test_vectorized_TfIdf = vect_TfIdf.transform(X_test)\n",
    "X_test_vectorized_TfIdf"
   ]
  },
  {
   "cell_type": "code",
   "execution_count": 54,
   "metadata": {
    "colab": {
     "base_uri": "https://localhost:8080/"
    },
    "id": "Dgi0ArbuCTeu",
    "outputId": "f199ae51-21ec-47e2-c2f1-933adf08e774"
   },
   "outputs": [
    {
     "name": "stdout",
     "output_type": "stream",
     "text": [
      "Modelo Logistic Regression con características TfIdf\n",
      "              precision    recall  f1-score   support\n",
      "\n",
      "       BUENA       0.58      0.77      0.66       395\n",
      "        MALA       0.70      0.68      0.69       395\n",
      "     REGULAR       0.52      0.35      0.42       374\n",
      "\n",
      "    accuracy                           0.61      1164\n",
      "   macro avg       0.60      0.60      0.59      1164\n",
      "weighted avg       0.60      0.61      0.59      1164\n",
      "\n",
      "Modelo Naïve Bayes con características TfIdf\n",
      "              precision    recall  f1-score   support\n",
      "\n",
      "       BUENA       0.41      0.96      0.58       395\n",
      "        MALA       0.81      0.38      0.52       395\n",
      "     REGULAR       0.53      0.09      0.16       374\n",
      "\n",
      "    accuracy                           0.48      1164\n",
      "   macro avg       0.59      0.48      0.42      1164\n",
      "weighted avg       0.59      0.48      0.42      1164\n",
      "\n",
      "Modelo Linear SVM con características TfIdf\n",
      "              precision    recall  f1-score   support\n",
      "\n",
      "       BUENA       0.62      0.70      0.66       395\n",
      "        MALA       0.71      0.65      0.68       395\n",
      "     REGULAR       0.48      0.47      0.48       374\n",
      "\n",
      "    accuracy                           0.61      1164\n",
      "   macro avg       0.61      0.60      0.60      1164\n",
      "weighted avg       0.61      0.61      0.61      1164\n",
      "\n",
      "Modelo RBF SVM con características TfIdf\n",
      "              precision    recall  f1-score   support\n",
      "\n",
      "       BUENA       0.61      0.72      0.66       395\n",
      "        MALA       0.71      0.64      0.67       395\n",
      "     REGULAR       0.51      0.46      0.49       374\n",
      "\n",
      "    accuracy                           0.61      1164\n",
      "   macro avg       0.61      0.61      0.61      1164\n",
      "weighted avg       0.61      0.61      0.61      1164\n",
      "\n"
     ]
    }
   ],
   "source": [
    "#entrenamos clasificadores con modelos TfIdf\n",
    "for m, clf in modelos:\n",
    "    print('Modelo {} con características TfIdf'.format(m))\n",
    "    BoW_predictions = train_predict_evaluate_model(classifier=clf,\n",
    "                                           train_features=X_train_vectorized_TfIdf,\n",
    "                                           train_labels=y_train,\n",
    "                                           test_features=X_test_vectorized_TfIdf,\n",
    "                                           test_labels=y_test)"
   ]
  },
  {
   "cell_type": "markdown",
   "metadata": {
    "id": "72UDztcICTew"
   },
   "source": [
    "Seleccionamos Naïve Bayes por su simplicidad, aunque se probará tambien la Support Vector Machine con funciones de base radial (RBF SVM) para ver si merece la pena."
   ]
  },
  {
   "cell_type": "markdown",
   "metadata": {
    "id": "4d3bmedxea_j"
   },
   "source": [
    "##### **TF-IDF + NaïveBayes**\n",
    "Se han probado 2 variantes de vectorización, sin especificar límites y eliminando las palabras menos frecuentes y las más frecuentes (mínimo de 2 y máximo de 5 documentos) dando mejor resultados sin establecer mínimo/máximo de ocurrencias."
   ]
  },
  {
   "cell_type": "markdown",
   "metadata": {
    "id": "wknF53-uBnyo"
   },
   "source": [
    "Entrenamiento del modelo:"
   ]
  },
  {
   "cell_type": "code",
   "execution_count": 55,
   "metadata": {
    "colab": {
     "base_uri": "https://localhost:8080/"
    },
    "id": "lHAEI_aCdCJG",
    "outputId": "6c509231-e805-4ea8-a13b-0dde0a4c5087"
   },
   "outputs": [
    {
     "data": {
      "text/plain": [
       "MultinomialNB(alpha=0.1, class_prior=None, fit_prior=False)"
      ]
     },
     "execution_count": 55,
     "metadata": {
      "tags": []
     },
     "output_type": "execute_result"
    }
   ],
   "source": [
    "#Entrenamos el modelo con el conjunto de train\n",
    "from sklearn.model_selection import GridSearchCV\n",
    "\n",
    "modelNB_TfIdf = MultinomialNB()\n",
    "param_grid = {'alpha': [1.0, 0.1, 0.01, 0.001, 0.0001, 0.00001, 0],\n",
    "              'class_prior': [None, class_weights],\n",
    "              'fit_prior': [True, False]}\n",
    "\n",
    "#Entrenamos el modelo con el conjunto de train por GridSearch y nos quedamos con el mejor\n",
    "modelNB_TfIdf = MultinomialNB()\n",
    "cv = GridSearchCV(modelNB_TfIdf, param_grid, scoring=\"accuracy\", cv=5, n_jobs=-1)\n",
    "\n",
    "cv.fit(X_train_vectorized_TfIdf, y_train)\n",
    "cv.cv_results_\n",
    "cv.best_estimator_"
   ]
  },
  {
   "cell_type": "code",
   "execution_count": 56,
   "metadata": {
    "id": "DyJNUCZYPH0L"
   },
   "outputs": [],
   "source": [
    "modelNB_TfIdf = cv.best_estimator_.fit(X_train_vectorized_TfIdf, y_train)"
   ]
  },
  {
   "cell_type": "code",
   "execution_count": 57,
   "metadata": {
    "colab": {
     "base_uri": "https://localhost:8080/"
    },
    "id": "mkQZ0DjQBnyv",
    "outputId": "0d7530af-0f4c-42c8-d042-1b82fb782f6b"
   },
   "outputs": [
    {
     "data": {
      "text/plain": [
       "array(['MALA', 'MALA', 'MALA', 'MALA', 'REGULAR'], dtype='<U7')"
      ]
     },
     "execution_count": 57,
     "metadata": {
      "tags": []
     },
     "output_type": "execute_result"
    }
   ],
   "source": [
    "prediccion = modelNB_TfIdf.predict(X_test_vectorized_TfIdf)\n",
    "\n",
    "#5 primeras preds\n",
    "prediccion[:5]"
   ]
  },
  {
   "cell_type": "code",
   "execution_count": 58,
   "metadata": {
    "colab": {
     "base_uri": "https://localhost:8080/"
    },
    "id": "6-N8hF9CBnyy",
    "outputId": "0fe469d3-eb5a-4413-af3d-2b309d684afa"
   },
   "outputs": [
    {
     "data": {
      "text/plain": [
       "(1164,)"
      ]
     },
     "execution_count": 58,
     "metadata": {
      "tags": []
     },
     "output_type": "execute_result"
    }
   ],
   "source": [
    "prediccion.shape"
   ]
  },
  {
   "cell_type": "markdown",
   "metadata": {
    "id": "tKctLqcCBny0"
   },
   "source": [
    "Vemos el resultado de la predicción y calculamos su precisión con distintas métricas.  \n",
    "Ejemplo de predicción de algunas muestras:"
   ]
  },
  {
   "cell_type": "code",
   "execution_count": 59,
   "metadata": {
    "colab": {
     "base_uri": "https://localhost:8080/",
     "height": 1000
    },
    "id": "3kkmptKKBny2",
    "outputId": "0bc7ec4a-794b-4d64-f6ba-7e7288952c99"
   },
   "outputs": [
    {
     "data": {
      "text/html": [
       "<div>\n",
       "<style scoped>\n",
       "    .dataframe tbody tr th:only-of-type {\n",
       "        vertical-align: middle;\n",
       "    }\n",
       "\n",
       "    .dataframe tbody tr th {\n",
       "        vertical-align: top;\n",
       "    }\n",
       "\n",
       "    .dataframe thead th {\n",
       "        text-align: right;\n",
       "    }\n",
       "</style>\n",
       "<table border=\"1\" class=\"dataframe\">\n",
       "  <thead>\n",
       "    <tr style=\"text-align: right;\">\n",
       "      <th></th>\n",
       "      <th>Texto</th>\n",
       "      <th>Valoracion</th>\n",
       "      <th>Predicción</th>\n",
       "    </tr>\n",
       "  </thead>\n",
       "  <tbody>\n",
       "    <tr>\n",
       "      <th>1088</th>\n",
       "      <td>pronóstico persona convertir artesano quedar decir pronóstico persona película perfecto diez año sly parecer peligro extinción paisano gener-acción rocky balboa emotivo homenaje personaje querido cine vuelta boxeador llevar sorpresa gordo grande regreso personaje clásico oscuro john rambo cuarto aventura noventa minuto volver cine peli rodar dejar pañal decepcionante cuarto aventura viejo john mcclane rambo encerrado interior ajeno mierda habitar mundo rescatar grupo voluntario viajar birmania colaborar misión humanitario jungla perder seña identidad saga clásico superior persona rambo director protagonista guionista puñetazo mesa grito pulmón mancharno sangre dejar gusto película tanto sangre episodio violento violación tortura matanza veíar frikada cannon envidiable pulso narrativo medianía colosal dejar recuerdo colosal clímax ejercicio nostalgia estilo tomar él broma rambo volver</td>\n",
       "      <td>BUENA</td>\n",
       "      <td>REGULAR</td>\n",
       "    </tr>\n",
       "    <tr>\n",
       "      <th>671</th>\n",
       "      <td>harry potter deprimido guionista impresión obtuve harry potter orden fénix quinto entrega cinematográfico personaje creado escritora literatura infantil estrenar mañana pantalla español persona regresar tiniebla potter -por utilizar magia escuela hogwarts magia hechicería defensa odioso primo dudley- castigar expulsión centro malo rollo instalar cabeza muerte compañero estudio recuerdo padre asesinado sed venganza desprecio personal sometido director hogwarts haber él readmitir academia hacer convertir triste gris solitario persona director enfrentar universo potter compañía pesarós amparar él abatimiento marcar harry potter película aparte poseer ritmo alarmantemente lento resultar confuso narrado pasaje falta consistencia guión ver dotado número personaje desarrollado innecesario ocurrir fantasmagórico presencia persona dar vida tentadora malvado persona metido presión historia único intención contar famosillo brillantez lujoso crédito marketing taquilla decir harry potter orden fénix costar muchísimo arrancar quedar medias tinta teórico tensión acumular metraje explosionar veinte minuto proyección innegable cinta adquirir calibre vibrante interesante remontar pesadez narrativo ir desarrollar él situación acción ofrecer punto culminante seguir oscuro fuerza positivo capítulo localizar intención romper clásico esquema argumental definido título anterior cinta iniciar finalizar ciudad subsuelo londres dar él protagonismo familiar recinto escuela hogwarts desarrollar central pesarós prólogo espléndido prometedor filmado aire libre tono cercano cine persona maravilloso visual escena interior gigantesca ensombrecido estancia plagado estantería lleno bola cristal delirante presencia inmejorable persona rol patético mujer ansia dictatorial remarcable denotar cansancio serie faltar capítulo harry potter perder sentido humor arte mágico enganchar millón espectador edad animar chico marcha forzado base prozac similar visita psiquiatra ir alguien sacar él pozo hundir seguro logre ganar cara título</td>\n",
       "      <td>REGULAR</td>\n",
       "      <td>REGULAR</td>\n",
       "    </tr>\n",
       "    <tr>\n",
       "      <th>240</th>\n",
       "      <td>imaginar gestar año good year persona acabar salir fracaso taquillero reino cielos punto embarcar él proyecto ambicioso american gangster película sencillito barato rodaje rápido género gocir fervor popular finalmente rodar comedia dramático corte presuntamente romántico protagonista atractivo carismático persona mujer cuerpo imponente plumero persona paisaje bonito moto chular prota mover homenaje película hermano pizca filosofía barato montón diálogo ridículo medida guión ser estaríar auténtico espanto película história típico colmo lleno tópico vida amor dinero diferenciar guión película temática similar destinado adolescente dirigir persona consecuencia película dirigido corrección ritmo entretenidillo acción avanzar tronpicón tópico tópico película hacer excesivamente larga notar persona director culto dejar engañar ver calidad tratar él director obra maestro alien blade runner película haber recibir palo crítica brutal motivo faltar</td>\n",
       "      <td>MALA</td>\n",
       "      <td>MALA</td>\n",
       "    </tr>\n",
       "    <tr>\n",
       "      <th>305</th>\n",
       "      <td>película mito época pasado invocar devolver sepultar paso latente cuento hada narran imagen forma llegar corazón historia persona goonies caso labyrinth delicioso film entretenimiento realidad equivalente persona maravilla cine masa película cartelera ochenta equivoco tener año salir cine maravillado derroche magia fantasía película adaptación historia interminable persona retorno jedi año alzar mascara persona historia igualar fascinación obviamente niño perteneciente época ochentero prisma época distinto edad avanzado pasar mero película niño película star wars producción lucasiana dirigido persona pérdida prematura mago marioneta resistar paso volver centro inocencia labyrinth obra maestro maravilla diseño ambientación humor caracterización personaje música celestial persona trasfondo lírico balde subyacer poema amor flotar eternamente mundo regido rey jarret enamorado heroína querer regalar paraíso sueño cambio temor lealtad película construido mito laberinto alegoer camino interior secreto camino vida laberinto cuyo centro contener recompensa hallar salir victorioso aventura innumerable peligro conducir ciudad goblins sara recuperar hermano amigo jarret convertido ave nocturno observar distante felicidad persona ventana habitación jarret retorno solitario luna busca sueño vender cambio amor cuento alicia país maravilla lección ilusionismo artesano amor vocación demostrar actual método infográfico imprescindible recrear mundo fantástico lleno vida marioneta goma vida lirismo frescura dimensión conferir punto realidad allá tópico persona persona transpiran ternura entrañabl gesto pleno demostración poesía show teleñeco demostración imprescindible original entretener bastar producto dotado personalidad mencionar beber persona mago similar labyrinth seño personal artesano habilidoso visual manejo perfil típico mundo fantasía remarquer cuento despropósito eragon pedir eragon producto similar bebar igualmente obra anterior clásico original exigimos mínimo interés hora revisitar inspirar él clásico personalidad carisma artista talla persona poner guinda película sustancialmente infantil gozoso deleite adulto tramo fallido estúpido batalla ciudad duendes absoluto anticlímax romper desarrollo punto metraje manejar perfecto equilibrio elemento infantil pasaje tinte onírico humor tensión aventura lograr visionado estimulante espectador edad innumerable peligro abrir paso castillo allá ciudad goblins</td>\n",
       "      <td>REGULAR</td>\n",
       "      <td>BUENA</td>\n",
       "    </tr>\n",
       "    <tr>\n",
       "      <th>343</th>\n",
       "      <td>poder llego hablar palícula recordaréis hablar libro buscad friki abril poner nube efecto libro señor anillos libro película parecer mediocre volvemos asunto importante ocurrir resumir semejante libro hora cuarenta minuto historia butaca perder muchísima solidez dejar explicar montón aparecer personaje representado aldea alagaësia perder cuerno úrgalo elfa enamorado eragon sumar hablar peazo trono galbatorix explicar salir durza nombre dragona poner eragon inventar libro importancia nombre nombre dragona famoso historia alagaësia hablar persona constantemente contrario eragon decir rubio película habl cosa leer libro salir magia alguien intención leer libro libro consistencia importante modos alguien curiosidad pregunte apartado comentario contestar resumen guión chapucero llegar pregunta obligado alguien leer libro gana caso película encantar base guión sepa faltar gustar punto hablar ocultar vardeno reconocer imagen mental escritor persona mente corresponder absoluto escenario desarrollar batalla película sepa vardeno vivir especie montaña hueco especie valle puente cutre madera resumen haber leer libro probablemente película gustar haber leer libro probablemente película gustar saldrás decepcionado comparación vibrar</td>\n",
       "      <td>MALA</td>\n",
       "      <td>MALA</td>\n",
       "    </tr>\n",
       "  </tbody>\n",
       "</table>\n",
       "</div>"
      ],
      "text/plain": [
       "                                                                                                                                                                                                                                                                                                                                                                                                                                                                                                                                                                                                                                                                                                                                                                                                                                                                                                                                                                                                                                                                                                                                                                                                                                                                                                                                                                                                                                                                                                                                                                                                                                                                                                                                                                                                                                                                                                                                                                                                                                                                                                                                                                                                                                                                                                                                                                                                                                                                                                                                     Texto  ... Predicción\n",
       "1088                                                                                                                                                                                                                                                                                                                                                                                                                                                                                                                                                                                                                                                                                                                                                                                                                                                                                                                                                                                                                                                                                                                                                                                                                                                                                                                                                                                                                                                                                                                                                                                                      pronóstico persona convertir artesano quedar decir pronóstico persona película perfecto diez año sly parecer peligro extinción paisano gener-acción rocky balboa emotivo homenaje personaje querido cine vuelta boxeador llevar sorpresa gordo grande regreso personaje clásico oscuro john rambo cuarto aventura noventa minuto volver cine peli rodar dejar pañal decepcionante cuarto aventura viejo john mcclane rambo encerrado interior ajeno mierda habitar mundo rescatar grupo voluntario viajar birmania colaborar misión humanitario jungla perder seña identidad saga clásico superior persona rambo director protagonista guionista puñetazo mesa grito pulmón mancharno sangre dejar gusto película tanto sangre episodio violento violación tortura matanza veíar frikada cannon envidiable pulso narrativo medianía colosal dejar recuerdo colosal clímax ejercicio nostalgia estilo tomar él broma rambo volver  ...    REGULAR\n",
       "671                                                                                                                                                                                                                                                                                                                                                                                                                                harry potter deprimido guionista impresión obtuve harry potter orden fénix quinto entrega cinematográfico personaje creado escritora literatura infantil estrenar mañana pantalla español persona regresar tiniebla potter -por utilizar magia escuela hogwarts magia hechicería defensa odioso primo dudley- castigar expulsión centro malo rollo instalar cabeza muerte compañero estudio recuerdo padre asesinado sed venganza desprecio personal sometido director hogwarts haber él readmitir academia hacer convertir triste gris solitario persona director enfrentar universo potter compañía pesarós amparar él abatimiento marcar harry potter película aparte poseer ritmo alarmantemente lento resultar confuso narrado pasaje falta consistencia guión ver dotado número personaje desarrollado innecesario ocurrir fantasmagórico presencia persona dar vida tentadora malvado persona metido presión historia único intención contar famosillo brillantez lujoso crédito marketing taquilla decir harry potter orden fénix costar muchísimo arrancar quedar medias tinta teórico tensión acumular metraje explosionar veinte minuto proyección innegable cinta adquirir calibre vibrante interesante remontar pesadez narrativo ir desarrollar él situación acción ofrecer punto culminante seguir oscuro fuerza positivo capítulo localizar intención romper clásico esquema argumental definido título anterior cinta iniciar finalizar ciudad subsuelo londres dar él protagonismo familiar recinto escuela hogwarts desarrollar central pesarós prólogo espléndido prometedor filmado aire libre tono cercano cine persona maravilloso visual escena interior gigantesca ensombrecido estancia plagado estantería lleno bola cristal delirante presencia inmejorable persona rol patético mujer ansia dictatorial remarcable denotar cansancio serie faltar capítulo harry potter perder sentido humor arte mágico enganchar millón espectador edad animar chico marcha forzado base prozac similar visita psiquiatra ir alguien sacar él pozo hundir seguro logre ganar cara título  ...    REGULAR\n",
       "240                                                                                                                                                                                                                                                                                                                                                                                                                                                                                                                                                                                                                                                                                                                                                                                                                                                                                                                                                                                                                                                                                                                                                                                                                                                                                                                                                                                                                                                                                                                                               imaginar gestar año good year persona acabar salir fracaso taquillero reino cielos punto embarcar él proyecto ambicioso american gangster película sencillito barato rodaje rápido género gocir fervor popular finalmente rodar comedia dramático corte presuntamente romántico protagonista atractivo carismático persona mujer cuerpo imponente plumero persona paisaje bonito moto chular prota mover homenaje película hermano pizca filosofía barato montón diálogo ridículo medida guión ser estaríar auténtico espanto película história típico colmo lleno tópico vida amor dinero diferenciar guión película temática similar destinado adolescente dirigir persona consecuencia película dirigido corrección ritmo entretenidillo acción avanzar tronpicón tópico tópico película hacer excesivamente larga notar persona director culto dejar engañar ver calidad tratar él director obra maestro alien blade runner película haber recibir palo crítica brutal motivo faltar  ...       MALA\n",
       "305   película mito época pasado invocar devolver sepultar paso latente cuento hada narran imagen forma llegar corazón historia persona goonies caso labyrinth delicioso film entretenimiento realidad equivalente persona maravilla cine masa película cartelera ochenta equivoco tener año salir cine maravillado derroche magia fantasía película adaptación historia interminable persona retorno jedi año alzar mascara persona historia igualar fascinación obviamente niño perteneciente época ochentero prisma época distinto edad avanzado pasar mero película niño película star wars producción lucasiana dirigido persona pérdida prematura mago marioneta resistar paso volver centro inocencia labyrinth obra maestro maravilla diseño ambientación humor caracterización personaje música celestial persona trasfondo lírico balde subyacer poema amor flotar eternamente mundo regido rey jarret enamorado heroína querer regalar paraíso sueño cambio temor lealtad película construido mito laberinto alegoer camino interior secreto camino vida laberinto cuyo centro contener recompensa hallar salir victorioso aventura innumerable peligro conducir ciudad goblins sara recuperar hermano amigo jarret convertido ave nocturno observar distante felicidad persona ventana habitación jarret retorno solitario luna busca sueño vender cambio amor cuento alicia país maravilla lección ilusionismo artesano amor vocación demostrar actual método infográfico imprescindible recrear mundo fantástico lleno vida marioneta goma vida lirismo frescura dimensión conferir punto realidad allá tópico persona persona transpiran ternura entrañabl gesto pleno demostración poesía show teleñeco demostración imprescindible original entretener bastar producto dotado personalidad mencionar beber persona mago similar labyrinth seño personal artesano habilidoso visual manejo perfil típico mundo fantasía remarquer cuento despropósito eragon pedir eragon producto similar bebar igualmente obra anterior clásico original exigimos mínimo interés hora revisitar inspirar él clásico personalidad carisma artista talla persona poner guinda película sustancialmente infantil gozoso deleite adulto tramo fallido estúpido batalla ciudad duendes absoluto anticlímax romper desarrollo punto metraje manejar perfecto equilibrio elemento infantil pasaje tinte onírico humor tensión aventura lograr visionado estimulante espectador edad innumerable peligro abrir paso castillo allá ciudad goblins  ...      BUENA\n",
       "343                                                                                                                                                                                                                                                                                                                                                                                                                                                                                                                                                                                                                                                                                                                                                                                                                                                                                                                                                                                                                                                                                                                                                                                                                                                poder llego hablar palícula recordaréis hablar libro buscad friki abril poner nube efecto libro señor anillos libro película parecer mediocre volvemos asunto importante ocurrir resumir semejante libro hora cuarenta minuto historia butaca perder muchísima solidez dejar explicar montón aparecer personaje representado aldea alagaësia perder cuerno úrgalo elfa enamorado eragon sumar hablar peazo trono galbatorix explicar salir durza nombre dragona poner eragon inventar libro importancia nombre nombre dragona famoso historia alagaësia hablar persona constantemente contrario eragon decir rubio película habl cosa leer libro salir magia alguien intención leer libro libro consistencia importante modos alguien curiosidad pregunte apartado comentario contestar resumen guión chapucero llegar pregunta obligado alguien leer libro gana caso película encantar base guión sepa faltar gustar punto hablar ocultar vardeno reconocer imagen mental escritor persona mente corresponder absoluto escenario desarrollar batalla película sepa vardeno vivir especie montaña hueco especie valle puente cutre madera resumen haber leer libro probablemente película gustar haber leer libro probablemente película gustar saldrás decepcionado comparación vibrar  ...       MALA\n",
       "\n",
       "[5 rows x 3 columns]"
      ]
     },
     "execution_count": 59,
     "metadata": {
      "tags": []
     },
     "output_type": "execute_result"
    }
   ],
   "source": [
    "pd.DataFrame({\n",
    "    'Texto':X_test,\n",
    "    'Valoracion':y_test,\n",
    "    'Predicción':prediccion\n",
    "}).sample(5)"
   ]
  },
  {
   "cell_type": "markdown",
   "metadata": {
    "id": "HI5mBqDgBny3"
   },
   "source": [
    "Exactitud del modelo\n",
    "(Núm. predicciones correctas / Total de muestras)"
   ]
  },
  {
   "cell_type": "code",
   "execution_count": 60,
   "metadata": {
    "colab": {
     "base_uri": "https://localhost:8080/"
    },
    "id": "z_gAJx7wBny3",
    "outputId": "d427aec8-0d6c-45a1-8c57-b482bd9fc966"
   },
   "outputs": [
    {
     "name": "stdout",
     "output_type": "stream",
     "text": [
      "Exactitud:  0.5781786941580757\n"
     ]
    }
   ],
   "source": [
    "from sklearn.metrics import accuracy_score\n",
    "\n",
    "# Exactitud (accuracy) <> Precisón  \n",
    "print('Exactitud: ', accuracy_score(y_test, prediccion))"
   ]
  },
  {
   "cell_type": "markdown",
   "metadata": {
    "id": "nCKsZiVVBny4"
   },
   "source": [
    "Matriz de confusión (predicción -columnas- frente a etiquetas reales -filas-)"
   ]
  },
  {
   "cell_type": "code",
   "execution_count": 61,
   "metadata": {
    "colab": {
     "base_uri": "https://localhost:8080/"
    },
    "id": "OSUnAm_tBny5",
    "outputId": "3eba9c46-c4e8-4cb8-a8b6-7b571a4f593c"
   },
   "outputs": [
    {
     "data": {
      "text/plain": [
       "['BUENA', 'MALA', 'REGULAR']"
      ]
     },
     "execution_count": 61,
     "metadata": {
      "tags": []
     },
     "output_type": "execute_result"
    }
   ],
   "source": [
    "# Chequeamos el orden de las etiquetas en el modelo\n",
    "labels = list(modelNB_TfIdf.classes_)\n",
    "labels"
   ]
  },
  {
   "cell_type": "code",
   "execution_count": 62,
   "metadata": {
    "colab": {
     "base_uri": "https://localhost:8080/",
     "height": 143
    },
    "id": "2SUo2YGeBny6",
    "outputId": "eedb8665-9dfd-4af1-f463-5ca8197ff054"
   },
   "outputs": [
    {
     "data": {
      "text/html": [
       "<div>\n",
       "<style scoped>\n",
       "    .dataframe tbody tr th:only-of-type {\n",
       "        vertical-align: middle;\n",
       "    }\n",
       "\n",
       "    .dataframe tbody tr th {\n",
       "        vertical-align: top;\n",
       "    }\n",
       "\n",
       "    .dataframe thead th {\n",
       "        text-align: right;\n",
       "    }\n",
       "</style>\n",
       "<table border=\"1\" class=\"dataframe\">\n",
       "  <thead>\n",
       "    <tr style=\"text-align: right;\">\n",
       "      <th></th>\n",
       "      <th>BUENA_true</th>\n",
       "      <th>MALA_true</th>\n",
       "      <th>REGULAR_true</th>\n",
       "    </tr>\n",
       "  </thead>\n",
       "  <tbody>\n",
       "    <tr>\n",
       "      <th>BUENA_true</th>\n",
       "      <td>298</td>\n",
       "      <td>31</td>\n",
       "      <td>66</td>\n",
       "    </tr>\n",
       "    <tr>\n",
       "      <th>MALA_true</th>\n",
       "      <td>70</td>\n",
       "      <td>227</td>\n",
       "      <td>98</td>\n",
       "    </tr>\n",
       "    <tr>\n",
       "      <th>REGULAR_true</th>\n",
       "      <td>160</td>\n",
       "      <td>66</td>\n",
       "      <td>148</td>\n",
       "    </tr>\n",
       "  </tbody>\n",
       "</table>\n",
       "</div>"
      ],
      "text/plain": [
       "              BUENA_true  MALA_true  REGULAR_true\n",
       "BUENA_true           298         31            66\n",
       "MALA_true             70        227            98\n",
       "REGULAR_true         160         66           148"
      ]
     },
     "execution_count": 62,
     "metadata": {
      "tags": []
     },
     "output_type": "execute_result"
    }
   ],
   "source": [
    "from sklearn.metrics import confusion_matrix\n",
    "\n",
    "cm=confusion_matrix(y_test, prediccion)\n",
    "pd.DataFrame(cm, index=('BUENA_true','MALA_true', 'REGULAR_true'), columns=('BUENA_true','MALA_true', 'REGULAR_true'))\n",
    "#filas: True, columnas: Prediction"
   ]
  },
  {
   "cell_type": "markdown",
   "metadata": {
    "id": "dvtOq_UeBny8"
   },
   "source": [
    "Podemos ver un informe más completo del clasificador con la métrica `classification_report`:"
   ]
  },
  {
   "cell_type": "code",
   "execution_count": 63,
   "metadata": {
    "colab": {
     "base_uri": "https://localhost:8080/"
    },
    "id": "bHcjxDZpBny8",
    "outputId": "8b1d49df-aeeb-4dd1-ccfb-adac927cd67d"
   },
   "outputs": [
    {
     "name": "stdout",
     "output_type": "stream",
     "text": [
      "              precision    recall  f1-score   support\n",
      "\n",
      "       BUENA       0.56      0.75      0.65       395\n",
      "        MALA       0.70      0.57      0.63       395\n",
      "     REGULAR       0.47      0.40      0.43       374\n",
      "\n",
      "    accuracy                           0.58      1164\n",
      "   macro avg       0.58      0.57      0.57      1164\n",
      "weighted avg       0.58      0.58      0.57      1164\n",
      "\n"
     ]
    }
   ],
   "source": [
    "from sklearn.metrics import classification_report\n",
    "\n",
    "print(classification_report(y_test, prediccion))"
   ]
  },
  {
   "cell_type": "markdown",
   "metadata": {
    "id": "3qwMeSDuBny9"
   },
   "source": [
    "Área bajo la curva ROC:  \n",
    "Para calcular el área bajo la curva ROC (AUC) es necesario obtener la probabilidad de salida del clasificador con `predict_proba`"
   ]
  },
  {
   "cell_type": "code",
   "execution_count": 64,
   "metadata": {
    "colab": {
     "base_uri": "https://localhost:8080/"
    },
    "id": "0j3v1tscBny-",
    "outputId": "a94d462e-c582-4a7a-aa87-3b6dada79e3f"
   },
   "outputs": [
    {
     "data": {
      "text/plain": [
       "0.8046353146450264"
      ]
     },
     "execution_count": 64,
     "metadata": {
      "tags": []
     },
     "output_type": "execute_result"
    }
   ],
   "source": [
    "prediccion_prob = modelNB_TfIdf.predict_proba(vect_TfIdf.transform(X_test))\n",
    "\n",
    "# Etiqueta: 'BUENA'\n",
    "#la primera columna corresponde a la etiqueta 'BUENA'\n",
    "#Es necesario convertir los True Labels a un array lógico (1 para etiqueta REGULAR)\n",
    "roc_auc_score((y_test=='BUENA'), prediccion_prob[:,labels.index('BUENA')], multi_class='ovr')"
   ]
  },
  {
   "cell_type": "code",
   "execution_count": 65,
   "metadata": {
    "colab": {
     "base_uri": "https://localhost:8080/"
    },
    "id": "4UsupATvBny_",
    "outputId": "2f1a4e60-1ba1-4b94-b776-3ea9fb863bd7"
   },
   "outputs": [
    {
     "data": {
      "text/plain": [
       "0.8436075126335368"
      ]
     },
     "execution_count": 65,
     "metadata": {
      "tags": []
     },
     "output_type": "execute_result"
    }
   ],
   "source": [
    "# Etiqueta: 'MALA'\n",
    "#la segunda columna corresponde a la etiqueta 'MALA'\n",
    "\n",
    "#Es necesario convertir los True Labels a un array lógico (1 para etiqueta MALA)\n",
    "roc_auc_score((y_test=='MALA'), prediccion_prob[:,labels.index('MALA')], multi_class='ovr')"
   ]
  },
  {
   "cell_type": "code",
   "execution_count": 66,
   "metadata": {
    "colab": {
     "base_uri": "https://localhost:8080/"
    },
    "id": "UIhEBczPBnzA",
    "outputId": "6efa114e-bbed-4d7d-8533-4b3c0849d19d"
   },
   "outputs": [
    {
     "data": {
      "text/plain": [
       "0.6715866783997835"
      ]
     },
     "execution_count": 66,
     "metadata": {
      "tags": []
     },
     "output_type": "execute_result"
    }
   ],
   "source": [
    "# Etiqueta: 'REGULAR'\n",
    "#Es necesario convertir los True Labels a un array lógico (1 para etiqueta REGULAR)\n",
    "roc_auc_score((y_test=='REGULAR'), prediccion_prob[:,labels.index('REGULAR')], multi_class='ovr')"
   ]
  },
  {
   "cell_type": "code",
   "execution_count": 67,
   "metadata": {
    "colab": {
     "base_uri": "https://localhost:8080/",
     "height": 349
    },
    "id": "q4mIBS3aBnzA",
    "outputId": "b82689df-7b22-4cc8-fdd8-d2f132911f81"
   },
   "outputs": [
    {
     "data": {
      "image/png": "[encoded data removed]",
      "text/plain": [
       "<Figure size 720x360 with 1 Axes>"
      ]
     },
     "metadata": {
      "image/png": {
       "height": 332,
       "width": 676
      },
      "needs_background": "light",
      "tags": []
     },
     "output_type": "display_data"
    }
   ],
   "source": [
    "# Curvas ROC\n",
    "plot_auc(y_test, prediccion_prob, labels, \"Tf-Idf + Naïve Bayes\")"
   ]
  },
  {
   "cell_type": "markdown",
   "metadata": {
    "id": "ceYZhupgei1P"
   },
   "source": [
    "##### **TF-IDF + RBF SVM**\n",
    "Como este clasificador parece que podría ser levemente mejor, vamos a tratar de optimizarlo con GridSearch para ver si merece la pena ese incremento en complejidad respecto de Naïve Bayes."
   ]
  },
  {
   "cell_type": "markdown",
   "metadata": {
    "id": "ytPvcOoKei1R"
   },
   "source": [
    "Entrenamiento del modelo:"
   ]
  },
  {
   "cell_type": "code",
   "execution_count": 68,
   "metadata": {
    "id": "myktaWLFckhz"
   },
   "outputs": [],
   "source": [
    "#Probar SVC (Support Vector Clasifier)\n",
    "param_grid = {'C': [2.0, 1.0],\n",
    "              'degree':[2, 3],\n",
    "              'tol': [0.001, 0.0001],\n",
    "              'probability': [True]} # Para sacar predict_proba para las ROC\n",
    "\n",
    "modelSVC_TfIdf = SVC()\n",
    "cv = GridSearchCV(modelSVC_TfIdf, param_grid, cv=5, n_jobs=-1)\n",
    "\n",
    "#Entrenamos el modelo con el conjunto de train por GridSearch y nos quedamos con el mejor\n",
    "cv.fit(X_train_vectorized_TfIdf, y_train)\n",
    "cv.cv_results_\n",
    "modelSVC_TfIdf = cv.best_estimator_"
   ]
  },
  {
   "cell_type": "code",
   "execution_count": 69,
   "metadata": {
    "colab": {
     "base_uri": "https://localhost:8080/"
    },
    "id": "TRikgMwGhTYg",
    "outputId": "352b5dc0-bbb8-4d46-8550-a6a933294c56"
   },
   "outputs": [
    {
     "data": {
      "text/plain": [
       "SVC(C=2.0, break_ties=False, cache_size=200, class_weight=None, coef0=0.0,\n",
       "    decision_function_shape='ovr', degree=2, gamma='scale', kernel='rbf',\n",
       "    max_iter=-1, probability=True, random_state=None, shrinking=True, tol=0.001,\n",
       "    verbose=False)"
      ]
     },
     "execution_count": 69,
     "metadata": {
      "tags": []
     },
     "output_type": "execute_result"
    }
   ],
   "source": [
    "modelSVC_TfIdf"
   ]
  },
  {
   "cell_type": "code",
   "execution_count": 70,
   "metadata": {
    "id": "fzKdLGOkei1V"
   },
   "outputs": [],
   "source": [
    "modelSVC_TfIdf = cv.best_estimator_.fit(X_train_vectorized_TfIdf, y_train)"
   ]
  },
  {
   "cell_type": "code",
   "execution_count": 71,
   "metadata": {
    "colab": {
     "base_uri": "https://localhost:8080/"
    },
    "id": "CiLQqKteei1Y",
    "outputId": "1dba4caf-579c-44c3-da4c-30e60643c727"
   },
   "outputs": [
    {
     "data": {
      "text/plain": [
       "array(['MALA', 'MALA', 'REGULAR', 'REGULAR', 'REGULAR'], dtype=object)"
      ]
     },
     "execution_count": 71,
     "metadata": {
      "tags": []
     },
     "output_type": "execute_result"
    }
   ],
   "source": [
    "prediccion = modelSVC_TfIdf.predict(X_test_vectorized_TfIdf)\n",
    "\n",
    "#5 primeras preds\n",
    "prediccion[:5]"
   ]
  },
  {
   "cell_type": "code",
   "execution_count": 72,
   "metadata": {
    "colab": {
     "base_uri": "https://localhost:8080/"
    },
    "id": "poeXHD5qei1Z",
    "outputId": "98cd2dfa-3646-4923-c58e-62c596e6ddbd"
   },
   "outputs": [
    {
     "data": {
      "text/plain": [
       "(1164,)"
      ]
     },
     "execution_count": 72,
     "metadata": {
      "tags": []
     },
     "output_type": "execute_result"
    }
   ],
   "source": [
    "prediccion.shape"
   ]
  },
  {
   "cell_type": "markdown",
   "metadata": {
    "id": "R7YERRGcei1Z"
   },
   "source": [
    "Vemos el resultado de la predicción y calculamos su precisión con distintas métricas.  \n",
    "Ejemplo de predicción de algunas muestras:"
   ]
  },
  {
   "cell_type": "code",
   "execution_count": 73,
   "metadata": {
    "colab": {
     "base_uri": "https://localhost:8080/",
     "height": 1000
    },
    "id": "ITbI4gJhei1a",
    "outputId": "5a8880e7-bd30-4b4f-96a6-fbf43d7cb806"
   },
   "outputs": [
    {
     "data": {
      "text/html": [
       "<div>\n",
       "<style scoped>\n",
       "    .dataframe tbody tr th:only-of-type {\n",
       "        vertical-align: middle;\n",
       "    }\n",
       "\n",
       "    .dataframe tbody tr th {\n",
       "        vertical-align: top;\n",
       "    }\n",
       "\n",
       "    .dataframe thead th {\n",
       "        text-align: right;\n",
       "    }\n",
       "</style>\n",
       "<table border=\"1\" class=\"dataframe\">\n",
       "  <thead>\n",
       "    <tr style=\"text-align: right;\">\n",
       "      <th></th>\n",
       "      <th>Texto</th>\n",
       "      <th>Valoracion</th>\n",
       "      <th>Predicción</th>\n",
       "    </tr>\n",
       "  </thead>\n",
       "  <tbody>\n",
       "    <tr>\n",
       "      <th>489</th>\n",
       "      <td>altura mundo batalla persa espartano transcurrir termópilas fielmente basado cómic persona información objetivo recogido decena webs blogs revista periódico variado vayar subjetivo subjetivo parecer peliculón poner cien subir pulsación soltar chut adrenalina revolucionar endorfina encantar fascinar impactar película perfecto obra maestro cine pedir falla personaje persona cómic impresionante señorial todopoderoso enigmático mitad persona mitad dios conseguido película persona reinona divina muerte lastrar efecto grandiosidad tebeo monstruo grotesco llegar cansar elefante matarile celeridad película colosal identificar historia espartano directamente pedíar película espectáculo hablar fidelidad fotograma gráfico persona persona inspirar realidad realidad alcance paso termópilas cuadro clásico persona añadir iconografía cristiano san sebastián aseteado persona pasar noche huerto persona persona vender maestro treinta moneda plata persona filmar película aprovechar imaginería clásico persona acuchillado espíritu película bélico diálogo efectista mitológico frase contundente lucha sombra secuencia barco arribar costa ver troya cartas iwo jima poder hablar tema oriente occidente protesta irán tratamiento persa mirar paso salir maravillado espectáculo asistir hablar realidad apetecer absolutamente espectáculo sangre violencia homber llamado irritar diverso colectivo hipnotizar completo releer tebeo seguramente volver película bolunto compro espada escudo espartano colgarlo pared casa merecer persona película</td>\n",
       "      <td>BUENA</td>\n",
       "      <td>BUENA</td>\n",
       "    </tr>\n",
       "    <tr>\n",
       "      <th>663</th>\n",
       "      <td>actualidad número comedia hollywood año cuarenta cincuenta resultar realmente entrañabl ingenuidad caracterizar mayoría caso ingenuidad formar campaña publicidad mostrar sueño americano atisbo sordidez corrupción vicio exponente persona suspiros corazón persona retomar intencionadamente camino marcar clásico fábula moderno utópico persona persona joven prometedor empresario punto cerrar negocio vida trastocar completamente predicción horóscopo cumplir acudir vecino persona busca consejo finalmente persona buscar desesperadamente editorial revista horóscopo cerrar contrato persona plantear película homenaje revista fotonovela publicación idilio realmente existir aires año cincuenta persona suspiros corazón arranque prometedor historia perder fuelle abundante cine idea inicial saber desarrollar plasmar film persona ir mano ingenuidad terminar convertir cinta pastel empalagoso apto diabético altibajo ritmo escena llegar provocar vergüenza ajeno enfrentamiento viejo combatiente exiliado italiano español interpretación correcto destacar desgraciadamente motivo persona forzado debutante persona soltura realizar interpretación natural fresco suspiros corazón premisa desgraciadamente saber plasmar desarrollar adecuadamente película haciéndola previsible ligeramente aburrido</td>\n",
       "      <td>MALA</td>\n",
       "      <td>MALA</td>\n",
       "    </tr>\n",
       "    <tr>\n",
       "      <th>531</th>\n",
       "      <td>película irregular persona presentar mezcla mundo real literario interesante colocar propuesta cinematográfico destacable abanico director persona actor encantar volver demostrar vena cómico falta excelente papel show truman olvidate mí\"o the majestic número encarnar doble personaje alternar vida cotidiano detective protagonista libro comenzar leer extraño conexión encontrar persona encandilar copa candyman acérrimo género fantástico terror interpretar mujer persona punto destacar fotografía persona presentar atmósfera momento real narrado novela dotar estética comic recordar city guión complejo momento hacer espectador estar entregar completamente película recaer edulcoramiento público moralina haber él evitar dejar gracia satisfacer espectador número casualidad juego guionista persona cifra conformar laberinto misterio circunstancia traer cabeza persona definitiva número presentar película destacable punto interesante intérprete dosis cine hacer delicia amante suspense thriller persona</td>\n",
       "      <td>REGULAR</td>\n",
       "      <td>REGULAR</td>\n",
       "    </tr>\n",
       "    <tr>\n",
       "      <th>155</th>\n",
       "      <td>escuché leer persona rodar escena acción verosímil echar vistazo heat persona cinta equiparable persona miami sentido poder convenir bala tiroteo parecer sonar desarrollar él rastro exageración cine disparar escopeta cañón recortado mano portador tiemble pulso bala malo refrescar cogote oponente imprudente acción guión tipo trabajo soler adscribir él convención cinta acción heat considerar western urbano planteado pulso coloso persona argumento persona atípico persona asesino sueldo persona taxista coincidir vehículo noche ajetreo laboral guión ambos superar creces plana original historia persona miami basado personaje serie persona productor ejecutivo margen emplear nombre agente persona crockett persona título serie cinta producción televisivo creado persona estética persona difuminar paralelismo serie compartir lujo ambiente miami miami retratado serie visto poder parecer yo pelín caspós pese aclamado resultar año libre adaptación persona sobresalir peculiar fotografía nocturno marcado grano pantalla pudir disfrutar persona cintar persona comenzar experimentar técnica digital posibilidad adicional brindada rodaje escena nocturno panorámica miami rodado noche cerrado ofrecer belleza centelleante reseñable escaso acción cinta concentrado extenso metraje medio rúbrica particular persona hablar principio fallar juicio ocurrir nudo historia centrar él desarrollar infiltración policía imbricado red criminal dotado potente herramienta contraespionaje detallar complejidad misión calibre persona profundizar identidad agente contaminar desarrollo trama resultar lento momento explicado cinta comenzar muerte agente infiltrado cuerpo policial distinto persona persona chivatazo procedente agencia seguridad implicado desenlace policía miami retomir compañero caído quedar resuelto preocupante asunto chivatazo labor actoral persona convencer carismático persona persona mostrar eficaz cerebral rico sorprender contada aparición persona malo contenido destacar sensual presencia bello gong elección musical resultar acertado acompañar secuencia nocturno miami localización haití cuba definitiva película envoltorio contenido comparado género similar cinta persona superar medio gracias estilo personal reconocible historia contar citar ejemplo infinitamente mejor cinta policiaco basado guión persona</td>\n",
       "      <td>REGULAR</td>\n",
       "      <td>REGULAR</td>\n",
       "    </tr>\n",
       "    <tr>\n",
       "      <th>457</th>\n",
       "      <td>festival persona sonar fuerza producción lejano corea sur bong joon-ho responsable destacado memories murder ver presentar ocasión poder parecer monster-movie vida publicitado comparándola directamente cartel alien tiburón experiencia the host dista peli setenta diferencia enfoque oriental hollywoodiense evidentemente acostumbrado obvio ritmo cinta cita cine ojo rasgado mínimo extraño decir lento ceñimos idea lar concepto dinámico trepidante recitar cartel comparándolar obra maestro the host cadencia pausado anómala difícil describir fácilmente identificable seguidor cine zona criatura aparecer pleno luz sol olvidar tensión dramático centrado monstruo deslizar desarrollo derrotero síntomar evidente encontrar sentido humor manejar complicar seguir carcajada sonar sala deber probablemente ridícula resultar situación cómico factor filme hacer irremediablemente aburrido momento evitar sentir yo ajeno forma contar historia proponer obstante margen ausencia efectismo estupefacción generar personaje verdadero tiro película autentico interés exactamente crítica social ataque directo política norteamericano tipo dudas verdadero objetivo director ocurrir godzilla joon-ho utilizar pretexto monstruo mutagénico esgrimir sátira político denuncia brava símil guerra irak ataque preventivo antiterrorista claro base militar verter producto químico río provocar desgracia forma pez mutante escena rememorar entrenamiento cia gente persona apoyo inicial sadam sembrar río desperdicio cosechar monstruo persona alimaña pleno apogeo castigar nativo indicio absurdo deducir virus peligroso comunidad internacional arma destrucción masivo relativo pasaje absolutamente genial secuencia médico militar americano evidencia virus comportamiento protagonista finalmente intervenir país montar pollo acabar solucionar civil sufrir consecuencia disculpa final presidente íntegramente reveladora mensaje sumado presentación familia cualquiera unido pese diferencia frente adversidad distancia filme estilo opinión superar barrera inmenso distancia intercultural miembro familia desquiciado idealidad defender saber él valor honestidad grandeza modelo persona sorprendente anti-hollywood olvidar venturós concepción artístico puesta escena finalmente opto valorar peli forma positivo</td>\n",
       "      <td>REGULAR</td>\n",
       "      <td>REGULAR</td>\n",
       "    </tr>\n",
       "  </tbody>\n",
       "</table>\n",
       "</div>"
      ],
      "text/plain": [
       "                                                                                                                                                                                                                                                                                                                                                                                                                                                                                                                                                                                                                                                                                                                                                                                                                                                                                                                                                                                                                                                                                                                                                                                                                                                                                                                                                                                                                                                                                                                                                                                                                                                                                                                                                                                                                                                                                                                                                                                                                                                                                                                                                                                                                                                                                                                                                                                                             Texto  ... Predicción\n",
       "489                                                                                                                                                                                                                                                                                                                                                                                                                                                                                                                                                                                                                                                                                                                                                                                                                        altura mundo batalla persa espartano transcurrir termópilas fielmente basado cómic persona información objetivo recogido decena webs blogs revista periódico variado vayar subjetivo subjetivo parecer peliculón poner cien subir pulsación soltar chut adrenalina revolucionar endorfina encantar fascinar impactar película perfecto obra maestro cine pedir falla personaje persona cómic impresionante señorial todopoderoso enigmático mitad persona mitad dios conseguido película persona reinona divina muerte lastrar efecto grandiosidad tebeo monstruo grotesco llegar cansar elefante matarile celeridad película colosal identificar historia espartano directamente pedíar película espectáculo hablar fidelidad fotograma gráfico persona persona inspirar realidad realidad alcance paso termópilas cuadro clásico persona añadir iconografía cristiano san sebastián aseteado persona pasar noche huerto persona persona vender maestro treinta moneda plata persona filmar película aprovechar imaginería clásico persona acuchillado espíritu película bélico diálogo efectista mitológico frase contundente lucha sombra secuencia barco arribar costa ver troya cartas iwo jima poder hablar tema oriente occidente protesta irán tratamiento persa mirar paso salir maravillado espectáculo asistir hablar realidad apetecer absolutamente espectáculo sangre violencia homber llamado irritar diverso colectivo hipnotizar completo releer tebeo seguramente volver película bolunto compro espada escudo espartano colgarlo pared casa merecer persona película  ...      BUENA\n",
       "663                                                                                                                                                                                                                                                                                                                                                                                                                                                                                                                                                                                                                                                                                                                                                                                                                                                                                                                                                                                                                                                                         actualidad número comedia hollywood año cuarenta cincuenta resultar realmente entrañabl ingenuidad caracterizar mayoría caso ingenuidad formar campaña publicidad mostrar sueño americano atisbo sordidez corrupción vicio exponente persona suspiros corazón persona retomar intencionadamente camino marcar clásico fábula moderno utópico persona persona joven prometedor empresario punto cerrar negocio vida trastocar completamente predicción horóscopo cumplir acudir vecino persona busca consejo finalmente persona buscar desesperadamente editorial revista horóscopo cerrar contrato persona plantear película homenaje revista fotonovela publicación idilio realmente existir aires año cincuenta persona suspiros corazón arranque prometedor historia perder fuelle abundante cine idea inicial saber desarrollar plasmar film persona ir mano ingenuidad terminar convertir cinta pastel empalagoso apto diabético altibajo ritmo escena llegar provocar vergüenza ajeno enfrentamiento viejo combatiente exiliado italiano español interpretación correcto destacar desgraciadamente motivo persona forzado debutante persona soltura realizar interpretación natural fresco suspiros corazón premisa desgraciadamente saber plasmar desarrollar adecuadamente película haciéndola previsible ligeramente aburrido  ...       MALA\n",
       "531                                                                                                                                                                                                                                                                                                                                                                                                                                                                                                                                                                                                                                                                                                                                                                                                                                                                                                                                                                                                                                                                                                                                                                                                                                                                                                                                                                     película irregular persona presentar mezcla mundo real literario interesante colocar propuesta cinematográfico destacable abanico director persona actor encantar volver demostrar vena cómico falta excelente papel show truman olvidate mí\"o the majestic número encarnar doble personaje alternar vida cotidiano detective protagonista libro comenzar leer extraño conexión encontrar persona encandilar copa candyman acérrimo género fantástico terror interpretar mujer persona punto destacar fotografía persona presentar atmósfera momento real narrado novela dotar estética comic recordar city guión complejo momento hacer espectador estar entregar completamente película recaer edulcoramiento público moralina haber él evitar dejar gracia satisfacer espectador número casualidad juego guionista persona cifra conformar laberinto misterio circunstancia traer cabeza persona definitiva número presentar película destacable punto interesante intérprete dosis cine hacer delicia amante suspense thriller persona  ...    REGULAR\n",
       "155  escuché leer persona rodar escena acción verosímil echar vistazo heat persona cinta equiparable persona miami sentido poder convenir bala tiroteo parecer sonar desarrollar él rastro exageración cine disparar escopeta cañón recortado mano portador tiemble pulso bala malo refrescar cogote oponente imprudente acción guión tipo trabajo soler adscribir él convención cinta acción heat considerar western urbano planteado pulso coloso persona argumento persona atípico persona asesino sueldo persona taxista coincidir vehículo noche ajetreo laboral guión ambos superar creces plana original historia persona miami basado personaje serie persona productor ejecutivo margen emplear nombre agente persona crockett persona título serie cinta producción televisivo creado persona estética persona difuminar paralelismo serie compartir lujo ambiente miami miami retratado serie visto poder parecer yo pelín caspós pese aclamado resultar año libre adaptación persona sobresalir peculiar fotografía nocturno marcado grano pantalla pudir disfrutar persona cintar persona comenzar experimentar técnica digital posibilidad adicional brindada rodaje escena nocturno panorámica miami rodado noche cerrado ofrecer belleza centelleante reseñable escaso acción cinta concentrado extenso metraje medio rúbrica particular persona hablar principio fallar juicio ocurrir nudo historia centrar él desarrollar infiltración policía imbricado red criminal dotado potente herramienta contraespionaje detallar complejidad misión calibre persona profundizar identidad agente contaminar desarrollo trama resultar lento momento explicado cinta comenzar muerte agente infiltrado cuerpo policial distinto persona persona chivatazo procedente agencia seguridad implicado desenlace policía miami retomir compañero caído quedar resuelto preocupante asunto chivatazo labor actoral persona convencer carismático persona persona mostrar eficaz cerebral rico sorprender contada aparición persona malo contenido destacar sensual presencia bello gong elección musical resultar acertado acompañar secuencia nocturno miami localización haití cuba definitiva película envoltorio contenido comparado género similar cinta persona superar medio gracias estilo personal reconocible historia contar citar ejemplo infinitamente mejor cinta policiaco basado guión persona  ...    REGULAR\n",
       "457                                              festival persona sonar fuerza producción lejano corea sur bong joon-ho responsable destacado memories murder ver presentar ocasión poder parecer monster-movie vida publicitado comparándola directamente cartel alien tiburón experiencia the host dista peli setenta diferencia enfoque oriental hollywoodiense evidentemente acostumbrado obvio ritmo cinta cita cine ojo rasgado mínimo extraño decir lento ceñimos idea lar concepto dinámico trepidante recitar cartel comparándolar obra maestro the host cadencia pausado anómala difícil describir fácilmente identificable seguidor cine zona criatura aparecer pleno luz sol olvidar tensión dramático centrado monstruo deslizar desarrollo derrotero síntomar evidente encontrar sentido humor manejar complicar seguir carcajada sonar sala deber probablemente ridícula resultar situación cómico factor filme hacer irremediablemente aburrido momento evitar sentir yo ajeno forma contar historia proponer obstante margen ausencia efectismo estupefacción generar personaje verdadero tiro película autentico interés exactamente crítica social ataque directo política norteamericano tipo dudas verdadero objetivo director ocurrir godzilla joon-ho utilizar pretexto monstruo mutagénico esgrimir sátira político denuncia brava símil guerra irak ataque preventivo antiterrorista claro base militar verter producto químico río provocar desgracia forma pez mutante escena rememorar entrenamiento cia gente persona apoyo inicial sadam sembrar río desperdicio cosechar monstruo persona alimaña pleno apogeo castigar nativo indicio absurdo deducir virus peligroso comunidad internacional arma destrucción masivo relativo pasaje absolutamente genial secuencia médico militar americano evidencia virus comportamiento protagonista finalmente intervenir país montar pollo acabar solucionar civil sufrir consecuencia disculpa final presidente íntegramente reveladora mensaje sumado presentación familia cualquiera unido pese diferencia frente adversidad distancia filme estilo opinión superar barrera inmenso distancia intercultural miembro familia desquiciado idealidad defender saber él valor honestidad grandeza modelo persona sorprendente anti-hollywood olvidar venturós concepción artístico puesta escena finalmente opto valorar peli forma positivo  ...    REGULAR\n",
       "\n",
       "[5 rows x 3 columns]"
      ]
     },
     "execution_count": 73,
     "metadata": {
      "tags": []
     },
     "output_type": "execute_result"
    }
   ],
   "source": [
    "pd.DataFrame({\n",
    "    'Texto':X_test,\n",
    "    'Valoracion':y_test,\n",
    "    'Predicción':prediccion\n",
    "}).sample(5)"
   ]
  },
  {
   "cell_type": "markdown",
   "metadata": {
    "id": "owV1TWM-ei1b"
   },
   "source": [
    "Exactitud del modelo\n",
    "(Núm. predicciones correctas / Total de muestras)"
   ]
  },
  {
   "cell_type": "code",
   "execution_count": 74,
   "metadata": {
    "colab": {
     "base_uri": "https://localhost:8080/"
    },
    "id": "6_4x2N2wei1c",
    "outputId": "4389d05a-9423-45f3-f286-a319f3777356"
   },
   "outputs": [
    {
     "name": "stdout",
     "output_type": "stream",
     "text": [
      "Exactitud:  0.6099656357388317\n"
     ]
    }
   ],
   "source": [
    "from sklearn.metrics import accuracy_score\n",
    "\n",
    "# Exactitud (accuracy) <> Precisón  \n",
    "print('Exactitud: ', accuracy_score(y_test, prediccion))"
   ]
  },
  {
   "cell_type": "markdown",
   "metadata": {
    "id": "qQdClhTrei1e"
   },
   "source": [
    "Matriz de confusión (predicción -columnas- frente a etiquetas reales -filas-)"
   ]
  },
  {
   "cell_type": "code",
   "execution_count": 75,
   "metadata": {
    "colab": {
     "base_uri": "https://localhost:8080/"
    },
    "id": "gBrgNqBRei1f",
    "outputId": "182e3772-126a-49ef-fbaa-414b17f9c46a"
   },
   "outputs": [
    {
     "data": {
      "text/plain": [
       "['BUENA', 'MALA', 'REGULAR']"
      ]
     },
     "execution_count": 75,
     "metadata": {
      "tags": []
     },
     "output_type": "execute_result"
    }
   ],
   "source": [
    "# Chequeamos el orden de las etiquetas en el modelo\n",
    "labels = list(modelSVC_TfIdf.classes_)\n",
    "labels"
   ]
  },
  {
   "cell_type": "code",
   "execution_count": 76,
   "metadata": {
    "colab": {
     "base_uri": "https://localhost:8080/",
     "height": 143
    },
    "id": "00xj1_thei1g",
    "outputId": "6a61e44a-5be0-4c46-b8e5-7270267e8220"
   },
   "outputs": [
    {
     "data": {
      "text/html": [
       "<div>\n",
       "<style scoped>\n",
       "    .dataframe tbody tr th:only-of-type {\n",
       "        vertical-align: middle;\n",
       "    }\n",
       "\n",
       "    .dataframe tbody tr th {\n",
       "        vertical-align: top;\n",
       "    }\n",
       "\n",
       "    .dataframe thead th {\n",
       "        text-align: right;\n",
       "    }\n",
       "</style>\n",
       "<table border=\"1\" class=\"dataframe\">\n",
       "  <thead>\n",
       "    <tr style=\"text-align: right;\">\n",
       "      <th></th>\n",
       "      <th>BUENA_true</th>\n",
       "      <th>MALA_true</th>\n",
       "      <th>REGULAR_true</th>\n",
       "    </tr>\n",
       "  </thead>\n",
       "  <tbody>\n",
       "    <tr>\n",
       "      <th>BUENA_true</th>\n",
       "      <td>284</td>\n",
       "      <td>29</td>\n",
       "      <td>82</td>\n",
       "    </tr>\n",
       "    <tr>\n",
       "      <th>MALA_true</th>\n",
       "      <td>59</td>\n",
       "      <td>253</td>\n",
       "      <td>83</td>\n",
       "    </tr>\n",
       "    <tr>\n",
       "      <th>REGULAR_true</th>\n",
       "      <td>126</td>\n",
       "      <td>75</td>\n",
       "      <td>173</td>\n",
       "    </tr>\n",
       "  </tbody>\n",
       "</table>\n",
       "</div>"
      ],
      "text/plain": [
       "              BUENA_true  MALA_true  REGULAR_true\n",
       "BUENA_true           284         29            82\n",
       "MALA_true             59        253            83\n",
       "REGULAR_true         126         75           173"
      ]
     },
     "execution_count": 76,
     "metadata": {
      "tags": []
     },
     "output_type": "execute_result"
    }
   ],
   "source": [
    "from sklearn.metrics import confusion_matrix\n",
    "\n",
    "cm=confusion_matrix(y_test, prediccion)\n",
    "pd.DataFrame(cm, index=('BUENA_true','MALA_true', 'REGULAR_true'), columns=('BUENA_true','MALA_true', 'REGULAR_true'))\n",
    "#filas: True, columnas: Prediction"
   ]
  },
  {
   "cell_type": "markdown",
   "metadata": {
    "id": "OVDKONZxei1h"
   },
   "source": [
    "Podemos ver un informe más completo del clasificador con la métrica `classification_report`:"
   ]
  },
  {
   "cell_type": "code",
   "execution_count": 77,
   "metadata": {
    "colab": {
     "base_uri": "https://localhost:8080/"
    },
    "id": "xLw5U1h1ei1h",
    "outputId": "ff606467-00e1-47c9-8612-65036badf6ec"
   },
   "outputs": [
    {
     "name": "stdout",
     "output_type": "stream",
     "text": [
      "              precision    recall  f1-score   support\n",
      "\n",
      "       BUENA       0.61      0.72      0.66       395\n",
      "        MALA       0.71      0.64      0.67       395\n",
      "     REGULAR       0.51      0.46      0.49       374\n",
      "\n",
      "    accuracy                           0.61      1164\n",
      "   macro avg       0.61      0.61      0.61      1164\n",
      "weighted avg       0.61      0.61      0.61      1164\n",
      "\n"
     ]
    }
   ],
   "source": [
    "from sklearn.metrics import classification_report\n",
    "\n",
    "print(classification_report(y_test, prediccion))"
   ]
  },
  {
   "cell_type": "markdown",
   "metadata": {
    "id": "G1_R7RHVei1i"
   },
   "source": [
    "Área bajo la curva ROC:  \n",
    "Para calcular el área bajo la curva ROC (AUC) es necesario obtener la probabilidad de salida del clasificador con `predict_proba`"
   ]
  },
  {
   "cell_type": "code",
   "execution_count": 78,
   "metadata": {
    "colab": {
     "base_uri": "https://localhost:8080/"
    },
    "id": "IVHElN3W_F6j",
    "outputId": "31505cff-595d-468e-e18a-99fb7860d60a"
   },
   "outputs": [
    {
     "data": {
      "text/plain": [
       "0.8388833105627891"
      ]
     },
     "execution_count": 78,
     "metadata": {
      "tags": []
     },
     "output_type": "execute_result"
    }
   ],
   "source": [
    "prediccion_prob = modelSVC_TfIdf.predict_proba(vect_TfIdf.transform(X_test))\n",
    "\n",
    "# Etiqueta: 'BUENA'\n",
    "#la primera columna corresponde a la etiqueta 'BUENA'\n",
    "#Es necesario convertir los True Labels a un array lógico (1 para etiqueta REGULAR)\n",
    "roc_auc_score((y_test=='BUENA'), prediccion_prob[:,labels.index('BUENA')], multi_class='ovr')"
   ]
  },
  {
   "cell_type": "code",
   "execution_count": 79,
   "metadata": {
    "colab": {
     "base_uri": "https://localhost:8080/"
    },
    "id": "6b8GRpms_F6n",
    "outputId": "3bfc3a3e-b5eb-4778-9a69-63ee3d3f7438"
   },
   "outputs": [
    {
     "data": {
      "text/plain": [
       "0.8660960313410478"
      ]
     },
     "execution_count": 79,
     "metadata": {
      "tags": []
     },
     "output_type": "execute_result"
    }
   ],
   "source": [
    "# Etiqueta: 'MALA'\n",
    "#la segunda columna corresponde a la etiqueta 'MALA'\n",
    "\n",
    "#Es necesario convertir los True Labels a un array lógico (1 para etiqueta MALA)\n",
    "roc_auc_score((y_test=='MALA'), prediccion_prob[:,labels.index('MALA')], multi_class='ovr')"
   ]
  },
  {
   "cell_type": "code",
   "execution_count": 80,
   "metadata": {
    "colab": {
     "base_uri": "https://localhost:8080/"
    },
    "id": "r65R9k5u_F6o",
    "outputId": "cd99d759-1130-410f-dd3e-3fc5b691b52a"
   },
   "outputs": [
    {
     "data": {
      "text/plain": [
       "0.7007818317200297"
      ]
     },
     "execution_count": 80,
     "metadata": {
      "tags": []
     },
     "output_type": "execute_result"
    }
   ],
   "source": [
    "# Etiqueta: 'REGULAR'\n",
    "#Es necesario convertir los True Labels a un array lógico (1 para etiqueta REGULAR)\n",
    "roc_auc_score((y_test=='REGULAR'), prediccion_prob[:,labels.index('REGULAR')], multi_class='ovr')"
   ]
  },
  {
   "cell_type": "code",
   "execution_count": 81,
   "metadata": {
    "colab": {
     "base_uri": "https://localhost:8080/",
     "height": 349
    },
    "id": "lcsIgH7aei1j",
    "outputId": "9128e2d4-2d04-474a-fdbb-54148441d387"
   },
   "outputs": [
    {
     "data": {
      "image/png": "[encoded data removed]",
      "text/plain": [
       "<Figure size 720x360 with 1 Axes>"
      ]
     },
     "metadata": {
      "image/png": {
       "height": 332,
       "width": 676
      },
      "needs_background": "light",
      "tags": []
     },
     "output_type": "display_data"
    }
   ],
   "source": [
    "# Curvas ROC\n",
    "plot_auc(y_test, prediccion_prob, labels, \"Tf-Idf + RBF SVC\")"
   ]
  },
  {
   "cell_type": "markdown",
   "metadata": {
    "id": "R6R0yDIKh2gZ"
   },
   "source": [
    "**TF-IDF + RBF SVC (optimizado):**\n",
    "Es un poco mejor que Naïve Bayes en rendimiento pero mucho más costoso de entrenar. **Hasta el momento es el que mejores resultados ha obtenido.**"
   ]
  },
  {
   "cell_type": "markdown",
   "metadata": {
    "id": "occasional-contractor"
   },
   "source": [
    "## **Extracción de Word embeddings**\n",
    "Definimos una clase objeto de tipo `streamed iterable` para recorrer las críticas. Después lo usaremos para generar los modelos para generar los embeddings.\n",
    "\n",
    "Se calcularán varios tipos de Word Embeddings: \n",
    "- Un tipo basado en vectores de documento para usarlo en los mismos tipos de clasificadores que para las matrices sparse.\n",
    "- Otro tipo de embeddings usando la librería `Keras` para usarlos sobre un modelo CNN. \n",
    "Aplicamos una primera capa de embeddings para convertir las palabras en vectores y luego entrenamos con una red CNN (seleccionando el max-pooling de cada filtro para obtener un vector por tweet).\n",
    "Para calcular los embeddings usamos:  \n",
    " - Una capa de embeddings propia sobre las criticas.\n",
    " - Transfer Learning con los word embeddings de spaCy."
   ]
  },
  {
   "cell_type": "code",
   "execution_count": 201,
   "metadata": {
    "id": "9n7TTxJLoAlT"
   },
   "outputs": [],
   "source": [
    "# Se define el iterador como una clase, \n",
    "# se diferencia de un simple generator en que se puede reiniciar\n",
    "class PreprocesaCriticasClass(object):\n",
    "    \"\"\"Pre-procesa el corpus de críticas con la función de la librería gensim\n",
    "    Entrada: directorio de críticas\n",
    "    Salida: iterador sobre las críticas (como lista de tokens)\"\"\"\n",
    "    def __init__(self, dirname):\n",
    "        # variable interna de la clase para el dir\n",
    "        self.dirname = dirname\n",
    " \n",
    "    # Necesario definir metodo __iter__\n",
    "    def __iter__(self):\n",
    "        for c in parse_folder(self.dirname): # aqui se reinicia cada vez (empieza desde el principio)\n",
    "          # Usamos mejor el criterio de usar el resumen si este es mayor que la crítica,\n",
    "          if len(c[1]) > len(c[2]):\n",
    "            yield normaliza(c[1], lemas=True)\n",
    "          # Y para los casos en los que ambas esten vacías se eliminarían\n",
    "          elif len(c[2]) == 0:\n",
    "            continue   # Saltamos la(s) vacía(s)\n",
    "          else:\n",
    "            yield normaliza(c[2], lemas=True)"
   ]
  },
  {
   "cell_type": "markdown",
   "metadata": {
    "id": "Osn9dpudABvg"
   },
   "source": [
    "### **Modelos basados en word embeddings**\n",
    "Se probarán dos modelos cada uno de ellos con un tipo de matriz embeddings diferente.\n",
    "- Promediado de embeddings por documento: Paragraph Vectors + clasificador\n",
    "- Red CNN con word embeddings de Spacy.\n"
   ]
  },
  {
   "cell_type": "markdown",
   "metadata": {
    "id": "rl_8JnjBABvk"
   },
   "source": [
    "#### **Embeddings basados en ponderación de documento: Paragraph Vectors**\n",
    "\n",
    "\n",
    "Calculamos el vector PV de cada critica para entrenar el clasificador con el modelo `Doc2vec`, calculamos los vectores PV sobre el conjunto de test.  \n",
    "Referencia: https://radimrehurek.com/gensim/models/doc2vec.html"
   ]
  },
  {
   "cell_type": "code",
   "execution_count": 202,
   "metadata": {
    "id": "ZemiPVF5uFZr"
   },
   "outputs": [],
   "source": [
    "import gensim\n",
    "import numpy as np\n",
    "\n",
    "# Obtenemos un listado de los tweets de entrenamiento tokenizados\n",
    "def word_tokenize(text):\n",
    "    return [token.text for token in nlp.tokenizer(text)]"
   ]
  },
  {
   "cell_type": "code",
   "execution_count": 203,
   "metadata": {
    "id": "KTAW6zO0uFZs"
   },
   "outputs": [],
   "source": [
    "# Aplicamos modelo PV-DM\n",
    "from gensim.models.doc2vec import TaggedDocument\n",
    "\n",
    "# Cálculo de los vectores de palabras Word2Vec\n",
    "# Instanciamos un objeto para nuestro directorio\n",
    "criticas = PreprocesaCriticasClass(path)\n",
    "\n",
    "X_train = criticas\n",
    "X_tagged_train = [TaggedDocument(word_tokenize(text), [str(index)]) for index, text in enumerate(X_train)]"
   ]
  },
  {
   "cell_type": "code",
   "execution_count": 204,
   "metadata": {
    "colab": {
     "base_uri": "https://localhost:8080/"
    },
    "id": "dHRLodfHuFZt",
    "outputId": "7c4d212f-1774-43d8-d5b2-06e8a9d04217"
   },
   "outputs": [
    {
     "data": {
      "text/plain": [
       "TaggedDocument(words=['gustar', 'cine', 'masa', 'pelicula', 'ver', 'mundo', 'parecer', 'coñazo', 'insufribl', 'porqué', 'prota', 'tonto', 'culo', 'suerte', 'peli', 'lograr', 'vencer', 'convertir', 'listo', 'chorrada', 'comienzo', 'pelicula', 'esfumar', 'arte', 'magia', 'volver', 'maduro', 'inteligente', 'peli', 'persona', 'huir', 'huir', 'dar', 'tiro', 'cabron', 'meter', 'par', 'actor', 'echar', 'él', 'comer', 'aparte', 'niña', 'viejo', 'metido', 'cuerpo', 'niña', 'ver', 'él', 'hablar', 'version', 'original', 'dar', 'él', 'freaks', 'cine', 'creerar', 'gracia', 'nena', 'puta', 'madre', 'causar', 'pavor', 'cria', 'persona', 'maduro', 'horroroso', 'niño', 'niño', 'ver', 'él', 'rol', 'asustar', 'hijo', 'adolescente', 'cruise', 'subnormal', 'dar', 'él', 'bofetada', 'ver', 'hueso', 'mano', 'fiel', 'reflejo', 'denominar', 'manipulacion', 'militar', 'chico', 'matar', 'bicho', 'ningun', 'arma', 'hale', 'loco', 'pensar', 'venga', 'saco', 'quereis', 'decir', 'fanatismo', 'locura', 'alguien', 'querer', 'luchar', 'medio', 'muerte', 'seguro', 'jode', 'sobremanera', 'pelicula', 'aparecer', 'mongo', 'abuelo', 'familia', 'salir', 'dio', 'vieja', 'aparecer', 'traje', 'domingo', 'maquillada', 'sinsorgadar', 'falta', 'persona', 'volver', 'exmujer', 'mundo', 'tranquilo', 'contar', 'peli', 'pasar', 'peli', 'acabar', 'restar', 'misterio', 'bodrio', 'persona', 'paso', 'convertir', 'director', 'efecto', 'especial', 'contar', 'historia', 'distei', 'norteamericano', 'guardar', 'compostura', 'gritar', 'momento', 'dificil', 'sensato', 'tranquilizar', 'él', 'discutir', 'chorrada', 'puta', 'peli', 'parar', 'gritar', 'pegar', 'él', 'gracia', 'comienzo', 'peli', 'suelo', 'empezar', 'resquebrajar', 'él', 'gente', 'quedar', 'mirar', 'pasar', 'joder', 'estario', 'correr', 'puta', 'escondiéndome', 'ver', 'bicho', 'lanzar', 'rayo', 'machacar', 'dios', 'esconder', 'seguir', 'hablar', 'mierda', 'queriar', 'conseguir', 'pagaser', 'entrada', 'cine', 'prima', 'bajare', 'internet', 'calidad', 'peli', 'aceptable', 'pasar', 'él', 'palante', 'mando', 'forward', 'mano', 'morir'], tags=['0'])"
      ]
     },
     "execution_count": 204,
     "metadata": {
      "tags": []
     },
     "output_type": "execute_result"
    }
   ],
   "source": [
    "X_tagged_train[0]"
   ]
  },
  {
   "cell_type": "code",
   "execution_count": 205,
   "metadata": {
    "id": "quVeDWp1uFZu"
   },
   "outputs": [],
   "source": [
    "model_train_dm = gensim.models.Doc2Vec(X_tagged_train, vector_size=50, \n",
    "                                 alpha=0.025, \n",
    "                                 min_alpha=0.025,\n",
    "                                 window=5, min_count=1, workers=4,\n",
    "                                 dm=1, dbow_words=0, dm_concat=0) #modelo DM: distributed memory\n",
    "model_train_dbow = gensim.models.Doc2Vec(X_tagged_train, vector_size=50,\n",
    "                                 window=5, min_count=1, workers=4,\n",
    "                                 alpha=0.025, \n",
    "                                 min_alpha=0.025,\n",
    "                                 dm=0, dbow_words=1, dm_concat=0) ##modelo DBOW: distributed bag of words"
   ]
  },
  {
   "cell_type": "code",
   "execution_count": 206,
   "metadata": {
    "colab": {
     "base_uri": "https://localhost:8080/"
    },
    "id": "D-TG7KIfuFZv",
    "outputId": "39ab02a6-e01e-4bf9-ccb2-c328a4c6df21"
   },
   "outputs": [
    {
     "data": {
      "text/plain": [
       "<gensim.models.doc2vec.Doc2Vec at 0x7f735e5321d0>"
      ]
     },
     "execution_count": 206,
     "metadata": {
      "tags": []
     },
     "output_type": "execute_result"
    }
   ],
   "source": [
    "model_train_dm.train(X_tagged_train, total_examples=len(X_tagged_train), epochs=200)\n",
    "model_train_dm"
   ]
  },
  {
   "cell_type": "code",
   "execution_count": 207,
   "metadata": {
    "colab": {
     "base_uri": "https://localhost:8080/"
    },
    "id": "CGZQK4HwuFZv",
    "outputId": "3e58baaf-91ed-4318-b610-f908726c75a5"
   },
   "outputs": [
    {
     "data": {
      "text/plain": [
       "<gensim.models.doc2vec.Doc2Vec at 0x7f735e5320d0>"
      ]
     },
     "execution_count": 207,
     "metadata": {
      "tags": []
     },
     "output_type": "execute_result"
    }
   ],
   "source": [
    "model_train_dbow.train(X_tagged_train, total_examples=len(X_tagged_train), epochs=200)\n",
    "model_train_dbow"
   ]
  },
  {
   "cell_type": "code",
   "execution_count": 208,
   "metadata": {
    "id": "60hVtA5WHTE8"
   },
   "outputs": [],
   "source": [
    "model_train_dm.save(\"model_train_dm_Doc2Vec.model\")\n",
    "model_train_dbow.save(\"model_train_dbow_Doc2Vec.model\")"
   ]
  },
  {
   "cell_type": "code",
   "execution_count": 209,
   "metadata": {
    "id": "ARYwPwPKIfpZ"
   },
   "outputs": [],
   "source": [
    "#from gensim.models import Doc2Vec\n",
    "\n",
    "#model_train_dm = Doc2Vec.load(\"model_train_dm_Doc2Vec.model\")\n",
    "#model_train_dbow = Doc2Vec.load(\"model_train_dbow_Doc2Vec.model\")"
   ]
  },
  {
   "cell_type": "code",
   "execution_count": 210,
   "metadata": {
    "colab": {
     "base_uri": "https://localhost:8080/"
    },
    "id": "ZtYpj7IIEKfe",
    "outputId": "f36bb6c0-ba06-45d1-cf9b-cf71fc4e33fe"
   },
   "outputs": [
    {
     "data": {
      "text/plain": [
       "2714"
      ]
     },
     "execution_count": 210,
     "metadata": {
      "tags": []
     },
     "output_type": "execute_result"
    }
   ],
   "source": [
    "len(model_train_dm.docvecs.doctags)"
   ]
  },
  {
   "cell_type": "code",
   "execution_count": 211,
   "metadata": {
    "colab": {
     "base_uri": "https://localhost:8080/"
    },
    "id": "CWRPTLnjEK75",
    "outputId": "bb596c55-1344-40ef-9b46-7c5fe8eaa52e"
   },
   "outputs": [
    {
     "data": {
      "text/plain": [
       "2714"
      ]
     },
     "execution_count": 211,
     "metadata": {
      "tags": []
     },
     "output_type": "execute_result"
    }
   ],
   "source": [
    "len(model_train_dbow.docvecs.doctags)"
   ]
  },
  {
   "cell_type": "code",
   "execution_count": 212,
   "metadata": {
    "colab": {
     "base_uri": "https://localhost:8080/"
    },
    "id": "AxcI008KuFZx",
    "outputId": "8935638d-88a4-4e26-b484-6ca2ec91c4d2"
   },
   "outputs": [
    {
     "data": {
      "text/plain": [
       "array([ 2.52207   ,  0.24627434,  0.8898306 ,  2.6328547 ,  2.7931478 ,\n",
       "       -2.5117583 ,  4.3456206 , -1.7919255 , -4.311055  ,  1.514271  ,\n",
       "        7.0291934 ,  0.22594059, -0.360565  , -7.4822454 , -1.6440045 ,\n",
       "        2.782618  ,  3.3576465 ,  2.6607711 , -1.2735974 ,  2.7245846 ,\n",
       "       -0.5224972 , -2.8247545 , -1.781163  ,  1.279977  , -0.19365254,\n",
       "       -6.382553  , -4.053991  ,  0.08554255, -4.600325  ,  0.14832534,\n",
       "        1.0559176 , -4.761608  , -0.04278255,  7.18369   , -2.0456703 ,\n",
       "        4.326241  ,  0.44130713, -5.496434  ,  3.991414  ,  1.6440227 ,\n",
       "        2.6733723 , -1.5467721 ,  6.537591  , -4.3846073 , -2.5222254 ,\n",
       "       -0.69150716, -2.012154  , -0.85578626, -2.7740545 , -7.476388  ],\n",
       "      dtype=float32)"
      ]
     },
     "execution_count": 212,
     "metadata": {
      "tags": []
     },
     "output_type": "execute_result"
    }
   ],
   "source": [
    "#Una vez entrenado podemos ver el vector de cada documento\n",
    "model_train_dm.docvecs[0]"
   ]
  },
  {
   "cell_type": "code",
   "execution_count": 213,
   "metadata": {
    "colab": {
     "base_uri": "https://localhost:8080/"
    },
    "id": "M-MDquNsuFZy",
    "outputId": "1a865c2e-87fb-440e-b37c-2defdb12a879"
   },
   "outputs": [
    {
     "data": {
      "text/plain": [
       "array([ 0.62847126, -0.9547305 , -0.6294629 , -0.7748415 , -0.59885657,\n",
       "       -0.57715446,  0.191851  , -0.08171052, -1.329821  ,  0.03753147,\n",
       "        0.82934487, -1.040506  , -0.27228224, -0.70631826,  0.84000707,\n",
       "       -1.0033847 , -1.0458035 ,  0.10856767, -0.15673214, -0.449343  ,\n",
       "        0.6249914 ,  0.55682606, -0.4818451 , -0.7312114 ,  0.59364533,\n",
       "        0.7762596 , -0.3993619 ,  0.3976419 , -0.40001526, -0.46394253,\n",
       "       -0.8980827 , -0.8228394 , -0.19516219, -0.86137545, -0.92849475,\n",
       "       -0.297351  , -1.1062225 , -0.24479173,  0.42446205,  0.51340336,\n",
       "       -1.2598684 , -1.0724064 , -0.2677345 , -1.320622  ,  0.875039  ,\n",
       "       -0.8443271 , -0.49601078,  0.21124074,  0.20615415,  1.0612137 ],\n",
       "      dtype=float32)"
      ]
     },
     "execution_count": 213,
     "metadata": {
      "tags": []
     },
     "output_type": "execute_result"
    }
   ],
   "source": [
    "#dMem - también podemos ver los word vectors de cada palabra con\n",
    "model_train_dm.wv['director']"
   ]
  },
  {
   "cell_type": "code",
   "execution_count": 214,
   "metadata": {
    "colab": {
     "base_uri": "https://localhost:8080/"
    },
    "id": "mkibZU3qK5PV",
    "outputId": "99e88444-0899-4878-a8d0-208860c1e732"
   },
   "outputs": [
    {
     "data": {
      "text/plain": [
       "array([ 0.25261158,  0.04691148,  0.16887784, -0.18049547,  0.3579212 ,\n",
       "        0.23756583,  0.4525318 , -0.04403593, -0.30832523,  0.23307621,\n",
       "        0.22852321, -0.2812131 , -0.19572218, -1.1397411 ,  0.35246634,\n",
       "        0.06993783, -0.23352799, -0.19184625,  0.61637044,  0.08670811,\n",
       "        0.00271093,  0.01730164, -0.5691979 ,  0.14261296,  0.23333432,\n",
       "       -0.44092053, -0.48030224,  0.33548987, -0.09279849,  0.5820556 ,\n",
       "        0.17798153, -0.15110858, -0.06894781,  0.13600765,  0.06627364,\n",
       "       -0.1342845 , -0.01751128,  0.16751423,  0.23058671,  0.01483676,\n",
       "        0.16932462,  0.19421162, -0.40942144, -0.12045603, -0.09204058,\n",
       "       -0.57040215, -0.26196727, -0.23060133,  0.29131928, -0.0345324 ],\n",
       "      dtype=float32)"
      ]
     },
     "execution_count": 214,
     "metadata": {
      "tags": []
     },
     "output_type": "execute_result"
    }
   ],
   "source": [
    "#dBow - también podemos ver los word vectors de cada palabra con\n",
    "model_train_dbow.wv['director']"
   ]
  },
  {
   "cell_type": "markdown",
   "metadata": {
    "id": "twGdeXvguFZz"
   },
   "source": [
    "Sólo guarda los vectores de palabra si se usa el modelo *distributed bag of words* con la opción dm=0"
   ]
  },
  {
   "cell_type": "code",
   "execution_count": 215,
   "metadata": {
    "id": "YLPemCtnuFZ0"
   },
   "outputs": [],
   "source": [
    "#Nos quedamos con el modelo ya entrenado en ambos casos para reducir el tamaño en memoria\n",
    "model_train_dm.delete_temporary_training_data(keep_doctags_vectors=True, keep_inference=True)\n",
    "model_train_dbow.delete_temporary_training_data(keep_doctags_vectors=True, keep_inference=True)"
   ]
  },
  {
   "cell_type": "markdown",
   "metadata": {
    "id": "rzqvptE0CQOE"
   },
   "source": [
    "##### **Seleccion de clasificador para Paragraph Vectors**\n",
    "Vamos a usar como características de entrada el vector PV de cada crítica.  \n",
    "Hemos definido que este vector tiene 50 dimensiones.\n",
    "\n",
    "Para ver el rendimiento del modelo usamos el conjunto de test. Primero transformamos el conjunto de test a su modelo PV mediante el vectorizador aprendido en TRAIN y aplicamos sobre el modelo clasificador entrenado:"
   ]
  },
  {
   "cell_type": "code",
   "execution_count": 216,
   "metadata": {
    "id": "VJ8-XxlguFZo"
   },
   "outputs": [],
   "source": [
    "# creamos los modelos\n",
    "modelos = [('Logistic Regression', LogisticRegression()),\n",
    "           ('Naive Bayes', GaussianNB()),\n",
    "           ('Linear SVM', SGDClassifier(loss='hinge', max_iter=10000, tol=1e-5)),\n",
    "           ('RFB SVM', SVC(gamma='scale', C=2))]"
   ]
  },
  {
   "cell_type": "code",
   "execution_count": 217,
   "metadata": {
    "id": "fwk8uCVDuFZ_"
   },
   "outputs": [],
   "source": [
    "#Construimos los vectores de entrenamiento y test con doc vectors\n",
    "#estamos usando vectores de 50 dimensiones\n",
    "#Inicializamos la matriz de características de entrada para el conjunto de entrenamiento\n",
    "doc_vect_train=np.zeros((len(resumen), 50))"
   ]
  },
  {
   "cell_type": "markdown",
   "metadata": {
    "id": "83KMkwejC_Pv"
   },
   "source": [
    "**Para PV calculado con Distributed Memory**"
   ]
  },
  {
   "cell_type": "code",
   "execution_count": 218,
   "metadata": {
    "id": "gJuQBcaduFaA"
   },
   "outputs": [],
   "source": [
    "for i in range(len(model_train_dm.docvecs)):\n",
    "    doc_vect_train[i,:]=model_train_dm.docvecs[i] #los vectores model_pv.docvecs[str(i)] NO funcionan"
   ]
  },
  {
   "cell_type": "code",
   "execution_count": 219,
   "metadata": {
    "colab": {
     "base_uri": "https://localhost:8080/"
    },
    "id": "PHP4hYvcuFaB",
    "outputId": "2b33b637-479e-4d01-bb3a-2ed14f933c8b"
   },
   "outputs": [
    {
     "data": {
      "text/plain": [
       "(2714, 50)"
      ]
     },
     "execution_count": 219,
     "metadata": {
      "tags": []
     },
     "output_type": "execute_result"
    }
   ],
   "source": [
    "doc_vect_train.shape"
   ]
  },
  {
   "cell_type": "code",
   "execution_count": 220,
   "metadata": {
    "colab": {
     "base_uri": "https://localhost:8080/"
    },
    "id": "QKD1-3sGuFaC",
    "outputId": "84ff3db2-6425-470b-aed5-cf3669f87eb5"
   },
   "outputs": [
    {
     "data": {
      "text/plain": [
       "(1164, 50)"
      ]
     },
     "execution_count": 220,
     "metadata": {
      "tags": []
     },
     "output_type": "execute_result"
    }
   ],
   "source": [
    "#Matriz de características del conjunto de test\n",
    "#los vectores PV no existen, hay que inferirlos con el modelo dist. Memory\n",
    "doc_vect_test=np.zeros((len(X_test), 50))\n",
    "for i,doc in enumerate(X_test):\n",
    "    doc_vect_test[i,:]=model_train_dm.infer_vector(word_tokenize(doc), steps=150)\n",
    "    \n",
    "doc_vect_test.shape"
   ]
  },
  {
   "cell_type": "code",
   "execution_count": 221,
   "metadata": {
    "colab": {
     "base_uri": "https://localhost:8080/"
    },
    "id": "OlTUE4qfuFaC",
    "outputId": "031cd598-434c-429a-9521-c595bdf260b5"
   },
   "outputs": [
    {
     "name": "stdout",
     "output_type": "stream",
     "text": [
      "Modelo Logistic Regression con características Paragraph Vectors\n",
      "              precision    recall  f1-score   support\n",
      "\n",
      "       BUENA       0.53      0.73      0.62       395\n",
      "        MALA       0.55      0.70      0.62       395\n",
      "     REGULAR       0.48      0.16      0.23       374\n",
      "\n",
      "    accuracy                           0.54      1164\n",
      "   macro avg       0.52      0.53      0.49      1164\n",
      "weighted avg       0.52      0.54      0.49      1164\n",
      "\n",
      "Modelo Naive Bayes con características Paragraph Vectors\n",
      "              precision    recall  f1-score   support\n",
      "\n",
      "       BUENA       0.50      0.64      0.56       395\n",
      "        MALA       0.56      0.60      0.58       395\n",
      "     REGULAR       0.40      0.25      0.31       374\n",
      "\n",
      "    accuracy                           0.50      1164\n",
      "   macro avg       0.49      0.50      0.48      1164\n",
      "weighted avg       0.49      0.50      0.49      1164\n",
      "\n",
      "Modelo Linear SVM con características Paragraph Vectors\n",
      "              precision    recall  f1-score   support\n",
      "\n",
      "       BUENA       0.51      0.61      0.56       395\n",
      "        MALA       0.56      0.63      0.59       395\n",
      "     REGULAR       0.42      0.27      0.33       374\n",
      "\n",
      "    accuracy                           0.51      1164\n",
      "   macro avg       0.50      0.51      0.49      1164\n",
      "weighted avg       0.50      0.51      0.50      1164\n",
      "\n",
      "Modelo RFB SVM con características Paragraph Vectors\n",
      "              precision    recall  f1-score   support\n",
      "\n",
      "       BUENA       0.56      0.68      0.61       395\n",
      "        MALA       0.56      0.68      0.62       395\n",
      "     REGULAR       0.44      0.25      0.32       374\n",
      "\n",
      "    accuracy                           0.54      1164\n",
      "   macro avg       0.52      0.54      0.52      1164\n",
      "weighted avg       0.52      0.54      0.52      1164\n",
      "\n"
     ]
    }
   ],
   "source": [
    "#dMem - entrenamos, predecimos y evaluamos clasificadores con modelos word embeddings \n",
    "for m, clf in modelos:\n",
    "    print('Modelo {} con características Paragraph Vectors'.format(m))\n",
    "    pv_dm_predictions = train_predict_evaluate_model(classifier=clf,\n",
    "                                           train_features=doc_vect_train,\n",
    "                                           train_labels=y_train,\n",
    "                                           test_features=doc_vect_test,\n",
    "                                           test_labels=y_test) "
   ]
  },
  {
   "cell_type": "markdown",
   "metadata": {
    "id": "wuf_J2NQBeeo"
   },
   "source": [
    "No mejoran a los anteriores Sparse TF-IDF"
   ]
  },
  {
   "cell_type": "markdown",
   "metadata": {
    "id": "lPCP9nL-uFaD"
   },
   "source": [
    "**Repetimos con las PV calculados con el modelo DBOW:**"
   ]
  },
  {
   "cell_type": "code",
   "execution_count": 222,
   "metadata": {
    "colab": {
     "base_uri": "https://localhost:8080/"
    },
    "id": "tJ8n4d1MuFaD",
    "outputId": "823ffad8-8a57-4ff8-ac1d-b3c7b80d465d"
   },
   "outputs": [
    {
     "name": "stdout",
     "output_type": "stream",
     "text": [
      "Modelo Logistic Regression con características Paragraph Vectors\n",
      "              precision    recall  f1-score   support\n",
      "\n",
      "       BUENA       0.49      0.85      0.62       395\n",
      "        MALA       0.62      0.56      0.59       395\n",
      "     REGULAR       0.51      0.16      0.24       374\n",
      "\n",
      "    accuracy                           0.53      1164\n",
      "   macro avg       0.54      0.53      0.48      1164\n",
      "weighted avg       0.54      0.53      0.49      1164\n",
      "\n",
      "Modelo Naive Bayes con características Paragraph Vectors\n",
      "              precision    recall  f1-score   support\n",
      "\n",
      "       BUENA       0.40      0.94      0.56       395\n",
      "        MALA       0.67      0.33      0.45       395\n",
      "     REGULAR       0.58      0.05      0.09       374\n",
      "\n",
      "    accuracy                           0.45      1164\n",
      "   macro avg       0.55      0.44      0.36      1164\n",
      "weighted avg       0.55      0.45      0.37      1164\n",
      "\n",
      "Modelo Linear SVM con características Paragraph Vectors\n",
      "              precision    recall  f1-score   support\n",
      "\n",
      "       BUENA       0.47      0.88      0.61       395\n",
      "        MALA       0.64      0.48      0.55       395\n",
      "     REGULAR       0.45      0.14      0.22       374\n",
      "\n",
      "    accuracy                           0.51      1164\n",
      "   macro avg       0.52      0.50      0.46      1164\n",
      "weighted avg       0.52      0.51      0.46      1164\n",
      "\n",
      "Modelo RFB SVM con características Paragraph Vectors\n",
      "              precision    recall  f1-score   support\n",
      "\n",
      "       BUENA       0.49      0.87      0.62       395\n",
      "        MALA       0.63      0.60      0.61       395\n",
      "     REGULAR       0.52      0.12      0.20       374\n",
      "\n",
      "    accuracy                           0.54      1164\n",
      "   macro avg       0.55      0.53      0.48      1164\n",
      "weighted avg       0.55      0.54      0.48      1164\n",
      "\n"
     ]
    }
   ],
   "source": [
    "#Dbow - entrenamos, predecimos y evaluamos clasificadores con modelos word embeddings \n",
    "for i in range(len(model_train_dbow.docvecs)):\n",
    "    doc_vect_train[i,:]=model_train_dbow.docvecs[i]\n",
    "    \n",
    "for i,doc in enumerate(X_test):\n",
    "    doc_vect_test[i,:]=model_train_dbow.infer_vector(word_tokenize(doc), steps=150)\n",
    "\n",
    "for m, clf in modelos:\n",
    "    print('Modelo {} con características Paragraph Vectors'.format(m))\n",
    "    pv_dbow_predictions = train_predict_evaluate_model(classifier=clf,\n",
    "                                           train_features=doc_vect_train,\n",
    "                                           train_labels=y_train,\n",
    "                                           test_features=doc_vect_test,\n",
    "                                           test_labels=y_test)"
   ]
  },
  {
   "cell_type": "markdown",
   "metadata": {
    "id": "aSICTe95MetS"
   },
   "source": [
    "No mejoran a los anteriores Sparse TF-IDF"
   ]
  },
  {
   "cell_type": "markdown",
   "metadata": {
    "id": "m32yvwjwnzDw"
   },
   "source": [
    "#### **Clasificador CNN**\n",
    "Implementemos un clasificador con Convolutional Neural Networks aplicado al análisis de sentimiento en Twitter usando la librería `Keras`.  \n",
    "Aplicamos una primera capa de embeddings para convertir las palabras en vectores y luego entrenamos con una red CNN (seleccionando el max-pooling de cada filtro para obtener un vector por tweet).  \n",
    "Para calcular los embeddings usamos:  \n",
    "- Una capa de embeddings propia sobre los tweets\n",
    "- Transfer Learning con los word embeddings de spaCy (GloVe) \n",
    "\n",
    "Implementado según el modelo planteado en [Convolutional Neural Networks for Sentence Classification](http://arxiv.org/abs/1408.5882)"
   ]
  },
  {
   "cell_type": "code",
   "execution_count": 223,
   "metadata": {
    "id": "yC8mHXMNuTmv"
   },
   "outputs": [],
   "source": [
    "from tensorflow.keras.preprocessing.text import Tokenizer\n",
    "from tensorflow.keras.preprocessing.sequence import pad_sequences"
   ]
  },
  {
   "cell_type": "code",
   "execution_count": 224,
   "metadata": {
    "colab": {
     "base_uri": "https://localhost:8080/"
    },
    "id": "GlWu9Gfly005",
    "outputId": "4db566c8-3f27-4a41-ba52-3a7f46ea5c02"
   },
   "outputs": [
    {
     "name": "stdout",
     "output_type": "stream",
     "text": [
      "\u001b[K     |████████████████████████████████| 44.0MB 70kB/s \n",
      "\u001b[?25h  Building wheel for es-core-news-md (setup.py) ... \u001b[?25l\u001b[?25hdone\n"
     ]
    }
   ],
   "source": [
    "!pip -q install https://github.com/explosion/spacy-models/releases/download/es_core_news_md-3.0.0/es_core_news_md-3.0.0.tar.gz"
   ]
  },
  {
   "cell_type": "code",
   "execution_count": 225,
   "metadata": {
    "id": "s8C7LiUFjV5p"
   },
   "outputs": [],
   "source": [
    "nlp=spacy.load('es_core_news_md')"
   ]
  },
  {
   "cell_type": "markdown",
   "metadata": {
    "id": "rbi8ozaYMgEL"
   },
   "source": [
    "Preparacion del conjunto de datos"
   ]
  },
  {
   "cell_type": "code",
   "execution_count": 292,
   "metadata": {
    "colab": {
     "base_uri": "https://localhost:8080/"
    },
    "id": "jhSQzhHXvroh",
    "outputId": "9f09fdf9-9a55-4742-8ac7-1999a0f623db"
   },
   "outputs": [
    {
     "data": {
      "text/plain": [
       "array([0, 0, 1, 2, 0])"
      ]
     },
     "execution_count": 292,
     "metadata": {
      "tags": []
     },
     "output_type": "execute_result"
    }
   ],
   "source": [
    "#hay que convertir a numérico el conjunto de etiquetas para KerasMAX_SEQUENCE_LENGTH = X_train_CNN.shape[1]\n",
    "#codificamos 'MALA' como 0 'REGULAR' como 1 y 'BUENA' como 2\n",
    "label_values = {'BUENA': 2,\n",
    "                'REGULAR': 1,\n",
    "                'MALA': 0}\n",
    "\n",
    "y_train_CNN = np.array([label_values[label] for label in y_train])\n",
    "\n",
    "# Comprobamos\n",
    "y_train_CNN[:5]"
   ]
  },
  {
   "cell_type": "code",
   "execution_count": 293,
   "metadata": {
    "colab": {
     "base_uri": "https://localhost:8080/"
    },
    "id": "tRkHFbTrjqk0",
    "outputId": "761d36be-4a55-4a81-f6d5-c8c673c5abd3"
   },
   "outputs": [
    {
     "data": {
      "text/plain": [
       "0       MALA\n",
       "1       MALA\n",
       "2    REGULAR\n",
       "3      BUENA\n",
       "4       MALA\n",
       "Name: Valoracion, dtype: object"
      ]
     },
     "execution_count": 293,
     "metadata": {
      "tags": []
     },
     "output_type": "execute_result"
    }
   ],
   "source": [
    "y_train[:5]"
   ]
  },
  {
   "cell_type": "code",
   "execution_count": 294,
   "metadata": {
    "colab": {
     "base_uri": "https://localhost:8080/"
    },
    "id": "CC2uYbg-jZSn",
    "outputId": "9d808b2e-b6df-4af5-acfc-ee4ea5a1fb83"
   },
   "outputs": [
    {
     "data": {
      "text/plain": [
       "array([2, 2, 0, 0, 2])"
      ]
     },
     "execution_count": 294,
     "metadata": {
      "tags": []
     },
     "output_type": "execute_result"
    }
   ],
   "source": [
    "# Comprobamos \n",
    "y_train_CNN[-5:]"
   ]
  },
  {
   "cell_type": "code",
   "execution_count": 295,
   "metadata": {
    "colab": {
     "base_uri": "https://localhost:8080/"
    },
    "id": "mbXZVUa2j1iz",
    "outputId": "78ccdb26-3082-437d-a165-e948c5dd5631"
   },
   "outputs": [
    {
     "data": {
      "text/plain": [
       "2709    BUENA\n",
       "2710    BUENA\n",
       "2711     MALA\n",
       "2712     MALA\n",
       "2713    BUENA\n",
       "Name: Valoracion, dtype: object"
      ]
     },
     "execution_count": 295,
     "metadata": {
      "tags": []
     },
     "output_type": "execute_result"
    }
   ],
   "source": [
    "# Comprobamos \n",
    "y_train[-5:]"
   ]
  },
  {
   "cell_type": "code",
   "execution_count": 296,
   "metadata": {
    "colab": {
     "base_uri": "https://localhost:8080/"
    },
    "id": "RYALY3RCkfjp",
    "outputId": "ee3d66da-f823-4f2b-8046-1dd086998eee"
   },
   "outputs": [
    {
     "data": {
      "text/plain": [
       "True"
      ]
     },
     "execution_count": 296,
     "metadata": {
      "tags": []
     },
     "output_type": "execute_result"
    }
   ],
   "source": [
    "len(y_train) == len(y_train_CNN)"
   ]
  },
  {
   "cell_type": "code",
   "execution_count": 300,
   "metadata": {
    "colab": {
     "base_uri": "https://localhost:8080/"
    },
    "id": "Dua4rdXEoAkT",
    "outputId": "afaa5767-12ad-46ae-db02-e38e2f0e1f14"
   },
   "outputs": [
    {
     "data": {
      "text/plain": [
       "array([1, 2, 0, 0, 1])"
      ]
     },
     "execution_count": 300,
     "metadata": {
      "tags": []
     },
     "output_type": "execute_result"
    }
   ],
   "source": [
    "# Convertimos etiquetas de conjunto de test\n",
    "y_test_CNN = np.array([label_values[label] for label in y_test])\n",
    "\n",
    "#Comprobamos\n",
    "y_test_CNN[:5]"
   ]
  },
  {
   "cell_type": "code",
   "execution_count": 301,
   "metadata": {
    "colab": {
     "base_uri": "https://localhost:8080/"
    },
    "id": "DHHf9Uwko9vI",
    "outputId": "e3d2bf0c-4699-4bfc-85a0-a5b14cd89aaa"
   },
   "outputs": [
    {
     "data": {
      "text/plain": [
       "0    REGULAR\n",
       "1      BUENA\n",
       "2       MALA\n",
       "3       MALA\n",
       "4    REGULAR\n",
       "Name: Valoracion, dtype: object"
      ]
     },
     "execution_count": 301,
     "metadata": {
      "tags": []
     },
     "output_type": "execute_result"
    }
   ],
   "source": [
    "y_test[:5]"
   ]
  },
  {
   "cell_type": "code",
   "execution_count": 302,
   "metadata": {
    "colab": {
     "base_uri": "https://localhost:8080/"
    },
    "id": "0MXwweoakVgN",
    "outputId": "3a419df4-10fc-488f-edc9-59672a7ca777"
   },
   "outputs": [
    {
     "data": {
      "text/plain": [
       "array([1, 0, 2, 1, 1])"
      ]
     },
     "execution_count": 302,
     "metadata": {
      "tags": []
     },
     "output_type": "execute_result"
    }
   ],
   "source": [
    "# Comprobamos \n",
    "y_test_CNN[-5:]"
   ]
  },
  {
   "cell_type": "code",
   "execution_count": 303,
   "metadata": {
    "colab": {
     "base_uri": "https://localhost:8080/"
    },
    "id": "FnJWPM5YkVgP",
    "outputId": "05d3ed8e-52c2-45d0-cb47-1e4353e07eec"
   },
   "outputs": [
    {
     "data": {
      "text/plain": [
       "1159    REGULAR\n",
       "1160       MALA\n",
       "1161      BUENA\n",
       "1162    REGULAR\n",
       "1163    REGULAR\n",
       "Name: Valoracion, dtype: object"
      ]
     },
     "execution_count": 303,
     "metadata": {
      "tags": []
     },
     "output_type": "execute_result"
    }
   ],
   "source": [
    "y_test[-5:]"
   ]
  },
  {
   "cell_type": "code",
   "execution_count": 304,
   "metadata": {
    "id": "OLYLJ7X0Qfak"
   },
   "outputs": [],
   "source": [
    "# Dimension de los vectores\n",
    "tokenizer_CNN = Tokenizer(split=' ')\n",
    "criticas = PreprocesaCriticasClass(path)"
   ]
  },
  {
   "cell_type": "code",
   "execution_count": 305,
   "metadata": {
    "colab": {
     "base_uri": "https://localhost:8080/"
    },
    "id": "0b4IJ79t0sKb",
    "outputId": "40b783c9-d82f-4ef9-fe88-578fe8c7b48e"
   },
   "outputs": [
    {
     "data": {
      "text/plain": [
       "<keras_preprocessing.text.Tokenizer at 0x7f735d428150>"
      ]
     },
     "execution_count": 305,
     "metadata": {
      "tags": []
     },
     "output_type": "execute_result"
    }
   ],
   "source": [
    "# Convertir frase en identificadores unicos de palabras\n",
    "tokenizer_CNN.fit_on_texts(criticas)\n",
    "tokenizer_CNN"
   ]
  },
  {
   "cell_type": "code",
   "execution_count": 306,
   "metadata": {
    "id": "2juU5PNU-GDt"
   },
   "outputs": [],
   "source": [
    "# saving\n",
    "with open('tokenizer_CNN.pickle', 'wb') as handle:\n",
    "    pickle.dump(tokenizer_CNN, handle, protocol=pickle.HIGHEST_PROTOCOL)"
   ]
  },
  {
   "cell_type": "code",
   "execution_count": 307,
   "metadata": {
    "id": "YZ4PhKd4-eSm"
   },
   "outputs": [],
   "source": [
    "# loading\n",
    "#with open('tokenizer_CNN.pickle', 'rb') as handle:\n",
    "#    tokenizer_CNN2 = pickle.load(handle)"
   ]
  },
  {
   "cell_type": "code",
   "execution_count": 308,
   "metadata": {
    "id": "c7KgTVaK-0Q-"
   },
   "outputs": [],
   "source": [
    " # Diccionario de conversion entre palabras-indices\n",
    "word_index_CNN = tokenizer_CNN.word_index"
   ]
  },
  {
   "cell_type": "code",
   "execution_count": 309,
   "metadata": {
    "id": "LQgu61CY0wWN"
   },
   "outputs": [],
   "source": [
    "# Aqui se convierten las palabras a indices para el conjunto de entrenamiento\n",
    "X_train_CNN = tokenizer_CNN.texts_to_sequences(criticas) \n",
    "# Hacer q todo tenga la misma longitud\n",
    "X_train_CNN = pad_sequences(X_train_CNN, padding='post')\n",
    "\n",
    "# saving\n",
    "with open('X_train_CNN.pickle', 'wb') as handle:\n",
    "    pickle.dump(X_train_CNN, handle, protocol=pickle.HIGHEST_PROTOCOL)"
   ]
  },
  {
   "cell_type": "code",
   "execution_count": 310,
   "metadata": {
    "colab": {
     "base_uri": "https://localhost:8080/"
    },
    "id": "Z7Cct7Z47rP7",
    "outputId": "267b0714-da6d-41a2-af26-f6fd892b5f70"
   },
   "outputs": [
    {
     "name": "stdout",
     "output_type": "stream",
     "text": [
      "Número de tokens distintos: 35440\n"
     ]
    }
   ],
   "source": [
    "print(f'Número de tokens distintos: {len(word_index_CNN)}')"
   ]
  },
  {
   "cell_type": "markdown",
   "metadata": {
    "id": "fjb6Fury6s25"
   },
   "source": [
    "Vocabulario de 35440 palabras distintas"
   ]
  },
  {
   "cell_type": "code",
   "execution_count": 311,
   "metadata": {
    "colab": {
     "base_uri": "https://localhost:8080/"
    },
    "id": "BUrm_fIitMSr",
    "outputId": "cbdd55c4-420c-4130-8c5c-38b574ba15b4"
   },
   "outputs": [
    {
     "data": {
      "text/plain": [
       "1871"
      ]
     },
     "execution_count": 311,
     "metadata": {
      "tags": []
     },
     "output_type": "execute_result"
    }
   ],
   "source": [
    "MAX_SEQUENCE_LENGTH = X_train_CNN.shape[1]\n",
    "MAX_SEQUENCE_LENGTH"
   ]
  },
  {
   "cell_type": "code",
   "execution_count": 312,
   "metadata": {
    "colab": {
     "base_uri": "https://localhost:8080/"
    },
    "id": "DXjnvqot_GtP",
    "outputId": "f9ecb4ec-c965-477d-da20-7a0bb036e050"
   },
   "outputs": [
    {
     "data": {
      "text/plain": [
       "35441"
      ]
     },
     "execution_count": 312,
     "metadata": {
      "tags": []
     },
     "output_type": "execute_result"
    }
   ],
   "source": [
    "# Adding 1 because of  reserved 0 index\n",
    "max_features = len(word_index_CNN)+1\n",
    "max_features"
   ]
  },
  {
   "cell_type": "code",
   "execution_count": 313,
   "metadata": {
    "id": "aW8H_N9t1BlY"
   },
   "outputs": [],
   "source": [
    "# Aqui se convierten las palabras a indices para el conjunto de test\n",
    "X_test_CNN = tokenizer_CNN.texts_to_sequences(X_test)"
   ]
  },
  {
   "cell_type": "code",
   "execution_count": 314,
   "metadata": {
    "id": "jnEoPWf6m8XG"
   },
   "outputs": [],
   "source": [
    "X_test_CNN = pad_sequences(X_test_CNN, padding='post', maxlen=MAX_SEQUENCE_LENGTH)\n",
    "\n",
    "# saving\n",
    "with open('X_test_CNN.pickle', 'wb') as handle:\n",
    "    pickle.dump(X_test_CNN, handle, protocol=pickle.HIGHEST_PROTOCOL)"
   ]
  },
  {
   "cell_type": "code",
   "execution_count": 315,
   "metadata": {
    "colab": {
     "base_uri": "https://localhost:8080/"
    },
    "id": "15Vymhx0Qfan",
    "outputId": "91a85c93-59b5-4c4e-e833-9a0464cff6dd"
   },
   "outputs": [
    {
     "data": {
      "text/plain": [
       "array([1087, 1106,   51, ...,    0,    0,    0], dtype=int32)"
      ]
     },
     "execution_count": 315,
     "metadata": {
      "tags": []
     },
     "output_type": "execute_result"
    }
   ],
   "source": [
    "# Como esta critica es de menos d 30 palabras se rellena con 0's\n",
    "X_train_CNN[1000]"
   ]
  },
  {
   "cell_type": "code",
   "execution_count": 316,
   "metadata": {
    "colab": {
     "base_uri": "https://localhost:8080/"
    },
    "id": "sTiiBS79Qfax",
    "outputId": "0354c497-3132-4492-c3e8-92a1e820b335"
   },
   "outputs": [
    {
     "name": "stdout",
     "output_type": "stream",
     "text": [
      "(2714, 1871) (2714,)\n",
      "(1164, 1871) (1164,)\n"
     ]
    }
   ],
   "source": [
    "print(X_train_CNN.shape, y_train_CNN.shape)\n",
    "print(X_test_CNN.shape, y_test_CNN.shape)"
   ]
  },
  {
   "cell_type": "markdown",
   "metadata": {
    "id": "j54Zem20Qfa1"
   },
   "source": [
    "##### Word embeddins propios\n",
    "Entrenamos una capa de embedding para aprender los WE con los textos de nuestro problema."
   ]
  },
  {
   "cell_type": "code",
   "execution_count": 361,
   "metadata": {
    "colab": {
     "base_uri": "https://localhost:8080/"
    },
    "id": "R3--mDxgQfa2",
    "outputId": "d1407ac1-2ee5-4bc7-ad5e-75539b69b58c"
   },
   "outputs": [
    {
     "name": "stdout",
     "output_type": "stream",
     "text": [
      "Model: \"sequential_21\"\n",
      "_________________________________________________________________\n",
      "Layer (type)                 Output Shape              Param #   \n",
      "=================================================================\n",
      "embedding_21 (Embedding)     (None, 1871, 50)          1772050   \n",
      "_________________________________________________________________\n",
      "dropout_34 (Dropout)         (None, 1871, 50)          0         \n",
      "_________________________________________________________________\n",
      "conv1d_21 (Conv1D)           (None, 1869, 64)          9664      \n",
      "_________________________________________________________________\n",
      "global_max_pooling1d_21 (Glo (None, 64)                0         \n",
      "_________________________________________________________________\n",
      "dense_37 (Dense)             (None, 3)                 195       \n",
      "_________________________________________________________________\n",
      "activation_18 (Activation)   (None, 3)                 0         \n",
      "=================================================================\n",
      "Total params: 1,781,909\n",
      "Trainable params: 1,781,909\n",
      "Non-trainable params: 0\n",
      "_________________________________________________________________\n",
      "None\n"
     ]
    }
   ],
   "source": [
    "from tensorflow.keras.models import Sequential\n",
    "from tensorflow.keras.layers import Dense, Embedding, Dropout, Activation, Conv1D, GlobalMaxPooling1D\n",
    "\n",
    "#Creamos el modelo CNN en Keras CONV1D\n",
    "#Usamos como referencia el ejemplo de Keras: https://github.com/keras-team/keras/blob/master/examples/imdb_cnn.py\n",
    "#pero quitamos la capa oculta intermedia para simplificar el modelo y dejarlo como en el artículo\n",
    "\n",
    "#Parámetros de la red\n",
    "embed_dim = 50    # Word embeddings de 50 palabras\n",
    "filters = 64      # 64 filtros \n",
    "kernel_size = 3   # cada filtro de 5 (desplazarse de 5 en 5 palabras)\n",
    "\n",
    "model = Sequential()\n",
    "\n",
    "#  En esta capa es importante decirle el tamaño del vocab, porque esto le dice cuales son las palabras que va a aprender (MAX_FEATS * EMBED_DIMS)\n",
    "model.add(Embedding(max_features, embed_dim, input_length = MAX_SEQUENCE_LENGTH)) # Capa de embeddings, es la que va a aprender esa conversion de ids de vectores numericos de 50 dims\n",
    "model.add(Dropout(0.2))\n",
    "\n",
    "# añadimos una capa de convolución 1D que aprende\n",
    "# filtros de grupos de palabras de tamaño kernel_size\n",
    "model.add(Conv1D(filters,\n",
    "                 kernel_size,\n",
    "                 padding='valid',\n",
    "                 activation='relu',\n",
    "                 strides=1))\n",
    "\n",
    "# calculamos el max pooling:\n",
    "# GlobalMaxPooling1D \n",
    "model.add(GlobalMaxPooling1D())\n",
    "#model.add(Dense(50, activation='relu'))\n",
    "#model.add(Dropout(0.4))\n",
    "\n",
    "# conectamos a una capa de salida de una unidad con activación softmax (problema multiclase)\n",
    "model.add(Dense(3))\n",
    "model.add(Activation('softmax'))\n",
    "\n",
    "# compilamos el modelo\n",
    "model.compile(loss='SparseCategoricalCrossentropy',\n",
    "              optimizer='adam',\n",
    "              metrics=['accuracy'])\n",
    "print(model.summary())"
   ]
  },
  {
   "cell_type": "code",
   "execution_count": 362,
   "metadata": {
    "colab": {
     "base_uri": "https://localhost:8080/"
    },
    "id": "GSKOQksDQfa8",
    "outputId": "f9e4a5c5-f243-40c4-a398-83f47d65681a"
   },
   "outputs": [
    {
     "name": "stdout",
     "output_type": "stream",
     "text": [
      "Epoch 1/15\n",
      "85/85 - 18s - loss: 1.0979 - accuracy: 0.3460 - val_loss: 1.0920 - val_accuracy: 0.4407\n",
      "Epoch 2/15\n",
      "85/85 - 17s - loss: 1.0559 - accuracy: 0.6256 - val_loss: 1.0750 - val_accuracy: 0.4175\n",
      "Epoch 3/15\n",
      "85/85 - 18s - loss: 0.9723 - accuracy: 0.6853 - val_loss: 1.0311 - val_accuracy: 0.4923\n",
      "Epoch 4/15\n",
      "85/85 - 17s - loss: 0.8168 - accuracy: 0.8084 - val_loss: 0.9781 - val_accuracy: 0.5180\n",
      "Epoch 5/15\n",
      "85/85 - 18s - loss: 0.6018 - accuracy: 0.8979 - val_loss: 0.9449 - val_accuracy: 0.5215\n",
      "Epoch 6/15\n",
      "85/85 - 17s - loss: 0.3699 - accuracy: 0.9661 - val_loss: 0.9382 - val_accuracy: 0.5275\n",
      "Epoch 7/15\n",
      "85/85 - 17s - loss: 0.1945 - accuracy: 0.9934 - val_loss: 0.9499 - val_accuracy: 0.5352\n",
      "Epoch 8/15\n",
      "85/85 - 17s - loss: 0.0968 - accuracy: 0.9993 - val_loss: 0.9800 - val_accuracy: 0.5284\n",
      "Epoch 9/15\n",
      "85/85 - 17s - loss: 0.0509 - accuracy: 1.0000 - val_loss: 1.0032 - val_accuracy: 0.5404\n",
      "Epoch 10/15\n",
      "85/85 - 17s - loss: 0.0308 - accuracy: 1.0000 - val_loss: 1.0257 - val_accuracy: 0.5318\n",
      "Epoch 11/15\n",
      "85/85 - 18s - loss: 0.0206 - accuracy: 1.0000 - val_loss: 1.0434 - val_accuracy: 0.5326\n",
      "Epoch 12/15\n",
      "85/85 - 17s - loss: 0.0145 - accuracy: 1.0000 - val_loss: 1.0608 - val_accuracy: 0.5326\n",
      "Epoch 13/15\n",
      "85/85 - 17s - loss: 0.0108 - accuracy: 1.0000 - val_loss: 1.0796 - val_accuracy: 0.5318\n",
      "Epoch 14/15\n",
      "85/85 - 17s - loss: 0.0082 - accuracy: 1.0000 - val_loss: 1.0910 - val_accuracy: 0.5318\n",
      "Epoch 15/15\n",
      "85/85 - 17s - loss: 0.0065 - accuracy: 1.0000 - val_loss: 1.1065 - val_accuracy: 0.5292\n"
     ]
    }
   ],
   "source": [
    "batch_size = 32\n",
    "history = model.fit(X_train_CNN, y_train_CNN, epochs=15, batch_size=batch_size, verbose=2, validation_data=(X_test_CNN, y_test_CNN))"
   ]
  },
  {
   "cell_type": "code",
   "execution_count": 363,
   "metadata": {
    "colab": {
     "base_uri": "https://localhost:8080/",
     "height": 294
    },
    "id": "UQhUdCocQfbC",
    "outputId": "531940a7-1fe5-45c8-aa36-9a90b1976f54"
   },
   "outputs": [
    {
     "data": {
      "image/png": "[encoded data removed]",
      "text/plain": [
       "<Figure size 432x288 with 1 Axes>"
      ]
     },
     "metadata": {
      "image/png": {
       "height": 277,
       "width": 425
      },
      "needs_background": "light",
      "tags": []
     },
     "output_type": "display_data"
    }
   ],
   "source": [
    "# Plot training & validation accuracy values\n",
    "plt.plot(history.history['accuracy'])\n",
    "plt.plot(history.history['val_accuracy'])\n",
    "plt.title('WE propios')\n",
    "plt.ylabel('Accuracy')\n",
    "plt.xlabel('Epoch')\n",
    "plt.legend(['Train', 'Test'], loc='upper left')\n",
    "plt.show()"
   ]
  },
  {
   "cell_type": "code",
   "execution_count": 365,
   "metadata": {
    "colab": {
     "base_uri": "https://localhost:8080/"
    },
    "id": "ROr54ZPVQfbI",
    "outputId": "344edf58-4357-4c63-9d61-d3a440ed6dcc"
   },
   "outputs": [
    {
     "name": "stdout",
     "output_type": "stream",
     "text": [
      "37/37 - 1s - loss: 1.1065 - accuracy: 0.5292\n",
      "score: 1.11\n",
      "acc: 0.53\n"
     ]
    }
   ],
   "source": [
    "score,acc = model.evaluate(X_test_CNN, y_test_CNN, verbose = 2, batch_size = batch_size)\n",
    "print(\"score: %.2f\" % (score))\n",
    "print(\"acc: %.2f\" % (acc))"
   ]
  },
  {
   "cell_type": "code",
   "execution_count": 366,
   "metadata": {
    "colab": {
     "base_uri": "https://localhost:8080/"
    },
    "id": "qMRSBMa7QfbK",
    "outputId": "20321244-00c6-4feb-ede0-280332fe48f7"
   },
   "outputs": [
    {
     "name": "stdout",
     "output_type": "stream",
     "text": [
      "              precision    recall  f1-score   support\n",
      "\n",
      "           0       0.63      0.57      0.60       395\n",
      "           1       0.41      0.48      0.44       374\n",
      "           2       0.57      0.53      0.55       395\n",
      "\n",
      "    accuracy                           0.53      1164\n",
      "   macro avg       0.54      0.53      0.53      1164\n",
      "weighted avg       0.54      0.53      0.53      1164\n",
      "\n"
     ]
    }
   ],
   "source": [
    "from sklearn.metrics import classification_report\n",
    "\n",
    "print(classification_report(y_test_CNN, np.argmax(model.predict(X_test_CNN, batch_size=1), axis=-1)))"
   ]
  },
  {
   "cell_type": "markdown",
   "metadata": {
    "id": "gmh4xwx3viNP"
   },
   "source": [
    "**No mejora los mejores resultados anteriores pero se mantiene en la linea.**"
   ]
  },
  {
   "cell_type": "markdown",
   "metadata": {
    "id": "9JurDElTQfbY"
   },
   "source": [
    "##### **Word embeddings de spaCy**\n",
    "Aplicamos Transfer Learning usando los embeddings GloVe incluidos en el modelo de spaCy.\n",
    "\n",
    "La primera capa aprende los embeddings, si usamos embeddings mas informativos posiblemente el modelo generalizara mejor. Los embeddings son una matriz de pesos, si en vez de aprenderlos se los damos ya generados externamente (por ejemplo los de Spacy que son de dimension 300)."
   ]
  },
  {
   "cell_type": "code",
   "execution_count": 351,
   "metadata": {
    "id": "_1TZCYRB0f-D"
   },
   "outputs": [],
   "source": [
    "nlp = spacy.load(\"es_core_news_md\")"
   ]
  },
  {
   "cell_type": "code",
   "execution_count": 352,
   "metadata": {
    "id": "cmtGQzX8eWMg"
   },
   "outputs": [],
   "source": [
    "#Rellenamos los vectores con el valor en spaCy para nuestro vocabulario\n",
    "EMBEDDING_DIM = nlp.vocab.vectors_length\n",
    "\n",
    "embedding_matrix_CNN = np.zeros((max_features, EMBEDDING_DIM))\n",
    "for word, i in word_index_CNN.items():\n",
    "    if(i > max_features):\n",
    "        break\n",
    "    embedding_vector = nlp.vocab[word].vector\n",
    "    if embedding_vector is not None:\n",
    "        # las palabras que no están en spaCy serán cero.\n",
    "        embedding_matrix_CNN[i] = np.array(embedding_vector, dtype=np.float32)#[:EMBEDDING_DIM]"
   ]
  },
  {
   "cell_type": "code",
   "execution_count": 353,
   "metadata": {
    "colab": {
     "base_uri": "https://localhost:8080/"
    },
    "id": "BlNytqWRQfbg",
    "outputId": "1106b3b4-5c35-4f7a-82f2-8b5930fdab7d"
   },
   "outputs": [
    {
     "data": {
      "text/plain": [
       "(35441, 300)"
      ]
     },
     "execution_count": 353,
     "metadata": {
      "tags": []
     },
     "output_type": "execute_result"
    }
   ],
   "source": [
    "embedding_matrix_CNN.shape"
   ]
  },
  {
   "cell_type": "code",
   "execution_count": 356,
   "metadata": {
    "colab": {
     "base_uri": "https://localhost:8080/"
    },
    "id": "AM45Xw4uQfbh",
    "outputId": "5a803a1c-2edb-44a6-815c-e814333802cd"
   },
   "outputs": [
    {
     "name": "stdout",
     "output_type": "stream",
     "text": [
      "Model: \"sequential_20\"\n",
      "_________________________________________________________________\n",
      "Layer (type)                 Output Shape              Param #   \n",
      "=================================================================\n",
      "embedding_20 (Embedding)     (None, 1871, 300)         10632300  \n",
      "_________________________________________________________________\n",
      "dropout_33 (Dropout)         (None, 1871, 300)         0         \n",
      "_________________________________________________________________\n",
      "conv1d_20 (Conv1D)           (None, 1869, 64)          57664     \n",
      "_________________________________________________________________\n",
      "global_max_pooling1d_20 (Glo (None, 64)                0         \n",
      "_________________________________________________________________\n",
      "dense_36 (Dense)             (None, 3)                 195       \n",
      "_________________________________________________________________\n",
      "activation_17 (Activation)   (None, 3)                 0         \n",
      "=================================================================\n",
      "Total params: 10,690,159\n",
      "Trainable params: 10,690,159\n",
      "Non-trainable params: 0\n",
      "_________________________________________________________________\n",
      "None\n"
     ]
    }
   ],
   "source": [
    "#Creamos el modelo CNN en Keras\n",
    "\n",
    "#parámetros de la red\n",
    "filters = 64\n",
    "kernel_size = 3\n",
    "EMBEDDING_DIM = nlp.vocab.vectors_length\n",
    "\n",
    "embedding_layer = Embedding(max_features,\n",
    "                            EMBEDDING_DIM,\n",
    "                            weights=[embedding_matrix_CNN],  # Le indicamos esa matriz\n",
    "                            input_length=MAX_SEQUENCE_LENGTH,\n",
    "                            trainable=True)  # Transfer learning: Usa esa matriz como valores iniciales \n",
    "                                             # pero le indico que ajuste esos pesos a mi conjunbto de datos especifico (entrenable)\n",
    "model = Sequential()\n",
    "model.add(embedding_layer)\n",
    "model.add(Dropout(0.2))\n",
    "\n",
    "# añadimos una capa de convolución 1D que aprende\n",
    "# filtros de grupos de palabras de tamaño kernel_size\n",
    "model.add(Conv1D(filters,\n",
    "                 kernel_size,\n",
    "                 padding='valid',\n",
    "                 activation='relu',\n",
    "                 strides=1))\n",
    "\n",
    "# calculamos el max pooling:\n",
    "# GlobalMaxPooling1D \n",
    "model.add(GlobalMaxPooling1D())\n",
    "#model.add(Dense(50, activation='relu'))\n",
    "#model.add(Dropout(0.4))\n",
    "\n",
    "# conectamos a una capa de salida de una unidad con activación softmax (problema multiclase)\n",
    "model.add(Dense(3))\n",
    "model.add(Activation('softmax'))\n",
    "\n",
    "# compilamos el modelo\n",
    "model.compile(loss='SparseCategoricalCrossentropy',\n",
    "              optimizer='adam',\n",
    "              metrics=['accuracy'])\n",
    "print(model.summary())"
   ]
  },
  {
   "cell_type": "code",
   "execution_count": 357,
   "metadata": {
    "colab": {
     "base_uri": "https://localhost:8080/"
    },
    "id": "1WVJDkUsQfbj",
    "outputId": "d63d806c-49ce-4461-c4e8-87c88e49a6b2"
   },
   "outputs": [
    {
     "name": "stdout",
     "output_type": "stream",
     "text": [
      "Epoch 1/15\n",
      "85/85 - 84s - loss: 2.6443 - accuracy: 0.3629 - val_loss: 2.1054 - val_accuracy: 0.3565\n",
      "Epoch 2/15\n",
      "85/85 - 83s - loss: 1.6108 - accuracy: 0.4687 - val_loss: 1.9520 - val_accuracy: 0.3729\n",
      "Epoch 3/15\n",
      "85/85 - 83s - loss: 1.3152 - accuracy: 0.5335 - val_loss: 1.6515 - val_accuracy: 0.4235\n",
      "Epoch 4/15\n",
      "85/85 - 83s - loss: 1.1772 - accuracy: 0.5637 - val_loss: 1.7001 - val_accuracy: 0.4012\n",
      "Epoch 5/15\n",
      "85/85 - 82s - loss: 0.9000 - accuracy: 0.6455 - val_loss: 1.9052 - val_accuracy: 0.4107\n",
      "Epoch 6/15\n",
      "85/85 - 82s - loss: 0.7452 - accuracy: 0.7093 - val_loss: 1.6406 - val_accuracy: 0.4390\n",
      "Epoch 7/15\n",
      "85/85 - 83s - loss: 0.6913 - accuracy: 0.7251 - val_loss: 1.7265 - val_accuracy: 0.4184\n",
      "Epoch 8/15\n",
      "85/85 - 84s - loss: 0.5620 - accuracy: 0.7775 - val_loss: 1.6531 - val_accuracy: 0.4493\n",
      "Epoch 9/15\n",
      "85/85 - 84s - loss: 0.5407 - accuracy: 0.7793 - val_loss: 1.7502 - val_accuracy: 0.4450\n",
      "Epoch 10/15\n",
      "85/85 - 84s - loss: 0.3984 - accuracy: 0.8405 - val_loss: 1.7424 - val_accuracy: 0.4450\n",
      "Epoch 11/15\n",
      "85/85 - 84s - loss: 0.3711 - accuracy: 0.8574 - val_loss: 1.7804 - val_accuracy: 0.4442\n",
      "Epoch 12/15\n",
      "85/85 - 83s - loss: 0.3227 - accuracy: 0.8744 - val_loss: 1.8333 - val_accuracy: 0.4407\n",
      "Epoch 13/15\n",
      "85/85 - 84s - loss: 0.2662 - accuracy: 0.9009 - val_loss: 1.8316 - val_accuracy: 0.4596\n",
      "Epoch 14/15\n",
      "85/85 - 84s - loss: 0.2360 - accuracy: 0.9090 - val_loss: 1.9041 - val_accuracy: 0.4433\n",
      "Epoch 15/15\n",
      "85/85 - 85s - loss: 0.1935 - accuracy: 0.9333 - val_loss: 1.9349 - val_accuracy: 0.4527\n"
     ]
    }
   ],
   "source": [
    "batch_size = 32\n",
    "history = model.fit(X_train_CNN, y_train_CNN, epochs=15, batch_size=batch_size, verbose=2, validation_data=(X_test_CNN, y_test_CNN))"
   ]
  },
  {
   "cell_type": "code",
   "execution_count": 358,
   "metadata": {
    "colab": {
     "base_uri": "https://localhost:8080/",
     "height": 294
    },
    "id": "3OBIhV1NQfbj",
    "outputId": "f9925d7b-b38b-43c3-847d-acd7b9ed386a"
   },
   "outputs": [
    {
     "data": {
      "image/png": "[encoded data removed]",
      "text/plain": [
       "<Figure size 432x288 with 1 Axes>"
      ]
     },
     "metadata": {
      "image/png": {
       "height": 277,
       "width": 425
      },
      "needs_background": "light",
      "tags": []
     },
     "output_type": "display_data"
    }
   ],
   "source": [
    "# Plot training & validation accuracy values\n",
    "plt.plot(history.history['accuracy'])\n",
    "plt.plot(history.history['val_accuracy'])\n",
    "plt.title('TF con WE spaCy')\n",
    "plt.ylabel('Accuracy')\n",
    "plt.xlabel('Epoch')\n",
    "plt.legend(['Train', 'Test'], loc='upper left')\n",
    "plt.show()"
   ]
  },
  {
   "cell_type": "code",
   "execution_count": 359,
   "metadata": {
    "colab": {
     "base_uri": "https://localhost:8080/"
    },
    "id": "7kjO-ozcQfbk",
    "outputId": "16c30837-701b-4d93-c1dc-8c4b2ce20aec"
   },
   "outputs": [
    {
     "name": "stdout",
     "output_type": "stream",
     "text": [
      "37/37 - 6s - loss: 1.9349 - accuracy: 0.4527\n",
      "score: 1.93\n",
      "acc: 0.45\n"
     ]
    }
   ],
   "source": [
    "score,acc = model.evaluate(X_test_CNN, y_test_CNN, verbose = 2, batch_size = batch_size)\n",
    "print(\"score: %.2f\" % (score))\n",
    "print(\"acc: %.2f\" % (acc))"
   ]
  },
  {
   "cell_type": "code",
   "execution_count": 360,
   "metadata": {
    "colab": {
     "base_uri": "https://localhost:8080/"
    },
    "id": "Bir03W1-Qfbn",
    "outputId": "3f3b511c-f66e-4fd7-8b94-33219d7c3e78"
   },
   "outputs": [
    {
     "name": "stdout",
     "output_type": "stream",
     "text": [
      "              precision    recall  f1-score   support\n",
      "\n",
      "           0       0.50      0.52      0.51       395\n",
      "           1       0.38      0.55      0.45       374\n",
      "           2       0.54      0.29      0.38       395\n",
      "\n",
      "    accuracy                           0.45      1164\n",
      "   macro avg       0.47      0.45      0.45      1164\n",
      "weighted avg       0.48      0.45      0.45      1164\n",
      "\n"
     ]
    }
   ],
   "source": [
    "from sklearn.metrics import classification_report\n",
    "\n",
    "print(classification_report(y_test_CNN, np.argmax(model.predict(X_test_CNN), axis=-1)))"
   ]
  },
  {
   "cell_type": "markdown",
   "metadata": {
    "id": "9sawTf6vRBY0"
   },
   "source": [
    "En ambos casos **el rendimiento con CNN no es mucho peor que cualquiera de los modelos anteriores**, funcionando mejor la de vectores propios, que además es más simple al no tener esa entrada de mas de 10M de parámetros dada por el uso de embeddings de spaCy con 300 dimensiones."
   ]
  },
  {
   "cell_type": "markdown",
   "metadata": {
    "id": "Z7Q9JmIp4qSf"
   },
   "source": [
    "## Extracción de Topic Space Vector Model: LSA\n",
    "Ahora vamos a utilizar un modelo de reducción de la dimensionalidad LSA para clasificar con conjunto de críticas.\n"
   ]
  },
  {
   "cell_type": "markdown",
   "metadata": {
    "id": "9LxOw88xMaEF"
   },
   "source": [
    "### Modelo LSA\n",
    "Creamos un procesado `pipeline` para calcular la matriz TF-IDF y a partir de esta el modelo LSA"
   ]
  },
  {
   "cell_type": "code",
   "execution_count": 368,
   "metadata": {
    "id": "m1k1Fk39MaEG"
   },
   "outputs": [],
   "source": [
    "from sklearn.pipeline import make_pipeline\n",
    "from sklearn.feature_extraction.text import TfidfVectorizer\n",
    "from sklearn.decomposition import TruncatedSVD\n",
    "from sklearn.preprocessing import Normalizer\n",
    "\n",
    "# Generador con normalizacion y lematización ya usado en el modelo CNN\n",
    "criticas = PreprocesaCriticasClass(path)\n",
    "\n",
    "vect = TfidfVectorizer() #vectorizar\n",
    "svd = TruncatedSVD(n_components=500) # reducir dim a 500\n",
    "\n",
    "modelo = make_pipeline(vect, svd, Normalizer(copy=False))\n",
    "#Entrenamos el modelo con el conjunto de train\n",
    "lsa_train = modelo.fit_transform(criticas) # fit_transform hace las 3 cosas"
   ]
  },
  {
   "cell_type": "code",
   "execution_count": 369,
   "metadata": {
    "id": "ydhOalyCXbrW"
   },
   "outputs": [],
   "source": [
    "# saving\n",
    "with open('lsa_train.pickle', 'wb') as handle:\n",
    "    pickle.dump(lsa_train, handle, protocol=pickle.HIGHEST_PROTOCOL)"
   ]
  },
  {
   "cell_type": "code",
   "execution_count": 370,
   "metadata": {
    "colab": {
     "base_uri": "https://localhost:8080/"
    },
    "id": "KI-LfEE8MaEK",
    "outputId": "ec1c7e50-91e2-4160-c724-d7fa852806f4"
   },
   "outputs": [
    {
     "data": {
      "text/plain": [
       "(2714, 500)"
      ]
     },
     "execution_count": 370,
     "metadata": {
      "tags": []
     },
     "output_type": "execute_result"
    }
   ],
   "source": [
    "# num criticas X 500 componentes (dimension reducida)\n",
    "lsa_train.shape"
   ]
  },
  {
   "cell_type": "code",
   "execution_count": 371,
   "metadata": {
    "colab": {
     "base_uri": "https://localhost:8080/"
    },
    "id": "o0aAJJ6NlheA",
    "outputId": "2ea9671f-ca6f-44b1-dba7-75630c01a3fc"
   },
   "outputs": [
    {
     "data": {
      "text/plain": [
       "35373"
      ]
     },
     "execution_count": 371,
     "metadata": {
      "tags": []
     },
     "output_type": "execute_result"
    }
   ],
   "source": [
    "# TfidfVectorizer es modelo[0]\n",
    "# 35373 terminos, reduccion de (2714 x 500), en modo denso en vez d Sparse\n",
    "len(modelo[0].get_feature_names())"
   ]
  },
  {
   "cell_type": "code",
   "execution_count": 372,
   "metadata": {
    "colab": {
     "base_uri": "https://localhost:8080/"
    },
    "id": "kbKoh5wCMaEM",
    "outputId": "0bba5670-0d0c-42fa-c2bf-f14ad0c7f4de"
   },
   "outputs": [
    {
     "data": {
      "text/plain": [
       "(1164, 500)"
      ]
     },
     "execution_count": 372,
     "metadata": {
      "tags": []
     },
     "output_type": "execute_result"
    }
   ],
   "source": [
    "# vector LSA de 38581 terminos en 500 dimensiones para cada una de las 1164 criticas de test\n",
    "X_test = resumen_test['Critica_Normalizada']\n",
    "lsa_test = modelo.transform(X_test)\n",
    "lsa_test.shape"
   ]
  },
  {
   "cell_type": "code",
   "execution_count": 373,
   "metadata": {
    "id": "E2HDBPklMaEE"
   },
   "outputs": [],
   "source": [
    "# creamos los modelos\n",
    "modelos = [('Logistic Regression', LogisticRegression()),\n",
    "           ('Naive Bayes', GaussianNB()), # Gaussian permite negativos\n",
    "           ('Linear SVM', SGDClassifier(loss='hinge', max_iter=10000, tol=1e-5)),\n",
    "           ('RFB SVM', SVC(gamma='scale', C=2))]"
   ]
  },
  {
   "cell_type": "code",
   "execution_count": 374,
   "metadata": {
    "colab": {
     "base_uri": "https://localhost:8080/"
    },
    "id": "aJv8nbSoMaER",
    "outputId": "465d9212-1e40-4ddf-df6c-bf8ac09f6b9a"
   },
   "outputs": [
    {
     "name": "stdout",
     "output_type": "stream",
     "text": [
      "Modelo Logistic Regression con características LSA 500 dims\n",
      "              precision    recall  f1-score   support\n",
      "\n",
      "       BUENA       0.54      0.82      0.65       395\n",
      "        MALA       0.74      0.60      0.66       395\n",
      "     REGULAR       0.51      0.34      0.41       374\n",
      "\n",
      "    accuracy                           0.59      1164\n",
      "   macro avg       0.60      0.58      0.57      1164\n",
      "weighted avg       0.60      0.59      0.58      1164\n",
      "\n",
      "Modelo Naive Bayes con características LSA 500 dims\n",
      "              precision    recall  f1-score   support\n",
      "\n",
      "       BUENA       0.37      0.94      0.53       395\n",
      "        MALA       0.78      0.12      0.20       395\n",
      "     REGULAR       0.49      0.15      0.23       374\n",
      "\n",
      "    accuracy                           0.41      1164\n",
      "   macro avg       0.55      0.40      0.32      1164\n",
      "weighted avg       0.55      0.41      0.32      1164\n",
      "\n",
      "Modelo Linear SVM con características LSA 500 dims\n",
      "              precision    recall  f1-score   support\n",
      "\n",
      "       BUENA       0.55      0.79      0.65       395\n",
      "        MALA       0.72      0.61      0.66       395\n",
      "     REGULAR       0.48      0.33      0.39       374\n",
      "\n",
      "    accuracy                           0.58      1164\n",
      "   macro avg       0.58      0.58      0.57      1164\n",
      "weighted avg       0.58      0.58      0.57      1164\n",
      "\n",
      "Modelo RFB SVM con características LSA 500 dims\n",
      "              precision    recall  f1-score   support\n",
      "\n",
      "       BUENA       0.55      0.81      0.66       395\n",
      "        MALA       0.74      0.56      0.64       395\n",
      "     REGULAR       0.49      0.37      0.42       374\n",
      "\n",
      "    accuracy                           0.59      1164\n",
      "   macro avg       0.59      0.58      0.57      1164\n",
      "weighted avg       0.60      0.59      0.58      1164\n",
      "\n"
     ]
    }
   ],
   "source": [
    "#entrenamos, predecimos y evaluamos clasificadores con modelos lsa\n",
    "for m, clf in modelos:\n",
    "    print('Modelo {} con características LSA 500 dims'.format(m))\n",
    "    lsa_predictions = train_predict_evaluate_model(classifier=clf,\n",
    "                                           train_features=lsa_train,\n",
    "                                           train_labels=y_train,\n",
    "                                           test_features=lsa_test,\n",
    "                                           test_labels=y_test) \n"
   ]
  },
  {
   "cell_type": "markdown",
   "metadata": {
    "id": "Ez8cRHdqneLV"
   },
   "source": [
    "**Funciona mas o menos igual que los anteriores pero son mas rapidos al tener menos dimensiones**"
   ]
  },
  {
   "cell_type": "markdown",
   "metadata": {
    "id": "1C974LzXMaET"
   },
   "source": [
    "Una vez establecido el mejor modelo de clasificación a utilizar podemos integrar todos los paso en el `pipeline`:"
   ]
  },
  {
   "cell_type": "code",
   "execution_count": 375,
   "metadata": {
    "colab": {
     "base_uri": "https://localhost:8080/"
    },
    "id": "7EBKG2yGMaEU",
    "outputId": "bf1e1841-60a7-4cf3-96f0-2e4d78e02354"
   },
   "outputs": [
    {
     "data": {
      "text/plain": [
       "Pipeline(memory=None,\n",
       "         steps=[('tfidfvectorizer',\n",
       "                 TfidfVectorizer(analyzer='word', binary=False,\n",
       "                                 decode_error='strict',\n",
       "                                 dtype=<class 'numpy.float64'>,\n",
       "                                 encoding='utf-8', input='content',\n",
       "                                 lowercase=True, max_df=1.0, max_features=None,\n",
       "                                 min_df=1, ngram_range=(1, 1), norm='l2',\n",
       "                                 preprocessor=None, smooth_idf=True,\n",
       "                                 stop_words=None, strip_accents=None,\n",
       "                                 sublinear_tf=False,\n",
       "                                 token...\n",
       "                 TruncatedSVD(algorithm='randomized', n_components=500,\n",
       "                              n_iter=5, random_state=None, tol=0.0)),\n",
       "                ('normalizer', Normalizer(copy=False, norm='l2')),\n",
       "                ('svc',\n",
       "                 SVC(C=2, break_ties=False, cache_size=200, class_weight=None,\n",
       "                     coef0=0.0, decision_function_shape='ovr', degree=3,\n",
       "                     gamma='scale', kernel='rbf', max_iter=-1,\n",
       "                     probability=False, random_state=None, shrinking=True,\n",
       "                     tol=0.001, verbose=False))],\n",
       "         verbose=False)"
      ]
     },
     "execution_count": 375,
     "metadata": {
      "tags": []
     },
     "output_type": "execute_result"
    }
   ],
   "source": [
    "# Vimos q el mejor es el SVM con Kernel Gaussiano\n",
    "vect = TfidfVectorizer()\n",
    "svd = TruncatedSVD(n_components=500)\n",
    "modelSVM = SVC(gamma='scale', C=2)\n",
    "\n",
    "modelo = make_pipeline(vect, svd, Normalizer(copy=False), modelSVM)\n",
    "#Entrenamos el modelo con el conjunto de train\n",
    "modelo.fit(X_train, y_train)"
   ]
  },
  {
   "cell_type": "code",
   "execution_count": 376,
   "metadata": {
    "colab": {
     "base_uri": "https://localhost:8080/"
    },
    "id": "7uqqwRphMaEW",
    "outputId": "4f4a407d-d67d-4449-db19-cc95cca4ddb5"
   },
   "outputs": [
    {
     "name": "stdout",
     "output_type": "stream",
     "text": [
      "              precision    recall  f1-score   support\n",
      "\n",
      "       BUENA       0.56      0.82      0.66       395\n",
      "        MALA       0.75      0.57      0.65       395\n",
      "     REGULAR       0.50      0.38      0.43       374\n",
      "\n",
      "    accuracy                           0.59      1164\n",
      "   macro avg       0.60      0.59      0.58      1164\n",
      "weighted avg       0.60      0.59      0.58      1164\n",
      "\n"
     ]
    }
   ],
   "source": [
    "prediccion = modelo.predict(X_test)\n",
    "print(classification_report(y_test, prediccion))"
   ]
  },
  {
   "cell_type": "markdown",
   "metadata": {
    "id": "QGot7ULAoOeo"
   },
   "source": [
    "Aqui no hay tanta importancia en quitar términos pues al reducr dim ya quita terminos.\n",
    "\n",
    "**Vamos a jugar un poco con el numero de dimensiones**, probaremos con 100. 750 y 1500 a ver si mejora los resultados de esas 500 dimensionmes.\n"
   ]
  },
  {
   "cell_type": "code",
   "execution_count": 377,
   "metadata": {
    "colab": {
     "base_uri": "https://localhost:8080/"
    },
    "id": "fzz4XT3mofqy",
    "outputId": "99143644-7945-4605-ec60-a9e83cda00d6"
   },
   "outputs": [
    {
     "data": {
      "text/plain": [
       "Pipeline(memory=None,\n",
       "         steps=[('tfidfvectorizer',\n",
       "                 TfidfVectorizer(analyzer='word', binary=False,\n",
       "                                 decode_error='strict',\n",
       "                                 dtype=<class 'numpy.float64'>,\n",
       "                                 encoding='utf-8', input='content',\n",
       "                                 lowercase=True, max_df=1.0, max_features=None,\n",
       "                                 min_df=1, ngram_range=(1, 1), norm='l2',\n",
       "                                 preprocessor=None, smooth_idf=True,\n",
       "                                 stop_words=None, strip_accents=None,\n",
       "                                 sublinear_tf=False,\n",
       "                                 token...\n",
       "                 TruncatedSVD(algorithm='randomized', n_components=100,\n",
       "                              n_iter=5, random_state=None, tol=0.0)),\n",
       "                ('normalizer', Normalizer(copy=False, norm='l2')),\n",
       "                ('svc',\n",
       "                 SVC(C=2, break_ties=False, cache_size=200, class_weight=None,\n",
       "                     coef0=0.0, decision_function_shape='ovr', degree=3,\n",
       "                     gamma='scale', kernel='rbf', max_iter=-1,\n",
       "                     probability=False, random_state=None, shrinking=True,\n",
       "                     tol=0.001, verbose=False))],\n",
       "         verbose=False)"
      ]
     },
     "execution_count": 377,
     "metadata": {
      "tags": []
     },
     "output_type": "execute_result"
    }
   ],
   "source": [
    "# Con pocas empeora\n",
    "vect = TfidfVectorizer()\n",
    "svd = TruncatedSVD(n_components=100)\n",
    "modelSVM = SVC(gamma='scale', C=2)\n",
    "\n",
    "modelo = make_pipeline(vect, svd, Normalizer(copy=False), modelSVM)\n",
    "#Entrenamos el modelo con el conjunto de train\n",
    "modelo.fit(X_train, y_train)"
   ]
  },
  {
   "cell_type": "code",
   "execution_count": 378,
   "metadata": {
    "colab": {
     "base_uri": "https://localhost:8080/"
    },
    "id": "6hRHNlJcofrD",
    "outputId": "e142589c-2543-41be-d0e5-fe7c8bc174f8"
   },
   "outputs": [
    {
     "name": "stdout",
     "output_type": "stream",
     "text": [
      "              precision    recall  f1-score   support\n",
      "\n",
      "       BUENA       0.57      0.74      0.64       395\n",
      "        MALA       0.71      0.57      0.63       395\n",
      "     REGULAR       0.48      0.43      0.45       374\n",
      "\n",
      "    accuracy                           0.58      1164\n",
      "   macro avg       0.58      0.58      0.57      1164\n",
      "weighted avg       0.59      0.58      0.58      1164\n",
      "\n"
     ]
    }
   ],
   "source": [
    "prediccion = modelo.predict(X_test)\n",
    "print(classification_report(y_test, prediccion))"
   ]
  },
  {
   "cell_type": "markdown",
   "metadata": {
    "id": "dsPhPk8-Gt0c"
   },
   "source": [
    "Con 100 no mejora a 500."
   ]
  },
  {
   "cell_type": "code",
   "execution_count": 379,
   "metadata": {
    "colab": {
     "base_uri": "https://localhost:8080/"
    },
    "id": "gzWeypSXoodP",
    "outputId": "2e16b938-5134-4f98-a8b4-05b8f7baf2d6"
   },
   "outputs": [
    {
     "data": {
      "text/plain": [
       "Pipeline(memory=None,\n",
       "         steps=[('tfidfvectorizer',\n",
       "                 TfidfVectorizer(analyzer='word', binary=False,\n",
       "                                 decode_error='strict',\n",
       "                                 dtype=<class 'numpy.float64'>,\n",
       "                                 encoding='utf-8', input='content',\n",
       "                                 lowercase=True, max_df=1.0, max_features=None,\n",
       "                                 min_df=1, ngram_range=(1, 1), norm='l2',\n",
       "                                 preprocessor=None, smooth_idf=True,\n",
       "                                 stop_words=None, strip_accents=None,\n",
       "                                 sublinear_tf=False,\n",
       "                                 token...\n",
       "                 TruncatedSVD(algorithm='randomized', n_components=1500,\n",
       "                              n_iter=5, random_state=None, tol=0.0)),\n",
       "                ('normalizer', Normalizer(copy=False, norm='l2')),\n",
       "                ('svc',\n",
       "                 SVC(C=2, break_ties=False, cache_size=200, class_weight=None,\n",
       "                     coef0=0.0, decision_function_shape='ovr', degree=3,\n",
       "                     gamma='scale', kernel='rbf', max_iter=-1,\n",
       "                     probability=False, random_state=None, shrinking=True,\n",
       "                     tol=0.001, verbose=False))],\n",
       "         verbose=False)"
      ]
     },
     "execution_count": 379,
     "metadata": {
      "tags": []
     },
     "output_type": "execute_result"
    }
   ],
   "source": [
    "# Con muchas tambien empeora un poco\n",
    "vect = TfidfVectorizer()\n",
    "svd = TruncatedSVD(n_components=1500)\n",
    "modelSVM = SVC(gamma='scale', C=2)\n",
    "\n",
    "modelo = make_pipeline(vect, svd, Normalizer(copy=False), modelSVM)\n",
    "#Entrenamos el modelo con el conjunto de train\n",
    "modelo.fit(X_train, y_train)"
   ]
  },
  {
   "cell_type": "code",
   "execution_count": 380,
   "metadata": {
    "colab": {
     "base_uri": "https://localhost:8080/"
    },
    "id": "EkOP4qmToodS",
    "outputId": "adb6ba85-5050-4142-9677-51be15ce27b6"
   },
   "outputs": [
    {
     "name": "stdout",
     "output_type": "stream",
     "text": [
      "              precision    recall  f1-score   support\n",
      "\n",
      "       BUENA       0.55      0.82      0.66       395\n",
      "        MALA       0.77      0.56      0.65       395\n",
      "     REGULAR       0.49      0.38      0.43       374\n",
      "\n",
      "    accuracy                           0.59      1164\n",
      "   macro avg       0.60      0.58      0.58      1164\n",
      "weighted avg       0.60      0.59      0.58      1164\n",
      "\n"
     ]
    }
   ],
   "source": [
    "prediccion = modelo.predict(X_test)\n",
    "print(classification_report(y_test, prediccion))"
   ]
  },
  {
   "cell_type": "markdown",
   "metadata": {
    "id": "1Tq5tmOLHESs"
   },
   "source": [
    "Con 1500 es prácticamente igual que con 500, incluso algo peor. **Preferimos 500 al ser menor y su modelo más sencillo.**"
   ]
  },
  {
   "cell_type": "code",
   "execution_count": 381,
   "metadata": {
    "colab": {
     "base_uri": "https://localhost:8080/"
    },
    "id": "Y9NHYPYScM8j",
    "outputId": "41098726-7e53-41c2-8218-c15e6568a608"
   },
   "outputs": [
    {
     "data": {
      "text/plain": [
       "Pipeline(memory=None,\n",
       "         steps=[('tfidfvectorizer',\n",
       "                 TfidfVectorizer(analyzer='word', binary=False,\n",
       "                                 decode_error='strict',\n",
       "                                 dtype=<class 'numpy.float64'>,\n",
       "                                 encoding='utf-8', input='content',\n",
       "                                 lowercase=True, max_df=1.0, max_features=None,\n",
       "                                 min_df=1, ngram_range=(1, 1), norm='l2',\n",
       "                                 preprocessor=None, smooth_idf=True,\n",
       "                                 stop_words=None, strip_accents=None,\n",
       "                                 sublinear_tf=False,\n",
       "                                 token...\n",
       "                 TruncatedSVD(algorithm='randomized', n_components=750,\n",
       "                              n_iter=5, random_state=None, tol=0.0)),\n",
       "                ('normalizer', Normalizer(copy=False, norm='l2')),\n",
       "                ('svc',\n",
       "                 SVC(C=2, break_ties=False, cache_size=200, class_weight=None,\n",
       "                     coef0=0.0, decision_function_shape='ovr', degree=3,\n",
       "                     gamma='scale', kernel='rbf', max_iter=-1,\n",
       "                     probability=False, random_state=None, shrinking=True,\n",
       "                     tol=0.001, verbose=False))],\n",
       "         verbose=False)"
      ]
     },
     "execution_count": 381,
     "metadata": {
      "tags": []
     },
     "output_type": "execute_result"
    }
   ],
   "source": [
    "# Con muchas tambien empeora \n",
    "vect = TfidfVectorizer()\n",
    "svd = TruncatedSVD(n_components=750)\n",
    "modelSVM = SVC(gamma='scale', C=2)\n",
    "\n",
    "modelo = make_pipeline(vect, svd, Normalizer(copy=False), modelSVM)\n",
    "#Entrenamos el modelo con el conjunto de train\n",
    "modelo.fit(X_train, y_train)"
   ]
  },
  {
   "cell_type": "code",
   "execution_count": 382,
   "metadata": {
    "colab": {
     "base_uri": "https://localhost:8080/"
    },
    "id": "_hOqQXzRcM8l",
    "outputId": "36e96ff2-7afc-46c2-9195-e40a5a8a230f"
   },
   "outputs": [
    {
     "name": "stdout",
     "output_type": "stream",
     "text": [
      "              precision    recall  f1-score   support\n",
      "\n",
      "       BUENA       0.55      0.82      0.66       395\n",
      "        MALA       0.76      0.59      0.66       395\n",
      "     REGULAR       0.48      0.34      0.40       374\n",
      "\n",
      "    accuracy                           0.59      1164\n",
      "   macro avg       0.60      0.58      0.57      1164\n",
      "weighted avg       0.60      0.59      0.58      1164\n",
      "\n"
     ]
    }
   ],
   "source": [
    "prediccion = modelo.predict(X_test)\n",
    "print(classification_report(y_test, prediccion))"
   ]
  },
  {
   "cell_type": "markdown",
   "metadata": {
    "id": "kYeI_OksIBWx"
   },
   "source": [
    "No se aprecian notables diferencias al uso de 5oo dimensiones, por lo que **nos quedamos con las 500 dimensiones**.\n"
   ]
  },
  {
   "cell_type": "markdown",
   "metadata": {
    "id": "V_poAqoxHmqd"
   },
   "source": [
    "##### **LSA + RBF SVM**\n",
    "Vamos a tratar de optimizarlo con GridSearch para ver si mejoraría a su versión análoga con Tf-Idf.\n",
    "\n",
    "\n",
    "\n"
   ]
  },
  {
   "cell_type": "markdown",
   "metadata": {
    "id": "NBZ7OD7BHmqe"
   },
   "source": [
    "Entrenamiento del modelo:"
   ]
  },
  {
   "cell_type": "code",
   "execution_count": 389,
   "metadata": {
    "id": "B2F1MVgNI2t7"
   },
   "outputs": [],
   "source": [
    "# Tratamos de optimizar hiperparametros con GridSearch\n",
    "param_grid = {'C': [2.0, 1.0],\n",
    "              'degree':[2, 3],\n",
    "              'tol': [0.001, 0.0001],\n",
    "              'probability': [True]} # Para sacar predict_proba para las ROC\n",
    "\n",
    "modelSVC_LSA = SVC(gamma='scale')\n",
    "cv = GridSearchCV(modelSVC_LSA, param_grid, cv=5, n_jobs=-1)\n",
    "\n",
    "#Entrenamos el modelo con el conjunto de train por GridSearch y nos quedamos con el mejor\n",
    "cv.fit(lsa_train, y_train)\n",
    "cv.cv_results_\n",
    "modelSVC_LSA = cv.best_estimator_"
   ]
  },
  {
   "cell_type": "code",
   "execution_count": 390,
   "metadata": {
    "colab": {
     "base_uri": "https://localhost:8080/"
    },
    "id": "DQaW3Q0mHmqf",
    "outputId": "756e1889-fddf-4c66-a3c4-9747b1162b9a"
   },
   "outputs": [
    {
     "data": {
      "text/plain": [
       "SVC(C=1.0, break_ties=False, cache_size=200, class_weight=None, coef0=0.0,\n",
       "    decision_function_shape='ovr', degree=2, gamma='scale', kernel='rbf',\n",
       "    max_iter=-1, probability=True, random_state=None, shrinking=True, tol=0.001,\n",
       "    verbose=False)"
      ]
     },
     "execution_count": 390,
     "metadata": {
      "tags": []
     },
     "output_type": "execute_result"
    }
   ],
   "source": [
    "modelSVC_LSA"
   ]
  },
  {
   "cell_type": "code",
   "execution_count": 391,
   "metadata": {
    "id": "HzOFooATHmqg"
   },
   "outputs": [],
   "source": [
    "modelSVC_LSA = cv.best_estimator_.fit(lsa_train, y_train)"
   ]
  },
  {
   "cell_type": "code",
   "execution_count": 394,
   "metadata": {
    "colab": {
     "base_uri": "https://localhost:8080/"
    },
    "id": "TQIjUM4EHmqh",
    "outputId": "429805db-7af3-45ba-d18f-5a71752d8eb9"
   },
   "outputs": [
    {
     "data": {
      "text/plain": [
       "array(['MALA', 'MALA', 'BUENA', 'MALA', 'REGULAR'], dtype=object)"
      ]
     },
     "execution_count": 394,
     "metadata": {
      "tags": []
     },
     "output_type": "execute_result"
    }
   ],
   "source": [
    "prediccion = modelSVC_LSA.predict(lsa_test)\n",
    "\n",
    "#5 primeras preds\n",
    "prediccion[:5]"
   ]
  },
  {
   "cell_type": "markdown",
   "metadata": {
    "id": "SuyoBv48Hmqm"
   },
   "source": [
    "Exactitud del modelo\n",
    "(Núm. predicciones correctas / Total de muestras)"
   ]
  },
  {
   "cell_type": "code",
   "execution_count": 396,
   "metadata": {
    "colab": {
     "base_uri": "https://localhost:8080/"
    },
    "id": "1j-wDpcaHmqn",
    "outputId": "9ee9fc82-744f-4a74-cf4d-c17b98defd45"
   },
   "outputs": [
    {
     "name": "stdout",
     "output_type": "stream",
     "text": [
      "Exactitud:  0.570446735395189\n"
     ]
    }
   ],
   "source": [
    "from sklearn.metrics import accuracy_score\n",
    "\n",
    "# Exactitud (accuracy) <> Precisón  \n",
    "print('Exactitud: ', accuracy_score(y_test, prediccion))"
   ]
  },
  {
   "cell_type": "markdown",
   "metadata": {
    "id": "zgyWq3iuHmqn"
   },
   "source": [
    "Matriz de confusión (predicción -columnas- frente a etiquetas reales -filas-)"
   ]
  },
  {
   "cell_type": "code",
   "execution_count": 397,
   "metadata": {
    "colab": {
     "base_uri": "https://localhost:8080/"
    },
    "id": "hW3MLntFHmqo",
    "outputId": "6767aece-e06a-476a-f1b3-be20710c8037"
   },
   "outputs": [
    {
     "data": {
      "text/plain": [
       "['BUENA', 'MALA', 'REGULAR']"
      ]
     },
     "execution_count": 397,
     "metadata": {
      "tags": []
     },
     "output_type": "execute_result"
    }
   ],
   "source": [
    "# Chequeamos el orden de las etiquetas en el modelo\n",
    "labels = list(modelSVC_TfIdf.classes_)\n",
    "labels"
   ]
  },
  {
   "cell_type": "code",
   "execution_count": 398,
   "metadata": {
    "colab": {
     "base_uri": "https://localhost:8080/",
     "height": 143
    },
    "id": "vuH2Kl9IHmqo",
    "outputId": "853ebd34-f0cf-484c-b5c7-c5ad93802d7a"
   },
   "outputs": [
    {
     "data": {
      "text/html": [
       "<div>\n",
       "<style scoped>\n",
       "    .dataframe tbody tr th:only-of-type {\n",
       "        vertical-align: middle;\n",
       "    }\n",
       "\n",
       "    .dataframe tbody tr th {\n",
       "        vertical-align: top;\n",
       "    }\n",
       "\n",
       "    .dataframe thead th {\n",
       "        text-align: right;\n",
       "    }\n",
       "</style>\n",
       "<table border=\"1\" class=\"dataframe\">\n",
       "  <thead>\n",
       "    <tr style=\"text-align: right;\">\n",
       "      <th></th>\n",
       "      <th>BUENA_true</th>\n",
       "      <th>MALA_true</th>\n",
       "      <th>REGULAR_true</th>\n",
       "    </tr>\n",
       "  </thead>\n",
       "  <tbody>\n",
       "    <tr>\n",
       "      <th>BUENA_true</th>\n",
       "      <td>323</td>\n",
       "      <td>21</td>\n",
       "      <td>51</td>\n",
       "    </tr>\n",
       "    <tr>\n",
       "      <th>MALA_true</th>\n",
       "      <td>99</td>\n",
       "      <td>212</td>\n",
       "      <td>84</td>\n",
       "    </tr>\n",
       "    <tr>\n",
       "      <th>REGULAR_true</th>\n",
       "      <td>189</td>\n",
       "      <td>56</td>\n",
       "      <td>129</td>\n",
       "    </tr>\n",
       "  </tbody>\n",
       "</table>\n",
       "</div>"
      ],
      "text/plain": [
       "              BUENA_true  MALA_true  REGULAR_true\n",
       "BUENA_true           323         21            51\n",
       "MALA_true             99        212            84\n",
       "REGULAR_true         189         56           129"
      ]
     },
     "execution_count": 398,
     "metadata": {
      "tags": []
     },
     "output_type": "execute_result"
    }
   ],
   "source": [
    "from sklearn.metrics import confusion_matrix\n",
    "\n",
    "cm=confusion_matrix(y_test, prediccion)\n",
    "pd.DataFrame(cm, index=('BUENA_true','MALA_true', 'REGULAR_true'), columns=('BUENA_true','MALA_true', 'REGULAR_true'))\n",
    "#filas: True, columnas: Prediction"
   ]
  },
  {
   "cell_type": "markdown",
   "metadata": {
    "id": "Y-luKJ6yHmqp"
   },
   "source": [
    "Podemos ver un informe más completo del clasificador con la métrica `classification_report`:"
   ]
  },
  {
   "cell_type": "code",
   "execution_count": 399,
   "metadata": {
    "colab": {
     "base_uri": "https://localhost:8080/"
    },
    "id": "OM6avqkFHmqp",
    "outputId": "8464fbae-a648-4fe0-d477-0517e2ef93d0"
   },
   "outputs": [
    {
     "name": "stdout",
     "output_type": "stream",
     "text": [
      "              precision    recall  f1-score   support\n",
      "\n",
      "       BUENA       0.53      0.82      0.64       395\n",
      "        MALA       0.73      0.54      0.62       395\n",
      "     REGULAR       0.49      0.34      0.40       374\n",
      "\n",
      "    accuracy                           0.57      1164\n",
      "   macro avg       0.58      0.57      0.56      1164\n",
      "weighted avg       0.59      0.57      0.56      1164\n",
      "\n"
     ]
    }
   ],
   "source": [
    "from sklearn.metrics import classification_report\n",
    "\n",
    "print(classification_report(y_test, prediccion))"
   ]
  },
  {
   "cell_type": "markdown",
   "metadata": {
    "id": "Lzde6hZzHmqq"
   },
   "source": [
    "Área bajo la curva ROC:  \n",
    "Para calcular el área bajo la curva ROC (AUC) es necesario obtener la probabilidad de salida del clasificador con `predict_proba`"
   ]
  },
  {
   "cell_type": "code",
   "execution_count": 401,
   "metadata": {
    "colab": {
     "base_uri": "https://localhost:8080/",
     "height": 349
    },
    "id": "nd1eD8ZEHmqq",
    "outputId": "c9189a8f-f7fb-4f93-de7d-88418e57654e"
   },
   "outputs": [
    {
     "data": {
      "image/png": "[encoded data removed]",
      "text/plain": [
       "<Figure size 720x360 with 1 Axes>"
      ]
     },
     "metadata": {
      "image/png": {
       "height": 332,
       "width": 676
      },
      "needs_background": "light",
      "tags": []
     },
     "output_type": "display_data"
    }
   ],
   "source": [
    "prediccion_prob = modelSVC_TfIdf.predict_proba(vect_TfIdf.transform(X_test))\n",
    "# Curvas ROC \n",
    "plot_auc(y_test, prediccion_prob, labels, \"Tf-Idf + RBF SVC\")"
   ]
  },
  {
   "cell_type": "markdown",
   "metadata": {
    "id": "iM7ePVDLOLkF"
   },
   "source": [
    "Pese a todo no es mejor que su versión con TF-IDF, por lo que nos quedaríamos con la otra."
   ]
  },
  {
   "cell_type": "markdown",
   "metadata": {
    "id": "_pRiHeTwvuad"
   },
   "source": [
    "# NOTAS/ MEJORAS\n",
    " - Probar con correccion de texto antes de generar el normalizado, este para Español no funciona muy bien como podemos ver más abajo.\n",
    "\n",
    " Referencia: https://spacy.io/universe/project/contextualSpellCheck"
   ]
  },
  {
   "cell_type": "code",
   "execution_count": null,
   "metadata": {
    "id": "qU124PpQ03YI"
   },
   "outputs": [],
   "source": [
    "!pip install contextualSpellCheck"
   ]
  },
  {
   "cell_type": "code",
   "execution_count": null,
   "metadata": {
    "id": "OGBcJsbe0FCK"
   },
   "outputs": [],
   "source": [
    "import spacy\n",
    "import contextualSpellCheck\n",
    "\n",
    "nlp = spacy.load('es_core_news_md')\n",
    "contextualSpellCheck.add_to_pipe(nlp)\n",
    "doc = nlp('Hola, buenod dias')\n",
    "\n",
    "print(doc._.performed_spellCheck) #Should be True\n",
    "print(doc._.outcome_spellCheck) "
   ]
  },
  {
   "cell_type": "markdown",
   "metadata": {
    "id": "g5dQnSYcMsvm"
   },
   "source": [
    "- Filtrar por POS-tags, permitir solo un subconjunto de ellos donde los ADJ estén presentes, esto habría estado bien probarlo algo parecido a `allowed_postags=['NOUN', 'ADJ', 'VERB', 'ADV', 'PROPN']` en la funcion de normalización, pero ha faltado tiempo.\n",
    "\n",
    "\n"
   ]
  },
  {
   "cell_type": "markdown",
   "metadata": {
    "id": "9FiBLcsWleVN"
   },
   "source": [
    "Entrega de los ejercicios:\n",
    "- Debes ejecutar cada ejercicio en un notebook separado. \n",
    "- Entrega como solución el notebook ya ejecutado y exportado como HTML."
   ]
  }
 ],
 "metadata": {
  "colab": {
   "collapsed_sections": [],
   "name": "Ejercicios NLP - Primera parte, Ejercicio 1.ipynb",
   "provenance": [],
   "toc_visible": true
  },
  "kernelspec": {
   "display_name": "Python 3",
   "language": "python",
   "name": "python3"
  },
  "language_info": {
   "codemirror_mode": {
    "name": "ipython",
    "version": 3
   },
   "file_extension": ".py",
   "mimetype": "text/x-python",
   "name": "python",
   "nbconvert_exporter": "python",
   "pygments_lexer": "ipython3",
   "version": "3.8.3"
  }
 },
 "nbformat": 4,
 "nbformat_minor": 1
}
