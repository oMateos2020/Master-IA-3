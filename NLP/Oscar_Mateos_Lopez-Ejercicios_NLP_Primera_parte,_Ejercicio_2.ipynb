{
 "cells": [
  {
   "cell_type": "markdown",
   "id": "6278fae3-e6c9-4b11-98eb-b6fa3082471e",
   "metadata": {
    "id": "23pU1mVwuVhy"
   },
   "source": [
    "# Alumno: Oscar Mateos López"
   ]
  },
  {
   "cell_type": "markdown",
   "id": "bea37f49-e2aa-449e-9909-dedda734fae2",
   "metadata": {
    "id": "UgRnpKudjk27"
   },
   "source": [
    "# **Ejercicios NLP (primera parte) Para evaluar la primera parte del módulo de PLN se proponen dos ejercicios**\n",
    " \n",
    "Ambos ejercicios utilizan el corpus de críticas de cine \"mundocine\". \n",
    "\n",
    "Estas críticas están almacenadas en archivos XML en un formato que ya se ha visto el el notebook NLP_07."
   ]
  },
  {
   "cell_type": "code",
   "execution_count": 1,
   "id": "2e70bfda-7cb9-4d64-989f-070c6cca9c81",
   "metadata": {
    "colab": {
     "base_uri": "https://localhost:8080/"
    },
    "id": "Z8l2V-6pr4NS",
    "outputId": "359908ef-07e5-44be-c3eb-b3c24edec7f6"
   },
   "outputs": [],
   "source": [
    "import os\n",
    "import zipfile\n",
    "import numpy as np\n",
    "import pandas as pd\n",
    "from pprint import pprint\n",
    "import warnings\n",
    "#from xml.dom.minidom import parseString\n",
    "from bs4 import BeautifulSoup\n",
    "\n",
    "# Normalizacion y limpieza\n",
    "import re\n",
    "from unicodedata import normalize\n",
    "from nltk.corpus import stopwords\n",
    "\n",
    "# Gensim\n",
    "import gensim\n",
    "import gensim.corpora as corpora\n",
    "from gensim.utils import simple_preprocess\n",
    "from gensim.models import CoherenceModel, LdaModel, LsiModel, HdpModel\n",
    "warnings.filterwarnings('ignore')\n",
    " \n",
    "# spacy para lematizar\n",
    "import spacy\n",
    " \n",
    "# herramientas de dibujado\n",
    "import pyLDAvis\n",
    "import pyLDAvis.gensim_models as gensimvis\n",
    " \n",
    "import matplotlib.pyplot as plt\n",
    "%matplotlib inline\n",
    "\n",
    "import warnings\n",
    "warnings.filterwarnings('ignore')"
   ]
  },
  {
   "cell_type": "code",
   "execution_count": 2,
   "id": "099b2327-37df-4edd-bfbc-12b57afe00a4",
   "metadata": {
    "colab": {
     "base_uri": "https://localhost:8080/"
    },
    "id": "f_lgJ8y3hw00",
    "outputId": "00e584b2-bcb8-48ee-b840-d0ebe53a905c"
   },
   "outputs": [
    {
     "name": "stderr",
     "output_type": "stream",
     "text": [
      "Downloading...\n",
      "From: https://drive.google.com/uc?id=1uWcXDDZirXxJkjxM04Pntf4XoNDc1rvu\n",
      "To: C:\\Users\\omate\\Downloads\\NLP E2\\criticas.zip\n",
      "\n",
      "0.00B [00:00, ?B/s]\n",
      "524kB [00:00, 4.89MB/s]\n",
      "1.57MB [00:00, 6.57MB/s]\n",
      "3.15MB [00:00, 9.08MB/s]\n",
      "4.72MB [00:00, 10.5MB/s]\n",
      "6.29MB [00:00, 11.6MB/s]\n",
      "6.73MB [00:00, 10.1MB/s]\n"
     ]
    }
   ],
   "source": [
    "# Me descargo el fichero de mi drive a traves de un enlace compartido (tenia problemas al subirlo al Colab a mano)\n",
    "!gdown --id 1uWcXDDZirXxJkjxM04Pntf4XoNDc1rvu"
   ]
  },
  {
   "cell_type": "code",
   "execution_count": 3,
   "id": "84a4322b-df74-46f6-8745-8ecd07db3576",
   "metadata": {},
   "outputs": [],
   "source": [
    "with zipfile.ZipFile(\"criticas.zip\",\"r\") as zip_ref:\n",
    "    zip_ref.extractall(\".\")"
   ]
  },
  {
   "cell_type": "code",
   "execution_count": 4,
   "id": "48c01295-e581-41f0-be2d-e965fd4bbdb7",
   "metadata": {
    "colab": {
     "base_uri": "https://localhost:8080/"
    },
    "id": "AwS-P3_6kxiR",
    "outputId": "50465f96-d44d-4cc1-9372-eccb7510e2f6"
   },
   "outputs": [
    {
     "name": "stdout",
     "output_type": "stream",
     "text": [
      "2714\n"
     ]
    }
   ],
   "source": [
    "# Contamos número de criticas total en train\n",
    "!ls criticas/train/*.xml | wc -l"
   ]
  },
  {
   "cell_type": "code",
   "execution_count": 5,
   "id": "dcebaf80-f844-485c-a27c-0c30ec3ecf67",
   "metadata": {
    "colab": {
     "base_uri": "https://localhost:8080/"
    },
    "id": "aYatgvVxmwBZ",
    "outputId": "cb9d81eb-582e-45ba-e3b6-ed07d1d116b0"
   },
   "outputs": [
    {
     "name": "stdout",
     "output_type": "stream",
     "text": [
      "1164\n"
     ]
    }
   ],
   "source": [
    "# Contamos número de criticas total en test\n",
    "!ls criticas/test/*.xml | wc -l"
   ]
  },
  {
   "cell_type": "markdown",
   "id": "f40dfe3d-512b-401a-8f19-cdea60baf45a",
   "metadata": {
    "id": "7AsY8RD_jhwA"
   },
   "source": [
    "# **Ejercicio 2: topic modeling**\n",
    "Une ambos conjuntos de críticas en un directorio común y entrena un modelo de topic modeling sobre este corpus. Determina el número más adecuado de temas (prueba el barrido entre 5 y 15 solamente). \n",
    "\n",
    "Haz un pequeño análisis de las temáticas:\n",
    "- Nº de documentos con cada temática como principal.\n",
    "- Documento más representantivo de cada temática.\n",
    "- Principales términos que determinan cada temática.\n"
   ]
  },
  {
   "cell_type": "markdown",
   "id": "9701fbef-804e-4403-9aac-4c761131d70c",
   "metadata": {},
   "source": [
    "# Descripción del proceso\n",
    "\n",
    "El proceso es un pipeline manual (no se ha llegado a integrar en un pipeline real, pero podría automatizarse totalmente) donde se realizan los siguientes pasos:\n",
    "\n",
    "Preparación del corpus\n",
    " - Generación del directorio *topic_corpus*\n",
    " - Función para procesar e interpretar los XMLs por Streaming de ficheros\n",
    " - Preparacion del conjunto de Stop-Words\n",
    " - Clase de pre-procesado simple, limpieza del texto y tokenizado de textos\n",
    " - Colocaciones: Creamos bigramas y trigramas\n",
    " - Lematizado y filtrado de POS-Tags\n",
    " - Ranking y poda de palabras más frecuentes del corpus, expansion de las Stop-words con palabras del ámbito cinematográfico\n",
    " - Creamos el diccionario y el corpus para Topic Modeling\n",
    " \n",
    "Creación del modelo LDA\n",
    " - Generación y visualización de un modelo inicial\n",
    " - Optimización del Diccionario y del Corpus: Búsqueda de los parámetros de filtrado\n",
    " - Generación y visualización de un modelo con el nuevo corpus\n",
    " - Selección del número de temas, barrido entre 5 y 15 temáticas\n",
    " - Generacion de los modelos con el mejor número de temas y aplicaciones prácticas\n",
    "     - Principales términos que determinan cada temática, mediante la visualización de las temáticas\n",
    "     - Determinar el tema dominante en cada documento \n",
    "     - Determinar el documento más representativo de cada temática\n",
    "     - Distribución de temas entre documentos (Nº de documentos con cada temática como principal)\n"
   ]
  },
  {
   "cell_type": "markdown",
   "id": "a935cd3c-d8b6-4f85-98e7-f1d4d6d67e57",
   "metadata": {},
   "source": [
    "<img src=\"https://miro.medium.com/max/700/1*_Fc9iOoKx0kgAmrjEEFH2g.png\">\n",
    "\n",
    "Fuente imagen: https://medium.com/@armandj.olivares/topic-modeling-on-spanish-text-f7a5e998fb90"
   ]
  },
  {
   "cell_type": "markdown",
   "id": "18ad52dc-389b-4a8b-9ff6-4b01c8f7b040",
   "metadata": {},
   "source": [
    "## Preparación del corpus"
   ]
  },
  {
   "cell_type": "code",
   "execution_count": 6,
   "id": "c7836277-df05-40de-b826-57e37846e0d7",
   "metadata": {
    "id": "IFUCzcPp6y6c"
   },
   "outputs": [],
   "source": [
    "# Operaciones para obtener el directorio 'criticas/topic_corpus' con el contenido de train y test\n",
    "%mkdir criticas\\topic_corpus"
   ]
  },
  {
   "cell_type": "code",
   "execution_count": 7,
   "id": "3b8f7dd3-1ad6-40ea-9825-b55872f6f17b",
   "metadata": {
    "colab": {
     "base_uri": "https://localhost:8080/"
    },
    "id": "5-xUhv7266EW",
    "outputId": "afb1808a-ee91-41db-95cb-a03e99865b72"
   },
   "outputs": [
    {
     "name": "stdout",
     "output_type": "stream",
     "text": [
      "test\n",
      "topic_corpus\n",
      "train\n"
     ]
    }
   ],
   "source": [
    "!ls criticas"
   ]
  },
  {
   "cell_type": "code",
   "execution_count": 8,
   "id": "1fea0344-9e64-45f3-9cb2-af2844f698cd",
   "metadata": {
    "id": "2coYBhTK68IU"
   },
   "outputs": [],
   "source": [
    "!move criticas\\test\\*.xml criticas\\topic_corpus >nul\n",
    "!move criticas\\train\\*.xml criticas\\topic_corpus >nul"
   ]
  },
  {
   "cell_type": "code",
   "execution_count": 103,
   "id": "7aa305f5-87e4-4bb7-bb5a-dbaa63f7ca7e",
   "metadata": {
    "colab": {
     "base_uri": "https://localhost:8080/"
    },
    "id": "2lYtxpr37S12",
    "outputId": "fe85b378-002d-4515-e73d-7a9ee10c4703"
   },
   "outputs": [
    {
     "name": "stdout",
     "output_type": "stream",
     "text": [
      "3878\n"
     ]
    }
   ],
   "source": [
    "# Contamos número de criticas total en train\n",
    "!ls criticas/topic_corpus/*.xml | wc -l"
   ]
  },
  {
   "cell_type": "code",
   "execution_count": 10,
   "id": "4ebda226-44b3-49ac-81b1-a343b4b82023",
   "metadata": {
    "id": "xXLZ32V5ArGo"
   },
   "outputs": [],
   "source": [
    "!rm -rf criticas\\test\\\n",
    "!rm -rf criticas\\train\\"
   ]
  },
  {
   "cell_type": "code",
   "execution_count": 11,
   "id": "cb297b5f-a3c4-48f3-9f31-cf8fb2f389d4",
   "metadata": {
    "colab": {
     "base_uri": "https://localhost:8080/"
    },
    "id": "I7lwaHfsA1S2",
    "outputId": "d17c0c49-5ec3-4aba-eb34-27156d4c9fa9"
   },
   "outputs": [
    {
     "name": "stdout",
     "output_type": "stream",
     "text": [
      "topic_corpus\n"
     ]
    }
   ],
   "source": [
    "!ls criticas"
   ]
  },
  {
   "cell_type": "markdown",
   "id": "ad75a838-c70e-4faf-bc16-0d81165e5184",
   "metadata": {},
   "source": [
    "## Función para procesar e interpretar los XMLs por Streaming de ficheros"
   ]
  },
  {
   "cell_type": "markdown",
   "id": "7a7af637-035d-4d0e-bf8d-4c5bcd4d5ca1",
   "metadata": {},
   "source": [
    "**Restos de HTML detectados**\n",
    "\n",
    "Como hay muchos caracteres HTML a los que se les ha limpiado el caracter de apertura '&', analizamos donde se elimina este caracter y se detecta que es en la funcion `parse_folder` que veníamos usando del ejercicio 1 propuesta en clase, donde se elimina este caracter, tras varias pruebas se decide volver a implementar esta funcion de forma mucho más simple y que interprete correctamente las codificaciones de caracteres especiales HTML.\n",
    "\n",
    "**Se usará el parser xml de BautifulSoup que interpreta el texto HTML correctamente.**"
   ]
  },
  {
   "cell_type": "code",
   "execution_count": 12,
   "id": "d11c9feb-f847-4b19-9cdb-7e0adc52c662",
   "metadata": {},
   "outputs": [],
   "source": [
    "# Funcion para cargar las criticas de cada directorio en modo stream con BeautifulSoup\n",
    "def parse_folder(path):\n",
    "    \"\"\"generator that reads the contents of XML files in a folder\n",
    "    Returns the <body> of the <review> in each XML file.\n",
    "    XML files encoded as 'latin-1'\"\"\"\n",
    "    for file in sorted([f for f in os.listdir(path) if f.endswith('.xml')],\n",
    "                        key=lambda x: int(re.match(r'\\d+',x).group())):\n",
    "        #with open(os.path.join(path, file), encoding='latin-1') as f:\n",
    "        #   doc=parseString(f.read())\n",
    "        with open(os.path.join(path, file), encoding='latin-1') as f:\n",
    "            contents = f.read()\n",
    "            \n",
    "            soup = BeautifulSoup(contents, 'xml')\n",
    "\n",
    "            titulo = soup.review['title']\n",
    "            rtxt = soup.summary.text\n",
    "            btxt = soup.body.text  \n",
    "            rank = int(soup.review['rank'])\n",
    " \n",
    "            #Tramificar puntuaciones\n",
    "            if (rank >= 1 and rank <= 2):\n",
    "              rank_rating = \"MALA\"\n",
    "            elif (rank == 3):\n",
    "              rank_rating = \"REGULAR\"\n",
    "            elif (rank > 3 and rank <= 5):\n",
    "              rank_rating = \"BUENA\"\n",
    " \n",
    "            yield titulo, rtxt, btxt, rank, rank_rating"
   ]
  },
  {
   "cell_type": "markdown",
   "id": "869c322e-8d8b-47cb-ba7c-ce32d01afc09",
   "metadata": {},
   "source": [
    "**Limpieza inicial de los textos: Función para realizar la primera limpieza básica de los textos previa a sacar bi-gramas o tri-gramas**\n",
    "\n",
    "Limpieza básica para eliminar menciones (@ o #), URLs, emails, saltos de línea, espacios exta... esta normalización suave se realiza previa a la extracción de bigramas y tri-gramas, por lo que aún ni se lematiza ni se filtra mediante POS-tagging o resticciones de longitudes.\n",
    "\n",
    "También se eliminan acentos y otras puntuaciones diacríticas* mediante normalización canónica y se pasa todo a minúsculas.\n",
    "Se usarán expresiones regulares."
   ]
  },
  {
   "cell_type": "markdown",
   "id": "2d597df0-02e0-48d7-9377-30e06e9520b3",
   "metadata": {},
   "source": [
    "**Eliminación de diacríticos**\n",
    "\n",
    "Eliminar todos los diacríticos excepto la ñ:\n",
    "\n",
    "Todas las marcas diacríticas están en un bloque en el rango U+0300 - U+036F (Combining Diacritical Marks). Y vamos a hacer la excepción para U+0303, la virgulilla (~), pero \n",
    " - sólo si está después de una n (reemplazando otras como una ã) \n",
    " - y sólo si no tiene otros diacríticos (reemplazando cosas raras como ñ͚͡) con un regex donde el primer grupo es el caracter base y los diacríticos están fuera del grupo:\n",
    "\n",
    "`([^n\\u0300-\\u036f]|n(?!\\u0303(?![\\u0300-\\u036f])))[\\u0300-\\u036f]+`\n",
    "\n",
    "  - `([^n\\u0300-\\u036f])[\\u0300-\\u036f]+` un caracter que no es una n ni un diacrítico, seguido de diacríticos, o\n",
    "  - `(n(?!\\u0303(?![\\u0300-\\u036f])))[\\u0300-\\u036f]+` una `n` que no está seguida por `~` (a menos que esta última esté seguida por otro diacrítico), entonces sí que coincida con todos los diacríticos que le siguen.\n",
    "\n",
    "Reemplazando por `\\1` nos quedamos con la letra sin el diacrítico.\n",
    "\n",
    "Fuente: https://es.stackoverflow.com/questions/135707/c%C3%B3mo-puedo-reemplazar-las-letras-con-tildes-por-las-mismas-sin-tilde-pero-no-l"
   ]
  },
  {
   "cell_type": "code",
   "execution_count": 13,
   "id": "833136e8-d39d-48e7-9bd5-289751b3b2b6",
   "metadata": {},
   "outputs": [],
   "source": [
    "# Definimos reglas de limpieza antes de lematizar \n",
    "def sanitize_doc(text):\n",
    "    \"\"\"Función realiza una primera limpieza-normalización del texto a traves de expresiones regex\"\"\"\n",
    "    text = re.sub(r'@[\\w_]+|#[\\w_]+|https?://[\\w_./]+', '', text) # Elimina menciones y URL, esto sería más para Tweets pero por si hay alguna mención o URL al ser criticas web   \n",
    "    text = re.sub('\\S*@\\S*\\s?', '', text) # Elimina correos electronicos\n",
    "    text = re.sub(r'[(\\d+)]+', '', text) #Elimina numeros entre parentesis\n",
    "    text = re.sub(r'\\n', '', text) #Elimina saltos de linea\n",
    "    text = re.sub('\\s+', ' ', text) # Elimina espacios en blanco adicionales\n",
    "    text = re.sub(r'-+', '', text) # Quita guiones para unir palabras compuestas (normalizaría algunos casos, exmujer y ex-mujer, todos a exmujer)\n",
    "    text = re.sub(r'\\.{3}', ' ', text) # Reemplaza puntos suspensivos\n",
    "    # Esta exp regular se ha incluido \"a mano\" tras ver que era necesaria para algunos ejemplos\n",
    "    text = re.sub(r\"([\\.\\?])\", r\"\\1 \", text) # Introduce espacio despues de punto e interrogacion\n",
    "    # -> NFD (Normalization Form Canonical Decomposition) y eliminar diacríticos\n",
    "    text = re.sub(r\"([^n\\u0300-\\u036f]|n(?!\\u0303(?![\\u0300-\\u036f])))[\\u0300-\\u036f]+\", r\"\\1\", \n",
    "                  normalize( \"NFD\", text), 0, re.I) # Eliminación de diacriticos (acentos y variantes puntuadas de caracteres por su forma simple excepto la 'ñ')\n",
    "    # -> NFC (Normalization Form Canonical Composition)\n",
    "    text = normalize( 'NFC', text)\n",
    "\n",
    "    return text.lower().strip()"
   ]
  },
  {
   "cell_type": "markdown",
   "id": "365a1620-3c16-4c7d-acf3-b576aed2fd56",
   "metadata": {},
   "source": [
    "## Preparacion del conjunto de Stop-Words"
   ]
  },
  {
   "cell_type": "code",
   "execution_count": 14,
   "id": "766bbbcc-c31f-484e-9a8a-052e3029fbfd",
   "metadata": {},
   "outputs": [
    {
     "data": {
      "text/plain": [
       "['de', 'la', 'que', 'el', 'en', 'y', 'a', 'los', 'del', 'se']"
      ]
     },
     "execution_count": 14,
     "metadata": {},
     "output_type": "execute_result"
    }
   ],
   "source": [
    "# Como hemos quitado acentos en los docs aqui tambien ya que se ha comprobado que hay terminos acentuados\n",
    "sanitized_stopwords = [sanitize_doc(w) for w in stopwords.words('spanish')]\n",
    "\n",
    "# Vemos las 10 primeras...\n",
    "sanitized_stopwords[:10]"
   ]
  },
  {
   "cell_type": "markdown",
   "id": "6b9d4b47-d0f7-4fde-b46e-d8c9fbc31882",
   "metadata": {},
   "source": [
    "## Clase de pre-procesado simple, limpieza del texto y tokenizado de textos\n",
    "Esta es una vieja conocida del Ejercicio 1, se ha mantenido el criterio de imputación de criticas faltantes por su resumen o eliminación de la critica completa si faltan ambos.\n",
    "También se ha cambiado la llamada a lemmatize_doc por simple_preprocess de Gensim y la función de saneado de texto anterior."
   ]
  },
  {
   "cell_type": "code",
   "execution_count": 15,
   "id": "ed5d6ccd-458c-42e6-a8fb-86fc01c45ba1",
   "metadata": {
    "id": "4xCcF18hyUSj"
   },
   "outputs": [],
   "source": [
    "# Se define el iterador como una clase, \n",
    "# se diferencia de un simple generator en que se puede reiniciar\n",
    "class PreprocesaCriticasClass(object):\n",
    "    \"\"\"Pre-procesa el corpus de críticas con la función de la librería gensim\n",
    "    Entrada: directorio de críticas\n",
    "    Salida: iterador sobre las críticas (como lista de tokens)\"\"\"\n",
    "    def __init__(self, dirname):\n",
    "        # variable interna de la clase para el dir\n",
    "        self.dirname = dirname\n",
    " \n",
    "    # Necesario definir metodo __iter__\n",
    "    # Tuplas de parse_folder: (titulo, rtxt (resumen de la critica), btxt (critica), rank [1-5])\n",
    "    def __iter__(self):\n",
    "        for c in parse_folder(self.dirname): # aqui se reinicia cada vez (empieza desde el principio)\n",
    "          # Usamos mejor el criterio de usar el resumen si este es mayor que la crítica,\n",
    "          if len(c[1]) > len(c[2]):\n",
    "            yield [word for word in simple_preprocess(sanitize_doc(c[1])) if word not in sanitized_stopwords]  # Filtramos Stop-Words\n",
    "          # Y para los casos en los que ambas esten vacías se eliminarían\n",
    "          elif len(c[2]) == 0:\n",
    "            continue   # Saltamos la(s) vacía(s)\n",
    "          else:\n",
    "            yield [word for word in simple_preprocess(sanitize_doc(c[2])) if word not in sanitized_stopwords] # Filtramos Stop-Words"
   ]
  },
  {
   "cell_type": "markdown",
   "id": "3779de4a-68ef-4713-8c5b-c07705aeb55a",
   "metadata": {},
   "source": [
    "**Análisis de la limpieza realizada**"
   ]
  },
  {
   "cell_type": "code",
   "execution_count": 16,
   "id": "ad22aae8-9b97-4e58-b764-87a54b1a1ada",
   "metadata": {
    "id": "3LiRW5q-yUSi",
    "tags": []
   },
   "outputs": [],
   "source": [
    "# Corpus folder\n",
    "path = \"criticas\\\\topic_corpus\\\\\"\n",
    "texto = PreprocesaCriticasClass(path)"
   ]
  },
  {
   "cell_type": "code",
   "execution_count": 17,
   "id": "973fd777-89b7-4138-8aa9-bc52384ad129",
   "metadata": {
    "colab": {
     "base_uri": "https://localhost:8080/"
    },
    "id": "d0s7BRp15RmM",
    "outputId": "51e1e7e4-f1a0-4ee0-9cfc-9f87ea464065",
    "tags": []
   },
   "outputs": [
    {
     "name": "stdout",
     "output_type": "stream",
     "text": [
      "['cada', 'vez', 'gusta', 'menos', 'cine', 'masas', 'peliculas', 'ven', 'mundo', 'parecen', 'cada', 'vez', 'coñazo', 'insufribles', 'siempre', 'prota', 'tonto', 'culo', 'suerte', 'final', 'peli', 'logrado', 'vencer', 'mal', 'convierte', 'listo', 'chorradas', 'hacia', 'comienzo', 'pelicula', 'esfuman', 'arte', 'magia', 'vuelve', 'maduro', 'inteligente', 'peli', 'spielberg', 'mismo', 'huir', 'huir', 'den', 'solo', 'tiro', 'ademas', 'cabron', 'metido', 'par', 'actores', 'echarles', 'comer', 'aparte', 'niña', 'vieja', 'metida', 'cuerpo', 'niña', 'solo', 'verle', 'hablar', 'version', 'original', 'claro', 'darse', 'cuenta', 'grandes', 'freaks', 'cine', 'creeran', 'hace', 'gracia', 'nena', 'habla', 'igual', 'puta', 'madre', 'causa', 'pavor', 'ver', 'cria', 'habla', 'persona', 'madura', 'horroroso', 'niños', 'niños', 'verlos', 'rol', 'asusta', 'luego', 'hijo', 'adolescente', 'cruise', 'subnormal', 'darle', 'bofetadas', 'vea', 'hueso', 'mano', 'fiel', 'reflejo', 'denomina', 'manipulacion', 'militar', 'chico', 'quiere', 'matar', 'bichos', 'ningun', 'arma', 'hale', 'loco', 'pensar', 'venga', 'saco', 'quereis', 'diga', 'parece', 'fanatismo', 'locura', 'alguien', 'quiera', 'ir', 'luchar', 'medios', 'ir', 'muerte', 'segura', 'jode', 'sobremanera', 'final', 'pelicula', 'aparezca', 'mongo', 'abuelos', 'toda', 'familia', 'salva', 'dios', 'encima', 'vieja', 'aparece', 'traje', 'domingos', 'toda', 'maquillada', 'sinsorgada', 'solo', 'falta', 'cruise', 'vuelva', 'exmujer', 'mundo', 'mejor', 'tranquilos', 'cuento', 'final', 'peli', 'pasa', 'todas', 'pelis', 'acaban', 'igual', 'manera', 'decir', 'resta', 'misterio', 'bodrio', 'va', 'spielberg', 'paso', 'va', 'convertir', 'tan', 'solo', 'director', 'bueno', 'haciendo', 'efectos', 'especiales', 'contando', 'historias', 'disteis', 'cuenta', 'norteamericanos', 'saben', 'guardar', 'compostura', 'dicen', 'gritando', 'momentos', 'dificiles', 'sensato', 'tranquilizarse', 'discutir', 'chorradas', 'toda', 'puta', 'peli', 'paran', 'gritar', 'pegarse', 'hace', 'gracia', 'comienzo', 'peli', 'suelo', 'empieza', 'resquebrajarse', 'gente', 'queda', 'ahi', 'mirar', 'pasa', 'joder', 'corriendo', 'puta', 'hace', 'tiempo', 'escondiendome', 'veo', 'bicho', 'lanzando', 'rayos', 'machacando', 'to', 'dios', 'escondo', 'fin', 'seguir', 'hablando', 'mierda', 'querian', 'conseguido', 'pagasemos', 'entrada', 'creo', 'va', 'ir', 'cine', 'prima', 'partir', 'ahora', 'bajare', 'internet', 've', 'calidad', 'pelis', 'aceptable', 'puedo', 'pasarla', 'palante', 'hoy', 'dia', 'tener', 'mando', 'forward', 'mano', 'morir']\n"
     ]
    }
   ],
   "source": [
    "# Primera critica ya tokenizada y limpia\n",
    "for t in texto:\n",
    "    print(t)\n",
    "    break"
   ]
  },
  {
   "cell_type": "markdown",
   "id": "b99885ed-2762-4285-8681-6c320f18677a",
   "metadata": {
    "id": "CV7uJ8_zr4Nf"
   },
   "source": [
    "### **Colocaciones: Creamos bigramas y trigramas**\n",
    "Creamos un modelo para las palabras más frecuentes como bigrama para considerar estos tokens juntos en lugar de separados."
   ]
  },
  {
   "cell_type": "code",
   "execution_count": 18,
   "id": "31e080d6-6962-49af-8d06-f0472b6f7902",
   "metadata": {
    "id": "aDV0yHgMr4Ng"
   },
   "outputs": [],
   "source": [
    "#creamos bigramas y trigramas\n",
    "# es importante usar un iterador que se pueda recorrer varias veces (texto con la clase en vez de funcion que itera)\n",
    "bigram = gensim.models.Phrases(texto, min_count=10, threshold=100) # higher threshold fewer phrases.\n",
    "# si no vamos a reentrenar el corpus podemos usar el diccionario de Phraser\n",
    "#optimizamos una vez entreando\n",
    "bigram_mod = gensim.models.phrases.Phraser(bigram)\n",
    "\n",
    "trigram = gensim.models.Phrases(bigram_mod[texto], min_count=10, threshold=100)  \n",
    "trigram_mod = gensim.models.phrases.Phraser(trigram)\n",
    "\n",
    "def make_trigrams(text):\n",
    "    '''Devuelve un doc convertido en trigramas según el\n",
    "    modelo trigram_mod. La entrada tiene que ser una lista\n",
    "    de de tokens'''\n",
    "    return trigram_mod[bigram_mod[text]]"
   ]
  },
  {
   "cell_type": "markdown",
   "id": "51dc2c1a-371e-463f-8c52-203849e6dac5",
   "metadata": {
    "id": "8y6plRPJr4Ni"
   },
   "source": [
    "Clases *Streamer* de datos para generar el texto convertido en bigramas o bigramas+trigramas a partir de un corpus normalizado:"
   ]
  },
  {
   "cell_type": "code",
   "execution_count": 19,
   "id": "21f2b434-3533-4120-beb7-5df9cd3443fa",
   "metadata": {
    "id": "ZdM7wUo_r4N0"
   },
   "outputs": [],
   "source": [
    "# Hay q definir clase iterable para q vuelva desde el principio para poder usarlo con LDA por ejemplo\n",
    "# La entrada debe haber sido normalizada previamente\n",
    "class TrigramCorpus(object):\n",
    "    \"\"\"Pre-procesa un archivo de texto línea a línea\n",
    "    Entrada: nombre del archivo de texto a procesar (string) NORMALIZADO\n",
    "    Salida: iterador sobre cada línea normalizado (lista de tokens)\"\"\"\n",
    "    def __init__(self, corpus):\n",
    "        self.corpus = corpus\n",
    " \n",
    "    def __iter__(self):\n",
    "        for t in self.corpus:\n",
    "            yield make_trigrams(t) # devuelve el texto procesado por la funcion de crear trigramas"
   ]
  },
  {
   "cell_type": "code",
   "execution_count": 20,
   "id": "b1bb484c-010f-40f2-b2d4-7dbec886d0f7",
   "metadata": {},
   "outputs": [
    {
     "data": {
      "text/plain": [
       "['version_original',\n",
       " 'darse_cuenta',\n",
       " 'quereis_diga',\n",
       " 'efectos_especiales',\n",
       " 'hoy_dia']"
      ]
     },
     "execution_count": 20,
     "metadata": {},
     "output_type": "execute_result"
    }
   ],
   "source": [
    "# Comprobamos con bigramas primer texto\n",
    "doc1 = next(iter(texto))\n",
    "re.findall(r'\\w+_\\w+', str(bigram_mod[doc1]))"
   ]
  },
  {
   "cell_type": "markdown",
   "id": "418dab33-dc7d-4147-8f56-334b85784fa8",
   "metadata": {
    "id": "ZC0_20_pKU4j"
   },
   "source": [
    "Transformamos el corpus de texto con el modelo de Bigramas-Trigramas. Creamos un `generador` para no cargar todo el corpus procesado en memoria."
   ]
  },
  {
   "cell_type": "code",
   "execution_count": 21,
   "id": "b1cb09f9-daef-491a-adc7-b39d06cd6409",
   "metadata": {
    "colab": {
     "base_uri": "https://localhost:8080/"
    },
    "id": "_-xc8KOTKi6t",
    "outputId": "201cebdb-b3e4-444c-e342-49bc78671536"
   },
   "outputs": [
    {
     "data": {
      "text/plain": [
       "<__main__.TrigramCorpus at 0x221ce557d00>"
      ]
     },
     "execution_count": 21,
     "metadata": {},
     "output_type": "execute_result"
    }
   ],
   "source": [
    "# Cuando instancio esta clase cada vez q la llamo empieza dsd el inicio\n",
    "# texto = PreprocesaCriticasClass(path)\n",
    "textos_trigramas = TrigramCorpus(texto)\n",
    "textos_trigramas"
   ]
  },
  {
   "cell_type": "code",
   "execution_count": 22,
   "id": "3962e075-d8ed-490f-97d0-506cd1d82d09",
   "metadata": {
    "colab": {
     "base_uri": "https://localhost:8080/"
    },
    "id": "6ooPjZuLr4N2",
    "outputId": "46fbc67e-5216-4bc6-fadf-2c4314a80eaa"
   },
   "outputs": [
    {
     "name": "stdout",
     "output_type": "stream",
     "text": [
      "['helena_bonham_carter', 'the_river_king', 'soplo_aire_fresco', 'world_trade_center', 'salvar_soldado_ryan', 'espectadores_seres_humanos', 'proyecto_bruja_blair', 'basada_hechos_reales', 'maldicion_flor_dorada', 'pasar_buen_rato', 'pilar_lopez_ayala', 'buen_sabor_boca', 'of_new_york', 'codigo_da_vinci', 'harry_potter_orden_fenix', 'juan_antonio_bayona', 'segunda_guerra_mundial', 'viento_agita_cebada', 'million_dollar_baby', 'bla_bla_bla', 'pequeña_miss_sunshine', 'james_newton_howard', 'gus_van_sant', 'ii_guerra_mundial', 'lars_von_trier', 'noche_muertos_vivientes', 'sacha_baron_cohen', 'hacia_rutas_salvajes', 'cofre_hombre_muerto', 'paul_thomas_anderson', 'ultimo_rey_escocia', 'deja_buen_sabor', 'podria_haber_sido', 'shaun_of_the_dead', 'juan_carlos_fresnadillo', 'philip_seymour_hoffman', 'alejandro_gonzalez_iñarritu', 'bryce_dallas_howard', 'maldicion_perla_negra', 'gael_garcia_bernal', 'leonardo_di_caprio', 'robert_downey_jr', 'amantes_circulo_polar', 'lost_in_translation', 'tommy_lee_jones', 'misterioso_asesinato_manhattan', 'mencion_aparte_merece', 'ciudad_nueva_york', 'basado_hechos_reales', 'alberto_san_juan', 'plas_plas_plas_plas', 'excelente_banda_sonora', 'titulos_credito_iniciales', 'gallina_huevos_oro', 'agustin_diaz_yanes', 'alone_in_the_dark', 'this_is_england', 'diablo_viste_prada', 'cartas_iwo_jima']\n"
     ]
    }
   ],
   "source": [
    "# Comprobamos bigramas y trigramas\n",
    "textos = []\n",
    "for t in textos_trigramas:\n",
    "    textos.append(t)\n",
    "    \n",
    "tokens = [token for texto in textos for token in texto]\n",
    "print(re.findall(r'\\w+_\\w+_\\w+', str(set(tokens))))"
   ]
  },
  {
   "cell_type": "markdown",
   "id": "4076e9f5-0321-4e9c-89df-f511eeae1a59",
   "metadata": {},
   "source": [
    "## Lematizado y filtrado de POS-Tags\n",
    "\n",
    "Ahora que hemos comprobado la limpieza y generación de trigramas vamos con el lematizado y filtrado de determinados POS-tags previo a la creacion del Corpus y el Diccionario"
   ]
  },
  {
   "cell_type": "code",
   "execution_count": 23,
   "id": "19eba193-1966-4f3d-86a7-796ab0316045",
   "metadata": {},
   "outputs": [],
   "source": [
    "# Redefinimos con nuevas reglas de limpieza POS\n",
    "nlp = spacy.load('es_core_news_md', disable=['parser', 'ner'])\n",
    "\n",
    "#def lemmatize_doc(text, allowed_postags=['NOUN', 'ADJ', 'VERB', 'ADV', 'PROPN','ADP']): # conjunciones, verbos aux, preposiciones... no son importantes para el topuic modeling\n",
    "#def lemmatize_doc(text, allowed_postags=['NOUN', 'ADJ', 'ADV', 'VERB']): # limitamos un poco mas quitando nombres propios\n",
    "#def lemmatize_doc(text, allowed_postags=['NOUN', 'ADJ', 'PROPN']): # limitamos mas dejando solo nombres, nombres propios y adjetivos\n",
    "def lemmatize_doc(text, allowed_postags=['NOUN', 'PROPN']): # limitamos mas dejando solo nombres, nombres propios y adjetivos\n",
    "    \"\"\"Función que devuelve el lema de una string,\n",
    "    excluyendo las palabras cuyo POS_TAG no está en la lista\"\"\"\n",
    "    text_out = [t.lemma_.lower() for t in nlp(text)\n",
    "                if t.pos_ in allowed_postags\n",
    "                and len(t.lemma_)>3\n",
    "                and t.lemma_ not in sanitized_stopwords\n",
    "                and not t.is_stop] # Usamos adicionalmente a los stop-words de nltk los de sapcy\n",
    "    return text_out"
   ]
  },
  {
   "cell_type": "markdown",
   "id": "8f199ea7-7edc-4cd3-abe6-ba530ea6f2d0",
   "metadata": {},
   "source": [
    "**NOTA A POSTERIORI:** Como se puede apreciar por las lineas de definición de la función comentadas, se ha ido jugando con los POS-tags válidos. Tras cierta investigación y como Martin, F., & Johnson, M. (2015) sugirieron en su paper abajo referenciado, se ha decidido **simplificar el vocabulario quedandonos sólamente con nombres**."
   ]
  },
  {
   "cell_type": "markdown",
   "id": "317519b9-3174-43b9-8972-14bcbd56e6e1",
   "metadata": {},
   "source": [
    "**Función Streamer Lematizadora**\n",
    "\n",
    "Se construye para ser llamada encima de la de generar trigramas."
   ]
  },
  {
   "cell_type": "code",
   "execution_count": 24,
   "id": "ea3aff69-e8ba-439b-9d83-d2f6287ac58d",
   "metadata": {},
   "outputs": [],
   "source": [
    "# Hay q definir clase iterable para q vuelva desde el principio para poder usarlo con LDA por ejemplo\n",
    "# La entrada debe haber sido normalizada previamente\n",
    "class LematizeCorpus(object):\n",
    "    \"\"\"Pre-procesa un archivo de texto línea a línea\n",
    "    Entrada: nombre del objeto TrigramCorpus\n",
    "    Salida: iterador sobre cada línea lematizado \"\"\"\n",
    "    def __init__(self, corpus):\n",
    "        self.corpus = corpus\n",
    " \n",
    "    def __iter__(self):\n",
    "        for t in self.corpus: \n",
    "            # Lematizamos cada lista de tokens reconvertida a string\n",
    "            yield lemmatize_doc(str(t))"
   ]
  },
  {
   "cell_type": "code",
   "execution_count": 25,
   "id": "997f6244-8daf-4cbf-abe6-db7d6067a1b6",
   "metadata": {
    "colab": {
     "base_uri": "https://localhost:8080/"
    },
    "id": "_-xc8KOTKi6t",
    "outputId": "201cebdb-b3e4-444c-e342-49bc78671536"
   },
   "outputs": [
    {
     "data": {
      "text/plain": [
       "<__main__.LematizeCorpus at 0x221d7776c40>"
      ]
     },
     "execution_count": 25,
     "metadata": {},
     "output_type": "execute_result"
    }
   ],
   "source": [
    "# Cuando instancio esta clase cada vez q la llamo empieza dsd el inicio\n",
    "# texto = PreprocesaCriticasClass(path)\n",
    "textos_lemas_trigramas = LematizeCorpus(TrigramCorpus(textos))\n",
    "textos_lemas_trigramas"
   ]
  },
  {
   "cell_type": "code",
   "execution_count": 26,
   "id": "d680f552-bb58-4aeb-96a5-b3d9640e37e5",
   "metadata": {
    "colab": {
     "base_uri": "https://localhost:8080/"
    },
    "id": "d0s7BRp15RmM",
    "outputId": "51e1e7e4-f1a0-4ee0-9cfc-9f87ea464065"
   },
   "outputs": [
    {
     "name": "stdout",
     "output_type": "stream",
     "text": [
      "['cine', 'masa', 'pelicula', 'mundo', 'coñazo', 'prota', 'tonto', 'culo', 'suerte', 'peli', 'listo', 'comienzo', 'pelicula', 'arte', 'magia', 'peli', 'spielberg', 'tiro', 'cabron', 'actor', 'niña', 'cuerpo', 'niña', 'version_original', 'freaks', 'cine', 'gracia', 'nena', 'puta', 'madre', 'causa', 'pavor', 'cria', 'persona', 'madura', 'niño', 'niño', 'verlo', 'hijo', 'adolescente', 'cruise', 'hueso', 'mano', 'reflejo', 'manipulacion', 'militar', 'chico', 'bicho', 'ningun', 'arma', 'loco', 'saco', 'quereis_diga', 'fanatismo', 'locura', 'medio', 'muerte', 'jode', 'pelicula', 'mongo', 'abuelo', 'familia', 'salva', 'traje', 'domingo', 'maquillada', 'sinsorgada', 'cruise', 'exmujer', 'mundo', 'cuento', 'peli', 'pelis', 'misterio', 'bodrio', 'spielberg', 'paso', 'director', 'efectos_especial', 'historia', 'distei', 'norteamericano', 'compostura', 'momento', 'puta', 'peli', 'gracia', 'comienzo', 'peli', 'suelo', 'gente', 'joder', 'puta', 'escondiendome', 'bicho', 'rayo', 'mierda', 'pagasemo', 'entrada', 'cine', 'bajare', 'internet', 'calidad', 'pelis', 'palante', 'hoy_dia', 'mando', 'forward', 'mano']\n"
     ]
    }
   ],
   "source": [
    "# Primera critica ya lematizada, con bi-trigramas y limpia\n",
    "for t in textos_lemas_trigramas:\n",
    "    print(t)\n",
    "    break"
   ]
  },
  {
   "cell_type": "code",
   "execution_count": 27,
   "id": "d6b035a1-80ea-4eec-8079-0e4af56e4c6b",
   "metadata": {
    "colab": {
     "base_uri": "https://localhost:8080/"
    },
    "id": "6ooPjZuLr4N2",
    "outputId": "46fbc67e-5216-4bc6-fadf-2c4314a80eaa"
   },
   "outputs": [
    {
     "name": "stdout",
     "output_type": "stream",
     "text": [
      "['helena_bonham_carter', 'the_river_king', 'soplo_aire_fresco', 'world_trade_center', 'proyecto_bruja_blair', 'basada_hechos_reales', 'pasar_buen_rato', 'pilar_lopez_ayala', 'buen_sabor_boca', 'tommy_lee_jón', 'of_new_york', 'basado_hechos_real', 'juan_antonio_bayona', 'segunda_guerra_mundial', 'million_dollar_baby', 'bla_bla_bla', 'pequeña_miss_sunshine', 'james_newton_howard', 'gus_van_sant', 'ii_guerra_mundial', 'sacha_baron_cohen', 'cofre_hombre_muerto', 'ultimo_rey_escocia', 'deja_buen_sabor', 'podria_haber_sido', 'shaun_of_the_dead', 'juan_carlos_fresnadillo', 'noche_muertos_vivient', 'alejandro_gonzalez_iñarritu', 'bryce_dallas_howard', 'hacia_rutas_salvaj', 'maldicion_perla_negra', 'gael_garcia_bernal', 'leonardo_di_caprio', 'robert_downey_jr', 'amantes_circulo_polar', 'lost_in_translation', 'basado_hechos_reales', 'agustin_diaz_yán', 'basada_hechos_real', 'espectadores_seres_humano', 'titulos_credito_iniciales', 'alone_in_the_dark', 'this_is_england', 'diablo_viste_prada', 'cartas_iwo_jima']\n"
     ]
    }
   ],
   "source": [
    "# Comprobamos bigramas y trigramas despues de Lematizacion \n",
    "textos = []\n",
    "for t in textos_lemas_trigramas:\n",
    "    textos.append(t)\n",
    "    \n",
    "tokens = [token for texto in textos for token in texto]\n",
    "print(re.findall(r'\\w+_\\w+_\\w+', str(set(tokens))))"
   ]
  },
  {
   "cell_type": "markdown",
   "id": "855917a5-16da-460f-8422-06a89c672087",
   "metadata": {
    "id": "68worRZvLjqo"
   },
   "source": [
    "### Creamos el diccionario y el corpus para Topic Modeling\n",
    "Las dos entradas para el modelo LDA son **un diccionario** de `gensim` y **un corpus de texto**.  \n",
    "Creamos un streamer que genera el diccionario (atributo `diccionario`) y el corpus (como BoW):"
   ]
  },
  {
   "cell_type": "code",
   "execution_count": 28,
   "id": "ace6f71e-6ae8-465e-8e18-8fd7ab86d715",
   "metadata": {
    "id": "h_eH27CELvLs"
   },
   "outputs": [],
   "source": [
    " #para no tener que cargar todo el corpus en memoria creamos un streamer\n",
    "class BOW_Corpus(object):\n",
    "    \"\"\"\n",
    "    Iterable: en cada iteración devuelve el vector bag-of-words\n",
    "    del siguiente documento en el corpus.\n",
    "    \n",
    "    Procesa un documento cada vez usando un generator, así\n",
    "    nunca carga el corpus entero en RAM.\n",
    "    \"\"\"\n",
    "    def __init__(self, corpus):\n",
    "        self.corpus = corpus\n",
    "        #crea el diccionario = mapeo de documentos a sparse vectors\n",
    "        self.diccionario = gensim.corpora.Dictionary(corpus)\n",
    " \n",
    "    def __iter__(self):\n",
    "        \"\"\"\n",
    "        __iter__ es un generator => TxtSubdirsCorpus es un streamed iterable.\n",
    "        \"\"\"\n",
    "        for tokens in self.corpus:\n",
    "            # transforma cada doc (lista de tokens) en un vector sparse uno a uno\n",
    "            yield self.diccionario.doc2bow(tokens) # Devuelvo el corpus vectorizado como BoW"
   ]
  },
  {
   "cell_type": "code",
   "execution_count": 29,
   "id": "8eef9bd9-9c5e-4fb6-9b3c-92f3c69c0461",
   "metadata": {
    "id": "mI0xeW4jL0tD"
   },
   "outputs": [],
   "source": [
    "corpus_bow = BOW_Corpus(textos_lemas_trigramas)"
   ]
  },
  {
   "cell_type": "markdown",
   "id": "07140dc5-8d06-4aff-8aaa-6cf529176639",
   "metadata": {
    "id": "oVjqnRCuL9u_"
   },
   "source": [
    "El diccionario entrenado está en el atributo `dictionary`"
   ]
  },
  {
   "cell_type": "code",
   "execution_count": 30,
   "id": "898ebff8-3699-4645-ad50-e076b175fcbe",
   "metadata": {
    "id": "Tr768mRGMF9l"
   },
   "outputs": [
    {
     "data": {
      "text/plain": [
       "30537"
      ]
     },
     "execution_count": 30,
     "metadata": {},
     "output_type": "execute_result"
    }
   ],
   "source": [
    "# Ha aprendido 36981 palabras\n",
    "len(corpus_bow.diccionario)"
   ]
  },
  {
   "cell_type": "code",
   "execution_count": 31,
   "id": "5c1274b2-4652-4dd5-b696-0a80d4bd43f1",
   "metadata": {
    "id": "WmxdbkXNMOBt"
   },
   "outputs": [
    {
     "name": "stdout",
     "output_type": "stream",
     "text": [
      "[(0, 1), (1, 1), (2, 1), (3, 1), (4, 1), (5, 1), (6, 2), (7, 1), (8, 1), (9, 1), (10, 1), (11, 1), (12, 3), (13, 2), (14, 1), (15, 1), (16, 1), (17, 2), (18, 1), (19, 1), (20, 1), (21, 1), (22, 1), (23, 1), (24, 1), (25, 1), (26, 1), (27, 1), (28, 1), (29, 1), (30, 1), (31, 1), (32, 1), (33, 2), (34, 1), (35, 1), (36, 1), (37, 1), (38, 1), (39, 1), (40, 1), (41, 1), (42, 1), (43, 1), (44, 1), (45, 1), (46, 1), (47, 1), (48, 1), (49, 2), (50, 1), (51, 1), (52, 1), (53, 1), (54, 1), (55, 1), (56, 1), (57, 1), (58, 1), (59, 2), (60, 1), (61, 1), (62, 2), (63, 2), (64, 1), (65, 1), (66, 1), (67, 1), (68, 1), (69, 5), (70, 3), (71, 2), (72, 1), (73, 1), (74, 3), (75, 1), (76, 1), (77, 1), (78, 1), (79, 1), (80, 1), (81, 2), (82, 1), (83, 1), (84, 1), (85, 1), (86, 1), (87, 1), (88, 1)]\n"
     ]
    }
   ],
   "source": [
    "# Lista de tuplas (palabra, num_ocurrencias) BoW del primer doc\n",
    "for t in corpus_bow:\n",
    "    print(t)\n",
    "    break"
   ]
  },
  {
   "cell_type": "markdown",
   "id": "bb82bfc9-de47-47ff-b367-9322fea0ff80",
   "metadata": {},
   "source": [
    "## Ranking y poda de palabras más frecuentes del corpus"
   ]
  },
  {
   "cell_type": "markdown",
   "id": "c4259c8b-eb5c-4423-adf9-142021abaf49",
   "metadata": {},
   "source": [
    "Se han probado varios intentos con los barridos para obtener el número óptimo de temáticas, pero los resultados daban grupos muy similares cuyas palabras más significativas eran las mismas y muy genéricas dentro del ámbito cinematográfico, por lo que vamos a incluir aquí un análisis de los términos más frecuentes para filtrarlos del corpus BoW y volver a generar los modelos LDA y temáticas, en realidad este paso viene de haber ejecutado los pasos posteriores y volver hacia atrás. \n"
   ]
  },
  {
   "cell_type": "code",
   "execution_count": 32,
   "id": "d4ac0cd6-3210-479a-a075-9fc73a2b176e",
   "metadata": {},
   "outputs": [],
   "source": [
    "# Recopilamos todos los documentos transformados al formato de tuplas (termino, frecuencia en documento)\n",
    "textos = []\n",
    "for t in corpus_bow:\n",
    "    textos.append(t)"
   ]
  },
  {
   "cell_type": "code",
   "execution_count": 33,
   "id": "3e98c660-6a28-47b9-9ee1-1225e00c6a53",
   "metadata": {},
   "outputs": [
    {
     "data": {
      "text/plain": [
       "[(0, 1), (1, 1), (2, 1), (3, 1), (4, 1)]"
      ]
     },
     "execution_count": 33,
     "metadata": {},
     "output_type": "execute_result"
    }
   ],
   "source": [
    "# Juntamos todas las tuplas de los textos\n",
    "textos_tf = [token for texto in textos for token in texto]\n",
    "textos_tf[:5]"
   ]
  },
  {
   "cell_type": "code",
   "execution_count": 34,
   "id": "76286efa-5215-4f0f-af04-5b098cf8141e",
   "metadata": {},
   "outputs": [
    {
     "data": {
      "text/plain": [
       "341937"
      ]
     },
     "execution_count": 34,
     "metadata": {},
     "output_type": "execute_result"
    }
   ],
   "source": [
    "# hay 528419 tuplas\n",
    "len(textos_tf)"
   ]
  },
  {
   "cell_type": "code",
   "execution_count": 35,
   "id": "504edca8-6ddf-4a5a-985f-c86d78864443",
   "metadata": {},
   "outputs": [
    {
     "data": {
      "text/html": [
       "<div>\n",
       "<style scoped>\n",
       "    .dataframe tbody tr th:only-of-type {\n",
       "        vertical-align: middle;\n",
       "    }\n",
       "\n",
       "    .dataframe tbody tr th {\n",
       "        vertical-align: top;\n",
       "    }\n",
       "\n",
       "    .dataframe thead th {\n",
       "        text-align: right;\n",
       "    }\n",
       "</style>\n",
       "<table border=\"1\" class=\"dataframe\">\n",
       "  <thead>\n",
       "    <tr style=\"text-align: right;\">\n",
       "      <th></th>\n",
       "      <th>Indice Termino</th>\n",
       "      <th>Frecuencia</th>\n",
       "    </tr>\n",
       "  </thead>\n",
       "  <tbody>\n",
       "    <tr>\n",
       "      <th>0</th>\n",
       "      <td>0</td>\n",
       "      <td>1</td>\n",
       "    </tr>\n",
       "    <tr>\n",
       "      <th>1</th>\n",
       "      <td>1</td>\n",
       "      <td>1</td>\n",
       "    </tr>\n",
       "    <tr>\n",
       "      <th>2</th>\n",
       "      <td>2</td>\n",
       "      <td>1</td>\n",
       "    </tr>\n",
       "    <tr>\n",
       "      <th>3</th>\n",
       "      <td>3</td>\n",
       "      <td>1</td>\n",
       "    </tr>\n",
       "    <tr>\n",
       "      <th>4</th>\n",
       "      <td>4</td>\n",
       "      <td>1</td>\n",
       "    </tr>\n",
       "  </tbody>\n",
       "</table>\n",
       "</div>"
      ],
      "text/plain": [
       "   Indice Termino  Frecuencia\n",
       "0               0           1\n",
       "1               1           1\n",
       "2               2           1\n",
       "3               3           1\n",
       "4               4           1"
      ]
     },
     "execution_count": 35,
     "metadata": {},
     "output_type": "execute_result"
    }
   ],
   "source": [
    "# Creamos un dataframe\n",
    "df_textos_tf = pd.DataFrame(textos_tf, columns =['Indice Termino', 'Frecuencia'])\n",
    "df_textos_tf.head()"
   ]
  },
  {
   "cell_type": "code",
   "execution_count": 36,
   "id": "9591636f-1cca-4dba-98bf-b0fbee294705",
   "metadata": {},
   "outputs": [
    {
     "data": {
      "text/html": [
       "<div>\n",
       "<style scoped>\n",
       "    .dataframe tbody tr th:only-of-type {\n",
       "        vertical-align: middle;\n",
       "    }\n",
       "\n",
       "    .dataframe tbody tr th {\n",
       "        vertical-align: top;\n",
       "    }\n",
       "\n",
       "    .dataframe thead th {\n",
       "        text-align: right;\n",
       "    }\n",
       "</style>\n",
       "<table border=\"1\" class=\"dataframe\">\n",
       "  <thead>\n",
       "    <tr style=\"text-align: right;\">\n",
       "      <th></th>\n",
       "      <th>Indice Termino</th>\n",
       "      <th>Frecuencia</th>\n",
       "      <th>Termino</th>\n",
       "    </tr>\n",
       "  </thead>\n",
       "  <tbody>\n",
       "    <tr>\n",
       "      <th>0</th>\n",
       "      <td>0</td>\n",
       "      <td>1</td>\n",
       "      <td>abuelo</td>\n",
       "    </tr>\n",
       "    <tr>\n",
       "      <th>1</th>\n",
       "      <td>1</td>\n",
       "      <td>1</td>\n",
       "      <td>actor</td>\n",
       "    </tr>\n",
       "    <tr>\n",
       "      <th>2</th>\n",
       "      <td>2</td>\n",
       "      <td>1</td>\n",
       "      <td>adolescente</td>\n",
       "    </tr>\n",
       "    <tr>\n",
       "      <th>3</th>\n",
       "      <td>3</td>\n",
       "      <td>1</td>\n",
       "      <td>arma</td>\n",
       "    </tr>\n",
       "    <tr>\n",
       "      <th>4</th>\n",
       "      <td>4</td>\n",
       "      <td>1</td>\n",
       "      <td>arte</td>\n",
       "    </tr>\n",
       "    <tr>\n",
       "      <th>...</th>\n",
       "      <td>...</td>\n",
       "      <td>...</td>\n",
       "      <td>...</td>\n",
       "    </tr>\n",
       "    <tr>\n",
       "      <th>341932</th>\n",
       "      <td>30532</td>\n",
       "      <td>1</td>\n",
       "      <td>fenomenico</td>\n",
       "    </tr>\n",
       "    <tr>\n",
       "      <th>341933</th>\n",
       "      <td>30533</td>\n",
       "      <td>1</td>\n",
       "      <td>reevalua</td>\n",
       "    </tr>\n",
       "    <tr>\n",
       "      <th>341934</th>\n",
       "      <td>30534</td>\n",
       "      <td>1</td>\n",
       "      <td>vertebrado</td>\n",
       "    </tr>\n",
       "    <tr>\n",
       "      <th>341935</th>\n",
       "      <td>30535</td>\n",
       "      <td>1</td>\n",
       "      <td>volatil</td>\n",
       "    </tr>\n",
       "    <tr>\n",
       "      <th>341936</th>\n",
       "      <td>30536</td>\n",
       "      <td>1</td>\n",
       "      <td>yuxtaposicion</td>\n",
       "    </tr>\n",
       "  </tbody>\n",
       "</table>\n",
       "<p>341937 rows × 3 columns</p>\n",
       "</div>"
      ],
      "text/plain": [
       "        Indice Termino  Frecuencia        Termino\n",
       "0                    0           1         abuelo\n",
       "1                    1           1          actor\n",
       "2                    2           1    adolescente\n",
       "3                    3           1           arma\n",
       "4                    4           1           arte\n",
       "...                ...         ...            ...\n",
       "341932           30532           1     fenomenico\n",
       "341933           30533           1       reevalua\n",
       "341934           30534           1     vertebrado\n",
       "341935           30535           1        volatil\n",
       "341936           30536           1  yuxtaposicion\n",
       "\n",
       "[341937 rows x 3 columns]"
      ]
     },
     "execution_count": 36,
     "metadata": {},
     "output_type": "execute_result"
    }
   ],
   "source": [
    "# Añadimos columna con el termino (a través del diccionario)\n",
    "df_textos_tf['Termino'] = [(corpus_bow.diccionario[w[0]]) for w in textos_tf]\n",
    "df_textos_tf"
   ]
  },
  {
   "cell_type": "code",
   "execution_count": 37,
   "id": "6f0de2e3-b18b-4601-a818-a908aec086b7",
   "metadata": {},
   "outputs": [
    {
     "data": {
      "text/html": [
       "<div>\n",
       "<style scoped>\n",
       "    .dataframe tbody tr th:only-of-type {\n",
       "        vertical-align: middle;\n",
       "    }\n",
       "\n",
       "    .dataframe tbody tr th {\n",
       "        vertical-align: top;\n",
       "    }\n",
       "\n",
       "    .dataframe thead th {\n",
       "        text-align: right;\n",
       "    }\n",
       "</style>\n",
       "<table border=\"1\" class=\"dataframe\">\n",
       "  <thead>\n",
       "    <tr style=\"text-align: right;\">\n",
       "      <th></th>\n",
       "      <th>Indice Termino</th>\n",
       "      <th>Frecuencia</th>\n",
       "      <th>Termino</th>\n",
       "    </tr>\n",
       "  </thead>\n",
       "  <tbody>\n",
       "    <tr>\n",
       "      <th>100757</th>\n",
       "      <td>542</td>\n",
       "      <td>59</td>\n",
       "      <td>rocky</td>\n",
       "    </tr>\n",
       "    <tr>\n",
       "      <th>311802</th>\n",
       "      <td>29191</td>\n",
       "      <td>43</td>\n",
       "      <td>masao</td>\n",
       "    </tr>\n",
       "    <tr>\n",
       "      <th>311799</th>\n",
       "      <td>29188</td>\n",
       "      <td>38</td>\n",
       "      <td>kikujiro</td>\n",
       "    </tr>\n",
       "    <tr>\n",
       "      <th>109402</th>\n",
       "      <td>1523</td>\n",
       "      <td>34</td>\n",
       "      <td>david</td>\n",
       "    </tr>\n",
       "    <tr>\n",
       "      <th>79902</th>\n",
       "      <td>70</td>\n",
       "      <td>32</td>\n",
       "      <td>pelicula</td>\n",
       "    </tr>\n",
       "  </tbody>\n",
       "</table>\n",
       "</div>"
      ],
      "text/plain": [
       "        Indice Termino  Frecuencia   Termino\n",
       "100757             542          59     rocky\n",
       "311802           29191          43     masao\n",
       "311799           29188          38  kikujiro\n",
       "109402            1523          34     david\n",
       "79902               70          32  pelicula"
      ]
     },
     "execution_count": 37,
     "metadata": {},
     "output_type": "execute_result"
    }
   ],
   "source": [
    "# Aquí las frecuencias son a nivel de documento hay que sumarlas para cada termino a lo largo de todos los documentos\n",
    "df_textos_tf.sort_values(by=['Frecuencia'], ascending=False).head(5)"
   ]
  },
  {
   "cell_type": "code",
   "execution_count": 38,
   "id": "60345a13-bbb1-4ffa-aaf7-f23483b3caef",
   "metadata": {},
   "outputs": [
    {
     "data": {
      "text/html": [
       "<div>\n",
       "<style scoped>\n",
       "    .dataframe tbody tr th:only-of-type {\n",
       "        vertical-align: middle;\n",
       "    }\n",
       "\n",
       "    .dataframe tbody tr th {\n",
       "        vertical-align: top;\n",
       "    }\n",
       "\n",
       "    .dataframe thead th {\n",
       "        text-align: right;\n",
       "    }\n",
       "</style>\n",
       "<table border=\"1\" class=\"dataframe\">\n",
       "  <thead>\n",
       "    <tr style=\"text-align: right;\">\n",
       "      <th></th>\n",
       "      <th>Indice Termino</th>\n",
       "      <th>Frecuencia</th>\n",
       "      <th>Termino</th>\n",
       "    </tr>\n",
       "  </thead>\n",
       "  <tbody>\n",
       "    <tr>\n",
       "      <th>690</th>\n",
       "      <td>542</td>\n",
       "      <td>1</td>\n",
       "      <td>rocky</td>\n",
       "    </tr>\n",
       "    <tr>\n",
       "      <th>25535</th>\n",
       "      <td>542</td>\n",
       "      <td>1</td>\n",
       "      <td>rocky</td>\n",
       "    </tr>\n",
       "    <tr>\n",
       "      <th>40067</th>\n",
       "      <td>542</td>\n",
       "      <td>1</td>\n",
       "      <td>rocky</td>\n",
       "    </tr>\n",
       "    <tr>\n",
       "      <th>79961</th>\n",
       "      <td>542</td>\n",
       "      <td>10</td>\n",
       "      <td>rocky</td>\n",
       "    </tr>\n",
       "    <tr>\n",
       "      <th>91445</th>\n",
       "      <td>542</td>\n",
       "      <td>5</td>\n",
       "      <td>rocky</td>\n",
       "    </tr>\n",
       "  </tbody>\n",
       "</table>\n",
       "</div>"
      ],
      "text/plain": [
       "       Indice Termino  Frecuencia Termino\n",
       "690               542           1   rocky\n",
       "25535             542           1   rocky\n",
       "40067             542           1   rocky\n",
       "79961             542          10   rocky\n",
       "91445             542           5   rocky"
      ]
     },
     "execution_count": 38,
     "metadata": {},
     "output_type": "execute_result"
    }
   ],
   "source": [
    "# Cada término puede aparecer en varios documentos \n",
    "df_textos_tf[df_textos_tf['Termino'] == 'rocky'].head()"
   ]
  },
  {
   "cell_type": "code",
   "execution_count": 39,
   "id": "2cf86d72-fa1c-453d-8c89-61e807b8fb3d",
   "metadata": {},
   "outputs": [
    {
     "data": {
      "text/html": [
       "<div>\n",
       "<style scoped>\n",
       "    .dataframe tbody tr th:only-of-type {\n",
       "        vertical-align: middle;\n",
       "    }\n",
       "\n",
       "    .dataframe tbody tr th {\n",
       "        vertical-align: top;\n",
       "    }\n",
       "\n",
       "    .dataframe thead th {\n",
       "        text-align: right;\n",
       "    }\n",
       "</style>\n",
       "<table border=\"1\" class=\"dataframe\">\n",
       "  <thead>\n",
       "    <tr style=\"text-align: right;\">\n",
       "      <th></th>\n",
       "      <th>Termino</th>\n",
       "      <th>Indice Termino</th>\n",
       "      <th>Frecuencia</th>\n",
       "    </tr>\n",
       "  </thead>\n",
       "  <tbody>\n",
       "    <tr>\n",
       "      <th>0</th>\n",
       "      <td>pelicula</td>\n",
       "      <td>70</td>\n",
       "      <td>13674</td>\n",
       "    </tr>\n",
       "    <tr>\n",
       "      <th>1</th>\n",
       "      <td>cine</td>\n",
       "      <td>12</td>\n",
       "      <td>5097</td>\n",
       "    </tr>\n",
       "    <tr>\n",
       "      <th>2</th>\n",
       "      <td>historia</td>\n",
       "      <td>35</td>\n",
       "      <td>4832</td>\n",
       "    </tr>\n",
       "    <tr>\n",
       "      <th>3</th>\n",
       "      <td>personaje</td>\n",
       "      <td>155</td>\n",
       "      <td>4531</td>\n",
       "    </tr>\n",
       "    <tr>\n",
       "      <th>4</th>\n",
       "      <td>film</td>\n",
       "      <td>604</td>\n",
       "      <td>2912</td>\n",
       "    </tr>\n",
       "    <tr>\n",
       "      <th>...</th>\n",
       "      <td>...</td>\n",
       "      <td>...</td>\n",
       "      <td>...</td>\n",
       "    </tr>\n",
       "    <tr>\n",
       "      <th>30532</th>\n",
       "      <td>hosquedad</td>\n",
       "      <td>24835</td>\n",
       "      <td>1</td>\n",
       "    </tr>\n",
       "    <tr>\n",
       "      <th>30533</th>\n",
       "      <td>hoss</td>\n",
       "      <td>11823</td>\n",
       "      <td>1</td>\n",
       "    </tr>\n",
       "    <tr>\n",
       "      <th>30534</th>\n",
       "      <td>hostigamiento</td>\n",
       "      <td>20331</td>\n",
       "      <td>1</td>\n",
       "    </tr>\n",
       "    <tr>\n",
       "      <th>30535</th>\n",
       "      <td>hostion</td>\n",
       "      <td>10533</td>\n",
       "      <td>1</td>\n",
       "    </tr>\n",
       "    <tr>\n",
       "      <th>30536</th>\n",
       "      <td>ñuñote</td>\n",
       "      <td>19963</td>\n",
       "      <td>1</td>\n",
       "    </tr>\n",
       "  </tbody>\n",
       "</table>\n",
       "<p>30537 rows × 3 columns</p>\n",
       "</div>"
      ],
      "text/plain": [
       "             Termino  Indice Termino  Frecuencia\n",
       "0           pelicula              70       13674\n",
       "1               cine              12        5097\n",
       "2           historia              35        4832\n",
       "3          personaje             155        4531\n",
       "4               film             604        2912\n",
       "...              ...             ...         ...\n",
       "30532      hosquedad           24835           1\n",
       "30533           hoss           11823           1\n",
       "30534  hostigamiento           20331           1\n",
       "30535        hostion           10533           1\n",
       "30536         ñuñote           19963           1\n",
       "\n",
       "[30537 rows x 3 columns]"
      ]
     },
     "execution_count": 39,
     "metadata": {},
     "output_type": "execute_result"
    }
   ],
   "source": [
    "# Consolidamos frecuencias de documentos a nivel de Termino\n",
    "df_most_freq_terms = df_textos_tf.groupby(['Termino', 'Indice Termino']).sum('Frecuencia').sort_values(by=['Frecuencia'], ascending=False).reset_index()\n",
    "df_most_freq_terms"
   ]
  },
  {
   "cell_type": "code",
   "execution_count": 40,
   "id": "f1cc08c9-015f-48b3-b0df-ab2ca1048982",
   "metadata": {},
   "outputs": [
    {
     "data": {
      "text/html": [
       "<div>\n",
       "<style scoped>\n",
       "    .dataframe tbody tr th:only-of-type {\n",
       "        vertical-align: middle;\n",
       "    }\n",
       "\n",
       "    .dataframe tbody tr th {\n",
       "        vertical-align: top;\n",
       "    }\n",
       "\n",
       "    .dataframe thead th {\n",
       "        text-align: right;\n",
       "    }\n",
       "</style>\n",
       "<table border=\"1\" class=\"dataframe\">\n",
       "  <thead>\n",
       "    <tr style=\"text-align: right;\">\n",
       "      <th></th>\n",
       "      <th>Termino</th>\n",
       "      <th>Indice Termino</th>\n",
       "      <th>Frecuencia</th>\n",
       "    </tr>\n",
       "  </thead>\n",
       "  <tbody>\n",
       "    <tr>\n",
       "      <th>2398</th>\n",
       "      <td>world_trade_center</td>\n",
       "      <td>8068</td>\n",
       "      <td>29</td>\n",
       "    </tr>\n",
       "  </tbody>\n",
       "</table>\n",
       "</div>"
      ],
      "text/plain": [
       "                 Termino  Indice Termino  Frecuencia\n",
       "2398  world_trade_center            8068          29"
      ]
     },
     "execution_count": 40,
     "metadata": {},
     "output_type": "execute_result"
    }
   ],
   "source": [
    "df_most_freq_terms[df_most_freq_terms['Termino'] == 'world_trade_center']"
   ]
  },
  {
   "cell_type": "code",
   "execution_count": 41,
   "id": "0051fdd5-995d-43da-b0bd-d2d081846ce2",
   "metadata": {},
   "outputs": [
    {
     "data": {
      "text/html": [
       "<div>\n",
       "<style scoped>\n",
       "    .dataframe tbody tr th:only-of-type {\n",
       "        vertical-align: middle;\n",
       "    }\n",
       "\n",
       "    .dataframe tbody tr th {\n",
       "        vertical-align: top;\n",
       "    }\n",
       "\n",
       "    .dataframe thead th {\n",
       "        text-align: right;\n",
       "    }\n",
       "</style>\n",
       "<table border=\"1\" class=\"dataframe\">\n",
       "  <thead>\n",
       "    <tr style=\"text-align: right;\">\n",
       "      <th></th>\n",
       "      <th>Termino</th>\n",
       "      <th>Indice Termino</th>\n",
       "      <th>Frecuencia</th>\n",
       "    </tr>\n",
       "  </thead>\n",
       "  <tbody>\n",
       "    <tr>\n",
       "      <th>4</th>\n",
       "      <td>film</td>\n",
       "      <td>604</td>\n",
       "      <td>2912</td>\n",
       "    </tr>\n",
       "  </tbody>\n",
       "</table>\n",
       "</div>"
      ],
      "text/plain": [
       "  Termino  Indice Termino  Frecuencia\n",
       "4    film             604        2912"
      ]
     },
     "execution_count": 41,
     "metadata": {},
     "output_type": "execute_result"
    }
   ],
   "source": [
    "df_most_freq_terms[df_most_freq_terms['Termino'] == 'film']"
   ]
  },
  {
   "cell_type": "code",
   "execution_count": 42,
   "id": "b84fd237-6935-45f0-af16-07f010a89870",
   "metadata": {},
   "outputs": [
    {
     "data": {
      "text/html": [
       "<div>\n",
       "<style scoped>\n",
       "    .dataframe tbody tr th:only-of-type {\n",
       "        vertical-align: middle;\n",
       "    }\n",
       "\n",
       "    .dataframe tbody tr th {\n",
       "        vertical-align: top;\n",
       "    }\n",
       "\n",
       "    .dataframe thead th {\n",
       "        text-align: right;\n",
       "    }\n",
       "</style>\n",
       "<table border=\"1\" class=\"dataframe\">\n",
       "  <thead>\n",
       "    <tr style=\"text-align: right;\">\n",
       "      <th></th>\n",
       "      <th>Termino</th>\n",
       "      <th>Indice Termino</th>\n",
       "      <th>Frecuencia</th>\n",
       "    </tr>\n",
       "  </thead>\n",
       "  <tbody>\n",
       "    <tr>\n",
       "      <th>0</th>\n",
       "      <td>pelicula</td>\n",
       "      <td>70</td>\n",
       "      <td>13674</td>\n",
       "    </tr>\n",
       "    <tr>\n",
       "      <th>1</th>\n",
       "      <td>cine</td>\n",
       "      <td>12</td>\n",
       "      <td>5097</td>\n",
       "    </tr>\n",
       "    <tr>\n",
       "      <th>2</th>\n",
       "      <td>historia</td>\n",
       "      <td>35</td>\n",
       "      <td>4832</td>\n",
       "    </tr>\n",
       "    <tr>\n",
       "      <th>3</th>\n",
       "      <td>personaje</td>\n",
       "      <td>155</td>\n",
       "      <td>4531</td>\n",
       "    </tr>\n",
       "    <tr>\n",
       "      <th>4</th>\n",
       "      <td>film</td>\n",
       "      <td>604</td>\n",
       "      <td>2912</td>\n",
       "    </tr>\n",
       "    <tr>\n",
       "      <th>5</th>\n",
       "      <td>director</td>\n",
       "      <td>21</td>\n",
       "      <td>2712</td>\n",
       "    </tr>\n",
       "    <tr>\n",
       "      <th>6</th>\n",
       "      <td>vida</td>\n",
       "      <td>186</td>\n",
       "      <td>2648</td>\n",
       "    </tr>\n",
       "    <tr>\n",
       "      <th>7</th>\n",
       "      <td>escena</td>\n",
       "      <td>336</td>\n",
       "      <td>2476</td>\n",
       "    </tr>\n",
       "    <tr>\n",
       "      <th>8</th>\n",
       "      <td>actor</td>\n",
       "      <td>1</td>\n",
       "      <td>2152</td>\n",
       "    </tr>\n",
       "    <tr>\n",
       "      <th>9</th>\n",
       "      <td>cinta</td>\n",
       "      <td>686</td>\n",
       "      <td>2135</td>\n",
       "    </tr>\n",
       "    <tr>\n",
       "      <th>10</th>\n",
       "      <td>guion</td>\n",
       "      <td>125</td>\n",
       "      <td>2061</td>\n",
       "    </tr>\n",
       "    <tr>\n",
       "      <th>11</th>\n",
       "      <td>mundo</td>\n",
       "      <td>59</td>\n",
       "      <td>1981</td>\n",
       "    </tr>\n",
       "    <tr>\n",
       "      <th>12</th>\n",
       "      <td>protagonista</td>\n",
       "      <td>385</td>\n",
       "      <td>1956</td>\n",
       "    </tr>\n",
       "    <tr>\n",
       "      <th>13</th>\n",
       "      <td>espectador</td>\n",
       "      <td>935</td>\n",
       "      <td>1934</td>\n",
       "    </tr>\n",
       "    <tr>\n",
       "      <th>14</th>\n",
       "      <td>forma</td>\n",
       "      <td>338</td>\n",
       "      <td>1618</td>\n",
       "    </tr>\n",
       "    <tr>\n",
       "      <th>15</th>\n",
       "      <td>papel</td>\n",
       "      <td>354</td>\n",
       "      <td>1417</td>\n",
       "    </tr>\n",
       "    <tr>\n",
       "      <th>16</th>\n",
       "      <td>caso</td>\n",
       "      <td>584</td>\n",
       "      <td>1356</td>\n",
       "    </tr>\n",
       "    <tr>\n",
       "      <th>17</th>\n",
       "      <td>momento</td>\n",
       "      <td>56</td>\n",
       "      <td>1323</td>\n",
       "    </tr>\n",
       "    <tr>\n",
       "      <th>18</th>\n",
       "      <td>accion</td>\n",
       "      <td>89</td>\n",
       "      <td>1238</td>\n",
       "    </tr>\n",
       "    <tr>\n",
       "      <th>19</th>\n",
       "      <td>tipo</td>\n",
       "      <td>245</td>\n",
       "      <td>1186</td>\n",
       "    </tr>\n",
       "    <tr>\n",
       "      <th>20</th>\n",
       "      <td>hombre</td>\n",
       "      <td>612</td>\n",
       "      <td>1172</td>\n",
       "    </tr>\n",
       "    <tr>\n",
       "      <th>21</th>\n",
       "      <td>visto</td>\n",
       "      <td>190</td>\n",
       "      <td>1136</td>\n",
       "    </tr>\n",
       "    <tr>\n",
       "      <th>22</th>\n",
       "      <td>genero</td>\n",
       "      <td>375</td>\n",
       "      <td>1126</td>\n",
       "    </tr>\n",
       "    <tr>\n",
       "      <th>23</th>\n",
       "      <td>obra</td>\n",
       "      <td>1047</td>\n",
       "      <td>1031</td>\n",
       "    </tr>\n",
       "  </tbody>\n",
       "</table>\n",
       "</div>"
      ],
      "text/plain": [
       "         Termino  Indice Termino  Frecuencia\n",
       "0       pelicula              70       13674\n",
       "1           cine              12        5097\n",
       "2       historia              35        4832\n",
       "3      personaje             155        4531\n",
       "4           film             604        2912\n",
       "5       director              21        2712\n",
       "6           vida             186        2648\n",
       "7         escena             336        2476\n",
       "8          actor               1        2152\n",
       "9          cinta             686        2135\n",
       "10         guion             125        2061\n",
       "11         mundo              59        1981\n",
       "12  protagonista             385        1956\n",
       "13    espectador             935        1934\n",
       "14         forma             338        1618\n",
       "15         papel             354        1417\n",
       "16          caso             584        1356\n",
       "17       momento              56        1323\n",
       "18        accion              89        1238\n",
       "19          tipo             245        1186\n",
       "20        hombre             612        1172\n",
       "21         visto             190        1136\n",
       "22        genero             375        1126\n",
       "23          obra            1047        1031"
      ]
     },
     "execution_count": 42,
     "metadata": {},
     "output_type": "execute_result"
    }
   ],
   "source": [
    "# Vamos a filtrar los terminos con frecuencia global superior a 2000\n",
    "bow_corpus_most_freq_terms = df_most_freq_terms.loc[df_most_freq_terms['Frecuencia'] > 1000]\n",
    "bow_corpus_most_freq_terms"
   ]
  },
  {
   "cell_type": "code",
   "execution_count": 43,
   "id": "260d045b-dd43-485b-9ed6-8e5c5195c65f",
   "metadata": {},
   "outputs": [],
   "source": [
    "bow_corpus_pruning = list(bow_corpus_most_freq_terms['Termino'])\n",
    "#bow_corpus_pruning.remove('malo')\n",
    "bow_corpus_pruning.append('peli')\n",
    "bow_corpus_pruning.append('pelis')\n",
    "#bow_corpus_pruning"
   ]
  },
  {
   "cell_type": "code",
   "execution_count": 44,
   "id": "d616d98b-c2ea-432a-994c-80efef95ca00",
   "metadata": {},
   "outputs": [],
   "source": [
    "# Extendemos las stopwords con las palabras obtenidas\n",
    "sanitized_stopwords = sanitized_stopwords+bow_corpus_pruning"
   ]
  },
  {
   "cell_type": "code",
   "execution_count": 45,
   "id": "25141cfa-bb66-4354-902a-bea5ebb1394c",
   "metadata": {},
   "outputs": [],
   "source": [
    "#sanitized_stopwords"
   ]
  },
  {
   "cell_type": "markdown",
   "id": "59df00c9-0abf-4b1e-92c2-89a635d1f6d2",
   "metadata": {},
   "source": [
    "**Recalculamos de nuevo sin las nuevas stop-words cinematográficas**"
   ]
  },
  {
   "cell_type": "code",
   "execution_count": 46,
   "id": "0167d6f3-bb86-47ca-9383-5bfbd602f660",
   "metadata": {
    "id": "mI0xeW4jL0tD"
   },
   "outputs": [],
   "source": [
    "# Volvemos a generar corpus_bow\n",
    "new_textos_trigramas = TrigramCorpus(texto)\n",
    "new_textos_lemas_trigramas = LematizeCorpus(new_textos_trigramas)\n",
    "new_corpus_bow = BOW_Corpus(new_textos_lemas_trigramas)"
   ]
  },
  {
   "cell_type": "code",
   "execution_count": 47,
   "id": "3e93b78a-4770-4b23-b470-a33a32611044",
   "metadata": {},
   "outputs": [],
   "source": [
    "#sanitized_stopwords"
   ]
  },
  {
   "cell_type": "code",
   "execution_count": 48,
   "id": "b8f1569f-7898-4bb6-b427-5d636ffae727",
   "metadata": {},
   "outputs": [
    {
     "data": {
      "text/plain": [
       "True"
      ]
     },
     "execution_count": 48,
     "metadata": {},
     "output_type": "execute_result"
    }
   ],
   "source": [
    "'peli' in sanitized_stopwords"
   ]
  },
  {
   "cell_type": "code",
   "execution_count": 49,
   "id": "2c0682fd-982d-434e-9495-cc3e741f6727",
   "metadata": {
    "id": "Tr768mRGMF9l"
   },
   "outputs": [
    {
     "data": {
      "text/plain": [
       "30537"
      ]
     },
     "execution_count": 49,
     "metadata": {},
     "output_type": "execute_result"
    }
   ],
   "source": [
    "# Ha aprendido 36981 palabras\n",
    "len(corpus_bow.diccionario)"
   ]
  },
  {
   "cell_type": "code",
   "execution_count": 50,
   "id": "4ee0aa3b-6a25-4a6c-8a56-1842cc8f6a09",
   "metadata": {
    "id": "Tr768mRGMF9l"
   },
   "outputs": [
    {
     "data": {
      "text/plain": [
       "30502"
      ]
     },
     "execution_count": 50,
     "metadata": {},
     "output_type": "execute_result"
    }
   ],
   "source": [
    "# Ha filtrado las palabras más frecuentes genericas\n",
    "len(new_corpus_bow.diccionario)"
   ]
  },
  {
   "cell_type": "code",
   "execution_count": 51,
   "id": "25206481-5fb6-46f2-93a1-807297b09abc",
   "metadata": {
    "colab": {
     "base_uri": "https://localhost:8080/"
    },
    "id": "6ooPjZuLr4N2",
    "outputId": "46fbc67e-5216-4bc6-fadf-2c4314a80eaa"
   },
   "outputs": [
    {
     "name": "stdout",
     "output_type": "stream",
     "text": [
      "['helena_bonham_carter', 'the_river_king', 'soplo_aire_fresco', 'world_trade_center', 'proyecto_bruja_blair', 'basada_hechos_reales', 'pasar_buen_rato', 'pilar_lopez_ayala', 'buen_sabor_boca', 'tommy_lee_jón', 'of_new_york', 'basado_hechos_real', 'juan_antonio_bayona', 'segunda_guerra_mundial', 'million_dollar_baby', 'bla_bla_bla', 'pequeña_miss_sunshine', 'james_newton_howard', 'gus_van_sant', 'ii_guerra_mundial', 'sacha_baron_cohen', 'ultimo_rey_escocia', 'deja_buen_sabor', 'podria_haber_sido', 'shaun_of_the_dead', 'juan_carlos_fresnadillo', 'noche_muertos_vivient', 'alejandro_gonzalez_iñarritu', 'bryce_dallas_howard', 'hacia_rutas_salvaj', 'maldicion_perla_negra', 'gael_garcia_bernal', 'leonardo_di_caprio', 'robert_downey_jr', 'amantes_circulo_polar', 'lost_in_translation', 'basado_hechos_reales', 'agustin_diaz_yán', 'basada_hechos_real', 'espectadores_seres_humano', 'titulos_credito_iniciales', 'alone_in_the_dark', 'this_is_england', 'diablo_viste_prada', 'cartas_iwo_jima']\n"
     ]
    }
   ],
   "source": [
    "# Comprobamos bigramas y trigramas despues de Lematizacion \n",
    "textos = []\n",
    "for t in new_textos_lemas_trigramas:\n",
    "    textos.append(t)\n",
    "    \n",
    "tokens = [token for texto in textos for token in texto]\n",
    "print(re.findall(r'\\w+_\\w+_\\w+', str(set(tokens))))"
   ]
  },
  {
   "cell_type": "markdown",
   "id": "91816d9f-29d0-40d5-85be-c28c5c688298",
   "metadata": {
    "id": "oVjqnRCuL9u_"
   },
   "source": [
    "El diccionario entrenado está en el atributo `dictionary`"
   ]
  },
  {
   "cell_type": "code",
   "execution_count": 52,
   "id": "2ee4ca6d-9d48-487f-afc3-8c3556160a1b",
   "metadata": {
    "id": "WmxdbkXNMOBt"
   },
   "outputs": [
    {
     "name": "stdout",
     "output_type": "stream",
     "text": [
      "[(0, 1), (1, 1), (2, 1), (3, 1), (4, 1), (5, 2), (6, 1), (7, 1), (8, 1), (9, 1), (10, 1), (11, 2), (12, 1), (13, 1), (14, 1), (15, 2), (16, 1), (17, 1), (18, 1), (19, 1), (20, 1), (21, 1), (22, 1), (23, 1), (24, 1), (25, 1), (26, 1), (27, 1), (28, 1), (29, 1), (30, 2), (31, 1), (32, 1), (33, 1), (34, 1), (35, 1), (36, 1), (37, 1), (38, 1), (39, 1), (40, 1), (41, 1), (42, 1), (43, 1), (44, 1), (45, 2), (46, 1), (47, 1), (48, 1), (49, 1), (50, 1), (51, 1), (52, 1), (53, 1), (54, 1), (55, 1), (56, 2), (57, 2), (58, 1), (59, 1), (60, 1), (61, 1), (62, 1), (63, 1), (64, 1), (65, 3), (66, 1), (67, 1), (68, 1), (69, 1), (70, 1), (71, 1), (72, 2), (73, 1), (74, 1), (75, 1), (76, 1), (77, 1), (78, 1), (79, 1)]\n"
     ]
    }
   ],
   "source": [
    "# Lista de tuplas mas corta que antes\n",
    "for t in new_corpus_bow:\n",
    "    print(t)\n",
    "    break"
   ]
  },
  {
   "cell_type": "markdown",
   "id": "ded469dd-3b0c-439a-8b55-ce764a28a2d5",
   "metadata": {
    "id": "UIGwBRP_Yh9U"
   },
   "source": [
    "## Modelo LDA\n",
    "Es un modelo generativo que considera cada documento como una mezcla de temas donde cada tema tiene una distribución de las palabras."
   ]
  },
  {
   "cell_type": "code",
   "execution_count": 53,
   "id": "9d0434ff-4499-441a-a15d-7b79070064e8",
   "metadata": {
    "id": "OFghh1QVYjVy"
   },
   "outputs": [
    {
     "name": "stdout",
     "output_type": "stream",
     "text": [
      "[(0,\n",
      "  '0.004*\"realidad\" + 0.004*\"pantalla\" + 0.003*\"palabra\" + 0.003*\"producto\" + '\n",
      "  '0.003*\"imagen\" + 0.003*\"trama\" + 0.003*\"punto\" + 0.002*\"tal_vez\" + '\n",
      "  '0.002*\"amor\" + 0.002*\"mano\"'),\n",
      " (1,\n",
      "  '0.006*\"comedia\" + 0.004*\"amor\" + 0.003*\"tema\" + 0.003*\"imagen\" + '\n",
      "  '0.002*\"producto\" + 0.002*\"resto\" + 0.002*\"ritmo\" + 0.002*\"drama\" + '\n",
      "  '0.002*\"ocasión\" + 0.002*\"dialogo\"'),\n",
      " (2,\n",
      "  '0.006*\"pantalla\" + 0.004*\"casa\" + 0.003*\"trama\" + 0.003*\"padre\" + '\n",
      "  '0.003*\"libro\" + 0.003*\"amigo\" + 0.003*\"dialogo\" + 0.003*\"principio\" + '\n",
      "  '0.002*\"joven\" + 0.002*\"niño\"'),\n",
      " (3,\n",
      "  '0.004*\"terror\" + 0.004*\"trama\" + 0.004*\"filme\" + 0.003*\"cosa\" + '\n",
      "  '0.003*\"joven\" + 0.003*\"mujer\" + 0.003*\"resto\" + 0.003*\"libro\" + '\n",
      "  '0.003*\"principio\" + 0.003*\"imagen\"'),\n",
      " (4,\n",
      "  '0.004*\"comedia\" + 0.003*\"serie\" + 0.003*\"pantalla\" + 0.003*\"problema\" + '\n",
      "  '0.003*\"principio\" + 0.003*\"cosa\" + 0.003*\"humor\" + 0.003*\"imagen\" + '\n",
      "  '0.003*\"saga\" + 0.003*\"español\"'),\n",
      " (5,\n",
      "  '0.004*\"joven\" + 0.003*\"mujer\" + 0.003*\"familia\" + 0.003*\"pantalla\" + '\n",
      "  '0.003*\"guerra\" + 0.003*\"plano\" + 0.003*\"tema\" + 0.003*\"realidad\" + '\n",
      "  '0.003*\"relato\" + 0.003*\"amor\"'),\n",
      " (6,\n",
      "  '0.006*\"serie\" + 0.005*\"saga\" + 0.003*\"punto\" + 0.003*\"mujer\" + 0.003*\"cosa\" '\n",
      "  '+ 0.003*\"argumento\" + 0.003*\"dialogo\" + 0.003*\"trama\" + 0.003*\"aventura\" + '\n",
      "  '0.003*\"spiderman\"'),\n",
      " (7,\n",
      "  '0.004*\"mujer\" + 0.003*\"paso\" + 0.003*\"comedia\" + 0.003*\"familia\" + '\n",
      "  '0.003*\"amigo\" + 0.003*\"joven\" + 0.003*\"realidad\" + 0.003*\"padre\" + '\n",
      "  '0.003*\"tema\" + 0.003*\"idea\"'),\n",
      " (8,\n",
      "  '0.004*\"imagen\" + 0.003*\"casa\" + 0.003*\"comedia\" + 0.003*\"niño\" + '\n",
      "  '0.003*\"idea\" + 0.003*\"metraje\" + 0.003*\"trama\" + 0.003*\"ritmo\" + '\n",
      "  '0.003*\"gente\" + 0.002*\"problema\"'),\n",
      " (9,\n",
      "  '0.004*\"comedia\" + 0.004*\"terror\" + 0.004*\"familia\" + 0.004*\"cosa\" + '\n",
      "  '0.003*\"orfanato\" + 0.003*\"trama\" + 0.003*\"idea\" + 0.003*\"humor\" + '\n",
      "  '0.003*\"zombi\" + 0.003*\"mujer\"')]\n"
     ]
    }
   ],
   "source": [
    "warnings.filterwarnings('ignore')\n",
    " \n",
    "# Aqui le paso el corpus BoW (LDA sobre BoW)\n",
    "#ldamodel = LdaModel(corpus=new_corpus_bow, num_topics=10, id2word=new_corpus_bow.diccionario)\n",
    "ldamodel = LdaModel(corpus=new_corpus_bow, num_topics=10, id2word=new_corpus_bow.diccionario, \n",
    "                    random_state=100)\n",
    "pprint(ldamodel.print_topics())"
   ]
  },
  {
   "cell_type": "markdown",
   "id": "be10848a-303c-4112-99fa-a9c2a9cde4c4",
   "metadata": {
    "id": "BEzAwSYTY5lS"
   },
   "source": [
    "### Visualización de los temas  \n",
    "Podemos visualizarlo gráficamente la distribución de los documentos del Corpus por temas con la librería `pyLDAvis`"
   ]
  },
  {
   "cell_type": "code",
   "execution_count": 54,
   "id": "c94817a6-f8c3-4b20-9e24-3a0c2b4ead0c",
   "metadata": {
    "id": "gmOQSEgXr4OP"
   },
   "outputs": [
    {
     "data": {
      "text/html": [
       "\n",
       "<link rel=\"stylesheet\" type=\"text/css\" href=\"https://cdn.jsdelivr.net/gh/bmabey/pyLDAvis@3.3.1/pyLDAvis/js/ldavis.v1.0.0.css\">\n",
       "\n",
       "\n",
       "<div id=\"ldavis_el1310423429312454245513471989\"></div>\n",
       "<script type=\"text/javascript\">\n",
       "\n",
       "var ldavis_el1310423429312454245513471989_data = {\"mdsDat\": {\"x\": [-0.035271708513913355, -0.012928437591721948, -0.03834713300780524, 0.009718355038754152, 0.0017237157696758526, -0.006720806906180101, 0.05549698937677484, -0.012493111505523269, 0.02483375930585949, 0.013988378034079537], \"y\": [-0.0006813516743131721, -0.017027771028546027, -0.024295175480489033, -0.020775370427441722, -0.026394606038706227, 0.011410265361783311, -0.02046654001352478, 0.046272494948352165, 0.012481816877392025, 0.03947623747549341], \"topics\": [1, 2, 3, 4, 5, 6, 7, 8, 9, 10], \"cluster\": [1, 1, 1, 1, 1, 1, 1, 1, 1, 1], \"Freq\": [21.51501744562805, 15.663443033582178, 12.722562673000818, 11.63344918925566, 7.942953621696846, 7.841570126853943, 7.1275032343848785, 5.284786367587631, 5.13833324135584, 5.130381066654167]}, \"tinfo\": {\"Term\": [\"comedia\", \"pantalla\", \"orfanato\", \"saga\", \"serie\", \"casa\", \"amor\", \"spiderman\", \"trama\", \"zombi\", \"humor\", \"producto\", \"familia\", \"cosa\", \"libro\", \"amigo\", \"dialogo\", \"belen_rueda\", \"realidad\", \"padre\", \"resto\", \"voldemort\", \"terror\", \"exito\", \"tema\", \"vampiro\", \"chica\", \"will_smith\", \"palabra\", \"principio\", \"zetaj\\u00f3n\", \"charlton_heston\", \"valoraci\\u00f3n\", \"leung\", \"subterraneo\", \"celebraci\\u00f3n\", \"beat\", \"groucho\", \"cu\\u00f1ada\", \"richard_matheson\", \"lulu\", \"muahahahaha\", \"hormiguero\", \"misionero\", \"ayuntamiento\", \"seleccionar\", \"abeja\", \"neville\", \"etura\", \"remoto\", \"raider\", \"niccol\", \"rendimiento\", \"escoba\", \"ultraviolencia\", \"alia\", \"bellisimo\", \"estructuracion\", \"leto\", \"perfeccionismo\", \"opresion\", \"kasdan\", \"hawke\", \"lienzo\", \"leone\", \"hirschbiegel\", \"colmena\", \"john_rambo\", \"valencia\", \"hank\", \"david_cronenberg\", \"guerra\", \"humanos\", \"celda\", \"singularidad\", \"leyenda\", \"sylvester_stallone\", \"ryan\", \"relato\", \"joven\", \"infectado\", \"familia\", \"italiano\", \"discurso\", \"violencia\", \"ciudad\", \"cineasta\", \"aspecto\", \"significado\", \"mujer\", \"tema\", \"rata\", \"plano\", \"epoca\", \"fondo\", \"amor\", \"pantalla\", \"mirada\", \"persona\", \"fotografia\", \"realidad\", \"narracion\", \"metraje\", \"filme\", \"argumento\", \"imagen\", \"idea\", \"secuencia\", \"punto\", \"paso\", \"miedo\", \"muerte\", \"terror\", \"ritmo\", \"casa\", \"padre\", \"trama\", \"reynold\", \"acosador\", \"ricardo_darin\", \"agatha\", \"deckard\", \"ariel\", \"refresco\", \"states\", \"viola\", \"ventana_indiscreta\", \"convirtiendolo\", \"garfio\", \"salario\", \"elena\", \"cuneta\", \"gracita\", \"replicantes\", \"channel\", \"heartbreak\", \"begnini\", \"orca\", \"bernard\", \"seita\", \"piquer\", \"comisario\", \"infectada\", \"estaci\\u00f3n\", \"heche\", \"ghibli\", \"linklater\", \"fosse\", \"actualizacion\", \"philip_dick\", \"excalibur\", \"pinguino\", \"fincher\", \"christie\", \"predator\", \"laura\", \"concentracion\", \"herrmann\", \"garci\", \"seven\", \"blade_runner\", \"robert_rodriguez\", \"asco\", \"leonard\", \"asesinato\", \"disney\", \"casa\", \"denzel_washington\", \"gente\", \"animacion\", \"ni\\u00f1o\", \"imagen\", \"ciencia_ficcion\", \"comedia\", \"libro\", \"guionista\", \"premio\", \"metraje\", \"investigacion\", \"relato\", \"idea\", \"problema\", \"gusto\", \"efectos_especial\", \"ritmo\", \"policia\", \"miedo\", \"juego\", \"trama\", \"interpretacion\", \"chica\", \"cara\", \"padre\", \"dialogo\", \"hijo\", \"plano\", \"pantalla\", \"argumento\", \"gracias\", \"realidad\", \"punto\", \"musica\", \"persona\", \"joven\", \"ningun\", \"serie\", \"richard_gere\", \"forastero\", \"dementor\", \"gerry\", \"rob_zombie\", \"frikismo\", \"cassel\", \"sodebergh\", \"aitana\", \"maduracion\", \"enfermera\", \"gilbert\", \"laughton\", \"norris\", \"browning\", \"percepci\\u00f3n\", \"paddy\", \"beth\", \"simbiosis\", \"donostiarra\", \"contrapuesto\", \"cebra\", \"adivino\", \"evaluacion\", \"garrido\", \"guardias\", \"french\", \"palomiteras\", \"emmanuelle\", \"compilacion\", \"halloween\", \"charles_bronson\", \"grial\", \"rusia\", \"hostel\", \"road\", \"eslovaquia\", \"eli_roth\", \"matanza_texas\", \"greg\", \"pistolero\", \"palm\", \"monstruo\", \"ratatouille\", \"argento\", \"filme\", \"western\", \"terror\", \"zona\", \"remake\", \"doctor\", \"libro\", \"tension\", \"trama\", \"grupo\", \"cosa\", \"resto\", \"mafia\", \"policia\", \"miedo\", \"hora\", \"direccion\", \"principio\", \"musica\", \"minuto\", \"joven\", \"sociedad\", \"problema\", \"elemento\", \"mujer\", \"fotografia\", \"violencia\", \"imagen\", \"punto\", \"camara\", \"resultado\", \"ningun\", \"idea\", \"plano\", \"pantalla\", \"amor\", \"argumento\", \"realidad\", \"villana\", \"delpy\", \"liman\", \"lions\", \"snape\", \"extra\\u00f1eza\", \"action\", \"lecho\", \"presentaci\\u00f3n\", \"bendito\", \"raya\", \"calmada\", \"xbox\", \"geometria\", \"zombies_party\", \"sarandon\", \"qualite\", \"office\", \"pseudonimo\", \"north\", \"sodenbergh\", \"torremolino\", \"fuhrer\", \"aprobacion\", \"pazguato\", \"gazpacho\", \"dakota\", \"hete\", \"pintora\", \"geek\", \"jessica_alba\", \"american_gangster\", \"strathairn\", \"simpsons\", \"john_cusack\", \"fulano\", \"mortadelo\", \"vampiro\", \"vaughn\", \"risibl\", \"annie_hall\", \"gate\", \"simpson\", \"hercul\", \"grima\", \"pitt\", \"frodo\", \"entrega\", \"edicion_festival\", \"shrek\", \"magia\", \"espa\\u00f1ol\", \"parodia\", \"saga\", \"humor\", \"comedia\", \"problema\", \"serie\", \"principio\", \"puesto\", \"homenaje\", \"grupo\", \"cuento\", \"cosa\", \"pantalla\", \"cambio\", \"exito\", \"resultado\", \"muerte\", \"propuesta\", \"terror\", \"paso\", \"musica\", \"imagen\", \"estreno\", \"ocasi\\u00f3n\", \"ritmo\", \"punto\", \"dialogo\", \"ni\\u00f1o\", \"ningun\", \"mujer\", \"trama\", \"persona\", \"resto\", \"argumento\", \"realidad\", \"robbie\", \"australia\", \"belen_rueda\", \"benito\", \"darin\", \"envio\", \"lovett\", \"averigua\", \"moby\", \"coburn\", \"automata\", \"humanizacion\", \"enternecedor\", \"valla\", \"zoofilia\", \"malcom\", \"sting\", \"beyond\", \"obscenidad\", \"bombero\", \"odessa\", \"videoconsola\", \"fraternal\", \"peligrosidad\", \"certamen\", \"ultimatum_bourne\", \"propp\", \"punch\", \"barbero\", \"hilary\", \"joe_wright\", \"orfanato\", \"chuleria\", \"bird\", \"chef\", \"cukor\", \"firth\", \"subtexto\", \"steve_buscemi\", \"zombi\", \"vaca\", \"elmaleh\", \"pearl\", \"familia\", \"terror\", \"comedia\", \"cosa\", \"humor\", \"simpson\", \"trama\", \"resto\", \"madre\", \"idea\", \"casa\", \"minuto\", \"cara\", \"titulo\", \"actriz\", \"estrella\", \"mujer\", \"serie\", \"producto\", \"punto\", \"padre\", \"muerte\", \"argumento\", \"exito\", \"hijo\", \"secuencia\", \"ni\\u00f1o\", \"ciudad\", \"problema\", \"realidad\", \"imagen\", \"matematico\", \"suarez\", \"metralleta\", \"mariano_ozor\", \"marqu\", \"kipling\", \"paltrow\", \"camping\", \"muchachada\", \"burrows\", \"parche\", \"escondrijo\", \"postrer\", \"supersonic_man\", \"mediapro\", \"gwyneth\", \"fiereza\", \"tormentosa\", \"olimpia\", \"merecera\", \"destiempo\", \"yared\", \"injustificabl\", \"laos\", \"gafado\", \"abstracta\", \"posta\", \"facturada\", \"posterioridad\", \"incompletas\", \"neurosis\", \"juan_carlos_fresnadillo\", \"hagiografia\", \"huston\", \"ozor\", \"medem\", \"sylvia\", \"danny\", \"ocean_thirteen\", \"ladr\\u00f3n\", \"haggis\", \"torbellino\", \"will_smith\", \"catherine\", \"lucia_sexo\", \"ocean\", \"truman_capote\", \"capote\", \"carpenter\", \"alejandro\", \"paso\", \"mujer\", \"amigo\", \"familia\", \"comedia\", \"tema\", \"padre\", \"frase\", \"titulo\", \"drama\", \"camara\", \"realidad\", \"joven\", \"plano\", \"idea\", \"amor\", \"cosa\", \"asesino\", \"policia\", \"ningun\", \"autor\", \"dialogo\", \"ni\\u00f1a\", \"humor\", \"cineasta\", \"pantalla\", \"persona\", \"imagen\", \"fotografia\", \"muerte\", \"ritmo\", \"punto\", \"resultado\", \"vincent_price\", \"redgrave\", \"voldemort\", \"block\", \"milland\", \"crystal\", \"temeroso\", \"interrumpida\", \"aval\", \"mountain\", \"keys\", \"mancha\", \"carradine\", \"llevandole\", \"style\", \"judia\", \"contribuyente\", \"asegurada\", \"nano\", \"enervante\", \"saltado\", \"crecidito\", \"muchedumbre\", \"manostijeras\", \"cuita\", \"clinton\", \"ergo\", \"subhistoria\", \"bien\", \"affleck\", \"guardi\\u00e1n\", \"witt\", \"bikini\", \"cinetico\", \"burton\", \"little_miss\", \"marcello\", \"spiderman\", \"raimi\", \"helena_bonham_carter\", \"penn\", \"tim_burton\", \"peter\", \"jimmy\", \"saga\", \"serie\", \"harry\", \"watson\", \"batman\", \"imaginativa\", \"ben_affleck\", \"hong_kong\", \"aventura\", \"potter\", \"punto\", \"reina\", \"vanessa\", \"argumento\", \"dialogo\", \"cosa\", \"mujer\", \"heroe\", \"talento\", \"trama\", \"humor\", \"tema\", \"exito\", \"libro\", \"amigo\", \"chica\", \"hijo\", \"nombre\", \"plano\", \"hora\", \"ritmo\", \"direccion\", \"metraje\", \"minuto\", \"joven\", \"amor\", \"realidad\", \"padre\", \"resultado\", \"karl\", \"barker\", \"watling\", \"barkin\", \"alarido\", \"guionistica\", \"opresivo\", \"festividad\", \"apocalipticas\", \"maciza\", \"boris\", \"code\", \"preocupant\", \"chunga\", \"rohmer\", \"part\", \"ecuaci\\u00f3n\", \"cipote\", \"pajillero\", \"desastrado\", \"piquete\", \"simplona\", \"ninfomana\", \"brook\", \"trabajadora\", \"noci\\u00f3n\", \"fahrenheit\", \"prototipica\", \"diablillo\", \"galleta\", \"tarkovski\", \"paco_plaza\", \"massey\", \"incontinencia\", \"matematica\", \"alex_iglesia\", \"hirsch\", \"ardilla\", \"gilliam\", \"jaume_balaguero\", \"range\", \"oto\\u00f1o\", \"will_smith\", \"john_hurt\", \"dominique\", \"leonor_watling\", \"palabra\", \"realidad\", \"tal_vez\", \"producto\", \"pantalla\", \"naturaleza\", \"iglesia\", \"trav\", \"busqueda\", \"sociedad\", \"cineasta\", \"violencia\", \"gracias\", \"mano\", \"punto\", \"estilo\", \"amor\", \"imagen\", \"relato\", \"trama\", \"madre\", \"epoca\", \"metraje\", \"joven\", \"autor\", \"camara\", \"hora\", \"hijo\", \"camino\", \"mujer\", \"idea\", \"muerte\", \"dialogo\", \"ni\\u00f1o\", \"death\", \"frost\", \"soul\", \"van_sant\", \"chanwook\", \"corazoncito\", \"jamona\", \"oldboy\", \"marvin\", \"dodgeball\", \"tejano\", \"silbido\", \"auster\", \"vengeance\", \"cantado\", \"billar\", \"alfie\", \"rockwell\", \"traductor\", \"tomarte\", \"patinaje\", \"vacuna\", \"gestacion\", \"aciago\", \"kingpin\", \"center\", \"emule\", \"aguelo\", \"looser\", \"telescopica\", \"salvadori\", \"prodigo\", \"tomei\", \"apatow\", \"ferpecto\", \"durango\", \"ortega\", \"primer_tercio\", \"reitman\", \"bennett\", \"hormiga\", \"stewart\", \"elijah_wood\", \"pantalla\", \"chofer\", \"casa\", \"nick\", \"harold\", \"ladron\", \"libro\", \"padre\", \"exito\", \"reparto\", \"amigo\", \"trama\", \"presencia\", \"principio\", \"dialogo\", \"ni\\u00f1o\", \"joven\", \"chica\", \"idea\", \"comedia\", \"interpretacion\", \"titulo\", \"hijo\", \"plano\", \"version\", \"negro\", \"novela\", \"imagen\", \"metraje\", \"hermano\", \"serie\", \"ritmo\", \"punto\", \"mujer\", \"guionista\", \"tema\", \"familia\", \"tosquedad\", \"goldberg\", \"goliat\", \"convalecencia\", \"interrelacion\", \"caetano\", \"spade\", \"paternofilial\", \"gemelo\", \"muela\", \"penal\", \"saturday\", \"suso\", \"grandinetti\", \"seth\", \"porrazo\", \"coctail\", \"nadia\", \"kaye\", \"pibe\", \"encomienda\", \"modernizacion\", \"tripode\", \"sigourney\", \"filial\", \"weaver\", \"elephant\", \"slogan\", \"aldabonazo\", \"desmadejando\", \"martha\", \"mecha\", \"bu\\u00f1uel\", \"stardust\", \"halcon_malt\", \"brick\", \"teen\", \"instituto\", \"daniels\", \"lauren\", \"comedia\", \"margo\", \"johnson\", \"amor\", \"allen\", \"drama\", \"adolescente\", \"ocasi\\u00f3n\", \"argentino\", \"match_point\", \"tema\", \"producto\", \"guionista\", \"resto\", \"interpretativo\", \"ultima\", \"chica\", \"ritmo\", \"imagen\", \"dialogo\", \"direccion\", \"persona\", \"fotografia\", \"argumento\", \"amigo\", \"situaci\\u00f3n\", \"ni\\u00f1o\", \"sociedad\", \"camara\", \"padre\", \"filme\", \"realidad\", \"trama\", \"mujer\", \"joven\", \"estilo\", \"punto\", \"cosa\"], \"Freq\": [870.0, 957.0, 143.0, 493.0, 800.0, 745.0, 758.0, 145.0, 929.0, 226.0, 570.0, 611.0, 733.0, 839.0, 561.0, 643.0, 755.0, 58.0, 835.0, 728.0, 675.0, 47.0, 789.0, 539.0, 719.0, 145.0, 535.0, 81.0, 463.0, 689.0, 21.1938019433229, 34.443180412483144, 9.547955975396498, 17.081724196862268, 19.84824313510867, 9.089697343478072, 11.930760653948752, 13.664673540573483, 10.455214086651495, 39.712123039695555, 11.075785572286065, 6.003585711847221, 5.925355204518151, 7.429081529270621, 5.953364823906624, 5.889456641459884, 44.82847856515402, 61.619501105630285, 9.412906751083897, 7.194108909607926, 7.273256114012303, 11.28886785272654, 8.424669179321182, 9.788483403779946, 5.794986768623588, 5.8383236086330585, 5.780625750134105, 5.703701721070025, 11.122290735892866, 9.112680208078684, 14.691802170688709, 17.17993084790684, 13.031985265664206, 11.00325099153912, 68.15758721912215, 23.409611841693703, 10.706934209927095, 38.2380741426045, 9.788833922338846, 11.774791275710886, 15.753313484899685, 235.21459582525287, 114.29332247359967, 14.560729852558174, 22.183245276167288, 123.29361937580191, 20.004842991533653, 41.95016127732752, 206.96684232180226, 283.5156708578087, 27.992284652470417, 246.1446203033054, 56.22339990484597, 105.05654845324493, 164.8348392996199, 170.99136547689812, 159.9232822085297, 187.08812455692012, 72.31623044569486, 271.99948830549357, 214.64070416210117, 46.296336485100866, 215.1242741033329, 143.116609242008, 133.54180786957937, 204.91260327032813, 238.1437838260107, 147.70776505712902, 191.6278952617442, 174.45718373476478, 207.3235518578466, 127.67166901148978, 178.2934955571998, 168.59676835254285, 180.43207756788567, 198.68588233748832, 182.19206311744676, 151.584591362346, 180.26395612090775, 158.96071272389918, 140.78277473744754, 154.8629595784154, 167.4004894807184, 158.96063988887394, 156.4220479196469, 153.2096955495667, 151.4897692638799, 14.128570339665274, 15.106835142605398, 17.578739035148363, 12.306110229450724, 14.03339762624753, 11.996399147334534, 7.920291935298786, 15.622610435564747, 6.58173208861373, 39.18401212169938, 7.769502796934643, 37.92182326138768, 5.157148106046918, 10.399901114120023, 7.371585243016592, 5.07085014251839, 6.236982667066564, 6.277992189100498, 5.067655762814533, 5.042412250736429, 5.014904378723, 7.976533068401509, 4.281856583224529, 7.356326290609397, 5.995153500011131, 7.24366423439079, 8.35547821904148, 3.688701988472398, 3.688015140910604, 14.658455420293327, 15.721778298491504, 15.307366460785516, 11.79768229979414, 9.145617214709505, 34.60782105937355, 45.81516823637308, 14.31176062109225, 25.24896377527722, 57.74578163792471, 19.19503136884397, 10.753852138829176, 26.333503532079046, 27.883913182519215, 27.554557763020465, 33.317671123651195, 26.227187151947028, 16.506635444694584, 89.24094211131157, 59.18457897383601, 195.71572967280366, 24.49467093131128, 143.28226735016375, 96.29437774094916, 176.55320964090154, 202.73919919554743, 51.494981652657856, 190.91037511130799, 140.13173652490747, 137.1461551657338, 87.26373582539256, 156.86216993824092, 41.63968851563523, 130.8101231148736, 158.74423499470763, 142.3002460130316, 121.09574889305026, 91.87311430139177, 146.22951118173867, 105.8351593196517, 113.0761399602516, 105.09995901514775, 155.11017674235467, 106.95477552805319, 111.89354919277065, 110.09073756256569, 129.51156530332844, 131.12052187307697, 121.12602652549684, 128.41846853613072, 141.6780035483163, 125.15191764118423, 107.02252239347273, 124.12569944478025, 123.84873334377049, 113.8674546334711, 115.27035362057973, 116.77242378471672, 110.27705635592673, 112.4285645027143, 19.604739844562356, 14.717153846192637, 10.400556715636766, 10.288462095776904, 44.6515601558272, 11.323265939778347, 10.807841192223787, 8.789074748284426, 15.606913303406726, 7.473506076232979, 20.194924397843298, 6.2159100701667604, 6.120180640293884, 6.16223833062313, 18.86331961623515, 6.132482460877899, 8.452533142682759, 10.823847018305308, 8.4531455418475, 6.034853920628213, 4.891234484162731, 4.846032023177626, 7.085481889860099, 4.7829078015813105, 9.335116089245428, 5.980558341495885, 5.8169710463730855, 5.91163651681799, 4.727828216924893, 4.660112684008313, 50.66074916772387, 16.51670292407063, 13.403128285443113, 16.518109423251186, 53.65898548981675, 13.723729342676423, 11.80754581552611, 25.17291128038654, 22.807631891918085, 17.01309753582241, 19.58124255968755, 11.205183267426332, 108.30667126102172, 30.32920188105757, 14.542457226441778, 174.63224112042437, 49.73337494247242, 190.57429154915056, 42.75266243630933, 66.34612493642226, 44.25275774415489, 129.50440400189018, 85.82100520161836, 174.65149333504513, 123.39207351132892, 159.3774236884376, 133.83248058843742, 40.30190827562988, 100.33608212870121, 107.30629905533321, 110.7824436099961, 106.16702664348821, 126.85320822976063, 119.43122107446908, 114.49845482299605, 139.33628819908125, 90.34878044502463, 113.46041804977767, 103.44952486597016, 133.86894996814686, 105.63692315903111, 90.3268471334013, 126.21313669836738, 120.18811952344356, 100.9319424781969, 99.72352145209321, 98.40575689160819, 105.35698002260764, 102.01754988015941, 103.31886176506248, 98.98224658444687, 97.80361911419087, 98.65611105388298, 16.97817644185513, 12.671488973439576, 11.091451753267068, 8.209174660683955, 10.642583332940081, 9.088723396562777, 6.663314364394514, 7.659480007403408, 5.181846247956929, 5.164555948942408, 5.050985366293489, 6.224603025551394, 6.200709946679738, 4.888944964352209, 16.459169638665482, 4.935012737868956, 4.886881057209541, 6.149411946937854, 4.949440396445881, 4.18835679223589, 6.6293792757848715, 6.133111141866509, 4.74559879826087, 4.784228444888228, 3.6402928348194075, 6.9629747285165475, 12.700388596292374, 4.598107895568623, 4.59991642958541, 5.225168606531214, 20.580970656084215, 46.541295597110036, 9.024466595235486, 23.10911168161774, 18.956337288492662, 8.939572568552299, 11.259022060258314, 76.76847964462473, 10.461937921903687, 6.894155055554526, 14.351017102027901, 7.977877990038935, 39.908762001702826, 10.158190972410615, 7.836194518372012, 13.987941744858592, 11.223611961087855, 90.68094663132513, 13.326525348824816, 39.299282961261035, 69.9566015027308, 107.67741025042112, 40.30028407902458, 109.71675234445063, 119.325289892495, 153.6458823886858, 126.71906431580776, 138.18113570220393, 124.392956046764, 90.283534357471, 65.71252906335374, 101.95086912423855, 67.50910054142452, 121.51908165305778, 130.70330844513106, 80.02611031119817, 90.6666014305768, 95.6674447451211, 98.20343403293775, 75.48678469403055, 106.19653656877774, 96.12280887319943, 94.12552765603805, 112.57891034221277, 76.23970589624474, 78.69358687819957, 99.34670813430701, 102.0583055213324, 96.75794583618766, 96.20373077090053, 89.69056657417055, 104.44628423752957, 94.85076271926508, 88.54104044639418, 84.87888890271314, 86.4197229635997, 85.50101968163236, 9.298217503438895, 16.20165610475943, 53.39520003330725, 24.80088279946523, 4.8971673754629625, 5.449014939418987, 5.905200634734084, 4.333211192858393, 6.166087167727335, 4.284542276584615, 6.237534319949446, 5.260332242276784, 7.37341182021546, 4.17526010262278, 4.158939936669133, 4.129652372867853, 6.116672491630477, 3.123954707318706, 5.477366417087408, 20.044126663345416, 3.890962593234121, 3.0128936335873377, 3.009270501286306, 3.0199102881931688, 11.11682194609917, 21.67654155747766, 2.9806562220576955, 3.9353405545371287, 12.989160589780859, 4.583490710362359, 21.636930156846677, 99.25917874549322, 5.144974331525337, 9.93881804897628, 21.109122108269343, 9.234382983461511, 6.187793610262328, 7.181258713981065, 14.679260741484516, 80.64250612782212, 15.104956414061062, 5.643670017341519, 15.352614218158822, 105.8565121396127, 108.16138811950984, 114.90971203880073, 104.27182083240105, 80.94450062284906, 24.40720228098373, 92.05863615299963, 76.04490144014329, 60.44013385162927, 81.8649505880585, 75.8437353537823, 66.8789880315145, 62.03684470645709, 68.20193150565555, 59.86925911859841, 43.4166126086614, 78.0833575592331, 70.30602457268951, 61.3536194704571, 70.79039620799963, 65.82322404283435, 61.538235150648646, 63.619613423837535, 55.241188776671024, 58.2493225719284, 55.72122786251883, 60.27625659671504, 51.98814997639241, 56.94873088516079, 59.52144514004142, 57.08343989784544, 25.27499104294225, 12.988718554624683, 14.991663174913352, 16.484846155294793, 10.542021794078183, 16.17411015423068, 7.327902278864003, 6.826658635995899, 5.614834189874282, 5.73440926488545, 4.037299147267279, 3.0327028940619707, 3.076998054843278, 13.308131000082271, 3.034305410694258, 5.526356689464503, 2.9968243157173284, 6.271892555265637, 3.012939490092279, 3.94938409348708, 3.9181873855933094, 4.900962907924268, 2.9315056382372267, 2.925793237807601, 2.8850490398550783, 3.8762191610892454, 6.422686321704033, 5.307477845991446, 2.8469380959054225, 2.834881579547019, 3.670381945143657, 11.278631930512114, 4.546637293067721, 19.833611909447708, 23.63475564464661, 39.25525737931455, 11.389968987447999, 45.17966202819607, 9.239262669203402, 19.35588069257102, 12.435371448761524, 8.010170779726765, 35.70347161976775, 22.318877742485434, 10.379492968610236, 19.619264992136, 14.593066041943555, 20.38020882618861, 19.572935317550794, 18.855223553784203, 88.18223417972992, 105.05589189212058, 77.34771359211665, 80.95364355021715, 86.6068593303728, 75.19132307873063, 75.54834893514955, 55.73209655102718, 68.87948395447168, 54.31672864254521, 65.4066099547953, 76.02218450398419, 77.32050378466795, 70.19539006192106, 71.58328933795666, 68.57530485334885, 69.02199034358043, 49.83247605480838, 51.505238786947416, 58.71958076851082, 47.83056756407774, 61.143914883344074, 43.34353094848122, 53.86023103028611, 49.67655722158894, 64.05400378998219, 57.31755893875552, 58.40111983674664, 52.82127430689564, 52.05102770513786, 53.16424729324806, 51.25312664785844, 50.01419443106606, 16.611702932824617, 13.87131950712578, 44.42339258369605, 8.71885760829431, 7.369219121759478, 6.564638503984888, 5.8361220907575735, 4.492479991788474, 4.418944411661404, 8.359069830197514, 4.247243009365812, 5.088224206799094, 3.2494011389759825, 3.251773680123493, 4.236285134194607, 3.2249514860350623, 3.152783142595018, 6.267258775112766, 3.135568364057519, 5.168296433742553, 5.962529936978221, 4.138554007710667, 3.1505764870513375, 5.586000531327579, 4.534163650916428, 3.13468521172349, 3.139413705458128, 3.145994274258259, 3.094695470818286, 23.260927260228094, 15.444435309013558, 7.146451344375643, 6.969749245150036, 5.0134505168470715, 38.5677212515398, 6.775917949277997, 7.714418769050335, 67.69445847042007, 16.303205475381233, 11.140893741809599, 32.30021930321233, 37.09545635652618, 49.93078859866133, 13.986477293304839, 124.9607084704614, 149.66088185028613, 39.952347273998875, 10.407211877086647, 21.88067307745542, 9.423740224141362, 15.953919764057845, 9.620089965089734, 69.37366113205927, 14.62039857198608, 88.47119603150499, 29.242902383089863, 12.59807360323126, 81.44390785661544, 80.15020524166674, 83.40990561456417, 85.52461529219403, 47.41987472874108, 45.24384166752796, 77.39800020461857, 60.01621708948873, 62.9565002080579, 53.091186833004, 53.967382528028594, 57.10819419671173, 52.61398522451606, 57.032309073214044, 50.6308741044558, 58.522353888856394, 51.2618064261662, 57.37156624576041, 50.01249781490441, 54.41090031063331, 52.014667682793835, 52.54918125935424, 51.27846737299455, 51.353158120144656, 50.523600408611514, 48.43505239875665, 7.24521325380489, 6.190474166449009, 8.235150746189328, 9.69277710499137, 4.9759414249983145, 3.915671332793267, 6.495856861255153, 3.7761231803256696, 4.519472509133176, 4.409874974352302, 7.282963633813532, 2.706906926784934, 3.5932050283971506, 2.722026758498357, 5.208653995342753, 2.681204219220921, 2.6604720361299217, 2.6370719105401625, 4.327804154344622, 2.6448084965204295, 2.5624173221431366, 3.476107120063866, 2.5466808222452775, 2.5076165979633567, 7.818000716762058, 2.509340249833364, 2.407405222579052, 2.4254345205044494, 2.5087392359636733, 3.3013974198886546, 14.144415834295177, 11.573464115202427, 4.757161753859992, 5.332761402644646, 14.708989813755013, 32.246991607016106, 7.460773726932345, 14.008418974944119, 11.52347877005488, 9.28154272928987, 5.02123942104494, 7.314686543562508, 25.74597832630034, 17.663529270543467, 6.662637930553132, 14.504887739938553, 56.1580740300665, 68.89183036337465, 46.512023936424946, 53.30158649185148, 67.71546228219069, 26.454427758089547, 20.551301956777262, 40.194134829601396, 29.60841436638837, 36.97072580806788, 37.39731706653466, 37.6346185874302, 39.113231232396515, 42.74307322766604, 48.1658083633928, 41.39812606731904, 45.20154310448607, 49.12633922552792, 40.00011077998499, 48.462752823468485, 36.01029558081327, 35.13994028060395, 42.30269946323123, 42.67831803655616, 30.04012682210759, 34.41696811739232, 31.945939007485087, 33.635553924574594, 29.045811712421123, 35.54387750930339, 32.41950886450295, 30.48701054514583, 30.806557599383254, 30.531068495831544, 23.89368080571721, 13.874892769861555, 7.215103620696513, 8.227856601102369, 6.63253467127939, 6.110157359667489, 7.04621913772101, 8.123748387678221, 4.936657970968529, 4.9830886468750855, 6.031338548985256, 4.38283211860196, 3.7132562736090797, 2.7987521580867556, 2.788500336600369, 12.557435726898339, 3.103424148878284, 2.703898008078087, 4.731551961816624, 2.6041482932714968, 2.5806144120169106, 4.077348549058122, 3.347906676221597, 2.502087780557294, 2.0180253573288573, 3.1450062804571632, 2.7876257014948997, 1.6648911617010556, 1.6605924579011486, 1.6471906726003325, 5.69735622575936, 2.3745810396021527, 4.9966463063937345, 7.258336904626456, 6.012121581770498, 5.627932811697965, 4.883057352836281, 8.821588699385815, 9.602950955978574, 6.0551260146256105, 10.152127217683471, 9.728266760456032, 19.221535538826817, 113.91652913776257, 9.724146353930578, 79.17433979620499, 14.07196235552107, 8.716259584503069, 11.409521997083296, 49.05495086365461, 53.02393951595892, 44.6911642098586, 42.48083899075645, 48.387518934669174, 57.34308227171766, 32.67714813449305, 46.86927850428102, 47.84208147983526, 45.75078926064313, 46.2787492338667, 36.71777097834412, 43.45562063118572, 44.82462189414321, 34.6944709027145, 38.354479075820855, 38.4646972324305, 40.33054341986262, 29.27836286331549, 26.651737426294087, 33.61920352763228, 41.60292060620896, 37.59879434469549, 29.123083332123507, 35.52459257156673, 35.01097248279454, 35.746063878720655, 35.903078546803044, 31.24366848889396, 32.5899455467868, 32.032638277059775, 5.042060376881677, 7.99879724845866, 8.611372473340007, 3.812171194478414, 3.791183672719385, 3.788761388470748, 15.910219670107754, 2.827416309640448, 8.958316523073764, 2.7909895073797713, 2.7620143635532557, 2.795194718752937, 7.621791473436193, 2.778223803442942, 16.709078485997384, 7.249577077608656, 3.608464850464196, 4.192029924274118, 2.142466183958853, 2.9463063408375003, 3.403858358919984, 3.7880609721985397, 2.5439262834824876, 5.594733592362718, 5.236229553336619, 5.396776034985641, 5.5655608882703484, 2.8294301760317917, 1.6854755029779045, 1.6770355004664927, 11.423947339382208, 3.588861064688116, 15.720202515723633, 19.690087047379215, 9.28456179297551, 11.337357326156226, 7.6702029652859975, 19.451644832445712, 6.264056375366516, 8.814833495265859, 103.04750414089449, 3.8711144395665515, 11.284695574850657, 69.82809713833214, 20.146064824936676, 44.457742130191384, 43.4218793815235, 43.865825521791294, 14.825313128189741, 11.498816167164863, 51.3504461264632, 46.16523162705138, 41.47300163367766, 44.744273987420705, 15.94025968547714, 38.014542013534445, 39.27973966597918, 44.64526807133301, 48.28755860434881, 43.53728497066896, 36.3026540870193, 41.783214670906204, 38.92459577971654, 41.52426743717066, 38.24815377141824, 32.58248573140246, 37.159101720405204, 30.597363273244273, 34.597070721075994, 36.12123297519173, 34.957255650605795, 36.28040576169549, 37.0033373912354, 37.238025961117685, 35.66794722763051, 32.64964319584103, 34.563700404082226, 32.854174516789584], \"Total\": [870.0, 957.0, 143.0, 493.0, 800.0, 745.0, 758.0, 145.0, 929.0, 226.0, 570.0, 611.0, 733.0, 839.0, 561.0, 643.0, 755.0, 58.0, 835.0, 728.0, 675.0, 47.0, 789.0, 539.0, 719.0, 145.0, 535.0, 81.0, 463.0, 689.0, 22.31283732404529, 37.09083294773886, 10.35874003158033, 18.63877456980515, 21.82762889380769, 10.218327090244252, 13.451345178996693, 15.420559779768414, 11.807309415236794, 44.86320540752412, 12.565405284067893, 6.837067518343823, 6.756971496086591, 8.481616767175387, 6.821749201264109, 6.7528754435858325, 51.531256370952114, 70.87182739988327, 10.854184182512345, 8.336086450199218, 8.436680472092556, 13.104230319909217, 9.788796171691661, 11.388507325131638, 6.755290939100547, 6.810063284348709, 6.77254469083469, 6.6887091409725485, 13.07075900355111, 10.719240131703698, 17.358080800190415, 20.51962054769398, 15.50301567539016, 13.102340077775102, 89.6943330060456, 29.601096909803847, 12.891329548050727, 53.104417708297575, 11.725367433499931, 14.457220483163328, 20.222258122471164, 488.19748157112355, 224.4242218680356, 18.8046587540399, 31.400663556901126, 258.97390076753913, 27.71449585640821, 71.15385698605247, 570.0290322727176, 876.1328791068735, 43.52754372624762, 733.7873536332716, 108.36734450811134, 252.10606760420978, 460.10862258241366, 493.1924223914006, 452.37757754000603, 575.4793614068118, 158.5689430728212, 990.4422453422534, 719.5992264609713, 86.87544425539883, 756.7581919920932, 437.3907277851516, 403.9216470336086, 758.6687507875904, 957.8396878963783, 476.42088043728586, 715.832563427708, 621.1188280936975, 835.7084514772854, 405.0180407707046, 722.8892028411892, 660.1347257744427, 770.8698906784826, 929.8078240428459, 805.6052709644575, 580.6852843031121, 855.349406043013, 652.7226887326161, 502.7130702284205, 640.4191099964238, 789.6957955758454, 765.2369143088674, 745.9185190920965, 728.9925777077603, 929.5756416519962, 14.975535873805358, 16.380991867525193, 19.113512292092093, 13.442541013078404, 15.541185903184898, 13.439528885491383, 8.908464226366435, 17.688698981693094, 7.464932149985484, 45.142275482000315, 8.972599782794067, 43.98181028172585, 6.007609896571569, 12.160375091940821, 8.675789063096591, 5.9905979796540425, 7.37317630657105, 7.439131749796245, 6.013012571321897, 5.993728572781231, 5.979986591842097, 9.520217301604028, 5.1285623736029216, 8.843594565301355, 7.235744697712513, 8.821203956193242, 10.220279289681711, 4.5164311810966975, 4.521243294185601, 17.996152991588502, 19.411714958288986, 18.968138771364874, 14.957927153222203, 11.445929934871584, 50.01632513351673, 72.05679598578232, 19.509352732090406, 37.714680204205315, 99.24525235467107, 28.114492880521574, 14.146402452792804, 44.28917155727032, 48.22631755995834, 47.51987542862177, 61.203249505935666, 45.02388586951463, 24.88002359977941, 237.7558061510286, 141.3476890076626, 745.9185190920965, 43.331897255331754, 529.5166119230522, 303.24413388385136, 746.0728828136105, 929.8078240428459, 125.98374974029086, 870.5486096588428, 561.652682813439, 547.0767674963322, 277.7335968171637, 722.8892028411892, 92.5392376837381, 570.0290322727176, 805.6052709644575, 673.415011918284, 548.9501854498905, 351.47279052561464, 765.2369143088674, 449.0123957881121, 502.7130702284205, 462.6707909362763, 929.5756416519962, 487.41690923397545, 535.5011854466852, 523.7489413509795, 728.9925777077603, 755.2737935019916, 658.270390208982, 756.7581919920932, 957.8396878963783, 770.8698906784826, 516.4924840994189, 835.7084514772854, 855.349406043013, 639.6472008711569, 715.832563427708, 876.1328791068735, 636.4169883754245, 800.1455540082493, 20.439138620843163, 15.597756110961221, 11.23562049208771, 11.218247762384037, 49.17398502338801, 12.493019525469137, 11.948106923468373, 9.845050234755767, 17.53364744442083, 8.409578744789014, 22.8718502236101, 7.050510752224543, 7.007120741055815, 7.056089637907701, 21.619468060825984, 7.0828111844703425, 9.791677822234236, 12.539420790714992, 9.798651075904335, 7.014865875935823, 5.725267162437893, 5.711620725690447, 8.395221386863462, 5.673915766013136, 11.111524003862261, 7.1207683566564475, 6.945833294500914, 7.059643148236357, 5.685221241302739, 5.645801471557659, 65.3300344004392, 20.98073829742185, 16.951814458047938, 21.293675996531633, 83.40775868927471, 18.17907077592332, 15.435691574467663, 36.871584837821246, 35.8069980750094, 26.47047606749623, 32.294455510156666, 15.573755699742268, 322.86181967351166, 58.75606292522932, 22.06668566665111, 660.1347257744427, 118.15300456611907, 789.6957955758454, 101.25514283331533, 197.40320234058643, 110.79510683393477, 561.652682813439, 304.5883926863744, 929.5756416519962, 544.872294262823, 839.3407187301616, 675.1220414843832, 98.15642403778716, 449.0123957881121, 502.7130702284205, 533.8149330463001, 504.97046039704884, 689.9876728603602, 639.6472008711569, 600.9674521832661, 876.1328791068735, 423.2518854150438, 673.415011918284, 569.0843446795345, 990.4422453422534, 621.1188280936975, 460.10862258241366, 929.8078240428459, 855.349406043013, 612.4216280292053, 603.0644415489771, 636.4169883754245, 805.6052709644575, 756.7581919920932, 957.8396878963783, 758.6687507875904, 770.8698906784826, 835.7084514772854, 17.807716392616815, 13.499843310360184, 11.920201651283527, 9.037221332314015, 11.758977812476228, 10.194494719126455, 7.50060556024194, 8.849414929408999, 6.009970649100878, 5.9927839817395165, 5.879853453003974, 7.328538991635861, 7.347735178149081, 5.821033063677183, 19.720653426033437, 5.916582233447244, 5.866544786260038, 7.403566961051691, 5.96202476898437, 5.056331816022131, 8.025990077792883, 7.429987631337097, 5.753854039993411, 5.875503369968517, 4.492277444606566, 8.63751550903431, 15.768689799519061, 5.7762402137978235, 5.779358581899091, 6.59006502627046, 26.575998405329827, 61.33832659346744, 11.608784308779871, 31.64826854704648, 25.915110600844905, 11.570214152603349, 15.349841926110708, 145.18207757175745, 14.24753942432317, 8.800963012432495, 21.34000653317167, 10.578883127900356, 82.9353454877457, 14.385188340629416, 10.406155093212265, 22.79181119273592, 17.071819883748734, 319.6116447235215, 21.702805663203932, 106.67047995281202, 247.1669776331862, 477.650617000411, 112.57451325481739, 493.57775413563434, 570.2549792289144, 870.5486096588428, 673.415011918284, 800.1455540082493, 689.9876728603602, 418.386334486864, 258.9562557364864, 544.872294262823, 299.34247270169783, 839.3407187301616, 957.8396878963783, 424.5464747535758, 539.6473235642034, 603.0644415489771, 640.4191099964238, 399.05374021017957, 789.6957955758454, 652.7226887326161, 639.6472008711569, 929.8078240428459, 419.1925611637449, 452.6785753857965, 765.2369143088674, 855.349406043013, 755.2737935019916, 746.0728828136105, 636.4169883754245, 990.4422453422534, 929.5756416519962, 715.832563427708, 675.1220414843832, 770.8698906784826, 835.7084514772854, 10.143503493629035, 17.6865698050469, 58.797056241432614, 28.64916025149671, 5.741096681014137, 6.402306838610713, 6.988765451152508, 5.1775532318477975, 7.432044219031873, 5.190598580336197, 7.5916288345062615, 6.417785155400738, 9.025045188576447, 5.175729965490723, 5.212126817676717, 5.2197058325956105, 7.745921110106662, 3.9678642343348725, 7.00895985599051, 25.726910897539614, 5.0045941886697625, 3.898796063855555, 3.9315422293781057, 3.960161969785199, 14.581941614106814, 28.460963849627348, 3.929640145539995, 5.207084733034959, 17.225294658081783, 6.228404401223146, 29.972842404113695, 143.79001809390314, 7.049322179392557, 14.51861581948972, 33.28897890431986, 13.479335362745465, 8.665814431784051, 10.419824118694304, 24.654124063962367, 226.00163783394908, 29.34974868224732, 7.931945849855086, 36.33209140896225, 733.7873536332716, 789.6957955758454, 870.5486096588428, 839.3407187301616, 570.2549792289144, 82.9353454877457, 929.5756416519962, 675.1220414843832, 451.4570556023457, 805.6052709644575, 745.9185190920965, 600.9674521832661, 523.7489413509795, 653.2558527045901, 528.6084998854374, 290.4906710937863, 990.4422453422534, 800.1455540082493, 611.6712359156733, 855.349406043013, 728.9925777077603, 640.4191099964238, 770.8698906784826, 539.6473235642034, 658.270390208982, 580.6852843031121, 746.0728828136105, 493.1924223914006, 673.415011918284, 835.7084514772854, 929.8078240428459, 26.250864490665432, 13.899555151187416, 16.199353363168818, 17.890506280545114, 11.519065840900156, 17.704179355513865, 8.2593989323866, 7.711131685030552, 6.459293318313696, 6.945233931885681, 5.096338573550122, 3.8774233829772173, 3.9490836116360355, 17.1113222544469, 3.9364519247545235, 7.183105308693528, 3.9340516541159922, 8.246518085342428, 3.9770379303345162, 5.215619098304736, 5.1873908934190816, 6.54725501578175, 3.936387757471116, 3.953090102932735, 3.9103545376401967, 5.270000097543759, 8.798519809356089, 7.286423735953135, 3.933069956014623, 3.952218810506521, 5.127869932197305, 16.565665157376497, 6.4111413249772555, 31.519574792308113, 38.35672630842025, 71.21047247730726, 17.930090551548783, 97.63253947363548, 15.01104555175096, 36.87513180636178, 21.683666227327816, 12.828585347684216, 81.5982312501823, 46.783276031450804, 18.05160832476947, 41.97842959540113, 30.22713724396781, 49.94872333817985, 52.86092181772342, 51.300199885729484, 652.7226887326161, 990.4422453422534, 643.7030671274388, 733.7873536332716, 870.5486096588428, 719.5992264609713, 728.9925777077603, 417.83315224398365, 653.2558527045901, 409.97926808507395, 612.4216280292053, 835.7084514772854, 876.1328791068735, 756.7581919920932, 805.6052709644575, 758.6687507875904, 839.3407187301616, 386.6200337808003, 449.0123957881121, 636.4169883754245, 375.97805673208484, 755.2737935019916, 291.6246598775245, 570.2549792289144, 452.37757754000603, 957.8396878963783, 715.832563427708, 929.8078240428459, 621.1188280936975, 640.4191099964238, 765.2369143088674, 855.349406043013, 603.0644415489771, 17.45179387876465, 14.786983502034673, 47.4522752324555, 9.557298934623349, 8.207612929836355, 7.402902544918181, 6.799005552218927, 5.369075261613918, 5.299881674229603, 10.168804165780056, 5.350534164636551, 6.4329637008934215, 4.129299767507881, 4.164463154993861, 5.447717521439111, 4.160999657941413, 4.086492327665919, 8.127240563522419, 4.06768976861005, 6.719747510274033, 7.765761905337192, 5.415761182945655, 4.130528131188039, 7.3437929635213415, 6.021084927343088, 4.166316904753004, 4.189383828121357, 4.205665479275803, 4.141324873316137, 31.440348983846523, 21.269034859255413, 9.693328997332918, 9.58999310853664, 6.835051677115785, 63.3747386075374, 9.842290292588949, 11.543805033519204, 145.88340431937687, 28.86221136738109, 18.540478700607032, 70.09024897955887, 86.87946700469402, 133.06466817326077, 26.490141478840844, 493.57775413563434, 800.1455540082493, 123.41633634078242, 18.226883284925947, 58.777681629222954, 16.461702762324, 37.739824818893595, 17.119518476641606, 478.44205313836613, 34.65773541340675, 855.349406043013, 123.39638125016748, 27.511826002499234, 770.8698906784826, 755.2737935019916, 839.3407187301616, 990.4422453422534, 339.60923835296296, 312.5037187400459, 929.5756416519962, 570.2549792289144, 719.5992264609713, 539.6473235642034, 561.652682813439, 643.7030671274388, 535.5011854466852, 658.270390208982, 515.2041490437366, 756.7581919920932, 533.8149330463001, 765.2369143088674, 504.97046039704884, 722.8892028411892, 600.9674521832661, 876.1328791068735, 758.6687507875904, 835.7084514772854, 728.9925777077603, 603.0644415489771, 8.099012189622925, 7.043642432604601, 9.397766605436935, 11.33372320451555, 5.954048701109494, 4.768621096591097, 8.071495614451493, 4.718031199820119, 5.681080309365002, 5.64437866342824, 9.470058073426248, 3.560296722713244, 4.746090683477627, 3.65448486175922, 7.040744126957179, 3.6782068765909575, 3.670366595200882, 3.6418694997084344, 5.983267433125268, 3.6760342218106943, 3.595226756389352, 4.893086896862058, 3.586972259369765, 3.5808779842283767, 11.172208041395805, 3.661225697479325, 3.5309904645823185, 3.576706521484372, 3.69973744468906, 4.876860114245967, 21.2978043029206, 18.934465420616604, 7.309746662696959, 8.371351590495062, 25.693374134394663, 65.6909102797311, 12.790331421709794, 29.63501988402622, 23.298163202078392, 17.85612341703828, 8.4650696095507, 14.10102156755781, 81.5982312501823, 49.0540796407991, 13.035012305065273, 45.066621255099065, 463.3364091099552, 835.7084514772854, 426.0067630701327, 611.6712359156733, 957.8396878963783, 180.28064790852815, 114.08537674988428, 426.0412363205493, 234.90405003101003, 423.2518854150438, 452.37757754000603, 460.10862258241366, 516.4924840994189, 637.9586477243485, 855.349406043013, 597.636546503737, 758.6687507875904, 929.8078240428459, 570.0290322727176, 929.5756416519962, 451.4570556023457, 437.3907277851516, 722.8892028411892, 876.1328791068735, 375.97805673208484, 612.4216280292053, 533.8149330463001, 658.270390208982, 410.3981444692237, 990.4422453422534, 805.6052709644575, 640.4191099964238, 755.2737935019916, 746.0728828136105, 25.202435255605625, 15.062893977908896, 8.09767568248697, 9.2503461990263, 7.516557064039822, 6.971782230440787, 8.100417480711773, 9.607236147790582, 5.865477879987291, 5.9220391114425945, 7.650074471000609, 5.6996046136823795, 4.836380128066059, 3.6517063134327494, 3.6512386983651073, 16.53202383940407, 4.122747977135515, 3.6112971993567737, 6.543339681765053, 3.609921955684112, 3.6431179795094915, 5.831830536544138, 4.860311808590897, 3.6775960774572196, 3.0002533476788202, 4.710047196465902, 4.1962790408025565, 2.5177721221550238, 2.513498279998137, 2.5001930224912563, 8.664081641677148, 3.620424857187864, 7.868017892739224, 12.237432875570299, 9.980119087628543, 9.318740473475295, 7.979611163116087, 16.526631123404027, 18.55271060466386, 10.819898123638636, 22.300277237140993, 21.658672831716206, 61.20351118389872, 957.8396878963783, 24.745191420141555, 745.9185190920965, 47.35716556237534, 21.69882755344033, 35.85561016982928, 561.652682813439, 728.9925777077603, 539.6473235642034, 495.8312094802565, 643.7030671274388, 929.5756416519962, 302.07317363373903, 689.9876728603602, 755.2737935019916, 746.0728828136105, 876.1328791068735, 535.5011854466852, 805.6052709644575, 870.5486096588428, 487.41690923397545, 653.2558527045901, 658.270390208982, 756.7581919920932, 334.68258279200643, 267.1024895163222, 499.93840661170435, 929.8078240428459, 722.8892028411892, 392.05412111241725, 800.1455540082493, 765.2369143088674, 855.349406043013, 990.4422453422534, 547.0767674963322, 719.5992264609713, 733.7873536332716, 5.976480118695247, 9.558878699900992, 10.393847205290184, 4.731303094072574, 4.794370685022842, 4.799306058656801, 20.643359144258337, 3.6792885582248807, 11.689469180998422, 3.6431513775413245, 3.614333272987121, 3.6732006620438273, 10.066572309933399, 3.6964555591246935, 22.30524771242658, 9.924055991761323, 4.954241377390711, 5.8208311283939205, 2.9941563071580575, 4.146447495354354, 4.821487912734835, 5.437819714954066, 3.672681919347784, 8.134138784964442, 7.6776439650979675, 8.016584599856301, 8.29776152420898, 4.250243860851894, 2.5372000558777565, 2.5289436209657725, 17.71200560443588, 5.461615529536038, 26.930571885618654, 35.949878117533004, 16.403844353638483, 20.83821443888364, 13.58473208669244, 54.68992315164172, 11.408924719286421, 19.01578208011712, 870.5486096588428, 6.0120849307726925, 35.449958982173186, 758.6687507875904, 101.38107330332679, 409.97926808507395, 399.7029737803271, 452.6785753857965, 61.086582824297956, 39.12576148494197, 719.5992264609713, 611.6712359156733, 547.0767674963322, 675.1220414843832, 76.57731893651429, 498.1841917556066, 535.5011854466852, 765.2369143088674, 929.8078240428459, 755.2737935019916, 504.97046039704884, 715.832563427708, 621.1188280936975, 770.8698906784826, 643.7030671274388, 477.2211617913128, 746.0728828136105, 423.2518854150438, 612.4216280292053, 728.9925777077603, 660.1347257744427, 835.7084514772854, 929.5756416519962, 990.4422453422534, 876.1328791068735, 597.636546503737, 855.349406043013, 839.3407187301616], \"Category\": [\"Default\", \"Default\", \"Default\", \"Default\", \"Default\", \"Default\", \"Default\", \"Default\", \"Default\", \"Default\", \"Default\", \"Default\", \"Default\", \"Default\", \"Default\", \"Default\", \"Default\", \"Default\", \"Default\", \"Default\", \"Default\", \"Default\", \"Default\", \"Default\", \"Default\", \"Default\", \"Default\", \"Default\", \"Default\", \"Default\", \"Topic1\", \"Topic1\", \"Topic1\", \"Topic1\", \"Topic1\", \"Topic1\", \"Topic1\", \"Topic1\", \"Topic1\", \"Topic1\", \"Topic1\", \"Topic1\", \"Topic1\", \"Topic1\", \"Topic1\", \"Topic1\", \"Topic1\", \"Topic1\", \"Topic1\", \"Topic1\", \"Topic1\", \"Topic1\", \"Topic1\", \"Topic1\", \"Topic1\", \"Topic1\", \"Topic1\", \"Topic1\", \"Topic1\", \"Topic1\", \"Topic1\", \"Topic1\", \"Topic1\", \"Topic1\", \"Topic1\", \"Topic1\", \"Topic1\", \"Topic1\", \"Topic1\", \"Topic1\", \"Topic1\", \"Topic1\", \"Topic1\", \"Topic1\", \"Topic1\", \"Topic1\", \"Topic1\", \"Topic1\", \"Topic1\", \"Topic1\", \"Topic1\", \"Topic1\", \"Topic1\", \"Topic1\", \"Topic1\", \"Topic1\", \"Topic1\", \"Topic1\", \"Topic1\", \"Topic1\", \"Topic1\", \"Topic1\", \"Topic1\", \"Topic1\", \"Topic1\", \"Topic1\", \"Topic1\", \"Topic1\", \"Topic1\", \"Topic1\", \"Topic1\", \"Topic1\", \"Topic1\", \"Topic1\", \"Topic1\", \"Topic1\", \"Topic1\", \"Topic1\", \"Topic1\", \"Topic1\", \"Topic1\", \"Topic1\", \"Topic1\", \"Topic1\", \"Topic1\", \"Topic1\", \"Topic1\", \"Topic2\", \"Topic2\", \"Topic2\", \"Topic2\", \"Topic2\", \"Topic2\", \"Topic2\", \"Topic2\", \"Topic2\", \"Topic2\", \"Topic2\", \"Topic2\", \"Topic2\", \"Topic2\", \"Topic2\", \"Topic2\", \"Topic2\", \"Topic2\", \"Topic2\", \"Topic2\", \"Topic2\", \"Topic2\", \"Topic2\", \"Topic2\", \"Topic2\", \"Topic2\", \"Topic2\", \"Topic2\", \"Topic2\", \"Topic2\", \"Topic2\", \"Topic2\", \"Topic2\", \"Topic2\", \"Topic2\", \"Topic2\", \"Topic2\", \"Topic2\", \"Topic2\", \"Topic2\", \"Topic2\", \"Topic2\", \"Topic2\", \"Topic2\", \"Topic2\", \"Topic2\", \"Topic2\", \"Topic2\", \"Topic2\", \"Topic2\", \"Topic2\", \"Topic2\", \"Topic2\", \"Topic2\", \"Topic2\", \"Topic2\", \"Topic2\", \"Topic2\", \"Topic2\", \"Topic2\", \"Topic2\", \"Topic2\", \"Topic2\", \"Topic2\", \"Topic2\", \"Topic2\", \"Topic2\", \"Topic2\", \"Topic2\", \"Topic2\", \"Topic2\", \"Topic2\", \"Topic2\", \"Topic2\", \"Topic2\", \"Topic2\", \"Topic2\", \"Topic2\", \"Topic2\", \"Topic2\", \"Topic2\", \"Topic2\", \"Topic2\", \"Topic2\", \"Topic2\", \"Topic2\", \"Topic2\", \"Topic2\", \"Topic2\", \"Topic3\", \"Topic3\", \"Topic3\", \"Topic3\", \"Topic3\", \"Topic3\", \"Topic3\", \"Topic3\", \"Topic3\", \"Topic3\", \"Topic3\", \"Topic3\", \"Topic3\", \"Topic3\", \"Topic3\", \"Topic3\", \"Topic3\", \"Topic3\", \"Topic3\", \"Topic3\", \"Topic3\", \"Topic3\", \"Topic3\", \"Topic3\", \"Topic3\", \"Topic3\", \"Topic3\", \"Topic3\", \"Topic3\", \"Topic3\", \"Topic3\", \"Topic3\", \"Topic3\", \"Topic3\", \"Topic3\", \"Topic3\", \"Topic3\", \"Topic3\", \"Topic3\", \"Topic3\", \"Topic3\", \"Topic3\", \"Topic3\", \"Topic3\", \"Topic3\", \"Topic3\", \"Topic3\", \"Topic3\", \"Topic3\", \"Topic3\", \"Topic3\", \"Topic3\", \"Topic3\", \"Topic3\", \"Topic3\", \"Topic3\", \"Topic3\", \"Topic3\", \"Topic3\", \"Topic3\", \"Topic3\", \"Topic3\", \"Topic3\", \"Topic3\", \"Topic3\", \"Topic3\", \"Topic3\", \"Topic3\", \"Topic3\", \"Topic3\", \"Topic3\", \"Topic3\", \"Topic3\", \"Topic3\", \"Topic3\", \"Topic3\", \"Topic3\", \"Topic3\", \"Topic3\", \"Topic3\", \"Topic3\", \"Topic3\", \"Topic3\", \"Topic4\", \"Topic4\", \"Topic4\", \"Topic4\", \"Topic4\", \"Topic4\", \"Topic4\", \"Topic4\", \"Topic4\", \"Topic4\", \"Topic4\", \"Topic4\", \"Topic4\", \"Topic4\", \"Topic4\", \"Topic4\", \"Topic4\", \"Topic4\", \"Topic4\", \"Topic4\", \"Topic4\", \"Topic4\", \"Topic4\", \"Topic4\", \"Topic4\", \"Topic4\", \"Topic4\", \"Topic4\", \"Topic4\", \"Topic4\", \"Topic4\", \"Topic4\", \"Topic4\", \"Topic4\", \"Topic4\", \"Topic4\", \"Topic4\", \"Topic4\", \"Topic4\", \"Topic4\", \"Topic4\", \"Topic4\", \"Topic4\", \"Topic4\", \"Topic4\", \"Topic4\", \"Topic4\", \"Topic4\", \"Topic4\", \"Topic4\", \"Topic4\", \"Topic4\", \"Topic4\", \"Topic4\", \"Topic4\", \"Topic4\", \"Topic4\", \"Topic4\", \"Topic4\", \"Topic4\", \"Topic4\", \"Topic4\", \"Topic4\", \"Topic4\", \"Topic4\", \"Topic4\", \"Topic4\", \"Topic4\", \"Topic4\", \"Topic4\", \"Topic4\", \"Topic4\", \"Topic4\", \"Topic4\", \"Topic4\", \"Topic4\", \"Topic4\", \"Topic4\", \"Topic4\", \"Topic4\", \"Topic4\", \"Topic4\", \"Topic4\", \"Topic4\", \"Topic4\", \"Topic4\", \"Topic4\", \"Topic5\", \"Topic5\", \"Topic5\", \"Topic5\", \"Topic5\", \"Topic5\", \"Topic5\", \"Topic5\", \"Topic5\", \"Topic5\", \"Topic5\", \"Topic5\", \"Topic5\", \"Topic5\", \"Topic5\", \"Topic5\", \"Topic5\", \"Topic5\", \"Topic5\", \"Topic5\", \"Topic5\", \"Topic5\", \"Topic5\", \"Topic5\", \"Topic5\", \"Topic5\", \"Topic5\", \"Topic5\", \"Topic5\", \"Topic5\", \"Topic5\", \"Topic5\", \"Topic5\", \"Topic5\", \"Topic5\", \"Topic5\", \"Topic5\", \"Topic5\", \"Topic5\", \"Topic5\", \"Topic5\", \"Topic5\", \"Topic5\", \"Topic5\", \"Topic5\", \"Topic5\", \"Topic5\", \"Topic5\", \"Topic5\", \"Topic5\", \"Topic5\", \"Topic5\", \"Topic5\", \"Topic5\", \"Topic5\", \"Topic5\", \"Topic5\", \"Topic5\", \"Topic5\", \"Topic5\", \"Topic5\", \"Topic5\", \"Topic5\", \"Topic5\", \"Topic5\", \"Topic5\", \"Topic5\", \"Topic5\", \"Topic5\", \"Topic5\", \"Topic5\", \"Topic5\", \"Topic5\", \"Topic5\", \"Topic6\", \"Topic6\", \"Topic6\", \"Topic6\", \"Topic6\", \"Topic6\", \"Topic6\", \"Topic6\", \"Topic6\", \"Topic6\", \"Topic6\", \"Topic6\", \"Topic6\", \"Topic6\", \"Topic6\", \"Topic6\", \"Topic6\", \"Topic6\", \"Topic6\", \"Topic6\", \"Topic6\", \"Topic6\", \"Topic6\", \"Topic6\", \"Topic6\", \"Topic6\", \"Topic6\", \"Topic6\", \"Topic6\", \"Topic6\", \"Topic6\", \"Topic6\", \"Topic6\", \"Topic6\", \"Topic6\", \"Topic6\", \"Topic6\", \"Topic6\", \"Topic6\", \"Topic6\", \"Topic6\", \"Topic6\", \"Topic6\", \"Topic6\", \"Topic6\", \"Topic6\", \"Topic6\", \"Topic6\", \"Topic6\", \"Topic6\", \"Topic6\", \"Topic6\", \"Topic6\", \"Topic6\", \"Topic6\", \"Topic6\", \"Topic6\", \"Topic6\", \"Topic6\", \"Topic6\", \"Topic6\", \"Topic6\", \"Topic6\", \"Topic6\", \"Topic6\", \"Topic6\", \"Topic6\", \"Topic6\", \"Topic6\", \"Topic6\", \"Topic6\", \"Topic6\", \"Topic6\", \"Topic6\", \"Topic6\", \"Topic6\", \"Topic6\", \"Topic6\", \"Topic6\", \"Topic6\", \"Topic6\", \"Topic6\", \"Topic6\", \"Topic7\", \"Topic7\", \"Topic7\", \"Topic7\", \"Topic7\", \"Topic7\", \"Topic7\", \"Topic7\", \"Topic7\", \"Topic7\", \"Topic7\", \"Topic7\", \"Topic7\", \"Topic7\", \"Topic7\", \"Topic7\", \"Topic7\", \"Topic7\", \"Topic7\", \"Topic7\", \"Topic7\", \"Topic7\", \"Topic7\", \"Topic7\", \"Topic7\", \"Topic7\", \"Topic7\", \"Topic7\", \"Topic7\", \"Topic7\", \"Topic7\", \"Topic7\", \"Topic7\", \"Topic7\", \"Topic7\", \"Topic7\", \"Topic7\", \"Topic7\", \"Topic7\", \"Topic7\", \"Topic7\", \"Topic7\", \"Topic7\", \"Topic7\", \"Topic7\", \"Topic7\", \"Topic7\", \"Topic7\", \"Topic7\", \"Topic7\", \"Topic7\", \"Topic7\", \"Topic7\", \"Topic7\", \"Topic7\", \"Topic7\", \"Topic7\", \"Topic7\", \"Topic7\", \"Topic7\", \"Topic7\", \"Topic7\", \"Topic7\", \"Topic7\", \"Topic7\", \"Topic7\", \"Topic7\", \"Topic7\", \"Topic7\", \"Topic7\", \"Topic7\", \"Topic7\", \"Topic7\", \"Topic7\", \"Topic7\", \"Topic7\", \"Topic7\", \"Topic7\", \"Topic7\", \"Topic7\", \"Topic7\", \"Topic7\", \"Topic7\", \"Topic8\", \"Topic8\", \"Topic8\", \"Topic8\", \"Topic8\", \"Topic8\", \"Topic8\", \"Topic8\", \"Topic8\", \"Topic8\", \"Topic8\", \"Topic8\", \"Topic8\", \"Topic8\", \"Topic8\", \"Topic8\", \"Topic8\", \"Topic8\", \"Topic8\", \"Topic8\", \"Topic8\", \"Topic8\", \"Topic8\", \"Topic8\", \"Topic8\", \"Topic8\", \"Topic8\", \"Topic8\", \"Topic8\", \"Topic8\", \"Topic8\", \"Topic8\", \"Topic8\", \"Topic8\", \"Topic8\", \"Topic8\", \"Topic8\", \"Topic8\", \"Topic8\", \"Topic8\", \"Topic8\", \"Topic8\", \"Topic8\", \"Topic8\", \"Topic8\", \"Topic8\", \"Topic8\", \"Topic8\", \"Topic8\", \"Topic8\", \"Topic8\", \"Topic8\", \"Topic8\", \"Topic8\", \"Topic8\", \"Topic8\", \"Topic8\", \"Topic8\", \"Topic8\", \"Topic8\", \"Topic8\", \"Topic8\", \"Topic8\", \"Topic8\", \"Topic8\", \"Topic8\", \"Topic8\", \"Topic8\", \"Topic8\", \"Topic8\", \"Topic8\", \"Topic8\", \"Topic8\", \"Topic8\", \"Topic8\", \"Topic8\", \"Topic8\", \"Topic8\", \"Topic8\", \"Topic8\", \"Topic9\", \"Topic9\", \"Topic9\", \"Topic9\", \"Topic9\", \"Topic9\", \"Topic9\", \"Topic9\", \"Topic9\", \"Topic9\", \"Topic9\", \"Topic9\", \"Topic9\", \"Topic9\", \"Topic9\", \"Topic9\", \"Topic9\", \"Topic9\", \"Topic9\", \"Topic9\", \"Topic9\", \"Topic9\", \"Topic9\", \"Topic9\", \"Topic9\", \"Topic9\", \"Topic9\", \"Topic9\", \"Topic9\", \"Topic9\", \"Topic9\", \"Topic9\", \"Topic9\", \"Topic9\", \"Topic9\", \"Topic9\", \"Topic9\", \"Topic9\", \"Topic9\", \"Topic9\", \"Topic9\", \"Topic9\", \"Topic9\", \"Topic9\", \"Topic9\", \"Topic9\", \"Topic9\", \"Topic9\", \"Topic9\", \"Topic9\", \"Topic9\", \"Topic9\", \"Topic9\", \"Topic9\", \"Topic9\", \"Topic9\", \"Topic9\", \"Topic9\", \"Topic9\", \"Topic9\", \"Topic9\", \"Topic9\", \"Topic9\", \"Topic9\", \"Topic9\", \"Topic9\", \"Topic9\", \"Topic9\", \"Topic9\", \"Topic9\", \"Topic9\", \"Topic9\", \"Topic9\", \"Topic9\", \"Topic9\", \"Topic9\", \"Topic9\", \"Topic9\", \"Topic9\", \"Topic9\", \"Topic10\", \"Topic10\", \"Topic10\", \"Topic10\", \"Topic10\", \"Topic10\", \"Topic10\", \"Topic10\", \"Topic10\", \"Topic10\", \"Topic10\", \"Topic10\", \"Topic10\", \"Topic10\", \"Topic10\", \"Topic10\", \"Topic10\", \"Topic10\", \"Topic10\", \"Topic10\", \"Topic10\", \"Topic10\", \"Topic10\", \"Topic10\", \"Topic10\", \"Topic10\", \"Topic10\", \"Topic10\", \"Topic10\", \"Topic10\", \"Topic10\", \"Topic10\", \"Topic10\", \"Topic10\", \"Topic10\", \"Topic10\", \"Topic10\", \"Topic10\", \"Topic10\", \"Topic10\", \"Topic10\", \"Topic10\", \"Topic10\", \"Topic10\", \"Topic10\", \"Topic10\", \"Topic10\", \"Topic10\", \"Topic10\", \"Topic10\", \"Topic10\", \"Topic10\", \"Topic10\", \"Topic10\", \"Topic10\", \"Topic10\", \"Topic10\", \"Topic10\", \"Topic10\", \"Topic10\", \"Topic10\", \"Topic10\", \"Topic10\", \"Topic10\", \"Topic10\", \"Topic10\", \"Topic10\", \"Topic10\", \"Topic10\", \"Topic10\", \"Topic10\", \"Topic10\", \"Topic10\", \"Topic10\", \"Topic10\", \"Topic10\", \"Topic10\", \"Topic10\"], \"logprob\": [30.0, 29.0, 28.0, 27.0, 26.0, 25.0, 24.0, 23.0, 22.0, 21.0, 20.0, 19.0, 18.0, 17.0, 16.0, 15.0, 14.0, 13.0, 12.0, 11.0, 10.0, 9.0, 8.0, 7.0, 6.0, 5.0, 4.0, 3.0, 2.0, 1.0, -8.2134, -7.7278, -9.0108, -8.4291, -8.279, -9.06, -8.788, -8.6523, -8.92, -7.5854, -8.8623, -9.4747, -9.4879, -9.2617, -9.4831, -9.4939, -7.4643, -7.1461, -9.025, -9.2938, -9.2829, -8.8433, -9.1359, -8.9859, -9.5101, -9.5027, -9.5126, -9.526, -8.8582, -9.0574, -8.5798, -8.4234, -8.6997, -8.8689, -7.0453, -8.114, -8.8962, -7.6233, -8.9859, -8.8011, -8.5101, -5.8066, -6.5283, -8.5888, -8.1678, -6.4525, -8.2711, -7.5306, -5.9345, -5.6198, -7.9352, -5.7612, -7.2378, -6.6126, -6.1622, -6.1255, -6.1924, -6.0355, -6.9861, -5.6613, -5.8981, -7.432, -5.8959, -6.3034, -6.3727, -5.9445, -5.7942, -6.2719, -6.0115, -6.1054, -5.9328, -6.4176, -6.0837, -6.1396, -6.0717, -5.9754, -6.062, -6.246, -6.0727, -6.1984, -6.3199, -6.2246, -6.1467, -6.1984, -6.2145, -6.2353, -6.2466, -8.3015, -8.2345, -8.083, -8.4396, -8.3082, -8.4651, -8.8803, -8.201, -9.0654, -7.2814, -8.8995, -7.3142, -9.3093, -8.6079, -8.952, -9.3262, -9.1192, -9.1126, -9.3268, -9.3318, -9.3373, -8.8732, -9.4953, -8.9541, -9.1587, -8.9696, -8.8268, -9.6444, -9.6446, -8.2647, -8.1946, -8.2213, -8.4818, -8.7364, -7.4056, -7.1251, -8.2886, -7.7209, -6.8936, -7.995, -8.5744, -7.6788, -7.6216, -7.6335, -7.4436, -7.6829, -8.1459, -6.4583, -6.869, -5.673, -7.7512, -5.9849, -6.3823, -5.7761, -5.6378, -7.0082, -5.6979, -6.0071, -6.0286, -6.4807, -5.8943, -7.2206, -6.0759, -5.8824, -5.9917, -6.1531, -6.4293, -5.9645, -6.2878, -6.2216, -6.2948, -5.9055, -6.2773, -6.2321, -6.2484, -6.0859, -6.0736, -6.1528, -6.0944, -5.9961, -6.1202, -6.2766, -6.1284, -6.1306, -6.2146, -6.2024, -6.1895, -6.2467, -6.2274, -7.766, -8.0527, -8.3999, -8.4107, -6.9428, -8.3149, -8.3615, -8.5682, -7.994, -8.7304, -7.7363, -8.9146, -8.9301, -8.9233, -7.8045, -8.9281, -8.6073, -8.36, -8.6072, -8.9442, -9.1543, -9.1636, -8.7837, -9.1767, -8.5079, -8.9532, -8.9809, -8.9648, -9.1883, -9.2027, -6.8166, -7.9374, -8.1462, -7.9373, -6.7591, -8.1226, -8.273, -7.516, -7.6146, -7.9077, -7.7672, -8.3254, -6.0568, -7.3296, -8.0647, -5.579, -6.8351, -5.4917, -6.9863, -6.5468, -6.9518, -5.878, -6.2895, -5.5789, -5.9264, -5.6705, -5.8451, -7.0453, -6.1332, -6.066, -6.0342, -6.0767, -5.8987, -5.959, -6.0012, -5.8048, -6.2381, -6.0103, -6.1026, -5.8449, -6.0817, -6.2383, -5.9038, -5.9527, -6.1273, -6.1393, -6.1526, -6.0844, -6.1166, -6.1039, -6.1468, -6.1588, -6.1501, -7.8203, -8.1129, -8.2461, -8.547, -8.2874, -8.4452, -8.7556, -8.6163, -9.0071, -9.0104, -9.0327, -8.8237, -8.8276, -9.0653, -7.8514, -9.0559, -9.0657, -8.8359, -9.053, -9.2199, -8.7607, -8.8385, -9.095, -9.0869, -9.3602, -8.7116, -8.1106, -9.1266, -9.1262, -8.9987, -7.6279, -6.8119, -8.4523, -7.512, -7.7101, -8.4617, -8.2311, -6.3114, -8.3045, -8.7216, -7.9884, -8.5756, -6.9656, -8.334, -8.5935, -8.014, -8.2342, -6.1449, -8.0625, -6.981, -6.4044, -5.9731, -6.9559, -5.9543, -5.8704, -5.6176, -5.8103, -5.7237, -5.8288, -6.1493, -6.4669, -6.0277, -6.44, -5.8522, -5.7793, -6.2699, -6.145, -6.0914, -6.0652, -6.3283, -5.9869, -6.0866, -6.1076, -5.9286, -6.3184, -6.2867, -6.0536, -6.0267, -6.08, -6.0858, -6.1559, -6.0036, -6.0999, -6.1688, -6.211, -6.193, -6.2037, -8.0408, -7.4855, -6.2929, -7.0598, -8.682, -8.5752, -8.4948, -8.8043, -8.4516, -8.8156, -8.4401, -8.6104, -8.2728, -8.8415, -8.8454, -8.8524, -8.4596, -9.1315, -8.57, -7.2727, -8.912, -9.1677, -9.1689, -9.1654, -7.8622, -7.1944, -9.1785, -8.9006, -7.7065, -8.7482, -7.1962, -5.6729, -8.6326, -7.9742, -7.2209, -8.0477, -8.4481, -8.2992, -7.5842, -5.8806, -7.5556, -8.5401, -7.5394, -5.6086, -5.587, -5.5265, -5.6236, -5.8769, -7.0758, -5.7482, -5.9393, -6.169, -5.8656, -5.942, -6.0678, -6.1429, -6.0482, -6.1785, -6.4998, -5.9129, -6.0178, -6.154, -6.0109, -6.0837, -6.151, -6.1177, -6.2589, -6.2059, -6.2503, -6.1717, -6.3196, -6.2285, -6.1843, -6.2261, -7.028, -7.6937, -7.5503, -7.4553, -7.9024, -7.4744, -8.2661, -8.337, -8.5324, -8.5113, -8.8622, -9.1483, -9.1338, -7.6694, -9.1478, -8.5483, -9.1602, -8.4217, -9.1549, -8.8842, -8.8922, -8.6684, -9.1823, -9.1842, -9.1982, -8.9029, -8.398, -8.5887, -9.2115, -9.2158, -8.9575, -7.8349, -8.7434, -7.2704, -7.0951, -6.5877, -7.8251, -6.4471, -8.0343, -7.2948, -7.7372, -8.1771, -6.6825, -7.1524, -7.918, -7.2813, -7.5772, -7.2432, -7.2836, -7.321, -5.7784, -5.6033, -5.9095, -5.8639, -5.7964, -5.9378, -5.933, -6.2372, -6.0254, -6.263, -6.0772, -5.9268, -5.9098, -6.0065, -5.9869, -6.0299, -6.0234, -6.3491, -6.3161, -6.185, -6.3901, -6.1446, -6.4886, -6.2714, -6.3523, -6.0981, -6.2092, -6.1905, -6.2909, -6.3056, -6.2844, -6.321, -6.3455, -7.3522, -7.5325, -6.3685, -7.9968, -8.165, -8.2806, -8.3982, -8.6599, -8.6764, -8.039, -8.716, -8.5354, -8.9838, -8.9831, -8.7186, -8.9914, -9.014, -8.327, -9.0195, -8.5198, -8.3768, -8.742, -9.0147, -8.442, -8.6507, -9.0198, -9.0183, -9.0162, -9.0326, -7.0155, -7.4251, -8.1957, -8.2207, -8.5502, -6.5099, -8.2489, -8.1192, -5.9473, -7.3709, -7.7517, -6.6872, -6.5488, -6.2517, -7.5242, -5.3343, -5.1539, -6.4746, -7.8198, -7.0767, -7.9191, -7.3926, -7.8985, -5.9228, -7.4799, -5.6796, -6.7867, -7.6288, -5.7624, -5.7784, -5.7385, -5.7135, -6.3033, -6.3502, -5.8134, -6.0677, -6.0199, -6.1903, -6.1739, -6.1174, -6.1993, -6.1187, -6.2378, -6.0929, -6.2254, -6.1128, -6.25, -6.1657, -6.2108, -6.2006, -6.225, -6.2236, -6.2399, -6.2821, -7.8828, -8.0402, -7.7548, -7.5918, -8.2586, -8.4982, -7.992, -8.5345, -8.3548, -8.3793, -7.8776, -8.8674, -8.5841, -8.8618, -8.2129, -8.8769, -8.8847, -8.8935, -8.3981, -8.8906, -8.9222, -8.6173, -8.9284, -8.9439, -7.8068, -8.9432, -8.9846, -8.9772, -8.9434, -8.6688, -7.2139, -7.4145, -8.3035, -8.1893, -7.1747, -6.3898, -7.8535, -7.2235, -7.4188, -7.6352, -8.2495, -7.8733, -6.6149, -6.9917, -7.9667, -7.1887, -5.835, -5.6306, -6.0235, -5.8872, -5.6479, -6.5878, -6.8403, -6.1695, -6.4751, -6.2531, -6.2416, -6.2353, -6.1967, -6.108, -5.9885, -6.1399, -6.0521, -5.9688, -6.1743, -5.9824, -6.2794, -6.3038, -6.1183, -6.1095, -6.4606, -6.3246, -6.3991, -6.3476, -6.4943, -6.2924, -6.3844, -6.4459, -6.4355, -6.4444, -6.6615, -7.205, -7.8589, -7.7276, -7.9431, -8.0251, -7.8826, -7.7403, -8.2384, -8.229, -8.0381, -8.3574, -8.5232, -8.8059, -8.8096, -7.3048, -8.7026, -8.8404, -8.2808, -8.878, -8.8871, -8.4296, -8.6267, -8.918, -9.133, -8.6893, -8.8099, -9.3253, -9.3279, -9.336, -8.0951, -8.9703, -8.2263, -7.8529, -8.0413, -8.1073, -8.2493, -7.6579, -7.573, -8.0342, -7.5174, -7.56, -6.879, -5.0996, -7.5605, -5.4634, -7.1909, -7.6699, -7.4006, -5.9421, -5.8643, -6.0353, -6.086, -5.9558, -5.786, -6.3484, -5.9877, -5.9672, -6.0119, -6.0004, -6.2318, -6.0633, -6.0323, -6.2885, -6.1882, -6.1853, -6.138, -6.4582, -6.5522, -6.32, -6.1069, -6.2081, -6.4635, -6.2649, -6.2794, -6.2586, -6.2543, -6.3933, -6.3511, -6.3683, -8.2157, -7.7542, -7.6804, -8.4953, -8.5009, -8.5015, -7.0666, -8.7942, -7.6409, -8.8071, -8.8176, -8.8056, -7.8025, -8.8117, -7.0176, -7.8526, -8.5502, -8.4003, -9.0716, -8.753, -8.6086, -8.5017, -8.8998, -8.1117, -8.1779, -8.1477, -8.1169, -8.7935, -9.3115, -9.3165, -7.3978, -8.5557, -7.0786, -6.8534, -7.6052, -7.4054, -7.7962, -6.8656, -7.9987, -7.6571, -5.1983, -8.48, -7.4101, -5.5875, -6.8305, -6.039, -6.0626, -6.0524, -7.1372, -7.3913, -5.8949, -6.0013, -6.1085, -6.0326, -7.0647, -6.1956, -6.1628, -6.0348, -5.9564, -6.0599, -6.2416, -6.101, -6.1719, -6.1073, -6.1894, -6.3498, -6.2183, -6.4126, -6.2898, -6.2466, -6.2794, -6.2423, -6.2225, -6.2162, -6.2593, -6.3477, -6.2907, -6.3415], \"loglift\": [30.0, 29.0, 28.0, 27.0, 26.0, 25.0, 24.0, 23.0, 22.0, 21.0, 20.0, 19.0, 18.0, 17.0, 16.0, 15.0, 14.0, 13.0, 12.0, 11.0, 10.0, 9.0, 8.0, 7.0, 6.0, 5.0, 4.0, 3.0, 2.0, 1.0, 1.485, 1.4624, 1.4549, 1.4492, 1.4414, 1.4194, 1.4165, 1.4155, 1.4148, 1.4145, 1.4102, 1.4064, 1.4051, 1.4039, 1.4003, 1.3996, 1.3971, 1.3965, 1.394, 1.3891, 1.388, 1.3873, 1.3863, 1.385, 1.3831, 1.3825, 1.3781, 1.3771, 1.375, 1.374, 1.3697, 1.3588, 1.3628, 1.3618, 1.2618, 1.3018, 1.3508, 1.208, 1.3559, 1.3312, 1.2867, 0.8062, 0.8616, 1.2806, 1.1889, 0.7943, 1.2104, 1.0081, 0.5233, 0.4082, 1.095, 0.4441, 0.8802, 0.6611, 0.5099, 0.4771, 0.4966, 0.4128, 0.7513, 0.2441, 0.3267, 0.907, 0.2786, 0.4193, 0.4296, 0.2274, 0.1446, 0.3654, 0.2185, 0.2666, 0.1424, 0.3819, 0.1366, 0.1715, 0.0843, -0.0068, 0.0499, 0.1934, -0.0207, 0.1239, 0.2636, 0.1168, -0.0148, -0.0351, -0.0256, -0.0234, -0.2778, 1.7956, 1.7729, 1.7701, 1.7655, 1.7518, 1.7402, 1.7363, 1.7296, 1.7279, 1.7123, 1.7099, 1.7056, 1.7012, 1.6975, 1.6909, 1.6872, 1.6865, 1.6841, 1.6828, 1.681, 1.6778, 1.6769, 1.6734, 1.6697, 1.6658, 1.6568, 1.6524, 1.6514, 1.6501, 1.6487, 1.643, 1.6394, 1.6165, 1.6295, 1.4856, 1.401, 1.544, 1.4526, 1.3123, 1.4722, 1.5796, 1.3339, 1.306, 1.3089, 1.2457, 1.3134, 1.4435, 0.8739, 0.9833, 0.5159, 1.2834, 0.5467, 0.7067, 0.4126, 0.3308, 0.9592, 0.3365, 0.4655, 0.4703, 0.6961, 0.326, 1.0553, 0.3819, 0.2295, 0.2994, 0.3424, 0.5121, 0.1988, 0.4087, 0.3619, 0.3717, 0.0632, 0.3371, 0.2882, 0.2941, 0.1259, 0.1029, 0.1611, 0.0801, -0.0573, 0.0358, 0.2798, -0.0531, -0.0786, 0.128, 0.0277, -0.1615, 0.101, -0.1086, 2.0201, 2.0037, 1.9846, 1.9753, 1.9653, 1.9635, 1.9615, 1.9483, 1.9454, 1.9438, 1.9373, 1.9358, 1.9265, 1.9263, 1.9254, 1.9177, 1.9147, 1.9147, 1.9141, 1.9113, 1.9043, 1.8975, 1.8922, 1.891, 1.8876, 1.8873, 1.8844, 1.8843, 1.8774, 1.8699, 1.8075, 1.8226, 1.8269, 1.8078, 1.6207, 1.7806, 1.7938, 1.6801, 1.6107, 1.6197, 1.5615, 1.7326, 0.9695, 1.4005, 1.6448, 0.732, 1.1965, 0.6402, 1.1996, 0.9714, 1.144, 0.5946, 0.7951, 0.3899, 0.5766, 0.4005, 0.4435, 1.1716, 0.5633, 0.5175, 0.4893, 0.5023, 0.3682, 0.3836, 0.4038, 0.2232, 0.5175, 0.2809, 0.3568, 0.0605, 0.2903, 0.4338, 0.0648, 0.0993, 0.2588, 0.2622, 0.195, 0.0276, 0.0579, -0.1651, 0.0252, -0.0028, -0.0748, 2.1036, 2.088, 2.0792, 2.0552, 2.0515, 2.0365, 2.0329, 2.0069, 2.003, 2.0025, 1.9993, 1.988, 1.9816, 1.9768, 1.9705, 1.9699, 1.9686, 1.9657, 1.9652, 1.963, 1.9601, 1.9595, 1.9586, 1.9458, 1.941, 1.9358, 1.9349, 1.9232, 1.923, 1.9192, 1.8956, 1.8752, 1.8995, 1.8368, 1.8386, 1.8933, 1.8414, 1.5141, 1.8424, 1.9071, 1.7545, 1.8691, 1.4198, 1.8034, 1.8676, 1.6631, 1.7319, 0.8915, 1.6636, 1.1527, 0.8891, 0.6615, 1.124, 0.6475, 0.5871, 0.4168, 0.4809, 0.3951, 0.4381, 0.6178, 0.7799, 0.4752, 0.662, 0.2187, 0.1595, 0.4826, 0.3676, 0.3101, 0.2762, 0.4861, 0.1449, 0.2358, 0.235, 0.04, 0.4468, 0.4017, 0.1097, 0.0253, 0.0964, 0.1029, 0.1918, -0.0982, -0.1311, 0.0613, 0.0776, -0.037, -0.1285, 2.4459, 2.4452, 2.4365, 2.3886, 2.3739, 2.3717, 2.3644, 2.3549, 2.3461, 2.341, 2.3364, 2.334, 2.3308, 2.3181, 2.3072, 2.2986, 2.2967, 2.2938, 2.2863, 2.2833, 2.2812, 2.2751, 2.2656, 2.2618, 2.2616, 2.2606, 2.2565, 2.2529, 2.2506, 2.2262, 2.207, 2.1623, 2.218, 2.1539, 2.0774, 2.1547, 2.1961, 2.1606, 2.0144, 1.5024, 1.8686, 2.1925, 1.6715, 0.5968, 0.5449, 0.5079, 0.4473, 0.5806, 1.3097, 0.2206, 0.3493, 0.5221, 0.2464, 0.2469, 0.3372, 0.3996, 0.2734, 0.3548, 0.6322, -0.0075, 0.1009, 0.2333, 0.0411, 0.1282, 0.1904, 0.0383, 0.2537, 0.108, 0.189, 0.017, 0.283, 0.0627, -0.1091, -0.2576, 2.5078, 2.478, 2.4683, 2.4639, 2.4571, 2.4553, 2.4261, 2.4239, 2.4056, 2.3542, 2.3128, 2.3, 2.2962, 2.2944, 2.2854, 2.2835, 2.2736, 2.272, 2.2681, 2.2676, 2.2651, 2.2561, 2.251, 2.2448, 2.2416, 2.2386, 2.231, 2.2288, 2.2226, 2.2135, 2.2113, 2.1613, 2.2021, 2.0825, 2.0615, 1.9502, 2.092, 1.7752, 2.0604, 1.9012, 1.9897, 2.0748, 1.7192, 1.8056, 1.9923, 1.7851, 1.8175, 1.6493, 1.5522, 1.5448, 0.544, 0.3021, 0.4268, 0.3414, 0.238, 0.2871, 0.2788, 0.5312, 0.2961, 0.5245, 0.3089, 0.1485, 0.1182, 0.168, 0.125, 0.1421, 0.0475, 0.497, 0.3804, 0.1627, 0.4839, 0.0319, 0.6394, 0.186, 0.3367, -0.1592, 0.0209, -0.2219, 0.0811, 0.0358, -0.1211, -0.269, 0.056, 2.5919, 2.5773, 2.5753, 2.5494, 2.5335, 2.521, 2.4885, 2.463, 2.4594, 2.4452, 2.4103, 2.4067, 2.4016, 2.3938, 2.3897, 2.3864, 2.3818, 2.3813, 2.3809, 2.3787, 2.377, 2.3722, 2.3704, 2.3676, 2.3576, 2.3567, 2.3527, 2.3509, 2.3499, 2.3399, 2.3212, 2.3364, 2.3221, 2.3313, 2.1446, 2.2679, 2.2382, 1.8734, 2.07, 2.1319, 1.8665, 1.7902, 1.661, 2.0025, 1.2675, 0.9648, 1.5133, 2.0808, 1.6531, 2.0834, 1.7802, 2.0648, 0.7102, 1.7781, 0.3724, 1.2014, 1.8601, 0.3936, 0.398, 0.3324, 0.1919, 0.6725, 0.7087, 0.1554, 0.3897, 0.205, 0.3223, 0.2987, 0.2189, 0.321, 0.1952, 0.3212, 0.0816, 0.2981, 0.0506, 0.329, 0.0545, 0.1942, -0.1726, -0.0531, -0.1483, -0.028, 0.1194, 2.8289, 2.8112, 2.8083, 2.7839, 2.7609, 2.7433, 2.7232, 2.7176, 2.7116, 2.6935, 2.6777, 2.6663, 2.6621, 2.6458, 2.6389, 2.6242, 2.6185, 2.6175, 2.6164, 2.6111, 2.6017, 2.5984, 2.5978, 2.5841, 2.5833, 2.5626, 2.5573, 2.5519, 2.5519, 2.5502, 2.5311, 2.4481, 2.5108, 2.4894, 2.3826, 2.2288, 2.4013, 2.191, 2.2364, 2.286, 2.4181, 2.284, 1.7868, 1.9189, 2.2692, 1.8067, 0.8301, 0.4446, 0.7256, 0.5001, 0.291, 1.0212, 1.2263, 0.5795, 0.8692, 0.5025, 0.4474, 0.4368, 0.3597, 0.2373, 0.0635, 0.2706, 0.1199, -0.0002, 0.2835, -0.0136, 0.4117, 0.4188, 0.1019, -0.0815, 0.4133, 0.0615, 0.1243, -0.0337, 0.2921, -0.387, -0.2725, -0.1045, -0.259, -0.2557, 2.9151, 2.8863, 2.853, 2.8513, 2.8433, 2.8365, 2.829, 2.8007, 2.796, 2.7958, 2.7307, 2.7057, 2.7042, 2.7024, 2.6989, 2.6935, 2.6844, 2.6791, 2.6442, 2.6419, 2.6236, 2.6106, 2.5957, 2.5833, 2.5719, 2.5646, 2.5594, 2.5548, 2.5539, 2.5511, 2.5493, 2.5467, 2.5144, 2.4461, 2.4616, 2.4642, 2.4773, 2.3407, 2.3099, 2.388, 2.1815, 2.1681, 1.8103, 0.8392, 2.0344, 0.7255, 1.7549, 2.0564, 1.8234, 0.5305, 0.3475, 0.4773, 0.5113, 0.3804, 0.1828, 0.7444, 0.2791, 0.2093, 0.1768, 0.0276, 0.2885, 0.0486, 0.0021, 0.3259, 0.1333, 0.1286, 0.0365, 0.5321, 0.6637, 0.2691, -0.1384, 0.0122, 0.3686, -0.1461, -0.1161, -0.2066, -0.3489, 0.1057, -0.1262, -0.163, 2.8, 2.7918, 2.7819, 2.754, 2.7352, 2.7336, 2.7096, 2.7066, 2.7039, 2.7035, 2.701, 2.6968, 2.6918, 2.6844, 2.6811, 2.656, 2.653, 2.6417, 2.6353, 2.6283, 2.6218, 2.6085, 2.6028, 2.5957, 2.5873, 2.5743, 2.5706, 2.5631, 2.561, 2.5592, 2.5315, 2.5501, 2.4317, 2.368, 2.4008, 2.3613, 2.3984, 1.9362, 2.3704, 2.2012, 0.8361, 2.5298, 1.8253, 0.5845, 1.3541, 0.7484, 0.7502, 0.6359, 1.554, 1.7455, 0.33, 0.386, 0.3904, 0.2561, 1.4005, 0.397, 0.3575, 0.1286, 0.0122, 0.1165, 0.3374, 0.129, 0.2001, 0.0487, 0.1468, 0.2858, -0.0296, 0.3429, 0.0963, -0.0348, 0.0317, -0.167, -0.2537, -0.3108, -0.2313, 0.0628, -0.2387, -0.2705]}, \"token.table\": {\"Topic\": [1, 2, 5, 6, 9, 2, 4, 1, 2, 3, 4, 5, 6, 7, 8, 9, 10, 2, 3, 3, 1, 2, 3, 4, 5, 6, 7, 8, 9, 10, 2, 7, 2, 9, 2, 3, 8, 10, 1, 2, 3, 4, 5, 6, 7, 8, 10, 1, 2, 3, 4, 7, 8, 9, 10, 9, 1, 1, 2, 3, 4, 5, 6, 7, 8, 9, 10, 2, 4, 7, 9, 1, 2, 3, 4, 5, 6, 7, 8, 9, 10, 1, 2, 3, 4, 5, 6, 7, 8, 9, 10, 1, 2, 3, 4, 5, 6, 7, 8, 9, 10, 3, 4, 5, 8, 10, 2, 4, 9, 8, 4, 1, 3, 4, 6, 8, 10, 1, 2, 3, 4, 5, 6, 7, 8, 9, 10, 2, 3, 5, 7, 1, 2, 3, 4, 5, 6, 7, 8, 9, 10, 2, 3, 1, 2, 3, 4, 5, 6, 9, 10, 3, 7, 1, 2, 3, 4, 5, 6, 7, 8, 9, 10, 1, 2, 3, 4, 5, 6, 7, 8, 9, 10, 1, 2, 3, 4, 5, 6, 7, 8, 9, 10, 9, 4, 5, 5, 1, 2, 3, 4, 5, 6, 7, 8, 9, 10, 7, 1, 2, 3, 4, 5, 6, 7, 8, 9, 10, 5, 1, 1, 5, 8, 2, 8, 1, 2, 3, 4, 5, 6, 7, 8, 9, 10, 1, 7, 2, 5, 8, 1, 1, 2, 3, 5, 7, 9, 10, 4, 2, 5, 6, 6, 7, 9, 2, 3, 8, 5, 7, 4, 7, 9, 3, 9, 2, 5, 1, 2, 3, 4, 5, 6, 7, 8, 9, 10, 7, 2, 5, 8, 3, 8, 1, 2, 3, 6, 8, 9, 10, 8, 1, 3, 6, 1, 2, 3, 5, 6, 7, 8, 9, 1, 2, 3, 4, 5, 6, 7, 8, 9, 10, 1, 2, 3, 4, 5, 6, 7, 9, 10, 10, 4, 1, 2, 3, 4, 5, 6, 7, 8, 9, 10, 1, 2, 3, 4, 5, 6, 7, 8, 9, 10, 1, 2, 3, 4, 5, 6, 7, 8, 9, 10, 6, 9, 1, 2, 3, 6, 7, 9, 10, 1, 2, 3, 4, 5, 6, 7, 8, 9, 10, 1, 2, 3, 4, 6, 7, 10, 7, 1, 2, 3, 4, 5, 6, 7, 8, 9, 10, 3, 1, 2, 3, 4, 5, 6, 9, 10, 3, 1, 10, 1, 9, 1, 5, 9, 2, 9, 1, 3, 1, 3, 6, 1, 5, 6, 8, 1, 2, 3, 4, 5, 6, 7, 8, 9, 10, 1, 2, 8, 9, 10, 2, 4, 7, 10, 2, 5, 8, 1, 2, 3, 4, 5, 6, 7, 8, 9, 10, 1, 2, 3, 4, 5, 6, 7, 8, 9, 10, 2, 7, 8, 1, 2, 3, 4, 5, 6, 7, 8, 9, 10, 7, 5, 1, 10, 8, 1, 9, 1, 2, 3, 4, 5, 6, 7, 8, 9, 10, 2, 3, 1, 2, 3, 4, 5, 6, 8, 9, 3, 7, 10, 2, 9, 1, 2, 3, 4, 5, 6, 7, 8, 9, 10, 7, 7, 1, 2, 3, 4, 5, 6, 7, 8, 9, 10, 7, 2, 4, 5, 2, 10, 1, 3, 4, 6, 10, 2, 10, 1, 2, 3, 4, 5, 6, 7, 8, 9, 10, 5, 1, 3, 1, 9, 2, 4, 3, 1, 2, 3, 4, 5, 6, 7, 9, 10, 8, 10, 6, 8, 1, 2, 3, 4, 5, 6, 7, 8, 9, 10, 1, 2, 3, 4, 5, 6, 7, 8, 9, 10, 1, 2, 3, 4, 5, 6, 7, 8, 9, 10, 1, 2, 3, 4, 5, 6, 7, 8, 9, 10, 1, 2, 3, 4, 5, 6, 7, 8, 9, 10, 9, 3, 7, 8, 3, 1, 2, 3, 4, 5, 6, 7, 8, 9, 10, 7, 8, 9, 8, 2, 3, 4, 5, 6, 1, 2, 3, 4, 5, 6, 7, 8, 9, 10, 1, 2, 3, 4, 5, 6, 7, 8, 9, 10, 2, 5, 2, 3, 6, 10, 1, 2, 3, 4, 6, 8, 9, 1, 2, 3, 4, 5, 6, 8, 9, 10, 2, 5, 3, 9, 2, 10, 7, 9, 3, 6, 7, 2, 5, 1, 2, 3, 4, 5, 6, 7, 8, 9, 10, 5, 1, 2, 3, 4, 5, 6, 7, 8, 9, 10, 7, 1, 5, 6, 2, 3, 8, 1, 2, 3, 4, 5, 6, 7, 8, 9, 10, 2, 4, 1, 2, 3, 4, 5, 6, 7, 8, 9, 10, 1, 2, 3, 4, 5, 6, 7, 8, 9, 10, 1, 2, 3, 4, 5, 6, 7, 8, 9, 10, 1, 1, 3, 1, 2, 8, 9, 1, 2, 3, 4, 5, 6, 7, 8, 9, 10, 4, 6, 10, 8, 1, 2, 3, 4, 5, 6, 7, 8, 9, 10, 7, 8, 9, 8, 6, 10, 1, 2, 3, 4, 5, 6, 7, 8, 9, 10, 1, 2, 3, 4, 5, 6, 7, 8, 9, 10, 3, 5, 6, 1, 2, 3, 4, 5, 6, 7, 8, 9, 10, 3, 2, 5, 6, 7, 1, 2, 3, 4, 5, 6, 7, 8, 9, 10, 1, 2, 3, 4, 5, 6, 7, 8, 9, 10, 5, 3, 3, 4, 7, 9, 9, 4, 1, 4, 5, 6, 5, 8, 1, 2, 4, 5, 6, 10, 1, 2, 2, 3, 3, 4, 8, 4, 5, 4, 4, 9, 10, 1, 2, 3, 4, 5, 6, 7, 8, 9, 10, 4, 3, 4, 9, 2, 3, 3, 7, 8, 7, 10, 1, 10, 1, 2, 3, 4, 5, 6, 7, 8, 9, 10, 2, 10, 2, 3, 5, 3, 6, 1, 4, 1, 2, 1, 2, 3, 4, 5, 6, 7, 8, 9, 10, 3, 2, 3, 4, 7, 1, 2, 3, 4, 5, 6, 7, 8, 9, 10, 1, 2, 3, 4, 5, 6, 7, 8, 9, 10, 8, 1, 2, 3, 4, 5, 6, 7, 8, 9, 10, 1, 6, 1, 2, 6, 9, 10, 1, 6, 1, 6, 10, 1, 2, 3, 4, 5, 6, 9, 10, 1, 4, 9, 2, 3, 4, 6, 9, 10, 1, 2, 3, 4, 5, 6, 7, 8, 9, 10, 1, 3, 5, 2, 2, 3, 7, 8, 1, 2, 4, 8, 1, 2, 3, 4, 5, 6, 7, 8, 9, 10, 1, 2, 3, 4, 5, 6, 7, 8, 9, 10, 2, 9, 4, 1, 2, 3, 4, 5, 6, 7, 8, 9, 10, 5, 4, 8, 9, 10, 1, 2, 3, 8, 1, 2, 3, 4, 5, 6, 7, 8, 9, 10, 1, 2, 3, 4, 5, 7, 8, 9, 1, 2, 3, 4, 5, 6, 7, 8, 9, 10, 1, 2, 3, 4, 7, 9, 10, 1, 1, 2, 3, 4, 6, 7, 8, 9, 5, 1, 2, 3, 4, 5, 6, 7, 8, 9, 10, 1, 2, 3, 4, 5, 6, 7, 8, 9, 10, 2, 4, 5, 6, 10, 1, 2, 3, 4, 5, 6, 7, 8, 9, 10, 1, 2, 3, 4, 5, 6, 7, 8, 9, 10, 1, 2, 3, 4, 5, 6, 7, 8, 9, 10, 1, 2, 3, 5, 6, 7, 6, 3, 8, 2, 4, 1, 2, 3, 7, 6, 1, 2, 3, 4, 5, 6, 7, 8, 9, 10, 1, 2, 3, 4, 5, 6, 7, 8, 9, 10, 1, 2, 3, 4, 5, 6, 7, 8, 9, 10, 10, 7, 1, 2, 3, 4, 5, 6, 7, 8, 9, 10, 1, 2, 3, 4, 5, 6, 7, 8, 9, 10, 9, 2, 7, 8, 4, 5, 6, 1, 2, 3, 4, 5, 6, 7, 8, 9, 10, 3, 4, 5, 6, 2, 4, 6, 1, 2, 3, 4, 7, 8, 9, 10, 1, 2, 3, 4, 6, 1, 2, 3, 4, 5, 6, 7, 8, 9, 10, 1, 2, 3, 4, 5, 6, 7, 8, 9, 10, 6, 8, 10, 7, 1, 2, 3, 4, 5, 6, 7, 8, 9, 10, 8, 1, 3, 4, 10, 7, 9, 6, 8, 1, 2, 3, 4, 5, 6, 7, 8, 9, 10, 1, 2, 3, 4, 5, 6, 8, 9, 10, 6, 3, 1, 2, 3, 4, 5, 6, 7, 8, 9, 1, 7, 8, 9, 10, 4, 1, 2, 3, 5, 6, 7, 8, 1, 3, 6, 9, 1, 2, 3, 4, 5, 6, 8, 9, 10, 1, 5, 1, 1, 2, 3, 4, 5, 6, 7, 8, 9, 10, 1, 2, 3, 4, 5, 6, 7, 8, 9, 10, 1, 4, 1, 2, 5, 6, 4, 5, 7, 9, 7, 9, 5, 1, 3, 5, 6, 10, 1, 8, 1, 2, 3, 4, 5, 6, 7, 8, 9, 10, 3, 1, 2, 3, 4, 5, 6, 7, 8, 9, 10, 1, 2, 3, 4, 5, 6, 7, 8, 9, 10, 5, 7, 10, 1, 2, 3, 4, 5, 6, 7, 8, 9, 10, 7, 1, 2, 7, 8, 6, 10, 6, 7, 6, 3, 6, 8, 10, 9, 7, 8, 1, 2, 3, 4, 5, 6, 8, 9, 10, 1, 2, 3, 4, 5, 6, 7, 8, 10, 1, 2, 3, 4, 5, 8, 6, 3, 10, 2, 3, 4, 5, 6, 7, 8, 10, 6, 6, 1, 2, 3, 4, 5, 6, 7, 8, 9, 10, 6, 1, 2, 3, 4, 5, 6, 7, 8, 9, 10, 7, 1, 2, 3, 4, 5, 6, 7, 8, 9, 10, 1, 2, 3, 4, 5, 6, 7, 8, 9, 10, 1, 5, 4, 10, 1, 2, 3, 4, 5, 6, 7, 8, 9, 10, 2, 4, 2, 7, 1, 6, 7, 10, 1, 2, 3, 4, 5, 6, 7, 8, 9, 10, 1, 2, 3, 4, 5, 6, 7, 8, 9, 10, 1, 2, 3, 4, 5, 6, 7, 8, 9, 10, 6, 10, 7, 1, 2, 3, 4, 5, 6, 7, 8, 9, 10, 1, 2, 3, 4, 5, 6, 7, 8, 9, 10, 1, 2, 3, 4, 5, 6, 7, 8, 9, 10, 6, 10, 1, 2, 5, 7, 8, 10, 1, 5, 1, 2, 3, 4, 5, 6, 7, 8, 9, 10, 8, 1, 2, 3, 4, 5, 6, 7, 8, 9, 10, 1, 2, 3, 4, 5, 6, 7, 8, 9, 10, 1, 2, 3, 4, 5, 6, 7, 8, 9, 10, 8, 1, 2, 3, 4, 5, 6, 7, 8, 9, 10, 3, 4, 1, 2, 3, 4, 5, 6, 7, 8, 9, 10, 5, 1, 2, 3, 4, 5, 6, 7, 8, 9, 10, 1, 2, 3, 4, 6, 9, 1, 6, 9, 5, 4, 9, 6, 1, 4, 8, 7, 8, 2, 1, 2, 4, 5, 6, 7, 9, 10, 4, 9, 1, 4, 8, 10, 1, 2, 3, 4, 5, 6, 7, 10, 7, 8, 3, 1, 2, 3, 4, 5, 6, 7, 8, 9, 10, 4, 8, 1, 2, 3, 4, 5, 6, 7, 8, 9, 10, 3, 4, 10, 3, 6, 1, 2, 3, 4, 5, 6, 7, 8, 9, 10, 6, 1, 2, 3, 4, 5, 6, 7, 8, 9, 10, 8, 1, 2, 3, 4, 5, 6, 7, 8, 9, 10, 10, 9, 4, 1, 2, 3, 4, 5, 8, 9, 5, 10, 1, 2, 3, 4, 5, 6, 7, 9, 10, 3, 1, 1, 2, 3, 4, 5, 6, 7, 8, 9, 10, 1, 2, 3, 4, 5, 6, 7, 8, 9, 10, 2, 6, 10, 10, 1, 2, 3, 4, 5, 6, 9, 4, 2, 4, 8, 1, 2, 3, 5, 6, 9, 4, 6, 7, 9, 1, 2, 3, 4, 5, 6, 7, 8, 9, 10, 1, 2, 3, 4, 5, 6, 7, 8, 9, 10, 8, 10, 5, 6, 6, 6, 1, 2, 3, 4, 5, 7, 9, 1, 2, 3, 4, 5, 1, 2, 3, 4, 5, 6, 7, 8, 9, 10, 8, 1, 2, 3, 4, 5, 6, 7, 8, 9, 10, 4, 8, 9, 1, 2, 3, 4, 5, 6, 7, 8, 9, 10, 1, 2, 3, 4, 5, 6, 7, 8, 9, 10, 9, 1, 2, 3, 4, 5, 6, 7, 8, 9, 10, 5, 1, 2, 3, 4, 5, 6, 7, 8, 9, 10, 8, 4, 1, 2, 3, 4, 5, 6, 7, 8, 9, 10, 5, 1, 2, 3, 4, 5, 6, 7, 8, 9, 10, 4, 1, 1, 2, 4, 6, 7, 8, 9, 1, 3, 8, 1, 2, 3, 4, 5, 6, 7, 8, 10, 2, 3, 7, 9, 4, 1, 2, 3, 4, 5, 6, 7, 8, 9, 10, 7, 2, 1, 2, 3, 4, 5, 6, 7, 8, 9, 10, 1, 2, 4, 6, 7, 8, 9, 1, 2, 3, 4, 5, 6, 7, 8, 9, 10, 1, 2, 3, 4, 5, 6, 7, 8, 9, 10, 1, 1, 1, 2, 3, 4, 5, 6, 7, 8, 9, 10, 2, 1, 2, 3, 4, 5, 6, 7, 8, 9, 10, 1, 2, 3, 4, 5, 6, 7, 8, 9, 10, 2, 2, 8, 3, 1, 4, 9, 4, 7, 1, 2, 3, 4, 5, 6, 7, 8, 9, 10, 3, 4, 3, 4, 5, 6, 5, 1, 2, 4, 5, 6, 7, 8, 9, 10, 9, 8, 2, 3, 5, 8, 1, 2, 3, 4, 5, 6, 7, 8, 9, 10, 1, 2, 3, 4, 5, 6, 7, 8, 9, 10, 2, 7, 8, 9, 2, 9, 4, 10, 1, 2, 3, 4, 5, 6, 7, 8, 9, 10, 2, 1, 1, 2, 3, 4, 5, 6, 7, 8, 9, 10, 2, 7, 10, 1, 2, 3, 4, 6, 8, 9, 10, 1, 2, 3, 4, 5, 6, 7, 8, 9, 10, 1, 2, 3, 4, 5, 6, 7, 8, 9, 10, 5, 10, 9, 2, 3, 8, 1, 2, 3, 4, 5, 6, 8, 1, 2, 3, 4, 7, 1, 2, 3, 4, 5, 6, 7, 8, 1, 2, 3, 4, 5, 6, 7, 8, 9, 10, 10, 4, 1, 2, 3, 4, 5, 6, 7, 8, 9, 10, 3, 4, 9, 2, 4, 6, 10, 1, 2, 3, 4, 5, 6, 7, 8, 9, 10, 1, 2, 3, 5, 6, 10, 2, 3, 1, 2, 3, 5, 6, 10, 3, 4, 5, 6, 9, 2, 5, 1, 4, 7, 6, 7, 1, 1, 5, 7, 4, 5, 6, 5, 10, 1, 2, 4, 5, 6, 7, 3, 6, 7, 1, 2, 3, 4, 5, 6, 7, 8, 9, 10, 1, 2, 3, 4, 5, 6, 7, 8, 9, 10, 1, 2, 4, 5, 8, 2, 6, 9, 10, 9, 9, 1, 2, 3, 4, 5, 6, 7, 8, 9, 10, 7, 1, 2, 3, 4, 5, 6, 7, 8, 9, 10, 1, 2, 3, 4, 5, 6, 7, 8, 9, 10, 1, 2, 3, 4, 5, 6, 7, 8, 9, 10, 1, 2, 3, 4, 5, 6, 7, 8, 9, 10, 9, 3, 9, 2, 4, 6, 7, 3, 6, 4, 10, 3, 4, 8, 9, 1, 2, 3, 4, 5, 6, 7, 8, 9, 10, 1, 2, 3, 4, 5, 6, 7, 8, 9, 10, 10, 1, 2, 3, 4, 5, 6, 7, 9, 10, 1, 2, 3, 4, 5, 6, 7, 8, 9, 10, 5, 7, 10, 1, 1, 2, 3, 4, 5, 6, 7, 8, 9, 10, 9, 10, 1, 5, 1, 1, 2, 3, 4, 5, 6, 7, 8, 9, 10, 9, 2, 3, 5, 7, 9, 3, 4, 9, 9, 1, 2, 5, 7, 1, 2, 3, 4, 5, 6, 7, 8, 9, 10, 5, 4, 7, 2, 1, 2, 3, 4, 5, 6, 7, 8, 9, 10, 1, 3, 7, 8, 1, 2, 4, 6, 7, 5, 10, 1, 2, 3, 4, 5, 6, 7, 8, 9, 1, 2, 3, 4, 5, 6, 7, 8, 10, 1, 7, 4, 4, 6, 1, 1, 2, 3, 4, 5, 6, 7, 8, 9, 10, 4, 7, 1, 2, 3, 4, 5, 6, 7, 8, 9, 10, 5], \"Freq\": [0.8732564111393615, 0.05821709407595743, 0.05821709407595743, 0.7590132686836798, 0.815750271866255, 0.9156954671186324, 0.9332579808095132, 0.2080935134865212, 0.12674786730542656, 0.10593851595677443, 0.15134073708110632, 0.11350555281082975, 0.08512916460812231, 0.06999509090001167, 0.0454022211243319, 0.05675277640541487, 0.03783518427027658, 0.7907997817184178, 0.10543997089578903, 0.8338076719398189, 0.16262075657141187, 0.20014862347250692, 0.1376021786373485, 0.05754272924834574, 0.06504830262856476, 0.07755759159559643, 0.07255387600878375, 0.05003715586812673, 0.06504830262856476, 0.10757988511647247, 0.22264383908704297, 0.7315440427145697, 0.892688368093879, 0.7943530641240678, 0.05703319877794155, 0.9125311804470648, 0.8397647132224978, 0.7882705170870298, 0.19493101434838203, 0.11695860860902922, 0.05847930430451461, 0.019493101434838202, 0.09746550717419102, 0.37036892726192583, 0.11695860860902922, 0.019493101434838202, 0.019493101434838202, 0.030445612512955224, 0.015222806256477612, 0.015222806256477612, 0.274010512616597, 0.04566841876943283, 0.4871298002072836, 0.10655964379534327, 0.015222806256477612, 0.7276699950222035, 0.8810490812603101, 0.01972754809979281, 0.1676841588482389, 0.01972754809979281, 0.26632189934720296, 0.06904641834927484, 0.08877396644906765, 0.049318870249482026, 0.10850151454886046, 0.01972754809979281, 0.1972754809979281, 0.13042416453617442, 0.7662419666500246, 0.016303020567021802, 0.09781812340213081, 0.20661700524982737, 0.136708995954773, 0.12738792804876575, 0.07612205456572588, 0.07301503193039012, 0.11962037146042638, 0.08855014510706888, 0.035730760306361124, 0.074568543248058, 0.05903343007137925, 0.2702101540193729, 0.11467455316919727, 0.13049173291667274, 0.0777678004250878, 0.06590491561448118, 0.09094878354798404, 0.06722301392677081, 0.05931442405303307, 0.03163435949495097, 0.09226688186027365, 0.3396603214736912, 0.31657661030557627, 0.09233484467245974, 0.06265578745631196, 0.05935811443229554, 0.016488365120082095, 0.02967905721614777, 0.04286974931221345, 0.03297673024016419, 0.009893019072049258, 0.046860341792565256, 0.6560447850959136, 0.046860341792565256, 0.23430170896282626, 0.046860341792565256, 0.2451494549963112, 0.08171648499877039, 0.5720153949913928, 0.8801142965287303, 0.8509909168900351, 0.06748772256022795, 0.06748772256022795, 0.10123158384034191, 0.16871930640056984, 0.4724140579215956, 0.06748772256022795, 0.11459144834036554, 0.2782935173980306, 0.04911062071729952, 0.04911062071729952, 0.06548082762306602, 0.08185103452883252, 0.08185103452883252, 0.016370206905766505, 0.03274041381153301, 0.2455531035864976, 0.04531718152451311, 0.6797577228676966, 0.04531718152451311, 0.22658590762256556, 0.23350243948634788, 0.16215447186551937, 0.12712910594256718, 0.11156227664347731, 0.08302308959514591, 0.049294959447117884, 0.10507609776885654, 0.03502536592295218, 0.03761983747280049, 0.054483902546814504, 0.8928884414210811, 0.07440737011842342, 0.08884173195517922, 0.5774712577086649, 0.11105216494397403, 0.06663129896638442, 0.022210432988794805, 0.022210432988794805, 0.022210432988794805, 0.06663129896638442, 0.12304299253652104, 0.7382579552191263, 0.09253191480852853, 0.3743336553617745, 0.15141586059577394, 0.0336479690212831, 0.0672959380425662, 0.04205996127660387, 0.11776789157449084, 0.021029980638301936, 0.037853965148943486, 0.05888394578724542, 0.22761365762513186, 0.23278669529843032, 0.1293259418324613, 0.05431689556963374, 0.10346075346596903, 0.1293259418324613, 0.03621126371308916, 0.01810563185654458, 0.03879778254973838, 0.031038226039790708, 0.324946492508196, 0.142489905805733, 0.1494406329182078, 0.1094739520214778, 0.041704362674848686, 0.057343498677916944, 0.059081180456035644, 0.041704362674848686, 0.038228999118611294, 0.0364913173404926, 0.8270648489326861, 0.056540075945910546, 0.9046412151345687, 0.7903442239863171, 0.22075756420844608, 0.14096567353069447, 0.1356462141521777, 0.08511135005626837, 0.034576485960359025, 0.12766702508440256, 0.08511135005626837, 0.0797918906777516, 0.03723621564961741, 0.055854323474426114, 0.7547338310305663, 0.09823551189052257, 0.20274137560384448, 0.08778492551919038, 0.15884891284424926, 0.0940552773419897, 0.0940552773419897, 0.1442180919243842, 0.04389246275959519, 0.04598258003386163, 0.029261641839730127, 0.7725656928827856, 0.8795398105354219, 0.1741624778878576, 0.7547040708473829, 0.8518319970682153, 0.08823225889278669, 0.8823225889278669, 0.10207956206658096, 0.13610608275544128, 0.05103978103329048, 0.05103978103329048, 0.01701326034443016, 0.05103978103329048, 0.37429172757746354, 0.13610608275544128, 0.01701326034443016, 0.03402652068886032, 0.8921040862691663, 0.0743420071890972, 0.8342052762792831, 0.901405672120238, 0.08503827095473944, 0.8859299235219256, 0.10598883326022991, 0.23847487483551733, 0.026497208315057478, 0.10598883326022991, 0.42395533304091965, 0.026497208315057478, 0.052994416630114956, 0.8343367648884713, 0.03490503704895704, 0.872625926223926, 0.06981007409791408, 0.09242231198233399, 0.18484462396466797, 0.5545338718940038, 0.84031695354812, 0.8772335009401009, 0.07974850008546372, 0.7560742562813231, 0.7244058584560575, 0.10427536169028513, 0.7299275318319959, 0.10427536169028513, 0.18146598560120036, 0.7863526042718683, 0.27550835766522724, 0.6887708941630681, 0.1262629572548528, 0.5892271338559797, 0.04208765241828426, 0.04208765241828426, 0.04208765241828426, 0.02104382620914213, 0.02104382620914213, 0.02104382620914213, 0.0631314786274264, 0.04208765241828426, 0.9416886571786077, 0.11660941385259371, 0.7773960923506248, 0.07773960923506247, 0.1055959733558637, 0.7391718134910459, 0.047988756567070474, 0.047988756567070474, 0.14396626970121143, 0.047988756567070474, 0.047988756567070474, 0.09597751313414095, 0.5278763222377753, 0.8377833629666254, 0.04625460706001267, 0.8788375341402408, 0.8639017862960531, 0.04733747335161708, 0.1577915778387236, 0.04733747335161708, 0.03155831556774472, 0.01577915778387236, 0.615387153571022, 0.0788957889193618, 0.01577915778387236, 0.10642643239526825, 0.14473994805756482, 0.13622583346594336, 0.14899700535337554, 0.0851411459162146, 0.11068348969107898, 0.03405645836648584, 0.1277117188743219, 0.04682763025391803, 0.06385585943716095, 0.03713252003140771, 0.03713252003140771, 0.03713252003140771, 0.03713252003140771, 0.03713252003140771, 0.03713252003140771, 0.18566260015703856, 0.03713252003140771, 0.5941203205025234, 0.8334538266808295, 0.818717074009958, 0.21390492106159392, 0.13879326939111056, 0.16491906127649608, 0.11430033949856164, 0.04408727380658806, 0.10613602953437867, 0.06694734170630039, 0.05551730775644423, 0.03918868782807828, 0.05715016974928082, 0.16723728548496677, 0.15781546658440526, 0.1036400079061766, 0.18843637801123017, 0.11777273625701887, 0.058886368128509434, 0.10599546263131697, 0.028265456701684528, 0.01884363780112302, 0.05417545867822868, 0.24610247721910478, 0.19736931341334146, 0.08040972027950948, 0.10964961856296747, 0.03167655647374616, 0.08771969485037398, 0.07066308751835682, 0.07066308751835682, 0.04873316380576332, 0.05604313837662782, 0.9077785577944342, 0.8216389690828189, 0.020020531720690026, 0.04004106344138005, 0.1601642537655202, 0.40041063441380054, 0.12012319032414016, 0.1401437220448302, 0.0800821268827601, 0.20429635566231372, 0.21002429086779914, 0.0916469632877669, 0.11837732758003225, 0.11837732758003225, 0.08782833981744328, 0.06491659899550155, 0.04200485817355983, 0.026730364292265347, 0.03818623470323621, 0.018917566429284553, 0.018917566429284553, 0.43510402787354474, 0.09458783214642276, 0.37835132858569104, 0.018917566429284553, 0.037835132858569105, 0.7265154309227017, 0.20913812434885948, 0.26276328443831065, 0.13004101321691905, 0.061668934102868826, 0.10188780416995719, 0.034856354058143246, 0.03351572505590697, 0.02279069303801674, 0.10590969117666602, 0.037537612062615806, 0.9206479378246851, 0.21375159775637217, 0.04275031955127444, 0.02137515977563722, 0.08550063910254888, 0.02137515977563722, 0.4702535150640188, 0.10687579887818609, 0.02137515977563722, 0.8754082667832565, 0.7976746718032027, 0.15953493436064056, 0.8807703962219583, 0.636936292751163, 0.06857797311659672, 0.7543577042825639, 0.06857797311659672, 0.8065457370296389, 0.9312774373108803, 0.1429882951434862, 0.8102670058130885, 0.9166685484768202, 0.02696083966108295, 0.02696083966108295, 0.30039972174401286, 0.630839415662427, 0.030039972174401283, 0.030039972174401283, 0.14565794085952724, 0.2091498637982955, 0.14565794085952724, 0.07843119892436082, 0.08403342741895801, 0.07656378942616175, 0.09897270340455055, 0.020541504480189737, 0.06909415143336549, 0.07282897042976362, 0.3637070268397429, 0.08082378374216509, 0.040411891871082545, 0.40411891871082545, 0.08082378374216509, 0.7176045352325697, 0.10251493360465282, 0.05125746680232641, 0.05125746680232641, 0.14185761049811607, 0.7092880524905804, 0.8209091331564143, 0.19050075941916944, 0.40481411376573506, 0.07937531642465394, 0.03175012656986157, 0.04762518985479236, 0.04762518985479236, 0.07937531642465394, 0.02381259492739618, 0.03175012656986157, 0.06350025313972314, 0.3536868490920074, 0.11273768314807736, 0.07294791262522653, 0.046421398943325975, 0.07073736981840148, 0.11052714034125231, 0.07736899823887662, 0.08179008385252672, 0.03315814210237569, 0.04200031332967588, 0.14630467291828497, 0.7315233645914249, 0.8237527457368194, 0.3467206555422162, 0.09124227777426741, 0.13382200740225889, 0.06893860987389094, 0.1054355209835979, 0.08515945925598292, 0.030414092591422474, 0.05271776049179895, 0.03446930493694547, 0.05069015431903745, 0.7200604439325174, 0.7706240307531002, 0.201847250431443, 0.807389001725772, 0.8426263970812379, 0.8532866962246953, 0.07757151783860866, 0.06317855130634671, 0.2194018781729495, 0.06777335503771739, 0.17689994365777081, 0.13210060727690678, 0.09993698115731207, 0.04479933638086404, 0.027568822388224022, 0.051691541977920044, 0.11831619608279476, 0.8292166529724055, 0.8856138539743084, 0.03556884359428816, 0.6758080282914751, 0.03556884359428816, 0.10670653078286449, 0.03556884359428816, 0.03556884359428816, 0.03556884359428816, 0.03556884359428816, 0.8733216910476777, 0.7341259347753405, 0.8454330488806016, 0.8916033472640637, 0.8606120790466305, 0.1370122971919955, 0.12152395055290036, 0.1894343935089329, 0.14535217615150825, 0.12390677311276115, 0.0822073783151973, 0.09888713623422284, 0.028593870718329494, 0.03335951583805108, 0.03931657223770305, 0.7385850049289624, 0.9455750575570174, 0.12026358864174577, 0.2605711087237825, 0.0501098286007274, 0.22716455632329757, 0.07349441528106686, 0.06681310480096987, 0.08685703624126083, 0.04008786288058192, 0.033406552400484936, 0.04008786288058192, 0.8304151262331289, 0.1483752682292965, 0.07418763411464825, 0.6676887070318342, 0.8068430374564152, 0.11526329106520217, 0.8469330012725386, 0.08469330012725385, 0.8244185259067304, 0.06341680968513311, 0.06341680968513311, 0.35060271659415265, 0.525904074891229, 0.16387978932290923, 0.08193989466145461, 0.051212434163409135, 0.07169740782877278, 0.07169740782877278, 0.46091190747068217, 0.040969947330727306, 0.020484973665363653, 0.020484973665363653, 0.020484973665363653, 0.8709137431067916, 0.7912073865885754, 0.09890092332357192, 0.03967870524645336, 0.9522889259148806, 0.9008321557450092, 0.9629741398571204, 0.8900265016108498, 0.023077687877535884, 0.5538645090608612, 0.023077687877535884, 0.09231075151014353, 0.023077687877535884, 0.023077687877535884, 0.04615537575507177, 0.04615537575507177, 0.16154381514275118, 0.8160968638976103, 0.7908440439001264, 0.7711005555942487, 0.8108683507545847, 0.19595542871117735, 0.1734470348727313, 0.08341345951894712, 0.1284302471958392, 0.07017322784927298, 0.08076541318501229, 0.10592185335739317, 0.041044718175989856, 0.0635531120144359, 0.05825701934656624, 0.18020856096898896, 0.13664165611934329, 0.2099132688210201, 0.0752519265584789, 0.08911412355609344, 0.05148816027685399, 0.09901569284010382, 0.059409415704062295, 0.025744080138426995, 0.07129129884487476, 0.41649136412235505, 0.09123144166489683, 0.08726485724468391, 0.0713985195638323, 0.06346535072340649, 0.09519802608510973, 0.03569925978191615, 0.055532181882980675, 0.023799506521277432, 0.05949876630319358, 0.06367277783729525, 0.41741043248893545, 0.04244851855819683, 0.1485698149536889, 0.10612129639549207, 0.01414950618606561, 0.01414950618606561, 0.12027080258155767, 0.04244851855819683, 0.021224259279098413, 0.15343637896825577, 0.12635937091503416, 0.39712945144725026, 0.06317968545751708, 0.09928236286181256, 0.04512834675536934, 0.06317968545751708, 0.00902566935107387, 0.01805133870214774, 0.01805133870214774, 0.8443037788012873, 0.23014937997674392, 0.15343291998449593, 0.5370152199457358, 0.8553264034003453, 0.18293607954936128, 0.1756186363673868, 0.0731744318197445, 0.10244420454764232, 0.09268761363834305, 0.13171397727554013, 0.06097869318312042, 0.03170892045522262, 0.03658721590987225, 0.10732250000229195, 0.10731063954902308, 0.21462127909804615, 0.6438638372941384, 0.817357046547501, 0.184307967461636, 0.092153983730818, 0.599000894250317, 0.046076991865409, 0.046076991865409, 0.1308778410163947, 0.2617556820327894, 0.0739744318788318, 0.17640056832644507, 0.1109616478182477, 0.04552272731005034, 0.07681960233570995, 0.025606534111903317, 0.05974857959444107, 0.03983238639629405, 0.253038062540782, 0.15639158032034442, 0.18099250306736492, 0.11070415236159213, 0.06150230686755118, 0.05271626302932959, 0.06150230686755118, 0.04920184549404095, 0.026358131514664793, 0.04568742795875231, 0.8223430547489781, 0.08223430547489781, 0.12051442995589456, 0.12051442995589456, 0.12051442995589456, 0.7230865797353674, 0.08136346764576098, 0.027121155881920326, 0.6780288970480082, 0.027121155881920326, 0.027121155881920326, 0.1084846235276813, 0.027121155881920326, 0.14705038691256817, 0.09803359127504545, 0.03267786375834848, 0.16338931879174243, 0.03267786375834848, 0.049016795637522724, 0.08169465939587121, 0.31043970570431056, 0.06535572751669697, 0.1260724693447409, 0.7564348160684453, 0.8794732496380873, 0.7149190916117525, 0.20740485470444373, 0.6222145641133312, 0.7440755761068913, 0.14881511522137827, 0.8744373456658284, 0.04372186728329142, 0.04372186728329142, 0.11080276930532838, 0.7756193851372987, 0.16582624843299246, 0.15331105987201188, 0.1001215084878445, 0.28472053976230777, 0.09699271134759936, 0.05631834852441253, 0.05944714566465767, 0.0312879714024514, 0.03441676854269655, 0.021901579981715984, 0.7809685049529724, 0.3269388007471486, 0.11202798067559637, 0.1303182632348774, 0.07087484491721403, 0.08459255683667481, 0.08001998619685455, 0.04343942107829247, 0.08001998619685455, 0.02057656787919117, 0.05258456235793299, 0.7160957608759588, 0.8780781988814685, 0.08780781988814686, 0.7737096787445734, 0.06478491716264338, 0.7774190059517206, 0.06478491716264338, 0.21354520724907225, 0.1339891496464767, 0.11095976455098852, 0.22610669002842945, 0.05024593111742877, 0.08164963806582175, 0.06280741389678596, 0.03977802880129777, 0.027216546021940582, 0.05652667250710736, 0.7827574739642112, 0.0978446842455264, 0.1957711600544971, 0.16899903560260007, 0.12214781781178025, 0.13218736448124163, 0.08533614669042182, 0.06525705335149903, 0.06525705335149903, 0.06860356890798616, 0.04183144445608913, 0.05521750668203765, 0.19277727504688139, 0.17556501834626698, 0.0929461861833178, 0.15491031030552968, 0.1480254076252839, 0.04130941608147458, 0.07917638082282628, 0.0378669647413517, 0.03442451340122882, 0.04130941608147458, 0.2170840048959113, 0.14790338795106045, 0.08349384803688896, 0.18130092716581603, 0.07156615546019054, 0.07156615546019054, 0.06918061694485085, 0.04532523179145401, 0.04532523179145401, 0.06918061694485085, 0.8970340724260573, 0.8291733260340558, 0.8812256307980629, 0.08736730048935244, 0.786305704404172, 0.08736730048935244, 0.08736730048935244, 0.17418783693609213, 0.1519510917953144, 0.07968167008778683, 0.1686286506508977, 0.10191841522856454, 0.05188573866181467, 0.09821229103843492, 0.04076736609142582, 0.08338779427791644, 0.048179614471685055, 0.8828294337251068, 0.6862076899712382, 0.13724153799424763, 0.566413310956528, 0.3352469878118731, 0.11174899593729103, 0.125376922271107, 0.03270702320115835, 0.14445601913844938, 0.11038620330390943, 0.05860008323540871, 0.024530267400868763, 0.04360936426821113, 0.012265133700434382, 0.10019920516175104, 0.20039841032350209, 0.6011952309705063, 0.8478112650362517, 0.7625726004032655, 0.6512414515090372, 0.25600834708662873, 0.13179127926944792, 0.2650974008293493, 0.0742272722322178, 0.03332653038997534, 0.04847495329450958, 0.06362337619904382, 0.04544526871360273, 0.03029684580906849, 0.05301948016586985, 0.09714559056138418, 0.6383853094033818, 0.08326764905261501, 0.013877941508769169, 0.013877941508769169, 0.055511766035076675, 0.027755883017538337, 0.027755883017538337, 0.055511766035076675, 0.013877941508769169, 0.11539596282286507, 0.6923757769371904, 0.11539596282286507, 0.3317475084192515, 0.16834948188439627, 0.06436891954403387, 0.10645629001513293, 0.09407765164128026, 0.08169901326742761, 0.04703882582064013, 0.04208737047109907, 0.037135915121558, 0.024757276747705333, 0.9616767882053784, 0.8242445365790748, 0.051515283536192176, 0.051515283536192176, 0.051515283536192176, 0.28013963211199194, 0.11108985411337613, 0.17065977588431694, 0.08693988582785958, 0.06600991331374523, 0.08532988794215847, 0.04668993868533199, 0.0482999365710331, 0.04507994079963089, 0.06278991754234303, 0.13881138844179672, 0.1292381892389142, 0.14359798804323798, 0.15556448704684114, 0.11009179083314911, 0.13402478884035546, 0.04786599601441266, 0.05504589541657456, 0.035899497010809495, 0.05265259561585393, 0.7630593352356136, 0.8638272393825317, 0.8804916999909138, 0.6443366949103819, 0.05857606317367108, 0.17572818952101324, 0.9294362703828543, 0.8689827662026904, 0.0864288237720298, 0.7778594139482683, 0.0864288237720298, 0.7671938621223913, 0.20504996587432658, 0.6151498976229798, 0.1806310598891018, 0.5870509446395809, 0.04515776497227545, 0.04515776497227545, 0.04515776497227545, 0.04515776497227545, 0.11368336064323999, 0.8639935408886239, 0.0899966556929913, 0.8099699012369217, 0.09452793720375234, 0.7562234976300187, 0.09452793720375234, 0.8104182264770964, 0.1157740323538709, 0.7587178548418162, 0.08554708383384334, 0.08554708383384334, 0.7699237545045899, 0.19262851760129923, 0.27005762761750773, 0.12841901173419948, 0.08687168440842907, 0.07931762489465263, 0.062320990988655636, 0.0717635653808762, 0.037770297568882207, 0.024550693419773433, 0.045324357082658646, 0.858954062844898, 0.891404808648553, 0.20574811645467667, 0.61724434936403, 0.8847123987209604, 0.851002177126942, 0.42921838572698795, 0.042921838572698795, 0.5150620628723855, 0.1046147808121425, 0.83691824649714, 0.09621076587416326, 0.8658968928674693, 0.18586911321157018, 0.20716661576706258, 0.12391274214104678, 0.13165728852486222, 0.09293455660578509, 0.044531141706938684, 0.06195637107052339, 0.07550932724220039, 0.030978185535261694, 0.044531141706938684, 0.8346412189536963, 0.8115882774769213, 0.18888968929952973, 0.6422249436184011, 0.11333381357971783, 0.7668795592455414, 0.11798147065316023, 0.09609697251699437, 0.7687757801359549, 0.9078788448631955, 0.06484848891879967, 0.1284704704883288, 0.14315280997270924, 0.22574096957234918, 0.18719982842585053, 0.07708228229299728, 0.08075286716409238, 0.04221172601759375, 0.03303526383985598, 0.03854114114649864, 0.04221172601759375, 0.8426056991997555, 0.04701670793326294, 0.14105012379978882, 0.04701670793326294, 0.7052506189989441, 0.48136258147772476, 0.13314284168532814, 0.09422416488500145, 0.043015379621413705, 0.06759559654793582, 0.030725271158152646, 0.030725271158152646, 0.030725271158152646, 0.04506373103195721, 0.043015379621413705, 0.17365021811246428, 0.25042189348850113, 0.11332961603129249, 0.12429699822786917, 0.08225536647432519, 0.03655794065525564, 0.049353219884595116, 0.03655794065525564, 0.056664808015646245, 0.07494377834327406, 0.8388169072312005, 0.17852257381001593, 0.2204207288878768, 0.12933778306644012, 0.1402677365650125, 0.06375806207500569, 0.0910829458214367, 0.03825483724500341, 0.03461151941214594, 0.05647142640929075, 0.04918479074357582, 0.13921555608961012, 0.8352933365376607, 0.18447064984604955, 0.09223532492302478, 0.5534119495381487, 0.04611766246151239, 0.04611766246151239, 0.15597846768781806, 0.7798923384390903, 0.30480659851487596, 0.06096131970297519, 0.5486518773267767, 0.030613790706752703, 0.04592068606012905, 0.7806516630221939, 0.030613790706752703, 0.04592068606012905, 0.030613790706752703, 0.015306895353376352, 0.015306895353376352, 0.8300350689107238, 0.06916958907589364, 0.06916958907589364, 0.1382563178868322, 0.046085439295610736, 0.1382563178868322, 0.09217087859122147, 0.4147689536604966, 0.18434175718244294, 0.10533451555476293, 0.226874341194874, 0.09723186051208886, 0.14584779076813328, 0.024307965128022215, 0.04051327521337036, 0.32410620170696286, 0.008102655042674071, 0.008102655042674071, 0.016205310085348142, 0.8385465300558586, 0.06450357923506604, 0.06450357923506604, 0.8315299428853187, 0.8856550315084629, 0.05393603995603733, 0.5932964395164106, 0.26968019978018665, 0.06951594767623637, 0.13903189535247273, 0.6951594767623638, 0.06951594767623637, 0.20150279195087867, 0.2066041284559642, 0.07396937932374027, 0.07652004757628304, 0.09692539359662518, 0.11222940311188179, 0.0714187110711975, 0.040810692040684285, 0.07396937932374027, 0.045912028545769826, 0.1972855636228762, 0.09128138018371884, 0.1325052292989467, 0.15311715385656063, 0.06478033432392949, 0.08244769823045572, 0.1383943506011221, 0.026501045859789338, 0.053002091719578676, 0.05889121302175409, 0.7775828544895076, 0.1413787008162741, 0.8656149701074407, 0.2263507552765616, 0.183815042875597, 0.10482014841666276, 0.09722448548791908, 0.08810968997342666, 0.057727038258451956, 0.08659055738767793, 0.05165050791545701, 0.057727038258451956, 0.045573977572462065, 0.8027738210155543, 0.0781840569277697, 0.5472883984943878, 0.0781840569277697, 0.1563681138555394, 0.7769982332101494, 0.03378253187870214, 0.03378253187870214, 0.13513012751480857, 0.11198802638508323, 0.19308280411221246, 0.10426471422059473, 0.2548693014281204, 0.12357299463181598, 0.03861656082244249, 0.05406318515141949, 0.034754904740198246, 0.05792484123366374, 0.030893248657953995, 0.05841285789459736, 0.11682571578919472, 0.05841285789459736, 0.05841285789459736, 0.05841285789459736, 0.5841285789459736, 0.05841285789459736, 0.05841285789459736, 0.17421768152734254, 0.09741203698303025, 0.20793723279069917, 0.14611805547454537, 0.07493233614079249, 0.058072560509114184, 0.09553872857951043, 0.059945868912633996, 0.03184624285983681, 0.05245263529855475, 0.2690549510302514, 0.044842491838375236, 0.044842491838375236, 0.044842491838375236, 0.044842491838375236, 0.44842491838375237, 0.044842491838375236, 0.8879717789952194, 0.08392504618278539, 0.035967876935479454, 0.6474217848386301, 0.04795716924730594, 0.011989292311826485, 0.02397858462365297, 0.11989292311826484, 0.02397858462365297, 0.7790849769709673, 0.5079665601649429, 0.14258710460770327, 0.06683770528486091, 0.07129355230385163, 0.04010262317091654, 0.03119092913293509, 0.013367541056972182, 0.06238185826587018, 0.04455847018990727, 0.026735082113944365, 0.06312965482331845, 0.18412815990134548, 0.09644808375784764, 0.20867858122152488, 0.1420417233524665, 0.09469448223497767, 0.10521609137219742, 0.024550421320179396, 0.038579233503139056, 0.043840038071748924, 0.06345263263158203, 0.031726316315791016, 0.06345263263158203, 0.6345263263158203, 0.19035789789474608, 0.22591709185580744, 0.1973671296982054, 0.13033678376296584, 0.088132491877815, 0.1017868216053638, 0.08937379458031942, 0.03475647567012422, 0.03972168648014197, 0.05337601620769077, 0.03848038377763753, 0.22789949720726477, 0.026296095831607472, 0.07888828749482242, 0.1928380360984548, 0.026296095831607472, 0.14901120971244233, 0.03506146110880996, 0.1840726708212523, 0.04382682638601246, 0.04382682638601246, 0.21402272045285564, 0.2183246846830638, 0.13551187325155684, 0.12153048950338034, 0.06130299028046619, 0.062378481338018224, 0.03764218701432134, 0.05269906182004988, 0.04517062441718561, 0.05162357076249784, 0.06074705724177612, 0.06074705724177612, 0.06074705724177612, 0.12149411448355224, 0.06074705724177612, 0.546723515175985, 0.7590672844390204, 0.11945502338420629, 0.5972751169210314, 0.7935424727466367, 0.11336321039237668, 0.6432708488238372, 0.20676562997909054, 0.022973958886565615, 0.11486979443282808, 0.7621200412246261, 0.09142452049413616, 0.10970942459296339, 0.10970942459296339, 0.07313961639530893, 0.036569808197654464, 0.05485471229648169, 0.036569808197654464, 0.018284904098827232, 0.12799432869179062, 0.3474131778777174, 0.16413053893786334, 0.21952459582939218, 0.10873648204633445, 0.1189946407299509, 0.08001363773220838, 0.08411690120565496, 0.06565221557514533, 0.04718752994463571, 0.07180711078531521, 0.041032634734465834, 0.19588045400800216, 0.13058696933866812, 0.07835218160320087, 0.11752827240480129, 0.05223478773546724, 0.05223478773546724, 0.06529348466933406, 0.06529348466933406, 0.039176090801600436, 0.20893915094186896, 0.8343117924727055, 0.7450072508012524, 0.16209340357075308, 0.45386152999810864, 0.043224907618867485, 0.05403113452358436, 0.03241868071415061, 0.06483736142830122, 0.05403113452358436, 0.05403113452358436, 0.03241868071415061, 0.06483736142830122, 0.5167608402161075, 0.1384180822007431, 0.12919021005402687, 0.03691148858686482, 0.04613936073358103, 0.05536723288029723, 0.01845574429343241, 0.03691148858686482, 0.009227872146716205, 0.009227872146716205, 0.864152991702956, 0.05600319714668873, 0.3920223800268211, 0.5040287743201985, 0.7901866819719722, 0.11288381171028174, 0.07525587447352117, 0.18874946379557012, 0.03774989275911402, 0.03774989275911402, 0.03774989275911402, 0.03774989275911402, 0.03774989275911402, 0.5284984986275963, 0.03774989275911402, 0.03774989275911402, 0.03774989275911402, 0.16681767890367857, 0.03336353578073572, 0.7339977871761858, 0.06672707156147144, 0.15435010336670485, 0.7331629909918481, 0.11576257752502865, 0.040771328595808905, 0.020385664297904452, 0.06115699289371336, 0.3669419573622802, 0.020385664297904452, 0.3669419573622802, 0.10192832148952227, 0.020385664297904452, 0.7155713524387726, 0.13181577544924758, 0.0753233002567129, 0.018830825064178224, 0.03766165012835645, 0.08462633205044377, 0.05641755470029585, 0.05641755470029585, 0.1128351094005917, 0.14104388675073964, 0.05641755470029585, 0.08462633205044377, 0.028208777350147925, 0.05641755470029585, 0.31029655085162716, 0.3241517431573947, 0.1335413871458281, 0.15865173344675304, 0.06620000388425666, 0.027393105055554482, 0.0878862120532373, 0.060493106997682816, 0.04907931322453511, 0.05250345135647942, 0.041089657583331725, 0.6640240458501498, 0.12073164470002724, 0.12073164470002724, 0.7209805927944252, 0.23991140606774988, 0.22694322195597963, 0.10374547289416211, 0.060518192521594565, 0.10806820093141886, 0.0670022845774797, 0.030259096260797282, 0.04971137242845268, 0.047550008409824304, 0.06484092055885132, 0.8643029342478254, 0.8284753590100126, 0.0487338446476478, 0.0487338446476478, 0.6679677995496254, 0.7475889092414963, 0.6666103719365308, 0.9037414092292785, 0.056483838076829905, 0.08366891501192053, 0.11155855334922739, 0.13944819168653422, 0.08366891501192053, 0.11155855334922739, 0.027889638337306847, 0.027889638337306847, 0.055779276674613694, 0.3067860217103753, 0.027889638337306847, 0.13559273567497837, 0.05423709426999134, 0.08135564140498702, 0.02711854713499567, 0.05423709426999134, 0.5152523955649178, 0.08135564140498702, 0.02711854713499567, 0.05423709426999134, 0.7588999799863776, 0.8562718157323966, 0.2015209748122393, 0.584410826955494, 0.08060838992489572, 0.02015209748122393, 0.04030419496244786, 0.04030419496244786, 0.010076048740611965, 0.010076048740611965, 0.02015209748122393, 0.1577636926717201, 0.10517579511448008, 0.21035159022896016, 0.05258789755724004, 0.47329107801516035, 0.9040145663657194, 0.04019288792028582, 0.6832790946448589, 0.08038577584057165, 0.04019288792028582, 0.04019288792028582, 0.04019288792028582, 0.04019288792028582, 0.7581303937609598, 0.22297952757675288, 0.011148976378837643, 0.011148976378837643, 0.11094685735807795, 0.06656811441484677, 0.02218937147161559, 0.17751497177292472, 0.02218937147161559, 0.04437874294323118, 0.33284057207423384, 0.15532560030130912, 0.04437874294323118, 0.8415731631966805, 0.07650665119969823, 0.9120771291230718, 0.4749513353872968, 0.08108925238319702, 0.1312873610013666, 0.07722785941256859, 0.023168357823770577, 0.06950507347131173, 0.057920894559426436, 0.03861392970628429, 0.023168357823770577, 0.015445571882513717, 0.13353448188711373, 0.24926436618927894, 0.23145976860433046, 0.062316091547319735, 0.030267815894412443, 0.062316091547319735, 0.09614482695872188, 0.023145976860433046, 0.08724252816624763, 0.024926436618927895, 0.8395446870333335, 0.922803180835079, 0.055567431576482224, 0.8335114736472333, 0.055567431576482224, 0.055567431576482224, 0.8852278488958474, 0.10160236797252163, 0.7112165758076514, 0.10160236797252163, 0.7203809682893982, 0.7957037472098379, 0.8585207275786524, 0.11079345197489715, 0.055396725987448575, 0.055396725987448575, 0.5539672598744857, 0.11079345197489715, 0.8754194354516583, 0.7086696762421871, 0.12182775596810105, 0.19935450976598354, 0.1417632069446994, 0.0708816034723497, 0.1329030065106557, 0.10632240520852455, 0.04430100217021857, 0.07974180390639342, 0.05980635292979506, 0.04430100217021857, 0.8323841434194955, 0.13244166265669383, 0.12225384245233276, 0.4075128081744425, 0.07131474143052745, 0.010187820204361063, 0.15281730306541597, 0.03056346061308319, 0.020375640408722126, 0.020375640408722126, 0.03056346061308319, 0.07282526238886697, 0.20633824343512308, 0.060687718657389145, 0.2832093537344827, 0.08900865403083741, 0.06877941447837436, 0.048550174925911314, 0.052596022836403925, 0.040458479104926094, 0.07687111029935959, 0.7663267104098306, 0.7772467298868158, 0.15544934597736315, 0.23355745788774146, 0.15518247201937185, 0.1410749745630653, 0.12539997738939138, 0.07210498699890004, 0.05486249010785873, 0.06740248784679786, 0.06740248784679786, 0.03448499378208263, 0.04702499152102177, 0.8170164967617777, 0.08662654965986925, 0.08662654965986925, 0.693012397278954, 0.08662654965986925, 0.1663316489229098, 0.6653265956916392, 0.8943290787359701, 0.05589556742099813, 0.9549385472685523, 0.0564588800575783, 0.1693766401727349, 0.0564588800575783, 0.6210476806333612, 0.8524454617857724, 0.1368036467122988, 0.684018233561494, 0.055855003421687276, 0.08378250513253092, 0.6423325393494037, 0.08378250513253092, 0.055855003421687276, 0.027927501710843638, 0.027927501710843638, 0.027927501710843638, 0.027927501710843638, 0.025558607987345175, 0.2555860798734518, 0.025558607987345175, 0.1277930399367259, 0.05111721597469035, 0.1022344319493807, 0.05111721597469035, 0.07667582396203552, 0.28114468786079694, 0.038920540166086676, 0.038920540166086676, 0.038920540166086676, 0.23352324099652005, 0.038920540166086676, 0.5838081024913002, 0.9523495886731568, 0.18309600787387345, 0.7323840314954938, 0.042128634955427575, 0.12638590486628273, 0.08425726991085515, 0.014042878318475858, 0.5476722544205584, 0.014042878318475858, 0.014042878318475858, 0.15447166150323444, 0.762107618064478, 0.7669271709853475, 0.24623413837196934, 0.21718404339550104, 0.09960032563360557, 0.10375033920167248, 0.06778355494509268, 0.040116797824646694, 0.07470024422520419, 0.05810018995293659, 0.05256683852884739, 0.038733459968624394, 0.925962886525107, 0.2804780865075441, 0.22478031046349276, 0.21284507273976747, 0.0556977760440513, 0.047740950894901116, 0.04177333203303848, 0.02188126916016301, 0.04575174460761357, 0.03779491945846338, 0.031827300596600744, 0.8528667299299125, 0.21465388771280947, 0.13311869005445548, 0.18969413332759907, 0.1048309684178837, 0.11148690292060646, 0.04659154151905942, 0.08652714853539606, 0.04326357426769803, 0.048255525144740116, 0.021631787133849015, 0.3106496924823221, 0.1532258618324967, 0.14902789301516803, 0.0923553139812309, 0.052474610216608465, 0.06506851666859449, 0.052474610216608465, 0.0545735946252728, 0.0272867973126364, 0.04197968817328677, 0.8253143465631015, 0.8073148952256346, 0.18389723315945702, 0.7355889326378281, 0.21681101862953714, 0.03407030292749869, 0.33450842874271447, 0.15486501330681224, 0.046459503992043676, 0.10530820904863233, 0.021681101862953713, 0.027875702395226205, 0.04955680425817992, 0.01238920106454498, 0.1954417520676143, 0.7166197575812524, 0.0983399801684832, 0.7867198413478655, 0.8775692186601969, 0.9288941845988808, 0.7262993749753565, 0.823462900414703, 0.2420290050383811, 0.11711080888953924, 0.10774194417837611, 0.1530247902823313, 0.09681160201535244, 0.08119682749674721, 0.07026648533372355, 0.0468443235558157, 0.03903693629651308, 0.0468443235558157, 0.2746247964271846, 0.1039939486470589, 0.13529309823986302, 0.10500359863392354, 0.07875269897544265, 0.10601324862078819, 0.08682989887035986, 0.03634739952712738, 0.03634739952712738, 0.037357049513992026, 0.19698358693416682, 0.17822324532138903, 0.1860400543267131, 0.1469560093000927, 0.03752068322555559, 0.06566119564472228, 0.07504136645111117, 0.03752068322555559, 0.04377413042981485, 0.03126723602129632, 0.17179677230662407, 0.6871870892264963, 0.7375193711060997, 0.3160353048877283, 0.12098226515233348, 0.10616811023572123, 0.09135395531910896, 0.037035387291530664, 0.08888492949967358, 0.0641946713053198, 0.06913272294419057, 0.03950441311096604, 0.06666369712475519, 0.24406391096577917, 0.08320360601106108, 0.12757886255029366, 0.061015977741444793, 0.038828349471828505, 0.16640721202212216, 0.04992216360663665, 0.14421958375250588, 0.04437525653923258, 0.03328144240442443, 0.20591346827053458, 0.14975524965129786, 0.08236538730821383, 0.07487762482564893, 0.08610926854949627, 0.14226748716873297, 0.05990209986051915, 0.018719406206412232, 0.10108479351462606, 0.08236538730821383, 0.7800509866454414, 0.19501274666136034, 0.8748187012333495, 0.0282199581043016, 0.0141099790521508, 0.0564399162086032, 0.0141099790521508, 0.0141099790521508, 0.8394235854728327, 0.07631123504298479, 0.23227741503050087, 0.1478129004739551, 0.021116128639136443, 0.10558064319568221, 0.042232257278272886, 0.021116128639136443, 0.042232257278272886, 0.042232257278272886, 0.2956258009479102, 0.042232257278272886, 0.8363599668671826, 0.2042685886369089, 0.1728426519235383, 0.15398708989551593, 0.1414167152101677, 0.07070835760508384, 0.09270651330444327, 0.050281498741392955, 0.03613982722037619, 0.04085371772738178, 0.034568530384707655, 0.12344635057652242, 0.17831139527719905, 0.14402074233927614, 0.05143597940688434, 0.1268754158703147, 0.14744980763306845, 0.0994428935199764, 0.05486504470067663, 0.03771971823171518, 0.030861587644130606, 0.1956913370841208, 0.23724223742389985, 0.10320707503751576, 0.12867375589092875, 0.08042109743183046, 0.0522737133306898, 0.049593010082962116, 0.041550900339779075, 0.06165617469773669, 0.049593010082962116, 0.8193977230263175, 0.23485835706988473, 0.16498314339620002, 0.11257673314093648, 0.0951079297225153, 0.09898988603772, 0.07958010446169647, 0.09898988603772, 0.036878584994444706, 0.05240641025526353, 0.029114672364035296, 0.8503293336532985, 0.7910873228938606, 0.280034496546964, 0.1680206979281784, 0.0840103489640892, 0.1380170018695751, 0.052006406501579026, 0.05400665290548591, 0.07200887054064788, 0.04400542088595148, 0.06800837773283411, 0.040004928078137714, 0.7133726120183915, 0.20102563926831532, 0.14138066937551846, 0.10603550203163885, 0.1745167637604056, 0.07731755356473666, 0.03755424030287209, 0.06848126172876676, 0.04639053213884199, 0.053017751015819424, 0.09719921019566893, 0.2620393403474313, 0.023821758213402846, 0.09528703285361138, 0.023821758213402846, 0.47643516426805693, 0.09528703285361138, 0.06661761144834813, 0.5995585030351331, 0.2664704457933925, 0.7992656046030404, 0.8104201706507815, 0.8327056686162331, 0.7543302459143668, 0.8641508339928602, 0.05761005559952401, 0.05761005559952401, 0.12389277622966981, 0.7433566573780188, 0.8361222760634621, 0.1738646418673761, 0.04172751404817027, 0.013909171349390088, 0.6885039817948094, 0.020863757024085133, 0.03477292837347522, 0.013909171349390088, 0.006954585674695044, 0.25063877914810423, 0.6265969478702605, 0.28366739110610195, 0.07091684777652549, 0.4964179344356784, 0.07091684777652549, 0.07821313987740987, 0.026071046625803288, 0.13035523312901645, 0.026071046625803288, 0.026071046625803288, 0.6257051190192789, 0.052142093251606576, 0.026071046625803288, 0.3168824609892054, 0.6337649219784108, 0.8170203457709951, 0.20987868008353697, 0.17832829026705757, 0.09739468160739298, 0.09327941337046088, 0.09053590121250614, 0.1042534620022798, 0.06995956002784566, 0.035665658053411514, 0.07270307218580038, 0.04938321884318517, 0.16713276001398208, 0.6685310400559283, 0.24172501404572563, 0.14676161567061913, 0.10791295269898467, 0.11870424796888313, 0.03884866297163448, 0.09064688026714712, 0.056114735403472026, 0.12086250702286282, 0.03453214486367509, 0.04532344013357356, 0.7063164603373122, 0.06421058730339202, 0.19263176191017606, 0.8499013156917036, 0.8475192998066398, 0.24847581803871494, 0.14825027798948537, 0.10753365234448588, 0.13676610152551116, 0.03967260960282003, 0.06681702669948637, 0.04176064168717898, 0.07099309086820427, 0.1190178288084601, 0.02088032084358949, 0.7848772098384331, 0.07106404255012541, 0.07106404255012541, 0.1865431116940792, 0.35532021275062703, 0.06218103723135973, 0.07106404255012541, 0.08883005318765676, 0.017766010637531353, 0.04441502659382838, 0.035532021275062706, 0.8156148092410902, 0.24359502549042444, 0.15626850691838548, 0.1179674022815263, 0.14707624180553927, 0.05362154649160286, 0.13481988832174435, 0.03217292789496172, 0.04289723719328229, 0.03217292789496172, 0.038301104636859186, 0.8153750249606375, 0.8234704494538273, 0.8904169542783705, 0.08257162975374362, 0.24771488926123084, 0.027523876584581206, 0.05504775316916241, 0.41285814876871807, 0.027523876584581206, 0.08257162975374362, 0.7575447728878426, 0.830028603732108, 0.02853463968409187, 0.05706927936818374, 0.22827711747273496, 0.07133659921022967, 0.02853463968409187, 0.02853463968409187, 0.45655423494546993, 0.0856039190522756, 0.02853463968409187, 0.8471212691869442, 0.8396117532045207, 0.2682191476182965, 0.16065209362554217, 0.13410957380914826, 0.12433075071889785, 0.0656578121773955, 0.07962755944918178, 0.047497140724073336, 0.03492436817946569, 0.026542519816393925, 0.05867293854150236, 0.18787857320207654, 0.06763628635274756, 0.022545428784249186, 0.04509085756849837, 0.04509085756849837, 0.120242286849329, 0.3757571464041531, 0.04509085756849837, 0.04509085756849837, 0.052606000496581436, 0.8022501966400463, 0.0668541830533372, 0.0668541830533372, 0.7235109098478096, 0.11996083246786368, 0.6997715227292048, 0.05998041623393184, 0.01999347207797728, 0.01999347207797728, 0.01999347207797728, 0.07997388831190912, 0.8651479102992439, 0.7915333463459682, 0.11307619233513831, 0.8344397177920617, 0.06193013532527267, 0.030965067662636334, 0.6193013532527267, 0.030965067662636334, 0.15482533831318168, 0.06193013532527267, 0.614255702700012, 0.2632524440142908, 0.04387540733571514, 0.04387540733571514, 0.2841066040316434, 0.1691425363537226, 0.1347854586568727, 0.07532128572001709, 0.044928486218957564, 0.09249982456844204, 0.077964137850544, 0.0343570776968499, 0.05285704261053831, 0.0343570776968499, 0.13362660042978827, 0.23607366075929262, 0.22271100071631378, 0.07126752022922041, 0.04454220014326276, 0.11580972037248317, 0.07572174024354669, 0.028952430093120794, 0.035633760114610204, 0.035633760114610204, 0.10076525171060828, 0.705356761974258, 0.11365548088402656, 0.6819328853041594, 0.762762939268921, 0.7596699120678159, 0.17312152477449533, 0.057707174924831774, 0.14426793731207943, 0.028853587462415887, 0.028853587462415887, 0.4328038119362383, 0.14426793731207943, 0.026514874170628564, 0.6628718542657142, 0.026514874170628564, 0.0795446225118857, 0.18560411919439995, 0.16922691578772453, 0.31324982284110714, 0.11881889831904063, 0.09001431690836412, 0.04680744479234934, 0.09001431690836412, 0.032405154087011084, 0.036005726763345645, 0.025204008734341952, 0.07561202620302586, 0.842798898454477, 0.25159466855586887, 0.10593459728668163, 0.09600322879105523, 0.14566007126918723, 0.056277754808549615, 0.06951957946938482, 0.06620912330417601, 0.06951957946938482, 0.10924505345189044, 0.02979410548687921, 0.8319508183867795, 0.42355879717597245, 0.5445755963691075, 0.16087243927104794, 0.11739340163022417, 0.18406125934615394, 0.17971335558207158, 0.07826226775348279, 0.06087065269715328, 0.06521855646123566, 0.04202973638612964, 0.0681171589706239, 0.04347903764082377, 0.14849683810157557, 0.21086551010423732, 0.1678014270547804, 0.18859098438900096, 0.08464319771789808, 0.049003956573519934, 0.05197389333555145, 0.035639241144378137, 0.03266930438234662, 0.02821439923929936, 0.5524213535406681, 0.2256113936654446, 0.0899175844318801, 0.12261488786165467, 0.12098002269016594, 0.09972677546081248, 0.062124876516571705, 0.07029920237401535, 0.08664785408890263, 0.04741108997317314, 0.07520379788848154, 0.7634286827522606, 0.28818173697464927, 0.17541497033239523, 0.08770748516619761, 0.18794461107042346, 0.04510670665690163, 0.047612634804507274, 0.04510670665690163, 0.042600778509295986, 0.032577065918873396, 0.047612634804507274, 0.5591736386495525, 0.8386412659690693, 0.17447988613091753, 0.191210834116074, 0.10038568791093885, 0.21511218838058327, 0.07409419821997867, 0.04302243767611665, 0.07887446907288052, 0.06453365651417498, 0.03585203139676388, 0.0191210834116074, 0.768184157753967, 0.2104403168205957, 0.14496999603196592, 0.1402935445470638, 0.11924951286500422, 0.08300701385701274, 0.05962475643250211, 0.10288193266784679, 0.05611741781882552, 0.04208806336411914, 0.040918950492893603, 0.8522904336655605, 0.8297102187471828, 0.06929475966142773, 0.13858951932285546, 0.13858951932285546, 0.034647379830713865, 0.5543580772914218, 0.034647379830713865, 0.034647379830713865, 0.11813251941505026, 0.23626503883010053, 0.5906625970752514, 0.5294936951892635, 0.04604293001645769, 0.17266098756171636, 0.06906439502468655, 0.011510732504114423, 0.09208586003291538, 0.023021465008228846, 0.03453219751234327, 0.011510732504114423, 0.13615616162336283, 0.5105856060876106, 0.23827328284088495, 0.10211712121752212, 0.8503613295745555, 0.247694036878633, 0.14837710421715214, 0.11846236546369404, 0.10290670131189583, 0.07179537300829941, 0.0909408058105126, 0.0610260670570545, 0.08256467895954434, 0.03350450740387306, 0.04307722380497965, 0.9467786312247941, 0.8980223523065123, 0.1944951687954579, 0.0729356882982967, 0.08914361903125154, 0.13776741123011602, 0.09724758439772895, 0.08914361903125154, 0.23501499562784495, 0.008103965366477412, 0.03241586146590965, 0.040519826832387064, 0.10780095925698487, 0.10780095925698487, 0.10780095925698487, 0.05390047962849243, 0.05390047962849243, 0.05390047962849243, 0.5390047962849244, 0.3631393986630588, 0.22981285615874736, 0.04210311868557203, 0.06666327125215572, 0.04385741529747087, 0.07894334753544756, 0.028068745790381357, 0.07017186447595339, 0.02631444917848252, 0.05087460174506621, 0.12664434874195532, 0.10638125294324248, 0.33434108067876206, 0.0759866092451732, 0.07092083529549498, 0.13677589664131176, 0.03039464369806928, 0.03546041764774749, 0.0405261915974257, 0.03546041764774749, 0.8397225774731153, 0.8172608622840976, 0.19764790542879745, 0.17949656717513238, 0.15932841355994898, 0.10084076807591706, 0.05647083012251356, 0.07058853765314195, 0.07058853765314195, 0.02823541506125678, 0.08470624518377033, 0.05243719939947688, 0.8137605491208366, 0.17478321362542798, 0.09776010253625633, 0.19848263242209618, 0.1259031623572998, 0.11257223928417395, 0.06961704271521284, 0.06813582904042108, 0.042955196568961115, 0.042955196568961115, 0.06665461536562932, 0.17245254874068672, 0.16747795598855153, 0.16581975840450647, 0.15918696806832622, 0.06301150819371246, 0.08290987920225323, 0.07959348403416311, 0.038138544433036485, 0.019898371008540777, 0.051404125105397006, 0.9348580323251251, 0.9417421416286325, 0.05231900786825736, 0.9785148176256633, 0.8915992434479838, 0.06686994325859878, 0.022289981086199593, 0.7953675058185788, 0.11362392940265412, 0.20777878984523726, 0.19079058690191597, 0.11761063576145506, 0.12937169933760057, 0.06795281177328515, 0.06925959661507909, 0.07448673598225487, 0.03789676041202441, 0.045737469462788075, 0.05880531788072753, 0.7701163702240406, 0.16502493647658012, 0.9151180238615441, 0.02033595608581209, 0.04067191217162418, 0.02033595608581209, 0.8872674027916242, 0.24508502605805688, 0.5391870573277251, 0.03267800347440759, 0.03267800347440759, 0.03267800347440759, 0.016339001737203793, 0.016339001737203793, 0.016339001737203793, 0.08169500868601896, 0.8307264216676338, 0.7101522097438963, 0.04696229998816937, 0.7983590997988794, 0.04696229998816937, 0.04696229998816937, 0.5902701804096552, 0.070270259572578, 0.0843243114870936, 0.070270259572578, 0.0140540519145156, 0.0140540519145156, 0.0140540519145156, 0.0281081038290312, 0.0421621557435468, 0.0421621557435468, 0.1539777661436405, 0.08711899926548082, 0.0830669527880166, 0.22286255626053234, 0.07293683659435603, 0.038494441535910126, 0.253252904841514, 0.02026023238732112, 0.05267660420703491, 0.014182162671124784, 0.8322777420773287, 0.7726221938218795, 0.1287703656369799, 0.1287703656369799, 0.23083808333237846, 0.6925142499971354, 0.8450824822030395, 0.816726412744016, 0.2617596899883853, 0.1601555997955252, 0.12399143209976146, 0.13776825788862385, 0.09643778052203669, 0.06716202572070412, 0.06543992249709632, 0.029275754801332567, 0.030997858024940365, 0.02755365157772477, 0.7799456667600041, 0.8885103908882334, 0.159970894493879, 0.1399745326821441, 0.10248135428514123, 0.1724686206262133, 0.08748408292634008, 0.04374204146317004, 0.18746589198501443, 0.021246134424968303, 0.044991814076403465, 0.03999272362346975, 0.044832499189994886, 0.13449749756998466, 0.762152486229913, 0.12441339715686107, 0.580595853398685, 0.06220669857843054, 0.1036778309640509, 0.020735566192810178, 0.020735566192810178, 0.06220669857843054, 0.020735566192810178, 0.11249597831854191, 0.32811327009574726, 0.04687332429939246, 0.3656119295352612, 0.07499731887902794, 0.018749329719756985, 0.018749329719756985, 0.009374664859878493, 0.009374664859878493, 0.009374664859878493, 0.454061171152126, 0.10720888763314086, 0.0819832670135783, 0.031532025774453194, 0.025225620619562558, 0.10090248247825023, 0.050451241239125116, 0.0819832670135783, 0.025225620619562558, 0.03783843092934384, 0.12293864494277515, 0.737631869656651, 0.7018030672509571, 0.10205486370048218, 0.8164389096038575, 0.6131098963159439, 0.048230341074434045, 0.024115170537217023, 0.09646068214886809, 0.48230341074434047, 0.28938204644660426, 0.024115170537217023, 0.012057585268608511, 0.06319461037898222, 0.03159730518949111, 0.03159730518949111, 0.7267380193582955, 0.12638922075796444, 0.7006221368581531, 0.06369292153255937, 0.031846460766279686, 0.06369292153255937, 0.031846460766279686, 0.031846460766279686, 0.031846460766279686, 0.031846460766279686, 0.15715983699984631, 0.14249158554652733, 0.12782333409320834, 0.15506437250651503, 0.1047732246665642, 0.0796276507465888, 0.08591404422658265, 0.031431967399969264, 0.04610021885328825, 0.06915032827993238, 0.7058418524246036, 0.9354554601105756, 0.2079140177100607, 0.15593551328254554, 0.21263933629438028, 0.08033041593343256, 0.03071457079807715, 0.05906648230399452, 0.05197850442751518, 0.0874183938099119, 0.042527867258876056, 0.07324243805695321, 0.9141649646669648, 0.8721665404706024, 0.8644455859277077, 0.09688345709744978, 0.04844172854872489, 0.04844172854872489, 0.7750676567795982, 0.14395057544739986, 0.0822574716842285, 0.020564367921057126, 0.1508053647544189, 0.013709578614038083, 0.05483831445615233, 0.46612567287729484, 0.013709578614038083, 0.04798352514913329, 0.013709578614038083, 0.16689903594064645, 0.05563301198021548, 0.02781650599010774, 0.1390825299505387, 0.02781650599010774, 0.5563301198021549, 0.90453232408778, 0.05653327025548625, 0.08112233047952641, 0.16224466095905282, 0.040561165239763206, 0.6084174785964481, 0.040561165239763206, 0.040561165239763206, 0.0461708807261558, 0.0461708807261558, 0.2770252843569348, 0.1846835229046232, 0.461708807261558, 0.12910020458318738, 0.7746012274991243, 0.08614166422608846, 0.7752749780347961, 0.7342524615599615, 0.9352817308609644, 0.7133234953619247, 0.9162699300643611, 0.19194181947963798, 0.6717963681787329, 0.09597090973981899, 0.05844083730818169, 0.05844083730818169, 0.759730885006362, 0.09933867946423325, 0.794709435713866, 0.7216440127080844, 0.036082200635404224, 0.10824660190621267, 0.036082200635404224, 0.036082200635404224, 0.036082200635404224, 0.055772166745338664, 0.6134938341987253, 0.22308866698135466, 0.21830639337688068, 0.17370616247192658, 0.07981093951412842, 0.13849545386275228, 0.05633713377467889, 0.07981093951412842, 0.0657266560704587, 0.11032688697541282, 0.049294992052844024, 0.028168566887339444, 0.20479756291552476, 0.1631980579483088, 0.1247985149016479, 0.1119986672194276, 0.060799276490546415, 0.07039916225221164, 0.14399828642497833, 0.04159950496721597, 0.04479946688777104, 0.03519958112610582, 0.09390639389647021, 0.046953196948235104, 0.046953196948235104, 0.09390639389647021, 0.6573447572752915, 0.0736120516487474, 0.1472241032974948, 0.1472241032974948, 0.5888964131899792, 0.7843060904497595, 0.7999382375714131, 0.2987774195608601, 0.12090063024090618, 0.0972763691593498, 0.0903280570765391, 0.06114514632873416, 0.1042246812421605, 0.08754873224341482, 0.02362426108155638, 0.04585885974655062, 0.07087278324466914, 0.8824819973917858, 0.15102348318100497, 0.16087284077976616, 0.28234825116448753, 0.09849357598761194, 0.059096145592567165, 0.06894550319132836, 0.03939743039504477, 0.04924678799380597, 0.055813026392980095, 0.03611431119545771, 0.2114738370592739, 0.1025711425257556, 0.24186528669653481, 0.13422890256456907, 0.13676152336767414, 0.041788243251233766, 0.03798931204657615, 0.035456691243471075, 0.026592518432603303, 0.03039144963726092, 0.06906119716038112, 0.10359179574057169, 0.05755099763365094, 0.03453059858019056, 0.1611427933742226, 0.03453059858019056, 0.4258773824890169, 0.0805713966871113, 0.011510199526730186, 0.03453059858019056, 0.22043430518657514, 0.10562477123523392, 0.1255250904534664, 0.1270558842394843, 0.10409397744921604, 0.10562477123523392, 0.07041651415682262, 0.04133143222248284, 0.058170163868679556, 0.03980063843646496, 0.8310428970012106, 0.12709681315326207, 0.6354840657663104, 0.0779509176497405, 0.0779509176497405, 0.623607341197924, 0.155901835299481, 0.12126330041977662, 0.7275798025186597, 0.8075383564158428, 0.8366128391123258, 0.08950782121982975, 0.08950782121982975, 0.716062569758638, 0.7641357843509142, 0.16243971252479272, 0.16674275126717134, 0.18825794497906442, 0.10219717013149211, 0.09896989107470815, 0.04410614710938081, 0.08283349579078834, 0.05163646490854338, 0.06131830207889527, 0.03980310836700219, 0.22298311032156268, 0.15726177254257578, 0.12674829428804615, 0.08919324412862507, 0.05398538460416781, 0.09623481603351652, 0.03755505015942109, 0.09388762539855271, 0.06102695650905926, 0.06337414714402308, 0.8168417700961038, 0.03308285504938322, 0.13233142019753288, 0.03308285504938322, 0.03308285504938322, 0.03308285504938322, 0.4962428257407483, 0.13233142019753288, 0.13233142019753288, 0.03308285504938322, 0.23284560594188008, 0.17061962504361902, 0.10237177502617141, 0.12846654120931314, 0.07226242943023865, 0.042153083834305875, 0.07226242943023865, 0.04817495295349243, 0.0562041117790745, 0.07627700884302968, 0.7729885788912962, 0.1756792224752946, 0.035135844495058924, 0.8881926854210201, 0.13628736802163713, 0.10221552601622785, 0.06814368401081856, 0.03407184200540928, 0.5110776300811393, 0.03407184200540928, 0.03407184200540928, 0.03407184200540928, 0.03407184200540928, 0.03407184200540928, 0.6858909865323941, 0.17147274663309853, 0.8528517384819452, 0.7728378463849689, 0.9653683719751001, 0.08265483040817417, 0.06199112280613064, 0.020663707602043543, 0.5303684951191177, 0.02755161013605806, 0.05510322027211612, 0.01377580506802903, 0.06199112280613064, 0.1377580506802903, 0.006887902534014515, 0.8648324968466681, 0.036348005396266966, 0.1090440161888009, 0.3271320485664027, 0.4725240701514706, 0.036348005396266966, 0.1403751160418361, 0.7018755802091806, 0.07018755802091806, 0.8215337550461117, 0.044304368325373066, 0.8639351823447748, 0.022152184162686533, 0.044304368325373066, 0.24500826818036164, 0.13744366263776384, 0.1643348140234133, 0.13744366263776384, 0.0567702084808155, 0.04780649135226569, 0.0537823027712989, 0.029879057095166053, 0.08664926557598156, 0.03884277422371587, 0.7694683053089144, 0.9546423373548504, 0.9741118946336861, 0.9377178331103266, 0.3586109711961452, 0.13475078917673336, 0.1956059842888065, 0.05868179528664195, 0.023907398079743014, 0.039121196857761296, 0.043467996508623666, 0.08258919336638496, 0.04564139633405485, 0.017387198603449467, 0.021073805104207925, 0.021073805104207925, 0.9272474245851487, 0.8512660864946062, 0.10972803022522486, 0.10972803022522486, 0.05486401511261243, 0.05486401511261243, 0.5486401511261243, 0.12474140172086816, 0.6237070086043408, 0.17773564097769756, 0.05078161170791359, 0.4231800975659466, 0.025390805853956797, 0.11849042731846504, 0.08463601951318932, 0.04231800975659466, 0.016927203902637866, 0.05924521365923252, 0.04902067040811088, 0.08578617321419404, 0.02451033520405544, 0.01225516760202772, 0.02451033520405544, 0.44118603367299797, 0.01225516760202772, 0.31863435765272075, 0.036765502806083164, 0.10316373252936593, 0.7221461277055615, 0.8165781502091941, 0.15273576446763756, 0.7636788223381878, 0.9411622419426453, 0.08849493389377411, 0.05752170703095317, 0.19911360126099173, 0.18141461448223692, 0.3584044822697851, 0.00884949338937741, 0.039822720252198344, 0.022123733473443527, 0.013274240084066115, 0.02654848016813223, 0.8113321427209017, 0.10141651784011271, 0.12838854043592038, 0.11851249886392651, 0.42466978759573665, 0.06913229100395714, 0.059256249431963254, 0.059256249431963254, 0.019752083143987752, 0.019752083143987752, 0.019752083143987752, 0.07900833257595101, 0.7674410350941888], \"Term\": [\"abeja\", \"abeja\", \"abeja\", \"abstracta\", \"aciago\", \"acosador\", \"action\", \"actriz\", \"actriz\", \"actriz\", \"actriz\", \"actriz\", \"actriz\", \"actriz\", \"actriz\", \"actriz\", \"actriz\", \"actualizacion\", \"actualizacion\", \"adivino\", \"adolescente\", \"adolescente\", \"adolescente\", \"adolescente\", \"adolescente\", \"adolescente\", \"adolescente\", \"adolescente\", \"adolescente\", \"adolescente\", \"affleck\", \"affleck\", \"agatha\", \"aguelo\", \"aitana\", \"aitana\", \"alarido\", \"aldabonazo\", \"alejandro\", \"alejandro\", \"alejandro\", \"alejandro\", \"alejandro\", \"alejandro\", \"alejandro\", \"alejandro\", \"alejandro\", \"alex_iglesia\", \"alex_iglesia\", \"alex_iglesia\", \"alex_iglesia\", \"alex_iglesia\", \"alex_iglesia\", \"alex_iglesia\", \"alex_iglesia\", \"alfie\", \"alia\", \"allen\", \"allen\", \"allen\", \"allen\", \"allen\", \"allen\", \"allen\", \"allen\", \"allen\", \"allen\", \"american_gangster\", \"american_gangster\", \"american_gangster\", \"american_gangster\", \"amigo\", \"amigo\", \"amigo\", \"amigo\", \"amigo\", \"amigo\", \"amigo\", \"amigo\", \"amigo\", \"amigo\", \"amor\", \"amor\", \"amor\", \"amor\", \"amor\", \"amor\", \"amor\", \"amor\", \"amor\", \"amor\", \"animacion\", \"animacion\", \"animacion\", \"animacion\", \"animacion\", \"animacion\", \"animacion\", \"animacion\", \"animacion\", \"animacion\", \"annie_hall\", \"annie_hall\", \"annie_hall\", \"annie_hall\", \"annie_hall\", \"apatow\", \"apatow\", \"apatow\", \"apocalipticas\", \"aprobacion\", \"ardilla\", \"ardilla\", \"ardilla\", \"ardilla\", \"ardilla\", \"ardilla\", \"argentino\", \"argentino\", \"argentino\", \"argentino\", \"argentino\", \"argentino\", \"argentino\", \"argentino\", \"argentino\", \"argentino\", \"argento\", \"argento\", \"argento\", \"argento\", \"argumento\", \"argumento\", \"argumento\", \"argumento\", \"argumento\", \"argumento\", \"argumento\", \"argumento\", \"argumento\", \"argumento\", \"ariel\", \"ariel\", \"asco\", \"asco\", \"asco\", \"asco\", \"asco\", \"asco\", \"asco\", \"asco\", \"asegurada\", \"asegurada\", \"asesinato\", \"asesinato\", \"asesinato\", \"asesinato\", \"asesinato\", \"asesinato\", \"asesinato\", \"asesinato\", \"asesinato\", \"asesinato\", \"asesino\", \"asesino\", \"asesino\", \"asesino\", \"asesino\", \"asesino\", \"asesino\", \"asesino\", \"asesino\", \"asesino\", \"aspecto\", \"aspecto\", \"aspecto\", \"aspecto\", \"aspecto\", \"aspecto\", \"aspecto\", \"aspecto\", \"aspecto\", \"aspecto\", \"auster\", \"australia\", \"australia\", \"automata\", \"autor\", \"autor\", \"autor\", \"autor\", \"autor\", \"autor\", \"autor\", \"autor\", \"autor\", \"autor\", \"aval\", \"aventura\", \"aventura\", \"aventura\", \"aventura\", \"aventura\", \"aventura\", \"aventura\", \"aventura\", \"aventura\", \"aventura\", \"averigua\", \"ayuntamiento\", \"barbero\", \"barbero\", \"barker\", \"barkin\", \"barkin\", \"batman\", \"batman\", \"batman\", \"batman\", \"batman\", \"batman\", \"batman\", \"batman\", \"batman\", \"batman\", \"beat\", \"beat\", \"begnini\", \"belen_rueda\", \"belen_rueda\", \"bellisimo\", \"ben_affleck\", \"ben_affleck\", \"ben_affleck\", \"ben_affleck\", \"ben_affleck\", \"ben_affleck\", \"ben_affleck\", \"bendito\", \"benito\", \"benito\", \"benito\", \"bennett\", \"bennett\", \"bennett\", \"bernard\", \"beth\", \"beth\", \"beyond\", \"bien\", \"bikini\", \"bikini\", \"bikini\", \"billar\", \"billar\", \"bird\", \"bird\", \"blade_runner\", \"blade_runner\", \"blade_runner\", \"blade_runner\", \"blade_runner\", \"blade_runner\", \"blade_runner\", \"blade_runner\", \"blade_runner\", \"blade_runner\", \"block\", \"bombero\", \"bombero\", \"bombero\", \"boris\", \"boris\", \"brick\", \"brick\", \"brick\", \"brick\", \"brick\", \"brick\", \"brick\", \"brook\", \"browning\", \"browning\", \"burrows\", \"burton\", \"burton\", \"burton\", \"burton\", \"burton\", \"burton\", \"burton\", \"burton\", \"busqueda\", \"busqueda\", \"busqueda\", \"busqueda\", \"busqueda\", \"busqueda\", \"busqueda\", \"busqueda\", \"busqueda\", \"busqueda\", \"bu\\u00f1uel\", \"bu\\u00f1uel\", \"bu\\u00f1uel\", \"bu\\u00f1uel\", \"bu\\u00f1uel\", \"bu\\u00f1uel\", \"bu\\u00f1uel\", \"bu\\u00f1uel\", \"bu\\u00f1uel\", \"caetano\", \"calmada\", \"camara\", \"camara\", \"camara\", \"camara\", \"camara\", \"camara\", \"camara\", \"camara\", \"camara\", \"camara\", \"cambio\", \"cambio\", \"cambio\", \"cambio\", \"cambio\", \"cambio\", \"cambio\", \"cambio\", \"cambio\", \"cambio\", \"camino\", \"camino\", \"camino\", \"camino\", \"camino\", \"camino\", \"camino\", \"camino\", \"camino\", \"camino\", \"camping\", \"cantado\", \"capote\", \"capote\", \"capote\", \"capote\", \"capote\", \"capote\", \"capote\", \"cara\", \"cara\", \"cara\", \"cara\", \"cara\", \"cara\", \"cara\", \"cara\", \"cara\", \"cara\", \"carpenter\", \"carpenter\", \"carpenter\", \"carpenter\", \"carpenter\", \"carpenter\", \"carpenter\", \"carradine\", \"casa\", \"casa\", \"casa\", \"casa\", \"casa\", \"casa\", \"casa\", \"casa\", \"casa\", \"casa\", \"cassel\", \"catherine\", \"catherine\", \"catherine\", \"catherine\", \"catherine\", \"catherine\", \"catherine\", \"catherine\", \"cebra\", \"celda\", \"celda\", \"celebraci\\u00f3n\", \"center\", \"certamen\", \"certamen\", \"certamen\", \"channel\", \"chanwook\", \"charles_bronson\", \"charles_bronson\", \"charlton_heston\", \"charlton_heston\", \"charlton_heston\", \"chef\", \"chef\", \"chef\", \"chef\", \"chica\", \"chica\", \"chica\", \"chica\", \"chica\", \"chica\", \"chica\", \"chica\", \"chica\", \"chica\", \"chofer\", \"chofer\", \"chofer\", \"chofer\", \"chofer\", \"christie\", \"christie\", \"christie\", \"christie\", \"chuleria\", \"chuleria\", \"chunga\", \"ciencia_ficcion\", \"ciencia_ficcion\", \"ciencia_ficcion\", \"ciencia_ficcion\", \"ciencia_ficcion\", \"ciencia_ficcion\", \"ciencia_ficcion\", \"ciencia_ficcion\", \"ciencia_ficcion\", \"ciencia_ficcion\", \"cineasta\", \"cineasta\", \"cineasta\", \"cineasta\", \"cineasta\", \"cineasta\", \"cineasta\", \"cineasta\", \"cineasta\", \"cineasta\", \"cinetico\", \"cinetico\", \"cipote\", \"ciudad\", \"ciudad\", \"ciudad\", \"ciudad\", \"ciudad\", \"ciudad\", \"ciudad\", \"ciudad\", \"ciudad\", \"ciudad\", \"clinton\", \"coburn\", \"coctail\", \"coctail\", \"code\", \"colmena\", \"colmena\", \"comedia\", \"comedia\", \"comedia\", \"comedia\", \"comedia\", \"comedia\", \"comedia\", \"comedia\", \"comedia\", \"comedia\", \"comisario\", \"compilacion\", \"concentracion\", \"concentracion\", \"concentracion\", \"concentracion\", \"concentracion\", \"concentracion\", \"concentracion\", \"concentracion\", \"contrapuesto\", \"contribuyente\", \"convalecencia\", \"convirtiendolo\", \"corazoncito\", \"cosa\", \"cosa\", \"cosa\", \"cosa\", \"cosa\", \"cosa\", \"cosa\", \"cosa\", \"cosa\", \"cosa\", \"crecidito\", \"crystal\", \"cuento\", \"cuento\", \"cuento\", \"cuento\", \"cuento\", \"cuento\", \"cuento\", \"cuento\", \"cuento\", \"cuento\", \"cuita\", \"cukor\", \"cukor\", \"cukor\", \"cuneta\", \"cuneta\", \"cu\\u00f1ada\", \"cu\\u00f1ada\", \"dakota\", \"dakota\", \"dakota\", \"daniels\", \"daniels\", \"danny\", \"danny\", \"danny\", \"danny\", \"danny\", \"danny\", \"danny\", \"danny\", \"danny\", \"danny\", \"darin\", \"david_cronenberg\", \"david_cronenberg\", \"death\", \"death\", \"deckard\", \"delpy\", \"dementor\", \"denzel_washington\", \"denzel_washington\", \"denzel_washington\", \"denzel_washington\", \"denzel_washington\", \"denzel_washington\", \"denzel_washington\", \"denzel_washington\", \"denzel_washington\", \"desastrado\", \"desmadejando\", \"destiempo\", \"diablillo\", \"dialogo\", \"dialogo\", \"dialogo\", \"dialogo\", \"dialogo\", \"dialogo\", \"dialogo\", \"dialogo\", \"dialogo\", \"dialogo\", \"direccion\", \"direccion\", \"direccion\", \"direccion\", \"direccion\", \"direccion\", \"direccion\", \"direccion\", \"direccion\", \"direccion\", \"discurso\", \"discurso\", \"discurso\", \"discurso\", \"discurso\", \"discurso\", \"discurso\", \"discurso\", \"discurso\", \"discurso\", \"disney\", \"disney\", \"disney\", \"disney\", \"disney\", \"disney\", \"disney\", \"disney\", \"disney\", \"disney\", \"doctor\", \"doctor\", \"doctor\", \"doctor\", \"doctor\", \"doctor\", \"doctor\", \"doctor\", \"doctor\", \"doctor\", \"dodgeball\", \"dominique\", \"dominique\", \"dominique\", \"donostiarra\", \"drama\", \"drama\", \"drama\", \"drama\", \"drama\", \"drama\", \"drama\", \"drama\", \"drama\", \"drama\", \"durango\", \"durango\", \"durango\", \"ecuaci\\u00f3n\", \"edicion_festival\", \"edicion_festival\", \"edicion_festival\", \"edicion_festival\", \"edicion_festival\", \"efectos_especial\", \"efectos_especial\", \"efectos_especial\", \"efectos_especial\", \"efectos_especial\", \"efectos_especial\", \"efectos_especial\", \"efectos_especial\", \"efectos_especial\", \"efectos_especial\", \"elemento\", \"elemento\", \"elemento\", \"elemento\", \"elemento\", \"elemento\", \"elemento\", \"elemento\", \"elemento\", \"elemento\", \"elena\", \"elena\", \"elephant\", \"elephant\", \"elephant\", \"elephant\", \"eli_roth\", \"eli_roth\", \"eli_roth\", \"eli_roth\", \"eli_roth\", \"eli_roth\", \"eli_roth\", \"elijah_wood\", \"elijah_wood\", \"elijah_wood\", \"elijah_wood\", \"elijah_wood\", \"elijah_wood\", \"elijah_wood\", \"elijah_wood\", \"elijah_wood\", \"elmaleh\", \"elmaleh\", \"emmanuelle\", \"emule\", \"encomienda\", \"encomienda\", \"enervante\", \"enervante\", \"enfermera\", \"enfermera\", \"enfermera\", \"enternecedor\", \"enternecedor\", \"entrega\", \"entrega\", \"entrega\", \"entrega\", \"entrega\", \"entrega\", \"entrega\", \"entrega\", \"entrega\", \"entrega\", \"envio\", \"epoca\", \"epoca\", \"epoca\", \"epoca\", \"epoca\", \"epoca\", \"epoca\", \"epoca\", \"epoca\", \"epoca\", \"ergo\", \"escoba\", \"escoba\", \"escondrijo\", \"eslovaquia\", \"eslovaquia\", \"eslovaquia\", \"espa\\u00f1ol\", \"espa\\u00f1ol\", \"espa\\u00f1ol\", \"espa\\u00f1ol\", \"espa\\u00f1ol\", \"espa\\u00f1ol\", \"espa\\u00f1ol\", \"espa\\u00f1ol\", \"espa\\u00f1ol\", \"espa\\u00f1ol\", \"estaci\\u00f3n\", \"estaci\\u00f3n\", \"estilo\", \"estilo\", \"estilo\", \"estilo\", \"estilo\", \"estilo\", \"estilo\", \"estilo\", \"estilo\", \"estilo\", \"estrella\", \"estrella\", \"estrella\", \"estrella\", \"estrella\", \"estrella\", \"estrella\", \"estrella\", \"estrella\", \"estrella\", \"estreno\", \"estreno\", \"estreno\", \"estreno\", \"estreno\", \"estreno\", \"estreno\", \"estreno\", \"estreno\", \"estreno\", \"estructuracion\", \"etura\", \"evaluacion\", \"excalibur\", \"excalibur\", \"excalibur\", \"excalibur\", \"exito\", \"exito\", \"exito\", \"exito\", \"exito\", \"exito\", \"exito\", \"exito\", \"exito\", \"exito\", \"extra\\u00f1eza\", \"facturada\", \"facturada\", \"fahrenheit\", \"familia\", \"familia\", \"familia\", \"familia\", \"familia\", \"familia\", \"familia\", \"familia\", \"familia\", \"familia\", \"ferpecto\", \"ferpecto\", \"ferpecto\", \"festividad\", \"fiereza\", \"filial\", \"filme\", \"filme\", \"filme\", \"filme\", \"filme\", \"filme\", \"filme\", \"filme\", \"filme\", \"filme\", \"fincher\", \"fincher\", \"fincher\", \"fincher\", \"fincher\", \"fincher\", \"fincher\", \"fincher\", \"fincher\", \"fincher\", \"firth\", \"firth\", \"firth\", \"fondo\", \"fondo\", \"fondo\", \"fondo\", \"fondo\", \"fondo\", \"fondo\", \"fondo\", \"fondo\", \"fondo\", \"forastero\", \"fosse\", \"fosse\", \"fosse\", \"fosse\", \"fotografia\", \"fotografia\", \"fotografia\", \"fotografia\", \"fotografia\", \"fotografia\", \"fotografia\", \"fotografia\", \"fotografia\", \"fotografia\", \"frase\", \"frase\", \"frase\", \"frase\", \"frase\", \"frase\", \"frase\", \"frase\", \"frase\", \"frase\", \"fraternal\", \"french\", \"frikismo\", \"frodo\", \"frodo\", \"frodo\", \"frost\", \"fuhrer\", \"fulano\", \"fulano\", \"fulano\", \"gafado\", \"galleta\", \"galleta\", \"garci\", \"garci\", \"garci\", \"garci\", \"garci\", \"garci\", \"garfio\", \"garfio\", \"garrido\", \"garrido\", \"gate\", \"gate\", \"gate\", \"gazpacho\", \"gazpacho\", \"geek\", \"gemelo\", \"gemelo\", \"gemelo\", \"gente\", \"gente\", \"gente\", \"gente\", \"gente\", \"gente\", \"gente\", \"gente\", \"gente\", \"gente\", \"geometria\", \"gerry\", \"gestacion\", \"gestacion\", \"ghibli\", \"gilbert\", \"gilliam\", \"gilliam\", \"gilliam\", \"goldberg\", \"goldberg\", \"goliat\", \"goliat\", \"gracias\", \"gracias\", \"gracias\", \"gracias\", \"gracias\", \"gracias\", \"gracias\", \"gracias\", \"gracias\", \"gracias\", \"gracita\", \"grandinetti\", \"greg\", \"greg\", \"greg\", \"grial\", \"grial\", \"grima\", \"grima\", \"groucho\", \"groucho\", \"grupo\", \"grupo\", \"grupo\", \"grupo\", \"grupo\", \"grupo\", \"grupo\", \"grupo\", \"grupo\", \"grupo\", \"guardias\", \"guardi\\u00e1n\", \"guardi\\u00e1n\", \"guardi\\u00e1n\", \"guardi\\u00e1n\", \"guerra\", \"guerra\", \"guerra\", \"guerra\", \"guerra\", \"guerra\", \"guerra\", \"guerra\", \"guerra\", \"guerra\", \"guionista\", \"guionista\", \"guionista\", \"guionista\", \"guionista\", \"guionista\", \"guionista\", \"guionista\", \"guionista\", \"guionista\", \"guionistica\", \"gusto\", \"gusto\", \"gusto\", \"gusto\", \"gusto\", \"gusto\", \"gusto\", \"gusto\", \"gusto\", \"gusto\", \"gwyneth\", \"gwyneth\", \"haggis\", \"haggis\", \"haggis\", \"haggis\", \"haggis\", \"hagiografia\", \"hagiografia\", \"halcon_malt\", \"halcon_malt\", \"halcon_malt\", \"halloween\", \"halloween\", \"halloween\", \"halloween\", \"halloween\", \"halloween\", \"halloween\", \"halloween\", \"hank\", \"hank\", \"hank\", \"harold\", \"harold\", \"harold\", \"harold\", \"harold\", \"harold\", \"harry\", \"harry\", \"harry\", \"harry\", \"harry\", \"harry\", \"harry\", \"harry\", \"harry\", \"harry\", \"hawke\", \"hawke\", \"hawke\", \"heartbreak\", \"heche\", \"helena_bonham_carter\", \"helena_bonham_carter\", \"helena_bonham_carter\", \"hercul\", \"hercul\", \"hercul\", \"hercul\", \"hermano\", \"hermano\", \"hermano\", \"hermano\", \"hermano\", \"hermano\", \"hermano\", \"hermano\", \"hermano\", \"hermano\", \"heroe\", \"heroe\", \"heroe\", \"heroe\", \"heroe\", \"heroe\", \"heroe\", \"heroe\", \"heroe\", \"heroe\", \"herrmann\", \"herrmann\", \"hete\", \"hijo\", \"hijo\", \"hijo\", \"hijo\", \"hijo\", \"hijo\", \"hijo\", \"hijo\", \"hijo\", \"hijo\", \"hilary\", \"hirsch\", \"hirsch\", \"hirsch\", \"hirsch\", \"hirschbiegel\", \"hirschbiegel\", \"hirschbiegel\", \"hirschbiegel\", \"homenaje\", \"homenaje\", \"homenaje\", \"homenaje\", \"homenaje\", \"homenaje\", \"homenaje\", \"homenaje\", \"homenaje\", \"homenaje\", \"hong_kong\", \"hong_kong\", \"hong_kong\", \"hong_kong\", \"hong_kong\", \"hong_kong\", \"hong_kong\", \"hong_kong\", \"hora\", \"hora\", \"hora\", \"hora\", \"hora\", \"hora\", \"hora\", \"hora\", \"hora\", \"hora\", \"hormiga\", \"hormiga\", \"hormiga\", \"hormiga\", \"hormiga\", \"hormiga\", \"hormiga\", \"hormiguero\", \"hostel\", \"hostel\", \"hostel\", \"hostel\", \"hostel\", \"hostel\", \"hostel\", \"hostel\", \"humanizacion\", \"humanos\", \"humanos\", \"humanos\", \"humanos\", \"humanos\", \"humanos\", \"humanos\", \"humanos\", \"humanos\", \"humanos\", \"humor\", \"humor\", \"humor\", \"humor\", \"humor\", \"humor\", \"humor\", \"humor\", \"humor\", \"humor\", \"huston\", \"huston\", \"huston\", \"huston\", \"huston\", \"idea\", \"idea\", \"idea\", \"idea\", \"idea\", \"idea\", \"idea\", \"idea\", \"idea\", \"idea\", \"iglesia\", \"iglesia\", \"iglesia\", \"iglesia\", \"iglesia\", \"iglesia\", \"iglesia\", \"iglesia\", \"iglesia\", \"iglesia\", \"imagen\", \"imagen\", \"imagen\", \"imagen\", \"imagen\", \"imagen\", \"imagen\", \"imagen\", \"imagen\", \"imagen\", \"imaginativa\", \"imaginativa\", \"imaginativa\", \"imaginativa\", \"imaginativa\", \"imaginativa\", \"incompletas\", \"incontinencia\", \"incontinencia\", \"infectada\", \"infectada\", \"infectado\", \"infectado\", \"infectado\", \"infectado\", \"injustificabl\", \"instituto\", \"instituto\", \"instituto\", \"instituto\", \"instituto\", \"instituto\", \"instituto\", \"instituto\", \"instituto\", \"instituto\", \"interpretacion\", \"interpretacion\", \"interpretacion\", \"interpretacion\", \"interpretacion\", \"interpretacion\", \"interpretacion\", \"interpretacion\", \"interpretacion\", \"interpretacion\", \"interpretativo\", \"interpretativo\", \"interpretativo\", \"interpretativo\", \"interpretativo\", \"interpretativo\", \"interpretativo\", \"interpretativo\", \"interpretativo\", \"interpretativo\", \"interrelacion\", \"interrumpida\", \"investigacion\", \"investigacion\", \"investigacion\", \"investigacion\", \"investigacion\", \"investigacion\", \"investigacion\", \"investigacion\", \"investigacion\", \"investigacion\", \"italiano\", \"italiano\", \"italiano\", \"italiano\", \"italiano\", \"italiano\", \"italiano\", \"italiano\", \"italiano\", \"italiano\", \"jamona\", \"jaume_balaguero\", \"jaume_balaguero\", \"jaume_balaguero\", \"jessica_alba\", \"jessica_alba\", \"jessica_alba\", \"jimmy\", \"jimmy\", \"jimmy\", \"jimmy\", \"jimmy\", \"jimmy\", \"jimmy\", \"jimmy\", \"jimmy\", \"jimmy\", \"joe_wright\", \"joe_wright\", \"joe_wright\", \"joe_wright\", \"john_cusack\", \"john_cusack\", \"john_cusack\", \"john_hurt\", \"john_hurt\", \"john_hurt\", \"john_hurt\", \"john_hurt\", \"john_hurt\", \"john_hurt\", \"john_hurt\", \"john_rambo\", \"john_rambo\", \"john_rambo\", \"john_rambo\", \"john_rambo\", \"johnson\", \"johnson\", \"johnson\", \"johnson\", \"johnson\", \"johnson\", \"johnson\", \"johnson\", \"johnson\", \"johnson\", \"joven\", \"joven\", \"joven\", \"joven\", \"joven\", \"joven\", \"joven\", \"joven\", \"joven\", \"joven\", \"juan_carlos_fresnadillo\", \"juan_carlos_fresnadillo\", \"juan_carlos_fresnadillo\", \"judia\", \"juego\", \"juego\", \"juego\", \"juego\", \"juego\", \"juego\", \"juego\", \"juego\", \"juego\", \"juego\", \"karl\", \"kasdan\", \"kasdan\", \"kasdan\", \"kaye\", \"keys\", \"kingpin\", \"kipling\", \"kipling\", \"ladron\", \"ladron\", \"ladron\", \"ladron\", \"ladron\", \"ladron\", \"ladron\", \"ladron\", \"ladron\", \"ladron\", \"ladr\\u00f3n\", \"ladr\\u00f3n\", \"ladr\\u00f3n\", \"ladr\\u00f3n\", \"ladr\\u00f3n\", \"ladr\\u00f3n\", \"ladr\\u00f3n\", \"ladr\\u00f3n\", \"ladr\\u00f3n\", \"laos\", \"laughton\", \"laura\", \"laura\", \"laura\", \"laura\", \"laura\", \"laura\", \"laura\", \"laura\", \"laura\", \"lauren\", \"lauren\", \"lauren\", \"lauren\", \"lauren\", \"lecho\", \"leonard\", \"leonard\", \"leonard\", \"leonard\", \"leonard\", \"leonard\", \"leonard\", \"leone\", \"leone\", \"leone\", \"leone\", \"leonor_watling\", \"leonor_watling\", \"leonor_watling\", \"leonor_watling\", \"leonor_watling\", \"leonor_watling\", \"leonor_watling\", \"leonor_watling\", \"leonor_watling\", \"leto\", \"leto\", \"leung\", \"leyenda\", \"leyenda\", \"leyenda\", \"leyenda\", \"leyenda\", \"leyenda\", \"leyenda\", \"leyenda\", \"leyenda\", \"leyenda\", \"libro\", \"libro\", \"libro\", \"libro\", \"libro\", \"libro\", \"libro\", \"libro\", \"libro\", \"libro\", \"lienzo\", \"liman\", \"linklater\", \"linklater\", \"linklater\", \"linklater\", \"lions\", \"little_miss\", \"little_miss\", \"little_miss\", \"llevandole\", \"looser\", \"lovett\", \"lucia_sexo\", \"lucia_sexo\", \"lucia_sexo\", \"lucia_sexo\", \"lucia_sexo\", \"lulu\", \"maciza\", \"madre\", \"madre\", \"madre\", \"madre\", \"madre\", \"madre\", \"madre\", \"madre\", \"madre\", \"madre\", \"maduracion\", \"mafia\", \"mafia\", \"mafia\", \"mafia\", \"mafia\", \"mafia\", \"mafia\", \"mafia\", \"mafia\", \"mafia\", \"magia\", \"magia\", \"magia\", \"magia\", \"magia\", \"magia\", \"magia\", \"magia\", \"magia\", \"magia\", \"malcom\", \"mancha\", \"mancha\", \"mano\", \"mano\", \"mano\", \"mano\", \"mano\", \"mano\", \"mano\", \"mano\", \"mano\", \"mano\", \"manostijeras\", \"marcello\", \"marcello\", \"marcello\", \"marcello\", \"margo\", \"margo\", \"mariano_ozor\", \"mariano_ozor\", \"marqu\", \"martha\", \"martha\", \"martha\", \"martha\", \"marvin\", \"massey\", \"massey\", \"matanza_texas\", \"matanza_texas\", \"matanza_texas\", \"matanza_texas\", \"matanza_texas\", \"matanza_texas\", \"matanza_texas\", \"matanza_texas\", \"matanza_texas\", \"match_point\", \"match_point\", \"match_point\", \"match_point\", \"match_point\", \"match_point\", \"match_point\", \"match_point\", \"match_point\", \"matematica\", \"matematica\", \"matematica\", \"matematica\", \"matematica\", \"matematica\", \"matematico\", \"mecha\", \"mecha\", \"medem\", \"medem\", \"medem\", \"medem\", \"medem\", \"medem\", \"medem\", \"medem\", \"mediapro\", \"merecera\", \"metraje\", \"metraje\", \"metraje\", \"metraje\", \"metraje\", \"metraje\", \"metraje\", \"metraje\", \"metraje\", \"metraje\", \"metralleta\", \"miedo\", \"miedo\", \"miedo\", \"miedo\", \"miedo\", \"miedo\", \"miedo\", \"miedo\", \"miedo\", \"miedo\", \"milland\", \"minuto\", \"minuto\", \"minuto\", \"minuto\", \"minuto\", \"minuto\", \"minuto\", \"minuto\", \"minuto\", \"minuto\", \"mirada\", \"mirada\", \"mirada\", \"mirada\", \"mirada\", \"mirada\", \"mirada\", \"mirada\", \"mirada\", \"mirada\", \"misionero\", \"moby\", \"modernizacion\", \"modernizacion\", \"monstruo\", \"monstruo\", \"monstruo\", \"monstruo\", \"monstruo\", \"monstruo\", \"monstruo\", \"monstruo\", \"monstruo\", \"monstruo\", \"mortadelo\", \"mortadelo\", \"mountain\", \"mountain\", \"muahahahaha\", \"muchachada\", \"muchedumbre\", \"muela\", \"muerte\", \"muerte\", \"muerte\", \"muerte\", \"muerte\", \"muerte\", \"muerte\", \"muerte\", \"muerte\", \"muerte\", \"mujer\", \"mujer\", \"mujer\", \"mujer\", \"mujer\", \"mujer\", \"mujer\", \"mujer\", \"mujer\", \"mujer\", \"musica\", \"musica\", \"musica\", \"musica\", \"musica\", \"musica\", \"musica\", \"musica\", \"musica\", \"musica\", \"nadia\", \"nadia\", \"nano\", \"narracion\", \"narracion\", \"narracion\", \"narracion\", \"narracion\", \"narracion\", \"narracion\", \"narracion\", \"narracion\", \"narracion\", \"naturaleza\", \"naturaleza\", \"naturaleza\", \"naturaleza\", \"naturaleza\", \"naturaleza\", \"naturaleza\", \"naturaleza\", \"naturaleza\", \"naturaleza\", \"negro\", \"negro\", \"negro\", \"negro\", \"negro\", \"negro\", \"negro\", \"negro\", \"negro\", \"negro\", \"neurosis\", \"neurosis\", \"neville\", \"neville\", \"neville\", \"neville\", \"neville\", \"neville\", \"niccol\", \"niccol\", \"nick\", \"nick\", \"nick\", \"nick\", \"nick\", \"nick\", \"nick\", \"nick\", \"nick\", \"nick\", \"ninfomana\", \"ningun\", \"ningun\", \"ningun\", \"ningun\", \"ningun\", \"ningun\", \"ningun\", \"ningun\", \"ningun\", \"ningun\", \"ni\\u00f1a\", \"ni\\u00f1a\", \"ni\\u00f1a\", \"ni\\u00f1a\", \"ni\\u00f1a\", \"ni\\u00f1a\", \"ni\\u00f1a\", \"ni\\u00f1a\", \"ni\\u00f1a\", \"ni\\u00f1a\", \"ni\\u00f1o\", \"ni\\u00f1o\", \"ni\\u00f1o\", \"ni\\u00f1o\", \"ni\\u00f1o\", \"ni\\u00f1o\", \"ni\\u00f1o\", \"ni\\u00f1o\", \"ni\\u00f1o\", \"ni\\u00f1o\", \"noci\\u00f3n\", \"nombre\", \"nombre\", \"nombre\", \"nombre\", \"nombre\", \"nombre\", \"nombre\", \"nombre\", \"nombre\", \"nombre\", \"norris\", \"north\", \"novela\", \"novela\", \"novela\", \"novela\", \"novela\", \"novela\", \"novela\", \"novela\", \"novela\", \"novela\", \"obscenidad\", \"ocasi\\u00f3n\", \"ocasi\\u00f3n\", \"ocasi\\u00f3n\", \"ocasi\\u00f3n\", \"ocasi\\u00f3n\", \"ocasi\\u00f3n\", \"ocasi\\u00f3n\", \"ocasi\\u00f3n\", \"ocasi\\u00f3n\", \"ocasi\\u00f3n\", \"ocean\", \"ocean\", \"ocean\", \"ocean\", \"ocean\", \"ocean\", \"ocean_thirteen\", \"ocean_thirteen\", \"ocean_thirteen\", \"odessa\", \"office\", \"oldboy\", \"olimpia\", \"opresion\", \"opresion\", \"opresion\", \"opresivo\", \"opresivo\", \"orca\", \"orfanato\", \"orfanato\", \"orfanato\", \"orfanato\", \"orfanato\", \"orfanato\", \"orfanato\", \"orfanato\", \"ortega\", \"ortega\", \"oto\\u00f1o\", \"oto\\u00f1o\", \"oto\\u00f1o\", \"oto\\u00f1o\", \"ozor\", \"ozor\", \"ozor\", \"ozor\", \"ozor\", \"ozor\", \"ozor\", \"ozor\", \"paco_plaza\", \"paco_plaza\", \"paddy\", \"padre\", \"padre\", \"padre\", \"padre\", \"padre\", \"padre\", \"padre\", \"padre\", \"padre\", \"padre\", \"pajillero\", \"pajillero\", \"palabra\", \"palabra\", \"palabra\", \"palabra\", \"palabra\", \"palabra\", \"palabra\", \"palabra\", \"palabra\", \"palabra\", \"palm\", \"palm\", \"palm\", \"palomiteras\", \"paltrow\", \"pantalla\", \"pantalla\", \"pantalla\", \"pantalla\", \"pantalla\", \"pantalla\", \"pantalla\", \"pantalla\", \"pantalla\", \"pantalla\", \"parche\", \"parodia\", \"parodia\", \"parodia\", \"parodia\", \"parodia\", \"parodia\", \"parodia\", \"parodia\", \"parodia\", \"parodia\", \"part\", \"paso\", \"paso\", \"paso\", \"paso\", \"paso\", \"paso\", \"paso\", \"paso\", \"paso\", \"paso\", \"paternofilial\", \"patinaje\", \"pazguato\", \"pearl\", \"pearl\", \"pearl\", \"pearl\", \"pearl\", \"pearl\", \"pearl\", \"peligrosidad\", \"penal\", \"penn\", \"penn\", \"penn\", \"penn\", \"penn\", \"penn\", \"penn\", \"penn\", \"penn\", \"percepci\\u00f3n\", \"perfeccionismo\", \"persona\", \"persona\", \"persona\", \"persona\", \"persona\", \"persona\", \"persona\", \"persona\", \"persona\", \"persona\", \"peter\", \"peter\", \"peter\", \"peter\", \"peter\", \"peter\", \"peter\", \"peter\", \"peter\", \"peter\", \"philip_dick\", \"philip_dick\", \"philip_dick\", \"pibe\", \"pinguino\", \"pinguino\", \"pinguino\", \"pinguino\", \"pinguino\", \"pinguino\", \"pinguino\", \"pintora\", \"piquer\", \"piquer\", \"piquete\", \"pistolero\", \"pistolero\", \"pistolero\", \"pistolero\", \"pistolero\", \"pistolero\", \"pitt\", \"pitt\", \"pitt\", \"pitt\", \"plano\", \"plano\", \"plano\", \"plano\", \"plano\", \"plano\", \"plano\", \"plano\", \"plano\", \"plano\", \"policia\", \"policia\", \"policia\", \"policia\", \"policia\", \"policia\", \"policia\", \"policia\", \"policia\", \"policia\", \"porrazo\", \"porrazo\", \"posta\", \"posta\", \"posterioridad\", \"postrer\", \"potter\", \"potter\", \"potter\", \"potter\", \"potter\", \"potter\", \"potter\", \"predator\", \"predator\", \"predator\", \"predator\", \"predator\", \"premio\", \"premio\", \"premio\", \"premio\", \"premio\", \"premio\", \"premio\", \"premio\", \"premio\", \"premio\", \"preocupant\", \"presencia\", \"presencia\", \"presencia\", \"presencia\", \"presencia\", \"presencia\", \"presencia\", \"presencia\", \"presencia\", \"presencia\", \"presentaci\\u00f3n\", \"primer_tercio\", \"primer_tercio\", \"principio\", \"principio\", \"principio\", \"principio\", \"principio\", \"principio\", \"principio\", \"principio\", \"principio\", \"principio\", \"problema\", \"problema\", \"problema\", \"problema\", \"problema\", \"problema\", \"problema\", \"problema\", \"problema\", \"problema\", \"prodigo\", \"producto\", \"producto\", \"producto\", \"producto\", \"producto\", \"producto\", \"producto\", \"producto\", \"producto\", \"producto\", \"propp\", \"propuesta\", \"propuesta\", \"propuesta\", \"propuesta\", \"propuesta\", \"propuesta\", \"propuesta\", \"propuesta\", \"propuesta\", \"propuesta\", \"prototipica\", \"pseudonimo\", \"puesto\", \"puesto\", \"puesto\", \"puesto\", \"puesto\", \"puesto\", \"puesto\", \"puesto\", \"puesto\", \"puesto\", \"punch\", \"punto\", \"punto\", \"punto\", \"punto\", \"punto\", \"punto\", \"punto\", \"punto\", \"punto\", \"punto\", \"qualite\", \"raider\", \"raimi\", \"raimi\", \"raimi\", \"raimi\", \"raimi\", \"raimi\", \"raimi\", \"range\", \"range\", \"range\", \"rata\", \"rata\", \"rata\", \"rata\", \"rata\", \"rata\", \"rata\", \"rata\", \"rata\", \"ratatouille\", \"ratatouille\", \"ratatouille\", \"ratatouille\", \"raya\", \"realidad\", \"realidad\", \"realidad\", \"realidad\", \"realidad\", \"realidad\", \"realidad\", \"realidad\", \"realidad\", \"realidad\", \"redgrave\", \"refresco\", \"reina\", \"reina\", \"reina\", \"reina\", \"reina\", \"reina\", \"reina\", \"reina\", \"reina\", \"reina\", \"reitman\", \"reitman\", \"reitman\", \"reitman\", \"reitman\", \"reitman\", \"reitman\", \"relato\", \"relato\", \"relato\", \"relato\", \"relato\", \"relato\", \"relato\", \"relato\", \"relato\", \"relato\", \"remake\", \"remake\", \"remake\", \"remake\", \"remake\", \"remake\", \"remake\", \"remake\", \"remake\", \"remake\", \"remoto\", \"rendimiento\", \"reparto\", \"reparto\", \"reparto\", \"reparto\", \"reparto\", \"reparto\", \"reparto\", \"reparto\", \"reparto\", \"reparto\", \"replicantes\", \"resto\", \"resto\", \"resto\", \"resto\", \"resto\", \"resto\", \"resto\", \"resto\", \"resto\", \"resto\", \"resultado\", \"resultado\", \"resultado\", \"resultado\", \"resultado\", \"resultado\", \"resultado\", \"resultado\", \"resultado\", \"resultado\", \"reynold\", \"ricardo_darin\", \"ricardo_darin\", \"richard_gere\", \"richard_matheson\", \"richard_matheson\", \"richard_matheson\", \"risibl\", \"risibl\", \"ritmo\", \"ritmo\", \"ritmo\", \"ritmo\", \"ritmo\", \"ritmo\", \"ritmo\", \"ritmo\", \"ritmo\", \"ritmo\", \"road\", \"road\", \"rob_zombie\", \"rob_zombie\", \"rob_zombie\", \"rob_zombie\", \"robbie\", \"robert_rodriguez\", \"robert_rodriguez\", \"robert_rodriguez\", \"robert_rodriguez\", \"robert_rodriguez\", \"robert_rodriguez\", \"robert_rodriguez\", \"robert_rodriguez\", \"robert_rodriguez\", \"rockwell\", \"rohmer\", \"rusia\", \"rusia\", \"rusia\", \"rusia\", \"ryan\", \"ryan\", \"ryan\", \"ryan\", \"ryan\", \"ryan\", \"ryan\", \"ryan\", \"ryan\", \"ryan\", \"saga\", \"saga\", \"saga\", \"saga\", \"saga\", \"saga\", \"saga\", \"saga\", \"saga\", \"saga\", \"salario\", \"saltado\", \"saltado\", \"saltado\", \"salvadori\", \"salvadori\", \"sarandon\", \"saturday\", \"secuencia\", \"secuencia\", \"secuencia\", \"secuencia\", \"secuencia\", \"secuencia\", \"secuencia\", \"secuencia\", \"secuencia\", \"secuencia\", \"seita\", \"seleccionar\", \"serie\", \"serie\", \"serie\", \"serie\", \"serie\", \"serie\", \"serie\", \"serie\", \"serie\", \"serie\", \"seth\", \"seth\", \"seth\", \"seven\", \"seven\", \"seven\", \"seven\", \"seven\", \"seven\", \"seven\", \"seven\", \"shrek\", \"shrek\", \"shrek\", \"shrek\", \"shrek\", \"shrek\", \"shrek\", \"shrek\", \"shrek\", \"shrek\", \"significado\", \"significado\", \"significado\", \"significado\", \"significado\", \"significado\", \"significado\", \"significado\", \"significado\", \"significado\", \"sigourney\", \"sigourney\", \"silbido\", \"simbiosis\", \"simbiosis\", \"simplona\", \"simpson\", \"simpson\", \"simpson\", \"simpson\", \"simpson\", \"simpson\", \"simpson\", \"simpsons\", \"simpsons\", \"simpsons\", \"simpsons\", \"simpsons\", \"singularidad\", \"singularidad\", \"singularidad\", \"singularidad\", \"singularidad\", \"singularidad\", \"singularidad\", \"singularidad\", \"situaci\\u00f3n\", \"situaci\\u00f3n\", \"situaci\\u00f3n\", \"situaci\\u00f3n\", \"situaci\\u00f3n\", \"situaci\\u00f3n\", \"situaci\\u00f3n\", \"situaci\\u00f3n\", \"situaci\\u00f3n\", \"situaci\\u00f3n\", \"slogan\", \"snape\", \"sociedad\", \"sociedad\", \"sociedad\", \"sociedad\", \"sociedad\", \"sociedad\", \"sociedad\", \"sociedad\", \"sociedad\", \"sociedad\", \"sodebergh\", \"sodenbergh\", \"soul\", \"spade\", \"spade\", \"spade\", \"spade\", \"spiderman\", \"spiderman\", \"spiderman\", \"spiderman\", \"spiderman\", \"spiderman\", \"spiderman\", \"spiderman\", \"spiderman\", \"spiderman\", \"stardust\", \"stardust\", \"stardust\", \"stardust\", \"stardust\", \"stardust\", \"states\", \"states\", \"steve_buscemi\", \"steve_buscemi\", \"steve_buscemi\", \"steve_buscemi\", \"steve_buscemi\", \"steve_buscemi\", \"stewart\", \"stewart\", \"stewart\", \"stewart\", \"stewart\", \"sting\", \"sting\", \"strathairn\", \"strathairn\", \"style\", \"suarez\", \"subhistoria\", \"subterraneo\", \"subtexto\", \"subtexto\", \"subtexto\", \"supersonic_man\", \"supersonic_man\", \"supersonic_man\", \"suso\", \"suso\", \"sylvester_stallone\", \"sylvester_stallone\", \"sylvester_stallone\", \"sylvester_stallone\", \"sylvester_stallone\", \"sylvester_stallone\", \"sylvia\", \"sylvia\", \"sylvia\", \"tal_vez\", \"tal_vez\", \"tal_vez\", \"tal_vez\", \"tal_vez\", \"tal_vez\", \"tal_vez\", \"tal_vez\", \"tal_vez\", \"tal_vez\", \"talento\", \"talento\", \"talento\", \"talento\", \"talento\", \"talento\", \"talento\", \"talento\", \"talento\", \"talento\", \"tarkovski\", \"tarkovski\", \"tarkovski\", \"tarkovski\", \"tarkovski\", \"teen\", \"teen\", \"teen\", \"teen\", \"tejano\", \"telescopica\", \"tema\", \"tema\", \"tema\", \"tema\", \"tema\", \"tema\", \"tema\", \"tema\", \"tema\", \"tema\", \"temeroso\", \"tension\", \"tension\", \"tension\", \"tension\", \"tension\", \"tension\", \"tension\", \"tension\", \"tension\", \"tension\", \"terror\", \"terror\", \"terror\", \"terror\", \"terror\", \"terror\", \"terror\", \"terror\", \"terror\", \"terror\", \"tim_burton\", \"tim_burton\", \"tim_burton\", \"tim_burton\", \"tim_burton\", \"tim_burton\", \"tim_burton\", \"tim_burton\", \"tim_burton\", \"tim_burton\", \"titulo\", \"titulo\", \"titulo\", \"titulo\", \"titulo\", \"titulo\", \"titulo\", \"titulo\", \"titulo\", \"titulo\", \"tomarte\", \"tomei\", \"tomei\", \"torbellino\", \"torbellino\", \"torbellino\", \"torbellino\", \"tormentosa\", \"tormentosa\", \"torremolino\", \"tosquedad\", \"trabajadora\", \"trabajadora\", \"trabajadora\", \"traductor\", \"trama\", \"trama\", \"trama\", \"trama\", \"trama\", \"trama\", \"trama\", \"trama\", \"trama\", \"trama\", \"trav\", \"trav\", \"trav\", \"trav\", \"trav\", \"trav\", \"trav\", \"trav\", \"trav\", \"trav\", \"tripode\", \"truman_capote\", \"truman_capote\", \"truman_capote\", \"truman_capote\", \"truman_capote\", \"truman_capote\", \"truman_capote\", \"truman_capote\", \"truman_capote\", \"ultima\", \"ultima\", \"ultima\", \"ultima\", \"ultima\", \"ultima\", \"ultima\", \"ultima\", \"ultima\", \"ultima\", \"ultimatum_bourne\", \"ultimatum_bourne\", \"ultimatum_bourne\", \"ultraviolencia\", \"vaca\", \"vaca\", \"vaca\", \"vaca\", \"vaca\", \"vaca\", \"vaca\", \"vaca\", \"vaca\", \"vaca\", \"vacuna\", \"vacuna\", \"valencia\", \"valla\", \"valoraci\\u00f3n\", \"vampiro\", \"vampiro\", \"vampiro\", \"vampiro\", \"vampiro\", \"vampiro\", \"vampiro\", \"vampiro\", \"vampiro\", \"vampiro\", \"van_sant\", \"vanessa\", \"vanessa\", \"vanessa\", \"vanessa\", \"vanessa\", \"vaughn\", \"vaughn\", \"vaughn\", \"vengeance\", \"ventana_indiscreta\", \"ventana_indiscreta\", \"ventana_indiscreta\", \"ventana_indiscreta\", \"version\", \"version\", \"version\", \"version\", \"version\", \"version\", \"version\", \"version\", \"version\", \"version\", \"videoconsola\", \"villana\", \"vincent_price\", \"viola\", \"violencia\", \"violencia\", \"violencia\", \"violencia\", \"violencia\", \"violencia\", \"violencia\", \"violencia\", \"violencia\", \"violencia\", \"voldemort\", \"voldemort\", \"voldemort\", \"watling\", \"watson\", \"watson\", \"watson\", \"watson\", \"watson\", \"weaver\", \"weaver\", \"western\", \"western\", \"western\", \"western\", \"western\", \"western\", \"western\", \"western\", \"western\", \"will_smith\", \"will_smith\", \"will_smith\", \"will_smith\", \"will_smith\", \"will_smith\", \"will_smith\", \"will_smith\", \"will_smith\", \"witt\", \"witt\", \"xbox\", \"yared\", \"yared\", \"zetaj\\u00f3n\", \"zombi\", \"zombi\", \"zombi\", \"zombi\", \"zombi\", \"zombi\", \"zombi\", \"zombi\", \"zombi\", \"zombi\", \"zombies_party\", \"zombies_party\", \"zona\", \"zona\", \"zona\", \"zona\", \"zona\", \"zona\", \"zona\", \"zona\", \"zona\", \"zona\", \"zoofilia\"]}, \"R\": 30, \"lambda.step\": 0.01, \"plot.opts\": {\"xlab\": \"PC1\", \"ylab\": \"PC2\"}, \"topic.order\": [6, 9, 4, 5, 10, 8, 7, 1, 3, 2]};\n",
       "\n",
       "function LDAvis_load_lib(url, callback){\n",
       "  var s = document.createElement('script');\n",
       "  s.src = url;\n",
       "  s.async = true;\n",
       "  s.onreadystatechange = s.onload = callback;\n",
       "  s.onerror = function(){console.warn(\"failed to load library \" + url);};\n",
       "  document.getElementsByTagName(\"head\")[0].appendChild(s);\n",
       "}\n",
       "\n",
       "if(typeof(LDAvis) !== \"undefined\"){\n",
       "   // already loaded: just create the visualization\n",
       "   !function(LDAvis){\n",
       "       new LDAvis(\"#\" + \"ldavis_el1310423429312454245513471989\", ldavis_el1310423429312454245513471989_data);\n",
       "   }(LDAvis);\n",
       "}else if(typeof define === \"function\" && define.amd){\n",
       "   // require.js is available: use it to load d3/LDAvis\n",
       "   require.config({paths: {d3: \"https://d3js.org/d3.v5\"}});\n",
       "   require([\"d3\"], function(d3){\n",
       "      window.d3 = d3;\n",
       "      LDAvis_load_lib(\"https://cdn.jsdelivr.net/gh/bmabey/pyLDAvis@3.3.1/pyLDAvis/js/ldavis.v3.0.0.js\", function(){\n",
       "        new LDAvis(\"#\" + \"ldavis_el1310423429312454245513471989\", ldavis_el1310423429312454245513471989_data);\n",
       "      });\n",
       "    });\n",
       "}else{\n",
       "    // require.js not available: dynamically load d3 & LDAvis\n",
       "    LDAvis_load_lib(\"https://d3js.org/d3.v5.js\", function(){\n",
       "         LDAvis_load_lib(\"https://cdn.jsdelivr.net/gh/bmabey/pyLDAvis@3.3.1/pyLDAvis/js/ldavis.v3.0.0.js\", function(){\n",
       "                 new LDAvis(\"#\" + \"ldavis_el1310423429312454245513471989\", ldavis_el1310423429312454245513471989_data);\n",
       "            })\n",
       "         });\n",
       "}\n",
       "</script>"
      ],
      "text/plain": [
       "<IPython.core.display.HTML object>"
      ]
     },
     "execution_count": 54,
     "metadata": {},
     "output_type": "execute_result"
    }
   ],
   "source": [
    "corpus = list(new_corpus_bow) #necesitamos pasar el BoW a una lista en memoria para pyLDAvis\n",
    "vis_data = gensimvis.prepare(ldamodel, corpus, new_corpus_bow.diccionario) # Problema: necesita como entrada una lista en memoria con todo el corpus, streamer no sirve\n",
    "                                                                       # necesita conocer la longitud a priori, la convertimos con list\n",
    " \n",
    "# Hace una PCA en 2 componentes para ver bien la separacion de los temas (posicion y diametro de cada circulo, este ultimo es el num de docs en cada tema)\n",
    "# en rojo al seelccionar un circulo: veo las palabras mas relevantes respecto a la frecuencia de aparicion de esa tematica\n",
    "pyLDAvis.display(vis_data)"
   ]
  },
  {
   "cell_type": "code",
   "execution_count": 55,
   "id": "5960d352-1f91-4ede-9279-834523f13b0d",
   "metadata": {},
   "outputs": [
    {
     "data": {
      "text/plain": [
       "30502"
      ]
     },
     "execution_count": 55,
     "metadata": {},
     "output_type": "execute_result"
    }
   ],
   "source": [
    "# Vemos longitud del vocabulario\n",
    "len(new_corpus_bow.diccionario.token2id)"
   ]
  },
  {
   "cell_type": "markdown",
   "id": "ea03f84f-f561-4dbd-bb5e-b3fd73749421",
   "metadata": {
    "id": "UY5Sy80Nr4OR"
   },
   "source": [
    "Podemos ver que la separación de temas no es muy buena porque hay algunas palabras muy frecuentes como *pelicula* que aparecen en todos los temas. \n",
    "\n",
    "Podemos filtrar estas palabras antes de realizar el LDA del Corpus mediante el método `filter_extremes` de la clase `Dictionary`:"
   ]
  },
  {
   "cell_type": "markdown",
   "id": "d05058e6-eae4-40a5-b853-869aad9a8e38",
   "metadata": {},
   "source": [
    "## Buequeda de los parametros de filtrado \n",
    "\n",
    "Podemos ver que la separación de temas no es muy buena porque hay algunas palabras muy frecuentes como *pelicula* que aparecen en todos los temas. \n",
    "\n",
    "Podemos filtrar estas palabras antes de realizar el LDA del Corpus mediante el método `filter_extremes` de la clase `Dictionary`:"
   ]
  },
  {
   "cell_type": "code",
   "execution_count": 56,
   "id": "690bcf45-ba0c-4ae2-9f97-d39b3e0a3b98",
   "metadata": {
    "id": "OFghh1QVYjVy"
   },
   "outputs": [
    {
     "name": "stdout",
     "output_type": "stream",
     "text": [
      "[(0,\n",
      "  '0.004*\"realidad\" + 0.004*\"pantalla\" + 0.003*\"palabra\" + 0.003*\"producto\" + '\n",
      "  '0.003*\"imagen\" + 0.003*\"trama\" + 0.003*\"punto\" + 0.002*\"tal_vez\" + '\n",
      "  '0.002*\"amor\" + 0.002*\"mano\"'),\n",
      " (1,\n",
      "  '0.006*\"comedia\" + 0.004*\"amor\" + 0.003*\"tema\" + 0.003*\"imagen\" + '\n",
      "  '0.002*\"producto\" + 0.002*\"resto\" + 0.002*\"ritmo\" + 0.002*\"drama\" + '\n",
      "  '0.002*\"ocasión\" + 0.002*\"dialogo\"'),\n",
      " (2,\n",
      "  '0.006*\"pantalla\" + 0.004*\"casa\" + 0.003*\"trama\" + 0.003*\"padre\" + '\n",
      "  '0.003*\"libro\" + 0.003*\"amigo\" + 0.003*\"dialogo\" + 0.003*\"principio\" + '\n",
      "  '0.002*\"joven\" + 0.002*\"niño\"'),\n",
      " (3,\n",
      "  '0.004*\"terror\" + 0.004*\"trama\" + 0.004*\"filme\" + 0.003*\"cosa\" + '\n",
      "  '0.003*\"joven\" + 0.003*\"mujer\" + 0.003*\"resto\" + 0.003*\"libro\" + '\n",
      "  '0.003*\"principio\" + 0.003*\"imagen\"'),\n",
      " (4,\n",
      "  '0.004*\"comedia\" + 0.003*\"serie\" + 0.003*\"pantalla\" + 0.003*\"problema\" + '\n",
      "  '0.003*\"principio\" + 0.003*\"cosa\" + 0.003*\"humor\" + 0.003*\"imagen\" + '\n",
      "  '0.003*\"saga\" + 0.003*\"español\"'),\n",
      " (5,\n",
      "  '0.004*\"joven\" + 0.003*\"mujer\" + 0.003*\"familia\" + 0.003*\"pantalla\" + '\n",
      "  '0.003*\"guerra\" + 0.003*\"plano\" + 0.003*\"tema\" + 0.003*\"realidad\" + '\n",
      "  '0.003*\"relato\" + 0.003*\"amor\"'),\n",
      " (6,\n",
      "  '0.006*\"serie\" + 0.005*\"saga\" + 0.003*\"punto\" + 0.003*\"mujer\" + 0.003*\"cosa\" '\n",
      "  '+ 0.003*\"argumento\" + 0.003*\"dialogo\" + 0.003*\"trama\" + 0.003*\"aventura\" + '\n",
      "  '0.003*\"spiderman\"'),\n",
      " (7,\n",
      "  '0.004*\"mujer\" + 0.003*\"paso\" + 0.003*\"comedia\" + 0.003*\"familia\" + '\n",
      "  '0.003*\"amigo\" + 0.003*\"joven\" + 0.003*\"realidad\" + 0.003*\"padre\" + '\n",
      "  '0.003*\"tema\" + 0.003*\"idea\"'),\n",
      " (8,\n",
      "  '0.004*\"imagen\" + 0.003*\"casa\" + 0.003*\"comedia\" + 0.003*\"niño\" + '\n",
      "  '0.003*\"idea\" + 0.003*\"metraje\" + 0.003*\"trama\" + 0.003*\"ritmo\" + '\n",
      "  '0.003*\"gente\" + 0.002*\"problema\"'),\n",
      " (9,\n",
      "  '0.004*\"comedia\" + 0.004*\"terror\" + 0.004*\"familia\" + 0.004*\"cosa\" + '\n",
      "  '0.003*\"orfanato\" + 0.003*\"trama\" + 0.003*\"idea\" + 0.003*\"humor\" + '\n",
      "  '0.003*\"zombi\" + 0.003*\"mujer\"')]\n"
     ]
    }
   ],
   "source": [
    "warnings.filterwarnings('ignore')\n",
    "\n",
    "# Aqui le paso el corpus BoW (LDA sobre BoW)\n",
    "ldamodel = LdaModel(corpus=new_corpus_bow, num_topics=10, id2word=new_corpus_bow.diccionario, \n",
    "                    random_state=100)\n",
    "pprint(ldamodel.print_topics())"
   ]
  },
  {
   "cell_type": "code",
   "execution_count": 57,
   "id": "f27e579e-b9b3-4c30-8502-3b83beed4edb",
   "metadata": {},
   "outputs": [
    {
     "data": {
      "text/plain": [
       "[(0,\n",
       "  '0.004*\"realidad\" + 0.004*\"pantalla\" + 0.003*\"palabra\" + 0.003*\"producto\" + 0.003*\"imagen\" + 0.003*\"trama\" + 0.003*\"punto\" + 0.002*\"tal_vez\" + 0.002*\"amor\" + 0.002*\"mano\"'),\n",
       " (1,\n",
       "  '0.006*\"comedia\" + 0.004*\"amor\" + 0.003*\"tema\" + 0.003*\"imagen\" + 0.002*\"producto\" + 0.002*\"resto\" + 0.002*\"ritmo\" + 0.002*\"drama\" + 0.002*\"ocasión\" + 0.002*\"dialogo\"'),\n",
       " (2,\n",
       "  '0.006*\"pantalla\" + 0.004*\"casa\" + 0.003*\"trama\" + 0.003*\"padre\" + 0.003*\"libro\" + 0.003*\"amigo\" + 0.003*\"dialogo\" + 0.003*\"principio\" + 0.002*\"joven\" + 0.002*\"niño\"'),\n",
       " (3,\n",
       "  '0.004*\"terror\" + 0.004*\"trama\" + 0.004*\"filme\" + 0.003*\"cosa\" + 0.003*\"joven\" + 0.003*\"mujer\" + 0.003*\"resto\" + 0.003*\"libro\" + 0.003*\"principio\" + 0.003*\"imagen\"'),\n",
       " (4,\n",
       "  '0.004*\"comedia\" + 0.003*\"serie\" + 0.003*\"pantalla\" + 0.003*\"problema\" + 0.003*\"principio\" + 0.003*\"cosa\" + 0.003*\"humor\" + 0.003*\"imagen\" + 0.003*\"saga\" + 0.003*\"español\"'),\n",
       " (5,\n",
       "  '0.004*\"joven\" + 0.003*\"mujer\" + 0.003*\"familia\" + 0.003*\"pantalla\" + 0.003*\"guerra\" + 0.003*\"plano\" + 0.003*\"tema\" + 0.003*\"realidad\" + 0.003*\"relato\" + 0.003*\"amor\"'),\n",
       " (6,\n",
       "  '0.006*\"serie\" + 0.005*\"saga\" + 0.003*\"punto\" + 0.003*\"mujer\" + 0.003*\"cosa\" + 0.003*\"argumento\" + 0.003*\"dialogo\" + 0.003*\"trama\" + 0.003*\"aventura\" + 0.003*\"spiderman\"'),\n",
       " (7,\n",
       "  '0.004*\"mujer\" + 0.003*\"paso\" + 0.003*\"comedia\" + 0.003*\"familia\" + 0.003*\"amigo\" + 0.003*\"joven\" + 0.003*\"realidad\" + 0.003*\"padre\" + 0.003*\"tema\" + 0.003*\"idea\"'),\n",
       " (8,\n",
       "  '0.004*\"imagen\" + 0.003*\"casa\" + 0.003*\"comedia\" + 0.003*\"niño\" + 0.003*\"idea\" + 0.003*\"metraje\" + 0.003*\"trama\" + 0.003*\"ritmo\" + 0.003*\"gente\" + 0.002*\"problema\"'),\n",
       " (9,\n",
       "  '0.004*\"comedia\" + 0.004*\"terror\" + 0.004*\"familia\" + 0.004*\"cosa\" + 0.003*\"orfanato\" + 0.003*\"trama\" + 0.003*\"idea\" + 0.003*\"humor\" + 0.003*\"zombi\" + 0.003*\"mujer\"')]"
      ]
     },
     "execution_count": 57,
     "metadata": {},
     "output_type": "execute_result"
    }
   ],
   "source": [
    "ldamodel.print_topics()"
   ]
  },
  {
   "cell_type": "code",
   "execution_count": 58,
   "id": "a4e7544d-00db-4d67-9fa9-72bec581d62a",
   "metadata": {},
   "outputs": [
    {
     "data": {
      "text/plain": [
       "<gensim.interfaces.TransformedCorpus at 0x22181a88ca0>"
      ]
     },
     "execution_count": 58,
     "metadata": {},
     "output_type": "execute_result"
    }
   ],
   "source": [
    "doc_lda = ldamodel[corpus_bow]\n",
    "doc_lda"
   ]
  },
  {
   "cell_type": "markdown",
   "id": "e9b5f74b-3d4b-4c0f-8400-7f63ae3026d4",
   "metadata": {},
   "source": [
    "**Model Perplexity And Coherence**"
   ]
  },
  {
   "cell_type": "code",
   "execution_count": 59,
   "id": "7ecd9f9c-d42a-46c5-bfaa-020f35866500",
   "metadata": {},
   "outputs": [
    {
     "name": "stdout",
     "output_type": "stream",
     "text": [
      "\n",
      "Perplexity:  -9.565212544373619\n"
     ]
    }
   ],
   "source": [
    "# Compute Perplexity\n",
    "print('\\nPerplexity: ', ldamodel.log_perplexity(list(new_corpus_bow)))\n",
    "# a measure of how good the model is. lower the better."
   ]
  },
  {
   "cell_type": "code",
   "execution_count": 60,
   "id": "14ac29e8-43a4-426e-8e8e-12dd7f288603",
   "metadata": {},
   "outputs": [
    {
     "name": "stdout",
     "output_type": "stream",
     "text": [
      "\n",
      "Coherence Score:  0.24788391379754104\n"
     ]
    }
   ],
   "source": [
    "# Compute Coherence Score\n",
    "coherence_model_lda = CoherenceModel(model=ldamodel, texts=new_textos_lemas_trigramas, dictionary=new_corpus_bow.diccionario, coherence='c_v')\n",
    "coherence_lda = coherence_model_lda.get_coherence()\n",
    "print('\\nCoherence Score: ', coherence_lda)"
   ]
  },
  {
   "cell_type": "markdown",
   "id": "6eab516d-977c-45e7-9b3e-fd40f81bef3c",
   "metadata": {},
   "source": [
    "**Juntar métricas para seleccionar los mejores parametros de filtrado**\n",
    "\n",
    "Vamos a crear un dataframe mefiante un bucle que pruebe distintas combinaciones de valores descendentes `no_below` y `no_above` de para el filtrado del diccionario además calcularemos las métricas Perplexity (menos es mejor) y Coherence Score (más es mejor) para elegir los parámetros que maximicen las métricas para el número arbitratio de temáticas inicial arbitrario de 10 temas."
   ]
  },
  {
   "cell_type": "code",
   "execution_count": 61,
   "id": "c77a74bb-765c-4100-adc7-3ba8b8014a25",
   "metadata": {},
   "outputs": [
    {
     "name": "stdout",
     "output_type": "stream",
     "text": [
      "\n",
      "no_below:  9\n",
      "no_above:  0.9\n",
      "len_vocab:  5838\n",
      "Perplexity:  -8.27615760519294\n",
      "Coherence Score:  0.25105523696989274\n",
      "(9, 0.9, 5838, -8.27615760519294, 0.25105523696989274)\n",
      "no_above:  0.8\n",
      "len_vocab:  5838\n",
      "Perplexity:  -8.27615760519294\n",
      "Coherence Score:  0.25105523696989274\n",
      "(9, 0.8, 5838, -8.27615760519294, 0.25105523696989274)\n",
      "no_above:  0.7\n",
      "len_vocab:  5838\n",
      "Perplexity:  -8.27615760519294\n",
      "Coherence Score:  0.25105523696989274\n",
      "(9, 0.7, 5838, -8.27615760519294, 0.25105523696989274)\n",
      "no_above:  0.6\n",
      "len_vocab:  5838\n",
      "Perplexity:  -8.27615760519294\n",
      "Coherence Score:  0.25105523696989274\n",
      "(9, 0.6, 5838, -8.27615760519294, 0.25105523696989274)\n",
      "no_above:  0.5\n",
      "len_vocab:  5838\n",
      "Perplexity:  -8.27615760519294\n",
      "Coherence Score:  0.25105523696989274\n",
      "(9, 0.5, 5838, -8.27615760519294, 0.25105523696989274)\n",
      "\n",
      "no_below:  8\n",
      "no_above:  0.9\n",
      "len_vocab:  6384\n",
      "Perplexity:  -8.349115013222107\n",
      "Coherence Score:  0.24607587030976083\n",
      "(8, 0.9, 6384, -8.349115013222107, 0.24607587030976083)\n",
      "no_above:  0.8\n",
      "len_vocab:  6384\n",
      "Perplexity:  -8.349115013222107\n",
      "Coherence Score:  0.24607587030976083\n",
      "(8, 0.8, 6384, -8.349115013222107, 0.24607587030976083)\n",
      "no_above:  0.7\n",
      "len_vocab:  6384\n",
      "Perplexity:  -8.349115013222107\n",
      "Coherence Score:  0.24607587030976083\n",
      "(8, 0.7, 6384, -8.349115013222107, 0.24607587030976083)\n",
      "no_above:  0.6\n",
      "len_vocab:  6384\n",
      "Perplexity:  -8.349115013222107\n",
      "Coherence Score:  0.24607587030976083\n",
      "(8, 0.6, 6384, -8.349115013222107, 0.24607587030976083)\n",
      "no_above:  0.5\n",
      "len_vocab:  6384\n",
      "Perplexity:  -8.349115013222107\n",
      "Coherence Score:  0.24607587030976083\n",
      "(8, 0.5, 6384, -8.349115013222107, 0.24607587030976083)\n",
      "\n",
      "no_below:  7\n",
      "no_above:  0.9\n",
      "len_vocab:  7039\n",
      "Perplexity:  -8.436736696135789\n",
      "Coherence Score:  0.25328234389474746\n",
      "(7, 0.9, 7039, -8.436736696135789, 0.25328234389474746)\n",
      "no_above:  0.8\n",
      "len_vocab:  7039\n",
      "Perplexity:  -8.436736696135789\n",
      "Coherence Score:  0.25328234389474746\n",
      "(7, 0.8, 7039, -8.436736696135789, 0.25328234389474746)\n",
      "no_above:  0.7\n",
      "len_vocab:  7039\n",
      "Perplexity:  -8.436736696135789\n",
      "Coherence Score:  0.25328234389474746\n",
      "(7, 0.7, 7039, -8.436736696135789, 0.25328234389474746)\n",
      "no_above:  0.6\n",
      "len_vocab:  7039\n",
      "Perplexity:  -8.436736696135789\n",
      "Coherence Score:  0.25328234389474746\n",
      "(7, 0.6, 7039, -8.436736696135789, 0.25328234389474746)\n",
      "no_above:  0.5\n",
      "len_vocab:  7039\n",
      "Perplexity:  -8.436736696135789\n",
      "Coherence Score:  0.25328234389474746\n",
      "(7, 0.5, 7039, -8.436736696135789, 0.25328234389474746)\n",
      "\n",
      "no_below:  6\n",
      "no_above:  0.9\n",
      "len_vocab:  7821\n",
      "Perplexity:  -8.518117348418803\n",
      "Coherence Score:  0.24103236187827864\n",
      "(6, 0.9, 7821, -8.518117348418803, 0.24103236187827864)\n",
      "no_above:  0.8\n",
      "len_vocab:  7821\n",
      "Perplexity:  -8.518117348418803\n",
      "Coherence Score:  0.24103236187827864\n",
      "(6, 0.8, 7821, -8.518117348418803, 0.24103236187827864)\n",
      "no_above:  0.7\n",
      "len_vocab:  7821\n",
      "Perplexity:  -8.518117348418803\n",
      "Coherence Score:  0.24103236187827864\n",
      "(6, 0.7, 7821, -8.518117348418803, 0.24103236187827864)\n",
      "no_above:  0.6\n",
      "len_vocab:  7821\n",
      "Perplexity:  -8.518117348418803\n",
      "Coherence Score:  0.24103236187827864\n",
      "(6, 0.6, 7821, -8.518117348418803, 0.24103236187827864)\n",
      "no_above:  0.5\n",
      "len_vocab:  7821\n",
      "Perplexity:  -8.518117348418803\n",
      "Coherence Score:  0.24103236187827864\n",
      "(6, 0.5, 7821, -8.518117348418803, 0.24103236187827864)\n",
      "\n",
      "no_below:  5\n",
      "no_above:  0.9\n",
      "len_vocab:  8872\n",
      "Perplexity:  -8.614117367341528\n",
      "Coherence Score:  0.24508454098978202\n",
      "(5, 0.9, 8872, -8.614117367341528, 0.24508454098978202)\n",
      "no_above:  0.8\n",
      "len_vocab:  8872\n",
      "Perplexity:  -8.614117367341528\n",
      "Coherence Score:  0.24508454098978202\n",
      "(5, 0.8, 8872, -8.614117367341528, 0.24508454098978202)\n",
      "no_above:  0.7\n",
      "len_vocab:  8872\n",
      "Perplexity:  -8.614117367341528\n",
      "Coherence Score:  0.24508454098978202\n",
      "(5, 0.7, 8872, -8.614117367341528, 0.24508454098978202)\n",
      "no_above:  0.6\n",
      "len_vocab:  8872\n",
      "Perplexity:  -8.614117367341528\n",
      "Coherence Score:  0.24508454098978202\n",
      "(5, 0.6, 8872, -8.614117367341528, 0.24508454098978202)\n",
      "no_above:  0.5\n",
      "len_vocab:  8872\n",
      "Perplexity:  -8.614117367341528\n",
      "Coherence Score:  0.24508454098978202\n",
      "(5, 0.5, 8872, -8.614117367341528, 0.24508454098978202)\n",
      "\n",
      "no_below:  4\n",
      "no_above:  0.9\n",
      "len_vocab:  10315\n",
      "Perplexity:  -8.72776286061407\n",
      "Coherence Score:  0.24583671015856773\n",
      "(4, 0.9, 10315, -8.72776286061407, 0.24583671015856773)\n",
      "no_above:  0.8\n",
      "len_vocab:  10315\n",
      "Perplexity:  -8.72776286061407\n",
      "Coherence Score:  0.24583671015856773\n",
      "(4, 0.8, 10315, -8.72776286061407, 0.24583671015856773)\n",
      "no_above:  0.7\n",
      "len_vocab:  10315\n",
      "Perplexity:  -8.72776286061407\n",
      "Coherence Score:  0.24583671015856773\n",
      "(4, 0.7, 10315, -8.72776286061407, 0.24583671015856773)\n",
      "no_above:  0.6\n",
      "len_vocab:  10315\n",
      "Perplexity:  -8.72776286061407\n",
      "Coherence Score:  0.24583671015856773\n",
      "(4, 0.6, 10315, -8.72776286061407, 0.24583671015856773)\n",
      "no_above:  0.5\n",
      "len_vocab:  10315\n",
      "Perplexity:  -8.72776286061407\n",
      "Coherence Score:  0.24583671015856773\n",
      "(4, 0.5, 10315, -8.72776286061407, 0.24583671015856773)\n"
     ]
    }
   ],
   "source": [
    "#list_new_corpus_bow = list(new_corpus_bow)\n",
    "no_below = [9, 8, 7, 6, 5, 4]\n",
    "no_above = [0.9, 0.8, 0.7, 0.6, 0.5]\n",
    "\n",
    "results = []\n",
    "for n_b in no_below:\n",
    "    print(\"\\nno_below: \", n_b)\n",
    "    corpus_bow_ = BOW_Corpus(new_textos_lemas_trigramas)\n",
    "        \n",
    "    for n_a in no_above:\n",
    "        print(\"no_above: \", n_a)\n",
    "        corpus_bow_.diccionario.filter_extremes(no_below=n_b, no_above=n_a)\n",
    "        len_vocab = len(corpus_bow_.diccionario.token2id)\n",
    "        print(\"len_vocab: \", len_vocab)\n",
    "        \n",
    "        # Recalculamos LDA\n",
    "        corpus_lda_ = [corpus_bow_.diccionario.doc2bow(text) for text in new_textos_lemas_trigramas]\n",
    "        \n",
    "        # Aplica el modelo LDA\n",
    "        ldamodel_ = LdaModel(corpus=corpus_lda_, num_topics=10, id2word=corpus_bow_.diccionario, random_state=100)   #############USAR  FUNC MEJORADA\n",
    "        \n",
    "        # Calculamos metricas\n",
    "        perplexity = ldamodel_.log_perplexity(corpus_lda_)\n",
    "        print('Perplexity: ', perplexity)\n",
    "        \n",
    "        # Compute Coherence Score\n",
    "        coherence_model_lda_ = CoherenceModel(model=ldamodel_, texts=new_textos_lemas_trigramas, dictionary=corpus_bow_.diccionario, coherence='c_v')\n",
    "        coherence_lda = coherence_model_lda_.get_coherence()\n",
    "        print('Coherence Score: ', coherence_lda)\n",
    "        \n",
    "        iter_result = (n_b, n_a, len_vocab, perplexity, coherence_lda)\n",
    "        print(iter_result)\n",
    "        results.append(iter_result)\n",
    "        \n",
    "df_result = pd.DataFrame(results, columns=['no_below', 'no_above', 'tamaño_vocab', 'perplexity', 'coherence_value'])"
   ]
  },
  {
   "cell_type": "code",
   "execution_count": 63,
   "id": "52c2fab8-5d4f-4295-9b31-c142e6f92f94",
   "metadata": {},
   "outputs": [],
   "source": [
    "df_result.to_csv(\"lda_filter_extremes.csv\")"
   ]
  },
  {
   "cell_type": "code",
   "execution_count": 64,
   "id": "aa6c987c-a09b-47ee-b6cf-83ada3b27bfe",
   "metadata": {},
   "outputs": [],
   "source": [
    "best_results = df_result.iloc[df_result['coherence_value'].argmax()]"
   ]
  },
  {
   "cell_type": "markdown",
   "id": "95ceda0f-6a73-411a-94d9-e6b513d54c72",
   "metadata": {},
   "source": [
    "Parece que los mejores resultados son con no_below=7 y no_above=0.9, tiene sentido que este ultimo no sea muy alto ya que se ha realizado un filtrado previo de términos más frecuentes genéricos en el ámbito del cine."
   ]
  },
  {
   "cell_type": "code",
   "execution_count": 69,
   "id": "b05b2cff-ab34-4708-8f2e-16070c11cd33",
   "metadata": {},
   "outputs": [
    {
     "data": {
      "text/plain": [
       "no_below              7.000000\n",
       "no_above              0.900000\n",
       "tamaño_vocab       7039.000000\n",
       "perplexity           -8.436737\n",
       "coherence_value       0.253282\n",
       "Name: 10, dtype: float64"
      ]
     },
     "execution_count": 69,
     "metadata": {},
     "output_type": "execute_result"
    }
   ],
   "source": [
    "best_results"
   ]
  },
  {
   "cell_type": "markdown",
   "id": "89f8d3fe-e0a7-4595-80ed-0f4b5de7d204",
   "metadata": {},
   "source": [
    "Usamos estos valores para generar el LDA, recordar que se ha hecho solo para los 10 grupos. Lo ideal habría sido variar el número de grupos pero con los recursos de computación de los que se dispone habría tardado días en finalizar por lo que lo dejaremos así y con este corte buscaremos después el número de temáticas una vez calculado el modelo LDA."
   ]
  },
  {
   "cell_type": "code",
   "execution_count": 73,
   "id": "0ed4fe58-cb4c-48f9-9032-c6d4f8888bea",
   "metadata": {
    "id": "MKGr3qYEr4OR"
   },
   "outputs": [],
   "source": [
    "# Dictionary.filter_extremes(no_below=(abs)), no_above=(rel), keep_n=100000)\n",
    "# Filtramos las palabras que aparecen en más del 90% de los documentos y en menos de 7 documentos\n",
    "new_corpus_bow.diccionario.filter_extremes(no_below=best_results['no_below'], no_above=best_results['no_above'])"
   ]
  },
  {
   "cell_type": "code",
   "execution_count": 74,
   "id": "eae1e039-6963-4694-97a3-1673c123b6ec",
   "metadata": {
    "id": "mXuVyDh9r4OS"
   },
   "outputs": [
    {
     "data": {
      "text/plain": [
       "7039"
      ]
     },
     "execution_count": 74,
     "metadata": {},
     "output_type": "execute_result"
    }
   ],
   "source": [
    "# con esto reducimos el vocabulario, si queremos sacar el LDA con este vocab reducido hay q volver a calcular el BoW \n",
    "len(new_corpus_bow.diccionario.token2id)"
   ]
  },
  {
   "cell_type": "markdown",
   "id": "87970c7a-ff3c-4663-ad13-d8b6314fd62d",
   "metadata": {
    "id": "kQNAYjGEr4OS"
   },
   "source": [
    "**Recalculamos Corpus BoW y LDA y representamos con los mejores ajustes**\n",
    "\n",
    "Volvemos a calcular la matriz LDA del Corpus y la representamos gráficamente para ver si es más expresiva."
   ]
  },
  {
   "cell_type": "code",
   "execution_count": 78,
   "id": "290c3cd7-a598-402d-8f38-153e9a111fb3",
   "metadata": {
    "id": "VdtGFyv_r4OS"
   },
   "outputs": [
    {
     "data": {
      "text/html": [
       "\n",
       "<link rel=\"stylesheet\" type=\"text/css\" href=\"https://cdn.jsdelivr.net/gh/bmabey/pyLDAvis@3.3.1/pyLDAvis/js/ldavis.v1.0.0.css\">\n",
       "\n",
       "\n",
       "<div id=\"ldavis_el1310423430061977929751654373\"></div>\n",
       "<script type=\"text/javascript\">\n",
       "\n",
       "var ldavis_el1310423430061977929751654373_data = {\"mdsDat\": {\"x\": [-0.0013093044528325862, 0.06498630033182985, -0.012873196107589073, -0.008604934083251923, -0.02089693116557707, -0.0349444553426134, 0.012379604594855083, -0.01919692826378017, -0.0022996824573642428, 0.022759526946323466], \"y\": [-0.02008719302697484, -0.01847509340284009, -0.011503625019642515, 0.025343755604605823, -0.017623326921186063, -0.018870550435251147, -0.010256991258652806, 0.03615241955331419, -0.00932745819001315, 0.04464806309664048], \"topics\": [1, 2, 3, 4, 5, 6, 7, 8, 9, 10], \"cluster\": [1, 1, 1, 1, 1, 1, 1, 1, 1, 1], \"Freq\": [14.404169514818458, 13.386143816703507, 11.380162022934924, 10.672120028786695, 10.503366204925191, 10.428809012046198, 8.599284730459695, 7.754816862918049, 7.467145095345116, 5.403982711062173]}, \"tinfo\": {\"Term\": [\"saga\", \"libro\", \"terror\", \"pantalla\", \"bourne\", \"leone\", \"zombi\", \"asesino\", \"voldemort\", \"filme\", \"bond\", \"familia\", \"persona\", \"ratatouille\", \"alien\", \"medem\", \"guerra\", \"policia\", \"casa\", \"monstruo\", \"comedia\", \"exito\", \"chica\", \"imagen\", \"spiderman\", \"belen_rueda\", \"argumento\", \"vampiro\", \"mago\", \"neville\", \"villana\", \"zetaj\\u00f3n\", \"gusano\", \"barkin\", \"john_cusack\", \"pa\\u00f1ales\", \"survival\", \"campeonato\", \"eyre\", \"cerdito\", \"italiana\", \"allegado\", \"topo\", \"linealidad\", \"negrisimo\", \"abstraccion\", \"pierre\", \"estamento\", \"finney\", \"brusquedad\", \"philippe\", \"bong\", \"costner\", \"hormiga\", \"cusack\", \"resulton\", \"inglesa\", \"audrey_tautou\", \"escarpia\", \"asno\", \"eric_bana\", \"hirschbiegel\", \"alumno\", \"matt\", \"match_point\", \"fincher\", \"banderas_padr\", \"salon\", \"comedia\", \"policia\", \"departamento\", \"chiste\", \"allen\", \"maestra\", \"serie\", \"plano\", \"humor\", \"seven\", \"simpson\", \"dialogo\", \"relacion\", \"soldado\", \"realidad\", \"resultado\", \"problema\", \"gracia\", \"drama\", \"punto_vista\", \"cara\", \"cosa\", \"ritmo\", \"padre\", \"ni\\u00f1o\", \"hijo\", \"idea\", \"argumento\", \"mujer\", \"pantalla\", \"resto\", \"trama\", \"minuto\", \"principio\", \"mirada\", \"gracias\", \"musica\", \"tema\", \"camara\", \"grupo\", \"punto\", \"ningun\", \"australia\", \"escoba\", \"ocean\", \"frikismo\", \"redgrave\", \"jane_austen\", \"steven_soderbergh\", \"aldo\", \"exploracion\", \"george_romero\", \"jaime\", \"muertos_vivient\", \"little_miss\", \"palma_oro\", \"galardonado\", \"atemporal\", \"bollain\", \"naomi\", \"full\", \"rosas\", \"romero\", \"jerarquia\", \"pronostico\", \"posta\", \"florian_henckel\", \"cordero\", \"anzuelo\", \"trascendencia\", \"errol\", \"herido\", \"estrato\", \"desidia\", \"orgullo_prejuicio\", \"hundimiento\", \"clooney\", \"ultimos_dia\", \"vampiro\", \"guerra\", \"militar\", \"arte\", \"representacion\", \"politica\", \"filme\", \"john_carpenter\", \"mirada\", \"sociedad\", \"festival\", \"zombi\", \"cineasta\", \"narracion\", \"ciudad\", \"imagen\", \"relato\", \"acto\", \"conflicto\", \"amor\", \"mujer\", \"idea\", \"elemento\", \"sensacion\", \"persona\", \"camara\", \"joven\", \"realidad\", \"epoca\", \"palabra\", \"muerte\", \"estilo\", \"mano\", \"fotografia\", \"espa\\u00f1ol\", \"aspecto\", \"punto\", \"plano\", \"ningun\", \"trama\", \"nelson\", \"madrastra\", \"desparrame\", \"javier_fesser\", \"alumna\", \"mortadelo_filemon\", \"violeta\", \"teenager\", \"tinto\", \"simpsons\", \"pradera\", \"cronenberg\", \"paranormal\", \"belen_rueda\", \"venom\", \"prolifico\", \"fornicio\", \"incorreccion\", \"aitana\", \"pionero\", \"regenta\", \"john_rambo\", \"roedor\", \"\\u00f1o\\u00f1eria\", \"variaci\\u00f3n\", \"reitman\", \"studio\", \"suarez\", \"deform\", \"little\", \"jason_reitman\", \"penn\", \"abeja\", \"fesser\", \"grata_sorpresa\", \"spiderman\", \"zombi\", \"alex_iglesia\", \"gracias_fumar\", \"western\", \"james_stewart\", \"violencia\", \"espa\\u00f1ol\", \"padre\", \"espa\\u00f1a\", \"mujer\", \"orfanato\", \"pueblo\", \"minuto\", \"cosa\", \"hermano\", \"heroe\", \"familia\", \"cara\", \"punto\", \"adolescente\", \"ni\\u00f1o\", \"propuesta\", \"idea\", \"juego\", \"madre\", \"hijo\", \"actriz\", \"pantalla\", \"paso\", \"problema\", \"realidad\", \"joven\", \"serie\", \"amigo\", \"trama\", \"plano\", \"casa\", \"argumento\", \"terror\", \"gilliam\", \"balaguero\", \"richard_matheson\", \"fusion\", \"cell\", \"daniels\", \"tetrico\", \"stephen_king\", \"kurosawa\", \"byrne\", \"darkness\", \"carrie\", \"irrupcion\", \"arrebatadora\", \"buenos_air\", \"columbus\", \"radcliffe\", \"juan_carlos_fresnadillo\", \"winstone\", \"robert_carlyle\", \"poppins\", \"mcewan\", \"mangold\", \"christie\", \"claire\", \"sydney\", \"barroca\", \"escenica\", \"burocracia\", \"prince\", \"luke\", \"seta\", \"visualizacion\", \"batman\", \"danny_boyle\", \"harry_potter\", \"dragon\", \"jack\", \"videojuego\", \"mago\", \"eragon\", \"adaptacion\", \"libro\", \"habitacion\", \"novela\", \"mary\", \"guionista\", \"laura\", \"kubrick\", \"trama\", \"noche\", \"ni\\u00f1o\", \"paso\", \"argumento\", \"amor\", \"peter\", \"topico\", \"titulo\", \"terror\", \"padre\", \"imagen\", \"musica\", \"joven\", \"madre\", \"puesto\", \"casa\", \"pantalla\", \"punto\", \"mujer\", \"interpretacion\", \"metraje\", \"detalle\", \"saga\", \"comedia\", \"ningun\", \"realidad\", \"dialogo\", \"familia\", \"producto\", \"death\", \"ratatouille\", \"leitmotiv\", \"mansalva\", \"american_gangster\", \"jules\", \"desatino\", \"oposicion\", \"wes_anderson\", \"terry_gilliam\", \"pitt\", \"cassel\", \"macabro\", \"last\", \"arrugas\", \"busca_felicidad\", \"cientifica\", \"tejano\", \"paco_plaza\", \"retro\", \"ricardo_darin\", \"denzel_washington\", \"aguante\", \"bajos_fondo\", \"tracy\", \"steve_buscemi\", \"durango\", \"voces_off\", \"karen\", \"artes_marcial\", \"jaume_balaguero\", \"black\", \"will_smith\", \"pixar\", \"hostel\", \"ridley_scott\", \"quentin_tarantino\", \"animacion_digital\", \"bill_murray\", \"terror\", \"plano_secuencia\", \"vampiro\", \"proyecto\", \"problema\", \"reparto\", \"sangre\", \"amigo\", \"producto\", \"calidad\", \"extra\\u00f1o\", \"punto\", \"hora\", \"chica\", \"guionista\", \"argumento\", \"ritmo\", \"direccion\", \"casa\", \"mujer\", \"idea\", \"resto\", \"mano\", \"plano\", \"serie\", \"cosa\", \"realidad\", \"trama\", \"metraje\", \"pantalla\", \"paso\", \"imagen\", \"ni\\u00f1o\", \"joven\", \"comedia\", \"grupo\", \"hijo\", \"leone\", \"metralleta\", \"shaun\", \"carrey\", \"zombies_party\", \"liman\", \"corey\", \"waters\", \"cerdo\", \"myers\", \"detective_privado\", \"tormentosa\", \"yate\", \"soto\", \"semanas_despu\", \"shaun_of_the_dead\", \"van_gogh\", \"eduard\", \"cartoon\", \"gene\", \"humphrey_bogart\", \"vikingo\", \"vaso\", \"annie_hall\", \"slashers\", \"timador\", \"lex_luthor\", \"parodico\", \"tramposa\", \"pasito\", \"jessica_alba\", \"robot\", \"asesino\", \"jim_carrey\", \"bogart\", \"halloween\", \"chica\", \"casa\", \"terror\", \"remake\", \"filme\", \"exito\", \"woody_allen\", \"superman\", \"hermano\", \"humor\", \"coche\", \"amigo\", \"joven\", \"chico\", \"principio\", \"cosa\", \"titulo\", \"produccion\", \"familia\", \"serie\", \"gente\", \"ni\\u00f1o\", \"policia\", \"carrera\", \"comedia\", \"adolescente\", \"ritmo\", \"ningun\", \"pantalla\", \"hijo\", \"padre\", \"idea\", \"mujer\", \"tema\", \"imagen\", \"mariano_ozor\", \"schwarzenegger\", \"states\", \"barbero\", \"prodigioso\", \"estrafalario\", \"judy\", \"omega\", \"cook\", \"marilyn\", \"vaughn\", \"naipe\", \"baxter\", \"tolerancia\", \"mezclada\", \"party\", \"yimou\", \"times\", \"princip\", \"acertadisima\", \"inmortalidad\", \"celda\", \"casino_royale\", \"stephen_frears\", \"deporte\", \"monzon\", \"ninja\", \"mera_excusa\", \"poker\", \"auto\", \"bond\", \"eva_green\", \"james_bond\", \"daniel_craig\", \"conde\", \"arturo\", \"alatriste\", \"reina\", \"vestuario\", \"amor\", \"actriz\", \"libro\", \"reparto\", \"tema\", \"comedia\", \"guerra\", \"ritmo\", \"direccion\", \"resultado\", \"resto\", \"realidad\", \"pueblo\", \"interpretacion\", \"tal_vez\", \"imagen\", \"puesto\", \"familia\", \"fotografia\", \"punto\", \"musica\", \"trama\", \"ultima\", \"narracion\", \"drama\", \"paso\", \"aspecto\", \"estilo\", \"metraje\", \"pantalla\", \"dialogo\", \"plano\", \"joven\", \"materia_prima\", \"explosivo\", \"richard_gere\", \"hemoglobina\", \"benito\", \"hermione\", \"vincent_price\", \"capture\", \"gogo\", \"dando_pie\", \"virg\\u00e9n\", \"medem\", \"bombero\", \"verne\", \"inventor\", \"extracto\", \"ganancia\", \"previsibilidad\", \"partidas\", \"estaci\\u00f3n\", \"vulgar\", \"procedimiento\", \"paja\", \"sequia\", \"zemeckis\", \"john_huston\", \"alan_rickman\", \"hermandad\", \"simplones\", \"quincea\\u00f1era\", \"maria_antonieta\", \"depp\", \"trueba\", \"huston\", \"sofia_coppola\", \"saga\", \"alien\", \"story\", \"tru\\u00f1o\", \"pagina\", \"pirata\", \"imagen\", \"entrega\", \"trama\", \"lynch\", \"serie\", \"resultado\", \"persona\", \"pantalla\", \"elemento\", \"tema\", \"palabra\", \"metraje\", \"muerte\", \"libro\", \"punto\", \"trav\", \"producto\", \"efecto\", \"cosa\", \"secuela\", \"joven\", \"futuro\", \"relato\", \"resto\", \"gracias\", \"minuto\", \"dialogo\", \"exito\", \"mujer\", \"ritmo\", \"principio\", \"terror\", \"argumento\", \"apatow\", \"infectado\", \"matematico\", \"martha\", \"judd\", \"sauna\", \"stuart\", \"etura\", \"boris\", \"filial\", \"charlton_heston\", \"pistoletazo\", \"elena\", \"misero\", \"televisi\\u00f3n\", \"mujer_florero\", \"cangrejo\", \"jovovich\", \"tibio\", \"cuaja\", \"phil\", \"kasdan\", \"carre\", \"adrian\", \"lluis_homar\", \"drogata\", \"sustitucion\", \"edicion_festival\", \"desarraigo\", \"premiere\", \"chef\", \"capote\", \"borgia\", \"canadiense\", \"rocky\", \"jungla\", \"subterraneo\", \"monstruo\", \"virus\", \"leyenda\", \"nombre\", \"aspecto\", \"rambo\", \"dialogo\", \"secuencia\", \"frase\", \"argumento\", \"capitulo\", \"espa\\u00f1ol\", \"sala\", \"cineasta\", \"gente\", \"muerte\", \"joven\", \"titulo\", \"hijo\", \"comedia\", \"tema\", \"pantalla\", \"imagen\", \"padre\", \"mujer\", \"libro\", \"persona\", \"metraje\", \"novela\", \"gracias\", \"punto\", \"sensacion\", \"trama\", \"terror\", \"familia\", \"amor\", \"voldemort\", \"ultimatum_bourne\", \"powell\", \"rotulo\", \"colateral\", \"descorazonador\", \"alfombra\", \"chris_cooper\", \"pelos_escarpias\", \"chazz\", \"greengrass\", \"dreamgirls\", \"united\", \"batuta\", \"david_yat\", \"boba\", \"jennifer_hudson\", \"bloody\", \"neville\", \"corporacion\", \"bourne\", \"tyler\", \"ripley\", \"ewan_mcgregor\", \"blues\", \"desvelare\", \"paul_greengrass\", \"sunday\", \"pasajero\", \"vacuidad\", \"agonia\", \"peque\\u00f1a_miss_sunshine\", \"tommy_lee_j\\u00f3n\", \"avion\", \"coen\", \"rob_zombie\", \"score\", \"saga\", \"bardem\", \"pantalla\", \"espia\", \"goya\", \"persona\", \"alien\", \"familia\", \"musica\", \"libro\", \"puro\", \"mago\", \"lucha\", \"memoria\", \"argumento\", \"resto\", \"interpretacion\", \"exito\", \"toque\", \"imagen\", \"policia\", \"inter\", \"aventura\", \"idea\", \"narracion\", \"drama\", \"trama\", \"fotografia\", \"cosa\", \"metraje\", \"sensacion\", \"casa\", \"tema\", \"punto\", \"ritmo\", \"producto\", \"dialogo\", \"mujer\"], \"Freq\": [484.0, 561.0, 769.0, 945.0, 102.0, 73.0, 245.0, 372.0, 45.0, 668.0, 132.0, 711.0, 710.0, 61.0, 157.0, 75.0, 491.0, 438.0, 734.0, 308.0, 898.0, 539.0, 531.0, 937.0, 147.0, 66.0, 756.0, 158.0, 213.0, 60.0, 15.661459612541675, 16.52676142459932, 13.929337880452993, 12.302965392340603, 19.962487085789625, 7.941548399532611, 9.23010108250311, 8.270440440583178, 9.312717597139702, 7.932990953807413, 6.58096386115764, 6.5536287090094625, 13.668010195086255, 6.246209871121448, 9.133995902264163, 7.99374158310636, 17.252623572231435, 13.062264065414277, 8.085163518644046, 6.644431693246041, 10.05931428447938, 14.365349277658607, 12.089688323816079, 15.51878640444319, 10.092133831897096, 6.044995446498108, 9.202161449753744, 7.7925521533283355, 6.07434531473055, 10.531691208342107, 8.47057811358068, 16.0430966970402, 33.496323635702915, 25.516200954498185, 23.821140000421845, 35.074932289935134, 26.638124843412342, 21.83405637541289, 272.2451180762821, 140.1940246433822, 18.11696768705804, 80.13093250108878, 43.0711253411597, 92.6249611220591, 178.795800645347, 171.3322345926187, 141.13658815334708, 22.41399861609182, 33.39391843892623, 157.00920948118866, 106.02036700998671, 64.48614313485452, 166.94782299987932, 127.86071550882829, 135.40728549629557, 89.17475686784013, 98.59980261534686, 70.22415978429399, 112.50522963745993, 149.44747420020562, 139.12563445106161, 133.3079921175553, 132.80653763772224, 123.88870307758023, 140.0380147120305, 132.32051155503987, 153.72281355005987, 148.52849530007336, 122.71447155501114, 146.50769099769715, 113.02721672496075, 121.83838907151338, 99.94537774910974, 103.0230904011794, 113.94435389964869, 117.82987890403166, 110.000409364172, 104.95927005042563, 107.12363422014995, 103.57141942460665, 23.674389630503896, 11.394414220016683, 49.913234194436754, 14.150276585918471, 16.98739282199841, 30.13610356473034, 15.521375587753699, 12.761568075844886, 14.963458345276546, 27.169463796310698, 16.564682713902073, 28.957562408256884, 9.338615384594144, 15.382608408386066, 9.931340257854997, 13.844212965571826, 13.436161147101839, 9.768842297842072, 7.057804468149629, 33.529239656673575, 45.654202737454966, 11.662395628364935, 13.173382881426624, 7.509100686103187, 9.694208497582746, 15.241592972586169, 7.083884976289654, 29.23318470986324, 8.868546408812614, 10.018956241395571, 28.258571047919613, 16.652887963130713, 12.560748285420992, 19.77060591813545, 27.108510251340682, 17.826793236846612, 74.00152062111735, 182.9354349761399, 68.87470863791238, 113.21385129595852, 45.716200334079765, 90.70835206810736, 183.7453060892671, 23.245480007253665, 123.32454532435382, 113.87853321175251, 60.321891273782185, 73.87104595038488, 109.16486738337058, 101.65243893543561, 113.02840620531285, 165.34225991120974, 120.75807564019057, 74.92318594913962, 64.32702990704074, 139.69112840583188, 156.2929483060542, 139.68272709087674, 112.28863081312112, 109.44582730737132, 125.20674306495222, 116.37490717498031, 136.11254966832882, 132.52033713216747, 95.48862203484155, 98.98816581756861, 112.65314421053496, 109.46275708174544, 109.59972101030415, 103.90407936650654, 94.32874177351877, 98.51268464427451, 109.14046542666149, 103.5256289797899, 99.84759393055351, 103.07468668801206, 10.694987934158112, 20.804071574832403, 10.404542672218595, 12.944495072816848, 7.994256601479068, 28.98714015022067, 9.117105582748577, 11.882841831067429, 20.977882254464934, 24.35218453599868, 7.6406585253582255, 39.92128406305609, 7.541310223330419, 47.32924921740752, 9.097752057912198, 8.184964848738998, 5.170146418050781, 8.59990573079765, 11.89203166333225, 7.098225090208758, 7.0135376990526535, 31.356717924733953, 9.130920471966403, 8.233789340413782, 6.419566059036427, 13.679986180224507, 5.9947207993971805, 9.881353111678868, 8.988949931604722, 8.000493672664456, 16.4548571758602, 45.470013738491026, 26.211698557671, 13.653022617857815, 12.513116530479492, 68.14116987765769, 98.73638932416713, 34.430759430201405, 12.190145165765985, 47.51742771441495, 15.54687327021696, 113.81848178679827, 117.0959904606841, 146.00524465181618, 89.37734441386031, 164.4832056727844, 45.718756576794064, 83.86733633883911, 109.6615928460116, 131.76907406655081, 80.59524054059627, 74.64540098206945, 113.68053244763911, 92.28125657716211, 122.411317936159, 79.98267928964489, 110.17636480289686, 75.25160979524627, 109.11485083252535, 79.55600999069047, 79.42550231620174, 91.80687747722551, 82.1489769766952, 102.99801865585178, 85.58603660405733, 85.83359875366405, 93.43179613817777, 93.77788759096309, 90.21134299833511, 84.56325254880868, 90.12801298344432, 85.0455223077087, 83.81823798143239, 82.10958188484202, 81.36367764358893, 26.443448312211817, 29.13465156511902, 33.91766482134093, 12.892069954786205, 8.411425879152691, 10.645782912794425, 8.931365663003428, 27.030026549566863, 28.450980214054958, 9.655209172903728, 6.786653285243009, 10.248164701487072, 8.302033355691286, 6.746658029716863, 14.563162950397496, 9.974409022134983, 12.571484119290755, 13.813978894166075, 8.540864520402941, 13.405870267836535, 6.066553985071197, 9.402995735753661, 7.712904396779698, 12.576824357505616, 10.337391222271805, 11.601792767382067, 5.942736775451577, 5.469788943609082, 6.5750316040365915, 5.307613930589793, 22.420479903319745, 13.448559034643349, 12.078766002368818, 31.531520848944186, 19.672611060097584, 49.633626233016535, 26.266997250801747, 47.879275619491075, 40.03564211323764, 70.22715596382703, 18.46438192031657, 80.17333648091021, 129.63015297252707, 50.72787700870812, 114.46133449282718, 24.116519677012693, 114.60959408679307, 35.036387708932274, 25.757453338606375, 144.72793721950214, 75.28176794609394, 115.7664072298027, 106.6388748020473, 116.1439413110397, 114.4740676324583, 41.532546265525504, 66.28906020747625, 96.27108155196058, 104.36549864877506, 101.05361136993561, 114.02810364711671, 91.70652780158396, 104.44677085598587, 76.97339634578425, 72.203069444847, 93.82878271836452, 104.08416098127304, 99.05731550863653, 103.51569998208882, 78.15775767147409, 85.74511822384723, 73.67004721017572, 73.49202497446333, 88.01656842152309, 78.97352072610285, 83.26865901993642, 78.85455593041874, 77.82415409157315, 75.89586707526043, 28.613418349272322, 53.9198853486637, 10.083145792844162, 8.377923701012897, 43.86900144764941, 5.955766149781481, 6.765109213955538, 8.202919820842936, 13.536172565714004, 11.636826588124256, 14.938003182153164, 7.609040379750374, 10.529481660809703, 16.951172283519618, 5.291456750314701, 10.114154888803151, 6.839602605185113, 5.611324985489633, 13.903964079997614, 5.129726175248513, 10.759468507080552, 26.104956496275076, 5.202844944362477, 8.066792901664929, 10.296273613517066, 14.921896217782459, 6.174974251179994, 11.067565161451773, 4.403479641483273, 9.90922875625898, 11.408877213851701, 33.27536340043765, 44.60318970960387, 50.829619721358505, 39.15594884793175, 29.824037398685025, 28.098784002584267, 12.19966767577386, 12.45808224458213, 149.55762762700263, 23.217977623150084, 46.35225390134572, 73.54181122838187, 113.61983702252518, 88.95624232020798, 66.51671521557795, 100.25088968329273, 96.78232958459031, 75.08627639584293, 63.09721560081188, 113.64119402656004, 85.64433350550254, 83.51351382589931, 83.53362762668098, 98.76371162870275, 98.95202622518549, 78.88738569068143, 93.28534464113578, 107.47795250608209, 96.01793608803966, 87.6109045478948, 84.43332307728791, 90.1417977781087, 92.05763538403869, 92.89925329007652, 92.9371249447341, 95.94022821062069, 86.48050280468995, 93.97277464740054, 82.87382435937616, 92.2531866513101, 84.03526013934602, 86.8236345766665, 84.49355704231473, 76.80740688485862, 76.94244791971363, 68.8402519851065, 16.009816597782574, 26.888866625461876, 15.27121537176804, 15.869448905182198, 9.133118807127483, 11.340556142088461, 11.966213641392645, 19.73550804155816, 29.734762421820673, 10.126628715356839, 5.957059624948137, 8.163564985101926, 6.865520283910312, 25.14326685839284, 11.110436942047075, 10.704830267018519, 7.571386192463753, 6.756828781550187, 6.340865613863512, 12.500724290289511, 7.2295966947536225, 10.141350774217052, 13.07265013218669, 6.8874905065750305, 6.051435289454964, 8.196310303314656, 8.661292869482871, 13.308662156072815, 5.982315332638301, 14.185097550940027, 40.27512604215451, 139.05974667883956, 19.565529552043426, 15.410586799014999, 27.535703811825297, 140.63562130876863, 179.7904117202606, 183.01950012610112, 63.53834112358355, 156.7273602541403, 117.8927615266356, 38.07073560285853, 35.3525160690482, 89.68201650392928, 114.86619500858475, 67.25534810512924, 110.98487472521279, 131.55103757800777, 57.801102305623424, 114.12748806033864, 126.4193223651779, 107.69680283867774, 73.49414080931037, 111.67682768333596, 111.92696457834177, 88.15611134388712, 105.815663360917, 79.78030469285821, 74.40658271987606, 110.20726961536668, 74.77736868261435, 100.54962186192725, 88.29089480726466, 102.1131603266006, 86.04868438264026, 82.58964345595228, 77.98945771557933, 79.70755255829273, 74.38032550834353, 74.0320631431938, 19.610889473617764, 16.273890650081626, 16.50546306200595, 17.37997994792181, 10.725813525747796, 10.338070708602132, 14.447720002599144, 12.349046130629565, 9.1070339344169, 11.907695156170117, 10.744534246032135, 5.134943883626789, 15.125946166318986, 6.577070385448235, 7.480999150990242, 8.636658264754688, 9.579066721996634, 5.599735222979745, 6.884541939450802, 6.167492879988388, 5.844557509968762, 10.142238638948214, 17.735443521689255, 7.88273244139786, 15.497236394244672, 11.793679160533117, 8.871737326679833, 11.588401518749327, 9.366407444522427, 12.738888225592069, 68.51375548963753, 12.964558627492616, 31.579443267013776, 22.512911336447345, 11.034587998530062, 26.53020968451008, 29.933279605754855, 39.15378842005275, 38.368437043922604, 125.67681556483672, 86.06719877141855, 88.46724584638143, 76.94491385461285, 91.53779267460321, 100.93330256535866, 71.43576172333405, 89.6081597521357, 71.20446890097307, 76.86617640724839, 79.82550313546653, 89.00124934652887, 59.06749852240883, 66.42944356807445, 61.60224493778399, 89.33076292492629, 60.374092805357556, 76.71411109935164, 71.7356325251064, 82.7389269120054, 70.05962189259749, 82.25556996174663, 62.15486470481149, 55.72344398921819, 54.804511630929106, 63.59821912315618, 60.59988179721334, 62.10797533602111, 62.93628926123187, 66.06395403822403, 62.13186296567957, 61.0614244786204, 60.489553870647754, 13.944876937240423, 13.710409985054197, 16.63574386608505, 9.908991572349287, 24.1694593444552, 13.07660782899133, 13.184941566909716, 10.815393714404172, 7.553210480200285, 12.325947563796404, 12.728314032943445, 46.789154573358104, 16.832167022648676, 4.873937786895156, 5.131564880578414, 5.668347779640476, 6.971679235823514, 8.855796160138057, 5.364805515985271, 5.6016323223492925, 6.833323931655846, 6.081458242748252, 15.412507928755902, 5.17238851643146, 16.78348263603952, 8.962925890822875, 10.876552324192659, 4.69119994313992, 3.935871316956715, 3.2202983013864266, 19.335737169760137, 8.59343873450597, 10.73535272999557, 16.107510480740657, 13.48964605166509, 104.9253265891866, 43.155854523634694, 13.28576088321153, 14.904246898697776, 30.02067103449066, 34.312506381812646, 117.46767108131199, 56.32980987865787, 108.15406037772327, 23.933964028443597, 92.61603823606549, 77.5978412598245, 84.6178436800871, 98.78576224910672, 73.49569512743275, 79.53562999365339, 62.211914977827625, 76.96789334338816, 72.93824261124827, 67.3383624735436, 81.76230114070944, 57.47408135569314, 67.40928841495452, 51.228898668126355, 74.47481080752064, 45.86732414096435, 69.82453259141133, 43.99881823279235, 56.34977656802774, 60.51522798428149, 53.475139890404755, 56.10110516344359, 61.14063750168683, 54.08490014673189, 63.74278892812476, 56.76462363451006, 55.43367721006578, 53.73199854417717, 53.2609002597425, 12.042133916959054, 32.76505842294552, 24.743953394076296, 17.13188521943571, 8.43105367268106, 9.593123017776904, 10.990129236186593, 5.890846084043301, 7.125255055195436, 5.648862788987983, 18.725587024040635, 5.279540270120062, 6.96193628708596, 6.180253689876535, 5.919714419754721, 10.006607659336572, 6.232435741886426, 8.467774173883049, 4.954344752654785, 4.598996756033694, 4.710348291668586, 9.013300541178216, 4.10782314100519, 9.130900256440048, 6.672755094223272, 4.045144597320113, 5.493580658382729, 10.313612053961986, 4.08790698319847, 5.122157340852858, 15.797158935128914, 24.587177415242184, 16.797786966657192, 15.078608730495827, 34.84021513401493, 34.56251826170646, 7.9789731212778285, 60.56663169250063, 26.724867752056188, 45.81356253170996, 73.94396654264449, 75.96813123373293, 28.838923848185708, 87.23281483931152, 72.84692750367026, 58.20236744098063, 80.36931022723695, 34.5125628312292, 60.077852462832325, 50.87403427250761, 56.177940874649146, 59.80596594747883, 66.06206184478734, 76.59061414217656, 65.48572899219553, 64.62390302308054, 75.03773214108071, 67.03502657590225, 76.50205666415472, 75.598019679302, 65.44380167463775, 74.72777005653583, 55.5658456841795, 59.43310470299596, 59.12318626432493, 51.35308592804376, 51.83030445687863, 58.30876516993466, 52.416053906751465, 58.960812702170806, 56.28109789747054, 53.55774813039849, 53.683999276215594, 40.19825348763371, 25.976356090700857, 11.05141948664404, 8.077440186350685, 5.526419454206288, 5.193833535382262, 6.192776775542805, 7.322162211114493, 4.934874938628412, 4.134919972271176, 15.665366420772001, 6.567876745327718, 14.647084299325527, 3.8297847623365806, 7.408161600254791, 5.235177402402537, 3.9768279244783864, 3.3595122174931125, 25.71195473203344, 5.0944414379279825, 43.25297547982929, 3.217336349329509, 4.476016745993507, 7.087809063689707, 8.940707730253921, 5.528620150195824, 13.006278140600537, 4.399821040445076, 13.147848188103195, 5.253397427934201, 8.888394437563447, 15.156781086373998, 14.237380741759875, 22.911631024651065, 12.684887688882728, 13.603335500807951, 8.295854944834886, 70.39176692916514, 13.202337006230286, 95.38002582031233, 24.49436526300989, 16.55396491817668, 68.69734453148092, 26.547192644330103, 64.3130329934963, 53.32970133311921, 49.893271360687066, 30.408335720511744, 28.841161819259465, 34.7682130676352, 29.20582094498548, 52.46233395033168, 49.4793529693581, 41.58255098342231, 41.82266423914354, 29.760019269594938, 51.162984602943816, 36.998505679081745, 35.53640254943839, 36.85016722054511, 44.47642623290122, 34.26788959707771, 34.28098223291767, 44.34555515100995, 38.6023061896131, 41.560981300191386, 37.51941964900758, 34.776342662687824, 36.4049267905797, 35.952630709152885, 35.98711535373257, 34.15421345761196, 33.54212088712753, 33.82745427501858, 33.99049233645997], \"Total\": [484.0, 561.0, 769.0, 945.0, 102.0, 73.0, 245.0, 372.0, 45.0, 668.0, 132.0, 711.0, 710.0, 61.0, 157.0, 75.0, 491.0, 438.0, 734.0, 308.0, 898.0, 539.0, 531.0, 937.0, 147.0, 66.0, 756.0, 158.0, 213.0, 60.0, 16.54695057770798, 17.90552277803899, 15.116803238522499, 13.655078057851853, 23.75359084356286, 9.68373088003231, 11.79228914326441, 10.855875695246803, 12.229721866118997, 10.667343432443845, 8.971716766494819, 9.115233657827726, 19.173695387060395, 8.860838067790237, 12.986687865601612, 11.458530336259395, 24.77000864854189, 18.78065618185185, 11.870730518249117, 9.77231195137489, 14.860415466728037, 21.293402048648453, 17.99814512370695, 23.465092904789316, 15.549815175540488, 9.355985695238052, 14.302257562848583, 12.153390896482492, 9.490128428987836, 16.499749394710005, 13.31498709353536, 25.706534218762204, 56.054855911475144, 44.24975062317751, 41.62637569155643, 68.00937849423106, 50.614413743466656, 39.97450900569796, 898.1594327525405, 438.6944939875487, 33.61796320195886, 240.60645432825413, 106.58978082071992, 307.2585117732882, 793.6294633602523, 748.3131814004081, 574.6738510261105, 44.85302371641739, 79.91497625374359, 755.0883523437193, 428.8995965104612, 207.94513596851186, 848.0130987370677, 604.921208169376, 669.4534726496897, 352.6285282240739, 421.43714444133485, 248.13097818156362, 525.0337074032857, 840.8611923221334, 760.7954841772026, 731.8142555299783, 732.8740304495093, 657.2176762335216, 815.2031200711942, 756.9018544406341, 992.482699388558, 945.5043849285044, 683.545374024115, 944.9904731576244, 592.3670467717938, 696.1485556404696, 480.86360605253947, 513.9435444130439, 629.866043971686, 711.6921612887605, 624.8336403898303, 547.543672185772, 862.7327308839197, 639.4948857536898, 24.733722024512897, 12.271705591281034, 53.84967836464783, 15.57623152368423, 19.017257932011272, 35.86535751636694, 18.90570482253771, 15.698139712980526, 18.56518812372922, 34.337853875325315, 21.306175515954035, 37.7126888992167, 12.435708145494548, 20.542265360086542, 13.379896314950372, 19.323440954472375, 18.765223509251395, 13.860227740260989, 10.36203653521826, 50.17106212838883, 68.4808840145019, 17.508819859236176, 19.813828534832737, 11.443895948368498, 14.918625516744614, 23.905462997202527, 11.116369896086304, 46.73773939326132, 14.279225080221613, 16.194510246422727, 47.284478358138784, 27.501992446390844, 20.51120247288356, 33.485046213994465, 47.620133418743336, 30.142575232906392, 158.45509525051386, 491.6310864821147, 155.46345645986395, 335.0410333090986, 102.93585540793497, 254.53356366919678, 668.0912784016499, 42.655119217494885, 480.86360605253947, 445.738850469948, 174.96056541477506, 245.3911013966215, 455.46969055512517, 413.0289415467086, 500.24351807483004, 937.926120502778, 565.9259159768352, 265.83698892605975, 206.65489549174043, 781.4728572345374, 992.482699388558, 815.2031200711942, 568.550903415258, 551.2559888530061, 710.073082842074, 624.8336403898303, 865.1753368852981, 848.0130987370677, 442.18144179566866, 477.83374944292046, 646.2429166880526, 611.5672558520711, 642.4932097336794, 624.8129236437564, 482.480231342031, 563.3446154765672, 862.7327308839197, 748.3131814004081, 639.4948857536898, 944.9904731576244, 11.608218150723001, 24.207763901117755, 12.162310016000683, 15.56319160362511, 9.917517909015897, 36.07668148844606, 11.42583517469054, 14.90093079082008, 26.452620706639124, 30.874508428510435, 9.902285272590616, 55.2874039643465, 10.56164546684972, 66.86332611960371, 13.172105253656857, 11.860730974236509, 7.5028349069153055, 12.579909999709054, 17.4136561070187, 10.432542575582307, 10.409826128298048, 46.84657780749282, 13.657871553947185, 12.38170732318111, 9.704687542639642, 20.80792475513091, 9.237234733552244, 15.43897646060565, 14.175815717627351, 12.620251272721415, 26.055863372086385, 73.91376005905639, 43.28784837209688, 22.239873474921083, 20.67192493044678, 147.84765095103444, 245.3911013966215, 74.5582038957944, 20.244492257504383, 120.64163104387707, 28.315598032726783, 452.39602390589897, 482.480231342031, 731.8142555299783, 385.82822671769327, 992.482699388558, 146.3956024985266, 380.6634782761466, 592.3670467717938, 840.8611923221334, 390.1604612107167, 347.5943831056718, 711.9551120639956, 525.0337074032857, 862.7327308839197, 409.69252463150906, 732.8740304495093, 384.5793147880249, 815.2031200711942, 470.2682070192507, 469.1140024820908, 657.2176762335216, 533.9448241495472, 945.5043849285044, 644.3462938729347, 669.4534726496897, 848.0130987370677, 865.1753368852981, 793.6294633602523, 655.5287200088401, 944.9904731576244, 748.3131814004081, 734.3004764848436, 756.9018544406341, 769.2662642483358, 27.321070652971255, 30.218122359261212, 38.53903383234217, 15.215122021675654, 10.139659897525075, 13.173792824610464, 11.226680718245044, 34.1208947672405, 37.12703670772189, 12.844311318666865, 9.404924351661744, 14.425226169398782, 12.051902876731116, 9.89548851644618, 21.44016846044557, 14.700265621413457, 18.541511360771107, 20.60185855742741, 12.824573270853692, 20.645329445198406, 9.354019123096277, 14.533645072852424, 11.97932414824648, 19.630409865101612, 16.267185723737512, 18.622443849785913, 9.548755582842425, 9.00085523059529, 10.953684687127456, 8.986189983496105, 38.94954784957726, 23.323028958038467, 21.17101973464345, 62.16109172742142, 37.54526352645294, 111.59303908335949, 53.02732604011603, 114.32907899244356, 92.33647402713834, 213.78405444230947, 35.90719825826213, 281.50810780087954, 561.7882051731367, 152.25975511582348, 497.75583896178466, 53.67992401894721, 545.9833862776699, 93.10571401026864, 60.63309466249462, 944.9904731576244, 351.2040832669732, 732.8740304495093, 644.3462938729347, 756.9018544406341, 781.4728572345374, 140.57210245028824, 325.45114059233737, 653.9970658618187, 769.2662642483358, 731.8142555299783, 937.926120502778, 629.866043971686, 865.1753368852981, 469.1140024820908, 414.61090868175035, 734.3004764848436, 945.5043849285044, 862.7327308839197, 992.482699388558, 499.2860149984061, 714.1166269255586, 466.0903886469961, 484.4148367317276, 898.1594327525405, 639.4948857536898, 848.0130987370677, 755.0883523437193, 711.9551120639956, 624.295764092639, 29.50476085416022, 61.14568743683847, 11.959595142168586, 10.83730699994135, 57.20488223603639, 8.200688534528146, 9.797432584716741, 12.048910585323188, 19.899662491931643, 17.25147071418434, 22.25441649260661, 11.399534812134029, 15.872650825941644, 25.580890953008808, 7.9962193435593845, 15.63912469055676, 10.602789579905167, 8.751189388274783, 21.76451030457831, 8.034278076170013, 17.4078404228573, 43.11366238142107, 8.744817697025827, 13.690759428753479, 17.520597765909454, 25.490656161720192, 10.612935357269754, 19.03665003029183, 7.685095205640661, 17.340724001808383, 20.560576525261546, 63.66586826356377, 89.09096995429418, 109.76654380536422, 82.12136627070207, 63.04829542745179, 59.693324291812495, 22.167354179753087, 23.045127416875776, 769.2662642483358, 58.10487547037133, 158.45509525051386, 341.33425327775416, 669.4534726496897, 494.2070498697209, 327.8981775324562, 655.5287200088401, 624.295764092639, 421.4788316034294, 318.96549301227583, 862.7327308839197, 537.6725243650653, 531.1568293548621, 545.9833862776699, 756.9018544406341, 760.7954841772026, 520.0850873338616, 734.3004764848436, 992.482699388558, 815.2031200711942, 683.545374024115, 642.4932097336794, 748.3131814004081, 793.6294633602523, 840.8611923221334, 848.0130987370677, 944.9904731576244, 714.1166269255586, 945.5043849285044, 644.3462938729347, 937.926120502778, 732.8740304495093, 865.1753368852981, 898.1594327525405, 547.543672185772, 657.2176762335216, 73.07346619952399, 17.186759609292036, 29.22041964780361, 16.89870826066058, 17.9812433599604, 10.444028740180594, 15.293911207865062, 16.29696832522762, 26.90763214489847, 40.78829192329654, 13.935510554677434, 8.630605997370647, 11.976213446078221, 10.0984228742255, 37.745947189759505, 17.09373931795039, 16.675530008340125, 11.826494212351252, 10.583699158299398, 10.06206940672661, 20.178320739617288, 11.693662504980955, 16.47509956707285, 21.536338207838856, 11.365121429034495, 10.299187366660608, 13.984234143205617, 14.905501538256948, 22.91888620076951, 10.319774055318392, 24.50748831800233, 73.53051820592998, 372.7491637293271, 39.19249036218199, 30.276812181222855, 62.67975416396916, 531.1568293548621, 734.3004764848436, 769.2662642483358, 199.16243319719368, 668.0912784016499, 539.933759286, 109.68311231526195, 98.70837937316041, 390.1604612107167, 574.6738510261105, 260.81076265170043, 655.5287200088401, 865.1753368852981, 231.35299313649384, 696.1485556404696, 840.8611923221334, 653.9970658618187, 347.5355522192508, 711.9551120639956, 793.6294633602523, 520.1455105588869, 732.8740304495093, 438.6944939875487, 400.3149250387017, 898.1594327525405, 409.69252463150906, 760.7954841772026, 639.4948857536898, 945.5043849285044, 657.2176762335216, 731.8142555299783, 815.2031200711942, 992.482699388558, 711.6921612887605, 937.926120502778, 20.525084590866268, 17.274071211744307, 17.52838669312297, 18.8280221063516, 11.655512761757914, 12.191170342595163, 17.434193337126608, 15.048802385477723, 11.291166639662976, 15.765166032730727, 14.238322750547397, 7.583051963841966, 22.689243679693547, 10.138553964355138, 11.564528789461566, 13.943826983750697, 15.591407808860298, 9.218237600640158, 11.380910637816857, 10.209028044361784, 9.702226010917165, 16.89936744662989, 30.066065446080557, 13.41594963233791, 26.475817588353404, 20.160557052908313, 15.385450602942491, 20.394035842432086, 16.675495044122925, 23.040829649766216, 132.65505013708997, 23.89995988098803, 67.59404959824536, 48.277663437751706, 20.849185569927332, 70.3522163100744, 83.82957719215095, 125.52152054680914, 132.38724844145992, 781.4728572345374, 533.9448241495472, 561.7882051731367, 494.2070498697209, 711.6921612887605, 898.1594327525405, 491.6310864821147, 760.7954841772026, 520.0850873338616, 604.921208169376, 683.545374024115, 848.0130987370677, 380.6634782761466, 499.2860149984061, 428.59550936013824, 937.926120502778, 414.61090868175035, 711.9551120639956, 624.8129236437564, 862.7327308839197, 629.866043971686, 944.9904731576244, 493.318675608831, 413.0289415467086, 421.43714444133485, 644.3462938729347, 563.3446154765672, 611.5672558520711, 714.1166269255586, 945.5043849285044, 755.0883523437193, 748.3131814004081, 865.1753368852981, 15.002161771508455, 15.0332700351107, 19.76740028262571, 12.263440425329476, 30.621064267376106, 17.29964221719737, 17.652212705852907, 15.547121347665884, 11.082908198718702, 18.980726282066748, 20.399146101396443, 75.78990614755182, 27.832044594792897, 8.104555309560409, 8.546362107001107, 9.484384052826957, 11.688708854217596, 14.923128123312544, 9.093367612907398, 9.504030788709958, 11.630221206991349, 10.841824479690104, 27.832094141445566, 9.571350993692773, 32.11299994800849, 17.57748409883746, 21.36231504114984, 9.344397302202857, 7.87622792461575, 6.49490006626608, 40.31394753246793, 17.817958596343622, 22.658104415743217, 36.78171183907966, 30.034550635308044, 484.4148367317276, 157.1538903400952, 32.114118663448075, 39.488192166281316, 111.41111758104731, 139.99532387240149, 937.926120502778, 311.0093901484031, 944.9904731576244, 85.08319144658373, 793.6294633602523, 604.921208169376, 710.073082842074, 945.5043849285044, 568.550903415258, 711.6921612887605, 477.83374944292046, 714.1166269255586, 646.2429166880526, 561.7882051731367, 862.7327308839197, 438.84868690632425, 624.295764092639, 359.7099415434169, 840.8611923221334, 292.031965278651, 865.1753368852981, 304.4743132497304, 565.9259159768352, 683.545374024115, 513.9435444130439, 592.3670467717938, 755.0883523437193, 539.933759286, 992.482699388558, 760.7954841772026, 696.1485556404696, 769.2662642483358, 756.9018544406341, 12.93543386470826, 35.74374110298101, 27.194745352617957, 19.350134688971515, 11.13575278679293, 12.950164892613968, 15.438121552185391, 8.442989728738096, 10.415159529101116, 8.553736093781072, 28.59780392653344, 8.399761550692435, 11.213049343066958, 10.018287827710871, 9.655855516036365, 16.495310079506616, 10.41636638963548, 14.33756178482049, 8.643575842368167, 8.030030437043262, 8.504821084118559, 16.5531858977421, 7.600699521462378, 17.09253791329256, 12.502213744163615, 7.7679457894732735, 10.688358557389074, 20.105265479204185, 7.982240283835207, 10.125914775719426, 31.968348707585672, 52.83446144943807, 37.66270764793554, 33.71591556088956, 89.27465796038308, 96.43507193954154, 16.932159176461553, 308.7184267893637, 103.5884577803128, 239.35496915987812, 504.91357666902917, 563.3446154765672, 122.36542623968178, 755.0883523437193, 569.4704772737871, 423.15612171863785, 756.9018544406341, 177.34138055515942, 482.480231342031, 369.536691621866, 455.46969055512517, 520.1455105588869, 646.2429166880526, 865.1753368852981, 653.9970658618187, 657.2176762335216, 898.1594327525405, 711.6921612887605, 945.5043849285044, 937.926120502778, 731.8142555299783, 992.482699388558, 561.7882051731367, 710.073082842074, 714.1166269255586, 497.75583896178466, 513.9435444130439, 862.7327308839197, 551.2559888530061, 944.9904731576244, 769.2662642483358, 711.9551120639956, 781.4728572345374, 45.76702088695611, 31.30921833381944, 15.019474349972477, 12.50314824380796, 8.71091336707503, 9.875290652452218, 11.909513133760756, 14.35756371434279, 10.076844356890271, 8.461838272847743, 33.23285183081176, 13.985791862900456, 32.67715633169588, 8.595189144345895, 16.643255440653483, 11.892231905512372, 9.185632510496362, 7.8424309066521865, 60.615097396573795, 12.056085173576186, 102.76904833616791, 7.647902313612672, 10.64163123354713, 17.055593647181194, 21.758895694064172, 13.474970257875746, 31.77428814959501, 10.85301997033605, 32.700101812442256, 13.249594481910089, 22.744406070413795, 41.334721007870364, 38.756408992328886, 81.45597468856568, 40.019694087658664, 46.99355569891268, 24.519904392687423, 484.4148367317276, 48.98739734877354, 945.5043849285044, 126.41413075314856, 69.63282720762942, 710.073082842074, 157.1538903400952, 711.9551120639956, 629.866043971686, 561.7882051731367, 229.38962811581547, 213.78405444230947, 308.67349858237355, 233.6450062655926, 756.9018544406341, 683.545374024115, 499.2860149984061, 539.933759286, 256.8586605824041, 937.926120502778, 438.6944939875487, 422.557745652007, 488.42111749783885, 815.2031200711942, 413.0289415467086, 421.43714444133485, 944.9904731576244, 624.8129236437564, 840.8611923221334, 714.1166269255586, 551.2559888530061, 734.3004764848436, 711.6921612887605, 862.7327308839197, 760.7954841772026, 624.295764092639, 755.0883523437193, 992.482699388558], \"Category\": [\"Default\", \"Default\", \"Default\", \"Default\", \"Default\", \"Default\", \"Default\", \"Default\", \"Default\", \"Default\", \"Default\", \"Default\", \"Default\", \"Default\", \"Default\", \"Default\", \"Default\", \"Default\", \"Default\", \"Default\", \"Default\", \"Default\", \"Default\", \"Default\", \"Default\", \"Default\", \"Default\", \"Default\", \"Default\", \"Default\", \"Topic1\", \"Topic1\", \"Topic1\", \"Topic1\", \"Topic1\", \"Topic1\", \"Topic1\", \"Topic1\", \"Topic1\", \"Topic1\", \"Topic1\", \"Topic1\", \"Topic1\", \"Topic1\", \"Topic1\", \"Topic1\", \"Topic1\", \"Topic1\", \"Topic1\", \"Topic1\", \"Topic1\", \"Topic1\", \"Topic1\", \"Topic1\", \"Topic1\", \"Topic1\", \"Topic1\", \"Topic1\", \"Topic1\", \"Topic1\", \"Topic1\", \"Topic1\", \"Topic1\", \"Topic1\", \"Topic1\", \"Topic1\", \"Topic1\", \"Topic1\", \"Topic1\", \"Topic1\", \"Topic1\", \"Topic1\", \"Topic1\", \"Topic1\", \"Topic1\", \"Topic1\", \"Topic1\", \"Topic1\", \"Topic1\", \"Topic1\", \"Topic1\", \"Topic1\", \"Topic1\", \"Topic1\", \"Topic1\", \"Topic1\", \"Topic1\", \"Topic1\", \"Topic1\", \"Topic1\", \"Topic1\", \"Topic1\", \"Topic1\", \"Topic1\", \"Topic1\", \"Topic1\", \"Topic1\", \"Topic1\", \"Topic1\", \"Topic1\", \"Topic1\", \"Topic1\", \"Topic1\", \"Topic1\", \"Topic1\", \"Topic1\", \"Topic1\", \"Topic1\", \"Topic1\", \"Topic1\", \"Topic2\", \"Topic2\", \"Topic2\", \"Topic2\", \"Topic2\", \"Topic2\", \"Topic2\", \"Topic2\", \"Topic2\", \"Topic2\", \"Topic2\", \"Topic2\", \"Topic2\", \"Topic2\", \"Topic2\", \"Topic2\", \"Topic2\", \"Topic2\", \"Topic2\", \"Topic2\", \"Topic2\", \"Topic2\", \"Topic2\", \"Topic2\", \"Topic2\", \"Topic2\", \"Topic2\", \"Topic2\", \"Topic2\", \"Topic2\", \"Topic2\", \"Topic2\", \"Topic2\", \"Topic2\", \"Topic2\", \"Topic2\", \"Topic2\", \"Topic2\", \"Topic2\", \"Topic2\", \"Topic2\", \"Topic2\", \"Topic2\", \"Topic2\", \"Topic2\", \"Topic2\", \"Topic2\", \"Topic2\", \"Topic2\", \"Topic2\", \"Topic2\", \"Topic2\", \"Topic2\", \"Topic2\", \"Topic2\", \"Topic2\", \"Topic2\", \"Topic2\", \"Topic2\", \"Topic2\", \"Topic2\", \"Topic2\", \"Topic2\", \"Topic2\", \"Topic2\", \"Topic2\", \"Topic2\", \"Topic2\", \"Topic2\", \"Topic2\", \"Topic2\", \"Topic2\", \"Topic2\", \"Topic2\", \"Topic2\", \"Topic2\", \"Topic3\", \"Topic3\", \"Topic3\", \"Topic3\", \"Topic3\", \"Topic3\", \"Topic3\", \"Topic3\", \"Topic3\", \"Topic3\", \"Topic3\", \"Topic3\", \"Topic3\", \"Topic3\", \"Topic3\", \"Topic3\", \"Topic3\", \"Topic3\", \"Topic3\", \"Topic3\", \"Topic3\", \"Topic3\", \"Topic3\", \"Topic3\", \"Topic3\", \"Topic3\", \"Topic3\", \"Topic3\", \"Topic3\", \"Topic3\", \"Topic3\", \"Topic3\", \"Topic3\", \"Topic3\", \"Topic3\", \"Topic3\", \"Topic3\", \"Topic3\", \"Topic3\", \"Topic3\", \"Topic3\", \"Topic3\", \"Topic3\", \"Topic3\", \"Topic3\", \"Topic3\", \"Topic3\", \"Topic3\", \"Topic3\", \"Topic3\", \"Topic3\", \"Topic3\", \"Topic3\", \"Topic3\", \"Topic3\", \"Topic3\", \"Topic3\", \"Topic3\", \"Topic3\", \"Topic3\", \"Topic3\", \"Topic3\", \"Topic3\", \"Topic3\", \"Topic3\", \"Topic3\", \"Topic3\", \"Topic3\", \"Topic3\", \"Topic3\", \"Topic3\", \"Topic3\", \"Topic3\", \"Topic3\", \"Topic3\", \"Topic4\", \"Topic4\", \"Topic4\", \"Topic4\", \"Topic4\", \"Topic4\", \"Topic4\", \"Topic4\", \"Topic4\", \"Topic4\", \"Topic4\", \"Topic4\", \"Topic4\", \"Topic4\", \"Topic4\", \"Topic4\", \"Topic4\", \"Topic4\", \"Topic4\", \"Topic4\", \"Topic4\", \"Topic4\", \"Topic4\", \"Topic4\", \"Topic4\", \"Topic4\", \"Topic4\", \"Topic4\", \"Topic4\", \"Topic4\", \"Topic4\", \"Topic4\", \"Topic4\", \"Topic4\", \"Topic4\", \"Topic4\", \"Topic4\", \"Topic4\", \"Topic4\", \"Topic4\", \"Topic4\", \"Topic4\", \"Topic4\", \"Topic4\", \"Topic4\", \"Topic4\", \"Topic4\", \"Topic4\", \"Topic4\", \"Topic4\", \"Topic4\", \"Topic4\", \"Topic4\", \"Topic4\", \"Topic4\", \"Topic4\", \"Topic4\", \"Topic4\", \"Topic4\", \"Topic4\", \"Topic4\", \"Topic4\", \"Topic4\", \"Topic4\", \"Topic4\", \"Topic4\", \"Topic4\", \"Topic4\", \"Topic4\", \"Topic4\", \"Topic4\", \"Topic4\", \"Topic4\", \"Topic4\", \"Topic4\", \"Topic4\", \"Topic4\", \"Topic4\", \"Topic4\", \"Topic5\", \"Topic5\", \"Topic5\", \"Topic5\", \"Topic5\", \"Topic5\", \"Topic5\", \"Topic5\", \"Topic5\", \"Topic5\", \"Topic5\", \"Topic5\", \"Topic5\", \"Topic5\", \"Topic5\", \"Topic5\", \"Topic5\", \"Topic5\", \"Topic5\", \"Topic5\", \"Topic5\", \"Topic5\", \"Topic5\", \"Topic5\", \"Topic5\", \"Topic5\", \"Topic5\", \"Topic5\", \"Topic5\", \"Topic5\", \"Topic5\", \"Topic5\", \"Topic5\", \"Topic5\", \"Topic5\", \"Topic5\", \"Topic5\", \"Topic5\", \"Topic5\", \"Topic5\", \"Topic5\", \"Topic5\", \"Topic5\", \"Topic5\", \"Topic5\", \"Topic5\", \"Topic5\", \"Topic5\", \"Topic5\", \"Topic5\", \"Topic5\", \"Topic5\", \"Topic5\", \"Topic5\", \"Topic5\", \"Topic5\", \"Topic5\", \"Topic5\", \"Topic5\", \"Topic5\", \"Topic5\", \"Topic5\", \"Topic5\", \"Topic5\", \"Topic5\", \"Topic5\", \"Topic5\", \"Topic5\", \"Topic5\", \"Topic5\", \"Topic5\", \"Topic5\", \"Topic5\", \"Topic5\", \"Topic5\", \"Topic5\", \"Topic6\", \"Topic6\", \"Topic6\", \"Topic6\", \"Topic6\", \"Topic6\", \"Topic6\", \"Topic6\", \"Topic6\", \"Topic6\", \"Topic6\", \"Topic6\", \"Topic6\", \"Topic6\", \"Topic6\", \"Topic6\", \"Topic6\", \"Topic6\", \"Topic6\", \"Topic6\", \"Topic6\", \"Topic6\", \"Topic6\", \"Topic6\", \"Topic6\", \"Topic6\", \"Topic6\", \"Topic6\", \"Topic6\", \"Topic6\", \"Topic6\", \"Topic6\", \"Topic6\", \"Topic6\", \"Topic6\", \"Topic6\", \"Topic6\", \"Topic6\", \"Topic6\", \"Topic6\", \"Topic6\", \"Topic6\", \"Topic6\", \"Topic6\", \"Topic6\", \"Topic6\", \"Topic6\", \"Topic6\", \"Topic6\", \"Topic6\", \"Topic6\", \"Topic6\", \"Topic6\", \"Topic6\", \"Topic6\", \"Topic6\", \"Topic6\", \"Topic6\", \"Topic6\", \"Topic6\", \"Topic6\", \"Topic6\", \"Topic6\", \"Topic6\", \"Topic6\", \"Topic6\", \"Topic6\", \"Topic6\", \"Topic6\", \"Topic6\", \"Topic6\", \"Topic7\", \"Topic7\", \"Topic7\", \"Topic7\", \"Topic7\", \"Topic7\", \"Topic7\", \"Topic7\", \"Topic7\", \"Topic7\", \"Topic7\", \"Topic7\", \"Topic7\", \"Topic7\", \"Topic7\", \"Topic7\", \"Topic7\", \"Topic7\", \"Topic7\", \"Topic7\", \"Topic7\", \"Topic7\", \"Topic7\", \"Topic7\", \"Topic7\", \"Topic7\", \"Topic7\", \"Topic7\", \"Topic7\", \"Topic7\", \"Topic7\", \"Topic7\", \"Topic7\", \"Topic7\", \"Topic7\", \"Topic7\", \"Topic7\", \"Topic7\", \"Topic7\", \"Topic7\", \"Topic7\", \"Topic7\", \"Topic7\", \"Topic7\", \"Topic7\", \"Topic7\", \"Topic7\", \"Topic7\", \"Topic7\", \"Topic7\", \"Topic7\", \"Topic7\", \"Topic7\", \"Topic7\", \"Topic7\", \"Topic7\", \"Topic7\", \"Topic7\", \"Topic7\", \"Topic7\", \"Topic7\", \"Topic7\", \"Topic7\", \"Topic7\", \"Topic7\", \"Topic7\", \"Topic7\", \"Topic7\", \"Topic7\", \"Topic7\", \"Topic7\", \"Topic7\", \"Topic8\", \"Topic8\", \"Topic8\", \"Topic8\", \"Topic8\", \"Topic8\", \"Topic8\", \"Topic8\", \"Topic8\", \"Topic8\", \"Topic8\", \"Topic8\", \"Topic8\", \"Topic8\", \"Topic8\", \"Topic8\", \"Topic8\", \"Topic8\", \"Topic8\", \"Topic8\", \"Topic8\", \"Topic8\", \"Topic8\", \"Topic8\", \"Topic8\", \"Topic8\", \"Topic8\", \"Topic8\", \"Topic8\", \"Topic8\", \"Topic8\", \"Topic8\", \"Topic8\", \"Topic8\", \"Topic8\", \"Topic8\", \"Topic8\", \"Topic8\", \"Topic8\", \"Topic8\", \"Topic8\", \"Topic8\", \"Topic8\", \"Topic8\", \"Topic8\", \"Topic8\", \"Topic8\", \"Topic8\", \"Topic8\", \"Topic8\", \"Topic8\", \"Topic8\", \"Topic8\", \"Topic8\", \"Topic8\", \"Topic8\", \"Topic8\", \"Topic8\", \"Topic8\", \"Topic8\", \"Topic8\", \"Topic8\", \"Topic8\", \"Topic8\", \"Topic8\", \"Topic8\", \"Topic8\", \"Topic8\", \"Topic8\", \"Topic8\", \"Topic8\", \"Topic8\", \"Topic8\", \"Topic8\", \"Topic9\", \"Topic9\", \"Topic9\", \"Topic9\", \"Topic9\", \"Topic9\", \"Topic9\", \"Topic9\", \"Topic9\", \"Topic9\", \"Topic9\", \"Topic9\", \"Topic9\", \"Topic9\", \"Topic9\", \"Topic9\", \"Topic9\", \"Topic9\", \"Topic9\", \"Topic9\", \"Topic9\", \"Topic9\", \"Topic9\", \"Topic9\", \"Topic9\", \"Topic9\", \"Topic9\", \"Topic9\", \"Topic9\", \"Topic9\", \"Topic9\", \"Topic9\", \"Topic9\", \"Topic9\", \"Topic9\", \"Topic9\", \"Topic9\", \"Topic9\", \"Topic9\", \"Topic9\", \"Topic9\", \"Topic9\", \"Topic9\", \"Topic9\", \"Topic9\", \"Topic9\", \"Topic9\", \"Topic9\", \"Topic9\", \"Topic9\", \"Topic9\", \"Topic9\", \"Topic9\", \"Topic9\", \"Topic9\", \"Topic9\", \"Topic9\", \"Topic9\", \"Topic9\", \"Topic9\", \"Topic9\", \"Topic9\", \"Topic9\", \"Topic9\", \"Topic9\", \"Topic9\", \"Topic9\", \"Topic9\", \"Topic9\", \"Topic9\", \"Topic9\", \"Topic9\", \"Topic9\", \"Topic10\", \"Topic10\", \"Topic10\", \"Topic10\", \"Topic10\", \"Topic10\", \"Topic10\", \"Topic10\", \"Topic10\", \"Topic10\", \"Topic10\", \"Topic10\", \"Topic10\", \"Topic10\", \"Topic10\", \"Topic10\", \"Topic10\", \"Topic10\", \"Topic10\", \"Topic10\", \"Topic10\", \"Topic10\", \"Topic10\", \"Topic10\", \"Topic10\", \"Topic10\", \"Topic10\", \"Topic10\", \"Topic10\", \"Topic10\", \"Topic10\", \"Topic10\", \"Topic10\", \"Topic10\", \"Topic10\", \"Topic10\", \"Topic10\", \"Topic10\", \"Topic10\", \"Topic10\", \"Topic10\", \"Topic10\", \"Topic10\", \"Topic10\", \"Topic10\", \"Topic10\", \"Topic10\", \"Topic10\", \"Topic10\", \"Topic10\", \"Topic10\", \"Topic10\", \"Topic10\", \"Topic10\", \"Topic10\", \"Topic10\", \"Topic10\", \"Topic10\", \"Topic10\", \"Topic10\", \"Topic10\", \"Topic10\", \"Topic10\", \"Topic10\", \"Topic10\", \"Topic10\", \"Topic10\", \"Topic10\", \"Topic10\", \"Topic10\", \"Topic10\", \"Topic10\", \"Topic10\", \"Topic10\", \"Topic10\"], \"logprob\": [30.0, 29.0, 28.0, 27.0, 26.0, 25.0, 24.0, 23.0, 22.0, 21.0, 20.0, 19.0, 18.0, 17.0, 16.0, 15.0, 14.0, 13.0, 12.0, 11.0, 10.0, 9.0, 8.0, 7.0, 6.0, 5.0, 4.0, 3.0, 2.0, 1.0, -7.9677, -7.9139, -8.0849, -8.209, -7.725, -8.6468, -8.4964, -8.6062, -8.4875, -8.6478, -8.8347, -8.8389, -8.1038, -8.8869, -8.5069, -8.6402, -7.8709, -8.1491, -8.6288, -8.8251, -8.4104, -8.0541, -8.2265, -7.9768, -8.4071, -8.9196, -8.4994, -8.6657, -8.9148, -8.3645, -8.5823, -7.9436, -7.2074, -7.4796, -7.5483, -7.1614, -7.4365, -7.6354, -5.1122, -5.7758, -7.822, -6.3352, -6.956, -6.1903, -5.5326, -5.5753, -5.7691, -7.6092, -7.2105, -5.6626, -6.0552, -6.5524, -5.6012, -5.8679, -5.8106, -6.2283, -6.1278, -6.4672, -5.9959, -5.7119, -5.7835, -5.8262, -5.83, -5.8995, -5.777, -5.8336, -5.6837, -5.7181, -5.909, -5.7318, -5.9912, -5.9162, -6.1142, -6.0839, -5.9832, -5.9496, -6.0184, -6.0653, -6.0449, -6.0786, -7.4812, -8.2125, -6.7353, -7.9958, -7.8131, -7.2398, -7.9034, -8.0991, -7.94, -7.3435, -7.8383, -7.2797, -8.4114, -7.9123, -8.3499, -8.0177, -8.0476, -8.3664, -8.6914, -7.1332, -6.8245, -8.1892, -8.0674, -8.6295, -8.374, -7.9215, -8.6878, -7.2703, -8.4631, -8.3411, -7.3042, -7.833, -8.115, -7.6614, -7.3457, -7.7649, -6.3415, -5.4364, -6.4133, -5.9163, -6.8231, -6.1379, -5.432, -7.4995, -5.8308, -5.9104, -6.5459, -6.3433, -5.9527, -6.024, -5.9179, -5.5376, -5.8518, -6.3291, -6.4816, -5.7061, -5.5938, -5.7062, -5.9245, -5.9501, -5.8156, -5.8888, -5.7321, -5.7588, -6.0866, -6.0506, -5.9213, -5.95, -5.9487, -6.0021, -6.0988, -6.0554, -5.9529, -6.0058, -6.0419, -6.0101, -8.1135, -7.4481, -8.141, -7.9226, -8.4045, -7.1164, -8.2731, -8.0081, -7.4398, -7.2906, -8.4497, -6.7963, -8.4628, -6.6261, -8.2752, -8.3809, -8.8403, -8.3315, -8.0074, -8.5234, -8.5354, -7.0378, -8.2716, -8.375, -8.6239, -7.8673, -8.6923, -8.1926, -8.2872, -8.4037, -7.6826, -6.6662, -7.217, -7.8693, -7.9564, -6.2616, -5.8908, -6.9443, -7.9826, -6.6221, -7.7394, -5.7486, -5.7202, -5.4996, -5.9904, -5.3804, -6.6607, -6.054, -5.7858, -5.6022, -6.0938, -6.1705, -5.7498, -5.9584, -5.6758, -6.1014, -5.7811, -6.1624, -5.7908, -6.1068, -6.1084, -5.9635, -6.0747, -5.8485, -6.0337, -6.0308, -5.946, -5.9423, -5.9811, -6.0457, -5.982, -6.04, -6.0546, -6.0752, -6.0843, -7.144, -7.0471, -6.8951, -7.8624, -8.2894, -8.0538, -8.2294, -7.122, -7.0708, -8.1515, -8.504, -8.0919, -8.3025, -8.5099, -7.7405, -8.119, -7.8876, -7.7933, -8.2741, -7.8233, -8.6162, -8.178, -8.3761, -7.8871, -8.0832, -7.9678, -8.6368, -8.7197, -8.5357, -8.7498, -7.309, -7.8201, -7.9275, -6.968, -7.4398, -6.5143, -7.1507, -6.5503, -6.7292, -6.1673, -7.5031, -6.0348, -5.5543, -6.4925, -5.6788, -7.2361, -5.6775, -6.8626, -7.1703, -5.4441, -6.0978, -5.6674, -5.7495, -5.6642, -5.6786, -6.6925, -6.225, -5.8518, -5.7711, -5.8033, -5.6825, -5.9004, -5.7703, -6.0755, -6.1395, -5.8775, -5.7738, -5.8233, -5.7793, -6.0603, -5.9676, -6.1194, -6.1218, -5.9415, -6.0499, -5.9969, -6.0514, -6.0645, -6.0896, -7.0492, -6.4156, -8.0922, -8.2774, -6.6218, -8.6187, -8.4913, -8.2986, -7.7977, -7.9489, -7.6991, -8.3737, -8.0489, -7.5727, -8.737, -8.0891, -8.4803, -8.6783, -7.7709, -8.768, -8.0273, -7.1409, -8.7538, -8.3153, -8.0713, -7.7002, -8.5825, -7.999, -8.9207, -8.1096, -7.9687, -6.8982, -6.6052, -6.4746, -6.7355, -7.0077, -7.0673, -7.9016, -7.8807, -5.3954, -7.2581, -6.5668, -6.1052, -5.6702, -5.9149, -6.2056, -5.7954, -5.8306, -6.0844, -6.2584, -5.67, -5.9528, -5.978, -5.9778, -5.8103, -5.8084, -6.035, -5.8674, -5.7258, -5.8385, -5.9301, -5.9671, -5.9017, -5.8806, -5.8715, -5.8711, -5.8393, -5.9431, -5.86, -5.9857, -5.8785, -5.9718, -5.9392, -5.9664, -6.0617, -6.06, -6.1641, -7.6227, -7.1042, -7.67, -7.6315, -8.184, -7.9675, -7.9138, -7.4135, -7.0036, -8.0808, -8.6113, -8.2962, -8.4694, -7.1713, -7.988, -8.0252, -8.3715, -8.4854, -8.5489, -7.8701, -8.4177, -8.0793, -7.8254, -8.4662, -8.5956, -8.2922, -8.2371, -7.8075, -8.6071, -7.7437, -6.7002, -5.461, -7.4222, -7.6609, -7.0804, -5.4498, -5.2041, -5.1863, -6.2443, -5.3414, -5.6262, -6.7565, -6.8306, -5.8997, -5.6522, -6.1874, -5.6865, -5.5165, -6.3389, -5.6586, -5.5563, -5.7166, -6.0987, -5.6803, -5.6781, -5.9168, -5.7342, -6.0166, -6.0864, -5.6936, -6.0814, -5.7853, -5.9153, -5.7698, -5.941, -5.982, -6.0394, -6.0176, -6.0867, -6.0914, -7.2269, -7.4135, -7.3993, -7.3477, -7.8304, -7.8672, -7.5325, -7.6895, -7.994, -7.7258, -7.8286, -8.567, -7.4866, -8.3194, -8.1907, -8.047, -7.9435, -8.4803, -8.2738, -8.3837, -8.4375, -7.8863, -7.3275, -8.1384, -7.4624, -7.7355, -8.0202, -7.753, -7.9659, -7.6584, -5.976, -7.6408, -6.7505, -7.0889, -7.802, -6.9247, -6.8041, -6.5355, -6.5558, -5.3693, -5.7479, -5.7204, -5.8599, -5.6863, -5.5886, -5.9342, -5.7076, -5.9375, -5.861, -5.8232, -5.7144, -6.1244, -6.0069, -6.0823, -5.7107, -6.1025, -5.8629, -5.93, -5.7873, -5.9537, -5.7932, -6.0734, -6.1826, -6.1993, -6.0504, -6.0987, -6.0742, -6.0609, -6.0124, -6.0738, -6.0912, -6.1006, -7.4646, -7.4815, -7.2881, -7.8062, -6.9146, -7.5288, -7.5206, -7.7187, -8.0777, -7.588, -7.5558, -6.254, -7.2764, -8.5158, -8.4643, -8.3648, -8.1578, -7.9186, -8.4198, -8.3766, -8.1779, -8.2944, -7.3645, -8.4563, -7.2793, -7.9066, -7.7131, -8.554, -8.7295, -8.9302, -7.1377, -7.9487, -7.7261, -7.3204, -7.4977, -5.4464, -6.3348, -7.513, -7.398, -6.6978, -6.5642, -5.3335, -6.0684, -5.4161, -6.9244, -5.5712, -5.7481, -5.6615, -5.5067, -5.8024, -5.7235, -5.9691, -5.7563, -5.8101, -5.8899, -5.6959, -6.0483, -5.8889, -6.1634, -5.7892, -6.2739, -5.8537, -6.3155, -6.0681, -5.9968, -6.1205, -6.0725, -5.9865, -6.1091, -5.9448, -6.0608, -6.0845, -6.1157, -6.1245, -7.5735, -6.5725, -6.8533, -7.2209, -7.9299, -7.8008, -7.6649, -8.2885, -8.0982, -8.3304, -7.132, -8.398, -8.1214, -8.2405, -8.2836, -7.7586, -8.2321, -7.9256, -8.4616, -8.536, -8.5121, -7.8632, -8.649, -7.8502, -8.1638, -8.6643, -8.3583, -7.7284, -8.6538, -8.4283, -7.302, -6.8596, -7.2406, -7.3486, -6.5111, -6.5191, -7.9851, -5.9581, -6.7763, -6.2373, -5.7586, -5.7316, -6.7001, -5.5933, -5.7735, -5.9979, -5.6752, -6.5205, -5.9662, -6.1325, -6.0333, -5.9708, -5.8713, -5.7234, -5.88, -5.8933, -5.7439, -5.8567, -5.7245, -5.7364, -5.8807, -5.748, -6.0443, -5.977, -5.9822, -6.1231, -6.1139, -5.9961, -6.1027, -5.985, -6.0315, -6.0811, -6.0788, -6.0447, -6.4813, -7.3359, -7.6494, -8.0289, -8.091, -7.9151, -7.7476, -8.1422, -8.319, -6.987, -7.8563, -7.0542, -8.3957, -7.7359, -8.0831, -8.358, -8.5267, -6.4915, -8.1103, -5.9714, -8.5699, -8.2398, -7.7801, -7.5479, -8.0286, -7.1731, -8.2569, -7.1622, -8.0796, -7.5537, -7.02, -7.0826, -6.6068, -7.1981, -7.1282, -7.6227, -5.4844, -7.1581, -5.1806, -6.54, -6.9319, -5.5088, -6.4596, -5.5747, -5.762, -5.8286, -6.3238, -6.3767, -6.1898, -6.3641, -5.7784, -5.8369, -6.0108, -6.0051, -6.3453, -5.8035, -6.1276, -6.1679, -6.1316, -5.9435, -6.2043, -6.2039, -5.9465, -6.0852, -6.0113, -6.1136, -6.1896, -6.1438, -6.1563, -6.1553, -6.2076, -6.2257, -6.2172, -6.2124], \"loglift\": [30.0, 29.0, 28.0, 27.0, 26.0, 25.0, 24.0, 23.0, 22.0, 21.0, 20.0, 19.0, 18.0, 17.0, 16.0, 15.0, 14.0, 13.0, 12.0, 11.0, 10.0, 9.0, 8.0, 7.0, 6.0, 5.0, 4.0, 3.0, 2.0, 1.0, 1.8827, 1.8575, 1.8558, 1.8334, 1.7638, 1.7393, 1.6927, 1.6656, 1.6652, 1.6415, 1.6278, 1.6077, 1.5992, 1.588, 1.5857, 1.5776, 1.576, 1.5746, 1.5536, 1.5519, 1.5475, 1.5441, 1.5397, 1.5242, 1.5054, 1.5009, 1.4967, 1.4932, 1.4915, 1.4887, 1.4854, 1.4662, 1.4228, 1.3871, 1.3795, 1.2755, 1.2958, 1.3329, 0.744, 0.7969, 1.3194, 0.8382, 1.0315, 0.7385, 0.4473, 0.4634, 0.5336, 1.2439, 1.0651, 0.3671, 0.5401, 0.7668, 0.3124, 0.3835, 0.3395, 0.5628, 0.4851, 0.6754, 0.3972, 0.2102, 0.2387, 0.2348, 0.2296, 0.269, 0.1761, 0.1936, 0.0726, 0.0867, 0.2202, 0.0736, 0.2812, 0.1948, 0.3667, 0.3305, 0.2279, 0.1392, 0.2007, 0.2858, -0.1485, 0.1172, 1.9672, 1.9368, 1.935, 1.9149, 1.8981, 1.8369, 1.8137, 1.8038, 1.7953, 1.7768, 1.7592, 1.7468, 1.7245, 1.7217, 1.7129, 1.6775, 1.6769, 1.6611, 1.6269, 1.6079, 1.6055, 1.6046, 1.6028, 1.5896, 1.5799, 1.5609, 1.5604, 1.5417, 1.5347, 1.5308, 1.4962, 1.5093, 1.5206, 1.484, 1.4475, 1.4857, 1.2496, 1.0224, 1.1968, 0.926, 1.1993, 0.9792, 0.7201, 1.4039, 0.6502, 0.6463, 0.9461, 0.8104, 0.5825, 0.609, 0.5235, 0.2753, 0.4663, 0.7445, 0.8439, 0.2892, 0.1625, 0.2469, 0.3889, 0.3942, 0.2755, 0.3303, 0.1615, 0.1548, 0.4782, 0.4367, 0.2641, 0.2905, 0.2424, 0.217, 0.3788, 0.2672, -0.0565, 0.0329, 0.1539, -0.2048, 2.0914, 2.0218, 2.0172, 1.9891, 1.9577, 1.9545, 1.9476, 1.947, 1.9414, 1.936, 1.914, 1.8477, 1.8365, 1.8278, 1.8032, 1.8024, 1.8009, 1.7929, 1.7919, 1.7882, 1.7784, 1.7718, 1.7706, 1.7653, 1.76, 1.7539, 1.7409, 1.7271, 1.7178, 1.7175, 1.7137, 1.6875, 1.6716, 1.6854, 1.6713, 1.3987, 1.2629, 1.4007, 1.666, 1.2416, 1.5737, 0.7933, 0.7574, 0.5614, 0.7108, 0.3759, 1.0095, 0.6606, 0.4866, 0.3199, 0.5962, 0.635, 0.3387, 0.4347, 0.2206, 0.5397, 0.2784, 0.542, 0.1623, 0.3965, 0.3973, 0.205, 0.3015, -0.0437, 0.1546, 0.1192, -0.0324, -0.0487, -0.0012, 0.1254, -0.1766, -0.0013, 0.003, -0.0479, -0.0732, 2.2049, 2.201, 2.1098, 2.0719, 2.0507, 2.0245, 2.0088, 2.0046, 1.9714, 1.9521, 1.9113, 1.8957, 1.8648, 1.8545, 1.8508, 1.8497, 1.849, 1.8378, 1.831, 1.8057, 1.8045, 1.8021, 1.7972, 1.7923, 1.7842, 1.7643, 1.7633, 1.7395, 1.7271, 1.711, 1.6852, 1.687, 1.6764, 1.5588, 1.5912, 1.4273, 1.535, 1.3671, 1.4019, 1.1243, 1.5724, 0.9816, 0.7711, 1.1384, 0.7677, 1.4374, 0.6765, 1.2602, 1.3814, 0.3612, 0.6974, 0.3921, 0.4387, 0.3631, 0.3167, 1.0183, 0.6463, 0.3216, 0.24, 0.2577, 0.1303, 0.3106, 0.1233, 0.4301, 0.4897, 0.1801, 0.031, 0.0731, -0.023, 0.3831, 0.1179, 0.3928, 0.3518, -0.0853, 0.146, -0.0833, -0.0217, 0.024, 0.1303, 2.2228, 2.1277, 2.0828, 1.9961, 1.988, 1.9336, 1.8831, 1.869, 1.8681, 1.8598, 1.8548, 1.8492, 1.8431, 1.842, 1.8406, 1.8176, 1.8151, 1.8091, 1.8054, 1.8048, 1.7723, 1.7518, 1.7342, 1.7245, 1.7219, 1.718, 1.7119, 1.7111, 1.6966, 1.6939, 1.6645, 1.6046, 1.5616, 1.4836, 1.5128, 1.5049, 1.5, 1.6563, 1.6384, 0.6157, 1.3362, 1.0243, 0.7185, 0.4799, 0.5387, 0.6582, 0.3757, 0.3893, 0.5283, 0.6331, 0.2264, 0.4164, 0.4034, 0.3761, 0.217, 0.2137, 0.3675, 0.1902, 0.0306, 0.1146, 0.1991, 0.2241, 0.137, 0.0993, 0.0506, 0.0425, -0.034, 0.1423, -0.0552, 0.2026, -0.0657, 0.0877, -0.0456, -0.1102, 0.2893, 0.1085, 2.2009, 2.1897, 2.1774, 2.1593, 2.1357, 2.1265, 1.9615, 1.9517, 1.9506, 1.9445, 1.9413, 1.8899, 1.8774, 1.8747, 1.8543, 1.8298, 1.8174, 1.8146, 1.8118, 1.7988, 1.7818, 1.7797, 1.7754, 1.7614, 1.7598, 1.7288, 1.7264, 1.7177, 1.7171, 1.7153, 1.7138, 1.6586, 1.2746, 1.5659, 1.5853, 1.438, 0.9317, 0.8535, 0.8248, 1.1181, 0.8107, 0.7389, 1.2024, 1.2338, 0.7903, 0.6506, 0.9053, 0.4845, 0.3771, 0.8737, 0.4524, 0.3658, 0.4568, 0.7069, 0.4082, 0.3018, 0.4856, 0.3253, 0.5561, 0.5779, 0.1626, 0.5597, 0.2369, 0.2806, 0.035, 0.2275, 0.079, -0.0863, -0.2612, 0.0021, -0.2786, 2.4079, 2.3938, 2.3934, 2.3735, 2.3704, 2.2886, 2.2656, 2.2558, 2.2385, 2.1729, 2.172, 2.0636, 2.048, 2.0207, 2.0179, 1.9745, 1.9664, 1.955, 1.9508, 1.9495, 1.9466, 1.9429, 1.9257, 1.9217, 1.9179, 1.9173, 1.9029, 1.8883, 1.8767, 1.8609, 1.7928, 1.8418, 1.6925, 1.6906, 1.8172, 1.4783, 1.4237, 1.2885, 1.215, 0.626, 0.6283, 0.605, 0.5936, 0.4026, 0.2676, 0.5246, 0.3146, 0.4651, 0.3905, 0.306, 0.1992, 0.5903, 0.4365, 0.5137, 0.1022, 0.5267, 0.2256, 0.289, 0.1091, 0.2573, 0.0121, 0.382, 0.4504, 0.4136, 0.1378, 0.2239, 0.1663, 0.0246, -0.2076, -0.0441, -0.0525, -0.207, 2.4838, 2.4647, 2.3844, 2.3437, 2.3203, 2.277, 2.2651, 2.194, 2.1734, 2.1251, 2.0852, 2.0745, 2.054, 2.0483, 2.0468, 2.0421, 2.0401, 2.035, 2.0292, 2.0282, 2.0251, 1.9787, 1.9658, 1.9414, 1.908, 1.8833, 1.8818, 1.8678, 1.8631, 1.8553, 1.8221, 1.8276, 1.8099, 1.7311, 1.7564, 1.0272, 1.2644, 1.6743, 1.5825, 1.2455, 1.1508, 0.4793, 0.8483, 0.3892, 1.2885, 0.4087, 0.5033, 0.4296, 0.2981, 0.511, 0.3654, 0.5181, 0.3292, 0.3753, 0.4355, 0.2006, 0.524, 0.331, 0.6079, 0.1329, 0.7057, 0.0399, 0.6224, 0.25, 0.1325, 0.294, 0.1999, 0.0432, 0.256, -0.1885, -0.0386, 0.0265, -0.1046, -0.0972, 2.5231, 2.5076, 2.5002, 2.4729, 2.3164, 2.2946, 2.2548, 2.2347, 2.215, 2.1797, 2.1712, 2.1303, 2.118, 2.1116, 2.1054, 2.0948, 2.081, 2.068, 2.0381, 2.0373, 2.0038, 1.9868, 1.9793, 1.9677, 1.9668, 1.9422, 1.9291, 1.9271, 1.9255, 1.9131, 1.8897, 1.8297, 1.7872, 1.79, 1.6537, 1.5686, 1.8423, 0.966, 1.2398, 0.9413, 0.6736, 0.5911, 1.1494, 0.4364, 0.5383, 0.6108, 0.3521, 0.9579, 0.5114, 0.6118, 0.5019, 0.4317, 0.3141, 0.1702, 0.2934, 0.2752, 0.1123, 0.2322, 0.0803, 0.0764, 0.1803, 0.0083, 0.2811, 0.1141, 0.1032, 0.3233, 0.3005, -0.0997, 0.2417, -0.1796, -0.0204, 0.0074, -0.0834, 2.7883, 2.7313, 2.6112, 2.4811, 2.463, 2.2755, 2.2641, 2.2447, 2.2041, 2.2019, 2.1659, 2.1622, 2.1156, 2.1096, 2.1086, 2.0975, 2.0809, 2.0703, 2.0604, 2.0566, 2.0526, 2.0522, 2.052, 2.0399, 2.0286, 2.0271, 2.0248, 2.0152, 2.0069, 1.9929, 1.9785, 1.9148, 1.9166, 1.6496, 1.7691, 1.6783, 1.8343, 0.9892, 1.6069, 0.6242, 1.2769, 1.4814, 0.5824, 1.1397, 0.5138, 0.449, 0.4968, 0.8973, 0.9149, 0.7345, 0.8386, 0.2489, 0.2923, 0.4325, 0.36, 0.7627, 0.0094, 0.4451, 0.4423, 0.3337, 0.0096, 0.4287, 0.409, -0.1411, 0.1339, -0.0892, -0.0282, 0.1548, -0.0862, -0.0674, -0.2589, -0.1854, -0.0058, -0.1875, -0.4561]}, \"token.table\": {\"Topic\": [3, 4, 8, 1, 2, 2, 7, 1, 2, 3, 4, 5, 6, 7, 8, 9, 10, 1, 2, 3, 4, 5, 6, 7, 8, 9, 10, 1, 2, 3, 4, 5, 6, 7, 8, 9, 10, 1, 2, 3, 4, 5, 6, 7, 8, 9, 10, 1, 2, 3, 5, 6, 8, 9, 10, 1, 2, 3, 4, 5, 6, 7, 8, 9, 10, 1, 5, 3, 5, 9, 1, 2, 5, 6, 7, 8, 1, 2, 3, 4, 5, 6, 7, 8, 9, 10, 1, 2, 9, 2, 3, 4, 5, 6, 7, 8, 9, 10, 1, 3, 5, 6, 10, 1, 2, 3, 4, 5, 6, 7, 8, 9, 10, 1, 2, 4, 1, 2, 3, 4, 5, 6, 7, 8, 9, 10, 3, 5, 1, 2, 3, 4, 5, 6, 7, 8, 9, 10, 1, 4, 5, 8, 1, 2, 3, 4, 5, 6, 7, 8, 9, 10, 1, 2, 3, 4, 5, 6, 7, 8, 9, 10, 1, 5, 6, 8, 9, 1, 2, 6, 2, 6, 7, 8, 9, 1, 2, 3, 4, 5, 6, 7, 8, 9, 10, 1, 4, 6, 1, 3, 5, 1, 2, 3, 4, 5, 6, 7, 8, 9, 10, 5, 6, 8, 1, 2, 3, 4, 5, 6, 7, 10, 1, 2, 3, 4, 5, 6, 7, 8, 9, 10, 1, 2, 3, 1, 2, 3, 4, 5, 6, 7, 8, 9, 10, 2, 4, 1, 4, 7, 2, 2, 3, 4, 6, 7, 8, 9, 10, 1, 2, 3, 4, 5, 6, 7, 8, 9, 10, 1, 2, 3, 4, 5, 6, 7, 8, 9, 10, 2, 3, 5, 6, 4, 1, 2, 3, 4, 5, 6, 7, 8, 9, 10, 3, 7, 1, 2, 3, 4, 5, 6, 7, 8, 9, 10, 1, 2, 4, 7, 1, 2, 3, 4, 5, 6, 7, 8, 9, 10, 3, 5, 6, 8, 10, 2, 5, 7, 3, 4, 9, 8, 9, 1, 2, 3, 5, 6, 7, 10, 1, 2, 3, 4, 5, 6, 7, 8, 10, 2, 4, 6, 7, 10, 1, 2, 3, 6, 8, 9, 10, 3, 6, 10, 1, 2, 3, 4, 5, 6, 7, 8, 9, 10, 1, 2, 9, 1, 2, 3, 8, 10, 1, 2, 3, 4, 5, 6, 7, 8, 9, 10, 1, 3, 4, 5, 8, 9, 10, 1, 2, 3, 4, 6, 7, 8, 9, 10, 5, 6, 9, 1, 2, 5, 6, 7, 9, 10, 1, 7, 4, 8, 1, 4, 5, 10, 1, 5, 6, 8, 10, 1, 4, 7, 9, 1, 2, 3, 4, 5, 6, 7, 8, 9, 10, 1, 2, 3, 4, 5, 6, 7, 8, 9, 10, 1, 1, 2, 3, 4, 6, 8, 9, 1, 5, 9, 1, 2, 3, 4, 5, 6, 7, 8, 9, 10, 1, 2, 3, 4, 5, 6, 8, 9, 10, 3, 5, 8, 10, 1, 2, 3, 4, 5, 6, 7, 8, 9, 10, 1, 4, 5, 7, 9, 1, 2, 3, 4, 5, 6, 7, 8, 9, 10, 6, 8, 3, 4, 1, 5, 6, 10, 1, 2, 3, 4, 5, 6, 7, 8, 9, 10, 1, 2, 3, 5, 6, 7, 8, 9, 10, 4, 5, 8, 2, 5, 6, 7, 9, 10, 4, 1, 3, 8, 1, 2, 3, 4, 5, 6, 7, 9, 10, 3, 4, 7, 9, 2, 6, 10, 1, 2, 3, 5, 9, 10, 1, 2, 3, 4, 5, 6, 7, 8, 9, 10, 1, 2, 3, 4, 5, 6, 7, 8, 9, 10, 1, 2, 3, 4, 5, 6, 7, 8, 9, 10, 5, 9, 10, 2, 3, 4, 9, 3, 5, 6, 9, 1, 2, 3, 4, 5, 6, 7, 8, 9, 10, 1, 2, 3, 4, 5, 6, 7, 8, 9, 10, 3, 4, 5, 6, 7, 9, 1, 2, 3, 4, 5, 6, 7, 8, 9, 10, 1, 2, 3, 4, 5, 6, 7, 8, 9, 10, 1, 2, 3, 4, 5, 6, 7, 9, 10, 7, 10, 4, 5, 10, 1, 2, 3, 4, 5, 6, 7, 8, 9, 10, 1, 2, 5, 6, 7, 8, 9, 10, 1, 2, 3, 4, 5, 6, 7, 8, 9, 10, 5, 7, 1, 2, 3, 4, 5, 8, 6, 8, 10, 3, 6, 10, 1, 2, 3, 4, 5, 6, 7, 8, 9, 10, 1, 9, 1, 2, 3, 5, 6, 8, 9, 10, 1, 2, 9, 1, 5, 6, 9, 1, 5, 8, 1, 2, 3, 4, 5, 6, 7, 8, 9, 10, 1, 4, 7, 1, 2, 3, 4, 5, 6, 7, 8, 9, 10, 1, 3, 4, 4, 10, 5, 1, 3, 5, 6, 9, 1, 2, 3, 4, 5, 7, 8, 10, 1, 2, 4, 5, 6, 7, 8, 10, 1, 3, 4, 5, 6, 7, 8, 9, 1, 2, 3, 4, 5, 6, 7, 8, 10, 1, 2, 8, 9, 10, 1, 5, 6, 5, 6, 10, 1, 2, 3, 4, 5, 7, 9, 3, 1, 2, 3, 4, 5, 6, 7, 10, 1, 2, 3, 4, 5, 6, 7, 8, 9, 10, 1, 2, 6, 8, 1, 2, 3, 4, 5, 6, 7, 8, 9, 10, 1, 2, 3, 4, 5, 6, 7, 8, 9, 10, 1, 2, 3, 4, 5, 6, 7, 8, 9, 10, 1, 2, 3, 4, 5, 6, 7, 8, 9, 10, 1, 2, 4, 10, 1, 5, 9, 3, 5, 9, 3, 5, 9, 6, 10, 1, 2, 3, 4, 5, 6, 7, 8, 9, 10, 1, 2, 3, 4, 5, 6, 7, 8, 9, 10, 2, 4, 9, 1, 2, 3, 4, 5, 6, 7, 8, 9, 10, 1, 2, 3, 4, 5, 6, 7, 8, 9, 10, 1, 2, 3, 4, 5, 6, 7, 8, 9, 10, 1, 2, 3, 6, 7, 1, 2, 4, 6, 8, 9, 1, 4, 5, 9, 4, 7, 8, 9, 2, 1, 2, 3, 4, 5, 6, 7, 8, 9, 10, 1, 2, 3, 4, 5, 6, 7, 8, 9, 10, 1, 2, 3, 4, 5, 6, 7, 8, 9, 10, 8, 10, 1, 4, 8, 1, 2, 3, 4, 5, 6, 7, 8, 9, 10, 7, 1, 2, 3, 4, 5, 6, 8, 10, 8, 9, 1, 2, 3, 5, 6, 7, 8, 10, 1, 3, 4, 6, 7, 10, 1, 2, 3, 4, 5, 6, 7, 8, 9, 10, 2, 5, 8, 1, 3, 8, 1, 2, 3, 4, 5, 6, 7, 8, 9, 10, 1, 3, 9, 1, 2, 3, 4, 5, 6, 7, 8, 9, 10, 1, 3, 6, 9, 10, 1, 2, 3, 4, 5, 6, 7, 8, 9, 10, 7, 9, 1, 2, 3, 4, 5, 6, 7, 8, 9, 10, 1, 2, 3, 4, 5, 6, 7, 8, 9, 10, 1, 2, 5, 8, 1, 2, 4, 3, 1, 2, 3, 4, 5, 6, 7, 8, 9, 10, 1, 2, 3, 4, 5, 6, 7, 8, 9, 10, 1, 2, 2, 3, 4, 5, 4, 9, 10, 1, 2, 3, 4, 5, 6, 7, 8, 9, 10, 2, 4, 7, 1, 4, 8, 1, 6, 8, 10, 1, 2, 3, 4, 5, 6, 7, 8, 9, 10, 1, 2, 4, 5, 6, 4, 3, 8, 1, 2, 3, 4, 5, 6, 7, 8, 9, 10, 1, 2, 3, 4, 5, 6, 7, 8, 9, 10, 1, 2, 3, 4, 5, 6, 7, 8, 9, 10, 1, 3, 4, 5, 8, 10, 1, 2, 3, 7, 9, 10, 1, 2, 4, 5, 6, 7, 8, 10, 1, 2, 3, 4, 5, 6, 7, 8, 9, 10, 1, 2, 3, 4, 5, 6, 7, 8, 9, 10, 1, 2, 3, 4, 5, 6, 7, 8, 9, 10, 1, 1, 2, 3, 4, 5, 6, 7, 8, 9, 10, 1, 3, 4, 5, 6, 8, 1, 2, 3, 4, 5, 6, 7, 8, 9, 10, 8, 9, 1, 2, 3, 6, 7, 10, 7, 8, 10, 1, 2, 3, 4, 5, 6, 7, 8, 9, 10, 4, 6, 8, 1, 2, 3, 4, 5, 6, 7, 8, 9, 10, 1, 2, 3, 4, 5, 6, 7, 8, 9, 10, 1, 6, 7, 1, 2, 3, 4, 5, 6, 7, 8, 9, 10, 1, 3, 4, 5, 8, 9, 10, 1, 2, 3, 4, 5, 6, 7, 8, 10, 1, 2, 3, 4, 5, 6, 7, 8, 9, 10, 1, 2, 3, 4, 5, 6, 7, 1, 2, 3, 4, 6, 7, 8, 9, 1, 2, 4, 7, 8, 9, 1, 2, 3, 4, 5, 6, 7, 8, 9, 10, 1, 2, 3, 4, 5, 6, 7, 8, 9, 10, 3, 5, 6, 4, 9, 1, 3, 4, 6, 7, 5, 7, 1, 2, 3, 4, 5, 6, 7, 8, 9, 10, 1, 2, 3, 4, 5, 6, 7, 8, 9, 10, 8, 9, 3, 4, 9, 1, 2, 1, 2, 3, 4, 5, 6, 7, 8, 9, 10, 1, 2, 6, 1, 2, 3, 4, 5, 6, 7, 8, 9, 10, 1, 2, 3, 4, 5, 7, 9, 2, 6, 8, 1, 2, 3, 4, 5, 10, 2, 4, 5, 9, 1, 3, 10, 1, 2, 4, 10, 2, 6, 7, 8, 3, 5, 6, 9, 1, 3, 6, 7, 8, 9, 10, 1, 2, 4, 5, 6, 1, 6, 8, 2, 4, 8, 9, 1, 2, 3, 5, 7, 8, 9, 1, 2, 3, 4, 5, 6, 7, 8, 9, 10, 3, 4, 5, 9, 10, 1, 2, 4, 3, 9, 7, 10, 1, 2, 3, 4, 5, 6, 7, 8, 9, 10, 1, 4, 5, 8, 1, 2, 3, 4, 5, 6, 7, 8, 9, 10, 1, 4, 5, 9, 3, 4, 5, 8, 9, 1, 2, 3, 4, 5, 6, 7, 8, 9, 10, 2, 3, 4, 6, 7, 1, 5, 7, 1, 2, 3, 4, 5, 6, 7, 8, 9, 10, 3, 5, 1, 6, 9, 1, 6, 7, 8, 9, 1, 2, 3, 4, 5, 6, 7, 8, 9, 10, 1, 2, 3, 4, 5, 6, 7, 8, 9, 10, 6, 1, 9, 3, 5, 7, 1, 2, 10, 1, 2, 4, 7, 8, 9, 1, 2, 3, 4, 5, 6, 7, 8, 9, 10, 1, 2, 3, 4, 5, 6, 8, 9, 10, 1, 2, 3, 4, 5, 6, 7, 8, 9, 10, 2, 5, 6, 3, 5, 1, 2, 3, 4, 5, 6, 7, 8, 9, 10, 1, 2, 3, 4, 5, 6, 7, 8, 9, 10, 1, 2, 3, 4, 5, 6, 7, 8, 9, 10, 1, 4, 6, 7, 1, 2, 3, 4, 5, 6, 7, 8, 9, 10, 3, 5, 1, 3, 4, 5, 6, 7, 8, 9, 10, 7, 4, 7, 8, 2, 9, 1, 2, 4, 5, 6, 7, 8, 9, 10, 1, 2, 4, 5, 6, 7, 8, 4, 9, 8, 1, 2, 4, 5, 6, 7, 8, 9, 4, 7, 1, 2, 3, 5, 7, 8, 9, 1, 2, 3, 4, 5, 6, 7, 8, 9, 10, 2, 4, 5, 7, 8, 10, 1, 2, 3, 4, 5, 6, 7, 8, 9, 10, 6, 2, 4, 7, 1, 2, 3, 4, 5, 6, 7, 8, 9, 10, 1, 2, 3, 4, 5, 6, 7, 8, 9, 10, 1, 2, 3, 4, 5, 6, 7, 8, 9, 10, 1, 9, 10, 1, 2, 3, 4, 5, 6, 7, 8, 9, 10, 1, 3, 4, 5, 6, 7, 10, 1, 2, 3, 6, 1, 2, 3, 4, 5, 6, 7, 8, 9, 10, 2, 6, 9, 1, 2, 3, 4, 5, 6, 7, 8, 9, 10, 3, 8, 9, 1, 2, 3, 4, 5, 6, 7, 8, 9, 10, 1, 2, 6, 10, 4, 7, 1, 2, 5, 7, 1, 2, 3, 4, 5, 6, 7, 8, 9, 10, 1, 2, 3, 9, 10, 3, 2, 3, 5, 6, 8, 10, 1, 2, 3, 4, 5, 6, 7, 8, 9, 10, 4, 6, 7, 8, 1, 2, 3, 4, 5, 6, 7, 8, 9, 10, 1, 2, 3, 4, 5, 6, 7, 8, 9, 10, 1, 2, 3, 4, 5, 6, 7, 8, 9, 10, 1, 2, 3, 4, 5, 6, 7, 8, 9, 10, 1, 2, 4, 5, 4, 7, 9, 4, 5, 8, 10, 1, 2, 3, 5, 6, 7, 8, 9, 10, 1, 2, 3, 4, 5, 6, 8, 2, 4, 5, 9, 1, 2, 3, 4, 5, 6, 7, 8, 9, 10, 1, 2, 3, 4, 5, 6, 7, 8, 9, 10, 1, 3, 5, 6, 7, 8, 10, 1, 2, 3, 4, 5, 6, 7, 8, 9, 10, 1, 2, 3, 10, 1, 2, 3, 4, 5, 6, 7, 8, 9, 10, 3, 5, 9, 2, 5, 6, 8, 3, 4, 8, 6, 7, 1, 2, 3, 4, 5, 6, 8, 9, 10, 1, 4, 5, 6, 1, 2, 3, 4, 5, 6, 7, 8, 9, 10, 1, 2, 3, 4, 5, 6, 7, 8, 10, 1, 6, 1, 2, 3, 4, 10, 1, 2, 3, 4, 6, 7, 8, 9, 10, 1, 2, 3, 4, 6, 7, 9, 10, 1, 2, 3, 4, 5, 6, 7, 8, 9, 10, 1, 2, 3, 4, 5, 6, 7, 8, 9, 10, 4, 9, 1, 2, 7, 1, 2, 7, 1, 3, 1, 2, 3, 4, 5, 6, 7, 8, 9, 10, 6, 9, 1, 5, 7, 1, 2, 3, 4, 5, 6, 7, 8, 9, 10, 1, 2, 3, 4, 5, 6, 7, 8, 9, 10, 1, 2, 4, 5, 6, 7, 8, 9, 10, 1, 2, 3, 5, 6, 7, 8, 9, 1, 2, 3, 4, 5, 6, 7, 8, 9, 10, 1, 2, 3, 4, 5, 6, 7, 8, 9, 10, 1, 4, 2, 4, 5, 1, 5, 10, 3, 10, 1, 2, 4, 9, 1, 2, 3, 5, 6, 8, 10, 3, 4, 9, 10, 3, 4, 5, 7, 1, 2, 3, 4, 5, 6, 7, 8, 9, 10, 1, 2, 3, 4, 5, 6, 7, 8, 9, 10, 4, 8, 9, 7, 1, 2, 3, 4, 5, 6, 7, 8, 9, 10, 1, 2, 3, 4, 5, 6, 7, 8, 9, 10, 2, 3, 4, 9, 2, 10, 1, 2, 3, 4, 5, 6, 7, 8, 9, 10, 1, 2, 3, 4, 5, 6, 7, 8, 9, 10, 1, 2, 3, 4, 5, 6, 7, 8, 9, 10, 1, 2, 3, 4, 5, 6, 7, 8, 9, 10, 1, 2, 3, 4, 5, 6, 7, 8, 9, 10, 1, 2, 3, 4, 5, 6, 7, 8, 9, 10, 1, 2, 3, 4, 5, 6, 7, 8, 9, 10, 1, 2, 3, 4, 5, 6, 7, 8, 9, 7, 8, 4, 8, 10, 2, 3, 5, 6, 7, 8, 9, 10, 2, 5, 7, 1, 2, 3, 4, 5, 6, 7, 8, 9, 10, 2, 3, 3, 5, 9, 1, 2, 3, 4, 5, 6, 7, 8, 9, 10, 1, 3, 6, 7, 1, 2, 3, 4, 5, 6, 7, 8, 9, 10, 1, 2, 3, 4, 5, 6, 7, 8, 9, 10, 1, 2, 3, 4, 5, 6, 7, 8, 9, 10, 1, 2, 3, 4, 5, 6, 7, 8, 9, 10, 1, 2, 3, 4, 5, 6, 7, 8, 9, 10, 1, 2, 3, 4, 5, 6, 7, 8, 9, 10, 1, 2, 3, 4, 5, 6, 7, 8, 9, 10, 1, 2, 4, 7, 1, 5, 3, 5, 8, 8, 10, 1, 4, 5, 6, 1, 2, 3, 4, 5, 6, 7, 8, 9, 10, 4, 5, 8, 10, 1, 2, 3, 4, 5, 6, 7, 8, 9, 10, 1, 3, 4, 5, 6, 8, 10, 2, 4, 7, 8, 9, 10, 1, 2, 3, 4, 5, 6, 7, 8, 9, 10, 1, 2, 3, 4, 5, 6, 7, 8, 9, 10, 3, 4, 1, 2, 3, 4, 5, 7, 8, 9, 10, 1, 2, 3, 6, 1, 8, 9, 10, 1, 2, 3, 4, 5, 6, 7, 8, 9, 10, 1, 2, 3, 4, 5, 6, 7, 8, 9, 10, 1, 2, 3, 4, 5, 6, 7, 8, 9, 10, 1, 2, 3, 4, 5, 6, 7, 8, 9, 10, 1, 9, 7, 1, 3, 4, 5, 6, 7, 8, 9, 10, 1, 2, 3, 4, 5, 6, 7, 8, 9, 10, 1, 2, 3, 4, 5, 6, 7, 8, 9, 10, 4, 5, 6, 8, 10, 1, 2, 3, 4, 5, 6, 7, 8, 9, 10, 1, 2, 6, 8, 1, 2, 3, 4, 5, 6, 7, 8, 9, 10, 1, 2, 4, 5, 9, 1, 3, 4, 5, 6, 7, 8, 9, 10, 6, 9, 6, 9, 2, 7, 8, 9, 1, 3, 4, 5, 6, 8, 9, 1, 3, 4, 5, 6, 1, 2, 3, 4, 5, 6, 7, 8, 9, 10, 1, 3, 4, 5, 6, 7, 8, 9, 10, 1, 2, 3, 4, 5, 6, 7, 8, 9, 10, 1, 3, 6, 1, 2, 3, 4, 5, 6, 7, 8, 9, 10, 7, 2, 3, 4, 7, 8, 10, 1, 2, 3, 4, 5, 6, 8, 1, 2, 5, 6, 7, 8, 2, 4, 5, 10, 1, 2, 4, 5, 6, 7, 8, 9, 5, 6, 9, 10, 3, 4, 7, 8, 9, 3, 5, 3, 5, 6, 8, 9, 3, 4, 6, 7, 10, 1, 2, 3, 4, 5, 6, 7, 8, 9, 1, 3, 3, 4, 9, 1, 4, 7, 1, 2, 3, 4, 5, 6, 7, 8, 9, 10, 1, 3, 8, 9, 1, 5, 5, 8, 9, 10, 1, 2, 3, 4, 5, 6, 7, 8, 9, 10, 1, 2, 3, 4, 5, 6, 7, 8, 9, 10, 2, 5, 8, 9, 4, 7, 4, 9, 2, 6, 1, 7, 1, 3, 6, 10, 1, 2, 3, 4, 5, 6, 7, 8, 9, 10, 1, 7, 1, 2, 3, 4, 5, 6, 9, 10, 1, 2, 3, 4, 5, 6, 7, 8, 9, 10, 1, 2, 5, 9, 10, 1, 2, 3, 4, 5, 6, 7, 8, 9, 10, 4, 6, 10, 1, 3, 5, 6, 9, 1, 2, 3, 4, 5, 6, 7, 8, 9, 10, 1, 3, 4, 6, 7, 1, 2, 4, 5, 6, 7, 9, 10, 1, 2, 3, 4, 5, 6, 7, 8, 9, 10, 1, 2, 3, 4, 6, 7, 8, 1, 2, 3, 4, 5, 6, 7, 8, 9, 10, 1, 6, 10, 1, 2, 3, 4, 5, 6, 7, 8, 9, 10, 2, 10, 1, 2, 4, 7, 8, 9, 10, 1, 2, 3, 4, 5, 6, 7, 8, 10, 1, 2, 3, 4, 5, 6, 7, 9, 10, 1, 2, 3, 4, 5, 6, 7, 8, 9, 10, 5, 6, 2, 3, 5, 6, 7, 1, 7, 3, 6, 8, 1, 3, 8, 1, 2, 3, 4, 5, 6, 7, 8, 9, 10, 1, 2, 3, 4, 5, 6, 7, 8, 9, 10, 1, 3, 6, 9, 1, 6, 8, 1, 2, 3, 4, 5, 6, 7, 8, 9, 10, 3, 9, 4, 6, 7, 8, 9, 10, 1, 2, 3, 4, 5, 6, 7, 8, 9, 10, 2, 3, 4, 5, 8, 10, 3, 4, 5, 10, 4, 9, 10, 1, 2, 3, 4, 7, 8, 1, 2, 4, 6, 9, 1, 5, 6, 10, 1, 2, 3, 4, 5, 6, 7, 8, 9, 10, 1, 2, 4, 5, 6, 7, 8, 9, 10, 1, 4, 8, 1, 2, 3, 4, 5, 6, 7, 8, 9, 10, 4, 6, 10, 1, 2, 4, 7, 9, 1, 3, 4, 5, 6, 8, 9, 10, 1, 1, 2, 3, 4, 5, 6, 7, 8, 9, 10, 6, 9, 1, 3, 4], \"Freq\": [0.6006304535283732, 0.023101171289552812, 0.3465175693432922, 0.698169814560318, 0.1745424536400795, 0.1959050353578522, 0.5877151060735566, 0.11285111271082084, 0.2821277817770521, 0.11285111271082084, 0.09028089016865667, 0.0978042976827114, 0.10156600143973876, 0.05642555635541042, 0.052663852598383055, 0.04514044508432834, 0.0489021488413557, 0.12735398289197494, 0.09926119254815693, 0.15357392054620506, 0.10862545599609626, 0.07678696027310253, 0.08053266565227826, 0.16106533130455652, 0.0505670226188724, 0.0955154871689812, 0.048694169929284534, 0.06749361554246729, 0.09591197998140089, 0.07815050220706739, 0.28418364438933597, 0.17406248218846826, 0.08880738887166749, 0.07459820665220068, 0.05328443332300049, 0.04617984221326709, 0.035522955548666996, 0.07810735631259529, 0.07810735631259529, 0.19526839078148822, 0.12448359912319874, 0.06834393677352088, 0.18306411635764522, 0.0805482111973639, 0.09763419539074411, 0.06102137211921507, 0.03417196838676044, 0.05850506256430872, 0.05850506256430872, 0.05850506256430872, 0.05850506256430872, 0.05850506256430872, 0.11701012512861744, 0.5265455630787784, 0.05850506256430872, 0.13190056450418536, 0.0879337096694569, 0.13190056450418536, 0.0879337096694569, 0.04396685483472845, 0.04396685483472845, 0.04396685483472845, 0.0879337096694569, 0.04396685483472845, 0.3957016935125561, 0.22870688324128402, 0.57176720810321, 0.6891143322374049, 0.057426194353117084, 0.17227858305935123, 0.1404342176501542, 0.04681140588338474, 0.09362281176676948, 0.04681140588338474, 0.1404342176501542, 0.5149254647172321, 0.03578689169722895, 0.3459399530732132, 0.03578689169722895, 0.023857927798152632, 0.03578689169722895, 0.047715855596305264, 0.35786891697228945, 0.023857927798152632, 0.05964481949538158, 0.03578689169722895, 0.06370181551977888, 0.8281236017571254, 0.06370181551977888, 0.05364936104939657, 0.45601956891987083, 0.17436042341053884, 0.17436042341053884, 0.026824680524698285, 0.040237020787047426, 0.013412340262349142, 0.06706170131174571, 0.013412340262349142, 0.08396648870265132, 0.08396648870265132, 0.08396648870265132, 0.16793297740530264, 0.5037989322159079, 0.13999017111437723, 0.012726379192216112, 0.09544784394162084, 0.06363189596108056, 0.1845324982871336, 0.019089568788324168, 0.006363189596108056, 0.2736171526326464, 0.038179137576648335, 0.1718061190949175, 0.7679452071959488, 0.10970645817084984, 0.10970645817084984, 0.4034157840358487, 0.0656723369360684, 0.009381762419438342, 0.03752704967775337, 0.028145287258315027, 0.21578053564708188, 0.0656723369360684, 0.15948996113045183, 0.009381762419438342, 0.018763524838876684, 0.8066534462949944, 0.1008316807868743, 0.5887090326682024, 0.08919833828306097, 0.08919833828306097, 0.017839667656612195, 0.017839667656612195, 0.05351900296983658, 0.07135867062644878, 0.03567933531322439, 0.017839667656612195, 0.017839667656612195, 0.13984820328780218, 0.034962050821950544, 0.7691651180829119, 0.052443076232925816, 0.10678403228321716, 0.13119181109080966, 0.1296663249153351, 0.07627430877372654, 0.15254861754745308, 0.16932896547767293, 0.07017236407182842, 0.07779979494920107, 0.05034104379065952, 0.03508618203591421, 0.11260787778530514, 0.17914889647662183, 0.09341335316280995, 0.1458783871309635, 0.07293919356548174, 0.08957444823831091, 0.16123400682895964, 0.04222795416948943, 0.0691002886409827, 0.03327050934565834, 0.045111382797021676, 0.5413365935642601, 0.1804455311880867, 0.09022276559404335, 0.045111382797021676, 0.2321657447866456, 0.13929944687198734, 0.6036309364452785, 0.6297019679476896, 0.0899574239925271, 0.0899574239925271, 0.0899574239925271, 0.9276843842663519, 0.17439513356398192, 0.07662816474781024, 0.10833637085035241, 0.15325632949562049, 0.13079635017298646, 0.0554893606794488, 0.0554893606794488, 0.07002228847644729, 0.10569402034180723, 0.0687011132221747, 0.10105615284561366, 0.7073930699192956, 0.10105615284561366, 0.12505910068680864, 0.12505910068680864, 0.6252955034340433, 0.1253577795686061, 0.33727212122029737, 0.08954127112043293, 0.08954127112043293, 0.09551068919512846, 0.03581650844817317, 0.09551068919512846, 0.038801217485520935, 0.029847090373477644, 0.05969418074695529, 0.5766771905808055, 0.1153354381161611, 0.2306708762323222, 0.07107096637812678, 0.21321289913438035, 0.19899870585875498, 0.02842838655125071, 0.014214193275625356, 0.04264257982687607, 0.3837832184418846, 0.04264257982687607, 0.10194523206923627, 0.03755876970971863, 0.10731077059919608, 0.08584861647935686, 0.06975200088947744, 0.37290492783220636, 0.03219323117975882, 0.12340738618907549, 0.03755876970971863, 0.03755876970971863, 0.666676792286719, 0.060606981116974455, 0.24242792446789782, 0.16331033877402315, 0.17573612541987274, 0.047928034205419835, 0.1136071921906248, 0.09053073127690414, 0.07455471987509753, 0.10828185505668926, 0.06745427036318348, 0.13490854072636696, 0.024851573291699174, 0.7245086438272127, 0.2070024696649179, 0.6582525048474668, 0.1645631262118667, 0.08228156310593335, 0.9703351552271136, 0.04340121493889637, 0.1302036448166891, 0.04340121493889637, 0.04340121493889637, 0.5642157942056528, 0.1302036448166891, 0.04340121493889637, 0.04340121493889637, 0.14331894648332796, 0.12489222479261436, 0.09008619493237757, 0.12898705183499515, 0.13308187887737596, 0.11670257070785277, 0.05732757859333118, 0.08189654084761597, 0.04709051098737919, 0.07575430028404477, 0.1841485545701243, 0.06138285152337477, 0.03682971091402486, 0.04910628121869982, 0.12276570304674954, 0.06138285152337477, 0.03682971091402486, 0.1350422733514245, 0.04910628121869982, 0.2823611170075239, 0.07304196711687076, 0.2191259013506123, 0.5843357369349661, 0.07304196711687076, 0.9596890122827938, 0.5334448826543048, 0.17781496088476825, 0.01975721787608536, 0.03951443575217072, 0.03951443575217072, 0.05927165362825609, 0.05927165362825609, 0.03951443575217072, 0.03951443575217072, 0.01975721787608536, 0.05311232344807221, 0.9029094986172276, 0.061240240599863355, 0.10206706766643893, 0.1633073082663023, 0.061240240599863355, 0.040826827066575574, 0.1428938947330145, 0.061240240599863355, 0.040826827066575574, 0.040826827066575574, 0.2653743759327412, 0.8787939511704101, 0.10472568821395312, 0.6283541292837187, 0.10472568821395312, 0.016087233544498144, 0.016087233544498144, 0.08043616772249072, 0.5147914734239406, 0.03217446708899629, 0.08043616772249072, 0.06434893417799258, 0.09652340126698887, 0.048261700633494435, 0.03217446708899629, 0.23268830579669608, 0.11634415289834804, 0.11634415289834804, 0.11634415289834804, 0.46537661159339216, 0.17629499054567102, 0.08814749527283551, 0.6611062145462664, 0.7029264430538108, 0.22433822650653537, 0.05982352706840943, 0.7837741951239026, 0.19594354878097564, 0.08678624178642705, 0.043393120893213524, 0.08678624178642705, 0.5207174507185622, 0.08678624178642705, 0.043393120893213524, 0.043393120893213524, 0.07853501627121481, 0.07853501627121481, 0.10994902277970074, 0.10994902277970074, 0.5183311073900178, 0.04712100976272889, 0.015707003254242964, 0.03141400650848593, 0.03141400650848593, 0.12751148360794226, 0.12751148360794226, 0.12751148360794226, 0.12751148360794226, 0.38253445082382675, 0.1378746441078993, 0.09191642940526619, 0.045958214702633095, 0.1378746441078993, 0.09191642940526619, 0.09191642940526619, 0.4136239323236979, 0.16817700965560098, 0.33635401931120196, 0.4204425241390024, 0.09908572877631243, 0.06605715251754161, 0.03302857625877081, 0.06605715251754161, 0.06605715251754161, 0.4954286438815621, 0.03302857625877081, 0.06605715251754161, 0.06605715251754161, 0.03302857625877081, 0.10658013207324629, 0.6927708584761009, 0.10658013207324629, 0.17964903666960388, 0.03592980733392078, 0.10778942200176234, 0.6108067246766532, 0.07185961466784156, 0.07538348513430645, 0.022615045540291936, 0.03769174256715323, 0.007538348513430646, 0.17338201580890486, 0.05276843959401452, 0.5201460474267146, 0.06784513662087581, 0.022615045540291936, 0.022615045540291936, 0.6574806584694444, 0.04696290417638888, 0.04696290417638888, 0.04696290417638888, 0.04696290417638888, 0.04696290417638888, 0.04696290417638888, 0.05310292660569317, 0.05310292660569317, 0.026551463302846585, 0.07965438990853976, 0.05310292660569317, 0.21241170642277268, 0.05310292660569317, 0.451374876148392, 0.026551463302846585, 0.19202778357948116, 0.09601389178974058, 0.672097242528184, 0.36003057923597065, 0.01946111239113355, 0.12649723054236806, 0.0389222247822671, 0.01946111239113355, 0.009730556195566774, 0.4184139164093713, 0.7163095114882362, 0.20465986042521034, 0.6996213685388305, 0.2798485474155322, 0.1825869611118493, 0.6390543638914725, 0.09129348055592465, 0.09129348055592465, 0.1278843950395538, 0.639421975197769, 0.0639421975197769, 0.0639421975197769, 0.0639421975197769, 0.07785547821055087, 0.7785547821055087, 0.07785547821055087, 0.07785547821055087, 0.16133669095861353, 0.07355055028995616, 0.09964913265090836, 0.11862991982250995, 0.1779448797337649, 0.11388472302960954, 0.08778614066865736, 0.06406015670415537, 0.052197164721904374, 0.052197164721904374, 0.17604685933902597, 0.18564941530297285, 0.12163237554332705, 0.052814057801707795, 0.11843152355534475, 0.057615335783681235, 0.08962385566350414, 0.0816217256935484, 0.07201916972960154, 0.04321150183776092, 0.7369281138234444, 0.05931916623732438, 0.20761708183063535, 0.05931916623732438, 0.02965958311866219, 0.14829791559331096, 0.02965958311866219, 0.4448937467799329, 0.19200553486579017, 0.09600276743289508, 0.5760166045973706, 0.13533220461501458, 0.03947189301271258, 0.14660988833293245, 0.09022146974334304, 0.050749576730630463, 0.09586031160230199, 0.07894378602542516, 0.09586031160230199, 0.19735946506356292, 0.07894378602542516, 0.018927040658055873, 0.018927040658055873, 0.09463520329027936, 0.22712448789667047, 0.037854081316111746, 0.05678112197416762, 0.07570816263222349, 0.4731760164513968, 0.018927040658055873, 0.06432058884972501, 0.06432058884972501, 0.7075264773469752, 0.06432058884972501, 0.21522427685429182, 0.10285053938169697, 0.17522684487252077, 0.1009458997635174, 0.11999229594531313, 0.06475774701810551, 0.09713662052715825, 0.060948467781746354, 0.034283513127232323, 0.02666495465451403, 0.13156683765438468, 0.13156683765438468, 0.13156683765438468, 0.13156683765438468, 0.5262673506175387, 0.1548780625503932, 0.1648701956181605, 0.06994493147437111, 0.11241149701238215, 0.07494099800825477, 0.1848544617536951, 0.07494099800825477, 0.05495673187272016, 0.07494099800825477, 0.03247443247024373, 0.8876418107601345, 0.059176120717342295, 0.20796900962039022, 0.6932300320679674, 0.09448492299744103, 0.09448492299744103, 0.6613944609820872, 0.09448492299744103, 0.1266511502827815, 0.0612828146529588, 0.11439458735218976, 0.12801299060840282, 0.1266511502827815, 0.2451312586118352, 0.06400649530420141, 0.03676968879177528, 0.04766441139674574, 0.04902625172236704, 0.09978026574112586, 0.06652017716075058, 0.03326008858037529, 0.06652017716075058, 0.03326008858037529, 0.5986815944467552, 0.06652017716075058, 0.03326008858037529, 0.03326008858037529, 0.26316863358377607, 0.7017830228900696, 0.0877228778612587, 0.059173812461212706, 0.059173812461212706, 0.059173812461212706, 0.591738124612127, 0.059173812461212706, 0.1775214373836381, 0.7889810980694401, 0.7499524179252222, 0.09374405224065277, 0.09374405224065277, 0.07432835372618204, 0.03716417686309102, 0.03716417686309102, 0.03716417686309102, 0.03716417686309102, 0.7432835372618204, 0.03716417686309102, 0.03716417686309102, 0.03716417686309102, 0.20980631993329796, 0.069935439977766, 0.034967719988883, 0.6643866797887769, 0.3545328926489139, 0.11817763088297131, 0.47271052353188525, 0.03128094006815914, 0.12512376027263655, 0.03128094006815914, 0.2502475205452731, 0.5004950410905462, 0.06256188013631828, 0.1694414813593061, 0.03577097939807573, 0.0922514731845111, 0.06024586003886439, 0.15814538260201902, 0.2654583207962462, 0.0922514731845111, 0.04894976128157732, 0.05083244440779183, 0.02635756376700317, 0.16857357007259788, 0.04754639155893786, 0.07780318618735287, 0.10805998081576787, 0.09509278311787572, 0.2506991554925815, 0.08212558541998358, 0.06483598848946072, 0.03457919386104572, 0.07348078695472215, 0.33249315868666496, 0.058186302770166363, 0.12468493450749935, 0.08312328967166624, 0.06649863173733299, 0.06649863173733299, 0.08727945415524954, 0.02493698690149987, 0.1413095924418326, 0.012468493450749935, 0.2089490988643907, 0.2089490988643907, 0.48754789735024495, 0.05094137141669017, 0.20376548566676067, 0.6622378284169722, 0.05094137141669017, 0.09431480201165551, 0.6602036140815886, 0.09431480201165551, 0.09431480201165551, 0.10977678874539411, 0.23931339946495914, 0.0856258952214074, 0.06367053747232858, 0.13173214649447293, 0.10099464564576258, 0.05049732282288129, 0.05269285859778917, 0.1229500033948414, 0.04391071549815764, 0.13393476892583675, 0.22588998341223213, 0.09795229369202986, 0.10994645210329883, 0.13793282172959306, 0.08196008247700458, 0.09995132009390802, 0.04597760724319769, 0.03798150163568505, 0.027986369626294246, 0.12294689652934536, 0.6147344826467268, 0.06147344826467268, 0.06147344826467268, 0.06147344826467268, 0.06147344826467268, 0.10499760586626149, 0.566987071677812, 0.020999521173252298, 0.0629985635197569, 0.08399808469300919, 0.041999042346504596, 0.020999521173252298, 0.020999521173252298, 0.041999042346504596, 0.020999521173252298, 0.1341969159713732, 0.07668395198364182, 0.07668395198364182, 0.084352347182006, 0.17637308956237618, 0.2568912391452001, 0.05751296398773137, 0.05367876638854928, 0.03450777839263882, 0.04601037119018509, 0.14992618351498818, 0.07496309175749409, 0.07496309175749409, 0.04997539450499606, 0.07496309175749409, 0.07496309175749409, 0.1749138807674862, 0.02498769725249803, 0.32484006428247436, 0.22959704863550542, 0.6887911459065164, 0.6802598168997223, 0.06802598168997222, 0.20407794506991667, 0.3028415558320379, 0.07682377703092139, 0.0556694036455952, 0.09797815041624756, 0.09352459812459994, 0.12247268802030944, 0.11245219536410231, 0.025607925676973793, 0.0835041054683928, 0.0278347018227976, 0.0959270084335947, 0.14389051265039204, 0.0959270084335947, 0.04796350421679735, 0.5275985463847708, 0.04796350421679735, 0.04796350421679735, 0.04796350421679735, 0.2371102793543956, 0.3096950587485983, 0.07742376468714958, 0.048389852929468485, 0.03387289705062794, 0.05806782351536219, 0.048389852929468485, 0.07258477939420273, 0.07742376468714958, 0.03871188234357479, 0.08856480750954965, 0.7970832675859468, 0.041831442466394496, 0.6274716369959175, 0.12549432739918348, 0.041831442466394496, 0.041831442466394496, 0.08366288493278899, 0.7192404775008193, 0.06538549795461994, 0.13077099590923988, 0.33178265933015827, 0.24883699449761873, 0.4147283241626979, 0.17719928254569536, 0.06778764500070225, 0.15698191473846837, 0.0844372420184186, 0.11060089447482999, 0.14984637315944707, 0.06540913114102849, 0.08800501280792923, 0.049948791053149026, 0.049948791053149026, 0.6667353728687151, 0.2778064053619646, 0.05426190750310191, 0.05426190750310191, 0.7234921000413589, 0.01808730250103397, 0.03617460500206794, 0.03617460500206794, 0.07234921000413588, 0.01808730250103397, 0.12453252921519561, 0.12453252921519561, 0.6226626460759781, 0.643094460423541, 0.1286188920847082, 0.0643094460423541, 0.0643094460423541, 0.15805506888503215, 0.15805506888503215, 0.6322202755401286, 0.08285405123546469, 0.062140538426598516, 0.062140538426598516, 0.020713512808866172, 0.08285405123546469, 0.062140538426598516, 0.47641079460392194, 0.10356756404433086, 0.020713512808866172, 0.041427025617732344, 0.07590828346198537, 0.834991118081839, 0.07590828346198537, 0.07990355422292657, 0.053269036148617714, 0.053269036148617714, 0.5326903614861771, 0.026634518074308857, 0.053269036148617714, 0.026634518074308857, 0.026634518074308857, 0.07990355422292657, 0.053269036148617714, 0.1063272773505415, 0.1063272773505415, 0.7442909414537905, 0.4806751917331557, 0.42059079276651123, 0.9828922235074125, 0.07054267774915551, 0.6348840997423997, 0.07054267774915551, 0.07054267774915551, 0.14108535549831103, 0.06958351098682786, 0.0927780146491038, 0.02319450366227595, 0.0463890073245519, 0.6030570952191747, 0.11597251831137977, 0.02319450366227595, 0.02319450366227595, 0.5354280356565794, 0.029746001980921075, 0.029746001980921075, 0.029746001980921075, 0.17847601188552645, 0.05949200396184215, 0.029746001980921075, 0.05949200396184215, 0.03777031612575755, 0.03777031612575755, 0.03777031612575755, 0.11331094837727265, 0.03777031612575755, 0.5665547418863632, 0.03777031612575755, 0.0755406322515151, 0.1122463041535193, 0.05612315207675965, 0.05612315207675965, 0.05612315207675965, 0.1122463041535193, 0.05612315207675965, 0.05612315207675965, 0.5051083686908369, 0.05612315207675965, 0.12527811296599212, 0.12527811296599212, 0.12527811296599212, 0.5011124518639685, 0.12527811296599212, 0.1020675561023941, 0.7144728927167586, 0.1020675561023941, 0.1012628422993992, 0.3037885268981976, 0.506314211496996, 0.07272200382930674, 0.6181370325491073, 0.03636100191465337, 0.10908300574396011, 0.03636100191465337, 0.03636100191465337, 0.07272200382930674, 0.8222122266941101, 0.074211666583496, 0.074211666583496, 0.074211666583496, 0.148423333166992, 0.074211666583496, 0.074211666583496, 0.074211666583496, 0.445269999500976, 0.12443938217298789, 0.12658488876217733, 0.0922567833351462, 0.15876748760001902, 0.15447647442164014, 0.10512982287028287, 0.07294722403244118, 0.07080171744325173, 0.0600741844973045, 0.038619118605410035, 0.0717591218546601, 0.0717591218546601, 0.717591218546601, 0.0717591218546601, 0.20792268813667644, 0.08740698991732895, 0.10462351823437858, 0.10462351823437858, 0.08608264158524821, 0.08475829325316746, 0.08210959658900598, 0.08078524825692524, 0.11521830489102453, 0.04502784329074522, 0.12305678735778876, 0.1749713695243559, 0.07306496749368707, 0.10575192663559972, 0.1518982218947705, 0.10190640203066882, 0.1365161234750469, 0.038455246049308986, 0.05960563137642893, 0.034609721444378086, 0.056574604529944644, 0.037716403019963096, 0.037716403019963096, 0.49031323925952025, 0.037716403019963096, 0.037716403019963096, 0.11314920905988929, 0.09429100754990774, 0.037716403019963096, 0.037716403019963096, 0.2349104755140563, 0.11626882121402787, 0.1067774888700256, 0.121014487386029, 0.04508382863401081, 0.05694799406401365, 0.13050581973003128, 0.030846830118007394, 0.0759306587520182, 0.08067632492401934, 0.21450340670076598, 0.07150113556692199, 0.07150113556692199, 0.500507948968454, 0.257468326144899, 0.1287341630724495, 0.514936652289798, 0.28267391621725374, 0.5653478324345075, 0.09422463873908457, 0.3481674990683623, 0.04973821415262319, 0.4973821415262319, 0.6764472933699176, 0.2536677350137191, 0.11120070751553585, 0.09174058370031707, 0.09730061907609387, 0.09174058370031707, 0.147340937458085, 0.08618054832454028, 0.08340053063665188, 0.1417809020823082, 0.0667204245093215, 0.08062051294876349, 0.15302059934720916, 0.1969920359412348, 0.0492480089853087, 0.07563087094172406, 0.070354298550441, 0.09321944557933431, 0.09673716050685637, 0.12839659485455482, 0.08090744333300715, 0.05276572391283075, 0.08918180678642079, 0.17836361357284158, 0.6242726475049455, 0.07716808803923257, 0.04823005502452035, 0.15433617607846514, 0.0996754470506754, 0.10289078405231009, 0.09002943604577132, 0.09324477304740601, 0.18005887209154264, 0.07716808803923257, 0.07073741403596319, 0.13116787480828224, 0.2148439328756347, 0.11307575414507089, 0.09046060331605671, 0.08141454298445104, 0.11081423906216946, 0.0881990882331553, 0.05201484690673261, 0.08593757315025387, 0.031661211160619845, 0.027849569125597353, 0.027849569125597353, 0.027849569125597353, 0.5012922442607524, 0.027849569125597353, 0.027849569125597353, 0.08354870737679206, 0.08354870737679206, 0.055699138251194706, 0.13924784562798675, 0.6008267183288618, 0.07510333979110773, 0.07510333979110773, 0.07510333979110773, 0.07510333979110773, 0.07003181155713528, 0.6302863040142176, 0.07003181155713528, 0.07003181155713528, 0.07003181155713528, 0.07003181155713528, 0.6322359117578271, 0.10537265195963785, 0.10537265195963785, 0.10537265195963785, 0.5555027685596178, 0.11110055371192354, 0.11110055371192354, 0.11110055371192354, 0.8963709174880652, 0.10885673232697665, 0.15810144457013275, 0.23067259945478388, 0.06479567400415277, 0.069979327924485, 0.0958975975261461, 0.0725711548846511, 0.06738750096431888, 0.09848942448631222, 0.03369375048215944, 0.07875970357231432, 0.194826635152567, 0.24249698205159936, 0.06217871334656394, 0.08497757490697072, 0.06839658468122033, 0.08083232735053313, 0.03316198045150077, 0.12435742669312788, 0.03108935667328197, 0.18985219339810427, 0.13447863699032386, 0.023731524174763034, 0.03164203223301738, 0.1423891450485782, 0.10283660475730648, 0.1265681289320695, 0.01582101611650869, 0.04746304834952607, 0.18985219339810427, 0.6313110861475247, 0.31565554307376237, 0.6922015862556591, 0.15973882759745978, 0.05324627586581993, 0.1210005919903264, 0.17823060171548077, 0.10955459004529551, 0.08175715675022054, 0.11609516258531316, 0.10137887437027346, 0.10137887437027346, 0.08175715675022054, 0.07358144107519848, 0.034338005835092625, 0.8202657922890836, 0.0845943560951118, 0.5921604926657826, 0.0845943560951118, 0.02114858902377795, 0.02114858902377795, 0.02114858902377795, 0.06344576707133386, 0.10574294511888976, 0.11844145641871599, 0.7106487385122959, 0.12552322325806262, 0.04184107441935421, 0.04184107441935421, 0.08368214883870842, 0.04184107441935421, 0.5439339674516047, 0.08368214883870842, 0.04184107441935421, 0.11726358175345854, 0.05863179087672927, 0.11726358175345854, 0.05863179087672927, 0.1758953726301878, 0.4104225361371049, 0.08149147787718425, 0.10927266351713343, 0.06297068745055147, 0.08334355691984753, 0.10556850543180687, 0.21854532703426685, 0.0685269245785413, 0.10001226830381703, 0.09260395213316393, 0.0777873197918577, 0.8079638030076112, 0.16159276060152225, 0.9312677792191942, 0.2108729453447081, 0.10543647267235405, 0.6326188360341243, 0.13167568567796006, 0.06583784283898003, 0.06583784283898003, 0.1379459564245296, 0.1975135285169401, 0.11286487343825148, 0.09718919657182767, 0.06583784283898003, 0.05956757209241051, 0.06583784283898003, 0.7359120753950619, 0.0817680083772291, 0.0817680083772291, 0.11236663469987, 0.06320623201867688, 0.16012245444731477, 0.10955746883237326, 0.09270247362739276, 0.157313288579818, 0.10815288589862487, 0.032305407476212626, 0.07584747842241225, 0.089893307759896, 0.08992856916453734, 0.6294999841517613, 0.08992856916453734, 0.04496428458226867, 0.08992856916453734, 0.0685868839732649, 0.3429344198663245, 0.13145819428209105, 0.09144917863101987, 0.09144917863101987, 0.0685868839732649, 0.0685868839732649, 0.05715573664438741, 0.05144016297994867, 0.028577868322193705, 0.23381595808807856, 0.7014478742642356, 0.10028569772725017, 0.275411468385284, 0.03592323500677618, 0.06585926417908966, 0.0868144845997091, 0.23499782900266084, 0.0523880510515486, 0.037420036465391854, 0.06735606563770534, 0.04340724229985455, 0.5146349044046756, 0.02940770882312432, 0.02940770882312432, 0.01470385441156216, 0.01470385441156216, 0.10292698088093512, 0.05881541764624864, 0.04411156323468648, 0.04411156323468648, 0.1470385441156216, 0.6739265109001874, 0.08424081386252343, 0.08424081386252343, 0.08424081386252343, 0.06703030375536966, 0.6703030375536965, 0.1340606075107393, 0.6664147701546169, 0.15364598965103257, 0.16644982212195195, 0.10563161788508489, 0.07522251576665136, 0.09922970164962519, 0.10243065976735503, 0.11523449223827442, 0.05441628800140737, 0.06722012047232674, 0.062418683295731976, 0.17723954859825589, 0.08507498332716283, 0.11107011712157369, 0.07325901342061243, 0.05435346157013181, 0.14179163887860471, 0.11343331110288378, 0.0779854013832326, 0.13706525091598457, 0.028358327775720945, 0.06420038110498444, 0.8988053354697821, 0.675542879646154, 0.09650612566373629, 0.09650612566373629, 0.09650612566373629, 0.8544131280367017, 0.06572408677205398, 0.06572408677205398, 0.06897133546623935, 0.14122702024039485, 0.13137397231664638, 0.10181482854540094, 0.04926523961874239, 0.12480527370081405, 0.0886774313137363, 0.144511369548311, 0.07882438338998783, 0.06568698615832319, 0.7473899471721797, 0.07473899471721797, 0.07473899471721797, 0.1711052969959421, 0.08555264849797105, 0.5988685394857973, 0.09938313477856636, 0.5962988086713982, 0.09938313477856636, 0.09938313477856636, 0.153803115428299, 0.10381710291410182, 0.12496503128549293, 0.0615212461713196, 0.06921140194273455, 0.1691834269711289, 0.10189456397124808, 0.05383109039990465, 0.11535233657122425, 0.042295856742782224, 0.029122379157148943, 0.7863042372430215, 0.029122379157148943, 0.08736713747144682, 0.029122379157148943, 0.9516464537663504, 0.2706870747469361, 0.7218321993251628, 0.043083127891025814, 0.229776682085471, 0.1436104263034194, 0.1148883410427355, 0.0718052131517097, 0.08616625578205163, 0.043083127891025814, 0.028722085260683875, 0.014361042630341938, 0.24413772471581294, 0.2523902432064315, 0.045373526868571955, 0.10492628088357264, 0.11626966260071564, 0.10209043545428689, 0.14746396232285885, 0.07940367202000093, 0.045373526868571955, 0.07940367202000093, 0.03119429972214322, 0.200411117368217, 0.11090712320377058, 0.0953412111751712, 0.07588382113942198, 0.1206358182216452, 0.08366677715372167, 0.0603179091108226, 0.10312416718947089, 0.10117842818589597, 0.04864347508937306, 0.049396151174367554, 0.5927538140924107, 0.09879230234873511, 0.049396151174367554, 0.049396151174367554, 0.049396151174367554, 0.048374788674234365, 0.048374788674234365, 0.6288722527650468, 0.1451243660227031, 0.09674957734846873, 0.048374788674234365, 0.12036282713153763, 0.06018141356576882, 0.03009070678288441, 0.18054424069730646, 0.03009070678288441, 0.06018141356576882, 0.03009070678288441, 0.48145130852615053, 0.19176552544355827, 0.12419100695392346, 0.06574818015207712, 0.12236466861636576, 0.14062805199194273, 0.0858379018652118, 0.06209550347696173, 0.07305353350230792, 0.07487987183986561, 0.05844282680184633, 0.14848532163080722, 0.37223032682791396, 0.07932777456988331, 0.028476637025086314, 0.06305541055554827, 0.04474900103942135, 0.14441723062722345, 0.042714955537629475, 0.03457877353046195, 0.03864686453404571, 0.08425164786352282, 0.07875697517677134, 0.11721968398403175, 0.21062911965880707, 0.15385083522904167, 0.12637747179528425, 0.05128361174301389, 0.06227295711651687, 0.06410451467876736, 0.05494672686751488, 0.9261217321611673, 0.07881268422421697, 0.07224496053886556, 0.0919481315949198, 0.3349539079529221, 0.190463986875191, 0.039406342112108486, 0.03283861842675707, 0.10508357896562262, 0.026270894741405655, 0.026270894741405655, 0.12763291922096787, 0.03190822980524197, 0.04786234470786295, 0.31908229805241967, 0.44671521727338753, 0.015954114902620983, 0.044805662083143225, 0.05376679449977187, 0.044805662083143225, 0.4480566208314322, 0.026883397249885935, 0.026883397249885935, 0.008961132416628645, 0.18818378074920153, 0.03584452966651458, 0.12545585383280103, 0.8154318570623573, 0.16308637141247148, 0.061749320280981894, 0.617493202809819, 0.061749320280981894, 0.061749320280981894, 0.061749320280981894, 0.061749320280981894, 0.10701599767855109, 0.5350799883927554, 0.32104799303565323, 0.08201753683779232, 0.05895010460216324, 0.20760689012066183, 0.06407620065452525, 0.0999588730210594, 0.23067432235629093, 0.06920229670688728, 0.0486979124974392, 0.09483277696869738, 0.04613486447125818, 0.11560932734272525, 0.057804663671362624, 0.7514606277277142, 0.12658432396654581, 0.1697380707733228, 0.2157687340338849, 0.03739991389920672, 0.0891844100673391, 0.04603066326056212, 0.11507665815140529, 0.06041524552948778, 0.11219974169762016, 0.028769164537851322, 0.18867417065018274, 0.12476840317189503, 0.13998406209529687, 0.07607829461700917, 0.11716057371019412, 0.13085466674125576, 0.04869010855488587, 0.04869010855488587, 0.09890178300211191, 0.025866620169783115, 0.6224098458329796, 0.03890061536456123, 0.3112049229164898, 0.1562289241005855, 0.11531182493138453, 0.14506971523625797, 0.07253485761812899, 0.15994866038869468, 0.09299340720272946, 0.0706749894740744, 0.06695525318596522, 0.08183419833840193, 0.03719736288109179, 0.681863910146051, 0.12784948315238456, 0.042616494384128185, 0.042616494384128185, 0.042616494384128185, 0.042616494384128185, 0.042616494384128185, 0.0730625934817232, 0.012177098913620532, 0.15830228587706693, 0.04870839565448213, 0.4749068576312008, 0.17047938479068744, 0.024354197827241065, 0.024354197827241065, 0.012177098913620532, 0.2453565613751819, 0.07482505063214766, 0.08874599028464025, 0.05742387606653193, 0.12702857432899486, 0.20011350750458096, 0.05742387606653193, 0.06090411097965508, 0.059163993523093504, 0.027841879304985176, 0.049558137810578114, 0.049558137810578114, 0.049558137810578114, 0.09911627562115623, 0.049558137810578114, 0.6442557915375154, 0.049558137810578114, 0.02986407704529517, 0.5972815409059034, 0.0895922311358855, 0.05972815409059034, 0.05972815409059034, 0.02986407704529517, 0.02986407704529517, 0.0895922311358855, 0.027187424130095127, 0.2990616654310464, 0.08156227239028538, 0.027187424130095127, 0.43499878608152204, 0.10874969652038051, 0.1717363397575973, 0.1717363397575973, 0.13370900738270075, 0.0760546647497931, 0.11776206154806672, 0.09568167500780421, 0.0736012884675417, 0.05765434263290767, 0.04661414936277641, 0.05397427820953058, 0.09702256714123624, 0.17592003932202174, 0.0725003798418029, 0.12154475444066956, 0.09808874919773333, 0.07889747218078551, 0.09489020302824203, 0.12474330061016087, 0.08102983629377972, 0.054375284881352175, 0.7154264219861788, 0.07949182466513098, 0.15898364933026196, 0.027976926005560187, 0.9232385581834861, 0.6292712853513643, 0.06991903170570715, 0.1398380634114143, 0.06991903170570715, 0.06991903170570715, 0.2061382612350562, 0.6184147837051687, 0.13252626552518154, 0.14909204871582923, 0.11359394187872703, 0.07572929458581802, 0.08992853732065889, 0.10176123959969297, 0.09702815868807933, 0.07336275413001121, 0.08282891595323846, 0.08519545640904527, 0.13819734165840852, 0.13619448163437362, 0.11015730132191982, 0.15622308187472267, 0.04806864057683774, 0.08812584105753586, 0.1321887615863038, 0.03805434045666321, 0.06809724081718681, 0.08412012100946605, 0.5850442489330101, 0.23401769957320404, 0.0829744489503581, 0.6637955916028648, 0.1659488979007162, 0.7802297132408078, 0.11146138760582969, 0.15744026068109662, 0.04373340574474906, 0.08746681148949811, 0.419840695149591, 0.04373340574474906, 0.13120021723424719, 0.008746681148949812, 0.03498672459579925, 0.052480086893698874, 0.03498672459579925, 0.09386949800082153, 0.7978907330069831, 0.09386949800082153, 0.0887652098914303, 0.029588403297143434, 0.0887652098914303, 0.029588403297143434, 0.11835361318857374, 0.05917680659428687, 0.47341445275429495, 0.05917680659428687, 0.014794201648571717, 0.05917680659428687, 0.03531622390048812, 0.03531622390048812, 0.56505958240781, 0.07063244780097624, 0.21189734340292873, 0.03531622390048812, 0.03531622390048812, 0.8364617580156473, 0.027882058600521575, 0.1115282344020863, 0.1151372325360708, 0.0383790775120236, 0.6140652401923776, 0.0767581550240472, 0.0383790775120236, 0.0767581550240472, 0.04863676846665073, 0.3404573792665551, 0.535004453133158, 0.04863676846665073, 0.06425417263172879, 0.8353042442124744, 0.06425417263172879, 0.3265969977104919, 0.10886566590349729, 0.10886566590349729, 0.43546266361398916, 0.6853688653190302, 0.05711407210991918, 0.05711407210991918, 0.17134221632975755, 0.04080385501052899, 0.20401927505264494, 0.5712539701474059, 0.16321542004211595, 0.07654527620665794, 0.10206036827554392, 0.5103018413777196, 0.02551509206888598, 0.20412073655108784, 0.02551509206888598, 0.05103018413777196, 0.04688768984098174, 0.5392084331712901, 0.04688768984098174, 0.02344384492049087, 0.35165767380736307, 0.8419779616360584, 0.04209889808180292, 0.04209889808180292, 0.1137819262844491, 0.2275638525688982, 0.512018668280021, 0.1137819262844491, 0.021346276436868268, 0.08538510574747307, 0.6617345695429163, 0.021346276436868268, 0.08538510574747307, 0.021346276436868268, 0.08538510574747307, 0.09709014626145825, 0.15719357013759908, 0.10864849700686995, 0.12020684775228163, 0.10055765148508175, 0.15257022983943438, 0.06935010447247017, 0.08090845521788187, 0.08899930073967006, 0.02542837163990573, 0.06974686596006326, 0.06974686596006326, 0.1394937319201265, 0.557974927680506, 0.1394937319201265, 0.1456179301317665, 0.1456179301317665, 0.6795503406149103, 0.17960168821024944, 0.7184067528409978, 0.8030196596585059, 0.057358547118464706, 0.10632230555605733, 0.16798924277857058, 0.17011568888969172, 0.09781652111157274, 0.07017272166699784, 0.13396610500063225, 0.07867850611148243, 0.07867850611148243, 0.046781814444665226, 0.053161152778028666, 0.1219409804176325, 0.1219409804176325, 0.731645882505795, 0.1219409804176325, 0.010369671322762473, 0.020739342645524947, 0.1140663845503872, 0.05184835661381237, 0.09332704190486225, 0.23850244042353688, 0.05184835661381237, 0.020739342645524947, 0.36293849629668656, 0.03110901396828742, 0.13012200541979307, 0.13012200541979307, 0.5204880216791723, 0.13012200541979307, 0.12082266292151081, 0.1812339943822662, 0.060411331460755405, 0.060411331460755405, 0.5437019831467986, 0.09895585955818575, 0.04947792977909288, 0.11544850281788338, 0.42880872475213827, 0.0659705730387905, 0.08246321629848813, 0.03298528651939525, 0.0659705730387905, 0.0659705730387905, 0.016492643259697626, 0.0269345492847269, 0.1346727464236345, 0.7541673799723532, 0.0269345492847269, 0.0269345492847269, 0.0781833597459107, 0.664558557840241, 0.2345500792377321, 0.05370239682011943, 0.042961917456095546, 0.05370239682011943, 0.37591677774083604, 0.042961917456095546, 0.28999294282864496, 0.021480958728047773, 0.042961917456095546, 0.05370239682011943, 0.010740479364023886, 0.08361487057986429, 0.8361487057986429, 0.041054573650695966, 0.9442551939660072, 0.013684857883565322, 0.14301820031894422, 0.5720728012757769, 0.07150910015947211, 0.07150910015947211, 0.07150910015947211, 0.07520211534850912, 0.07938001064564852, 0.1253368589141819, 0.17964949777699404, 0.1128031730227637, 0.04177895297139396, 0.07102422005136973, 0.05431263886281215, 0.19218318366841222, 0.07102422005136973, 0.06942117979849834, 0.04984084703481932, 0.05340090753730642, 0.23140393266166115, 0.07298124030098543, 0.05874099829103706, 0.15664266210943215, 0.11926202683331767, 0.09968169406963864, 0.08900151256217737, 0.8617364260378678, 0.6771368525298321, 0.11285614208830536, 0.6339018001402195, 0.15847545003505487, 0.15847545003505487, 0.08041359513268247, 0.7237223561941422, 0.08041359513268247, 0.15997166909209629, 0.07998583454604814, 0.15997166909209629, 0.07998583454604814, 0.07998583454604814, 0.559900841822337, 0.08099172787691854, 0.18142147044429754, 0.14254544106337663, 0.10690908079753247, 0.09071073522214877, 0.08423139699199528, 0.09719007345230225, 0.06479338230153484, 0.03563636026584416, 0.11338841902768595, 0.05134847797781835, 0.025674238988909175, 0.025674238988909175, 0.5648332577560019, 0.025674238988909175, 0.025674238988909175, 0.025674238988909175, 0.07702271696672754, 0.17971967292236424, 0.07051921652194809, 0.02350640550731603, 0.0822724192756061, 0.035259608260974046, 0.035259608260974046, 0.2938300688414504, 0.011753202753658015, 0.28207686608779237, 0.04701281101463206, 0.12928523029023817, 0.18900434671547844, 0.6930159379567543, 0.06300144890515949, 0.867490284760682, 0.0826181223581602, 0.05968698408457536, 0.10445222214800688, 0.16840256223862332, 0.16413920623258224, 0.14708578220841784, 0.0703453740996781, 0.07887208611176029, 0.05968698408457536, 0.10232054414498633, 0.04689691606645207, 0.30267672476595336, 0.05532800345184094, 0.08136471095858962, 0.10414683002699471, 0.1074014184653383, 0.05858259189018453, 0.11716518378036905, 0.07485553408190244, 0.0423096496984666, 0.05532800345184094, 0.05613140807579852, 0.08887472945334765, 0.09822996413264741, 0.32743321377549134, 0.04209855605684889, 0.06548664275509827, 0.04209855605684889, 0.07016426009474815, 0.07016426009474815, 0.13565090284984643, 0.08347716345469948, 0.6678173076375958, 0.08347716345469948, 0.08347716345469948, 0.13385355471017035, 0.17120803509440394, 0.10428125773931876, 0.09805551100861316, 0.13074068134481756, 0.10116838437396596, 0.08093470749917277, 0.07315252408579077, 0.07315252408579077, 0.034241607018880786, 0.0922738462613832, 0.7381907700910656, 0.04961062169337909, 0.024805310846689545, 0.1488318650801373, 0.024805310846689545, 0.04961062169337909, 0.12402655423344773, 0.4713009060871014, 0.07441593254006865, 0.024805310846689545, 0.9744174213489024, 0.12686196871302943, 0.7611718122781767, 0.06343098435651472, 0.05167922684124486, 0.8785468563011626, 0.20491832283736783, 0.03725787687952142, 0.4470945225542571, 0.03725787687952142, 0.11177363063856427, 0.03725787687952142, 0.07451575375904285, 0.03725787687952142, 0.01862893843976071, 0.5765575215540132, 0.0480464601295011, 0.0480464601295011, 0.02402323006475055, 0.16816261045325387, 0.07206969019425165, 0.07206969019425165, 0.07354361933039634, 0.9192952416299542, 0.9331988424887057, 0.5875739328207987, 0.022598997416184565, 0.022598997416184565, 0.09039598966473826, 0.1355939844971074, 0.04519799483236913, 0.0677969922485537, 0.022598997416184565, 0.6192527720944012, 0.2752234542641783, 0.15833242987051285, 0.013194369155876072, 0.026388738311752143, 0.013194369155876072, 0.05277747662350429, 0.6201353503261754, 0.11874932240288465, 0.1626398980545899, 0.1540799034201378, 0.0684799570756168, 0.11555992756510336, 0.03851997585503445, 0.1027199356134252, 0.085599946344521, 0.07275995439284286, 0.07275995439284286, 0.12411992219955545, 0.09806788687890677, 0.09806788687890677, 0.04903394343945339, 0.5884073212734406, 0.04903394343945339, 0.04903394343945339, 0.14283381194908482, 0.11202651917575279, 0.09662287278908678, 0.12042850811393425, 0.12042850811393425, 0.07701823193333004, 0.08822088385090533, 0.10782552470666207, 0.08261955789211768, 0.05321259660848258, 0.9309491936658953, 0.0864713139813593, 0.2594139419440779, 0.6052991978695151, 0.14794473584818255, 0.4438342075445476, 0.07075617801434818, 0.02572951927794479, 0.05789141837537578, 0.05789141837537578, 0.02572951927794479, 0.019297139458458592, 0.09005331747280676, 0.06432379819486198, 0.19076010493124654, 0.0540205606884946, 0.18569567736670017, 0.08778341111880371, 0.08271898355425734, 0.10128855129092737, 0.07934269851122644, 0.09453598120486553, 0.07934269851122644, 0.045579848080917314, 0.20795917749091192, 0.25578978831382165, 0.10605918052036507, 0.09566122164581949, 0.0436714272730915, 0.09566122164581949, 0.04575101904800062, 0.04783061082290974, 0.06030816147236445, 0.03743265194836414, 0.09981745555702357, 0.5989047333421413, 0.19963491111404713, 0.2364614278428134, 0.038870371700188505, 0.06154475519196513, 0.07450154575869464, 0.1457638938757069, 0.05506635990860038, 0.02915277877514138, 0.07774074340037701, 0.1975910561426249, 0.08421913868374176, 0.04960180402632984, 0.1488054120789895, 0.04960180402632984, 0.04960180402632984, 0.04960180402632984, 0.595221648315958, 0.04960180402632984, 0.027718735724633112, 0.027718735724633112, 0.8038433360143603, 0.11087494289853245, 0.1377191110366338, 0.1748568488442654, 0.10058137322900222, 0.10522359045495616, 0.08355991006717108, 0.06189622967938598, 0.07118066413129388, 0.11296061916487941, 0.10212877897098686, 0.04951698374350878, 0.7689719520530485, 0.13258137104362905, 0.05303254841745162, 0.15516643271955802, 0.15718158119643538, 0.1652421751039449, 0.10478772079762359, 0.10781044351293965, 0.08060593907509507, 0.05541658311412786, 0.06448475126007605, 0.07556806788290163, 0.034257524106915405, 0.24249316810173246, 0.12124658405086623, 0.6062329202543312, 0.180990864789537, 0.085732514900307, 0.069856123252102, 0.146062803163486, 0.1031965457133325, 0.088907793229948, 0.11113474153743501, 0.07938195824102501, 0.050804453274256, 0.0841448757354865, 0.024516839339105603, 0.024516839339105603, 0.7355051801731681, 0.19613471471284483, 0.13187302484122085, 0.6593651242061042, 0.07214888663735405, 0.7214888663735405, 0.07214888663735405, 0.07214888663735405, 0.12105689207337447, 0.24695605982968394, 0.07747641092695967, 0.06537072171962222, 0.08473982445136213, 0.046001618987882305, 0.13558371912217942, 0.05568617035375226, 0.08716096229282963, 0.08231868660989465, 0.6930173492379593, 0.07700192769310658, 0.07700192769310658, 0.07700192769310658, 0.07700192769310658, 0.9476045209673184, 0.3134532619108512, 0.016497540100571115, 0.06599016040228446, 0.11548278070399781, 0.04949262030171335, 0.428936042614849, 0.16262835296552633, 0.15637341631300608, 0.09695151811406377, 0.1235349988872748, 0.08287791064589323, 0.13760860635544536, 0.08444164480902329, 0.053166961546422066, 0.0641131006883325, 0.03909335407825152, 0.1949894141823994, 0.06499647139413313, 0.5849682425471983, 0.12999294278826626, 0.18147729960962633, 0.025925328515660904, 0.15009400719593155, 0.15828095304298234, 0.11461724185871136, 0.14463604329789767, 0.07231802164894884, 0.07095353067444037, 0.05185065703132181, 0.03138329241369478, 0.12528328142059988, 0.07687837723536811, 0.13667267064065441, 0.21355104787602253, 0.15375675447073622, 0.09680980837046355, 0.051252251490245405, 0.051252251490245405, 0.04271020957520451, 0.051252251490245405, 0.12873490237440674, 0.06733825662661275, 0.12477382845519422, 0.08714362622267532, 0.09704631102070661, 0.11289060669755667, 0.10100738493991913, 0.09110470014188785, 0.14655973501086306, 0.04159127615173141, 0.05625247924444681, 0.15469431792222874, 0.05022542789682751, 0.22902795120953343, 0.14464923234286323, 0.09844183867778192, 0.08236970175079711, 0.048216410780954407, 0.10245987290952811, 0.032144273853969604, 0.01857021305175515, 0.9285106525877574, 0.01857021305175515, 0.01857021305175515, 0.06645047056801093, 0.7974056468161311, 0.06645047056801093, 0.08299505527230842, 0.6639604421784674, 0.08299505527230842, 0.08299505527230842, 0.1639393505705989, 0.006830806273774954, 0.3142170885936479, 0.15710854429682394, 0.18443176939192377, 0.020492418821324864, 0.013661612547549908, 0.12295451292794918, 0.013661612547549908, 0.04875384567638249, 0.6337999937929724, 0.04875384567638249, 0.09750769135276498, 0.04875384567638249, 0.04875384567638249, 0.04875384567638249, 0.04594635882019562, 0.2756781529211737, 0.6432490234827386, 0.04594635882019562, 0.18174010549122427, 0.06285748009470915, 0.1995041759527725, 0.138013162816644, 0.058758079218967245, 0.11341675756219259, 0.06285748009470915, 0.06149101313612851, 0.08882035230774118, 0.031428740047354575, 0.08975764912083738, 0.11668494385708858, 0.10770917894500484, 0.08975764912083738, 0.08975764912083738, 0.0718061192966699, 0.02692729473625121, 0.2692729473625121, 0.05385458947250242, 0.08975764912083738, 0.10778923011519333, 0.035929743371731104, 0.035929743371731104, 0.14371897348692442, 0.035929743371731104, 0.5389461505759666, 0.07185948674346221, 0.12975224138580063, 0.20718503059990748, 0.0962677919959166, 0.09417501390904885, 0.03557722747675179, 0.12765946329893288, 0.07952556730097458, 0.12975224138580063, 0.05441223025856156, 0.0439483398242228, 0.04868012278446135, 0.7302018417669203, 0.0973602455689227, 0.04868012278446135, 0.15758784662988828, 0.06028528361009149, 0.10893656511998989, 0.1099942016745529, 0.09941783612892281, 0.10787892856542688, 0.06980401260115857, 0.10470601890173785, 0.08143801470135166, 0.10047547268348582, 0.7574577299635682, 0.09468221624544602, 0.09468221624544602, 0.2012679675554762, 0.06708932251849208, 0.6038039026664286, 0.06708932251849208, 0.10997025992664919, 0.21994051985329838, 0.5498512996332459, 0.28686529205083805, 0.6454469071143857, 0.0917428336219587, 0.0917428336219587, 0.0305809445406529, 0.0305809445406529, 0.1834856672439174, 0.0611618890813058, 0.0305809445406529, 0.0611618890813058, 0.3975522790284877, 0.09690134635114812, 0.09690134635114812, 0.19380269270229625, 0.5814080781068888, 0.14122840600670117, 0.07759802527840723, 0.13346860347886044, 0.16605977409579148, 0.128812721962156, 0.11174115640090641, 0.09932547235636126, 0.05276665718931692, 0.058974499211589496, 0.031039210111362892, 0.1573599375841164, 0.09441596255046984, 0.03147198751682328, 0.03147198751682328, 0.18883192510093968, 0.03147198751682328, 0.03147198751682328, 0.03147198751682328, 0.40913583771870266, 0.826127873555002, 0.10326598419437524, 0.09923741645530401, 0.09923741645530401, 0.19847483291060802, 0.09923741645530401, 0.4961870822765201, 0.054117122397832805, 0.06764640299729101, 0.608817626975619, 0.013529280599458201, 0.0811756835967492, 0.013529280599458201, 0.027058561198916403, 0.027058561198916403, 0.0811756835967492, 0.024192736169904094, 0.09677094467961637, 0.16934915318932867, 0.04838547233980819, 0.07257820850971229, 0.14515641701942458, 0.024192736169904094, 0.3628910425485614, 0.14364718571184823, 0.17603821778412773, 0.07464020434047017, 0.09153987324774643, 0.053515618206374835, 0.09435648473229247, 0.06619036988683204, 0.11970598809320687, 0.0830900387941083, 0.09717309621683852, 0.11382059257211595, 0.12804816664363045, 0.15650331478665944, 0.2987790555018044, 0.03556893517878623, 0.07825165739332972, 0.08536544442908696, 0.028455148143028988, 0.04979650925030073, 0.028455148143028988, 0.2351607376826176, 0.587901844206544, 0.672928695862485, 0.2018786087587455, 0.0672928695862485, 0.6863138499953944, 0.08074280588181111, 0.16148561176362222, 0.09585391027691863, 0.6709773719384304, 0.028572382915059317, 0.08571714874517795, 0.057144765830118634, 0.19286358467665038, 0.12857572311776694, 0.06428786155888347, 0.02142928718629449, 0.2428652547780042, 0.1214326273890021, 0.050001670101353805, 0.2381019970543247, 0.5952549926358117, 0.04493490091426218, 0.6740235137139327, 0.22467450457131088, 0.02733073207916192, 0.018220488052774615, 0.09110244026387307, 0.07288195221109846, 0.46462244534575264, 0.03644097610554923, 0.20953561260690806, 0.02733073207916192, 0.02733073207916192, 0.03644097610554923, 0.22851394877207323, 0.13897924369763517, 0.1135888049451826, 0.0828530106658979, 0.12027049935372275, 0.08018033290248183, 0.08151667178418986, 0.06147158855856941, 0.05879891079515335, 0.032072133160992736, 0.017210259757116545, 0.03442051951423309, 0.08605129878558272, 0.3958359744136805, 0.017210259757116545, 0.32699493538521435, 0.06884103902846618, 0.03442051951423309, 0.017210259757116545, 0.05996823466733828, 0.05996823466733828, 0.05996823466733828, 0.05996823466733828, 0.11993646933467655, 0.5397141120060445, 0.05996823466733828, 0.05996823466733828, 0.31912869187725335, 0.041030831812789714, 0.047869303781588005, 0.06838471968798286, 0.13904893003223182, 0.18235925250128762, 0.03875134115652362, 0.03875134115652362, 0.041030831812789714, 0.08434115428184553, 0.11393389375434078, 0.35751670109120726, 0.12179140366843325, 0.0471450594845548, 0.09036136401206338, 0.05893132435569351, 0.0471450594845548, 0.0471450594845548, 0.04321630452750857, 0.06678883426978598, 0.21381183571260215, 0.6414355071378064, 0.6990626300775238, 0.08738282875969047, 0.17476565751938095, 0.13316045244976665, 0.06658022622488333, 0.7323824884737167, 0.8078943172990467, 0.10098678966238084, 0.09875650962398624, 0.1975130192479725, 0.09875650962398624, 0.4937825481199312, 0.1340201587410919, 0.06701007937054596, 0.06701007937054596, 0.06701007937054596, 0.06701007937054596, 0.6030907143349136, 0.06701007937054596, 0.11128186715800403, 0.5564093357900202, 0.11128186715800403, 0.11128186715800403, 0.08786643106371188, 0.17573286212742376, 0.08786643106371188, 0.6150650174459831, 0.1752499506197463, 0.11204505039623124, 0.11060857539115135, 0.09480735033527259, 0.10055325035559214, 0.1637581505791072, 0.07613317526923405, 0.07900612527939382, 0.06033195021335528, 0.025856550091437978, 0.20165703146728245, 0.13145050940089523, 0.12846299782360215, 0.05526896417992186, 0.1702881599057052, 0.0776753010096199, 0.0776753010096199, 0.06273774312315454, 0.056762719968568395, 0.03883765050480995, 0.1844707967507298, 0.5534123902521894, 0.0922353983753649, 0.9437594231024592, 0.06905768301039615, 0.15250238331462482, 0.08919950722176169, 0.11221873489189374, 0.09783171759806121, 0.21005045248995496, 0.11509613835066025, 0.05179326225779711, 0.05467066571656362, 0.048915858799030605, 0.12974619508707805, 0.12654258533184154, 0.11052453655565908, 0.1217371706989868, 0.15537507312897, 0.07047941461520289, 0.05766497559425691, 0.10732092680042259, 0.06887760973758464, 0.05446136583902041, 0.08431183560036622, 0.6744946848029297, 0.08431183560036622, 0.08431183560036622, 0.6561074240218634, 0.25234900923917825, 0.16641560671373073, 0.10400975419608172, 0.1950182891176532, 0.062405852517649026, 0.11441072961568989, 0.1404131681647103, 0.04420414553333473, 0.06760634022745311, 0.059805608662746985, 0.041603901678432684, 0.16113237822412393, 0.13183558218337413, 0.10839814535077429, 0.04687487366519969, 0.21679629070154857, 0.08203102891409945, 0.08203102891409945, 0.05859359208149961, 0.08496070851817444, 0.029296796040749806, 0.08931773584892011, 0.16812750277443786, 0.2206673473914497, 0.047285860155310645, 0.10507968923402367, 0.05779382907871301, 0.15499254162018491, 0.05253984461701183, 0.044658867924460055, 0.05779382907871301, 0.13265449328111442, 0.06753319657947644, 0.11818309401408376, 0.17365679120436797, 0.11577119413624531, 0.06270939682379954, 0.14471399267030666, 0.06994509645731488, 0.07235699633515333, 0.04341419780109199, 0.12402450512150189, 0.1263427201705019, 0.14141111798900216, 0.11475164492550174, 0.132138257793002, 0.06143269879850093, 0.09620592453350146, 0.09504681700900144, 0.06722823642100102, 0.04172787088200063, 0.28210907204331115, 0.12896414721979937, 0.060451944009280965, 0.0523916848080435, 0.09672311041484954, 0.08866285121361207, 0.10881349921670573, 0.07254233281113716, 0.05642181440866223, 0.05642181440866223, 0.13514124528920965, 0.15257882532652703, 0.07846911016792818, 0.11770366525189227, 0.11334427024256293, 0.08282850517725752, 0.05667213512128146, 0.06975032014926949, 0.06539092513994015, 0.1307818502798803, 0.03350458403393558, 0.03350458403393558, 0.06700916806787116, 0.13401833613574232, 0.4690641764750982, 0.1507706281527101, 0.03350458403393558, 0.08376146008483895, 0.01675229201696779, 0.15396695711977296, 0.46190087135931884, 0.7011294681999081, 0.16179910804613262, 0.05393303601537754, 0.2778562625475836, 0.1389281312737918, 0.0572057011127378, 0.09806691619326481, 0.10623915920937022, 0.0572057011127378, 0.23699504746705663, 0.008172243016105401, 0.09812629886936519, 0.8831366898242867, 0.016354383144894197, 0.19693092034628995, 0.15683720003626686, 0.1096681173185926, 0.09787584663917405, 0.1096681173185926, 0.07782898648416249, 0.10495120904682519, 0.06249903460091837, 0.0483483097856161, 0.035376812038255684, 0.8939248792216425, 0.052583816424802504, 0.6724415867976138, 0.1921261676564611, 0.09606308382823055, 0.047800568172391575, 0.07966761362065262, 0.0637340908965221, 0.11950142043097893, 0.03186704544826105, 0.047800568172391575, 0.31070369312054524, 0.17526874996543576, 0.0637340908965221, 0.03983380681032631, 0.09611722569819613, 0.6728205798873729, 0.14417583854729418, 0.04805861284909806, 0.24714408887865338, 0.12590359244761587, 0.12124049643103751, 0.0816041802901214, 0.05595715219894039, 0.1515506205387969, 0.07694108427354303, 0.04663096016578366, 0.05828870020722957, 0.03264167211604856, 0.1572644006704987, 0.21380890428236343, 0.11839005443734173, 0.10425392853437555, 0.038874346233156984, 0.053010472136123164, 0.08128272394205552, 0.09895288132076324, 0.08128272394205552, 0.05477748787399393, 0.12552568071533415, 0.13556773517256088, 0.03514719060029356, 0.06025232674336039, 0.15565184408701435, 0.3213457426312554, 0.03514719060029356, 0.03514719060029356, 0.06025232674336039, 0.04016821782890693, 0.1396175955365049, 0.087008066783619, 0.07891429312932886, 0.08296117995647392, 0.1800864638079556, 0.0809377365429014, 0.15580514284508518, 0.05058608533931337, 0.09712528385148167, 0.046539198512168305, 0.16515139387173663, 0.44688024224116973, 0.03885915149923215, 0.058288727248848225, 0.029144363624424113, 0.04857393937404019, 0.029144363624424113, 0.06800351512365627, 0.03885915149923215, 0.0777183029984643, 0.17994416270551875, 0.10533316841298658, 0.0848517189993503, 0.07461099429253217, 0.12874053917142803, 0.08338875832694771, 0.11703685379220731, 0.08924060101655808, 0.0658332302581166, 0.07168507294772698, 0.21159780525360655, 0.12398308901578509, 0.07273674555592725, 0.08596160838427766, 0.07438985340947105, 0.08265539267719006, 0.1272893047228727, 0.12894241257641648, 0.04628701989922643, 0.047940127752770234, 0.6413006812370224, 0.10688344687283707, 0.10688344687283707, 0.10688344687283707, 0.1244666901642401, 0.6223334508212005, 0.1723361386091787, 0.6318991749003219, 0.1723361386091787, 0.8600018088843944, 0.10117668339816405, 0.05189543694065286, 0.8822224279910985, 0.02594771847032643, 0.02594771847032643, 0.14274771330425723, 0.04758257110141908, 0.04758257110141908, 0.12688685627045088, 0.47582571101419074, 0.03172171406761272, 0.03172171406761272, 0.06344342813522544, 0.01586085703380636, 0.01586085703380636, 0.09397055564635218, 0.18794111129270435, 0.18794111129270435, 0.3758822225854087, 0.18270350296614596, 0.12092605951716136, 0.05914861606817675, 0.0709783392818121, 0.13012695534998886, 0.13275578273079672, 0.1182972321363535, 0.07492158035302389, 0.06703509821060032, 0.044690065473733546, 0.02127951343811887, 0.10639756719059436, 0.06383854031435661, 0.3830312418861397, 0.08511805375247548, 0.04255902687623774, 0.2979131881336642, 0.04843710547968879, 0.6296823712359543, 0.04843710547968879, 0.04843710547968879, 0.09687421095937758, 0.04843710547968879, 0.027199590711421192, 0.08159877213426357, 0.06799897677855299, 0.013599795355710596, 0.06799897677855299, 0.5439918142284239, 0.040799386067131786, 0.08159877213426357, 0.040799386067131786, 0.040799386067131786, 0.05600693538606244, 0.0896110966176999, 0.03360416123163747, 0.011201387077212488, 0.15681941908097483, 0.06720832246327493, 0.03360416123163747, 0.12321525784933737, 0.3920485477024371, 0.022402774154424977, 0.658960656091319, 0.21965355203043968, 0.07301307615919754, 0.6717203006646173, 0.11682092185471606, 0.029205230463679014, 0.014602615231839507, 0.04380784569551852, 0.014602615231839507, 0.014602615231839507, 0.014602615231839507, 0.039863616896966554, 0.6776814872484315, 0.15945446758786622, 0.0996590422424164, 0.07997985631300808, 0.07997985631300808, 0.07997985631300808, 0.6398388505040646, 0.06812342954366536, 0.04954431239539299, 0.04954431239539299, 0.150697283535987, 0.09495993209116989, 0.09083123939155381, 0.06399473684404927, 0.2167563667298443, 0.0701877758934734, 0.14450424448656288, 0.092007101786772, 0.05953400703849953, 0.17318983865745316, 0.0947131930157947, 0.12177410530602176, 0.13530456145113529, 0.06494618949654495, 0.07847664564165847, 0.138010652680158, 0.04329745966436329, 0.5503507246796733, 0.07504782609268272, 0.07504782609268272, 0.05003188406178848, 0.02501594203089424, 0.07504782609268272, 0.05003188406178848, 0.02501594203089424, 0.02501594203089424, 0.05003188406178848, 0.1372377252555659, 0.08234263515333955, 0.1372377252555659, 0.10979018020445273, 0.20433172426939814, 0.09759127129284687, 0.060994544558029294, 0.05489509010222637, 0.06709399901383223, 0.04879563564642343, 0.15443818797555894, 0.7721909398777947, 0.9262437212324278, 0.12234957983338185, 0.0815663865555879, 0.04078319327779395, 0.04078319327779395, 0.0815663865555879, 0.1631327731111758, 0.04078319327779395, 0.12234957983338185, 0.3262655462223516, 0.09930419764948946, 0.05821280551866623, 0.13354702442517546, 0.061637088196234834, 0.15066843781301847, 0.16094128584572429, 0.07875850158407784, 0.15751700316815567, 0.061637088196234834, 0.03766710945325462, 0.1404813826047351, 0.14750545173497187, 0.10711705423611052, 0.08604484684540026, 0.1281892616268208, 0.08780086412795945, 0.08604484684540026, 0.04390043206397973, 0.1281892616268208, 0.04565644934653892, 0.026492910483149845, 0.15895746289889906, 0.6623227620787461, 0.07947873144944953, 0.026492910483149845, 0.13242486517360202, 0.19773027813592634, 0.10884235493720715, 0.11791255118197441, 0.11972659043092787, 0.059863295215463935, 0.04897905972174322, 0.054421177468603574, 0.09433004094557954, 0.06349137371337084, 0.10447845875247594, 0.20895691750495188, 0.10447845875247594, 0.5223922937623797, 0.22554606181341647, 0.08568230281180067, 0.11340304783914794, 0.059221591649332814, 0.11592311556890678, 0.1411237928664952, 0.06174165937909166, 0.1171831494337862, 0.05796155778445339, 0.022680609567829586, 0.21438038811321333, 0.128628232867928, 0.5573890090943546, 0.042876077622642665, 0.042876077622642665, 0.49049090066022505, 0.02229504093910114, 0.02229504093910114, 0.04459008187820228, 0.22295040939101138, 0.04459008187820228, 0.02229504093910114, 0.02229504093910114, 0.11147520469550569, 0.9240113703168356, 0.034222643345067985, 0.6435104569805119, 0.29250475317296, 0.12696432982528066, 0.12696432982528066, 0.5078573193011227, 0.25392865965056133, 0.4129388701214076, 0.02502659818917622, 0.06256649547294055, 0.32534577645929086, 0.01251329909458811, 0.01251329909458811, 0.1251329909458811, 0.09716753894062687, 0.7773403115250149, 0.06477835929375124, 0.2639655034688758, 0.6159195080940436, 0.12787756763832497, 0.25575513527664995, 0.11666023714373508, 0.1390948981329149, 0.05833011857186754, 0.05384318637403157, 0.08076477956104736, 0.06057358467078552, 0.05159972027511359, 0.056086652472949555, 0.03329498790051545, 0.03329498790051545, 0.09988496370154636, 0.03329498790051545, 0.09988496370154636, 0.09988496370154636, 0.43283484270670086, 0.03329498790051545, 0.0665899758010309, 0.3077734889153224, 0.1875494698077746, 0.05770752917162295, 0.06251648993592487, 0.03366272535011339, 0.05770752917162295, 0.14426882292905738, 0.043280646878717216, 0.07213441146452869, 0.03366272535011339, 0.19805072781262295, 0.09902536390631148, 0.6931775473441804, 0.033818596155145854, 0.060873473079262545, 0.4599329077099837, 0.04058231538617503, 0.033818596155145854, 0.10821950769646674, 0.020291157693087515, 0.21643901539293348, 0.020291157693087515, 0.013527438462058342, 0.9698553721814982, 0.0745381450739493, 0.0745381450739493, 0.0745381450739493, 0.5963051605915944, 0.0745381450739493, 0.0745381450739493, 0.02930755499882438, 0.02930755499882438, 0.02930755499882438, 0.7913039849682583, 0.02930755499882438, 0.02930755499882438, 0.05861510999764876, 0.03923006115086669, 0.07846012230173338, 0.5884509172630004, 0.03923006115086669, 0.11769018345260007, 0.15692024460346676, 0.8463053956563531, 0.05289408722852207, 0.05289408722852207, 0.05289408722852207, 0.06227790402594412, 0.03113895201297206, 0.1556947600648603, 0.06227790402594412, 0.06227790402594412, 0.12455580805188823, 0.4048063761686368, 0.03113895201297206, 0.0647747199437254, 0.1295494398874508, 0.7125219193809794, 0.0647747199437254, 0.6495450395134278, 0.1082575065855713, 0.1082575065855713, 0.1082575065855713, 0.1082575065855713, 0.6477113314808249, 0.32385566574041247, 0.059059213274474893, 0.23623685309789957, 0.11811842654894979, 0.11811842654894979, 0.47247370619579915, 0.18428050491628023, 0.09214025245814011, 0.09214025245814011, 0.09214025245814011, 0.36856100983256046, 0.1519627826457722, 0.040523408705539256, 0.040523408705539256, 0.010130852176384814, 0.010130852176384814, 0.35457982617346845, 0.07091596523469369, 0.2127478957040811, 0.10130852176384814, 0.7632105938600288, 0.08480117709555875, 0.18711947108261637, 0.18711947108261637, 0.4677986777065409, 0.16109593478701714, 0.6443837391480686, 0.10739728985801143, 0.10732730277243137, 0.10732730277243137, 0.06766286479131543, 0.13765893181681416, 0.08866168489896505, 0.11899331394334782, 0.14465853851936403, 0.08866168489896505, 0.10266089830406479, 0.03966443798111594, 0.06710990165903351, 0.8053188199084022, 0.06710990165903351, 0.06710990165903351, 0.2285403630596414, 0.6856210891789242, 0.10356410142417814, 0.10356410142417814, 0.6213846085450688, 0.20712820284835629, 0.16580202286662943, 0.1334846794265237, 0.07587550198981347, 0.039342852883606984, 0.09695203032031721, 0.10397753976381846, 0.12926937376042294, 0.11240815109601995, 0.09414182654291671, 0.05058366799320898, 0.055897420696091604, 0.07149670089034973, 0.10529514131124233, 0.1351937616835704, 0.19499100242822653, 0.23788902296243636, 0.02989862037232807, 0.07019676087416155, 0.07279664090653791, 0.027298740339951715, 0.11593214475074169, 0.6955928685044501, 0.11593214475074169, 0.11593214475074169, 0.8016617044585268, 0.0890735227176141, 0.23138571772536679, 0.578464294313417, 0.2912851172813176, 0.5825702345626352, 0.3254418176194185, 0.650883635238837, 0.03780343774214471, 0.7938721925850388, 0.07560687548428942, 0.03780343774214471, 0.10244694280349609, 0.09480164856442921, 0.09633070741224259, 0.14678964939008393, 0.10397600165130946, 0.16513835556384443, 0.08715635432536234, 0.053517059673468106, 0.09938882510786934, 0.05198800082565473, 0.09863339520761776, 0.6904337664533242, 0.12901092051613083, 0.025802184103226166, 0.025802184103226166, 0.10320873641290466, 0.2838240251354878, 0.025802184103226166, 0.05160436820645233, 0.36123057744516635, 0.10139770885404903, 0.12905162945060786, 0.10139770885404903, 0.20279541770809806, 0.15670555004716666, 0.10139770885404903, 0.04608986766093137, 0.04608986766093137, 0.06145315688124183, 0.05530784119311765, 0.7301670187922185, 0.052154787056587035, 0.052154787056587035, 0.052154787056587035, 0.052154787056587035, 0.17908681722352324, 0.09343660029053386, 0.08954340861176162, 0.05061149182403917, 0.06618425853912815, 0.159620858829662, 0.07007745021790039, 0.10900936700562285, 0.07007745021790039, 0.11679575036316733, 0.11586671901192737, 0.6952003140715642, 0.11586671901192737, 0.11415135640471595, 0.057075678202357975, 0.5707567820235797, 0.17122703460707392, 0.057075678202357975, 0.15555712377587155, 0.10899580781574673, 0.09523905537298258, 0.1534407003231386, 0.10158832573118143, 0.0751330325720196, 0.0867733615620508, 0.1142868664475791, 0.062434491855621915, 0.04656131596012482, 0.13089641327767812, 0.08726427551845208, 0.04363213775922604, 0.5672177908699385, 0.13089641327767812, 0.021395985620652005, 0.6204835829989082, 0.12837591372391202, 0.04279197124130401, 0.06418795686195601, 0.021395985620652005, 0.021395985620652005, 0.04279197124130401, 0.12532793566667363, 0.1868525586303134, 0.07291807166061011, 0.05013117426666945, 0.06380331270303384, 0.11165579723030923, 0.11393448696970329, 0.12988531514546175, 0.08203283061818636, 0.06152462296363978, 0.04413431863722827, 0.08826863727445654, 0.1324029559116848, 0.04413431863722827, 0.1324029559116848, 0.04413431863722827, 0.4854775050095109, 0.05064805174109201, 0.025324025870546003, 0.151944155223276, 0.177268181093822, 0.075972077611638, 0.05064805174109201, 0.025324025870546003, 0.37986038805819, 0.025324025870546003, 0.025324025870546003, 0.26150961636109754, 0.13075480818054877, 0.3922644245416463, 0.17027532942338156, 0.08108349020161026, 0.11351688628225437, 0.06486679216128821, 0.11757106079233488, 0.08311057745665053, 0.12567940981249592, 0.0932460137318518, 0.09730018824193232, 0.05270426863104667, 0.12775790048004165, 0.8304263531202708, 0.13270266289766888, 0.59716198303951, 0.06635133144883444, 0.03317566572441722, 0.06635133144883444, 0.09952699717325166, 0.03317566572441722, 0.09180725426496454, 0.12240967235328605, 0.030602418088321513, 0.030602418088321513, 0.15301209044160757, 0.061204836176643025, 0.061204836176643025, 0.030602418088321513, 0.4590362713248227, 0.07547400800570297, 0.07547400800570297, 0.07547400800570297, 0.07547400800570297, 0.07547400800570297, 0.07547400800570297, 0.07547400800570297, 0.07547400800570297, 0.3773700400285149, 0.012621872441766836, 0.4670092803453729, 0.025243744883533672, 0.05679842598795076, 0.2903030661606372, 0.025243744883533672, 0.018932808662650253, 0.025243744883533672, 0.05679842598795076, 0.025243744883533672, 0.29984054464831356, 0.6596491982262899, 0.20608597558783504, 0.6182579267635051, 0.2427906419451573, 0.6069766048628932, 0.12139532097257864, 0.2106989743496764, 0.7725629059488135, 0.6832620774497233, 0.07591800860552482, 0.07591800860552482, 0.12338739903722615, 0.12338739903722615, 0.6169369951861307, 0.05287518308906705, 0.1435183540988963, 0.05287518308906705, 0.07553597584152436, 0.06798237825737193, 0.06798237825737193, 0.2870367081977926, 0.045321585504914615, 0.15862554926720115, 0.045321585504914615, 0.16244934797479266, 0.04331982612661137, 0.11912952184818128, 0.43319826126611377, 0.03248986959495853, 0.07580969572156991, 0.010829956531652843, 0.04331982612661137, 0.021659913063305686, 0.06497973918991706, 0.08551640682070709, 0.08551640682070709, 0.5986148477449496, 0.17103281364141418, 0.9669455362703003, 0.22660048723941154, 0.7364515835280875, 0.13704806568524652, 0.16799440309804414, 0.2519916046470662, 0.05526131680856715, 0.08841810689370744, 0.1282062549958758, 0.04862995879153909, 0.0464195061191964, 0.03757769542982566, 0.039788148102168346, 0.7876885901466505, 0.1750419089214779, 0.049021659780727, 0.049021659780727, 0.049021659780727, 0.637281577149451, 0.098043319561454, 0.049021659780727, 0.04826792585911305, 0.0965358517182261, 0.3185683106701461, 0.03861434068729044, 0.01930717034364522, 0.1061894368900487, 0.00965358517182261, 0.01930717034364522, 0.26064679963921045, 0.08688226654640348, 0.04723438041879665, 0.04723438041879665, 0.5668125650255598, 0.0944687608375933, 0.14170314125638994, 0.0944687608375933, 0.1575907523238746, 0.1575907523238746, 0.5778327585208736, 0.05253025077462487, 0.04369958894506093, 0.0655493834175914, 0.8739917789012186, 0.08598288735891486, 0.08598288735891486, 0.08598288735891486, 0.08598288735891486, 0.08598288735891486, 0.601880211512404, 0.06136110594582216, 0.12272221189164433, 0.06136110594582216, 0.7363332713498659, 0.06136110594582216, 0.05025210856744188, 0.7035295199441863, 0.10050421713488376, 0.10050421713488376, 0.13262420162556354, 0.09946815121917267, 0.3978726048766907, 0.016578025203195443, 0.10775716382077039, 0.08289012601597723, 0.08289012601597723, 0.033156050406390886, 0.016578025203195443, 0.024867037804793168, 0.14591826766135013, 0.07857137489457314, 0.044897928511184654, 0.5051016957508273, 0.011224482127796163, 0.011224482127796163, 0.08979585702236931, 0.06734689276677698, 0.05612241063898082, 0.15595060808341937, 0.7017777363753872, 0.15595060808341937, 0.2735152145735167, 0.10028891201028944, 0.018234347638234442, 0.06382021673382056, 0.036468695276468885, 0.3464526051264544, 0.054703042914703334, 0.082054564372055, 0.018234347638234442, 0.018234347638234442, 0.0834988458165351, 0.6679907665322808, 0.0834988458165351, 0.06413789006479063, 0.06413789006479063, 0.12827578012958127, 0.6413789006479064, 0.06413789006479063, 0.03114003679565962, 0.09342011038697887, 0.03114003679565962, 0.09342011038697887, 0.03114003679565962, 0.5293806255262136, 0.03114003679565962, 0.18684022077395773, 0.9494277386220967, 0.008150254791706703, 0.30155942729314805, 0.4034376121894818, 0.024450764375120112, 0.012225382187560056, 0.12225382187560055, 0.008150254791706703, 0.004075127395853351, 0.08965280270877374, 0.02037563697926676, 0.8898161089142413, 0.055613506807140084, 0.16152861215315495, 0.6461144486126198, 0.08076430607657747], \"Term\": [\"abeja\", \"abeja\", \"abeja\", \"abstraccion\", \"abstraccion\", \"acertadisima\", \"acertadisima\", \"acto\", \"acto\", \"acto\", \"acto\", \"acto\", \"acto\", \"acto\", \"acto\", \"acto\", \"acto\", \"actriz\", \"actriz\", \"actriz\", \"actriz\", \"actriz\", \"actriz\", \"actriz\", \"actriz\", \"actriz\", \"actriz\", \"adaptacion\", \"adaptacion\", \"adaptacion\", \"adaptacion\", \"adaptacion\", \"adaptacion\", \"adaptacion\", \"adaptacion\", \"adaptacion\", \"adaptacion\", \"adolescente\", \"adolescente\", \"adolescente\", \"adolescente\", \"adolescente\", \"adolescente\", \"adolescente\", \"adolescente\", \"adolescente\", \"adolescente\", \"adrian\", \"adrian\", \"adrian\", \"adrian\", \"adrian\", \"adrian\", \"adrian\", \"adrian\", \"agonia\", \"agonia\", \"agonia\", \"agonia\", \"agonia\", \"agonia\", \"agonia\", \"agonia\", \"agonia\", \"agonia\", \"aguante\", \"aguante\", \"aitana\", \"aitana\", \"aitana\", \"alan_rickman\", \"alan_rickman\", \"alan_rickman\", \"alan_rickman\", \"alan_rickman\", \"alan_rickman\", \"alatriste\", \"alatriste\", \"alatriste\", \"alatriste\", \"alatriste\", \"alatriste\", \"alatriste\", \"alatriste\", \"alatriste\", \"alatriste\", \"aldo\", \"aldo\", \"aldo\", \"alex_iglesia\", \"alex_iglesia\", \"alex_iglesia\", \"alex_iglesia\", \"alex_iglesia\", \"alex_iglesia\", \"alex_iglesia\", \"alex_iglesia\", \"alex_iglesia\", \"alfombra\", \"alfombra\", \"alfombra\", \"alfombra\", \"alfombra\", \"alien\", \"alien\", \"alien\", \"alien\", \"alien\", \"alien\", \"alien\", \"alien\", \"alien\", \"alien\", \"allegado\", \"allegado\", \"allegado\", \"allen\", \"allen\", \"allen\", \"allen\", \"allen\", \"allen\", \"allen\", \"allen\", \"allen\", \"allen\", \"alumna\", \"alumna\", \"alumno\", \"alumno\", \"alumno\", \"alumno\", \"alumno\", \"alumno\", \"alumno\", \"alumno\", \"alumno\", \"alumno\", \"american_gangster\", \"american_gangster\", \"american_gangster\", \"american_gangster\", \"amigo\", \"amigo\", \"amigo\", \"amigo\", \"amigo\", \"amigo\", \"amigo\", \"amigo\", \"amigo\", \"amigo\", \"amor\", \"amor\", \"amor\", \"amor\", \"amor\", \"amor\", \"amor\", \"amor\", \"amor\", \"amor\", \"animacion_digital\", \"animacion_digital\", \"animacion_digital\", \"animacion_digital\", \"animacion_digital\", \"annie_hall\", \"annie_hall\", \"annie_hall\", \"anzuelo\", \"anzuelo\", \"anzuelo\", \"anzuelo\", \"apatow\", \"argumento\", \"argumento\", \"argumento\", \"argumento\", \"argumento\", \"argumento\", \"argumento\", \"argumento\", \"argumento\", \"argumento\", \"arrebatadora\", \"arrebatadora\", \"arrebatadora\", \"arrugas\", \"arrugas\", \"arrugas\", \"arte\", \"arte\", \"arte\", \"arte\", \"arte\", \"arte\", \"arte\", \"arte\", \"arte\", \"arte\", \"artes_marcial\", \"artes_marcial\", \"artes_marcial\", \"arturo\", \"arturo\", \"arturo\", \"arturo\", \"arturo\", \"arturo\", \"arturo\", \"arturo\", \"asesino\", \"asesino\", \"asesino\", \"asesino\", \"asesino\", \"asesino\", \"asesino\", \"asesino\", \"asesino\", \"asesino\", \"asno\", \"asno\", \"asno\", \"aspecto\", \"aspecto\", \"aspecto\", \"aspecto\", \"aspecto\", \"aspecto\", \"aspecto\", \"aspecto\", \"aspecto\", \"aspecto\", \"atemporal\", \"atemporal\", \"audrey_tautou\", \"audrey_tautou\", \"audrey_tautou\", \"australia\", \"auto\", \"auto\", \"auto\", \"auto\", \"auto\", \"auto\", \"auto\", \"auto\", \"aventura\", \"aventura\", \"aventura\", \"aventura\", \"aventura\", \"aventura\", \"aventura\", \"aventura\", \"aventura\", \"aventura\", \"avion\", \"avion\", \"avion\", \"avion\", \"avion\", \"avion\", \"avion\", \"avion\", \"avion\", \"avion\", \"bajos_fondo\", \"bajos_fondo\", \"bajos_fondo\", \"bajos_fondo\", \"balaguero\", \"banderas_padr\", \"banderas_padr\", \"banderas_padr\", \"banderas_padr\", \"banderas_padr\", \"banderas_padr\", \"banderas_padr\", \"banderas_padr\", \"banderas_padr\", \"banderas_padr\", \"barbero\", \"barbero\", \"bardem\", \"bardem\", \"bardem\", \"bardem\", \"bardem\", \"bardem\", \"bardem\", \"bardem\", \"bardem\", \"bardem\", \"barkin\", \"barroca\", \"barroca\", \"barroca\", \"batman\", \"batman\", \"batman\", \"batman\", \"batman\", \"batman\", \"batman\", \"batman\", \"batman\", \"batman\", \"batuta\", \"batuta\", \"batuta\", \"batuta\", \"batuta\", \"baxter\", \"baxter\", \"baxter\", \"belen_rueda\", \"belen_rueda\", \"belen_rueda\", \"benito\", \"benito\", \"bill_murray\", \"bill_murray\", \"bill_murray\", \"bill_murray\", \"bill_murray\", \"bill_murray\", \"bill_murray\", \"black\", \"black\", \"black\", \"black\", \"black\", \"black\", \"black\", \"black\", \"black\", \"bloody\", \"bloody\", \"bloody\", \"bloody\", \"bloody\", \"blues\", \"blues\", \"blues\", \"blues\", \"blues\", \"blues\", \"blues\", \"boba\", \"boba\", \"boba\", \"bogart\", \"bogart\", \"bogart\", \"bogart\", \"bogart\", \"bogart\", \"bogart\", \"bogart\", \"bogart\", \"bogart\", \"bollain\", \"bollain\", \"bollain\", \"bombero\", \"bombero\", \"bombero\", \"bombero\", \"bombero\", \"bond\", \"bond\", \"bond\", \"bond\", \"bond\", \"bond\", \"bond\", \"bond\", \"bond\", \"bond\", \"bong\", \"bong\", \"bong\", \"bong\", \"bong\", \"bong\", \"bong\", \"borgia\", \"borgia\", \"borgia\", \"borgia\", \"borgia\", \"borgia\", \"borgia\", \"borgia\", \"borgia\", \"boris\", \"boris\", \"boris\", \"bourne\", \"bourne\", \"bourne\", \"bourne\", \"bourne\", \"bourne\", \"bourne\", \"brusquedad\", \"brusquedad\", \"buenos_air\", \"buenos_air\", \"burocracia\", \"burocracia\", \"burocracia\", \"burocracia\", \"busca_felicidad\", \"busca_felicidad\", \"busca_felicidad\", \"busca_felicidad\", \"busca_felicidad\", \"byrne\", \"byrne\", \"byrne\", \"byrne\", \"calidad\", \"calidad\", \"calidad\", \"calidad\", \"calidad\", \"calidad\", \"calidad\", \"calidad\", \"calidad\", \"calidad\", \"camara\", \"camara\", \"camara\", \"camara\", \"camara\", \"camara\", \"camara\", \"camara\", \"camara\", \"camara\", \"campeonato\", \"canadiense\", \"canadiense\", \"canadiense\", \"canadiense\", \"canadiense\", \"canadiense\", \"canadiense\", \"cangrejo\", \"cangrejo\", \"cangrejo\", \"capitulo\", \"capitulo\", \"capitulo\", \"capitulo\", \"capitulo\", \"capitulo\", \"capitulo\", \"capitulo\", \"capitulo\", \"capitulo\", \"capote\", \"capote\", \"capote\", \"capote\", \"capote\", \"capote\", \"capote\", \"capote\", \"capote\", \"capture\", \"capture\", \"capture\", \"capture\", \"cara\", \"cara\", \"cara\", \"cara\", \"cara\", \"cara\", \"cara\", \"cara\", \"cara\", \"cara\", \"carre\", \"carre\", \"carre\", \"carre\", \"carre\", \"carrera\", \"carrera\", \"carrera\", \"carrera\", \"carrera\", \"carrera\", \"carrera\", \"carrera\", \"carrera\", \"carrera\", \"carrey\", \"carrey\", \"carrie\", \"carrie\", \"cartoon\", \"cartoon\", \"cartoon\", \"cartoon\", \"casa\", \"casa\", \"casa\", \"casa\", \"casa\", \"casa\", \"casa\", \"casa\", \"casa\", \"casa\", \"casino_royale\", \"casino_royale\", \"casino_royale\", \"casino_royale\", \"casino_royale\", \"casino_royale\", \"casino_royale\", \"casino_royale\", \"casino_royale\", \"cassel\", \"cassel\", \"cassel\", \"celda\", \"celda\", \"celda\", \"celda\", \"celda\", \"celda\", \"cell\", \"cerdito\", \"cerdito\", \"cerdito\", \"cerdo\", \"cerdo\", \"cerdo\", \"cerdo\", \"cerdo\", \"cerdo\", \"cerdo\", \"cerdo\", \"cerdo\", \"charlton_heston\", \"charlton_heston\", \"charlton_heston\", \"charlton_heston\", \"chazz\", \"chazz\", \"chazz\", \"chef\", \"chef\", \"chef\", \"chef\", \"chef\", \"chef\", \"chica\", \"chica\", \"chica\", \"chica\", \"chica\", \"chica\", \"chica\", \"chica\", \"chica\", \"chica\", \"chico\", \"chico\", \"chico\", \"chico\", \"chico\", \"chico\", \"chico\", \"chico\", \"chico\", \"chico\", \"chiste\", \"chiste\", \"chiste\", \"chiste\", \"chiste\", \"chiste\", \"chiste\", \"chiste\", \"chiste\", \"chiste\", \"chris_cooper\", \"chris_cooper\", \"chris_cooper\", \"christie\", \"christie\", \"christie\", \"christie\", \"cientifica\", \"cientifica\", \"cientifica\", \"cientifica\", \"cineasta\", \"cineasta\", \"cineasta\", \"cineasta\", \"cineasta\", \"cineasta\", \"cineasta\", \"cineasta\", \"cineasta\", \"cineasta\", \"ciudad\", \"ciudad\", \"ciudad\", \"ciudad\", \"ciudad\", \"ciudad\", \"ciudad\", \"ciudad\", \"ciudad\", \"ciudad\", \"claire\", \"claire\", \"claire\", \"claire\", \"claire\", \"claire\", \"clooney\", \"clooney\", \"clooney\", \"clooney\", \"clooney\", \"clooney\", \"clooney\", \"clooney\", \"clooney\", \"clooney\", \"coche\", \"coche\", \"coche\", \"coche\", \"coche\", \"coche\", \"coche\", \"coche\", \"coche\", \"coche\", \"coen\", \"coen\", \"coen\", \"coen\", \"coen\", \"coen\", \"coen\", \"coen\", \"coen\", \"colateral\", \"colateral\", \"columbus\", \"columbus\", \"columbus\", \"comedia\", \"comedia\", \"comedia\", \"comedia\", \"comedia\", \"comedia\", \"comedia\", \"comedia\", \"comedia\", \"comedia\", \"conde\", \"conde\", \"conde\", \"conde\", \"conde\", \"conde\", \"conde\", \"conde\", \"conflicto\", \"conflicto\", \"conflicto\", \"conflicto\", \"conflicto\", \"conflicto\", \"conflicto\", \"conflicto\", \"conflicto\", \"conflicto\", \"cook\", \"cook\", \"cordero\", \"cordero\", \"cordero\", \"cordero\", \"cordero\", \"cordero\", \"corey\", \"corey\", \"corey\", \"corporacion\", \"corporacion\", \"corporacion\", \"cosa\", \"cosa\", \"cosa\", \"cosa\", \"cosa\", \"cosa\", \"cosa\", \"cosa\", \"cosa\", \"cosa\", \"costner\", \"costner\", \"cronenberg\", \"cronenberg\", \"cronenberg\", \"cronenberg\", \"cronenberg\", \"cronenberg\", \"cronenberg\", \"cronenberg\", \"cuaja\", \"cuaja\", \"cuaja\", \"cusack\", \"cusack\", \"cusack\", \"cusack\", \"dando_pie\", \"dando_pie\", \"dando_pie\", \"daniel_craig\", \"daniel_craig\", \"daniel_craig\", \"daniel_craig\", \"daniel_craig\", \"daniel_craig\", \"daniel_craig\", \"daniel_craig\", \"daniel_craig\", \"daniel_craig\", \"daniels\", \"daniels\", \"daniels\", \"danny_boyle\", \"danny_boyle\", \"danny_boyle\", \"danny_boyle\", \"danny_boyle\", \"danny_boyle\", \"danny_boyle\", \"danny_boyle\", \"danny_boyle\", \"danny_boyle\", \"darkness\", \"darkness\", \"darkness\", \"david_yat\", \"david_yat\", \"death\", \"deform\", \"deform\", \"deform\", \"deform\", \"deform\", \"denzel_washington\", \"denzel_washington\", \"denzel_washington\", \"denzel_washington\", \"denzel_washington\", \"denzel_washington\", \"denzel_washington\", \"denzel_washington\", \"departamento\", \"departamento\", \"departamento\", \"departamento\", \"departamento\", \"departamento\", \"departamento\", \"departamento\", \"deporte\", \"deporte\", \"deporte\", \"deporte\", \"deporte\", \"deporte\", \"deporte\", \"deporte\", \"depp\", \"depp\", \"depp\", \"depp\", \"depp\", \"depp\", \"depp\", \"depp\", \"depp\", \"desarraigo\", \"desarraigo\", \"desarraigo\", \"desarraigo\", \"desarraigo\", \"desatino\", \"desatino\", \"desatino\", \"descorazonador\", \"descorazonador\", \"descorazonador\", \"desidia\", \"desidia\", \"desidia\", \"desidia\", \"desidia\", \"desidia\", \"desidia\", \"desparrame\", \"desvelare\", \"desvelare\", \"desvelare\", \"desvelare\", \"desvelare\", \"desvelare\", \"desvelare\", \"desvelare\", \"detalle\", \"detalle\", \"detalle\", \"detalle\", \"detalle\", \"detalle\", \"detalle\", \"detalle\", \"detalle\", \"detalle\", \"detective_privado\", \"detective_privado\", \"detective_privado\", \"detective_privado\", \"dialogo\", \"dialogo\", \"dialogo\", \"dialogo\", \"dialogo\", \"dialogo\", \"dialogo\", \"dialogo\", \"dialogo\", \"dialogo\", \"direccion\", \"direccion\", \"direccion\", \"direccion\", \"direccion\", \"direccion\", \"direccion\", \"direccion\", \"direccion\", \"direccion\", \"dragon\", \"dragon\", \"dragon\", \"dragon\", \"dragon\", \"dragon\", \"dragon\", \"dragon\", \"dragon\", \"dragon\", \"drama\", \"drama\", \"drama\", \"drama\", \"drama\", \"drama\", \"drama\", \"drama\", \"drama\", \"drama\", \"dreamgirls\", \"dreamgirls\", \"dreamgirls\", \"dreamgirls\", \"drogata\", \"drogata\", \"drogata\", \"durango\", \"durango\", \"durango\", \"edicion_festival\", \"edicion_festival\", \"edicion_festival\", \"eduard\", \"eduard\", \"efecto\", \"efecto\", \"efecto\", \"efecto\", \"efecto\", \"efecto\", \"efecto\", \"efecto\", \"efecto\", \"efecto\", \"elemento\", \"elemento\", \"elemento\", \"elemento\", \"elemento\", \"elemento\", \"elemento\", \"elemento\", \"elemento\", \"elemento\", \"elena\", \"elena\", \"elena\", \"entrega\", \"entrega\", \"entrega\", \"entrega\", \"entrega\", \"entrega\", \"entrega\", \"entrega\", \"entrega\", \"entrega\", \"epoca\", \"epoca\", \"epoca\", \"epoca\", \"epoca\", \"epoca\", \"epoca\", \"epoca\", \"epoca\", \"epoca\", \"eragon\", \"eragon\", \"eragon\", \"eragon\", \"eragon\", \"eragon\", \"eragon\", \"eragon\", \"eragon\", \"eragon\", \"eric_bana\", \"eric_bana\", \"eric_bana\", \"eric_bana\", \"eric_bana\", \"errol\", \"errol\", \"errol\", \"errol\", \"errol\", \"errol\", \"escarpia\", \"escarpia\", \"escarpia\", \"escarpia\", \"escenica\", \"escenica\", \"escenica\", \"escenica\", \"escoba\", \"espa\\u00f1a\", \"espa\\u00f1a\", \"espa\\u00f1a\", \"espa\\u00f1a\", \"espa\\u00f1a\", \"espa\\u00f1a\", \"espa\\u00f1a\", \"espa\\u00f1a\", \"espa\\u00f1a\", \"espa\\u00f1a\", \"espa\\u00f1ol\", \"espa\\u00f1ol\", \"espa\\u00f1ol\", \"espa\\u00f1ol\", \"espa\\u00f1ol\", \"espa\\u00f1ol\", \"espa\\u00f1ol\", \"espa\\u00f1ol\", \"espa\\u00f1ol\", \"espa\\u00f1ol\", \"espia\", \"espia\", \"espia\", \"espia\", \"espia\", \"espia\", \"espia\", \"espia\", \"espia\", \"espia\", \"estaci\\u00f3n\", \"estaci\\u00f3n\", \"estamento\", \"estamento\", \"estamento\", \"estilo\", \"estilo\", \"estilo\", \"estilo\", \"estilo\", \"estilo\", \"estilo\", \"estilo\", \"estilo\", \"estilo\", \"estrafalario\", \"estrato\", \"estrato\", \"estrato\", \"estrato\", \"estrato\", \"estrato\", \"estrato\", \"estrato\", \"etura\", \"etura\", \"eva_green\", \"eva_green\", \"eva_green\", \"eva_green\", \"eva_green\", \"eva_green\", \"eva_green\", \"eva_green\", \"ewan_mcgregor\", \"ewan_mcgregor\", \"ewan_mcgregor\", \"ewan_mcgregor\", \"ewan_mcgregor\", \"ewan_mcgregor\", \"exito\", \"exito\", \"exito\", \"exito\", \"exito\", \"exito\", \"exito\", \"exito\", \"exito\", \"exito\", \"exploracion\", \"exploracion\", \"explosivo\", \"extracto\", \"extracto\", \"extracto\", \"extra\\u00f1o\", \"extra\\u00f1o\", \"extra\\u00f1o\", \"extra\\u00f1o\", \"extra\\u00f1o\", \"extra\\u00f1o\", \"extra\\u00f1o\", \"extra\\u00f1o\", \"extra\\u00f1o\", \"extra\\u00f1o\", \"eyre\", \"eyre\", \"eyre\", \"familia\", \"familia\", \"familia\", \"familia\", \"familia\", \"familia\", \"familia\", \"familia\", \"familia\", \"familia\", \"fesser\", \"fesser\", \"fesser\", \"fesser\", \"fesser\", \"festival\", \"festival\", \"festival\", \"festival\", \"festival\", \"festival\", \"festival\", \"festival\", \"festival\", \"festival\", \"filial\", \"filial\", \"filme\", \"filme\", \"filme\", \"filme\", \"filme\", \"filme\", \"filme\", \"filme\", \"filme\", \"filme\", \"fincher\", \"fincher\", \"fincher\", \"fincher\", \"fincher\", \"fincher\", \"fincher\", \"fincher\", \"fincher\", \"fincher\", \"finney\", \"finney\", \"finney\", \"finney\", \"florian_henckel\", \"florian_henckel\", \"florian_henckel\", \"fornicio\", \"fotografia\", \"fotografia\", \"fotografia\", \"fotografia\", \"fotografia\", \"fotografia\", \"fotografia\", \"fotografia\", \"fotografia\", \"fotografia\", \"frase\", \"frase\", \"frase\", \"frase\", \"frase\", \"frase\", \"frase\", \"frase\", \"frase\", \"frase\", \"frikismo\", \"frikismo\", \"full\", \"full\", \"full\", \"full\", \"fusion\", \"fusion\", \"fusion\", \"futuro\", \"futuro\", \"futuro\", \"futuro\", \"futuro\", \"futuro\", \"futuro\", \"futuro\", \"futuro\", \"futuro\", \"galardonado\", \"galardonado\", \"galardonado\", \"ganancia\", \"ganancia\", \"ganancia\", \"gene\", \"gene\", \"gene\", \"gene\", \"gente\", \"gente\", \"gente\", \"gente\", \"gente\", \"gente\", \"gente\", \"gente\", \"gente\", \"gente\", \"george_romero\", \"george_romero\", \"george_romero\", \"george_romero\", \"george_romero\", \"gilliam\", \"gogo\", \"gogo\", \"goya\", \"goya\", \"goya\", \"goya\", \"goya\", \"goya\", \"goya\", \"goya\", \"goya\", \"goya\", \"gracia\", \"gracia\", \"gracia\", \"gracia\", \"gracia\", \"gracia\", \"gracia\", \"gracia\", \"gracia\", \"gracia\", \"gracias\", \"gracias\", \"gracias\", \"gracias\", \"gracias\", \"gracias\", \"gracias\", \"gracias\", \"gracias\", \"gracias\", \"gracias_fumar\", \"gracias_fumar\", \"gracias_fumar\", \"gracias_fumar\", \"gracias_fumar\", \"gracias_fumar\", \"grata_sorpresa\", \"grata_sorpresa\", \"grata_sorpresa\", \"grata_sorpresa\", \"grata_sorpresa\", \"grata_sorpresa\", \"greengrass\", \"greengrass\", \"greengrass\", \"greengrass\", \"greengrass\", \"greengrass\", \"greengrass\", \"greengrass\", \"grupo\", \"grupo\", \"grupo\", \"grupo\", \"grupo\", \"grupo\", \"grupo\", \"grupo\", \"grupo\", \"grupo\", \"guerra\", \"guerra\", \"guerra\", \"guerra\", \"guerra\", \"guerra\", \"guerra\", \"guerra\", \"guerra\", \"guerra\", \"guionista\", \"guionista\", \"guionista\", \"guionista\", \"guionista\", \"guionista\", \"guionista\", \"guionista\", \"guionista\", \"guionista\", \"gusano\", \"habitacion\", \"habitacion\", \"habitacion\", \"habitacion\", \"habitacion\", \"habitacion\", \"habitacion\", \"habitacion\", \"habitacion\", \"habitacion\", \"halloween\", \"halloween\", \"halloween\", \"halloween\", \"halloween\", \"halloween\", \"harry_potter\", \"harry_potter\", \"harry_potter\", \"harry_potter\", \"harry_potter\", \"harry_potter\", \"harry_potter\", \"harry_potter\", \"harry_potter\", \"harry_potter\", \"hemoglobina\", \"hemoglobina\", \"herido\", \"herido\", \"herido\", \"herido\", \"herido\", \"herido\", \"hermandad\", \"hermandad\", \"hermandad\", \"hermano\", \"hermano\", \"hermano\", \"hermano\", \"hermano\", \"hermano\", \"hermano\", \"hermano\", \"hermano\", \"hermano\", \"hermione\", \"hermione\", \"hermione\", \"heroe\", \"heroe\", \"heroe\", \"heroe\", \"heroe\", \"heroe\", \"heroe\", \"heroe\", \"heroe\", \"heroe\", \"hijo\", \"hijo\", \"hijo\", \"hijo\", \"hijo\", \"hijo\", \"hijo\", \"hijo\", \"hijo\", \"hijo\", \"hirschbiegel\", \"hirschbiegel\", \"hirschbiegel\", \"hora\", \"hora\", \"hora\", \"hora\", \"hora\", \"hora\", \"hora\", \"hora\", \"hora\", \"hora\", \"hormiga\", \"hormiga\", \"hormiga\", \"hormiga\", \"hormiga\", \"hormiga\", \"hormiga\", \"hostel\", \"hostel\", \"hostel\", \"hostel\", \"hostel\", \"hostel\", \"hostel\", \"hostel\", \"hostel\", \"humor\", \"humor\", \"humor\", \"humor\", \"humor\", \"humor\", \"humor\", \"humor\", \"humor\", \"humor\", \"humphrey_bogart\", \"humphrey_bogart\", \"humphrey_bogart\", \"humphrey_bogart\", \"humphrey_bogart\", \"humphrey_bogart\", \"humphrey_bogart\", \"hundimiento\", \"hundimiento\", \"hundimiento\", \"hundimiento\", \"hundimiento\", \"hundimiento\", \"hundimiento\", \"hundimiento\", \"huston\", \"huston\", \"huston\", \"huston\", \"huston\", \"huston\", \"idea\", \"idea\", \"idea\", \"idea\", \"idea\", \"idea\", \"idea\", \"idea\", \"idea\", \"idea\", \"imagen\", \"imagen\", \"imagen\", \"imagen\", \"imagen\", \"imagen\", \"imagen\", \"imagen\", \"imagen\", \"imagen\", \"incorreccion\", \"incorreccion\", \"incorreccion\", \"infectado\", \"infectado\", \"inglesa\", \"inglesa\", \"inglesa\", \"inglesa\", \"inglesa\", \"inmortalidad\", \"inmortalidad\", \"inter\", \"inter\", \"inter\", \"inter\", \"inter\", \"inter\", \"inter\", \"inter\", \"inter\", \"inter\", \"interpretacion\", \"interpretacion\", \"interpretacion\", \"interpretacion\", \"interpretacion\", \"interpretacion\", \"interpretacion\", \"interpretacion\", \"interpretacion\", \"interpretacion\", \"inventor\", \"inventor\", \"irrupcion\", \"irrupcion\", \"irrupcion\", \"italiana\", \"italiana\", \"jack\", \"jack\", \"jack\", \"jack\", \"jack\", \"jack\", \"jack\", \"jack\", \"jack\", \"jack\", \"jaime\", \"jaime\", \"jaime\", \"james_bond\", \"james_bond\", \"james_bond\", \"james_bond\", \"james_bond\", \"james_bond\", \"james_bond\", \"james_bond\", \"james_bond\", \"james_bond\", \"james_stewart\", \"james_stewart\", \"james_stewart\", \"james_stewart\", \"james_stewart\", \"james_stewart\", \"james_stewart\", \"jane_austen\", \"jane_austen\", \"jane_austen\", \"jason_reitman\", \"jason_reitman\", \"jason_reitman\", \"jason_reitman\", \"jason_reitman\", \"jason_reitman\", \"jaume_balaguero\", \"jaume_balaguero\", \"jaume_balaguero\", \"jaume_balaguero\", \"javier_fesser\", \"javier_fesser\", \"javier_fesser\", \"jennifer_hudson\", \"jennifer_hudson\", \"jennifer_hudson\", \"jennifer_hudson\", \"jerarquia\", \"jerarquia\", \"jerarquia\", \"jerarquia\", \"jessica_alba\", \"jessica_alba\", \"jessica_alba\", \"jessica_alba\", \"jim_carrey\", \"jim_carrey\", \"jim_carrey\", \"jim_carrey\", \"jim_carrey\", \"jim_carrey\", \"jim_carrey\", \"john_carpenter\", \"john_carpenter\", \"john_carpenter\", \"john_carpenter\", \"john_carpenter\", \"john_cusack\", \"john_cusack\", \"john_cusack\", \"john_huston\", \"john_huston\", \"john_huston\", \"john_huston\", \"john_rambo\", \"john_rambo\", \"john_rambo\", \"john_rambo\", \"john_rambo\", \"john_rambo\", \"john_rambo\", \"joven\", \"joven\", \"joven\", \"joven\", \"joven\", \"joven\", \"joven\", \"joven\", \"joven\", \"joven\", \"jovovich\", \"jovovich\", \"jovovich\", \"jovovich\", \"jovovich\", \"juan_carlos_fresnadillo\", \"juan_carlos_fresnadillo\", \"juan_carlos_fresnadillo\", \"judd\", \"judd\", \"judy\", \"judy\", \"juego\", \"juego\", \"juego\", \"juego\", \"juego\", \"juego\", \"juego\", \"juego\", \"juego\", \"juego\", \"jules\", \"jules\", \"jules\", \"jules\", \"jungla\", \"jungla\", \"jungla\", \"jungla\", \"jungla\", \"jungla\", \"jungla\", \"jungla\", \"jungla\", \"jungla\", \"karen\", \"karen\", \"karen\", \"karen\", \"kasdan\", \"kasdan\", \"kasdan\", \"kasdan\", \"kasdan\", \"kubrick\", \"kubrick\", \"kubrick\", \"kubrick\", \"kubrick\", \"kubrick\", \"kubrick\", \"kubrick\", \"kubrick\", \"kubrick\", \"kurosawa\", \"kurosawa\", \"kurosawa\", \"kurosawa\", \"kurosawa\", \"last\", \"last\", \"last\", \"laura\", \"laura\", \"laura\", \"laura\", \"laura\", \"laura\", \"laura\", \"laura\", \"laura\", \"laura\", \"leitmotiv\", \"leitmotiv\", \"leone\", \"leone\", \"leone\", \"lex_luthor\", \"lex_luthor\", \"lex_luthor\", \"lex_luthor\", \"lex_luthor\", \"leyenda\", \"leyenda\", \"leyenda\", \"leyenda\", \"leyenda\", \"leyenda\", \"leyenda\", \"leyenda\", \"leyenda\", \"leyenda\", \"libro\", \"libro\", \"libro\", \"libro\", \"libro\", \"libro\", \"libro\", \"libro\", \"libro\", \"libro\", \"liman\", \"linealidad\", \"linealidad\", \"little\", \"little\", \"little\", \"little_miss\", \"little_miss\", \"little_miss\", \"lluis_homar\", \"lluis_homar\", \"lluis_homar\", \"lluis_homar\", \"lluis_homar\", \"lluis_homar\", \"lucha\", \"lucha\", \"lucha\", \"lucha\", \"lucha\", \"lucha\", \"lucha\", \"lucha\", \"lucha\", \"lucha\", \"luke\", \"luke\", \"luke\", \"luke\", \"luke\", \"luke\", \"luke\", \"luke\", \"luke\", \"lynch\", \"lynch\", \"lynch\", \"lynch\", \"lynch\", \"lynch\", \"lynch\", \"lynch\", \"lynch\", \"lynch\", \"macabro\", \"macabro\", \"macabro\", \"madrastra\", \"madrastra\", \"madre\", \"madre\", \"madre\", \"madre\", \"madre\", \"madre\", \"madre\", \"madre\", \"madre\", \"madre\", \"maestra\", \"maestra\", \"maestra\", \"maestra\", \"maestra\", \"maestra\", \"maestra\", \"maestra\", \"maestra\", \"maestra\", \"mago\", \"mago\", \"mago\", \"mago\", \"mago\", \"mago\", \"mago\", \"mago\", \"mago\", \"mago\", \"mangold\", \"mangold\", \"mangold\", \"mangold\", \"mano\", \"mano\", \"mano\", \"mano\", \"mano\", \"mano\", \"mano\", \"mano\", \"mano\", \"mano\", \"mansalva\", \"mansalva\", \"maria_antonieta\", \"maria_antonieta\", \"maria_antonieta\", \"maria_antonieta\", \"maria_antonieta\", \"maria_antonieta\", \"maria_antonieta\", \"maria_antonieta\", \"maria_antonieta\", \"mariano_ozor\", \"marilyn\", \"marilyn\", \"marilyn\", \"martha\", \"martha\", \"mary\", \"mary\", \"mary\", \"mary\", \"mary\", \"mary\", \"mary\", \"mary\", \"mary\", \"match_point\", \"match_point\", \"match_point\", \"match_point\", \"match_point\", \"match_point\", \"match_point\", \"matematico\", \"matematico\", \"materia_prima\", \"matt\", \"matt\", \"matt\", \"matt\", \"matt\", \"matt\", \"matt\", \"matt\", \"mcewan\", \"mcewan\", \"medem\", \"medem\", \"medem\", \"medem\", \"medem\", \"medem\", \"medem\", \"memoria\", \"memoria\", \"memoria\", \"memoria\", \"memoria\", \"memoria\", \"memoria\", \"memoria\", \"memoria\", \"memoria\", \"mera_excusa\", \"mera_excusa\", \"mera_excusa\", \"mera_excusa\", \"mera_excusa\", \"mera_excusa\", \"metraje\", \"metraje\", \"metraje\", \"metraje\", \"metraje\", \"metraje\", \"metraje\", \"metraje\", \"metraje\", \"metraje\", \"metralleta\", \"mezclada\", \"mezclada\", \"mezclada\", \"militar\", \"militar\", \"militar\", \"militar\", \"militar\", \"militar\", \"militar\", \"militar\", \"militar\", \"militar\", \"minuto\", \"minuto\", \"minuto\", \"minuto\", \"minuto\", \"minuto\", \"minuto\", \"minuto\", \"minuto\", \"minuto\", \"mirada\", \"mirada\", \"mirada\", \"mirada\", \"mirada\", \"mirada\", \"mirada\", \"mirada\", \"mirada\", \"mirada\", \"misero\", \"misero\", \"misero\", \"monstruo\", \"monstruo\", \"monstruo\", \"monstruo\", \"monstruo\", \"monstruo\", \"monstruo\", \"monstruo\", \"monstruo\", \"monstruo\", \"monzon\", \"monzon\", \"monzon\", \"monzon\", \"monzon\", \"monzon\", \"monzon\", \"mortadelo_filemon\", \"mortadelo_filemon\", \"mortadelo_filemon\", \"mortadelo_filemon\", \"muerte\", \"muerte\", \"muerte\", \"muerte\", \"muerte\", \"muerte\", \"muerte\", \"muerte\", \"muerte\", \"muerte\", \"muertos_vivient\", \"muertos_vivient\", \"muertos_vivient\", \"mujer\", \"mujer\", \"mujer\", \"mujer\", \"mujer\", \"mujer\", \"mujer\", \"mujer\", \"mujer\", \"mujer\", \"mujer_florero\", \"mujer_florero\", \"mujer_florero\", \"musica\", \"musica\", \"musica\", \"musica\", \"musica\", \"musica\", \"musica\", \"musica\", \"musica\", \"musica\", \"myers\", \"myers\", \"myers\", \"myers\", \"naipe\", \"naipe\", \"naomi\", \"naomi\", \"naomi\", \"naomi\", \"narracion\", \"narracion\", \"narracion\", \"narracion\", \"narracion\", \"narracion\", \"narracion\", \"narracion\", \"narracion\", \"narracion\", \"negrisimo\", \"negrisimo\", \"negrisimo\", \"negrisimo\", \"negrisimo\", \"nelson\", \"neville\", \"neville\", \"neville\", \"neville\", \"neville\", \"neville\", \"ningun\", \"ningun\", \"ningun\", \"ningun\", \"ningun\", \"ningun\", \"ningun\", \"ningun\", \"ningun\", \"ningun\", \"ninja\", \"ninja\", \"ninja\", \"ninja\", \"ni\\u00f1o\", \"ni\\u00f1o\", \"ni\\u00f1o\", \"ni\\u00f1o\", \"ni\\u00f1o\", \"ni\\u00f1o\", \"ni\\u00f1o\", \"ni\\u00f1o\", \"ni\\u00f1o\", \"ni\\u00f1o\", \"noche\", \"noche\", \"noche\", \"noche\", \"noche\", \"noche\", \"noche\", \"noche\", \"noche\", \"noche\", \"nombre\", \"nombre\", \"nombre\", \"nombre\", \"nombre\", \"nombre\", \"nombre\", \"nombre\", \"nombre\", \"nombre\", \"novela\", \"novela\", \"novela\", \"novela\", \"novela\", \"novela\", \"novela\", \"novela\", \"novela\", \"novela\", \"ocean\", \"ocean\", \"ocean\", \"ocean\", \"omega\", \"omega\", \"omega\", \"oposicion\", \"oposicion\", \"oposicion\", \"oposicion\", \"orfanato\", \"orfanato\", \"orfanato\", \"orfanato\", \"orfanato\", \"orfanato\", \"orfanato\", \"orfanato\", \"orfanato\", \"orgullo_prejuicio\", \"orgullo_prejuicio\", \"orgullo_prejuicio\", \"orgullo_prejuicio\", \"orgullo_prejuicio\", \"orgullo_prejuicio\", \"orgullo_prejuicio\", \"paco_plaza\", \"paco_plaza\", \"paco_plaza\", \"paco_plaza\", \"padre\", \"padre\", \"padre\", \"padre\", \"padre\", \"padre\", \"padre\", \"padre\", \"padre\", \"padre\", \"pagina\", \"pagina\", \"pagina\", \"pagina\", \"pagina\", \"pagina\", \"pagina\", \"pagina\", \"pagina\", \"pagina\", \"paja\", \"paja\", \"paja\", \"paja\", \"paja\", \"paja\", \"paja\", \"palabra\", \"palabra\", \"palabra\", \"palabra\", \"palabra\", \"palabra\", \"palabra\", \"palabra\", \"palabra\", \"palabra\", \"palma_oro\", \"palma_oro\", \"palma_oro\", \"palma_oro\", \"pantalla\", \"pantalla\", \"pantalla\", \"pantalla\", \"pantalla\", \"pantalla\", \"pantalla\", \"pantalla\", \"pantalla\", \"pantalla\", \"paranormal\", \"paranormal\", \"paranormal\", \"parodico\", \"parodico\", \"parodico\", \"parodico\", \"partidas\", \"partidas\", \"partidas\", \"party\", \"party\", \"pasajero\", \"pasajero\", \"pasajero\", \"pasajero\", \"pasajero\", \"pasajero\", \"pasajero\", \"pasajero\", \"pasajero\", \"pasito\", \"pasito\", \"pasito\", \"pasito\", \"paso\", \"paso\", \"paso\", \"paso\", \"paso\", \"paso\", \"paso\", \"paso\", \"paso\", \"paso\", \"paul_greengrass\", \"paul_greengrass\", \"paul_greengrass\", \"paul_greengrass\", \"paul_greengrass\", \"paul_greengrass\", \"paul_greengrass\", \"paul_greengrass\", \"paul_greengrass\", \"pa\\u00f1ales\", \"pa\\u00f1ales\", \"pelos_escarpias\", \"pelos_escarpias\", \"pelos_escarpias\", \"pelos_escarpias\", \"pelos_escarpias\", \"penn\", \"penn\", \"penn\", \"penn\", \"penn\", \"penn\", \"penn\", \"penn\", \"penn\", \"peque\\u00f1a_miss_sunshine\", \"peque\\u00f1a_miss_sunshine\", \"peque\\u00f1a_miss_sunshine\", \"peque\\u00f1a_miss_sunshine\", \"peque\\u00f1a_miss_sunshine\", \"peque\\u00f1a_miss_sunshine\", \"peque\\u00f1a_miss_sunshine\", \"peque\\u00f1a_miss_sunshine\", \"persona\", \"persona\", \"persona\", \"persona\", \"persona\", \"persona\", \"persona\", \"persona\", \"persona\", \"persona\", \"peter\", \"peter\", \"peter\", \"peter\", \"peter\", \"peter\", \"peter\", \"peter\", \"peter\", \"peter\", \"phil\", \"phil\", \"philippe\", \"philippe\", \"philippe\", \"pierre\", \"pierre\", \"pierre\", \"pionero\", \"pionero\", \"pirata\", \"pirata\", \"pirata\", \"pirata\", \"pirata\", \"pirata\", \"pirata\", \"pirata\", \"pirata\", \"pirata\", \"pistoletazo\", \"pistoletazo\", \"pitt\", \"pitt\", \"pitt\", \"pixar\", \"pixar\", \"pixar\", \"pixar\", \"pixar\", \"pixar\", \"pixar\", \"pixar\", \"pixar\", \"pixar\", \"plano\", \"plano\", \"plano\", \"plano\", \"plano\", \"plano\", \"plano\", \"plano\", \"plano\", \"plano\", \"plano_secuencia\", \"plano_secuencia\", \"plano_secuencia\", \"plano_secuencia\", \"plano_secuencia\", \"plano_secuencia\", \"plano_secuencia\", \"plano_secuencia\", \"plano_secuencia\", \"poker\", \"poker\", \"poker\", \"poker\", \"poker\", \"poker\", \"poker\", \"poker\", \"policia\", \"policia\", \"policia\", \"policia\", \"policia\", \"policia\", \"policia\", \"policia\", \"policia\", \"policia\", \"politica\", \"politica\", \"politica\", \"politica\", \"politica\", \"politica\", \"politica\", \"politica\", \"politica\", \"politica\", \"poppins\", \"poppins\", \"posta\", \"posta\", \"posta\", \"powell\", \"powell\", \"powell\", \"pradera\", \"pradera\", \"premiere\", \"premiere\", \"premiere\", \"premiere\", \"previsibilidad\", \"previsibilidad\", \"previsibilidad\", \"previsibilidad\", \"previsibilidad\", \"previsibilidad\", \"previsibilidad\", \"prince\", \"prince\", \"prince\", \"prince\", \"princip\", \"princip\", \"princip\", \"princip\", \"principio\", \"principio\", \"principio\", \"principio\", \"principio\", \"principio\", \"principio\", \"principio\", \"principio\", \"principio\", \"problema\", \"problema\", \"problema\", \"problema\", \"problema\", \"problema\", \"problema\", \"problema\", \"problema\", \"problema\", \"procedimiento\", \"procedimiento\", \"procedimiento\", \"prodigioso\", \"produccion\", \"produccion\", \"produccion\", \"produccion\", \"produccion\", \"produccion\", \"produccion\", \"produccion\", \"produccion\", \"produccion\", \"producto\", \"producto\", \"producto\", \"producto\", \"producto\", \"producto\", \"producto\", \"producto\", \"producto\", \"producto\", \"prolifico\", \"prolifico\", \"prolifico\", \"prolifico\", \"pronostico\", \"pronostico\", \"propuesta\", \"propuesta\", \"propuesta\", \"propuesta\", \"propuesta\", \"propuesta\", \"propuesta\", \"propuesta\", \"propuesta\", \"propuesta\", \"proyecto\", \"proyecto\", \"proyecto\", \"proyecto\", \"proyecto\", \"proyecto\", \"proyecto\", \"proyecto\", \"proyecto\", \"proyecto\", \"pueblo\", \"pueblo\", \"pueblo\", \"pueblo\", \"pueblo\", \"pueblo\", \"pueblo\", \"pueblo\", \"pueblo\", \"pueblo\", \"puesto\", \"puesto\", \"puesto\", \"puesto\", \"puesto\", \"puesto\", \"puesto\", \"puesto\", \"puesto\", \"puesto\", \"punto\", \"punto\", \"punto\", \"punto\", \"punto\", \"punto\", \"punto\", \"punto\", \"punto\", \"punto\", \"punto_vista\", \"punto_vista\", \"punto_vista\", \"punto_vista\", \"punto_vista\", \"punto_vista\", \"punto_vista\", \"punto_vista\", \"punto_vista\", \"punto_vista\", \"puro\", \"puro\", \"puro\", \"puro\", \"puro\", \"puro\", \"puro\", \"puro\", \"puro\", \"puro\", \"quentin_tarantino\", \"quentin_tarantino\", \"quentin_tarantino\", \"quentin_tarantino\", \"quentin_tarantino\", \"quentin_tarantino\", \"quentin_tarantino\", \"quentin_tarantino\", \"quentin_tarantino\", \"quincea\\u00f1era\", \"quincea\\u00f1era\", \"radcliffe\", \"radcliffe\", \"radcliffe\", \"rambo\", \"rambo\", \"rambo\", \"rambo\", \"rambo\", \"rambo\", \"rambo\", \"rambo\", \"ratatouille\", \"ratatouille\", \"ratatouille\", \"realidad\", \"realidad\", \"realidad\", \"realidad\", \"realidad\", \"realidad\", \"realidad\", \"realidad\", \"realidad\", \"realidad\", \"redgrave\", \"redgrave\", \"regenta\", \"regenta\", \"regenta\", \"reina\", \"reina\", \"reina\", \"reina\", \"reina\", \"reina\", \"reina\", \"reina\", \"reina\", \"reina\", \"reitman\", \"reitman\", \"reitman\", \"reitman\", \"relacion\", \"relacion\", \"relacion\", \"relacion\", \"relacion\", \"relacion\", \"relacion\", \"relacion\", \"relacion\", \"relacion\", \"relato\", \"relato\", \"relato\", \"relato\", \"relato\", \"relato\", \"relato\", \"relato\", \"relato\", \"relato\", \"remake\", \"remake\", \"remake\", \"remake\", \"remake\", \"remake\", \"remake\", \"remake\", \"remake\", \"remake\", \"reparto\", \"reparto\", \"reparto\", \"reparto\", \"reparto\", \"reparto\", \"reparto\", \"reparto\", \"reparto\", \"reparto\", \"representacion\", \"representacion\", \"representacion\", \"representacion\", \"representacion\", \"representacion\", \"representacion\", \"representacion\", \"representacion\", \"representacion\", \"resto\", \"resto\", \"resto\", \"resto\", \"resto\", \"resto\", \"resto\", \"resto\", \"resto\", \"resto\", \"resultado\", \"resultado\", \"resultado\", \"resultado\", \"resultado\", \"resultado\", \"resultado\", \"resultado\", \"resultado\", \"resultado\", \"resulton\", \"resulton\", \"resulton\", \"resulton\", \"retro\", \"retro\", \"ricardo_darin\", \"ricardo_darin\", \"ricardo_darin\", \"richard_gere\", \"richard_gere\", \"richard_matheson\", \"richard_matheson\", \"richard_matheson\", \"richard_matheson\", \"ridley_scott\", \"ridley_scott\", \"ridley_scott\", \"ridley_scott\", \"ridley_scott\", \"ridley_scott\", \"ridley_scott\", \"ridley_scott\", \"ridley_scott\", \"ridley_scott\", \"ripley\", \"ripley\", \"ripley\", \"ripley\", \"ritmo\", \"ritmo\", \"ritmo\", \"ritmo\", \"ritmo\", \"ritmo\", \"ritmo\", \"ritmo\", \"ritmo\", \"ritmo\", \"rob_zombie\", \"rob_zombie\", \"rob_zombie\", \"rob_zombie\", \"rob_zombie\", \"rob_zombie\", \"rob_zombie\", \"robert_carlyle\", \"robert_carlyle\", \"robert_carlyle\", \"robert_carlyle\", \"robert_carlyle\", \"robert_carlyle\", \"robot\", \"robot\", \"robot\", \"robot\", \"robot\", \"robot\", \"robot\", \"robot\", \"robot\", \"robot\", \"rocky\", \"rocky\", \"rocky\", \"rocky\", \"rocky\", \"rocky\", \"rocky\", \"rocky\", \"rocky\", \"rocky\", \"roedor\", \"roedor\", \"romero\", \"romero\", \"romero\", \"romero\", \"romero\", \"romero\", \"romero\", \"romero\", \"romero\", \"rosas\", \"rosas\", \"rosas\", \"rosas\", \"rotulo\", \"rotulo\", \"rotulo\", \"rotulo\", \"saga\", \"saga\", \"saga\", \"saga\", \"saga\", \"saga\", \"saga\", \"saga\", \"saga\", \"saga\", \"sala\", \"sala\", \"sala\", \"sala\", \"sala\", \"sala\", \"sala\", \"sala\", \"sala\", \"sala\", \"salon\", \"salon\", \"salon\", \"salon\", \"salon\", \"salon\", \"salon\", \"salon\", \"salon\", \"salon\", \"sangre\", \"sangre\", \"sangre\", \"sangre\", \"sangre\", \"sangre\", \"sangre\", \"sangre\", \"sangre\", \"sangre\", \"sauna\", \"sauna\", \"schwarzenegger\", \"score\", \"score\", \"score\", \"score\", \"score\", \"score\", \"score\", \"score\", \"score\", \"secuela\", \"secuela\", \"secuela\", \"secuela\", \"secuela\", \"secuela\", \"secuela\", \"secuela\", \"secuela\", \"secuela\", \"secuencia\", \"secuencia\", \"secuencia\", \"secuencia\", \"secuencia\", \"secuencia\", \"secuencia\", \"secuencia\", \"secuencia\", \"secuencia\", \"semanas_despu\", \"semanas_despu\", \"semanas_despu\", \"semanas_despu\", \"semanas_despu\", \"sensacion\", \"sensacion\", \"sensacion\", \"sensacion\", \"sensacion\", \"sensacion\", \"sensacion\", \"sensacion\", \"sensacion\", \"sensacion\", \"sequia\", \"sequia\", \"sequia\", \"sequia\", \"serie\", \"serie\", \"serie\", \"serie\", \"serie\", \"serie\", \"serie\", \"serie\", \"serie\", \"serie\", \"seta\", \"seta\", \"seta\", \"seta\", \"seta\", \"seven\", \"seven\", \"seven\", \"seven\", \"seven\", \"seven\", \"seven\", \"seven\", \"seven\", \"shaun\", \"shaun\", \"shaun_of_the_dead\", \"shaun_of_the_dead\", \"simplones\", \"simplones\", \"simplones\", \"simplones\", \"simpson\", \"simpson\", \"simpson\", \"simpson\", \"simpson\", \"simpson\", \"simpson\", \"simpsons\", \"simpsons\", \"simpsons\", \"slashers\", \"slashers\", \"sociedad\", \"sociedad\", \"sociedad\", \"sociedad\", \"sociedad\", \"sociedad\", \"sociedad\", \"sociedad\", \"sociedad\", \"sociedad\", \"sofia_coppola\", \"sofia_coppola\", \"sofia_coppola\", \"sofia_coppola\", \"sofia_coppola\", \"sofia_coppola\", \"sofia_coppola\", \"sofia_coppola\", \"sofia_coppola\", \"soldado\", \"soldado\", \"soldado\", \"soldado\", \"soldado\", \"soldado\", \"soldado\", \"soldado\", \"soldado\", \"soldado\", \"soto\", \"soto\", \"soto\", \"spiderman\", \"spiderman\", \"spiderman\", \"spiderman\", \"spiderman\", \"spiderman\", \"spiderman\", \"spiderman\", \"spiderman\", \"spiderman\", \"states\", \"stephen_frears\", \"stephen_frears\", \"stephen_frears\", \"stephen_frears\", \"stephen_frears\", \"stephen_frears\", \"stephen_king\", \"stephen_king\", \"stephen_king\", \"stephen_king\", \"stephen_king\", \"stephen_king\", \"stephen_king\", \"steve_buscemi\", \"steve_buscemi\", \"steve_buscemi\", \"steve_buscemi\", \"steve_buscemi\", \"steve_buscemi\", \"steven_soderbergh\", \"steven_soderbergh\", \"steven_soderbergh\", \"steven_soderbergh\", \"story\", \"story\", \"story\", \"story\", \"story\", \"story\", \"story\", \"story\", \"stuart\", \"stuart\", \"stuart\", \"stuart\", \"studio\", \"studio\", \"studio\", \"studio\", \"studio\", \"suarez\", \"suarez\", \"subterraneo\", \"subterraneo\", \"subterraneo\", \"subterraneo\", \"subterraneo\", \"sunday\", \"sunday\", \"sunday\", \"sunday\", \"sunday\", \"superman\", \"superman\", \"superman\", \"superman\", \"superman\", \"superman\", \"superman\", \"superman\", \"superman\", \"survival\", \"survival\", \"sustitucion\", \"sustitucion\", \"sustitucion\", \"sydney\", \"sydney\", \"sydney\", \"tal_vez\", \"tal_vez\", \"tal_vez\", \"tal_vez\", \"tal_vez\", \"tal_vez\", \"tal_vez\", \"tal_vez\", \"tal_vez\", \"tal_vez\", \"teenager\", \"teenager\", \"teenager\", \"teenager\", \"tejano\", \"tejano\", \"televisi\\u00f3n\", \"televisi\\u00f3n\", \"televisi\\u00f3n\", \"televisi\\u00f3n\", \"tema\", \"tema\", \"tema\", \"tema\", \"tema\", \"tema\", \"tema\", \"tema\", \"tema\", \"tema\", \"terror\", \"terror\", \"terror\", \"terror\", \"terror\", \"terror\", \"terror\", \"terror\", \"terror\", \"terror\", \"terry_gilliam\", \"terry_gilliam\", \"terry_gilliam\", \"terry_gilliam\", \"tetrico\", \"tetrico\", \"tibio\", \"tibio\", \"timador\", \"timador\", \"times\", \"times\", \"tinto\", \"tinto\", \"tinto\", \"tinto\", \"titulo\", \"titulo\", \"titulo\", \"titulo\", \"titulo\", \"titulo\", \"titulo\", \"titulo\", \"titulo\", \"titulo\", \"tolerancia\", \"tolerancia\", \"tommy_lee_j\\u00f3n\", \"tommy_lee_j\\u00f3n\", \"tommy_lee_j\\u00f3n\", \"tommy_lee_j\\u00f3n\", \"tommy_lee_j\\u00f3n\", \"tommy_lee_j\\u00f3n\", \"tommy_lee_j\\u00f3n\", \"tommy_lee_j\\u00f3n\", \"topico\", \"topico\", \"topico\", \"topico\", \"topico\", \"topico\", \"topico\", \"topico\", \"topico\", \"topico\", \"topo\", \"topo\", \"topo\", \"topo\", \"topo\", \"toque\", \"toque\", \"toque\", \"toque\", \"toque\", \"toque\", \"toque\", \"toque\", \"toque\", \"toque\", \"tormentosa\", \"tormentosa\", \"tormentosa\", \"tracy\", \"tracy\", \"tracy\", \"tracy\", \"tracy\", \"trama\", \"trama\", \"trama\", \"trama\", \"trama\", \"trama\", \"trama\", \"trama\", \"trama\", \"trama\", \"tramposa\", \"tramposa\", \"tramposa\", \"tramposa\", \"tramposa\", \"trascendencia\", \"trascendencia\", \"trascendencia\", \"trascendencia\", \"trascendencia\", \"trascendencia\", \"trascendencia\", \"trascendencia\", \"trav\", \"trav\", \"trav\", \"trav\", \"trav\", \"trav\", \"trav\", \"trav\", \"trav\", \"trav\", \"trueba\", \"trueba\", \"trueba\", \"trueba\", \"trueba\", \"trueba\", \"trueba\", \"tru\\u00f1o\", \"tru\\u00f1o\", \"tru\\u00f1o\", \"tru\\u00f1o\", \"tru\\u00f1o\", \"tru\\u00f1o\", \"tru\\u00f1o\", \"tru\\u00f1o\", \"tru\\u00f1o\", \"tru\\u00f1o\", \"tyler\", \"tyler\", \"tyler\", \"ultima\", \"ultima\", \"ultima\", \"ultima\", \"ultima\", \"ultima\", \"ultima\", \"ultima\", \"ultima\", \"ultima\", \"ultimatum_bourne\", \"ultimatum_bourne\", \"ultimos_dia\", \"ultimos_dia\", \"ultimos_dia\", \"ultimos_dia\", \"ultimos_dia\", \"ultimos_dia\", \"ultimos_dia\", \"united\", \"united\", \"united\", \"united\", \"united\", \"united\", \"united\", \"united\", \"united\", \"vacuidad\", \"vacuidad\", \"vacuidad\", \"vacuidad\", \"vacuidad\", \"vacuidad\", \"vacuidad\", \"vacuidad\", \"vacuidad\", \"vampiro\", \"vampiro\", \"vampiro\", \"vampiro\", \"vampiro\", \"vampiro\", \"vampiro\", \"vampiro\", \"vampiro\", \"vampiro\", \"van_gogh\", \"van_gogh\", \"variaci\\u00f3n\", \"variaci\\u00f3n\", \"vaso\", \"vaso\", \"vaso\", \"vaughn\", \"vaughn\", \"venom\", \"venom\", \"venom\", \"verne\", \"verne\", \"verne\", \"vestuario\", \"vestuario\", \"vestuario\", \"vestuario\", \"vestuario\", \"vestuario\", \"vestuario\", \"vestuario\", \"vestuario\", \"vestuario\", \"videojuego\", \"videojuego\", \"videojuego\", \"videojuego\", \"videojuego\", \"videojuego\", \"videojuego\", \"videojuego\", \"videojuego\", \"videojuego\", \"vikingo\", \"vikingo\", \"vikingo\", \"vikingo\", \"villana\", \"vincent_price\", \"vincent_price\", \"violencia\", \"violencia\", \"violencia\", \"violencia\", \"violencia\", \"violencia\", \"violencia\", \"violencia\", \"violencia\", \"violencia\", \"violeta\", \"violeta\", \"virg\\u00e9n\", \"virg\\u00e9n\", \"virg\\u00e9n\", \"virg\\u00e9n\", \"virg\\u00e9n\", \"virg\\u00e9n\", \"virus\", \"virus\", \"virus\", \"virus\", \"virus\", \"virus\", \"virus\", \"virus\", \"virus\", \"virus\", \"visualizacion\", \"visualizacion\", \"visualizacion\", \"visualizacion\", \"visualizacion\", \"visualizacion\", \"voces_off\", \"voces_off\", \"voces_off\", \"voces_off\", \"voldemort\", \"voldemort\", \"voldemort\", \"vulgar\", \"vulgar\", \"vulgar\", \"vulgar\", \"vulgar\", \"vulgar\", \"waters\", \"waters\", \"waters\", \"waters\", \"waters\", \"wes_anderson\", \"wes_anderson\", \"wes_anderson\", \"wes_anderson\", \"western\", \"western\", \"western\", \"western\", \"western\", \"western\", \"western\", \"western\", \"western\", \"western\", \"will_smith\", \"will_smith\", \"will_smith\", \"will_smith\", \"will_smith\", \"will_smith\", \"will_smith\", \"will_smith\", \"will_smith\", \"winstone\", \"winstone\", \"winstone\", \"woody_allen\", \"woody_allen\", \"woody_allen\", \"woody_allen\", \"woody_allen\", \"woody_allen\", \"woody_allen\", \"woody_allen\", \"woody_allen\", \"woody_allen\", \"yate\", \"yate\", \"yate\", \"yimou\", \"yimou\", \"yimou\", \"yimou\", \"yimou\", \"zemeckis\", \"zemeckis\", \"zemeckis\", \"zemeckis\", \"zemeckis\", \"zemeckis\", \"zemeckis\", \"zemeckis\", \"zetaj\\u00f3n\", \"zombi\", \"zombi\", \"zombi\", \"zombi\", \"zombi\", \"zombi\", \"zombi\", \"zombi\", \"zombi\", \"zombi\", \"zombies_party\", \"zombies_party\", \"\\u00f1o\\u00f1eria\", \"\\u00f1o\\u00f1eria\", \"\\u00f1o\\u00f1eria\"]}, \"R\": 30, \"lambda.step\": 0.01, \"plot.opts\": {\"xlab\": \"PC1\", \"ylab\": \"PC2\"}, \"topic.order\": [7, 4, 5, 1, 2, 10, 8, 3, 9, 6]};\n",
       "\n",
       "function LDAvis_load_lib(url, callback){\n",
       "  var s = document.createElement('script');\n",
       "  s.src = url;\n",
       "  s.async = true;\n",
       "  s.onreadystatechange = s.onload = callback;\n",
       "  s.onerror = function(){console.warn(\"failed to load library \" + url);};\n",
       "  document.getElementsByTagName(\"head\")[0].appendChild(s);\n",
       "}\n",
       "\n",
       "if(typeof(LDAvis) !== \"undefined\"){\n",
       "   // already loaded: just create the visualization\n",
       "   !function(LDAvis){\n",
       "       new LDAvis(\"#\" + \"ldavis_el1310423430061977929751654373\", ldavis_el1310423430061977929751654373_data);\n",
       "   }(LDAvis);\n",
       "}else if(typeof define === \"function\" && define.amd){\n",
       "   // require.js is available: use it to load d3/LDAvis\n",
       "   require.config({paths: {d3: \"https://d3js.org/d3.v5\"}});\n",
       "   require([\"d3\"], function(d3){\n",
       "      window.d3 = d3;\n",
       "      LDAvis_load_lib(\"https://cdn.jsdelivr.net/gh/bmabey/pyLDAvis@3.3.1/pyLDAvis/js/ldavis.v3.0.0.js\", function(){\n",
       "        new LDAvis(\"#\" + \"ldavis_el1310423430061977929751654373\", ldavis_el1310423430061977929751654373_data);\n",
       "      });\n",
       "    });\n",
       "}else{\n",
       "    // require.js not available: dynamically load d3 & LDAvis\n",
       "    LDAvis_load_lib(\"https://d3js.org/d3.v5.js\", function(){\n",
       "         LDAvis_load_lib(\"https://cdn.jsdelivr.net/gh/bmabey/pyLDAvis@3.3.1/pyLDAvis/js/ldavis.v3.0.0.js\", function(){\n",
       "                 new LDAvis(\"#\" + \"ldavis_el1310423430061977929751654373\", ldavis_el1310423430061977929751654373_data);\n",
       "            })\n",
       "         });\n",
       "}\n",
       "</script>"
      ],
      "text/plain": [
       "<IPython.core.display.HTML object>"
      ]
     },
     "execution_count": 78,
     "metadata": {},
     "output_type": "execute_result"
    }
   ],
   "source": [
    "# Crea corpus (BoW)\n",
    "corpus = [new_corpus_bow.diccionario.doc2bow(text) for text in new_textos_lemas_trigramas]\n",
    "\n",
    "# Aplica el modelo LDA\n",
    "#ldamodel = LdaModel(corpus=corpus, num_topics=10, id2word=new_corpus_bow.diccionario)\n",
    "ldamodel = LdaModel(corpus=new_corpus_bow, num_topics=10, id2word=new_corpus_bow.diccionario, \n",
    "                    random_state=100)\n",
    "\n",
    "# Representa gráficamente\n",
    "vis_data = gensimvis.prepare(ldamodel, corpus, new_corpus_bow.diccionario)\n",
    "pyLDAvis.display(vis_data)"
   ]
  },
  {
   "cell_type": "markdown",
   "id": "45cf205f-e3fa-4906-90bc-cff817412f8c",
   "metadata": {
    "id": "lHU67MOFr4OU"
   },
   "source": [
    "## Selección del número de temas\n",
    "Para seleccionar el número óptimo de temas, debemos hacer un barrido y seleccionar el modelo con mayor valor de coherencia (Topic coherence).  \n",
    "Lo podemos automatizar en una función (nota: *tarda bastante en ejecutarse*)."
   ]
  },
  {
   "cell_type": "code",
   "execution_count": 79,
   "id": "5a293bde-e0ed-4ef3-9c7c-386e09e48774",
   "metadata": {
    "id": "n8yvI77rr4OV"
   },
   "outputs": [],
   "source": [
    "def evaluate_graph(dictionary, corpus, texts, limit, start=1, step=1):\n",
    "    \"\"\"\n",
    "    Function to display num_topics - LDA graph using c_v coherence\n",
    "    \n",
    "    Parameters:\n",
    "    ----------\n",
    "    dictionary : Gensim dictionary\n",
    "    corpus : Gensim corpus\n",
    "    limit : topic limit\n",
    "    start: min number of topics\n",
    "    step: step between topics number swept\n",
    "    \n",
    "    Returns:\n",
    "    -------\n",
    "    lm_list : List of LDA topic models\n",
    "    c_v : Coherence values corresponding to the LDA model with respective number of topics\n",
    "    \"\"\"\n",
    "    c_v = []\n",
    "    lm_list = []\n",
    "    n_topics = list(range(start, limit, step))\n",
    "    for num_topics in n_topics:\n",
    "        lm = LdaModel(corpus=corpus, num_topics=num_topics, id2word=dictionary)\n",
    "        lm_list.append(lm)\n",
    "        # para cada modelo calculo su coherencia y la guardo en una lista, vamos a ver q modelo lo tiene mejor\n",
    "        cm = CoherenceModel(model=lm, texts=texts, dictionary=dictionary, coherence='c_v')\n",
    "        c_v.append(cm.get_coherence())\n",
    "        \n",
    "    # Show graph\n",
    "    # Este modelo es muy inestable, la grafica sera un poco churresca\n",
    "    # para hacer esto bien cada vez q define el num d temas, no tendria q aplicar un unico modelo sino q tendria q \n",
    "    # calcular el modelo n veces y sacar la media del coherence model de esas N veces, asi habria menos oscilacion\n",
    "    x = n_topics\n",
    "    plt.plot(x, c_v)\n",
    "    plt.xlabel(\"num_topics\")\n",
    "    plt.ylabel(\"Coherence score\")\n",
    "    plt.legend((\"c_v\"), loc='best')\n",
    "    plt.show()\n",
    "    \n",
    "    return lm_list, c_v, n_topics"
   ]
  },
  {
   "cell_type": "code",
   "execution_count": 80,
   "id": "ba31220e-bc1b-44c4-bae5-3b8551bdd64b",
   "metadata": {
    "id": "gCBXGYRRr4OW"
   },
   "outputs": [
    {
     "data": {
      "image/png": "[encoded data removed]",
      "text/plain": [
       "<Figure size 432x288 with 1 Axes>"
      ]
     },
     "metadata": {
      "needs_background": "light"
     },
     "output_type": "display_data"
    }
   ],
   "source": [
    "lmlist, c_v, n = evaluate_graph(dictionary=new_corpus_bow.diccionario,\n",
    "                                corpus=new_corpus_bow,\n",
    "                                texts=new_textos_lemas_trigramas,\n",
    "                                limit=15, # q vaya de 5 a 15 con saltos de 2\n",
    "                                start=5,\n",
    "                                step=1)"
   ]
  },
  {
   "cell_type": "markdown",
   "id": "c8a7e179-522c-4e02-8e12-e3676173621f",
   "metadata": {},
   "source": [
    "De la gráfica podemos ver que el máximo viene en K=5, por lo que podría ser mayor aún para un K menor a 5. Además hay otro pico en 9. \n",
    "Vamos a probar entonces para K=5 y para K=9 a ver qué temáticas son más sencillas de interpretar."
   ]
  },
  {
   "cell_type": "markdown",
   "id": "16ccf3ec-6bf9-4867-a1a4-241f119754f2",
   "metadata": {},
   "source": [
    "## Probamos para K = 5\n",
    "Recalculamos para K = 5 temáticas"
   ]
  },
  {
   "cell_type": "code",
   "execution_count": 115,
   "id": "b40b65d3-1cdd-457b-8e8f-d19888790ab4",
   "metadata": {
    "id": "VdtGFyv_r4OS"
   },
   "outputs": [
    {
     "data": {
      "text/html": [
       "\n",
       "<link rel=\"stylesheet\" type=\"text/css\" href=\"https://cdn.jsdelivr.net/gh/bmabey/pyLDAvis@3.3.1/pyLDAvis/js/ldavis.v1.0.0.css\">\n",
       "\n",
       "\n",
       "<div id=\"ldavis_el1310423447790517444963030160\"></div>\n",
       "<script type=\"text/javascript\">\n",
       "\n",
       "var ldavis_el1310423447790517444963030160_data = {\"mdsDat\": {\"x\": [-0.10417807550381218, -0.11229153240356678, 0.12126758559906073, -0.21439782539195196, 0.30959984770027027], \"y\": [0.07046508858346444, 0.02568218934597057, 0.2920832377350905, -0.18129983029045246, -0.20693068537407294], \"topics\": [1, 2, 3, 4, 5], \"cluster\": [1, 1, 1, 1, 1], \"Freq\": [29.59467146049235, 27.499770079012926, 19.748792516930454, 15.340914435530587, 7.815851508033683]}, \"tinfo\": {\"Term\": [\"comedia\", \"mujer\", \"policia\", \"imagen\", \"novela\", \"asesino\", \"relato\", \"guerra\", \"serie\", \"terror\", \"libro\", \"humor\", \"padre\", \"trama\", \"hijo\", \"mirada\", \"familia\", \"narracion\", \"cineasta\", \"thriller\", \"joven\", \"realidad\", \"crimen\", \"pantalla\", \"pueblo\", \"sociedad\", \"ni\\u00f1o\", \"casa\", \"monstruo\", \"madre\", \"serie\", \"terror\", \"saga\", \"sangre\", \"efectos_especial\", \"rambo\", \"duracion\", \"secuela\", \"alien\", \"presupuesto\", \"vampiro\", \"entretenimiento\", \"gore\", \"ultimos_a\\u00f1o\", \"remake\", \"cloverfield\", \"bicho\", \"leyenda\", \"comic\", \"ataque\", \"carisma\", \"will_smith\", \"pelea\", \"tren\", \"decada\", \"scott\", \"mision\", \"experimento\", \"ausencia\", \"desastre\", \"monstruo\", \"producci\\u00f3n\", \"entrega\", \"mediocre\", \"flashback\", \"alex_iglesia\", \"resultado\", \"video\", \"taquilla\", \"tension\", \"calidad\", \"productor\", \"hora\", \"estilo\", \"minuto\", \"produccion\", \"efecto\", \"producto\", \"pantalla\", \"pese\", \"principio\", \"nombre\", \"cosa\", \"metraje\", \"resto\", \"direccion\", \"plano\", \"trama\", \"ritmo\", \"aspecto\", \"sensacion\", \"ningun\", \"gracias\", \"argumento\", \"exito\", \"idea\", \"estreno\", \"padre\", \"hijo\", \"pueblo\", \"madre\", \"espa\\u00f1ol\", \"premio\", \"adolescente\", \"espa\\u00f1a\", \"hermano\", \"hija\", \"juno\", \"ni\\u00f1a\", \"leone\", \"oscar\", \"habitacion\", \"festival\", \"marido\", \"iglesia\", \"sexo\", \"largometraje\", \"orfanato\", \"hotel\", \"opera_prima\", \"besito\", \"hermana\", \"desgracia\", \"loco\", \"droga\", \"amiga\", \"chaval\", \"mujer\", \"familia\", \"pareja\", \"viaje\", \"drama\", \"casa\", \"joven\", \"persona\", \"actriz\", \"ni\\u00f1o\", \"amigo\", \"gente\", \"amor\", \"relacion\", \"titulo\", \"musica\", \"paso\", \"punto\", \"tema\", \"realidad\", \"relato\", \"guerra\", \"narracion\", \"discurso\", \"soldado\", \"narrativa\", \"politica\", \"conflicto\", \"espacio\", \"zombi\", \"naturaleza\", \"spielberg\", \"libertad\", \"conciencia\", \"militar\", \"significado\", \"ejercicio\", \"estructura\", \"material\", \"expresion\", \"lynch\", \"humanidad\", \"tragedia\", \"emoci\\u00f3n\", \"valor\", \"reflexion\", \"expiacion\", \"proceso\", \"denuncia\", \"monstruoso\", \"necesidad\", \"concepto\", \"mirada\", \"cineasta\", \"imagen\", \"acto\", \"sociedad\", \"violencia\", \"elemento\", \"conjunto\", \"sentimiento\", \"interior\", \"social\", \"realidad\", \"capacidad\", \"camara\", \"trav\", \"busqueda\", \"tono\", \"puesta\", \"plano\", \"idea\", \"muerte\", \"vision\", \"filme\", \"mensaje\", \"secuencia\", \"situacion\", \"desarrollo\", \"libro\", \"animacion\", \"chiste\", \"danny\", \"servidor\", \"tim_burton\", \"penn\", \"comedia\", \"mago\", \"peter\", \"britanico\", \"canci\\u00f3n\", \"disney\", \"cuidado\", \"parodia\", \"burton\", \"pari\", \"broma\", \"encanto\", \"alex\", \"jack\", \"mafia\", \"oeste\", \"suceso\", \"direccion_artistica\", \"reir\", \"navidad\", \"huston\", \"neville\", \"pixar\", \"novela\", \"escritor\", \"magia\", \"literatura\", \"humor\", \"londr\", \"tal_vez\", \"queria\", \"gracia\", \"aventura\", \"guionista\", \"ingles\", \"pantalla\", \"secreto\", \"puesto\", \"amistad\", \"gusto\", \"chica\", \"carrera\", \"trama\", \"ni\\u00f1o\", \"metraje\", \"policia\", \"asesino\", \"thriller\", \"crimen\", \"asesinato\", \"agente\", \"profesor\", \"trilogia\", \"italiano\", \"espia\", \"elijah_wood\", \"sweeney_todd\", \"pista\", \"mafioso\", \"crimenes_oxford\", \"plano_secuencia\", \"john_hurt\", \"american_gangster\", \"estudiante\", \"banda\", \"pirata\", \"wilder\", \"investigacion\", \"jungla\", \"ambicion\", \"allen\", \"woody_allen\", \"alumno\", \"affleck\", \"gangster\", \"negro\", \"filmografia\", \"periodista\", \"trama\", \"giro\", \"maestro\", \"venganza\", \"maestra\", \"pieza\", \"pese\"], \"Freq\": [955.0, 984.0, 451.0, 923.0, 601.0, 389.0, 600.0, 596.0, 794.0, 760.0, 485.0, 624.0, 671.0, 923.0, 605.0, 490.0, 599.0, 433.0, 479.0, 254.0, 1011.0, 863.0, 239.0, 1024.0, 466.0, 452.0, 701.0, 672.0, 507.0, 452.0, 793.5125060402, 759.8470878773304, 427.36628160592363, 317.8764575212581, 313.32046653690986, 317.6758843335445, 290.00229824567987, 277.7808264287364, 278.11068239882815, 232.17313017464107, 224.7329157790446, 220.06251850575796, 185.7780825315618, 190.41035879040913, 178.78841182136787, 199.6317954245008, 168.70759821740896, 294.81674668073316, 154.47888092661347, 202.46345378407466, 147.79863263084184, 146.25847229221995, 141.6432456192407, 151.47527798007343, 146.46338085338508, 129.89787564939425, 126.72337682218426, 124.11735248738307, 119.24988492164049, 116.28198123479373, 504.3738877036236, 307.7504738667242, 247.24671552963798, 180.3461406933034, 206.2938697482723, 170.3051346829819, 587.6467895573348, 173.9604923755399, 231.26637762755516, 300.6277688165768, 370.2604830283917, 334.91635637033755, 487.27396393333964, 447.2920039542085, 467.0180612728096, 316.9245565464074, 323.4153782131402, 439.7268313382803, 618.4222326414346, 359.7404452801868, 496.4572579301818, 431.458571424843, 496.35294949362185, 447.02907058178533, 437.07626401440086, 389.6207688891055, 488.3038583846978, 486.20272666881766, 418.58543135312254, 382.6497046071163, 370.81770284807465, 375.7234427879282, 368.7149277986169, 376.668186612592, 354.8829674527715, 372.1209528663878, 332.11008318997625, 671.0457683047235, 604.5841984048388, 465.6449289789696, 451.7381068569593, 436.1477987680935, 409.32385653098754, 404.6004596005896, 343.18906631035213, 425.0462507986153, 278.01418135140716, 323.9342206797035, 256.3080260055933, 299.69668816780165, 293.6582160058357, 204.04316861213908, 186.34297770736305, 180.4618074458424, 187.5205418638707, 176.3686227276513, 158.99879796134402, 158.826025060344, 152.0018269922835, 151.69748026383857, 146.16853646364842, 144.76278509506292, 143.69992735695382, 140.39545223782142, 135.82480632264068, 133.23615631618742, 124.61812587212016, 975.249922438038, 588.2464601593035, 405.33587461656856, 378.6188631131667, 386.8481093225148, 574.6714005842537, 793.5244959066283, 552.8691442051239, 460.9605913019202, 537.501618524246, 523.472716143313, 359.6453084016948, 424.93799397914927, 320.3036188780985, 363.9920969757322, 346.19072170888654, 339.428488011879, 346.9172157842859, 328.32999405809466, 318.99583711822055, 599.4344517454168, 595.8601334883341, 432.9264497780367, 240.9334587883036, 237.8893232809756, 213.72045550708165, 201.6591442484953, 203.42193263176299, 235.922911477162, 200.88447487475173, 194.6047730267353, 188.76055576315028, 182.3835440832063, 179.1596220240074, 168.0499963043614, 157.2636977961378, 153.72904512742528, 149.3752814654056, 140.29256875438818, 139.58661074180108, 137.9955863323272, 131.29557931019784, 123.74719908551617, 151.40128544090678, 120.47917449053932, 117.83897434648179, 130.52668157535862, 115.585582227246, 109.82620084100648, 125.0742287315045, 203.86855647927982, 176.63714166995297, 470.57863077467664, 455.39474743605194, 785.286476657297, 246.9856282016128, 403.93752763503966, 385.2078379355198, 485.5949345777131, 238.9186517922769, 238.05166505425805, 233.51880743703603, 205.77309631403867, 495.90562118202274, 278.6571792491631, 418.6801980376203, 317.1063081457174, 216.1857244904966, 275.7756596679655, 270.4934846008873, 340.02912236745124, 315.8960531838616, 281.9445604781154, 237.02806489456935, 265.2150899572915, 218.94502961789428, 251.06372396046282, 230.89354862319215, 226.85608520222883, 485.07823155479537, 230.99369264029184, 233.3420879330048, 233.32442324080023, 229.6716204480884, 197.88914034693542, 194.45797564029786, 950.9663305812511, 156.64300315128662, 157.31939497601795, 154.68541675647757, 151.51374144655816, 144.5536733809837, 133.99652027964467, 131.60029805695908, 128.3374747286339, 122.98760612544719, 118.17983957712956, 114.81971473038573, 112.10983213545872, 106.90922793968835, 107.83326171211485, 116.5558535846583, 104.36958096989008, 98.58155850695172, 94.96376005037878, 95.38761178623889, 96.38948901511253, 95.42536221983342, 85.73707995774528, 589.2513600752759, 219.94353098145427, 199.03745742584243, 115.38057991644165, 501.4512043504606, 126.70294148022072, 322.55743657517297, 161.34809928044578, 223.53161554270088, 255.3554776512265, 264.98038110489415, 155.49158130097055, 298.9263152415422, 147.81796503080557, 196.22410860392284, 165.6531506574012, 190.26590655866096, 188.69061055536267, 187.11364447646892, 197.01850415932017, 163.30583138654842, 153.30634903136792, 450.7420387113713, 388.29824898540227, 253.95118650481058, 239.08835017576766, 222.83870501772432, 203.26960879239712, 200.95015943355813, 188.62564489923258, 155.21931998115323, 142.0855005168143, 137.14637743460207, 138.05021415086907, 121.42956856457106, 115.79179881947265, 131.49412583557475, 117.14737115754598, 119.2649996640365, 104.01597294954219, 97.094046507236, 84.5587113564484, 83.05119376232594, 81.81286962017867, 81.19237128971255, 82.78868731782345, 82.47630527702158, 79.48850351203652, 76.92678004641984, 77.80611867382444, 79.75807385768653, 74.59162107395369, 168.23943176590515, 147.9415373837073, 106.07916887257434, 219.0658165965873, 118.42702797269698, 123.00064413749038, 97.88337607248461, 99.26627891249161, 87.9783533256182, 86.4110352684265], \"Total\": [955.0, 984.0, 451.0, 923.0, 601.0, 389.0, 600.0, 596.0, 794.0, 760.0, 485.0, 624.0, 671.0, 923.0, 605.0, 490.0, 599.0, 433.0, 479.0, 254.0, 1011.0, 863.0, 239.0, 1024.0, 466.0, 452.0, 701.0, 672.0, 507.0, 452.0, 794.2551672781891, 760.5835850808754, 428.09891039229166, 318.61700329577894, 314.0557711111958, 318.45222998665656, 290.7580655175468, 278.5154846385735, 278.8511674898739, 232.91297099530337, 225.47436001800412, 220.8004102201031, 186.51117986029018, 191.16179604675537, 179.52679261580434, 200.48735805049606, 169.45051914707912, 296.13700632978777, 155.20981331257235, 203.4604781907047, 148.54940285142405, 147.017198184324, 142.38193971521224, 152.27548540502156, 147.31366815234307, 130.65571773111716, 127.46790128639415, 124.87487357806563, 120.00346416664607, 117.03044855024571, 507.67796348128235, 310.7359822214062, 249.5460784258691, 181.68622955652398, 208.66627335323514, 171.81184070258846, 616.5898209245381, 176.36513399446065, 241.29407201604818, 321.0765491435086, 414.9259052785024, 375.84658161255027, 585.5474711290138, 579.3910480288398, 628.955794205937, 378.22032656487323, 392.57440221173516, 606.2822256254924, 1024.5615694181197, 480.2734856165687, 783.8547895009244, 641.2571750275476, 808.6767952925106, 706.7139370423531, 699.0963449666272, 576.4462527010752, 924.841395490175, 923.5799075183878, 682.2671142488615, 607.4226765527346, 567.5563000288179, 598.7856734079006, 571.6546524498115, 609.0183285493722, 552.726892282664, 781.8460847238252, 458.9151888786816, 671.7829265891339, 605.321621960271, 466.3934133637248, 452.47315536406563, 436.87980253847445, 410.0670806331377, 405.34119333828625, 343.92525859264646, 426.14939180964575, 278.7609431554495, 324.86087794527543, 257.0430439342713, 300.5931301353509, 294.6662595420723, 204.792091985368, 187.07891143564322, 181.19687199582452, 188.28979965418245, 177.1061271927474, 159.74583160983818, 159.59234009568647, 152.7470995245098, 152.44359625059192, 146.900390098233, 145.5037188666738, 144.4410390006991, 141.13735703393417, 136.58106602743803, 133.98897169477664, 125.35273259329233, 984.0959847841809, 599.3928648021266, 416.232653496954, 400.9308172213501, 418.83673016787463, 672.0660980510554, 1011.3721206359847, 692.3016433208221, 580.0591898739615, 701.3529286593997, 681.309747028247, 484.28819773284994, 733.8345439770989, 468.9129034042946, 685.3961938689052, 664.6661348627631, 659.3788330714492, 832.2902272244955, 659.0136869206364, 863.1707413517338, 600.1754591174786, 596.6027486022939, 433.6646872305256, 241.6691295822539, 238.62817266134513, 214.45491722891066, 202.3905350181773, 204.16187722715057, 236.79966217239604, 201.63175482277597, 195.34230367585116, 189.51645936270543, 183.12325406444037, 179.89161197768138, 168.7935857728368, 157.99770144900964, 154.47436489603214, 150.11252889005002, 141.02840708042254, 140.32107777128508, 138.7391889741898, 132.02977323786055, 124.48373129975009, 152.30496752599186, 121.21949612316914, 118.57633969769726, 131.3475040661581, 116.32346689776524, 110.56493693576108, 125.9200981474986, 205.8229024031781, 179.09821668516017, 490.0318767930057, 479.48120713289774, 923.1360736021261, 263.5410860992175, 452.30775167394745, 465.0195128535097, 646.3867978857251, 274.55581590737785, 274.2395235815328, 278.49171910755086, 234.81876666081104, 863.1707413517338, 373.17997094647944, 744.4170810387233, 494.33261143998743, 259.8142386726855, 432.4047529794426, 423.7706771641881, 924.841395490175, 781.8460847238252, 637.2243440583935, 378.093410350791, 638.6702121148027, 288.24825335592527, 565.8943865386511, 443.9247816668228, 404.459460413744, 485.81048284083835, 231.7162458484665, 234.07199828321606, 234.07423948409837, 230.44197384568417, 198.6304230544231, 195.24633882498682, 955.098107164408, 157.3706247684169, 158.05415629212044, 155.42582082915212, 152.24454953203454, 145.27307747408616, 134.7286176055894, 132.32797144342382, 129.07853316983355, 123.7167477167697, 118.91776973241063, 115.55192777666079, 112.88034350689978, 107.64454093002485, 108.58312806756322, 117.37294772327819, 105.11786700923736, 99.32614226880271, 95.69107352168633, 96.13037992938574, 97.16312235926975, 96.20039239539624, 86.45354256141913, 601.4470826742094, 223.45138085307303, 202.31949519186958, 116.89616169444595, 624.1940196308432, 133.97776148210264, 420.9501811506506, 185.67856250665375, 328.84661601465535, 421.9408398257162, 579.1445743333778, 220.70749008117605, 1024.5615694181197, 203.08300577693058, 430.1028220113669, 274.44158905855465, 491.5849550117448, 507.41018817234414, 506.91833439576635, 923.5799075183878, 701.3529286593997, 706.7139370423531, 451.483446023937, 389.0354621770574, 254.68545636745776, 239.82235577578, 223.5762630149757, 204.01180145851694, 201.6911148346724, 189.3772527309942, 155.9864629347256, 142.81852189620025, 137.9378320368191, 138.85327511102108, 122.17889976820673, 116.52538927619807, 132.35053703356854, 117.93334711870143, 120.09958193884293, 104.79760959316891, 97.85901453658768, 85.29371888072703, 83.78344503834825, 82.5499933949035, 81.92567763747076, 83.53663000540432, 83.22978025374579, 80.21485501789597, 77.65825882946336, 78.55288450748368, 80.53490193221921, 75.33600586341569, 244.19592645356556, 230.79925886815124, 150.88351519137703, 923.5799075183878, 210.2396249750792, 245.26243359516295, 195.8836209587668, 293.97467081222254, 199.3408437269012, 480.2734856165687], \"Category\": [\"Default\", \"Default\", \"Default\", \"Default\", \"Default\", \"Default\", \"Default\", \"Default\", \"Default\", \"Default\", \"Default\", \"Default\", \"Default\", \"Default\", \"Default\", \"Default\", \"Default\", \"Default\", \"Default\", \"Default\", \"Default\", \"Default\", \"Default\", \"Default\", \"Default\", \"Default\", \"Default\", \"Default\", \"Default\", \"Default\", \"Topic1\", \"Topic1\", \"Topic1\", \"Topic1\", \"Topic1\", \"Topic1\", \"Topic1\", \"Topic1\", \"Topic1\", \"Topic1\", \"Topic1\", \"Topic1\", \"Topic1\", \"Topic1\", \"Topic1\", \"Topic1\", \"Topic1\", \"Topic1\", \"Topic1\", \"Topic1\", \"Topic1\", \"Topic1\", \"Topic1\", \"Topic1\", \"Topic1\", \"Topic1\", \"Topic1\", \"Topic1\", \"Topic1\", \"Topic1\", \"Topic1\", \"Topic1\", \"Topic1\", \"Topic1\", \"Topic1\", \"Topic1\", \"Topic1\", \"Topic1\", \"Topic1\", \"Topic1\", \"Topic1\", \"Topic1\", \"Topic1\", \"Topic1\", \"Topic1\", \"Topic1\", \"Topic1\", \"Topic1\", \"Topic1\", \"Topic1\", \"Topic1\", \"Topic1\", \"Topic1\", \"Topic1\", \"Topic1\", \"Topic1\", \"Topic1\", \"Topic1\", \"Topic1\", \"Topic1\", \"Topic1\", \"Topic1\", \"Topic1\", \"Topic1\", \"Topic1\", \"Topic1\", \"Topic1\", \"Topic2\", \"Topic2\", \"Topic2\", \"Topic2\", \"Topic2\", \"Topic2\", \"Topic2\", \"Topic2\", \"Topic2\", \"Topic2\", \"Topic2\", \"Topic2\", \"Topic2\", \"Topic2\", \"Topic2\", \"Topic2\", \"Topic2\", \"Topic2\", \"Topic2\", \"Topic2\", \"Topic2\", \"Topic2\", \"Topic2\", \"Topic2\", \"Topic2\", \"Topic2\", \"Topic2\", \"Topic2\", \"Topic2\", \"Topic2\", \"Topic2\", \"Topic2\", \"Topic2\", \"Topic2\", \"Topic2\", \"Topic2\", \"Topic2\", \"Topic2\", \"Topic2\", \"Topic2\", \"Topic2\", \"Topic2\", \"Topic2\", \"Topic2\", \"Topic2\", \"Topic2\", \"Topic2\", \"Topic2\", \"Topic2\", \"Topic2\", \"Topic3\", \"Topic3\", \"Topic3\", \"Topic3\", \"Topic3\", \"Topic3\", \"Topic3\", \"Topic3\", \"Topic3\", \"Topic3\", \"Topic3\", \"Topic3\", \"Topic3\", \"Topic3\", \"Topic3\", \"Topic3\", \"Topic3\", \"Topic3\", \"Topic3\", \"Topic3\", \"Topic3\", \"Topic3\", \"Topic3\", \"Topic3\", \"Topic3\", \"Topic3\", \"Topic3\", \"Topic3\", \"Topic3\", \"Topic3\", \"Topic3\", \"Topic3\", \"Topic3\", \"Topic3\", \"Topic3\", \"Topic3\", \"Topic3\", \"Topic3\", \"Topic3\", \"Topic3\", \"Topic3\", \"Topic3\", \"Topic3\", \"Topic3\", \"Topic3\", \"Topic3\", \"Topic3\", \"Topic3\", \"Topic3\", \"Topic3\", \"Topic3\", \"Topic3\", \"Topic3\", \"Topic3\", \"Topic3\", \"Topic3\", \"Topic3\", \"Topic3\", \"Topic3\", \"Topic4\", \"Topic4\", \"Topic4\", \"Topic4\", \"Topic4\", \"Topic4\", \"Topic4\", \"Topic4\", \"Topic4\", \"Topic4\", \"Topic4\", \"Topic4\", \"Topic4\", \"Topic4\", \"Topic4\", \"Topic4\", \"Topic4\", \"Topic4\", \"Topic4\", \"Topic4\", \"Topic4\", \"Topic4\", \"Topic4\", \"Topic4\", \"Topic4\", \"Topic4\", \"Topic4\", \"Topic4\", \"Topic4\", \"Topic4\", \"Topic4\", \"Topic4\", \"Topic4\", \"Topic4\", \"Topic4\", \"Topic4\", \"Topic4\", \"Topic4\", \"Topic4\", \"Topic4\", \"Topic4\", \"Topic4\", \"Topic4\", \"Topic4\", \"Topic4\", \"Topic4\", \"Topic4\", \"Topic4\", \"Topic4\", \"Topic4\", \"Topic4\", \"Topic4\", \"Topic5\", \"Topic5\", \"Topic5\", \"Topic5\", \"Topic5\", \"Topic5\", \"Topic5\", \"Topic5\", \"Topic5\", \"Topic5\", \"Topic5\", \"Topic5\", \"Topic5\", \"Topic5\", \"Topic5\", \"Topic5\", \"Topic5\", \"Topic5\", \"Topic5\", \"Topic5\", \"Topic5\", \"Topic5\", \"Topic5\", \"Topic5\", \"Topic5\", \"Topic5\", \"Topic5\", \"Topic5\", \"Topic5\", \"Topic5\", \"Topic5\", \"Topic5\", \"Topic5\", \"Topic5\", \"Topic5\", \"Topic5\", \"Topic5\", \"Topic5\", \"Topic5\", \"Topic5\"], \"logprob\": [30.0, 29.0, 28.0, 27.0, 26.0, 25.0, 24.0, 23.0, 22.0, 21.0, 20.0, 19.0, 18.0, 17.0, 16.0, 15.0, 14.0, 13.0, 12.0, 11.0, 10.0, 9.0, 8.0, 7.0, 6.0, 5.0, 4.0, 3.0, 2.0, 1.0, -4.7625, -4.8058, -5.3813, -5.6773, -5.6917, -5.6779, -5.7691, -5.8121, -5.8109, -5.9915, -6.024, -6.045, -6.2144, -6.1898, -6.2527, -6.1425, -6.3108, -5.7526, -6.3989, -6.1284, -6.4431, -6.4536, -6.4856, -6.4185, -6.4522, -6.5722, -6.5969, -6.6177, -6.6577, -6.6829, -5.2156, -5.7097, -5.9286, -6.2441, -6.1096, -6.3014, -5.0628, -6.2801, -5.9954, -5.7331, -5.5247, -5.6251, -5.2501, -5.3357, -5.2926, -5.6803, -5.66, -5.3528, -5.0118, -5.5536, -5.2315, -5.3718, -5.2317, -5.3363, -5.3588, -5.4738, -5.248, -5.2523, -5.4021, -5.4918, -5.5232, -5.5101, -5.5289, -5.5076, -5.5672, -5.5197, -5.6335, -4.8567, -4.961, -5.2221, -5.2524, -5.2876, -5.351, -5.3626, -5.5272, -5.3133, -5.7379, -5.585, -5.8192, -5.6628, -5.6831, -6.0472, -6.1379, -6.17, -6.1316, -6.193, -6.2966, -6.2977, -6.3416, -6.3436, -6.3808, -6.3904, -6.3978, -6.4211, -6.4542, -6.4734, -6.5403, -4.4828, -4.9884, -5.3608, -5.429, -5.4075, -5.0117, -4.689, -5.0504, -5.2322, -5.0786, -5.105, -5.4804, -5.3136, -5.5963, -5.4684, -5.5185, -5.5383, -5.5164, -5.5715, -5.6004, -4.6385, -4.6444, -4.9639, -5.5499, -5.5626, -5.6698, -5.7279, -5.7192, -5.5709, -5.7317, -5.7635, -5.794, -5.8283, -5.8462, -5.9102, -5.9765, -5.9993, -6.028, -6.0907, -6.0958, -6.1072, -6.157, -6.2162, -6.0145, -6.243, -6.2651, -6.1629, -6.2844, -6.3355, -6.2055, -5.717, -5.8603, -4.8805, -4.9133, -4.3684, -5.5251, -5.0332, -5.0807, -4.8491, -5.5583, -5.562, -5.5812, -5.7077, -4.8281, -5.4045, -4.9973, -5.2752, -5.6583, -5.4149, -5.4342, -5.2054, -5.279, -5.3927, -5.5663, -5.4539, -5.6456, -5.5087, -5.5925, -5.6101, -4.5976, -5.3395, -5.3294, -5.3294, -5.3452, -5.4942, -5.5117, -3.9244, -5.7279, -5.7236, -5.7405, -5.7612, -5.8082, -5.8841, -5.9021, -5.9272, -5.9698, -6.0097, -6.0385, -6.0624, -6.1099, -6.1013, -6.0235, -6.1339, -6.191, -6.2284, -6.2239, -6.2135, -6.2235, -6.3306, -4.403, -5.3885, -5.4884, -6.0336, -4.5644, -5.94, -5.0056, -5.6983, -5.3723, -5.2392, -5.2022, -5.7353, -5.0817, -5.7859, -5.5026, -5.672, -5.5335, -5.5418, -5.5502, -5.4986, -5.6863, -5.7494, -3.9966, -4.1457, -4.5704, -4.6307, -4.7011, -4.793, -4.8045, -4.8677, -5.0627, -5.1511, -5.1865, -5.1799, -5.3082, -5.3557, -5.2285, -5.3441, -5.3262, -5.463, -5.5318, -5.6701, -5.6881, -5.7031, -5.7107, -5.6912, -5.695, -5.7319, -5.7647, -5.7533, -5.7285, -5.7955, -4.9821, -5.1107, -5.4433, -4.7181, -5.3332, -5.2953, -5.5237, -5.5097, -5.6304, -5.6484], \"loglift\": [30.0, 29.0, 28.0, 27.0, 26.0, 25.0, 24.0, 23.0, 22.0, 21.0, 20.0, 19.0, 18.0, 17.0, 16.0, 15.0, 14.0, 13.0, 12.0, 11.0, 10.0, 9.0, 8.0, 7.0, 6.0, 5.0, 4.0, 3.0, 2.0, 1.0, 1.2166, 1.2166, 1.2159, 1.2152, 1.2152, 1.2151, 1.215, 1.2149, 1.2149, 1.2144, 1.2143, 1.2142, 1.2136, 1.2136, 1.2135, 1.2133, 1.2132, 1.2131, 1.2129, 1.2127, 1.2125, 1.2124, 1.2124, 1.2123, 1.2118, 1.2118, 1.2117, 1.2115, 1.2113, 1.2112, 1.211, 1.2079, 1.2083, 1.2102, 1.2061, 1.2088, 1.1695, 1.2038, 1.1751, 1.1518, 1.1037, 1.1023, 1.0339, 0.9588, 0.9199, 1.0408, 1.0238, 0.8964, 0.7127, 0.9286, 0.7608, 0.8213, 0.7295, 0.7596, 0.7479, 0.8259, 0.5789, 0.5759, 0.729, 0.7555, 0.7919, 0.7515, 0.7791, 0.7371, 0.7745, 0.4751, 0.8942, 1.2899, 1.2898, 1.2894, 1.2894, 1.2893, 1.2892, 1.2892, 1.2888, 1.2884, 1.2883, 1.2881, 1.2881, 1.288, 1.2876, 1.2873, 1.2871, 1.2869, 1.2869, 1.2868, 1.2863, 1.2862, 1.2861, 1.2861, 1.286, 1.2859, 1.2858, 1.2857, 1.2854, 1.2854, 1.2851, 1.282, 1.2722, 1.2645, 1.2337, 1.2115, 1.1344, 1.0484, 1.0661, 1.0612, 1.0249, 1.0275, 0.9934, 0.7447, 0.9098, 0.6581, 0.6387, 0.627, 0.4159, 0.5943, 0.2956, 1.6208, 1.6208, 1.6204, 1.619, 1.619, 1.6186, 1.6185, 1.6184, 1.6184, 1.6184, 1.6183, 1.6181, 1.618, 1.618, 1.6177, 1.6174, 1.6172, 1.6172, 1.6168, 1.6168, 1.6167, 1.6165, 1.6161, 1.6161, 1.616, 1.6158, 1.6158, 1.6157, 1.6154, 1.6153, 1.6125, 1.6082, 1.5816, 1.5705, 1.4603, 1.5572, 1.509, 1.4338, 1.3361, 1.483, 1.4806, 1.446, 1.49, 1.0679, 1.33, 1.0466, 1.1781, 1.4382, 1.1723, 1.1731, 0.6215, 0.7158, 0.8067, 1.1551, 0.7432, 1.3471, 0.8094, 0.9684, 1.0438, 1.8731, 1.8715, 1.8715, 1.8714, 1.8713, 1.8709, 1.8706, 1.8703, 1.87, 1.87, 1.8699, 1.8698, 1.8697, 1.8692, 1.8691, 1.8689, 1.8687, 1.8684, 1.8683, 1.8678, 1.8678, 1.8677, 1.8677, 1.8675, 1.8671, 1.867, 1.8669, 1.8667, 1.8666, 1.8663, 1.8542, 1.8588, 1.8583, 1.8616, 1.6557, 1.8188, 1.6084, 1.7342, 1.4886, 1.3724, 1.0928, 1.5244, 0.6428, 1.557, 1.0899, 1.3698, 0.9254, 0.8854, 0.878, 0.3297, 0.4173, 0.3465, 2.5474, 2.5471, 2.5461, 2.546, 2.5457, 2.5454, 2.5453, 2.545, 2.5441, 2.5439, 2.5433, 2.5432, 2.5429, 2.5427, 2.5425, 2.5423, 2.542, 2.5415, 2.5412, 2.5404, 2.5402, 2.54, 2.54, 2.54, 2.5399, 2.5399, 2.5396, 2.5395, 2.5393, 2.5391, 2.1764, 2.1043, 2.1967, 1.1101, 1.9751, 1.8589, 1.8553, 1.4633, 1.7311, 0.8338]}, \"token.table\": {\"Topic\": [1, 3, 2, 4, 2, 5, 5, 4, 1, 5, 1, 5, 5, 5, 5, 2, 1, 2, 4, 2, 4, 2, 3, 4, 4, 1, 2, 4, 5, 5, 1, 2, 3, 4, 5, 1, 1, 1, 4, 5, 2, 1, 4, 4, 4, 1, 3, 4, 1, 2, 4, 1, 2, 3, 5, 4, 1, 2, 3, 5, 1, 1, 2, 4, 5, 2, 4, 2, 1, 2, 4, 4, 2, 3, 5, 1, 2, 4, 1, 1, 3, 3, 3, 1, 3, 1, 2, 4, 5, 5, 4, 4, 1, 3, 1, 2, 3, 1, 2, 1, 2, 4, 4, 3, 4, 2, 3, 2, 1, 1, 3, 1, 3, 1, 3, 4, 5, 5, 3, 4, 1, 5, 1, 4, 5, 3, 2, 2, 5, 1, 2, 3, 5, 1, 2, 4, 3, 5, 1, 2, 4, 1, 3, 3, 2, 3, 2, 1, 2, 3, 4, 2, 3, 5, 1, 4, 5, 1, 2, 4, 1, 4, 5, 1, 2, 4, 1, 2, 4, 3, 1, 2, 4, 5, 1, 2, 4, 2, 2, 1, 2, 2, 2, 1, 2, 3, 4, 5, 2, 3, 2, 4, 4, 1, 2, 3, 4, 2, 1, 2, 3, 2, 4, 1, 2, 3, 5, 5, 4, 5, 1, 2, 4, 5, 2, 2, 2, 1, 4, 3, 4, 2, 4, 2, 1, 4, 3, 2, 1, 2, 3, 4, 5, 1, 2, 5, 4, 5, 3, 4, 4, 2, 3, 1, 4, 2, 3, 4, 1, 2, 3, 4, 5, 3, 1, 2, 4, 5, 2, 3, 1, 1, 3, 3, 1, 2, 3, 4, 5, 2, 4, 1, 2, 4, 3, 3, 3, 4, 3, 4, 1, 2, 5, 4, 1, 2, 3, 4, 5, 2, 2, 4, 1, 2, 4, 1, 4, 4, 2, 2, 2, 2, 1, 2, 4, 2, 4, 4, 4, 1, 2, 3, 1, 4, 1, 3, 5, 2, 3, 5, 1, 2, 4, 5, 4, 3, 5, 5, 5, 4, 1, 2, 3, 5, 5, 3, 2, 1, 1, 2, 3, 4, 5, 3, 1, 2, 4, 1, 2, 1, 3, 1, 4, 5, 2, 1, 3, 5, 1, 2, 4, 1, 2, 3, 4, 1, 4, 1, 1, 2, 3, 3, 4, 2, 3, 4, 3, 1, 1, 2, 4, 1, 2, 3, 4, 1, 2, 3, 4, 5, 1, 1, 1, 2, 3, 4, 1, 1, 2, 3, 5, 1, 2, 3, 2, 3, 1, 4, 2, 3, 1, 2, 3, 5, 2, 3, 2, 3, 3, 3, 4, 5, 1, 2, 4, 1, 2, 1, 2, 3, 4, 5, 1, 2, 3, 1, 5, 4, 1, 2, 4, 2, 3, 4, 3, 1, 2, 3, 4, 5, 1, 2, 3, 1, 5, 1, 3, 1, 1, 3, 5, 2, 3, 1, 2, 1, 3, 1, 2, 3, 5, 1, 5, 3], \"Freq\": [0.060711596194820056, 0.9372352662575346, 0.7947464811309491, 0.205151477775668, 0.9991582564419957, 0.9933581351763562, 0.9950404758387339, 0.9922010911771724, 0.9894545061901479, 0.005820320624647928, 0.9969475921598757, 0.984854987051651, 0.9929616269224205, 0.9852242760944879, 0.9923890478393039, 0.9926190067565449, 0.010274328278044994, 0.7676390984882189, 0.22016417738667846, 0.39352636154922277, 0.6048645927515831, 0.5791496236967324, 0.2957069843345669, 0.1253688597178809, 0.9969089528192386, 0.6190289886643981, 0.23808807256323003, 0.14285284353793803, 0.9974225214823583, 0.9973383861428392, 0.6305329300078396, 0.08890020423087033, 0.2601154123792132, 0.013170400626795606, 0.008231500391747254, 0.9928218089149689, 0.991638040004807, 0.3934200824659845, 0.6043501266796749, 0.9965563832298395, 0.9938707439944107, 0.9973412937927438, 0.9972602954458887, 0.9922823163058322, 0.9916443645326022, 0.01539561503801648, 0.8313632120528899, 0.1501072466206607, 0.8917254750619928, 0.05543158358493469, 0.050611445881896894, 0.41240321832973953, 0.022836660298389485, 0.5628565097073643, 0.0026866659174575864, 0.9983937058319248, 0.14738197192230332, 0.0026796722167691514, 0.7476285484785932, 0.10182754423722774, 0.9963015478966715, 0.3116872862535776, 0.16767986918705124, 0.36889571221151274, 0.14992553009665757, 0.8555706078129215, 0.144331041665832, 0.9971860797447729, 0.22664109369624982, 0.40007080017685837, 0.37247971050948886, 0.9954202198849988, 0.022941462222837716, 0.9489423010355601, 0.025027049697641145, 0.997569133259897, 0.004188051436805383, 0.9957092291004797, 0.9922053039897938, 0.011167057031705873, 0.9882845473059698, 0.9950436156089812, 0.9943090392636924, 0.12747863265736592, 0.8704969487174414, 0.6133476351582331, 0.3017274656826792, 0.08408798223943519, 0.9965709794938847, 0.9897957570566865, 0.9945919610952858, 0.9954106889913815, 0.9910825100697068, 0.9948904512459559, 0.3560307375495542, 0.08159037735510617, 0.5612428987760334, 0.9911950388722701, 0.9969465810842237, 0.6765591729889175, 0.31399284695126684, 0.010408602661367962, 0.9967164508622505, 0.9972312161532152, 0.9981202472004155, 0.9239877310781361, 0.07401452109411426, 0.995745632653641, 0.9973927962541729, 0.8227739714567274, 0.17576286077558573, 0.9966382687143107, 0.9969291675265899, 0.18410029472946948, 0.7518717919203544, 0.015470613002476426, 0.049505961607924566, 0.9932010528005923, 0.9914318781114664, 0.9952235519797856, 0.9897971611418231, 0.00801455191207954, 0.996374960448193, 0.9845542200728559, 0.013425739364629853, 0.996623043440772, 0.9973097102654436, 0.997986167972604, 0.9942687973147128, 0.7714996659350355, 0.04314875089122122, 0.12944625267366366, 0.05523040114076316, 0.7234452204800901, 0.16124983829977912, 0.11331069718362857, 0.9925887006349424, 0.9912219171564771, 0.6422701789194895, 0.083223741493793, 0.27319097751223353, 0.9929939982880647, 0.9973543154197808, 0.9977118350544, 0.9809926586198392, 0.01668354861598366, 0.9942328537868664, 0.5041725665171928, 0.07828766560825975, 0.4149246277237767, 0.0031315066243303904, 0.07798985182306355, 0.2816300204721739, 0.6412498927674114, 0.9872223080884681, 0.00958468260280066, 0.9955399034025659, 0.23126725062538703, 0.7433590198673155, 0.02477863399557718, 0.08086011379641253, 0.35673579616064355, 0.5612643192927459, 0.9972592535167432, 0.3192977968650302, 0.6811686333120643, 0.6454946153567716, 0.19242386907654438, 0.16093632686401893, 0.9989896985830086, 0.3954107664111152, 0.13640808098898735, 0.45757141091242587, 0.010360107416885114, 0.2990327480557006, 0.31327240272501966, 0.3865049124529464, 0.9961322140045106, 0.9965381031454229, 0.002346594924736357, 0.9973028430129518, 0.9972702662473588, 0.999468675909462, 0.8317002873584252, 0.07855895938087795, 0.051234103944050834, 0.010246820788810167, 0.02732485543682711, 0.9951089118756725, 0.9922004468188751, 0.19545204882314068, 0.802635052954045, 0.9880291788589399, 0.4757969724071754, 0.09848485719180781, 0.40417162172222426, 0.02046438590998604, 0.9984608850043141, 0.14082430934881907, 0.008666111344542711, 0.8503621756832536, 0.2945074495482371, 0.7022869950765654, 0.09695081809442548, 0.06463387872961698, 0.8402404234850208, 0.9887010072523663, 0.9936759708748675, 0.9940123212523724, 0.99084441493391, 0.09195428478048068, 0.7850720657602329, 0.12359446879096865, 0.9935761113972446, 0.9973500104083926, 0.9953311357027469, 0.9980268007619341, 0.9961605395290531, 0.003376815388234078, 0.9938661309281611, 0.9983316892708882, 0.008554600814130175, 0.9837790936249702, 0.9919414883639864, 0.05224747691380925, 0.9479185097219679, 0.9946720967618795, 0.9989542907497243, 0.19049260211867103, 0.11225456910564542, 0.35377197536324617, 0.0034016536092619826, 0.3367637073169363, 0.004077265259671312, 0.4933490964202288, 0.5015036269395714, 0.9946296622878613, 0.9954912034238929, 0.014828032252428031, 0.983592806077726, 0.997644892310987, 0.9933946321333179, 0.9927078019123049, 0.9907190018713037, 0.0055039944548405766, 0.04510001309165876, 0.759761759005636, 0.1942769794717608, 0.6325048602702333, 0.012734997186648993, 0.08206998186951572, 0.21649495217303288, 0.056599987496217745, 0.9952984838303939, 0.7425005132349439, 0.11924526443816016, 0.11606539071980923, 0.022259116028456566, 0.03877298783978044, 0.961161961712452, 0.9963292618637937, 0.9927553217869423, 0.005909257867779419, 0.9926930000767563, 0.039232650530547, 0.3986037293903576, 0.44254429798457023, 0.03609403848810325, 0.08317321912475965, 0.9907570146359497, 0.008129288325218049, 0.29789391938989346, 0.5205621015601168, 0.18054176932720814, 0.998467278406341, 0.9978787279173222, 0.9982476725757305, 0.9882411790090075, 0.9911433451676467, 0.004858545809645327, 0.012285217217046646, 0.2989402856148017, 0.6879721641546122, 0.9875219594691208, 0.627937535412381, 0.2505069955102584, 0.023380652914290784, 0.09185256502042807, 0.006680186546940223, 0.9959421429255327, 0.7670888336181322, 0.23240795516683188, 0.6721172359303188, 0.19337015604491772, 0.1325521230953065, 0.019951879966969822, 0.9793047750454354, 0.9968225410495998, 0.997090095868227, 0.9962884177565707, 0.997738935081649, 0.9988345542017433, 0.6031848338318813, 0.10443491459548754, 0.291832144523839, 0.973013521638479, 0.024025025225641455, 0.9942065425255877, 0.9975215259491524, 0.44132444871561066, 0.5141202340707629, 0.0439807869854045, 0.9973174988627337, 0.9936165828640505, 0.006627629259111732, 0.29161568740091626, 0.7025287014658437, 0.7987847571000668, 0.1560013630502843, 0.044778169023692714, 0.749572922056767, 0.05830011615997076, 0.01249288203427945, 0.17906464249133877, 0.9933304108107596, 0.5568352070992085, 0.4414549389615347, 0.9906491665747373, 0.990351036304605, 0.9947539158259835, 0.5276580421028356, 0.10380158205301683, 0.36763060310443463, 0.992085808284895, 0.9989292054267005, 0.9980703889233643, 0.9973977900603722, 0.9960802054458282, 0.6327702613334801, 0.2513220594409185, 0.026790676387102988, 0.05996008524732574, 0.028066422881726942, 0.9972192464135415, 0.8381358106242008, 0.10840242345612693, 0.05287923095420825, 0.9911951548003967, 0.00643633217402855, 0.7257346189657111, 0.27379987897342734, 0.891321130453548, 0.10642640363624455, 0.9965733996996402, 0.9991564774448949, 0.3586845626440271, 0.6371370520650481, 0.002359766859500178, 0.39060427275122606, 0.1534516785808388, 0.4557049848764304, 0.37246622615500563, 0.4169218725025386, 0.14177746672996988, 0.06848572545430749, 0.12925563229271536, 0.8670898666302989, 0.9985799126397215, 0.055608928454678075, 0.36956767035504806, 0.5746255940316735, 0.9951395050718668, 0.9927780774501426, 0.682429503809362, 0.1791377447499575, 0.1364859007618724, 0.9980414742062146, 0.9970656601829249, 0.6250926687663646, 0.2646273311711154, 0.11014218648743723, 0.9536323501389149, 0.01621823724726046, 0.01946188469671255, 0.01135276607308232, 0.6141289697969627, 0.09966770870213237, 0.046902451153944646, 0.1626928774402455, 0.07914788632228159, 0.9974330455751811, 0.9980634953897731, 0.9949813315291215, 0.06401323414662966, 0.20681198724295735, 0.7287660502847069, 0.9981491706314194, 0.485956402010037, 0.0494791972955674, 0.4435456614709792, 0.021205370269528886, 0.6536796437307847, 0.2590051418555939, 0.08809698702571223, 0.13127210669652806, 0.86785448316038, 0.9996787338770945, 0.9980820601459518, 0.9937544385940776, 0.9936853420027023, 0.23877919047906584, 0.2207581194995137, 0.520358424534568, 0.018021070979552137, 0.11924089542828234, 0.8772723020795058, 0.10612243505081799, 0.8931971616777181, 0.9973675670632712, 0.9972748574744265, 0.9893655851184735, 0.9938548434645216, 0.0451359824767488, 0.18767066398227134, 0.7673117021047297, 0.95733806500077, 0.03729888564938065, 0.22457803674997623, 0.4977134868512987, 0.17602062339863, 0.09256256920100371, 0.009104515003377415, 0.9374711445072397, 0.05917591942072277, 0.0031145220747748827, 0.9992327140733476, 0.9973086159797488, 0.9968261505728638, 0.2757529173500922, 0.5310796926742517, 0.19258933910165169, 0.21970156281912215, 0.6382908561902917, 0.14107152981017315, 0.9961141002547129, 0.526213266490235, 0.017323893547003623, 0.005413716733438632, 0.21330043929748208, 0.23712079292461208, 0.03641273018093248, 0.3216457832649036, 0.6412686370753109, 0.9916238296556467, 0.9980079300678731, 0.9939224464784208, 0.989939769078647, 0.9978961686909046, 0.33693475583593024, 0.1582572338017248, 0.5002970616957751, 0.9453002456300527, 0.054872309772720736, 0.986589560300876, 0.011340109888515816, 0.16988534419820478, 0.827922247041884, 0.04231758491943928, 0.3306061321831194, 0.6268292266191944, 0.9933374507703177, 0.9930810939339989, 0.9915236468163818, 0.9968667890465406], \"Term\": [\"acto\", \"acto\", \"actriz\", \"actriz\", \"adolescente\", \"affleck\", \"agente\", \"alex\", \"alex_iglesia\", \"alex_iglesia\", \"alien\", \"allen\", \"alumno\", \"ambicion\", \"american_gangster\", \"amiga\", \"amigo\", \"amigo\", \"amigo\", \"amistad\", \"amistad\", \"amor\", \"amor\", \"amor\", \"animacion\", \"argumento\", \"argumento\", \"argumento\", \"asesinato\", \"asesino\", \"aspecto\", \"aspecto\", \"aspecto\", \"aspecto\", \"aspecto\", \"ataque\", \"ausencia\", \"aventura\", \"aventura\", \"banda\", \"besito\", \"bicho\", \"britanico\", \"broma\", \"burton\", \"busqueda\", \"busqueda\", \"busqueda\", \"calidad\", \"calidad\", \"calidad\", \"camara\", \"camara\", \"camara\", \"camara\", \"canci\\u00f3n\", \"capacidad\", \"capacidad\", \"capacidad\", \"capacidad\", \"carisma\", \"carrera\", \"carrera\", \"carrera\", \"carrera\", \"casa\", \"casa\", \"chaval\", \"chica\", \"chica\", \"chica\", \"chiste\", \"cineasta\", \"cineasta\", \"cineasta\", \"cloverfield\", \"comedia\", \"comedia\", \"comic\", \"concepto\", \"concepto\", \"conciencia\", \"conflicto\", \"conjunto\", \"conjunto\", \"cosa\", \"cosa\", \"cosa\", \"crimen\", \"crimenes_oxford\", \"cuidado\", \"danny\", \"decada\", \"denuncia\", \"desarrollo\", \"desarrollo\", \"desarrollo\", \"desastre\", \"desgracia\", \"direccion\", \"direccion\", \"direccion\", \"direccion_artistica\", \"discurso\", \"disney\", \"drama\", \"drama\", \"droga\", \"duracion\", \"efecto\", \"efecto\", \"efectos_especial\", \"ejercicio\", \"elemento\", \"elemento\", \"elemento\", \"elemento\", \"elijah_wood\", \"emoci\\u00f3n\", \"encanto\", \"entrega\", \"entrega\", \"entretenimiento\", \"escritor\", \"escritor\", \"espacio\", \"espa\\u00f1a\", \"espa\\u00f1ol\", \"espia\", \"estilo\", \"estilo\", \"estilo\", \"estilo\", \"estreno\", \"estreno\", \"estreno\", \"estructura\", \"estudiante\", \"exito\", \"exito\", \"exito\", \"experimento\", \"expiacion\", \"expresion\", \"familia\", \"familia\", \"festival\", \"filme\", \"filme\", \"filme\", \"filme\", \"filmografia\", \"filmografia\", \"filmografia\", \"flashback\", \"flashback\", \"gangster\", \"gente\", \"gente\", \"gente\", \"giro\", \"giro\", \"giro\", \"gore\", \"gracia\", \"gracia\", \"gracias\", \"gracias\", \"gracias\", \"guerra\", \"guionista\", \"guionista\", \"guionista\", \"guionista\", \"gusto\", \"gusto\", \"gusto\", \"habitacion\", \"hermana\", \"hermano\", \"hermano\", \"hija\", \"hijo\", \"hora\", \"hora\", \"hora\", \"hora\", \"hora\", \"hotel\", \"humanidad\", \"humor\", \"humor\", \"huston\", \"idea\", \"idea\", \"idea\", \"idea\", \"iglesia\", \"imagen\", \"imagen\", \"imagen\", \"ingles\", \"ingles\", \"interior\", \"interior\", \"interior\", \"investigacion\", \"italiano\", \"jack\", \"john_hurt\", \"joven\", \"joven\", \"joven\", \"jungla\", \"juno\", \"largometraje\", \"leone\", \"leyenda\", \"leyenda\", \"libertad\", \"libro\", \"literatura\", \"literatura\", \"loco\", \"londr\", \"londr\", \"lynch\", \"madre\", \"maestra\", \"maestra\", \"maestra\", \"maestra\", \"maestra\", \"maestro\", \"maestro\", \"maestro\", \"mafia\", \"mafioso\", \"magia\", \"magia\", \"mago\", \"marido\", \"material\", \"mediocre\", \"mediocre\", \"mensaje\", \"mensaje\", \"mensaje\", \"metraje\", \"metraje\", \"metraje\", \"metraje\", \"metraje\", \"militar\", \"minuto\", \"minuto\", \"minuto\", \"minuto\", \"mirada\", \"mirada\", \"mision\", \"monstruo\", \"monstruo\", \"monstruoso\", \"muerte\", \"muerte\", \"muerte\", \"muerte\", \"muerte\", \"mujer\", \"mujer\", \"musica\", \"musica\", \"musica\", \"narracion\", \"narrativa\", \"naturaleza\", \"navidad\", \"necesidad\", \"necesidad\", \"negro\", \"negro\", \"negro\", \"neville\", \"ningun\", \"ningun\", \"ningun\", \"ningun\", \"ningun\", \"ni\\u00f1a\", \"ni\\u00f1o\", \"ni\\u00f1o\", \"nombre\", \"nombre\", \"nombre\", \"novela\", \"novela\", \"oeste\", \"opera_prima\", \"orfanato\", \"oscar\", \"padre\", \"pantalla\", \"pantalla\", \"pantalla\", \"pareja\", \"pareja\", \"pari\", \"parodia\", \"paso\", \"paso\", \"paso\", \"pelea\", \"penn\", \"periodista\", \"periodista\", \"periodista\", \"persona\", \"persona\", \"persona\", \"pese\", \"pese\", \"pese\", \"pese\", \"peter\", \"pieza\", \"pieza\", \"pirata\", \"pista\", \"pixar\", \"plano\", \"plano\", \"plano\", \"plano_secuencia\", \"policia\", \"politica\", \"premio\", \"presupuesto\", \"principio\", \"principio\", \"principio\", \"principio\", \"principio\", \"proceso\", \"produccion\", \"produccion\", \"produccion\", \"producci\\u00f3n\", \"producci\\u00f3n\", \"producto\", \"producto\", \"productor\", \"productor\", \"profesor\", \"pueblo\", \"puesta\", \"puesta\", \"puesta\", \"puesto\", \"puesto\", \"puesto\", \"punto\", \"punto\", \"punto\", \"punto\", \"queria\", \"queria\", \"rambo\", \"realidad\", \"realidad\", \"realidad\", \"reflexion\", \"reir\", \"relacion\", \"relacion\", \"relacion\", \"relato\", \"remake\", \"resto\", \"resto\", \"resto\", \"resultado\", \"resultado\", \"resultado\", \"resultado\", \"ritmo\", \"ritmo\", \"ritmo\", \"ritmo\", \"ritmo\", \"saga\", \"sangre\", \"scott\", \"secreto\", \"secreto\", \"secreto\", \"secuela\", \"secuencia\", \"secuencia\", \"secuencia\", \"secuencia\", \"sensacion\", \"sensacion\", \"sensacion\", \"sentimiento\", \"sentimiento\", \"serie\", \"servidor\", \"sexo\", \"significado\", \"situacion\", \"situacion\", \"situacion\", \"situacion\", \"social\", \"social\", \"sociedad\", \"sociedad\", \"soldado\", \"spielberg\", \"suceso\", \"sweeney_todd\", \"tal_vez\", \"tal_vez\", \"tal_vez\", \"taquilla\", \"taquilla\", \"tema\", \"tema\", \"tema\", \"tema\", \"tema\", \"tension\", \"tension\", \"tension\", \"terror\", \"thriller\", \"tim_burton\", \"titulo\", \"titulo\", \"titulo\", \"tono\", \"tono\", \"tono\", \"tragedia\", \"trama\", \"trama\", \"trama\", \"trama\", \"trama\", \"trav\", \"trav\", \"trav\", \"tren\", \"trilogia\", \"ultimos_a\\u00f1o\", \"valor\", \"vampiro\", \"venganza\", \"venganza\", \"venganza\", \"viaje\", \"viaje\", \"video\", \"video\", \"violencia\", \"violencia\", \"vision\", \"vision\", \"vision\", \"wilder\", \"will_smith\", \"woody_allen\", \"zombi\"]}, \"R\": 30, \"lambda.step\": 0.01, \"plot.opts\": {\"xlab\": \"PC1\", \"ylab\": \"PC2\"}, \"topic.order\": [2, 5, 4, 1, 3]};\n",
       "\n",
       "function LDAvis_load_lib(url, callback){\n",
       "  var s = document.createElement('script');\n",
       "  s.src = url;\n",
       "  s.async = true;\n",
       "  s.onreadystatechange = s.onload = callback;\n",
       "  s.onerror = function(){console.warn(\"failed to load library \" + url);};\n",
       "  document.getElementsByTagName(\"head\")[0].appendChild(s);\n",
       "}\n",
       "\n",
       "if(typeof(LDAvis) !== \"undefined\"){\n",
       "   // already loaded: just create the visualization\n",
       "   !function(LDAvis){\n",
       "       new LDAvis(\"#\" + \"ldavis_el1310423447790517444963030160\", ldavis_el1310423447790517444963030160_data);\n",
       "   }(LDAvis);\n",
       "}else if(typeof define === \"function\" && define.amd){\n",
       "   // require.js is available: use it to load d3/LDAvis\n",
       "   require.config({paths: {d3: \"https://d3js.org/d3.v5\"}});\n",
       "   require([\"d3\"], function(d3){\n",
       "      window.d3 = d3;\n",
       "      LDAvis_load_lib(\"https://cdn.jsdelivr.net/gh/bmabey/pyLDAvis@3.3.1/pyLDAvis/js/ldavis.v3.0.0.js\", function(){\n",
       "        new LDAvis(\"#\" + \"ldavis_el1310423447790517444963030160\", ldavis_el1310423447790517444963030160_data);\n",
       "      });\n",
       "    });\n",
       "}else{\n",
       "    // require.js not available: dynamically load d3 & LDAvis\n",
       "    LDAvis_load_lib(\"https://d3js.org/d3.v5.js\", function(){\n",
       "         LDAvis_load_lib(\"https://cdn.jsdelivr.net/gh/bmabey/pyLDAvis@3.3.1/pyLDAvis/js/ldavis.v3.0.0.js\", function(){\n",
       "                 new LDAvis(\"#\" + \"ldavis_el1310423447790517444963030160\", ldavis_el1310423447790517444963030160_data);\n",
       "            })\n",
       "         });\n",
       "}\n",
       "</script>"
      ],
      "text/plain": [
       "<IPython.core.display.HTML object>"
      ]
     },
     "execution_count": 115,
     "metadata": {},
     "output_type": "execute_result"
    }
   ],
   "source": [
    "# Crea corpus (BoW)\n",
    "corpus = [new_corpus_bow.diccionario.doc2bow(text) for text in new_textos_lemas_trigramas]\n",
    "\n",
    "# Aplica el modelo LDA\n",
    "#ldamodel = LdaModel(corpus=corpus, num_topics=5, id2word=new_corpus_bow.diccionario)\n",
    "ldamodel = LdaModel(corpus=corpus, num_topics=5, id2word=new_corpus_bow.diccionario, \n",
    "                    random_state=100,\n",
    "                    update_every=1,\n",
    "                    chunksize=100, \n",
    "                    passes=10,\n",
    "                    alpha='auto')\n",
    "\n",
    "\n",
    "# Representa gráficamente\n",
    "vis_data = gensimvis.prepare(ldamodel, corpus, new_corpus_bow.diccionario)\n",
    "pyLDAvis.display(vis_data)"
   ]
  },
  {
   "cell_type": "markdown",
   "id": "725cb853-5885-46a7-88e2-54c7c1ac8c94",
   "metadata": {},
   "source": [
    "Los temas 1 y 2 comparten bastantes términos, por lo que se deduce que son temáticas con alto grado de similitud viendo el área de intersección de ambas. El resto de temáticas están muy bien separadas. \n",
    "\n",
    "El hecho de que K = 5 obtuviera el mayor valor de coherencia y la forma de las temáticas 1 y 2 le da más fuerza a la asunción de que con K=4 podría haber auún mejor definición de las temáticas, al poder unirse las 1 y 2 de aquí en una misma, no se va a repetir el barrido bajando el inicio a un K < 4 pero se evidencia que se obtendría mayor valor de coherencia con K = 4. \n",
    "\n",
    "**Se probará a generar los resultados para K = 4 de todos modos**."
   ]
  },
  {
   "cell_type": "markdown",
   "id": "e4140d06-c9ce-4a30-a6c9-8e6b64c585dc",
   "metadata": {
    "id": "DjXk7WvDr4OX"
   },
   "source": [
    "### Determinar el tema dominante en cada documento\n",
    "Una aplicación práctica del topic modeling es determinar de qué tema trata un documento.  \n",
    "Para hacer esto, se busca el número de tema que tiene una mayor contribución en el documento.  \n",
    "La función `format_topics_sentences()` genera esta información en forma de tabla.  "
   ]
  },
  {
   "cell_type": "code",
   "execution_count": 116,
   "id": "161c7ab2-abe9-426e-a449-d11f3ab70b44",
   "metadata": {
    "id": "gqm1zTFOr4OY"
   },
   "outputs": [],
   "source": [
    "def format_topics_sentences(ldamodel, corpus):\n",
    "    # inicializa salida\n",
    "    sent_topics_df = pd.DataFrame()\n",
    "\n",
    "    # obtiene main topic de cada documento\n",
    "    # al aplicar el LDA sobre el corpus, será el primero que aparezca en la lista de tuplas (el de mas peso)\n",
    "    for row in ldamodel[corpus]:\n",
    "        row = sorted(row, key=lambda x: (x[1]), reverse=True)\n",
    "        # Get the Dominant topic, Perc Contribution and Keywords for each document\n",
    "        (topic_num, prop_topic)=row[0]\n",
    "        wp = ldamodel.show_topic(topic_num)\n",
    "        topic_keywords = \", \".join([word for word, prop in wp])\n",
    "        sent_topics_df = sent_topics_df.append(pd.Series([int(topic_num), round(prop_topic,4), topic_keywords]), ignore_index=True)\n",
    "    sent_topics_df.reset_index(inplace=True)\n",
    "    sent_topics_df.columns = ['No_doc','Tema_dominante', 'Contribucion_per', 'Palabras_clave']\n",
    "    sent_topics_df['Tema_dominante'] = sent_topics_df['Tema_dominante'].astype('int')\n",
    "    return(sent_topics_df)"
   ]
  },
  {
   "cell_type": "code",
   "execution_count": 117,
   "id": "82ce18ce-24e9-498d-9a51-5a68ca8f8334",
   "metadata": {
    "id": "Xn3KJ0S5r4OZ"
   },
   "outputs": [
    {
     "data": {
      "text/html": [
       "<div>\n",
       "<style scoped>\n",
       "    .dataframe tbody tr th:only-of-type {\n",
       "        vertical-align: middle;\n",
       "    }\n",
       "\n",
       "    .dataframe tbody tr th {\n",
       "        vertical-align: top;\n",
       "    }\n",
       "\n",
       "    .dataframe thead th {\n",
       "        text-align: right;\n",
       "    }\n",
       "</style>\n",
       "<table border=\"1\" class=\"dataframe\">\n",
       "  <thead>\n",
       "    <tr style=\"text-align: right;\">\n",
       "      <th></th>\n",
       "      <th>No_doc</th>\n",
       "      <th>Tema_dominante</th>\n",
       "      <th>Contribucion_per</th>\n",
       "      <th>Palabras_clave</th>\n",
       "    </tr>\n",
       "  </thead>\n",
       "  <tbody>\n",
       "    <tr>\n",
       "      <th>0</th>\n",
       "      <td>0</td>\n",
       "      <td>4</td>\n",
       "      <td>0.5069</td>\n",
       "      <td>mujer, joven, padre, hijo, familia, casa, pers...</td>\n",
       "    </tr>\n",
       "    <tr>\n",
       "      <th>1</th>\n",
       "      <td>1</td>\n",
       "      <td>4</td>\n",
       "      <td>0.6903</td>\n",
       "      <td>mujer, joven, padre, hijo, familia, casa, pers...</td>\n",
       "    </tr>\n",
       "    <tr>\n",
       "      <th>2</th>\n",
       "      <td>2</td>\n",
       "      <td>4</td>\n",
       "      <td>0.4861</td>\n",
       "      <td>mujer, joven, padre, hijo, familia, casa, pers...</td>\n",
       "    </tr>\n",
       "    <tr>\n",
       "      <th>3</th>\n",
       "      <td>3</td>\n",
       "      <td>4</td>\n",
       "      <td>0.5367</td>\n",
       "      <td>mujer, joven, padre, hijo, familia, casa, pers...</td>\n",
       "    </tr>\n",
       "    <tr>\n",
       "      <th>4</th>\n",
       "      <td>4</td>\n",
       "      <td>4</td>\n",
       "      <td>0.4805</td>\n",
       "      <td>mujer, joven, padre, hijo, familia, casa, pers...</td>\n",
       "    </tr>\n",
       "    <tr>\n",
       "      <th>...</th>\n",
       "      <td>...</td>\n",
       "      <td>...</td>\n",
       "      <td>...</td>\n",
       "      <td>...</td>\n",
       "    </tr>\n",
       "    <tr>\n",
       "      <th>3873</th>\n",
       "      <td>3873</td>\n",
       "      <td>1</td>\n",
       "      <td>0.4285</td>\n",
       "      <td>serie, terror, pantalla, resultado, monstruo, ...</td>\n",
       "    </tr>\n",
       "    <tr>\n",
       "      <th>3874</th>\n",
       "      <td>3874</td>\n",
       "      <td>4</td>\n",
       "      <td>0.5374</td>\n",
       "      <td>mujer, joven, padre, hijo, familia, casa, pers...</td>\n",
       "    </tr>\n",
       "    <tr>\n",
       "      <th>3875</th>\n",
       "      <td>3875</td>\n",
       "      <td>4</td>\n",
       "      <td>0.3748</td>\n",
       "      <td>mujer, joven, padre, hijo, familia, casa, pers...</td>\n",
       "    </tr>\n",
       "    <tr>\n",
       "      <th>3876</th>\n",
       "      <td>3876</td>\n",
       "      <td>1</td>\n",
       "      <td>0.4869</td>\n",
       "      <td>serie, terror, pantalla, resultado, monstruo, ...</td>\n",
       "    </tr>\n",
       "    <tr>\n",
       "      <th>3877</th>\n",
       "      <td>3877</td>\n",
       "      <td>3</td>\n",
       "      <td>0.5496</td>\n",
       "      <td>imagen, relato, guerra, realidad, elemento, mi...</td>\n",
       "    </tr>\n",
       "  </tbody>\n",
       "</table>\n",
       "<p>3878 rows × 4 columns</p>\n",
       "</div>"
      ],
      "text/plain": [
       "      No_doc  Tema_dominante  Contribucion_per  \\\n",
       "0          0               4            0.5069   \n",
       "1          1               4            0.6903   \n",
       "2          2               4            0.4861   \n",
       "3          3               4            0.5367   \n",
       "4          4               4            0.4805   \n",
       "...      ...             ...               ...   \n",
       "3873    3873               1            0.4285   \n",
       "3874    3874               4            0.5374   \n",
       "3875    3875               4            0.3748   \n",
       "3876    3876               1            0.4869   \n",
       "3877    3877               3            0.5496   \n",
       "\n",
       "                                         Palabras_clave  \n",
       "0     mujer, joven, padre, hijo, familia, casa, pers...  \n",
       "1     mujer, joven, padre, hijo, familia, casa, pers...  \n",
       "2     mujer, joven, padre, hijo, familia, casa, pers...  \n",
       "3     mujer, joven, padre, hijo, familia, casa, pers...  \n",
       "4     mujer, joven, padre, hijo, familia, casa, pers...  \n",
       "...                                                 ...  \n",
       "3873  serie, terror, pantalla, resultado, monstruo, ...  \n",
       "3874  mujer, joven, padre, hijo, familia, casa, pers...  \n",
       "3875  mujer, joven, padre, hijo, familia, casa, pers...  \n",
       "3876  serie, terror, pantalla, resultado, monstruo, ...  \n",
       "3877  imagen, relato, guerra, realidad, elemento, mi...  \n",
       "\n",
       "[3878 rows x 4 columns]"
      ]
     },
     "execution_count": 117,
     "metadata": {},
     "output_type": "execute_result"
    }
   ],
   "source": [
    "df_topic_sents_keywords = format_topics_sentences(ldamodel=ldamodel, corpus=new_corpus_bow)\n",
    "\n",
    "# Manera mas elegante de mostrar la informacion\n",
    "df_topic_sents_keywords"
   ]
  },
  {
   "cell_type": "markdown",
   "id": "afe616d1-a52e-4fa6-896a-63077b30ea27",
   "metadata": {
    "id": "QI4T9pIXFnx2"
   },
   "source": [
    "Una vez se tiene el dataframe de arriba se puede usar para varios análisis: por ejemplo para ver el documento que tiene un procentaje de contribución a su temática mayor, no seria el equivalente al centroide en un cluster exactamente pero sí el prototipo que mejor lo define al tema.\n"
   ]
  },
  {
   "cell_type": "markdown",
   "id": "8f6169f4-87c8-4f9b-bd1a-804c3f8364b5",
   "metadata": {
    "id": "owySHyY2r4OZ"
   },
   "source": [
    "### Determinar el documento más representativo de cada tema\n",
    "Agrupando por temas, podemos seleccionar el de mayor porcentaje como más representativo."
   ]
  },
  {
   "cell_type": "code",
   "execution_count": 118,
   "id": "3c3360aa-f5c2-487a-a866-dba3aaabf9f0",
   "metadata": {
    "id": "W25Pz3p8r4Oa"
   },
   "outputs": [
    {
     "data": {
      "text/html": [
       "<div>\n",
       "<style scoped>\n",
       "    .dataframe tbody tr th:only-of-type {\n",
       "        vertical-align: middle;\n",
       "    }\n",
       "\n",
       "    .dataframe tbody tr th {\n",
       "        vertical-align: top;\n",
       "    }\n",
       "\n",
       "    .dataframe thead th {\n",
       "        text-align: right;\n",
       "    }\n",
       "</style>\n",
       "<table border=\"1\" class=\"dataframe\">\n",
       "  <thead>\n",
       "    <tr style=\"text-align: right;\">\n",
       "      <th></th>\n",
       "      <th>No_doc</th>\n",
       "      <th>Tema_dominante</th>\n",
       "      <th>Contribucion_per</th>\n",
       "      <th>Palabras_clave</th>\n",
       "    </tr>\n",
       "  </thead>\n",
       "  <tbody>\n",
       "    <tr>\n",
       "      <th>0</th>\n",
       "      <td>266</td>\n",
       "      <td>0</td>\n",
       "      <td>0.6156</td>\n",
       "      <td>comedia, novela, humor, libro, tal_vez, pantal...</td>\n",
       "    </tr>\n",
       "    <tr>\n",
       "      <th>1</th>\n",
       "      <td>1006</td>\n",
       "      <td>1</td>\n",
       "      <td>0.8094</td>\n",
       "      <td>serie, terror, pantalla, resultado, monstruo, ...</td>\n",
       "    </tr>\n",
       "    <tr>\n",
       "      <th>2</th>\n",
       "      <td>558</td>\n",
       "      <td>2</td>\n",
       "      <td>0.5020</td>\n",
       "      <td>policia, asesino, thriller, crimen, asesinato,...</td>\n",
       "    </tr>\n",
       "    <tr>\n",
       "      <th>3</th>\n",
       "      <td>2439</td>\n",
       "      <td>3</td>\n",
       "      <td>0.7504</td>\n",
       "      <td>imagen, relato, guerra, realidad, elemento, mi...</td>\n",
       "    </tr>\n",
       "    <tr>\n",
       "      <th>4</th>\n",
       "      <td>681</td>\n",
       "      <td>4</td>\n",
       "      <td>0.7355</td>\n",
       "      <td>mujer, joven, padre, hijo, familia, casa, pers...</td>\n",
       "    </tr>\n",
       "  </tbody>\n",
       "</table>\n",
       "</div>"
      ],
      "text/plain": [
       "   No_doc  Tema_dominante  Contribucion_per  \\\n",
       "0     266               0            0.6156   \n",
       "1    1006               1            0.8094   \n",
       "2     558               2            0.5020   \n",
       "3    2439               3            0.7504   \n",
       "4     681               4            0.7355   \n",
       "\n",
       "                                      Palabras_clave  \n",
       "0  comedia, novela, humor, libro, tal_vez, pantal...  \n",
       "1  serie, terror, pantalla, resultado, monstruo, ...  \n",
       "2  policia, asesino, thriller, crimen, asesinato,...  \n",
       "3  imagen, relato, guerra, realidad, elemento, mi...  \n",
       "4  mujer, joven, padre, hijo, familia, casa, pers...  "
      ]
     },
     "execution_count": 118,
     "metadata": {},
     "output_type": "execute_result"
    }
   ],
   "source": [
    "# Agrupamos documentos por tema\n",
    "sent_topics_sorted = pd.DataFrame()\n",
    "\n",
    "sent_topics_outdf_grpd = df_topic_sents_keywords.groupby('Tema_dominante')\n",
    "\n",
    "for i, grp in sent_topics_outdf_grpd:\n",
    "    sent_topics_sorted = pd.concat([sent_topics_sorted, \n",
    "                                    grp.sort_values(['Contribucion_per'], \n",
    "                                    ascending=[0]).head(1)], axis=0)\n",
    "\n",
    "# Reset Index    \n",
    "sent_topics_sorted.reset_index(drop=True, inplace=True)\n",
    "\n",
    "# cambiamos nombre de columna\n",
    "sent_topics_sorted.columns = df_topic_sents_keywords.columns\n",
    "\n",
    "# Mostramos\n",
    "sent_topics_sorted"
   ]
  },
  {
   "cell_type": "markdown",
   "id": "d3e84a1f-0ab9-4a1d-80e1-0fc8825d06ad",
   "metadata": {},
   "source": [
    "Podemos ver el documento más representativo por el No_doc, habría estado bien en el momento del procesado de ficheros haber guardado el título de la película para tener algo más de información (aunque podría haber varias críticas de la misma película, reslatando diferentes características en cada crítica y compartiendo otras). De todos modos esta modificación requeriría ejecutar todo de nuevo y eso requiere mucho tiempo adicional, por lo que se va a dejar así."
   ]
  },
  {
   "cell_type": "markdown",
   "id": "e671a76c-d77d-4c3f-9e8d-e7f0db52ae96",
   "metadata": {
    "id": "N5noP5odr4Oa"
   },
   "source": [
    "### Distribución de temas entre documentos\n",
    "Por último, podemos analizar el volumen y la distribución de temas entre los documentos del tema.  \n",
    "\n",
    "**Ver cómo se han separado los distintos docs entre los distintos temas**"
   ]
  },
  {
   "cell_type": "code",
   "execution_count": 119,
   "id": "9d916086-be6d-45df-a918-afeb441bbb80",
   "metadata": {
    "id": "haGCYHIBr4Ob"
   },
   "outputs": [
    {
     "data": {
      "text/html": [
       "<div>\n",
       "<style scoped>\n",
       "    .dataframe tbody tr th:only-of-type {\n",
       "        vertical-align: middle;\n",
       "    }\n",
       "\n",
       "    .dataframe tbody tr th {\n",
       "        vertical-align: top;\n",
       "    }\n",
       "\n",
       "    .dataframe thead th {\n",
       "        text-align: right;\n",
       "    }\n",
       "</style>\n",
       "<table border=\"1\" class=\"dataframe\">\n",
       "  <thead>\n",
       "    <tr style=\"text-align: right;\">\n",
       "      <th></th>\n",
       "      <th>Tema_dominante</th>\n",
       "      <th>Palabras_clave</th>\n",
       "      <th>Num_Documentos</th>\n",
       "      <th>Porcent_Documentos</th>\n",
       "    </tr>\n",
       "  </thead>\n",
       "  <tbody>\n",
       "    <tr>\n",
       "      <th>0</th>\n",
       "      <td>0</td>\n",
       "      <td>comedia, novela, humor, libro, tal_vez, pantal...</td>\n",
       "      <td>416</td>\n",
       "      <td>0.1073</td>\n",
       "    </tr>\n",
       "    <tr>\n",
       "      <th>1</th>\n",
       "      <td>1</td>\n",
       "      <td>serie, terror, pantalla, resultado, monstruo, ...</td>\n",
       "      <td>1578</td>\n",
       "      <td>0.4069</td>\n",
       "    </tr>\n",
       "    <tr>\n",
       "      <th>2</th>\n",
       "      <td>2</td>\n",
       "      <td>policia, asesino, thriller, crimen, asesinato,...</td>\n",
       "      <td>54</td>\n",
       "      <td>0.0139</td>\n",
       "    </tr>\n",
       "    <tr>\n",
       "      <th>3</th>\n",
       "      <td>3</td>\n",
       "      <td>imagen, relato, guerra, realidad, elemento, mi...</td>\n",
       "      <td>473</td>\n",
       "      <td>0.1220</td>\n",
       "    </tr>\n",
       "    <tr>\n",
       "      <th>4</th>\n",
       "      <td>4</td>\n",
       "      <td>mujer, joven, padre, hijo, familia, casa, pers...</td>\n",
       "      <td>1357</td>\n",
       "      <td>0.3499</td>\n",
       "    </tr>\n",
       "  </tbody>\n",
       "</table>\n",
       "</div>"
      ],
      "text/plain": [
       "   Tema_dominante                                     Palabras_clave  \\\n",
       "0               0  comedia, novela, humor, libro, tal_vez, pantal...   \n",
       "1               1  serie, terror, pantalla, resultado, monstruo, ...   \n",
       "2               2  policia, asesino, thriller, crimen, asesinato,...   \n",
       "3               3  imagen, relato, guerra, realidad, elemento, mi...   \n",
       "4               4  mujer, joven, padre, hijo, familia, casa, pers...   \n",
       "\n",
       "   Num_Documentos  Porcent_Documentos  \n",
       "0             416              0.1073  \n",
       "1            1578              0.4069  \n",
       "2              54              0.0139  \n",
       "3             473              0.1220  \n",
       "4            1357              0.3499  "
      ]
     },
     "execution_count": 119,
     "metadata": {},
     "output_type": "execute_result"
    }
   ],
   "source": [
    "# núm de documentos por cada tema\n",
    "topic_counts = df_topic_sents_keywords['Tema_dominante'].value_counts()\n",
    "\n",
    "# porcentaje de documentos por cada tema\n",
    "topic_contribution = round(topic_counts/topic_counts.sum(), 4)\n",
    "\n",
    "# palabras clave de cada tema\n",
    "topic_num_keywords = sent_topics_sorted[['Tema_dominante', 'Palabras_clave']]\n",
    "\n",
    "# Concatenamos por columna\n",
    "df_dominant_topics = pd.concat([topic_num_keywords, topic_counts, topic_contribution], axis=1)\n",
    "\n",
    "# cambiamos nombre de columna\n",
    "df_dominant_topics.columns = ['Tema_dominante', 'Palabras_clave', 'Num_Documentos', 'Porcent_Documentos']\n",
    "\n",
    "# Show\n",
    "df_dominant_topics"
   ]
  },
  {
   "cell_type": "markdown",
   "id": "ecfacd1e-3fed-46f6-b3a9-1a9e29438c97",
   "metadata": {},
   "source": [
    "En este apartado final podemos ver tanto el número de documentos como su porcentaje relativo, aprovecharemos aquí para dar una interpretación de cada temática y su peso:\n",
    " - **Tema_dominante\t 0:** Comedias, cine de humor, con un 11% de los documentos.\n",
    " - **Tema_dominante\t 1:** Terror y fantástico: cine y series cinematográficas (recordemos que dentro de este género hay largas sagas...), con un 41% de los documentos.\n",
    " - **Tema_dominante\t 2:** Género policíaco, thriller y de suspense, con un 1% de los documentos.\n",
    " - **Tema_dominante\t 3:** Cine de autor, documental y social, con un 12% de los documentos.\n",
    " - **Tema_dominante\t 5:** Dramas y romances, con un 35% de los documentos.\n"
   ]
  },
  {
   "cell_type": "markdown",
   "id": "d71b17aa-b138-4203-8d82-4a9df8792d0e",
   "metadata": {},
   "source": [
    "## Probamos para K = 9\n",
    "Recalculamos para K = 9 temáticas"
   ]
  },
  {
   "cell_type": "code",
   "execution_count": 120,
   "id": "c4bf55c9-8e76-4894-9617-c0f8214b2a48",
   "metadata": {
    "id": "VdtGFyv_r4OS"
   },
   "outputs": [
    {
     "data": {
      "text/html": [
       "\n",
       "<link rel=\"stylesheet\" type=\"text/css\" href=\"https://cdn.jsdelivr.net/gh/bmabey/pyLDAvis@3.3.1/pyLDAvis/js/ldavis.v1.0.0.css\">\n",
       "\n",
       "\n",
       "<div id=\"ldavis_el131042342912985120811034223\"></div>\n",
       "<script type=\"text/javascript\">\n",
       "\n",
       "var ldavis_el131042342912985120811034223_data = {\"mdsDat\": {\"x\": [-0.19792372198198066, -0.13502330997571652, -0.0833922071669174, -0.16932375256628912, -0.03559618734966616, -0.0670197699448553, 0.1897979299665547, 0.2658568235131106, 0.23262419550575963], \"y\": [0.13402943054456304, 0.22633523642557146, -0.13944851291722626, -0.024270568478927116, -0.32915329732930765, -0.011472526529539354, 0.12101045843431299, 0.016648816446678347, 0.006320963403874884], \"topics\": [1, 2, 3, 4, 5, 6, 7, 8, 9], \"cluster\": [1, 1, 1, 1, 1, 1, 1, 1, 1], \"Freq\": [19.147546152112596, 16.41598379889387, 15.21694551098568, 12.665216673504611, 12.559499073398808, 11.438129299646114, 6.226329595721885, 4.564436924838777, 1.7659129708976613]}, \"tinfo\": {\"Term\": [\"comedia\", \"novela\", \"imagen\", \"libro\", \"serie\", \"padre\", \"guerra\", \"ni\\u00f1o\", \"filme\", \"actriz\", \"mujer\", \"hijo\", \"familia\", \"humor\", \"relato\", \"fotografia\", \"producto\", \"camara\", \"mirada\", \"terror\", \"grupo\", \"policia\", \"epoca\", \"leone\", \"pantalla\", \"joven\", \"amor\", \"chica\", \"espa\\u00f1ol\", \"elemento\", \"producto\", \"saga\", \"efectos_especial\", \"producci\\u00f3n\", \"duracion\", \"secuela\", \"entrega\", \"presupuesto\", \"entretenimiento\", \"taquilla\", \"cantidad\", \"medio\", \"mediocre\", \"bicho\", \"comic\", \"tren\", \"carisma\", \"will_smith\", \"habilidad\", \"desastre\", \"villano\", \"expectativa\", \"harry\", \"tiro\", \"lugar_duda\", \"duda_alguna\", \"pleno\", \"creibl\", \"leyenda\", \"comics\", \"serie\", \"dos_hora\", \"flashback\", \"version\", \"adaptacion\", \"caracteristica\", \"calidad\", \"aventura\", \"espectaculo\", \"scott\", \"altura\", \"resultado\", \"efecto\", \"hora\", \"pese\", \"personalidad\", \"nombre\", \"estreno\", \"monstruo\", \"estilo\", \"pantalla\", \"sensacion\", \"exito\", \"resto\", \"trama\", \"principio\", \"nivel\", \"aspecto\", \"ritmo\", \"terror\", \"plano\", \"cosa\", \"problema\", \"comedia\", \"humor\", \"chica\", \"tal_vez\", \"gracia\", \"sorpresa\", \"chiste\", \"danny\", \"servidor\", \"risa\", \"penn\", \"semana\", \"quedo\", \"excepcion\", \"misterio\", \"mago\", \"canci\\u00f3n\", \"pelea\", \"disney\", \"comico\", \"verano\", \"cuidado\", \"parodia\", \"sucesion\", \"pari\", \"sabia\", \"rollo\", \"broma\", \"turno\", \"maquillaje\", \"tonto\", \"comienzo\", \"mitad\", \"gusto\", \"rato\", \"situaci\\u00f3n\", \"chico\", \"secundario\", \"planeta\", \"animacion\", \"puesto\", \"carrera\", \"dialogo\", \"demas\", \"guionista\", \"cosa\", \"cara\", \"argumento\", \"pantalla\", \"titulo\", \"cabeza\", \"musica\", \"minuto\", \"metraje\", \"frase\", \"trama\", \"amigo\", \"padre\", \"hijo\", \"familia\", \"madre\", \"pueblo\", \"hija\", \"ni\\u00f1a\", \"adulto\", \"festival\", \"esposa\", \"marido\", \"alex_iglesia\", \"relaci\\u00f3n\", \"real\", \"paisaje\", \"besito\", \"desgracia\", \"cultura\", \"droga\", \"silencio\", \"amiga\", \"chaval\", \"zona\", \"hermano\", \"hacia_rutas_salvaj\", \"infancia\", \"camara_mano\", \"gui\\u00f3n\", \"bosque\", \"fantasia\", \"adolescente\", \"viaje\", \"ni\\u00f1o\", \"mujer\", \"pareja\", \"amistad\", \"casa\", \"amor\", \"destino\", \"miedo\", \"amigo\", \"joven\", \"calle\", \"suerte\", \"persona\", \"relacion\", \"paso\", \"realidad\", \"trav\", \"muerte\", \"tema\", \"camino\", \"espa\\u00f1ol\", \"espa\\u00f1a\", \"juno\", \"retrato\", \"americano\", \"italiano\", \"interpret\", \"doctor\", \"vestuario\", \"lugar\", \"casualidad\", \"actriz\", \"corte\", \"ironia\", \"medem\", \"raza\", \"oscars\", \"combate\", \"italia\", \"leonor_watling\", \"reconocimiento\", \"reloj\", \"rojo\", \"indie\", \"hospital\", \"circulo\", \"contrato\", \"crisis\", \"elegancia\", \"duda\", \"epoca\", \"filme\", \"conjunto\", \"oscar\", \"interpretacion\", \"drama\", \"premio\", \"fotografia\", \"talento\", \"direccion\", \"inteligencia\", \"valor\", \"fuerza\", \"favor\", \"montaje\", \"universo\", \"perfeccion\", \"secuencia\", \"punto\", \"musica\", \"aspecto\", \"joven\", \"tema\", \"puesta\", \"titulo\", \"reparto\", \"plano\", \"amor\", \"ritmo\", \"alien\", \"acto\", \"discurso\", \"arte\", \"vampiro\", \"narrativa\", \"necesidad\", \"zombi\", \"naturaleza\", \"spielberg\", \"libertad\", \"conciencia\", \"interior\", \"creacion\", \"significado\", \"busqueda\", \"gesto\", \"estructura\", \"material\", \"expresion\", \"lynch\", \"concepto\", \"humanidad\", \"expiacion\", \"reflexion\", \"proceso\", \"depredador\", \"aleman\", \"lenguaje\", \"metafora\", \"mirada\", \"relato\", \"imagen\", \"espacio\", \"soledad\", \"esencia\", \"alma\", \"narracion\", \"objeto\", \"contenido\", \"elemento\", \"sociedad\", \"moral\", \"cineasta\", \"idea\", \"rostro\", \"exceso\", \"palabra\", \"camara\", \"realidad\", \"tono\", \"espiritu\", \"muerte\", \"plano\", \"sentimiento\", \"guerra\", \"policia\", \"rambo\", \"horror\", \"soldado\", \"habitacion\", \"agente\", \"cloverfield\", \"ejercito\", \"militar\", \"servicio\", \"informacion\", \"john_rambo\", \"partido\", \"ausencia\", \"clint_eastwood\", \"nominaci\\u00f3n\", \"denuncia\", \"american_gangster\", \"gobierno\", \"mafia\", \"suceso\", \"carpenter\", \"explicacion\", \"veterano\", \"videojuego\", \"acci\\u00f3n\", \"desierto\", \"primeros_minuto\", \"affleck\", \"seguridad\", \"violencia\", \"thriller\", \"tension\", \"victima\", \"periodista\", \"grupo\", \"asesino\", \"asesinato\", \"sangre\", \"situacion\", \"camara\", \"terror\", \"arma\", \"espia\", \"responsable\", \"maestra\", \"crimen\", \"cuerpo\", \"punto_vista\", \"propuesta\", \"persona\", \"novela\", \"libro\", \"western\", \"escritor\", \"laura\", \"hotel\", \"iglesia\", \"britanico\", \"crimenes_oxford\", \"monstruoso\", \"oeste\", \"literatura\", \"alex\", \"toma\", \"neville\", \"cero\", \"raz\\u00f3n\", \"melodrama\", \"pagina\", \"wilder\", \"investigacion\", \"bu\\u00f1uel\", \"joe_wright\", \"humor_negro\", \"periodo\", \"mill\\u00f3n\", \"reina\", \"frialdad\", \"cura\", \"antemano\", \"peter\", \"tendencia\", \"lector\", \"pasion\", \"diario\", \"programa\", \"crimen\", \"negro\", \"nombre\", \"leone\", \"tim_burton\", \"sonido\", \"orfanato\", \"sweeney_todd\", \"martin\", \"elijah_wood\", \"matiz\", \"burton\", \"plano_secuencia\", \"mierda\", \"culo\", \"jungla\", \"vertigo\", \"predator\", \"trailer\", \"tortura\", \"henry\", \"wright\", \"padrino\", \"bayona\", \"scorsese\", \"alegria\", \"planet_terror\", \"christopher\", \"ben_affleck\", \"interpretativo\", \"estupido\", \"casino\", \"viva\", \"especialista\", \"dolar\", \"john\", \"homenaje\", \"termino\", \"dialogo\", \"coche\", \"filmografia\", \"profesor\", \"john_hurt\", \"tommy_lee_j\\u00f3n\", \"colaboracion\", \"allen\", \"alumno\", \"woody_allen\", \"abogado\", \"juez\", \"anciano\", \"rienda_suelta\", \"profesora\", \"julie\", \"hong_kong\", \"adio\", \"michael_caine\", \"niro\", \"annie_hall\", \"secundaria\", \"julie_cox\", \"honesta\", \"this_is_england\", \"afganistan\", \"dando_pie\", \"michael_clayton\", \"matthew\", \"testimonio\", \"shane_meadows\", \"sabiduria\", \"fragmento\", \"inglaterra\", \"estudiante\", \"truco\", \"clase\"], \"Freq\": [931.0, 583.0, 911.0, 470.0, 819.0, 679.0, 576.0, 701.0, 638.0, 573.0, 993.0, 612.0, 606.0, 614.0, 591.0, 634.0, 623.0, 730.0, 482.0, 763.0, 645.0, 437.0, 473.0, 302.0, 1038.0, 1013.0, 734.0, 510.0, 435.0, 642.0, 622.583311661587, 440.8644136694734, 323.2036691561836, 319.75714017617105, 299.16917984111006, 286.5314312609419, 256.6295327341817, 239.48200182305555, 226.9885161380079, 247.9584261979118, 196.14114444979214, 193.61286446580607, 186.59643039328415, 174.0031973806367, 159.3128782313077, 156.30203382681282, 152.43555880473986, 150.86233500035883, 122.53982978309485, 119.91651703664239, 114.12917149337838, 113.43082828171957, 112.71388562096624, 111.11011507187075, 107.09631338683091, 103.19228972138094, 101.94127216883933, 101.89533663585561, 303.05398151103094, 96.04184728264885, 809.3411984234307, 203.2691192576511, 210.80362388216128, 325.6396863595917, 284.6582799731931, 186.9708116322601, 396.3374024862233, 390.98965866458184, 196.78264707350732, 132.71030792986082, 258.64470854784815, 528.3264239200965, 349.1574201645836, 483.2997807511663, 403.1668348016587, 265.41664275438666, 464.9922989395338, 355.0836705066889, 377.1767942325583, 409.6575458974803, 571.3825187613412, 389.36986279097505, 377.92944587700003, 429.89550922806836, 502.2112585125596, 415.5869019768545, 301.25276581353717, 343.79848449692815, 355.6131847212265, 360.47374748587833, 336.34882805501167, 326.4344753042762, 300.5648589982864, 930.3841890105833, 613.4613258691621, 510.046449505838, 414.3763652956571, 324.74223424148914, 292.98088623928135, 227.39708625362803, 227.34635146020705, 223.8668801667256, 219.9223759156748, 189.51631856410305, 178.63081481142214, 168.027938640815, 164.8534398277863, 158.07938538280553, 152.62557500066504, 147.63069260922597, 146.10116452501387, 140.82906386399108, 138.46764109020785, 137.05518684017596, 130.55676745136716, 128.2147510359185, 123.9490463669448, 119.81802278433616, 119.22185897653715, 117.4782972307181, 115.1505657180979, 114.86164126450026, 113.3144459578983, 124.34093966250914, 274.48921745931057, 207.4005011615728, 462.3553598808039, 222.52846513177352, 404.9295227725884, 199.74848291554807, 187.75499364356614, 157.82110570395744, 191.25684581754962, 300.6843469271459, 330.0050515147796, 446.27034340321933, 281.14893271145866, 355.37655018729134, 434.24483004177307, 328.8338573994198, 342.98696970539584, 449.57575717373976, 355.2959502317857, 231.7916788871648, 330.4916257699811, 321.2151226171642, 307.74663017134645, 260.6908169218055, 274.1968747040285, 248.07270198273656, 678.6994648923953, 611.4745661277054, 605.4417693579873, 456.86661584068986, 470.886217551414, 281.1588861399604, 259.19094771773916, 199.11053308363427, 188.4207012944568, 183.50175989275985, 182.46931041389018, 174.57866492867115, 172.16492806079523, 155.80423439884584, 149.8671412475129, 147.77655974348295, 145.29234596611073, 145.21600987830485, 137.34626620565135, 135.8900435950005, 134.7261239386906, 125.983640647542, 122.39492172787601, 428.2745372409118, 120.23781019916929, 117.25854588557029, 116.55046363095595, 116.45766180676198, 107.34444929220999, 125.18387948525982, 405.7852542469757, 398.1517788822108, 681.4631292329777, 763.2006011813475, 345.18073778077496, 237.6685069707848, 504.4109905008377, 524.1032996699114, 245.61955647072122, 312.35470797822353, 435.9828144114964, 542.4262288123499, 203.78311104669285, 227.05260978456525, 313.3419406104421, 255.90313707311927, 296.31692508444115, 298.48606627335846, 234.4132275514664, 225.2375097229551, 226.2134020100583, 205.34832326829059, 434.8814804255608, 342.1854681668371, 323.1776628547568, 213.5725642555977, 157.03886791996268, 154.83728580859648, 153.98158589349092, 141.76512598104375, 132.2508592806992, 127.57740633467412, 125.17230955689087, 569.3922658348935, 119.18238239031893, 116.1086474435139, 106.17038954139777, 106.2489897131136, 100.98571160283525, 96.91984150054574, 96.7563764624765, 96.43927372120521, 93.10652094928858, 91.81003452847168, 91.61492214083, 91.51927681767779, 88.27347097458643, 87.57662779927904, 86.95024161801973, 84.65079331686465, 83.58398152072246, 83.50486314679141, 466.72693130197337, 608.9984981586747, 262.41204962129797, 276.12936195318974, 445.0150728019823, 374.96897609613137, 365.7888757957165, 540.3517325061401, 264.96108631796983, 437.3011886550911, 123.02346377453438, 112.92641390789697, 278.926284380957, 194.68229831026272, 233.06777576553722, 182.4075499022142, 202.49053227476807, 264.77799437099907, 324.9389951698489, 287.07610614140276, 272.38827508929, 341.23016238307724, 264.8333494719178, 212.77827130299582, 247.92916754530506, 210.0001151983084, 245.75257018360128, 200.2936509977828, 197.36473506291003, 277.3595374210424, 259.0468607782092, 237.30238680368083, 233.16430259982099, 224.10531639131878, 210.49196911494982, 201.94863986121356, 197.86798138292806, 191.66236917824403, 185.9396359334791, 179.6230080004476, 176.43741268491738, 273.5126010952623, 165.58116093478176, 154.87259368886376, 253.01446174002268, 157.21642220056103, 147.1016854083172, 138.15511891282415, 137.45771476714648, 135.89912661800093, 175.41345822439646, 129.29040564074486, 128.5912121028513, 116.03105520289972, 113.81474153341742, 112.26087003862553, 109.76818244730742, 106.74287079246868, 103.41302293522723, 476.7871714120752, 550.1675584490229, 804.6091109512495, 220.35010706343596, 140.3628159705592, 151.15605358558471, 216.2762941574225, 359.7128730182044, 164.1417738363251, 157.02992164981427, 475.74183600866706, 336.8284002038625, 173.4640301098206, 335.02986832312246, 447.1317118637928, 198.81630419912432, 216.71263056698797, 269.72430177594117, 341.2071806016845, 344.1147686014588, 240.35099726280743, 198.19104467704292, 255.1589244297595, 281.7184418007126, 199.23592126193415, 575.6383640181547, 436.9081958014575, 310.78238224839225, 243.62133948714657, 229.7855717615066, 197.68051471978225, 196.9995813211232, 195.368433277222, 174.13104987832287, 162.3178248307618, 154.32909213505062, 125.53430907314758, 124.72882202483692, 118.1702333216702, 116.62403481136458, 113.62593051948521, 107.8730294341133, 106.05183344692657, 100.74239149099063, 99.67258729082934, 99.6252445355102, 96.42103002749033, 88.06130228555098, 87.15916581706982, 84.22967300289038, 82.51973457996908, 82.31008096960875, 81.2911545619246, 79.04447548531802, 77.26707050216876, 99.06887314356463, 418.62959671848427, 231.16495496043967, 288.39973038092376, 188.02655388198954, 139.51919185318465, 482.4275070837756, 298.1516526975957, 186.34506289756894, 235.0733187849079, 273.11931080338644, 380.2569104385872, 388.8771528692403, 124.07945324874457, 121.98885901610898, 131.83006818147106, 152.79321459611643, 139.9714258975518, 152.3426018217461, 142.29652764245753, 150.33495142786467, 147.74539881811887, 582.3285789152386, 469.6965633068367, 229.06690631813598, 215.76002787187315, 197.43461277005144, 154.30887947480912, 190.19859967757486, 149.73696064652788, 133.59078178589277, 126.71035793199776, 112.95265823936907, 112.48281242738967, 108.57538864912519, 95.91994008012873, 92.43207575605022, 89.823508476044, 87.87231226954789, 87.48714442608367, 87.00996537647418, 83.05252818970773, 82.40857712302687, 82.19984370155109, 82.30078034952652, 80.93144834421781, 79.97586197318735, 78.5428508981851, 75.17613511711335, 73.21631371300765, 69.21210666515253, 67.18715046179894, 137.83144935407938, 84.326346139631, 94.08479281404425, 94.35788767844218, 95.66249430844016, 87.41414868724223, 96.22972842760625, 92.00069759754479, 93.21284720422148, 301.60382883380714, 189.72161422774028, 185.9043678676434, 159.67930629773048, 138.856193187091, 137.13712036629917, 137.82332748340534, 128.69893785797123, 123.01717601076952, 117.83647968975782, 106.13003252264882, 96.94524743984223, 83.24837142899914, 82.63097711517426, 76.91544583664434, 74.43112155138897, 74.2510690531261, 74.22818481080196, 72.05496883186159, 70.40179409156012, 71.1271932249579, 69.4108350315709, 67.8818728371168, 63.38931121876405, 62.99514998752336, 59.83325603599535, 57.9177162254339, 55.173708148092345, 54.7817379613295, 53.37568769271307, 57.78385908197632, 79.30087631224076, 100.96616422360849, 85.63195435719719, 79.44108314928405, 109.84261565612073, 75.2559881012192, 73.2336907323249, 200.40412469964784, 118.93218921093816, 90.23044523116086, 83.1507960823404, 79.22718932914196, 77.56678421836354, 76.67583752618134, 64.17443612772315, 56.1451605216112, 55.35096060838578, 51.67187352019288, 51.595393710240856, 49.040671820506574, 48.7029457739818, 47.902072779288815, 47.67600859713559, 46.34162454543534, 45.824122690835196, 44.529157816435266, 47.29146776175362, 41.074351809353786, 40.51462065149887, 37.696337848441495, 37.135494510341985, 36.95365691104752, 35.72215340266926, 35.53420268272642, 34.89648214312577, 34.81738574206465, 34.60656694479559, 66.40168673727146, 49.12205967413661, 40.56531645912143, 36.25388393909933], \"Total\": [931.0, 583.0, 911.0, 470.0, 819.0, 679.0, 576.0, 701.0, 638.0, 573.0, 993.0, 612.0, 606.0, 614.0, 591.0, 634.0, 623.0, 730.0, 482.0, 763.0, 645.0, 437.0, 473.0, 302.0, 1038.0, 1013.0, 734.0, 510.0, 435.0, 642.0, 623.3763466055686, 441.65727303167876, 323.9965158254335, 320.55035250515436, 299.9624248927525, 287.3243525533089, 257.42242467805755, 240.27502682541558, 227.78136760756732, 248.83250753691868, 196.93658204748291, 194.40613765664278, 187.3895372883593, 174.79631179331378, 160.10563406798875, 157.09581750649687, 153.23251186383132, 151.65579740370913, 123.33338212662086, 120.70973237515331, 114.92216883687975, 114.2237572411415, 113.50702425766289, 111.90314914554499, 107.88950390593682, 103.98593358581753, 102.73470226919306, 102.68858162014078, 305.4638457165236, 96.8350135237595, 819.4453599858184, 205.02836405221848, 215.1687039815741, 337.69329759617153, 295.7166586062321, 192.13172718795857, 426.1454750595091, 420.71729621917655, 204.20237335041097, 134.77082637590567, 279.0114699211547, 633.0301454691173, 402.33481934189115, 598.3115021557942, 490.7459793985076, 302.7822517319354, 652.9071927315383, 469.7787048933801, 519.205562184013, 588.6459169113136, 1038.5367310240556, 578.860700222502, 561.208203957597, 712.3582835514138, 932.5726310144274, 797.9372802611149, 406.515162289039, 616.8810887941513, 689.2366375319297, 763.4533612835751, 930.5190162288651, 827.4678985978976, 621.7398636035424, 931.1770956256311, 614.2543508416736, 510.8394684772795, 415.1693124125911, 325.5350893009791, 293.7739332404024, 228.18995573139742, 228.1407503162476, 224.66048411786306, 220.71529497441384, 190.31125480094778, 179.43307792461465, 168.82105344369626, 165.64681920724786, 158.87257195288007, 153.41845990337097, 148.42363630733786, 146.89419633644846, 141.62181529244785, 139.26064628727758, 137.84809871369163, 131.34972660905777, 129.00763439645198, 124.74226231345837, 120.6110563451279, 120.01856280328406, 118.27555543147422, 115.94358009552812, 115.65460415396197, 114.10750874291475, 125.35090961193023, 285.24522312659906, 213.1401844318141, 493.8807377276874, 238.9925483913326, 477.72414637885163, 214.33936496167965, 205.9136403729356, 170.73768146823028, 225.5300268968397, 431.9396570367149, 504.0378041258717, 800.6587311495418, 404.52833992846223, 581.2194633657942, 827.4678985978976, 543.996483690962, 621.1874361266482, 1038.5367310240556, 689.6384737606462, 323.05251646797973, 668.1951145423925, 640.8137155163026, 713.1642874309739, 468.5600926753191, 932.5726310144274, 684.7483858453954, 679.4934282639964, 612.2685175457319, 606.2357131316902, 457.66057864263774, 471.74281959661516, 281.9530844402496, 259.98485709098964, 199.90447482173755, 189.214699115495, 184.29609597401384, 183.2632930123335, 175.3820148996532, 172.95912531325976, 156.5983766242086, 150.6611599653246, 148.57050729543673, 146.0864260886632, 146.02623627968438, 138.14049860965287, 136.68426815120253, 135.52038956529302, 126.77760270829584, 123.18927364342329, 431.05903560065144, 121.04351246748391, 118.05246014021486, 117.34537020393883, 117.25196232843594, 108.13839901100245, 126.1166909298765, 410.02229604558147, 405.3108399235496, 701.9480878094016, 993.1108826849239, 420.23975057503674, 270.1406751566962, 677.0422749090214, 734.211582044254, 298.47423387706806, 414.98593095271144, 684.7483858453954, 1013.3713662964183, 253.62670143124893, 310.53323521988864, 689.8933828918807, 468.5486428518844, 670.4299683712868, 858.4560445046924, 491.99756233803515, 633.8920401226195, 661.832478015312, 408.1161382660955, 435.67687008780723, 342.98087487336187, 323.97748831137307, 214.3681758615036, 157.8345565026645, 155.63310269140652, 154.77694868376412, 142.56081416267023, 133.04631668894478, 128.3732456532452, 125.96776285103235, 573.0621032620646, 119.98271568285855, 116.9041402511715, 106.9657971466439, 107.04526717519433, 101.78121526982898, 97.71564599964276, 97.55246204892326, 97.24003975664037, 93.90210305751424, 92.60588565656495, 92.41070759917703, 92.31518749704614, 89.06904265516333, 88.37271013378535, 87.74793387705887, 85.44631924935297, 84.37958985952707, 84.30067893177863, 473.75758143978163, 638.5639497091471, 273.556641512452, 293.3860088294713, 502.7292804251804, 418.19404575386466, 409.5465674643503, 634.5751430134092, 296.60140584705243, 581.2239557061894, 135.52073353847152, 120.68078588082075, 437.50994643176074, 268.52852155401365, 352.93892734273135, 255.01741295914283, 336.33812988272945, 568.8799898046187, 839.5248203772776, 668.1951145423925, 616.8810887941513, 1013.3713662964183, 661.832478015312, 420.52904454197557, 689.6384737606462, 489.318572694797, 930.5190162288651, 734.211582044254, 689.2366375319297, 278.15630369612046, 259.8432574381716, 238.0986859264513, 233.96221063614058, 224.90222463304227, 211.2881996075654, 202.74531436750325, 198.6642788676105, 192.4586820701953, 186.73612260678047, 180.41943179655394, 177.23366987988172, 274.7710525319684, 166.37765321713493, 155.6688031043746, 254.3588842208078, 158.05328061182584, 147.89801175515368, 138.95134053751522, 138.25392506881684, 136.69564507983713, 176.47373711556233, 130.08658647562066, 129.38997368966014, 116.82735773204774, 114.61107401650482, 113.05796986721512, 110.56493707089659, 107.53944548483028, 104.20931650401008, 482.9642121905663, 591.6700537626633, 911.2908814654335, 233.25472576577118, 143.7430828106453, 157.36146070852303, 236.92147184027212, 427.8638340219632, 173.35972295552153, 164.61927475394734, 642.6142522713566, 448.31082848350985, 188.710469234678, 473.72107823070667, 785.4789823260592, 233.0094542630776, 277.385357879609, 421.3285582489374, 730.0299832543589, 858.4560445046924, 425.58272164834926, 260.33092679451494, 633.8920401226195, 930.5190162288651, 271.4455071229184, 576.4367215841338, 437.70644844772505, 311.58132501029246, 244.4196588468829, 230.58372298856358, 198.47904974733933, 197.7979106073102, 196.17006384322454, 174.9295289161521, 163.11608808046253, 155.127411571449, 126.33251192832925, 125.53886752142267, 118.96867784343021, 117.42240066216155, 114.42496918612716, 108.67275770090687, 106.85004384420948, 101.5428649110332, 100.47090509797732, 100.42335559129502, 97.2194225096592, 88.86012821535097, 87.95755177779795, 85.02790851634036, 83.3180042793402, 83.10850272613348, 82.08949948767165, 79.84299323547192, 78.06675691803522, 100.73601235689428, 450.88028179423236, 247.7404170890918, 315.2952606617309, 201.47158719579267, 146.45043367956998, 645.4614469369513, 380.9143171148378, 218.18430272124277, 314.84374858373644, 434.9414089956192, 730.0299832543589, 763.4533612835751, 140.3905623636509, 139.22365091626077, 167.44480161493203, 289.55196633758584, 236.89899207460056, 367.4304246466494, 276.3971003098696, 448.55048960106006, 689.8933828918807, 583.1221937105196, 470.49006725437397, 229.8611522118575, 216.5537292172907, 198.22900590519026, 155.1026999061654, 191.20584621889998, 150.5310235156497, 134.388551429761, 127.505953500429, 113.7473403300543, 113.2765479751271, 109.36936489742153, 96.71389416093899, 93.22600067750258, 90.61744922413806, 88.66599231597202, 88.28079100188364, 87.80364374411349, 83.84609233913947, 83.20223945308102, 82.99518671982958, 83.10331688321853, 81.725742275706, 80.76972053141623, 79.33649542094572, 75.96974059779299, 74.01022317170504, 70.00570686726934, 67.98112572899115, 153.17280010074003, 92.7146834043966, 108.64693931814203, 126.06850769312615, 151.4430581530091, 120.78946197540357, 236.89899207460056, 243.9770374084837, 652.9071927315383, 302.4020986327124, 190.5163243871029, 186.69942147000367, 160.47509164071974, 139.65238052400002, 137.9319143255242, 138.62253122050672, 129.49405587264644, 123.81210989238355, 118.63212054217088, 106.92455351679055, 97.73983632983366, 84.04290227896406, 83.42596836951856, 77.71161827940988, 75.22566285705999, 75.04591421156198, 75.02325997473058, 72.850912684097, 71.19670987004719, 71.93456953178229, 70.20538380286422, 68.67659139663981, 64.18410911420935, 63.78995777948925, 60.62842323910563, 58.712300400850005, 55.968394032190716, 55.576528657435055, 54.17026913361434, 62.14176028860558, 122.61981744624833, 281.38414690251585, 206.33862906880339, 194.94266289850017, 800.6587311495418, 229.47681624527073, 229.58492610235456, 201.1996696561856, 119.73257911062919, 91.02687512837791, 83.94710572720592, 80.02226016827005, 78.36240958042356, 77.47106126447521, 64.9701518001537, 56.94181096136352, 56.146476602991264, 52.46856375196563, 52.39126524403786, 49.83668034342967, 49.5006757411668, 48.69755795608086, 48.47138472824588, 47.13690725536491, 46.61979795530934, 45.324743447123375, 48.18468352420907, 41.869984441891425, 41.31086290676685, 38.492381395495606, 37.93301518340465, 37.75290173392882, 36.517989083844874, 36.33016875143004, 35.69279574817343, 35.61317733406418, 35.402221529556634, 111.3930739884751, 98.80923502182708, 100.84569298114461, 220.88983174955027], \"Category\": [\"Default\", \"Default\", \"Default\", \"Default\", \"Default\", \"Default\", \"Default\", \"Default\", \"Default\", \"Default\", \"Default\", \"Default\", \"Default\", \"Default\", \"Default\", \"Default\", \"Default\", \"Default\", \"Default\", \"Default\", \"Default\", \"Default\", \"Default\", \"Default\", \"Default\", \"Default\", \"Default\", \"Default\", \"Default\", \"Default\", \"Topic1\", \"Topic1\", \"Topic1\", \"Topic1\", \"Topic1\", \"Topic1\", \"Topic1\", \"Topic1\", \"Topic1\", \"Topic1\", \"Topic1\", \"Topic1\", \"Topic1\", \"Topic1\", \"Topic1\", \"Topic1\", \"Topic1\", \"Topic1\", \"Topic1\", \"Topic1\", \"Topic1\", \"Topic1\", \"Topic1\", \"Topic1\", \"Topic1\", \"Topic1\", \"Topic1\", \"Topic1\", \"Topic1\", \"Topic1\", \"Topic1\", \"Topic1\", \"Topic1\", \"Topic1\", \"Topic1\", \"Topic1\", \"Topic1\", \"Topic1\", \"Topic1\", \"Topic1\", \"Topic1\", \"Topic1\", \"Topic1\", \"Topic1\", \"Topic1\", \"Topic1\", \"Topic1\", \"Topic1\", \"Topic1\", \"Topic1\", \"Topic1\", \"Topic1\", \"Topic1\", \"Topic1\", \"Topic1\", \"Topic1\", \"Topic1\", \"Topic1\", \"Topic1\", \"Topic1\", \"Topic1\", \"Topic1\", \"Topic1\", \"Topic2\", \"Topic2\", \"Topic2\", \"Topic2\", \"Topic2\", \"Topic2\", \"Topic2\", \"Topic2\", \"Topic2\", \"Topic2\", \"Topic2\", \"Topic2\", \"Topic2\", \"Topic2\", \"Topic2\", \"Topic2\", \"Topic2\", \"Topic2\", \"Topic2\", \"Topic2\", \"Topic2\", \"Topic2\", \"Topic2\", \"Topic2\", \"Topic2\", \"Topic2\", \"Topic2\", \"Topic2\", \"Topic2\", \"Topic2\", \"Topic2\", \"Topic2\", \"Topic2\", \"Topic2\", \"Topic2\", \"Topic2\", \"Topic2\", \"Topic2\", \"Topic2\", \"Topic2\", \"Topic2\", \"Topic2\", \"Topic2\", \"Topic2\", \"Topic2\", \"Topic2\", \"Topic2\", \"Topic2\", \"Topic2\", \"Topic2\", \"Topic2\", \"Topic2\", \"Topic2\", \"Topic2\", \"Topic2\", \"Topic2\", \"Topic2\", \"Topic3\", \"Topic3\", \"Topic3\", \"Topic3\", \"Topic3\", \"Topic3\", \"Topic3\", \"Topic3\", \"Topic3\", \"Topic3\", \"Topic3\", \"Topic3\", \"Topic3\", \"Topic3\", \"Topic3\", \"Topic3\", \"Topic3\", \"Topic3\", \"Topic3\", \"Topic3\", \"Topic3\", \"Topic3\", \"Topic3\", \"Topic3\", \"Topic3\", \"Topic3\", \"Topic3\", \"Topic3\", \"Topic3\", \"Topic3\", \"Topic3\", \"Topic3\", \"Topic3\", \"Topic3\", \"Topic3\", \"Topic3\", \"Topic3\", \"Topic3\", \"Topic3\", \"Topic3\", \"Topic3\", \"Topic3\", \"Topic3\", \"Topic3\", \"Topic3\", \"Topic3\", \"Topic3\", \"Topic3\", \"Topic3\", \"Topic3\", \"Topic3\", \"Topic3\", \"Topic4\", \"Topic4\", \"Topic4\", \"Topic4\", \"Topic4\", \"Topic4\", \"Topic4\", \"Topic4\", \"Topic4\", \"Topic4\", \"Topic4\", \"Topic4\", \"Topic4\", \"Topic4\", \"Topic4\", \"Topic4\", \"Topic4\", \"Topic4\", \"Topic4\", \"Topic4\", \"Topic4\", \"Topic4\", \"Topic4\", \"Topic4\", \"Topic4\", \"Topic4\", \"Topic4\", \"Topic4\", \"Topic4\", \"Topic4\", \"Topic4\", \"Topic4\", \"Topic4\", \"Topic4\", \"Topic4\", \"Topic4\", \"Topic4\", \"Topic4\", \"Topic4\", \"Topic4\", \"Topic4\", \"Topic4\", \"Topic4\", \"Topic4\", \"Topic4\", \"Topic4\", \"Topic4\", \"Topic4\", \"Topic4\", \"Topic4\", \"Topic4\", \"Topic4\", \"Topic4\", \"Topic4\", \"Topic4\", \"Topic4\", \"Topic4\", \"Topic4\", \"Topic4\", \"Topic5\", \"Topic5\", \"Topic5\", \"Topic5\", \"Topic5\", \"Topic5\", \"Topic5\", \"Topic5\", \"Topic5\", \"Topic5\", \"Topic5\", \"Topic5\", \"Topic5\", \"Topic5\", \"Topic5\", \"Topic5\", \"Topic5\", \"Topic5\", \"Topic5\", \"Topic5\", \"Topic5\", \"Topic5\", \"Topic5\", \"Topic5\", \"Topic5\", \"Topic5\", \"Topic5\", \"Topic5\", \"Topic5\", \"Topic5\", \"Topic5\", \"Topic5\", \"Topic5\", \"Topic5\", \"Topic5\", \"Topic5\", \"Topic5\", \"Topic5\", \"Topic5\", \"Topic5\", \"Topic5\", \"Topic5\", \"Topic5\", \"Topic5\", \"Topic5\", \"Topic5\", \"Topic5\", \"Topic5\", \"Topic5\", \"Topic5\", \"Topic5\", \"Topic5\", \"Topic5\", \"Topic5\", \"Topic5\", \"Topic6\", \"Topic6\", \"Topic6\", \"Topic6\", \"Topic6\", \"Topic6\", \"Topic6\", \"Topic6\", \"Topic6\", \"Topic6\", \"Topic6\", \"Topic6\", \"Topic6\", \"Topic6\", \"Topic6\", \"Topic6\", \"Topic6\", \"Topic6\", \"Topic6\", \"Topic6\", \"Topic6\", \"Topic6\", \"Topic6\", \"Topic6\", \"Topic6\", \"Topic6\", \"Topic6\", \"Topic6\", \"Topic6\", \"Topic6\", \"Topic6\", \"Topic6\", \"Topic6\", \"Topic6\", \"Topic6\", \"Topic6\", \"Topic6\", \"Topic6\", \"Topic6\", \"Topic6\", \"Topic6\", \"Topic6\", \"Topic6\", \"Topic6\", \"Topic6\", \"Topic6\", \"Topic6\", \"Topic6\", \"Topic6\", \"Topic6\", \"Topic6\", \"Topic6\", \"Topic7\", \"Topic7\", \"Topic7\", \"Topic7\", \"Topic7\", \"Topic7\", \"Topic7\", \"Topic7\", \"Topic7\", \"Topic7\", \"Topic7\", \"Topic7\", \"Topic7\", \"Topic7\", \"Topic7\", \"Topic7\", \"Topic7\", \"Topic7\", \"Topic7\", \"Topic7\", \"Topic7\", \"Topic7\", \"Topic7\", \"Topic7\", \"Topic7\", \"Topic7\", \"Topic7\", \"Topic7\", \"Topic7\", \"Topic7\", \"Topic7\", \"Topic7\", \"Topic7\", \"Topic7\", \"Topic7\", \"Topic7\", \"Topic7\", \"Topic7\", \"Topic7\", \"Topic8\", \"Topic8\", \"Topic8\", \"Topic8\", \"Topic8\", \"Topic8\", \"Topic8\", \"Topic8\", \"Topic8\", \"Topic8\", \"Topic8\", \"Topic8\", \"Topic8\", \"Topic8\", \"Topic8\", \"Topic8\", \"Topic8\", \"Topic8\", \"Topic8\", \"Topic8\", \"Topic8\", \"Topic8\", \"Topic8\", \"Topic8\", \"Topic8\", \"Topic8\", \"Topic8\", \"Topic8\", \"Topic8\", \"Topic8\", \"Topic8\", \"Topic8\", \"Topic8\", \"Topic8\", \"Topic8\", \"Topic8\", \"Topic8\", \"Topic8\", \"Topic9\", \"Topic9\", \"Topic9\", \"Topic9\", \"Topic9\", \"Topic9\", \"Topic9\", \"Topic9\", \"Topic9\", \"Topic9\", \"Topic9\", \"Topic9\", \"Topic9\", \"Topic9\", \"Topic9\", \"Topic9\", \"Topic9\", \"Topic9\", \"Topic9\", \"Topic9\", \"Topic9\", \"Topic9\", \"Topic9\", \"Topic9\", \"Topic9\", \"Topic9\", \"Topic9\", \"Topic9\", \"Topic9\", \"Topic9\", \"Topic9\", \"Topic9\", \"Topic9\", \"Topic9\"], \"logprob\": [30.0, 29.0, 28.0, 27.0, 26.0, 25.0, 24.0, 23.0, 22.0, 21.0, 20.0, 19.0, 18.0, 17.0, 16.0, 15.0, 14.0, 13.0, 12.0, 11.0, 10.0, 9.0, 8.0, 7.0, 6.0, 5.0, 4.0, 3.0, 2.0, 1.0, -4.5697, -4.9148, -5.2252, -5.236, -5.3025, -5.3457, -5.4559, -5.525, -5.5786, -5.4903, -5.7247, -5.7377, -5.7746, -5.8445, -5.9327, -5.9517, -5.9768, -5.9872, -6.1951, -6.2167, -6.2662, -6.2723, -6.2787, -6.293, -6.3298, -6.3669, -6.3791, -6.3796, -5.2896, -6.4387, -4.3073, -5.689, -5.6526, -5.2177, -5.3522, -5.7726, -5.0213, -5.0348, -5.7214, -6.1154, -5.4481, -4.7338, -5.148, -4.8229, -5.0042, -5.4222, -4.8615, -5.1312, -5.0708, -4.9882, -4.6555, -5.039, -5.0688, -4.94, -4.7845, -4.9738, -5.2956, -5.1635, -5.1297, -5.1161, -5.1854, -5.2153, -5.2979, -4.014, -4.4305, -4.6151, -4.8228, -5.0666, -5.1695, -5.4229, -5.4231, -5.4386, -5.4563, -5.6051, -5.6643, -5.7255, -5.7446, -5.7865, -5.8216, -5.8549, -5.8653, -5.9021, -5.919, -5.9292, -5.9778, -5.9959, -6.0297, -6.0636, -6.0686, -6.0834, -6.1034, -6.1059, -6.1194, -6.0266, -5.2347, -5.515, -4.7133, -5.4446, -4.8459, -5.5526, -5.6145, -5.7881, -5.596, -5.1435, -5.0505, -4.7487, -5.2107, -4.9764, -4.776, -5.0541, -5.0119, -4.7413, -4.9767, -5.4038, -5.049, -5.0775, -5.1203, -5.2863, -5.2358, -5.3359, -4.2536, -4.3579, -4.3678, -4.6494, -4.6191, -5.1348, -5.2162, -5.4799, -5.5351, -5.5615, -5.5672, -5.6114, -5.6253, -5.7252, -5.764, -5.7781, -5.795, -5.7955, -5.8513, -5.8619, -5.8705, -5.9376, -5.9665, -4.714, -5.9843, -6.0094, -6.0154, -6.0162, -6.0977, -5.944, -4.7679, -4.7869, -4.2495, -4.1362, -4.9297, -5.3029, -4.5504, -4.5121, -5.27, -5.0296, -4.6962, -4.4777, -5.4567, -5.3486, -5.0265, -5.229, -5.0823, -5.075, -5.3167, -5.3566, -5.3523, -5.4491, -4.5151, -4.7549, -4.812, -5.2262, -5.5337, -5.5478, -5.5534, -5.636, -5.7055, -5.7415, -5.7605, -4.2456, -5.8096, -5.8357, -5.9252, -5.9244, -5.9752, -6.0163, -6.018, -6.0213, -6.0565, -6.0705, -6.0726, -6.0737, -6.1098, -6.1177, -6.1249, -6.1517, -6.1644, -6.1653, -4.4445, -4.1784, -5.0203, -4.9693, -4.4921, -4.6634, -4.6882, -4.298, -5.0106, -4.5096, -5.7778, -5.8635, -4.9593, -5.3188, -5.1389, -5.384, -5.2795, -5.0113, -4.8066, -4.9305, -4.983, -4.7577, -5.0111, -5.23, -5.0771, -5.2431, -5.0859, -5.2904, -5.3052, -4.9565, -5.0248, -5.1125, -5.1301, -5.1697, -5.2324, -5.2738, -5.2942, -5.3261, -5.3564, -5.391, -5.4089, -4.9705, -5.4724, -5.5392, -5.0484, -5.5242, -5.5907, -5.6535, -5.6585, -5.6699, -5.4147, -5.7198, -5.7252, -5.828, -5.8473, -5.861, -5.8835, -5.9114, -5.9431, -4.4148, -4.2716, -3.8915, -5.1866, -5.6376, -5.5635, -5.2053, -4.6965, -5.4811, -5.5254, -4.417, -4.7623, -5.4259, -4.7676, -4.479, -5.2894, -5.2033, -4.9844, -4.7493, -4.7409, -5.0997, -5.2926, -5.0399, -4.9409, -5.2873, -4.1328, -4.4086, -4.7492, -4.9927, -5.0512, -5.2017, -5.2051, -5.2134, -5.3285, -5.3987, -5.4492, -5.6557, -5.6622, -5.7162, -5.7294, -5.7554, -5.8074, -5.8244, -5.8757, -5.8864, -5.8869, -5.9196, -6.0103, -6.0206, -6.0548, -6.0753, -6.0778, -6.0903, -6.1183, -6.141, -5.8925, -4.4513, -5.0452, -4.824, -5.2517, -5.5501, -4.3095, -4.7907, -5.2607, -5.0284, -4.8784, -4.5475, -4.525, -5.6674, -5.6844, -5.6068, -5.4592, -5.5469, -5.4622, -5.5304, -5.4754, -5.4928, -3.5131, -3.7281, -4.4461, -4.506, -4.5947, -4.8412, -4.6321, -4.8713, -4.9854, -5.0382, -5.1532, -5.1573, -5.1927, -5.3166, -5.3537, -5.3823, -5.4043, -5.4086, -5.4141, -5.4607, -5.4685, -5.471, -5.4698, -5.4865, -5.4984, -5.5165, -5.5603, -5.5867, -5.643, -5.6727, -4.9541, -5.4454, -5.3359, -5.333, -5.3193, -5.4095, -5.3134, -5.3583, -5.3453, -3.8605, -4.3241, -4.3444, -4.4965, -4.6362, -4.6487, -4.6437, -4.7122, -4.7573, -4.8004, -4.905, -4.9955, -5.1478, -5.1553, -5.2269, -5.2598, -5.2622, -5.2625, -5.2922, -5.3154, -5.3052, -5.3296, -5.3519, -5.4204, -5.4266, -5.4781, -5.5106, -5.5592, -5.5663, -5.5923, -5.5129, -5.1964, -4.9549, -5.1196, -5.1946, -4.8706, -5.2488, -5.276, -3.3197, -3.8415, -4.1177, -4.1994, -4.2477, -4.2689, -4.2804, -4.4584, -4.5921, -4.6063, -4.6751, -4.6766, -4.7274, -4.7343, -4.7509, -4.7556, -4.784, -4.7952, -4.8239, -4.7637, -4.9046, -4.9184, -4.9905, -5.0054, -5.0104, -5.0443, -5.0495, -5.0676, -5.0699, -5.076, -4.4243, -4.7257, -4.9171, -5.0295], \"loglift\": [30.0, 29.0, 28.0, 27.0, 26.0, 25.0, 24.0, 23.0, 22.0, 21.0, 20.0, 19.0, 18.0, 17.0, 16.0, 15.0, 14.0, 13.0, 12.0, 11.0, 10.0, 9.0, 8.0, 7.0, 6.0, 5.0, 4.0, 3.0, 2.0, 1.0, 1.6517, 1.6512, 1.6505, 1.6505, 1.6503, 1.6502, 1.6499, 1.6497, 1.6495, 1.6495, 1.6489, 1.6489, 1.6488, 1.6484, 1.648, 1.6479, 1.6478, 1.6477, 1.6465, 1.6464, 1.6461, 1.646, 1.646, 1.6459, 1.6456, 1.6453, 1.6452, 1.6452, 1.6451, 1.6448, 1.6406, 1.6444, 1.6325, 1.6166, 1.6149, 1.6258, 1.5805, 1.5797, 1.616, 1.6376, 1.5772, 1.4722, 1.5112, 1.4395, 1.4564, 1.5213, 1.3136, 1.3731, 1.3334, 1.2905, 1.0555, 1.2565, 1.2576, 1.148, 1.0341, 1.0007, 1.3533, 1.0684, 0.9913, 0.9026, 0.6354, 0.7229, 0.9261, 1.8061, 1.8056, 1.8054, 1.805, 1.8045, 1.8042, 1.8034, 1.8034, 1.8034, 1.8033, 1.8027, 1.8024, 1.8022, 1.8021, 1.8019, 1.8017, 1.8016, 1.8015, 1.8013, 1.8012, 1.8011, 1.8009, 1.8007, 1.8005, 1.8003, 1.8003, 1.8002, 1.8001, 1.8, 1.7999, 1.7988, 1.7685, 1.7796, 1.741, 1.7355, 1.6416, 1.7364, 1.7146, 1.7282, 1.6421, 1.4447, 1.3834, 1.2224, 1.4431, 1.315, 1.1622, 1.3035, 1.213, 0.9697, 1.1437, 1.4749, 1.1029, 1.1163, 0.9665, 1.2206, 0.5828, 0.7916, 1.8816, 1.8815, 1.8815, 1.881, 1.8809, 1.8799, 1.8797, 1.8788, 1.8786, 1.8784, 1.8784, 1.8782, 1.8782, 1.8777, 1.8775, 1.8774, 1.8773, 1.8772, 1.877, 1.8769, 1.8769, 1.8765, 1.8763, 1.8763, 1.8761, 1.876, 1.876, 1.876, 1.8754, 1.8753, 1.8724, 1.8649, 1.8531, 1.6194, 1.686, 1.7547, 1.5884, 1.5457, 1.6879, 1.5987, 1.4313, 1.2578, 1.664, 1.5697, 1.0935, 1.2779, 1.0663, 0.8263, 1.1414, 0.848, 0.8092, 1.1959, 2.0645, 2.064, 2.0638, 2.0626, 2.0613, 2.0612, 2.0612, 2.0607, 2.0603, 2.0601, 2.06, 2.0599, 2.0596, 2.0595, 2.0588, 2.0588, 2.0585, 2.0581, 2.0581, 2.058, 2.0578, 2.0577, 2.0577, 2.0577, 2.0573, 2.0573, 2.0572, 2.057, 2.0568, 2.0568, 2.0514, 2.0189, 2.0247, 2.0057, 1.9444, 1.9572, 1.9533, 1.9056, 1.9535, 1.7818, 1.9696, 1.9999, 1.6162, 1.7447, 1.6513, 1.7312, 1.5589, 1.3015, 1.1171, 1.2215, 1.2489, 0.9778, 1.1504, 1.385, 1.0433, 1.2204, 0.7349, 0.7673, 0.8158, 2.0718, 2.0716, 2.0713, 2.0713, 2.0711, 2.0709, 2.0708, 2.0707, 2.0705, 2.0704, 2.0703, 2.0702, 2.0701, 2.0699, 2.0696, 2.0694, 2.0694, 2.0693, 2.0689, 2.0689, 2.0688, 2.0687, 2.0686, 2.0685, 2.0679, 2.0677, 2.0676, 2.0675, 2.0673, 2.067, 2.0618, 2.002, 1.9502, 2.0178, 2.0509, 2.0345, 1.9835, 1.9012, 2.0201, 2.0275, 1.774, 1.7888, 1.9904, 1.7283, 1.5113, 1.916, 1.8279, 1.6287, 1.3141, 1.1605, 1.5033, 1.802, 1.1647, 0.8799, 1.7654, 2.1668, 2.1664, 2.1657, 2.1649, 2.1648, 2.1642, 2.1642, 2.1641, 2.1636, 2.1633, 2.1631, 2.1619, 2.1617, 2.1615, 2.1614, 2.1612, 2.1608, 2.1607, 2.1603, 2.1602, 2.1602, 2.16, 2.1592, 2.1591, 2.1588, 2.1586, 2.1586, 2.1584, 2.1582, 2.1579, 2.1515, 2.094, 2.099, 2.0791, 2.0992, 2.1197, 1.8771, 1.9232, 2.0105, 1.876, 1.7029, 1.516, 1.4936, 2.0447, 2.0361, 1.9291, 1.529, 1.642, 1.2878, 1.5043, 1.0751, 0.6272, 2.775, 2.7747, 2.7729, 2.7727, 2.7724, 2.7713, 2.7711, 2.7711, 2.7704, 2.7701, 2.7694, 2.7694, 2.7691, 2.7681, 2.7678, 2.7676, 2.7674, 2.7674, 2.7673, 2.7669, 2.7668, 2.7668, 2.7667, 2.7666, 2.7665, 2.7663, 2.7659, 2.7656, 2.765, 2.7646, 2.6708, 2.6816, 2.6325, 2.4867, 2.317, 2.453, 1.8755, 1.8011, 0.8298, 3.0842, 3.0827, 3.0826, 3.0819, 3.0812, 3.0811, 3.0811, 3.0807, 3.0804, 3.0801, 3.0794, 3.0787, 3.0774, 3.0773, 3.0766, 3.0763, 3.0762, 3.0762, 3.0759, 3.0756, 3.0756, 3.0755, 3.0752, 3.0744, 3.0743, 3.0737, 3.0732, 3.0726, 3.0725, 3.0721, 3.0142, 2.651, 2.0619, 2.2074, 2.1892, 1.1005, 1.972, 1.9443, 4.0325, 4.0298, 4.0277, 4.027, 4.0265, 4.0263, 4.0262, 4.0242, 4.0224, 4.0222, 4.0212, 4.0212, 4.0204, 4.0203, 4.02, 4.02, 4.0195, 4.0193, 4.0188, 4.0178, 4.0173, 4.017, 4.0156, 4.0153, 4.0151, 4.0145, 4.0143, 4.0139, 4.0139, 4.0138, 3.5192, 3.3376, 3.1258, 2.2294]}, \"token.table\": {\"Topic\": [9, 6, 5, 2, 4, 1, 2, 9, 1, 3, 3, 6, 9, 6, 8, 5, 7, 3, 5, 9, 3, 5, 1, 2, 6, 9, 6, 4, 3, 2, 3, 2, 3, 3, 4, 5, 9, 2, 3, 9, 7, 1, 2, 3, 6, 5, 6, 5, 6, 7, 6, 7, 1, 4, 6, 1, 2, 8, 8, 3, 1, 3, 7, 2, 8, 4, 5, 7, 1, 2, 3, 1, 2, 4, 3, 4, 5, 8, 1, 5, 6, 3, 1, 2, 3, 4, 5, 6, 2, 1, 1, 2, 3, 4, 6, 8, 1, 2, 1, 6, 1, 2, 3, 6, 8, 2, 3, 8, 4, 7, 3, 2, 2, 3, 2, 8, 4, 5, 4, 1, 2, 4, 5, 9, 6, 6, 2, 3, 8, 9, 4, 2, 1, 2, 1, 2, 3, 6, 5, 5, 3, 4, 1, 5, 4, 4, 1, 2, 3, 5, 1, 6, 7, 7, 4, 1, 3, 4, 6, 8, 2, 8, 3, 7, 9, 2, 1, 2, 3, 7, 6, 5, 1, 3, 6, 3, 4, 6, 1, 2, 4, 7, 8, 4, 7, 1, 2, 4, 6, 5, 2, 4, 4, 8, 1, 2, 3, 4, 3, 4, 1, 1, 1, 5, 1, 6, 4, 1, 4, 5, 8, 1, 1, 1, 4, 5, 7, 1, 5, 3, 5, 6, 4, 4, 2, 8, 1, 6, 6, 7, 1, 2, 5, 3, 1, 2, 3, 4, 6, 1, 2, 5, 2, 9, 8, 2, 1, 2, 4, 5, 7, 8, 1, 2, 1, 5, 6, 5, 3, 3, 1, 4, 3, 1, 4, 5, 6, 2, 4, 5, 8, 1, 2, 4, 6, 9, 1, 2, 3, 4, 6, 8, 7, 1, 3, 4, 5, 6, 5, 6, 2, 2, 3, 6, 6, 1, 2, 4, 6, 7, 3, 1, 2, 3, 4, 6, 1, 6, 3, 1, 8, 2, 3, 3, 3, 1, 2, 4, 6, 8, 9, 9, 1, 2, 4, 6, 6, 4, 7, 5, 2, 7, 1, 2, 3, 5, 6, 7, 1, 3, 4, 5, 6, 4, 3, 6, 5, 9, 1, 4, 3, 5, 4, 1, 2, 4, 8, 7, 4, 4, 4, 7, 1, 2, 6, 8, 9, 6, 1, 2, 3, 4, 6, 9, 9, 9, 8, 4, 7, 5, 7, 5, 8, 4, 1, 3, 5, 7, 7, 4, 1, 5, 3, 1, 2, 3, 5, 6, 6, 2, 2, 3, 8, 5, 8, 9, 4, 1, 1, 7, 5, 1, 2, 4, 6, 9, 9, 3, 4, 5, 6, 8, 6, 7, 1, 2, 6, 3, 5, 2, 2, 7, 1, 3, 6, 7, 1, 4, 6, 3, 5, 2, 3, 4, 5, 6, 7, 2, 3, 4, 7, 1, 2, 3, 4, 4, 5, 5, 5, 5, 4, 6, 7, 8, 7, 9, 1, 2, 4, 5, 3, 2, 3, 1, 2, 6, 7, 8, 6, 7, 3, 5, 7, 8, 4, 6, 4, 3, 8, 7, 3, 2, 3, 4, 5, 7, 1, 2, 4, 6, 8, 2, 3, 4, 2, 2, 6, 3, 7, 1, 2, 3, 4, 6, 2, 2, 1, 3, 4, 6, 7, 7, 3, 4, 5, 6, 7, 1, 2, 5, 7, 1, 2, 4, 6, 1, 7, 8, 2, 6, 8, 1, 2, 4, 5, 6, 8, 1, 6, 8, 3, 4, 1, 6, 1, 2, 3, 4, 6, 1, 2, 3, 4, 5, 5, 1, 1, 9, 9, 1, 7, 1, 2, 3, 4, 6, 3, 4, 5, 6, 1, 2, 1, 2, 3, 4, 5, 6, 1, 4, 5, 6, 2, 6, 1, 2, 3, 4, 7, 3, 3, 4, 5, 6, 4, 5, 7, 3, 4, 7, 3, 4, 5, 4, 1, 2, 4, 6, 7, 1, 2, 3, 4, 1, 2, 4, 4, 9, 2, 1, 2, 4, 6, 4, 2, 1, 2, 4, 5, 2, 9, 1, 1, 6, 8, 8, 1, 2, 1, 1, 3, 4, 6, 9, 2, 6, 3, 6, 2, 1, 2, 3, 4, 3, 4, 5, 1, 2, 6, 2, 9, 5, 3, 3, 4, 5, 6, 1, 2, 4, 3, 5, 6, 4, 5, 8, 2, 5, 2, 6, 1, 2, 3, 7, 8, 2, 1, 2, 4, 1, 1, 2, 3, 4, 6, 2, 7, 1, 6, 3, 4, 5, 6, 8, 1, 2, 6, 9, 9, 2, 6, 8, 1, 1, 2, 3, 4, 7, 7, 9, 2, 4, 5, 2, 8, 8, 1, 2, 6, 7, 3, 4, 5, 6, 1, 1, 2, 9, 2, 3, 4, 1, 4, 5, 2, 1, 2, 8, 4, 6, 3, 5, 5, 6, 6, 1, 5, 6, 8, 7, 7, 1, 9, 8, 5, 3], \"Freq\": [0.9850677307459915, 0.9866619817494929, 0.9967547457398535, 0.005235034707273397, 0.9929115828128544, 0.963760382466305, 0.033816153770747544, 0.9856757097201883, 0.00975556704739619, 0.9901900553107134, 0.9954754648561814, 0.9863353242769487, 0.9872083415563053, 0.9959660311635228, 0.9901481511694112, 0.9948904500299734, 0.9966227755115158, 0.9978218125737022, 0.9958429714489458, 0.9872253024830784, 0.08441615630973125, 0.9116944881450975, 0.9282772499395466, 0.046593066599282265, 0.02508857432269045, 0.995375211375403, 0.994653834993637, 0.9947124601788303, 0.9961600644230565, 0.362176830389775, 0.6367302340723464, 0.11845680026318979, 0.8810224519574741, 0.7136907300495517, 0.27240104200364573, 0.012258046890164057, 0.9795806135601716, 0.8468938820610606, 0.15075597900563384, 0.986705262946367, 0.985567674579229, 0.4105041170665441, 0.552168282956175, 0.014488380602348616, 0.020927660870059112, 0.11396777483201126, 0.8832502549480873, 0.9958873245661154, 0.8524902922903571, 0.14208171538172618, 0.7823281683323002, 0.21527150940687456, 0.5576439385950933, 0.44092776540077144, 0.9964027250356016, 0.9293651663807636, 0.06892989725074716, 0.9870080611051774, 0.9896348411267887, 0.9961600232386482, 0.9954443444192611, 0.9894727587849103, 0.9964723317277219, 0.9918617305524748, 0.9934407878753587, 0.003931453006107325, 0.9946576105451533, 0.9880091031882479, 0.0897686862713989, 0.7181494901711912, 0.19191926030437007, 0.9292601310496152, 0.021119548432945803, 0.04693232985099067, 0.8043317160567128, 0.003942802529689769, 0.09857006324224422, 0.09462726071255445, 0.010958454013542373, 0.46710410232724364, 0.5205265656432627, 0.9970568058770568, 0.007350848738169654, 0.18867178427968778, 0.5023079971082597, 0.09556103359620549, 0.18622150136696455, 0.019602263301785744, 0.9971457625087379, 0.9952442454431493, 0.205883683732827, 0.6047833209651793, 0.0863976172807399, 0.03860319069990506, 0.05147092093320675, 0.011029483057115732, 0.9732905790050057, 0.02081904981828889, 0.9919565903551423, 0.9903204256776845, 0.041663541559981365, 0.6547127959425643, 0.043647519729504286, 0.23014146766465896, 0.02777569437332091, 0.25404617462493423, 0.7444143721567841, 0.9896264003642853, 0.9923173768500055, 0.993186199463518, 0.9938664031210226, 0.998356688296263, 0.9330997133249728, 0.0653169799327481, 0.9947852405353104, 0.9876162674034055, 0.29131066009436185, 0.7071671821131248, 0.9957825200424304, 0.022635718269137482, 0.6609629734588145, 0.08148858576889494, 0.07243429846123994, 0.16297717153778987, 0.9962860450026787, 0.9940354617809595, 0.183025024868348, 0.48806673298226133, 0.32683040155062143, 0.9887178275057673, 0.9926762393849867, 0.9987359057356966, 0.9930943462769134, 0.9909475769294003, 0.9913769462782734, 0.9605769975625214, 0.017528777327783237, 0.017528777327783237, 0.9916489720246743, 0.9930393029681222, 0.03655550069891032, 0.9577541183114504, 0.04252235961106462, 0.9537157798481636, 0.9914763363191346, 0.9918095229194838, 0.39397298741424347, 0.5244916458214162, 0.07976140235993887, 0.9977301445847293, 0.9932944675125815, 0.5909691669600408, 0.40523600020117084, 0.9971087460529398, 0.994776612342417, 0.14424499563684487, 0.35380847986395914, 0.059875281207746926, 0.41368376107170607, 0.024494433221351017, 0.9973374393834966, 0.9924305548524043, 0.9929722472767234, 0.9856339302569124, 0.975403611368789, 0.9949997958950065, 0.21753729297572114, 0.6946361287065641, 0.07910447017298951, 0.007416044078717766, 0.9920445157191619, 0.9906422354084573, 0.9941203384251774, 0.9925631277473801, 0.9867279068032901, 0.8241917461502539, 0.07035783198843631, 0.10386156150673932, 0.10990949898673363, 0.5570413244100363, 0.19234162322678386, 0.0024979431587894008, 0.13738687373341704, 0.3631728034997237, 0.6339016206540631, 0.22194542866572747, 0.0068820287958365105, 0.7518616459451388, 0.017205071989591276, 0.9953855859297321, 0.9956093255042395, 0.9960661408538933, 0.3506774100267234, 0.6442677998165384, 0.9901069100287906, 0.004877373941028525, 0.10282308042546448, 0.8967129106871903, 0.9917439228819088, 0.9964332561067276, 0.9905185869682666, 0.9967915151602852, 0.8674367298631219, 0.12924558725754254, 0.9969243007972023, 0.9946862663958945, 0.9955014019366649, 0.20385480019618776, 0.05602116646612794, 0.7407243121632472, 0.9955091627960793, 0.998359021446613, 0.9965696596882608, 0.008443136651963916, 0.9857362041167872, 0.006332352488972937, 0.9974429938505696, 0.03812877672198062, 0.9595742141698455, 0.021435792923745006, 0.9431748886447803, 0.03429726867799201, 0.9971401470308686, 0.9984463942562046, 0.06436895223795981, 0.9333498074504172, 0.9647292378034622, 0.034279719109767695, 0.8762878950314245, 0.12210569029126407, 0.08450782344951699, 0.1498093233877801, 0.7605704110456529, 0.9983933681695808, 0.6965137924532164, 0.008494070639673371, 0.0033976282558693485, 0.10192884767608046, 0.19026718232868353, 0.7556749514232877, 0.24266744918945013, 0.9939281688475952, 0.49590506382501437, 0.49590506382501437, 0.9826974840186814, 0.9960951908986637, 0.1189680675730645, 0.04326111548111436, 0.02884074365407624, 0.782305171616818, 0.01442037182703812, 0.00721018591351906, 0.6735468179801598, 0.3260821896570615, 0.9892863159932834, 0.9969860594407765, 0.9891134785081678, 0.9909302750848289, 0.9979616622628403, 0.9911455738202217, 0.2718519417510601, 0.7261798444035167, 0.9935803131512867, 0.0015660138666698609, 0.9537024448019452, 0.02035818026670819, 0.02349020800004791, 0.02177843330084693, 0.11324785316440403, 0.5488165191813427, 0.31796512619236517, 0.9806258814389146, 0.018590064103107384, 0.8509630513349453, 0.1481306052323794, 0.9886385228898467, 0.30092191418807746, 0.5570256709438881, 0.004268395945930177, 0.07042853310784793, 0.04481815743226686, 0.021341979729650885, 0.9863502212476606, 0.3268497120266133, 0.01828529857491543, 0.6376997878001756, 0.009142649287457715, 0.006856986965593286, 0.9933359142705005, 0.9953130202468257, 0.9983562776531153, 0.12859017435336836, 0.12394233672613819, 0.7467525787749826, 0.99924237723278, 0.3200168124496197, 0.610784776449543, 0.010323122982245797, 0.0017205204970409662, 0.05677717640235189, 0.9893224616153625, 0.010123901618444706, 0.9354485095442908, 0.006074340971066823, 0.018223022913200472, 0.02834692453164518, 0.9972969027454498, 0.9975863964083406, 0.9913790301833464, 0.9955331023698416, 0.9863607636474977, 0.004639735708620829, 0.9929034416448576, 0.9966197055721461, 0.9979281679371385, 0.0920816431016631, 0.019385609074034336, 0.2083952975458691, 0.26655212476797213, 0.4167905950917382, 0.9792217634305831, 0.9898854766390508, 0.8072717944744304, 0.04512699472217313, 0.015042331574057708, 0.13036687364183347, 0.9982830397159429, 0.9879975957606034, 0.9928905176580902, 0.991647205872188, 0.9979579292520193, 0.9911197836141069, 0.2469830566637223, 0.1693234357539952, 0.012731085395037232, 0.5690795171581643, 0.0012731085395037232, 0.9936934657451871, 0.027433611493838134, 0.01646016689630288, 0.012070789057288778, 0.883362290101588, 0.060353945286443896, 0.9965857460122017, 0.9910848097619921, 0.997367962345925, 0.39499762799033905, 0.5924964419855085, 0.08854733653425399, 0.9076101994761034, 0.003639393563423696, 0.9971938363780927, 0.9949802041559073, 0.06763083298280279, 0.045750269370719535, 0.8851682552160953, 0.9878679527801351, 0.9855503955063736, 0.992265968944907, 0.9943367698024249, 0.9959320820541511, 0.986723551783511, 0.21323162893319184, 0.05686176771551782, 0.36604762966864596, 0.3589399087042063, 0.9938815390424998, 0.9957075642622735, 0.0009868050679729715, 0.10558814227310795, 0.5348483468413505, 0.3365005281787833, 0.0207229064274324, 0.9834601157662062, 0.9832115554715117, 0.9754136908751542, 0.9875908345537336, 0.9969828511342936, 0.9938000702794318, 0.1288577486661169, 0.8651877410439277, 0.9949837431056274, 0.9986703179821487, 0.987247642434703, 0.9919340840133005, 0.006547419696457429, 0.9976752404528859, 0.9989583897971878, 0.9887306949413095, 0.9970924965607446, 0.9917554175917582, 0.9949109931085892, 0.998556618871136, 0.013814445989071401, 0.11396917940983906, 0.09324751042623196, 0.24866002780328522, 0.5284025590819811, 0.9957842915245931, 0.9972724279487974, 0.9902941642043034, 0.9931066773298215, 0.9932436642376699, 0.9931534267043767, 0.996184721612764, 0.9858155091000335, 0.9909709722882741, 0.997910880481767, 0.9979212431281056, 0.9854918495026136, 0.9883953129664416, 0.3828009966447223, 0.43187804749660974, 0.05328365521062069, 0.13180693657364065, 0.990274989441942, 0.9800571161593075, 0.7518327170362629, 0.004819440493822198, 0.1566318160492214, 0.08434020864188846, 0.9913532160165124, 0.9931577069215148, 0.9957586301340847, 0.4088551690703233, 0.5009256079067702, 0.08894940701148256, 0.01035273395790891, 0.9876508195845101, 0.9945077243846794, 0.9711918029526787, 0.023458739201755525, 0.726109324434368, 0.13867339883096685, 0.13289534054634322, 0.9960319225374265, 0.2776684361168082, 0.6601708736246562, 0.062333730556834485, 0.07948684596478951, 0.9167482901272391, 0.05363689374206856, 0.3549500321166301, 0.009465334189776804, 0.40227670306551416, 0.12147178876880231, 0.056792005138660825, 0.04933990841740259, 0.7682928596424119, 0.1731931479141479, 0.008055495251820833, 0.038910790327771054, 0.4938677233909403, 0.035917652610250206, 0.42951526246424204, 0.1565918749668399, 0.8413891789263039, 0.9939031161704345, 0.997616724456068, 0.9963238885701089, 0.24182603669056774, 0.22543105115222417, 0.3770846673819022, 0.15165361622967807, 0.9868491550791318, 0.9758807414070317, 0.7404397865631984, 0.017219529920074382, 0.034439059840148764, 0.20663435904089258, 0.9962118674833244, 0.028492135454652817, 0.9701572122309284, 0.7121992301150804, 0.08270700736820288, 0.055138004912135254, 0.14243984602301607, 0.006126444990237251, 0.9938093252150787, 0.9980755427891042, 0.051915172951153755, 0.9460098182210239, 0.9934298214983683, 0.9970394680204738, 0.9407401569732768, 0.057944140103426474, 0.9923245633513226, 0.9992738292329669, 0.9831915003905166, 0.99084726202872, 0.9956116097508027, 0.12341912026119142, 0.1376597879836366, 0.03560166930611291, 0.6408300475100324, 0.06408300475100324, 0.5498120412524667, 0.4333019589555342, 0.0038515729684936374, 0.004814466210617046, 0.007703145936987275, 0.07376741480923932, 0.8209599390060505, 0.10232254312249324, 0.9949336622723925, 0.9921893428930304, 0.9918577069108472, 0.24589804834891582, 0.745626340154777, 0.3221813018364035, 0.07308742495362856, 0.4415077099239603, 0.14170010960397375, 0.02088212141532245, 0.9939126503377956, 0.9983644960920818, 0.2794806524992419, 0.11595473880287696, 0.6005860830302858, 0.955954833881316, 0.040969492880627824, 0.9904701845400489, 0.45369329198081754, 0.26235937970775713, 0.06232847142228484, 0.214525901639492, 0.007247496677009865, 0.8752164252831257, 0.026421627933075495, 0.06935677332432318, 0.023118924441441056, 0.821198780872224, 0.004075428192914263, 0.08762170614765666, 0.08558399205119953, 0.09792861389316294, 0.900943247817099, 0.9815513663654295, 0.9253961904677708, 0.06442631705788278, 0.005856937914352979, 0.3610888054300218, 0.019344043148036883, 0.2643685896898374, 0.3030566759859112, 0.05158411506143169, 0.9946715902971137, 0.9928485482221193, 0.9983860222982084, 0.990842832832907, 0.10499416529414085, 0.8936712673873384, 0.9946934692204112, 0.9894418633206075, 0.5213442338022723, 0.2030234756633849, 0.17419915504450928, 0.005012925325021849, 0.0964988125066706, 0.48412530323443304, 0.1254543975158996, 0.2750346407079337, 0.09006982385756894, 0.024125845676134537, 0.9946682812132376, 0.9982831012324483, 0.9993962770521886, 0.9940374173663624, 0.9925318611372458, 0.2732026408621624, 0.720261507727519, 0.23185795670961679, 0.022294034299001616, 0.19395809840131403, 0.2140227292704155, 0.33441051448502424, 0.9984253716945807, 0.5065048485105033, 0.39711882488851663, 0.09511828141042314, 0.3032831041694905, 0.696856598129898, 0.21678930221289974, 0.1405557014347372, 0.2215539022615349, 0.3871237539516067, 0.028587600291810955, 0.004764600048635159, 0.021707897779221934, 0.45948383632686424, 0.0036179829632036558, 0.5137535807749191, 0.9951365459049805, 0.9981342751839403, 0.004184230875527441, 0.9330834852426194, 0.06276346313291162, 0.9902352789359328, 0.9924887513399876, 0.9961789091489464, 0.34713483807075823, 0.15725907093809516, 0.4007194103904055, 0.0943554425628571, 0.9903931538470261, 0.9929181165429989, 0.9872351729759472, 0.5463680322320892, 0.3884335229150009, 0.06402750377719794, 0.9944546128368618, 0.0692953779547652, 0.9295721432956308, 0.9934573742017659, 0.21049681280797053, 0.35968387431264864, 0.4291682591230467, 0.7883194863436643, 0.20902410622748677, 0.6036288338731238, 0.23724016959199518, 0.004211363957254352, 0.15441667843265958, 0.8340835010451468, 0.006318814401857173, 0.15797036004642934, 0.998282506906522, 0.9910696287746569, 0.9967591961649203, 0.5165134594045835, 0.1465389308984914, 0.2858234592772555, 0.05078081763809108, 0.9955556275907069, 0.9892153925904559, 0.11158345519596338, 0.0085833427073818, 0.0214583567684545, 0.854042599384489, 0.9915132894487869, 0.9827822907146879, 0.9985118029933776, 0.05399503746372988, 0.7464019884692071, 0.20009925648323426, 0.9828306073185367, 0.9868604621376554, 0.007420003474719214, 0.9988711275239062, 0.37441991952143483, 0.00703135999101286, 0.465827599404602, 0.15293207980452972, 0.9928351839982894, 0.9130041101672928, 0.08255888230236158, 0.009926936520547719, 0.9827667155342241, 0.9975864097655583, 0.6720096905014911, 0.003455062676100211, 0.0017275313380501055, 0.32132082887731966, 0.13262330396096095, 0.12893932329537872, 0.7331121524508675, 0.9872531342590076, 0.01098303857642901, 0.9927323510395213, 0.9970600788097805, 0.9805900397082544, 0.9957036792791027, 0.994993804623912, 0.041384884556212254, 0.2299160253122903, 0.09886389088428484, 0.6276707491025526, 0.02721235696068533, 0.8477695822367353, 0.12350223543695649, 0.2475960716261907, 0.7517105958380744, 0.9974684987257643, 0.020870569500390783, 0.9739599100182365, 0.9962537566292564, 0.9973655482912805, 0.9960579528132831, 0.994049632420541, 0.9874570072709695, 0.13525122349709137, 0.09338774955751546, 0.7310006603295176, 0.03864320671345468, 0.9953285398963327, 0.9971835287974534, 0.02360069730623485, 0.08091667647851948, 0.8934549694503193, 0.9966543457478313, 0.20095719750538285, 0.030219127444418476, 0.3414761401219288, 0.4004034386385448, 0.027197214699976626, 0.0862862246436861, 0.906005358758704, 0.08246238762178693, 0.9134295244259475, 0.010259426901546584, 0.27700452634175776, 0.2513559590878913, 0.051297134507732926, 0.4052473626110901, 0.47154157445156963, 0.017027890188528905, 0.5095268679490572, 0.9909119951055267, 0.9924750323548451, 0.06458372916295736, 0.932427589790197, 0.9972898680007398, 0.9919291891922513, 0.07830189592749122, 0.5147624639677664, 0.042051018183282315, 0.3596087072225522, 0.0043501053293050675, 0.9926184943008186, 0.9887189895629211, 0.021147475078738102, 0.41355062376198953, 0.5639326687663494, 0.9892229771916895, 0.986063009258393, 0.9837068520168585, 0.5382958745571783, 0.2938108956746352, 0.12974860721398124, 0.03645828632458977, 0.4756121125641399, 0.05691085107605093, 0.32317233289614633, 0.14227712769012732, 0.9930245278079949, 0.07932911920686371, 0.5057231349437562, 0.4065617359351765, 0.9943400078297744, 0.2823336617077805, 0.7136767559835564, 0.05800426264138605, 0.9363545254966605, 0.9959883694591534, 0.9938475849750158, 0.9653730243406996, 0.032573936404134037, 0.9948940554380883, 0.9921356959366938, 0.9879109279026566, 0.9819623873742716, 0.014803453075994044, 0.06452522750697563, 0.9331340593316476, 0.9961832465612831, 0.9919757097676369, 0.07097227643812509, 0.9292932446117005, 0.9783964681672931, 0.9962535982980552, 0.9899089830481639, 0.9956757511751206, 0.9939195196659683, 0.9883198074979952, 0.9966562742361289, 0.9903459643177563], \"Term\": [\"abogado\", \"acci\\u00f3n\", \"acto\", \"actriz\", \"actriz\", \"adaptacion\", \"adaptacion\", \"adio\", \"adolescente\", \"adolescente\", \"adulto\", \"affleck\", \"afganistan\", \"agente\", \"alegria\", \"aleman\", \"alex\", \"alex_iglesia\", \"alien\", \"allen\", \"alma\", \"alma\", \"altura\", \"altura\", \"altura\", \"alumno\", \"american_gangster\", \"americano\", \"amiga\", \"amigo\", \"amigo\", \"amistad\", \"amistad\", \"amor\", \"amor\", \"amor\", \"anciano\", \"animacion\", \"animacion\", \"annie_hall\", \"antemano\", \"argumento\", \"argumento\", \"argumento\", \"argumento\", \"arma\", \"arma\", \"arte\", \"asesinato\", \"asesinato\", \"asesino\", \"asesino\", \"aspecto\", \"aspecto\", \"ausencia\", \"aventura\", \"aventura\", \"bayona\", \"ben_affleck\", \"besito\", \"bicho\", \"bosque\", \"britanico\", \"broma\", \"burton\", \"busqueda\", \"busqueda\", \"bu\\u00f1uel\", \"cabeza\", \"cabeza\", \"cabeza\", \"calidad\", \"calidad\", \"calidad\", \"calle\", \"calle\", \"calle\", \"calle\", \"camara\", \"camara\", \"camara\", \"camara_mano\", \"camino\", \"camino\", \"camino\", \"camino\", \"camino\", \"camino\", \"canci\\u00f3n\", \"cantidad\", \"cara\", \"cara\", \"cara\", \"cara\", \"cara\", \"cara\", \"caracteristica\", \"caracteristica\", \"carisma\", \"carpenter\", \"carrera\", \"carrera\", \"carrera\", \"carrera\", \"carrera\", \"casa\", \"casa\", \"casino\", \"casualidad\", \"cero\", \"chaval\", \"chica\", \"chico\", \"chico\", \"chiste\", \"christopher\", \"cineasta\", \"cineasta\", \"circulo\", \"clase\", \"clase\", \"clase\", \"clase\", \"clase\", \"clint_eastwood\", \"cloverfield\", \"coche\", \"coche\", \"coche\", \"colaboracion\", \"combate\", \"comedia\", \"comic\", \"comico\", \"comics\", \"comienzo\", \"comienzo\", \"comienzo\", \"concepto\", \"conciencia\", \"conjunto\", \"conjunto\", \"contenido\", \"contenido\", \"contrato\", \"corte\", \"cosa\", \"cosa\", \"cosa\", \"creacion\", \"creibl\", \"crimen\", \"crimen\", \"crimenes_oxford\", \"crisis\", \"cuerpo\", \"cuerpo\", \"cuerpo\", \"cuerpo\", \"cuerpo\", \"cuidado\", \"culo\", \"cultura\", \"cura\", \"dando_pie\", \"danny\", \"demas\", \"demas\", \"demas\", \"demas\", \"denuncia\", \"depredador\", \"desastre\", \"desgracia\", \"desierto\", \"destino\", \"destino\", \"destino\", \"dialogo\", \"dialogo\", \"dialogo\", \"dialogo\", \"dialogo\", \"diario\", \"diario\", \"direccion\", \"direccion\", \"direccion\", \"direccion\", \"discurso\", \"disney\", \"doctor\", \"dolar\", \"dolar\", \"dos_hora\", \"dos_hora\", \"drama\", \"drama\", \"droga\", \"duda\", \"duda_alguna\", \"duracion\", \"efecto\", \"efecto\", \"efectos_especial\", \"ejercito\", \"elegancia\", \"elemento\", \"elemento\", \"elemento\", \"elijah_wood\", \"entrega\", \"entretenimiento\", \"epoca\", \"epoca\", \"epoca\", \"escritor\", \"esencia\", \"esencia\", \"espacio\", \"espacio\", \"espacio\", \"espa\\u00f1a\", \"espa\\u00f1ol\", \"especialista\", \"especialista\", \"espectaculo\", \"espectaculo\", \"espia\", \"espia\", \"espiritu\", \"espiritu\", \"espiritu\", \"esposa\", \"estilo\", \"estilo\", \"estilo\", \"estilo\", \"estilo\", \"estreno\", \"estreno\", \"estructura\", \"estudiante\", \"estudiante\", \"estupido\", \"excepcion\", \"exceso\", \"exceso\", \"exceso\", \"exceso\", \"exceso\", \"exceso\", \"exito\", \"exito\", \"expectativa\", \"expiacion\", \"explicacion\", \"expresion\", \"familia\", \"fantasia\", \"favor\", \"favor\", \"festival\", \"filme\", \"filme\", \"filme\", \"filme\", \"filmografia\", \"filmografia\", \"filmografia\", \"filmografia\", \"flashback\", \"flashback\", \"fotografia\", \"fotografia\", \"fragmento\", \"frase\", \"frase\", \"frase\", \"frase\", \"frase\", \"frase\", \"frialdad\", \"fuerza\", \"fuerza\", \"fuerza\", \"fuerza\", \"fuerza\", \"gesto\", \"gobierno\", \"gracia\", \"grupo\", \"grupo\", \"grupo\", \"guerra\", \"guionista\", \"guionista\", \"guionista\", \"guionista\", \"guionista\", \"gui\\u00f3n\", \"gusto\", \"gusto\", \"gusto\", \"gusto\", \"gusto\", \"habilidad\", \"habitacion\", \"hacia_rutas_salvaj\", \"harry\", \"henry\", \"hermano\", \"hermano\", \"hija\", \"hijo\", \"homenaje\", \"homenaje\", \"homenaje\", \"homenaje\", \"homenaje\", \"honesta\", \"hong_kong\", \"hora\", \"hora\", \"hora\", \"hora\", \"horror\", \"hospital\", \"hotel\", \"humanidad\", \"humor\", \"humor_negro\", \"idea\", \"idea\", \"idea\", \"idea\", \"idea\", \"iglesia\", \"imagen\", \"imagen\", \"imagen\", \"imagen\", \"imagen\", \"indie\", \"infancia\", \"informacion\", \"inglaterra\", \"inglaterra\", \"inteligencia\", \"inteligencia\", \"interior\", \"interior\", \"interpret\", \"interpretacion\", \"interpretacion\", \"interpretacion\", \"interpretativo\", \"investigacion\", \"ironia\", \"italia\", \"italiano\", \"joe_wright\", \"john\", \"john\", \"john\", \"john\", \"john_hurt\", \"john_rambo\", \"joven\", \"joven\", \"joven\", \"joven\", \"joven\", \"juez\", \"julie\", \"julie_cox\", \"jungla\", \"juno\", \"laura\", \"lector\", \"lector\", \"lenguaje\", \"leone\", \"leonor_watling\", \"leyenda\", \"leyenda\", \"libertad\", \"libro\", \"literatura\", \"lugar\", \"lugar_duda\", \"lynch\", \"madre\", \"maestra\", \"maestra\", \"maestra\", \"maestra\", \"maestra\", \"mafia\", \"mago\", \"maquillaje\", \"marido\", \"martin\", \"material\", \"matiz\", \"matthew\", \"medem\", \"medio\", \"mediocre\", \"melodrama\", \"metafora\", \"metraje\", \"metraje\", \"metraje\", \"metraje\", \"michael_caine\", \"michael_clayton\", \"miedo\", \"miedo\", \"miedo\", \"miedo\", \"mierda\", \"militar\", \"mill\\u00f3n\", \"minuto\", \"minuto\", \"minuto\", \"mirada\", \"mirada\", \"misterio\", \"mitad\", \"mitad\", \"monstruo\", \"monstruo\", \"monstruo\", \"monstruoso\", \"montaje\", \"montaje\", \"montaje\", \"moral\", \"moral\", \"muerte\", \"muerte\", \"muerte\", \"muerte\", \"muerte\", \"muerte\", \"mujer\", \"mujer\", \"mujer\", \"mujer\", \"musica\", \"musica\", \"musica\", \"musica\", \"narracion\", \"narracion\", \"narrativa\", \"naturaleza\", \"necesidad\", \"negro\", \"negro\", \"negro\", \"negro\", \"neville\", \"niro\", \"nivel\", \"nivel\", \"nivel\", \"nivel\", \"ni\\u00f1a\", \"ni\\u00f1o\", \"ni\\u00f1o\", \"nombre\", \"nombre\", \"nombre\", \"nombre\", \"nombre\", \"nominaci\\u00f3n\", \"novela\", \"objeto\", \"objeto\", \"oeste\", \"orfanato\", \"oscar\", \"oscar\", \"oscars\", \"padre\", \"padrino\", \"pagina\", \"paisaje\", \"palabra\", \"palabra\", \"palabra\", \"palabra\", \"palabra\", \"pantalla\", \"pantalla\", \"pantalla\", \"pantalla\", \"pantalla\", \"pareja\", \"pareja\", \"pareja\", \"pari\", \"parodia\", \"partido\", \"pasion\", \"pasion\", \"paso\", \"paso\", \"paso\", \"paso\", \"paso\", \"pelea\", \"penn\", \"perfeccion\", \"perfeccion\", \"perfeccion\", \"periodista\", \"periodista\", \"periodo\", \"persona\", \"persona\", \"persona\", \"persona\", \"persona\", \"personalidad\", \"personalidad\", \"personalidad\", \"personalidad\", \"pese\", \"pese\", \"pese\", \"pese\", \"peter\", \"peter\", \"planet_terror\", \"planeta\", \"planeta\", \"planeta\", \"plano\", \"plano\", \"plano\", \"plano\", \"plano\", \"plano_secuencia\", \"pleno\", \"policia\", \"predator\", \"premio\", \"premio\", \"presupuesto\", \"primeros_minuto\", \"principio\", \"principio\", \"principio\", \"principio\", \"principio\", \"problema\", \"problema\", \"problema\", \"problema\", \"problema\", \"proceso\", \"producci\\u00f3n\", \"producto\", \"profesor\", \"profesora\", \"programa\", \"programa\", \"propuesta\", \"propuesta\", \"propuesta\", \"propuesta\", \"propuesta\", \"pueblo\", \"puesta\", \"puesta\", \"puesta\", \"puesto\", \"puesto\", \"punto\", \"punto\", \"punto\", \"punto\", \"punto\", \"punto\", \"punto_vista\", \"punto_vista\", \"punto_vista\", \"punto_vista\", \"quedo\", \"rambo\", \"rato\", \"rato\", \"rato\", \"raza\", \"raz\\u00f3n\", \"real\", \"realidad\", \"realidad\", \"realidad\", \"realidad\", \"reconocimiento\", \"reflexion\", \"reina\", \"relacion\", \"relacion\", \"relacion\", \"relaci\\u00f3n\", \"relato\", \"relato\", \"reloj\", \"reparto\", \"reparto\", \"reparto\", \"responsable\", \"responsable\", \"resto\", \"resto\", \"resto\", \"resto\", \"resultado\", \"resultado\", \"resultado\", \"retrato\", \"rienda_suelta\", \"risa\", \"ritmo\", \"ritmo\", \"ritmo\", \"ritmo\", \"rojo\", \"rollo\", \"rostro\", \"rostro\", \"rostro\", \"rostro\", \"sabia\", \"sabiduria\", \"saga\", \"sangre\", \"sangre\", \"sangre\", \"scorsese\", \"scott\", \"scott\", \"secuela\", \"secuencia\", \"secuencia\", \"secuencia\", \"secuencia\", \"secundaria\", \"secundario\", \"secundario\", \"seguridad\", \"seguridad\", \"semana\", \"sensacion\", \"sensacion\", \"sensacion\", \"sensacion\", \"sentimiento\", \"sentimiento\", \"sentimiento\", \"serie\", \"serie\", \"servicio\", \"servidor\", \"shane_meadows\", \"significado\", \"silencio\", \"situacion\", \"situacion\", \"situacion\", \"situacion\", \"situaci\\u00f3n\", \"situaci\\u00f3n\", \"situaci\\u00f3n\", \"sociedad\", \"sociedad\", \"soldado\", \"soledad\", \"soledad\", \"sonido\", \"sorpresa\", \"spielberg\", \"sucesion\", \"suceso\", \"suerte\", \"suerte\", \"suerte\", \"suerte\", \"sweeney_todd\", \"tal_vez\", \"talento\", \"talento\", \"talento\", \"taquilla\", \"tema\", \"tema\", \"tema\", \"tema\", \"tema\", \"tendencia\", \"tendencia\", \"tension\", \"tension\", \"termino\", \"termino\", \"termino\", \"termino\", \"termino\", \"terror\", \"terror\", \"terror\", \"testimonio\", \"this_is_england\", \"thriller\", \"thriller\", \"tim_burton\", \"tiro\", \"titulo\", \"titulo\", \"titulo\", \"titulo\", \"titulo\", \"toma\", \"tommy_lee_j\\u00f3n\", \"tono\", \"tono\", \"tono\", \"tonto\", \"tortura\", \"trailer\", \"trama\", \"trama\", \"trama\", \"trama\", \"trav\", \"trav\", \"trav\", \"trav\", \"tren\", \"truco\", \"truco\", \"truco\", \"turno\", \"universo\", \"universo\", \"valor\", \"valor\", \"vampiro\", \"verano\", \"version\", \"version\", \"vertigo\", \"vestuario\", \"veterano\", \"viaje\", \"viaje\", \"victima\", \"victima\", \"videojuego\", \"villano\", \"violencia\", \"violencia\", \"viva\", \"western\", \"wilder\", \"will_smith\", \"woody_allen\", \"wright\", \"zombi\", \"zona\"]}, \"R\": 30, \"lambda.step\": 0.01, \"plot.opts\": {\"xlab\": \"PC1\", \"ylab\": \"PC2\"}, \"topic.order\": [2, 1, 5, 8, 4, 7, 9, 6, 3]};\n",
       "\n",
       "function LDAvis_load_lib(url, callback){\n",
       "  var s = document.createElement('script');\n",
       "  s.src = url;\n",
       "  s.async = true;\n",
       "  s.onreadystatechange = s.onload = callback;\n",
       "  s.onerror = function(){console.warn(\"failed to load library \" + url);};\n",
       "  document.getElementsByTagName(\"head\")[0].appendChild(s);\n",
       "}\n",
       "\n",
       "if(typeof(LDAvis) !== \"undefined\"){\n",
       "   // already loaded: just create the visualization\n",
       "   !function(LDAvis){\n",
       "       new LDAvis(\"#\" + \"ldavis_el131042342912985120811034223\", ldavis_el131042342912985120811034223_data);\n",
       "   }(LDAvis);\n",
       "}else if(typeof define === \"function\" && define.amd){\n",
       "   // require.js is available: use it to load d3/LDAvis\n",
       "   require.config({paths: {d3: \"https://d3js.org/d3.v5\"}});\n",
       "   require([\"d3\"], function(d3){\n",
       "      window.d3 = d3;\n",
       "      LDAvis_load_lib(\"https://cdn.jsdelivr.net/gh/bmabey/pyLDAvis@3.3.1/pyLDAvis/js/ldavis.v3.0.0.js\", function(){\n",
       "        new LDAvis(\"#\" + \"ldavis_el131042342912985120811034223\", ldavis_el131042342912985120811034223_data);\n",
       "      });\n",
       "    });\n",
       "}else{\n",
       "    // require.js not available: dynamically load d3 & LDAvis\n",
       "    LDAvis_load_lib(\"https://d3js.org/d3.v5.js\", function(){\n",
       "         LDAvis_load_lib(\"https://cdn.jsdelivr.net/gh/bmabey/pyLDAvis@3.3.1/pyLDAvis/js/ldavis.v3.0.0.js\", function(){\n",
       "                 new LDAvis(\"#\" + \"ldavis_el131042342912985120811034223\", ldavis_el131042342912985120811034223_data);\n",
       "            })\n",
       "         });\n",
       "}\n",
       "</script>"
      ],
      "text/plain": [
       "<IPython.core.display.HTML object>"
      ]
     },
     "execution_count": 120,
     "metadata": {},
     "output_type": "execute_result"
    }
   ],
   "source": [
    "# Crea corpus (BoW)\n",
    "corpus = [new_corpus_bow.diccionario.doc2bow(text) for text in new_textos_lemas_trigramas]\n",
    "\n",
    "# Aplica el modelo LDA\n",
    "#ldamodel = LdaModel(corpus=corpus, num_topics=9, id2word=new_corpus_bow.diccionario), random_state=100)\n",
    "ldamodel = LdaModel(corpus=corpus, num_topics=9, id2word=new_corpus_bow.diccionario, \n",
    "                    random_state=100,\n",
    "                    update_every=1,\n",
    "                    chunksize=100, \n",
    "                    passes=10,\n",
    "                    alpha='auto')\n",
    "\n",
    "# Representa gráficamente\n",
    "vis_data = gensimvis.prepare(ldamodel, corpus, new_corpus_bow.diccionario)\n",
    "pyLDAvis.display(vis_data)"
   ]
  },
  {
   "cell_type": "markdown",
   "id": "df1785ef-6a2d-48a6-8a37-a2295b7b7187",
   "metadata": {},
   "source": [
    "Aquí la división no es tan clara como para K = 5, por lo que preferimos esas temáticas sobre estas.\n",
    "**No se analizarán en detalle, pero se generarán los resultados para compararlos a alto nivel sobre los anteriores.**"
   ]
  },
  {
   "cell_type": "markdown",
   "id": "8a0433cc-7cb9-4380-b344-d7166e38b65e",
   "metadata": {
    "id": "DjXk7WvDr4OX"
   },
   "source": [
    "### Determinar el tema dominante en cada documento  "
   ]
  },
  {
   "cell_type": "code",
   "execution_count": 122,
   "id": "9ea115bb-5f07-43f7-a62f-359bd4134808",
   "metadata": {
    "id": "Xn3KJ0S5r4OZ"
   },
   "outputs": [
    {
     "data": {
      "text/html": [
       "<div>\n",
       "<style scoped>\n",
       "    .dataframe tbody tr th:only-of-type {\n",
       "        vertical-align: middle;\n",
       "    }\n",
       "\n",
       "    .dataframe tbody tr th {\n",
       "        vertical-align: top;\n",
       "    }\n",
       "\n",
       "    .dataframe thead th {\n",
       "        text-align: right;\n",
       "    }\n",
       "</style>\n",
       "<table border=\"1\" class=\"dataframe\">\n",
       "  <thead>\n",
       "    <tr style=\"text-align: right;\">\n",
       "      <th></th>\n",
       "      <th>No_doc</th>\n",
       "      <th>Tema_dominante</th>\n",
       "      <th>Contribucion_per</th>\n",
       "      <th>Palabras_clave</th>\n",
       "    </tr>\n",
       "  </thead>\n",
       "  <tbody>\n",
       "    <tr>\n",
       "      <th>0</th>\n",
       "      <td>0</td>\n",
       "      <td>4</td>\n",
       "      <td>0.2632</td>\n",
       "      <td>mujer, niño, padre, hijo, familia, joven, amor...</td>\n",
       "    </tr>\n",
       "    <tr>\n",
       "      <th>1</th>\n",
       "      <td>1</td>\n",
       "      <td>4</td>\n",
       "      <td>0.3244</td>\n",
       "      <td>mujer, niño, padre, hijo, familia, joven, amor...</td>\n",
       "    </tr>\n",
       "    <tr>\n",
       "      <th>2</th>\n",
       "      <td>2</td>\n",
       "      <td>1</td>\n",
       "      <td>0.4028</td>\n",
       "      <td>serie, producto, pantalla, resultado, trama, h...</td>\n",
       "    </tr>\n",
       "    <tr>\n",
       "      <th>3</th>\n",
       "      <td>3</td>\n",
       "      <td>4</td>\n",
       "      <td>0.4098</td>\n",
       "      <td>mujer, niño, padre, hijo, familia, joven, amor...</td>\n",
       "    </tr>\n",
       "    <tr>\n",
       "      <th>4</th>\n",
       "      <td>4</td>\n",
       "      <td>0</td>\n",
       "      <td>0.2719</td>\n",
       "      <td>comedia, humor, chica, gusto, pantalla, dialog...</td>\n",
       "    </tr>\n",
       "    <tr>\n",
       "      <th>5</th>\n",
       "      <td>5</td>\n",
       "      <td>1</td>\n",
       "      <td>0.2071</td>\n",
       "      <td>serie, producto, pantalla, resultado, trama, h...</td>\n",
       "    </tr>\n",
       "    <tr>\n",
       "      <th>6</th>\n",
       "      <td>6</td>\n",
       "      <td>0</td>\n",
       "      <td>0.3142</td>\n",
       "      <td>comedia, humor, chica, gusto, pantalla, dialog...</td>\n",
       "    </tr>\n",
       "    <tr>\n",
       "      <th>7</th>\n",
       "      <td>7</td>\n",
       "      <td>1</td>\n",
       "      <td>0.4237</td>\n",
       "      <td>serie, producto, pantalla, resultado, trama, h...</td>\n",
       "    </tr>\n",
       "    <tr>\n",
       "      <th>8</th>\n",
       "      <td>8</td>\n",
       "      <td>7</td>\n",
       "      <td>0.4907</td>\n",
       "      <td>filme, actriz, fotografia, epoca, interpretaci...</td>\n",
       "    </tr>\n",
       "    <tr>\n",
       "      <th>9</th>\n",
       "      <td>9</td>\n",
       "      <td>6</td>\n",
       "      <td>0.1886</td>\n",
       "      <td>guerra, grupo, policia, violencia, terror, cam...</td>\n",
       "    </tr>\n",
       "  </tbody>\n",
       "</table>\n",
       "</div>"
      ],
      "text/plain": [
       "   No_doc  Tema_dominante  Contribucion_per  \\\n",
       "0       0               4            0.2632   \n",
       "1       1               4            0.3244   \n",
       "2       2               1            0.4028   \n",
       "3       3               4            0.4098   \n",
       "4       4               0            0.2719   \n",
       "5       5               1            0.2071   \n",
       "6       6               0            0.3142   \n",
       "7       7               1            0.4237   \n",
       "8       8               7            0.4907   \n",
       "9       9               6            0.1886   \n",
       "\n",
       "                                      Palabras_clave  \n",
       "0  mujer, niño, padre, hijo, familia, joven, amor...  \n",
       "1  mujer, niño, padre, hijo, familia, joven, amor...  \n",
       "2  serie, producto, pantalla, resultado, trama, h...  \n",
       "3  mujer, niño, padre, hijo, familia, joven, amor...  \n",
       "4  comedia, humor, chica, gusto, pantalla, dialog...  \n",
       "5  serie, producto, pantalla, resultado, trama, h...  \n",
       "6  comedia, humor, chica, gusto, pantalla, dialog...  \n",
       "7  serie, producto, pantalla, resultado, trama, h...  \n",
       "8  filme, actriz, fotografia, epoca, interpretaci...  \n",
       "9  guerra, grupo, policia, violencia, terror, cam...  "
      ]
     },
     "execution_count": 122,
     "metadata": {},
     "output_type": "execute_result"
    }
   ],
   "source": [
    "df_topic_sents_keywords = format_topics_sentences(ldamodel=ldamodel, corpus=new_corpus_bow)\n",
    "\n",
    "# Manera mas elegante de mostrar la informacion\n",
    "df_topic_sents_keywords.head(10)"
   ]
  },
  {
   "cell_type": "markdown",
   "id": "e0eddafc-158d-47c7-927a-928a118d83ab",
   "metadata": {
    "id": "owySHyY2r4OZ"
   },
   "source": [
    "### Determinar el documento más representativo de cada tema"
   ]
  },
  {
   "cell_type": "code",
   "execution_count": 124,
   "id": "bb3624ec-870d-4ac0-aa56-e1973f9cf29a",
   "metadata": {
    "id": "W25Pz3p8r4Oa"
   },
   "outputs": [
    {
     "data": {
      "text/html": [
       "<div>\n",
       "<style scoped>\n",
       "    .dataframe tbody tr th:only-of-type {\n",
       "        vertical-align: middle;\n",
       "    }\n",
       "\n",
       "    .dataframe tbody tr th {\n",
       "        vertical-align: top;\n",
       "    }\n",
       "\n",
       "    .dataframe thead th {\n",
       "        text-align: right;\n",
       "    }\n",
       "</style>\n",
       "<table border=\"1\" class=\"dataframe\">\n",
       "  <thead>\n",
       "    <tr style=\"text-align: right;\">\n",
       "      <th></th>\n",
       "      <th>No_doc</th>\n",
       "      <th>Tema_dominante</th>\n",
       "      <th>Contribucion_per</th>\n",
       "      <th>Palabras_clave</th>\n",
       "    </tr>\n",
       "  </thead>\n",
       "  <tbody>\n",
       "    <tr>\n",
       "      <th>0</th>\n",
       "      <td>2677</td>\n",
       "      <td>0</td>\n",
       "      <td>0.5717</td>\n",
       "      <td>comedia, humor, chica, gusto, pantalla, dialog...</td>\n",
       "    </tr>\n",
       "    <tr>\n",
       "      <th>1</th>\n",
       "      <td>1006</td>\n",
       "      <td>1</td>\n",
       "      <td>0.6692</td>\n",
       "      <td>serie, producto, pantalla, resultado, trama, h...</td>\n",
       "    </tr>\n",
       "    <tr>\n",
       "      <th>2</th>\n",
       "      <td>786</td>\n",
       "      <td>2</td>\n",
       "      <td>0.2482</td>\n",
       "      <td>profesor, john_hurt, tommy_lee_jón, colaboraci...</td>\n",
       "    </tr>\n",
       "    <tr>\n",
       "      <th>3</th>\n",
       "      <td>59</td>\n",
       "      <td>3</td>\n",
       "      <td>0.7290</td>\n",
       "      <td>imagen, relato, mirada, elemento, idea, narrac...</td>\n",
       "    </tr>\n",
       "    <tr>\n",
       "      <th>4</th>\n",
       "      <td>871</td>\n",
       "      <td>4</td>\n",
       "      <td>0.5252</td>\n",
       "      <td>mujer, niño, padre, hijo, familia, joven, amor...</td>\n",
       "    </tr>\n",
       "    <tr>\n",
       "      <th>5</th>\n",
       "      <td>383</td>\n",
       "      <td>5</td>\n",
       "      <td>0.2749</td>\n",
       "      <td>leone, tim_burton, sonido, orfanato, sweeney_t...</td>\n",
       "    </tr>\n",
       "    <tr>\n",
       "      <th>6</th>\n",
       "      <td>49</td>\n",
       "      <td>6</td>\n",
       "      <td>0.5192</td>\n",
       "      <td>guerra, grupo, policia, violencia, terror, cam...</td>\n",
       "    </tr>\n",
       "    <tr>\n",
       "      <th>7</th>\n",
       "      <td>95</td>\n",
       "      <td>7</td>\n",
       "      <td>0.5850</td>\n",
       "      <td>filme, actriz, fotografia, epoca, interpretaci...</td>\n",
       "    </tr>\n",
       "    <tr>\n",
       "      <th>8</th>\n",
       "      <td>13</td>\n",
       "      <td>8</td>\n",
       "      <td>0.3544</td>\n",
       "      <td>novela, libro, western, escritor, laura, igles...</td>\n",
       "    </tr>\n",
       "  </tbody>\n",
       "</table>\n",
       "</div>"
      ],
      "text/plain": [
       "   No_doc  Tema_dominante  Contribucion_per  \\\n",
       "0    2677               0            0.5717   \n",
       "1    1006               1            0.6692   \n",
       "2     786               2            0.2482   \n",
       "3      59               3            0.7290   \n",
       "4     871               4            0.5252   \n",
       "5     383               5            0.2749   \n",
       "6      49               6            0.5192   \n",
       "7      95               7            0.5850   \n",
       "8      13               8            0.3544   \n",
       "\n",
       "                                      Palabras_clave  \n",
       "0  comedia, humor, chica, gusto, pantalla, dialog...  \n",
       "1  serie, producto, pantalla, resultado, trama, h...  \n",
       "2  profesor, john_hurt, tommy_lee_jón, colaboraci...  \n",
       "3  imagen, relato, mirada, elemento, idea, narrac...  \n",
       "4  mujer, niño, padre, hijo, familia, joven, amor...  \n",
       "5  leone, tim_burton, sonido, orfanato, sweeney_t...  \n",
       "6  guerra, grupo, policia, violencia, terror, cam...  \n",
       "7  filme, actriz, fotografia, epoca, interpretaci...  \n",
       "8  novela, libro, western, escritor, laura, igles...  "
      ]
     },
     "execution_count": 124,
     "metadata": {},
     "output_type": "execute_result"
    }
   ],
   "source": [
    "# Agrupamos documentos por tema\n",
    "sent_topics_sorted = pd.DataFrame()\n",
    "\n",
    "sent_topics_outdf_grpd = df_topic_sents_keywords.groupby('Tema_dominante')\n",
    "\n",
    "for i, grp in sent_topics_outdf_grpd:\n",
    "    sent_topics_sorted = pd.concat([sent_topics_sorted, \n",
    "                                    grp.sort_values(['Contribucion_per'], \n",
    "                                    ascending=[0]).head(1)], axis=0)\n",
    "\n",
    "# Reset Index    \n",
    "sent_topics_sorted.reset_index(drop=True, inplace=True)\n",
    "\n",
    "# cambiamos nombre de columna\n",
    "sent_topics_sorted.columns = df_topic_sents_keywords.columns\n",
    "\n",
    "# Mostramos\n",
    "sent_topics_sorted"
   ]
  },
  {
   "cell_type": "markdown",
   "id": "faf7c5de-4099-44ad-ae54-41e6536d61b6",
   "metadata": {
    "id": "N5noP5odr4Oa"
   },
   "source": [
    "### Distribución de temas entre documentos"
   ]
  },
  {
   "cell_type": "code",
   "execution_count": 125,
   "id": "f09152ac-07c5-4268-a8ed-b5bdd5a8b2fe",
   "metadata": {
    "id": "haGCYHIBr4Ob"
   },
   "outputs": [
    {
     "data": {
      "text/html": [
       "<div>\n",
       "<style scoped>\n",
       "    .dataframe tbody tr th:only-of-type {\n",
       "        vertical-align: middle;\n",
       "    }\n",
       "\n",
       "    .dataframe tbody tr th {\n",
       "        vertical-align: top;\n",
       "    }\n",
       "\n",
       "    .dataframe thead th {\n",
       "        text-align: right;\n",
       "    }\n",
       "</style>\n",
       "<table border=\"1\" class=\"dataframe\">\n",
       "  <thead>\n",
       "    <tr style=\"text-align: right;\">\n",
       "      <th></th>\n",
       "      <th>Tema_dominante</th>\n",
       "      <th>Palabras_clave</th>\n",
       "      <th>Num_Documentos</th>\n",
       "      <th>Porcent_Documentos</th>\n",
       "    </tr>\n",
       "  </thead>\n",
       "  <tbody>\n",
       "    <tr>\n",
       "      <th>0</th>\n",
       "      <td>0</td>\n",
       "      <td>comedia, humor, chica, gusto, pantalla, dialog...</td>\n",
       "      <td>950</td>\n",
       "      <td>0.2450</td>\n",
       "    </tr>\n",
       "    <tr>\n",
       "      <th>1</th>\n",
       "      <td>1</td>\n",
       "      <td>serie, producto, pantalla, resultado, trama, h...</td>\n",
       "      <td>1204</td>\n",
       "      <td>0.3105</td>\n",
       "    </tr>\n",
       "    <tr>\n",
       "      <th>2</th>\n",
       "      <td>2</td>\n",
       "      <td>profesor, john_hurt, tommy_lee_jón, colaboraci...</td>\n",
       "      <td>6</td>\n",
       "      <td>0.0015</td>\n",
       "    </tr>\n",
       "    <tr>\n",
       "      <th>3</th>\n",
       "      <td>3</td>\n",
       "      <td>imagen, relato, mirada, elemento, idea, narrac...</td>\n",
       "      <td>291</td>\n",
       "      <td>0.0750</td>\n",
       "    </tr>\n",
       "    <tr>\n",
       "      <th>4</th>\n",
       "      <td>4</td>\n",
       "      <td>mujer, niño, padre, hijo, familia, joven, amor...</td>\n",
       "      <td>622</td>\n",
       "      <td>0.1604</td>\n",
       "    </tr>\n",
       "    <tr>\n",
       "      <th>5</th>\n",
       "      <td>5</td>\n",
       "      <td>leone, tim_burton, sonido, orfanato, sweeney_t...</td>\n",
       "      <td>22</td>\n",
       "      <td>0.0057</td>\n",
       "    </tr>\n",
       "    <tr>\n",
       "      <th>6</th>\n",
       "      <td>6</td>\n",
       "      <td>guerra, grupo, policia, violencia, terror, cam...</td>\n",
       "      <td>342</td>\n",
       "      <td>0.0882</td>\n",
       "    </tr>\n",
       "    <tr>\n",
       "      <th>7</th>\n",
       "      <td>7</td>\n",
       "      <td>filme, actriz, fotografia, epoca, interpretaci...</td>\n",
       "      <td>381</td>\n",
       "      <td>0.0982</td>\n",
       "    </tr>\n",
       "    <tr>\n",
       "      <th>8</th>\n",
       "      <td>8</td>\n",
       "      <td>novela, libro, western, escritor, laura, igles...</td>\n",
       "      <td>60</td>\n",
       "      <td>0.0155</td>\n",
       "    </tr>\n",
       "  </tbody>\n",
       "</table>\n",
       "</div>"
      ],
      "text/plain": [
       "   Tema_dominante                                     Palabras_clave  \\\n",
       "0               0  comedia, humor, chica, gusto, pantalla, dialog...   \n",
       "1               1  serie, producto, pantalla, resultado, trama, h...   \n",
       "2               2  profesor, john_hurt, tommy_lee_jón, colaboraci...   \n",
       "3               3  imagen, relato, mirada, elemento, idea, narrac...   \n",
       "4               4  mujer, niño, padre, hijo, familia, joven, amor...   \n",
       "5               5  leone, tim_burton, sonido, orfanato, sweeney_t...   \n",
       "6               6  guerra, grupo, policia, violencia, terror, cam...   \n",
       "7               7  filme, actriz, fotografia, epoca, interpretaci...   \n",
       "8               8  novela, libro, western, escritor, laura, igles...   \n",
       "\n",
       "   Num_Documentos  Porcent_Documentos  \n",
       "0             950              0.2450  \n",
       "1            1204              0.3105  \n",
       "2               6              0.0015  \n",
       "3             291              0.0750  \n",
       "4             622              0.1604  \n",
       "5              22              0.0057  \n",
       "6             342              0.0882  \n",
       "7             381              0.0982  \n",
       "8              60              0.0155  "
      ]
     },
     "execution_count": 125,
     "metadata": {},
     "output_type": "execute_result"
    }
   ],
   "source": [
    "# núm de documentos por cada tema\n",
    "topic_counts = df_topic_sents_keywords['Tema_dominante'].value_counts()\n",
    "\n",
    "# porcentaje de documentos por cada tema\n",
    "topic_contribution = round(topic_counts/topic_counts.sum(), 4)\n",
    "\n",
    "# palabras clave de cada tema\n",
    "topic_num_keywords = sent_topics_sorted[['Tema_dominante', 'Palabras_clave']]\n",
    "\n",
    "# Concatenamos por columna\n",
    "df_dominant_topics = pd.concat([topic_num_keywords, topic_counts, topic_contribution], axis=1)\n",
    "\n",
    "# cambiamos nombre de columna\n",
    "df_dominant_topics.columns = ['Tema_dominante', 'Palabras_clave', 'Num_Documentos', 'Porcent_Documentos']\n",
    "\n",
    "# Show\n",
    "df_dominant_topics"
   ]
  },
  {
   "cell_type": "markdown",
   "id": "b28cce44-7395-4293-9514-cc24fa1f664b",
   "metadata": {
    "id": "7bfk-QhiG6I1"
   },
   "source": [
    "Como se puede ver en los resultados de cada sub-apartado, la división no es tan clara como para K = 5, por lo que preferimos esas temáticas sobre estas."
   ]
  },
  {
   "cell_type": "markdown",
   "id": "de85bb0c-cafa-4003-8883-42378a7f9d71",
   "metadata": {},
   "source": [
    "## Probamos para K = 4\n",
    "Como ya se ha mencionado anteriormente, y para satisfacer la curiosidad, pese a ser un número de temáticas fuera del rango propuesto, vamos a ver cómo iría para 4 temáticas y **comprobar si nuestra intuición es correcta**.\n",
    "\n",
    "Recalculamos para K = 4 temáticas"
   ]
  },
  {
   "cell_type": "code",
   "execution_count": 126,
   "id": "80fb73f2-206b-42f6-844f-6b0d28c443b1",
   "metadata": {
    "id": "VdtGFyv_r4OS"
   },
   "outputs": [
    {
     "data": {
      "text/html": [
       "\n",
       "<link rel=\"stylesheet\" type=\"text/css\" href=\"https://cdn.jsdelivr.net/gh/bmabey/pyLDAvis@3.3.1/pyLDAvis/js/ldavis.v1.0.0.css\">\n",
       "\n",
       "\n",
       "<div id=\"ldavis_el1310423429554851043468597638\"></div>\n",
       "<script type=\"text/javascript\">\n",
       "\n",
       "var ldavis_el1310423429554851043468597638_data = {\"mdsDat\": {\"x\": [-0.06882019004872493, -0.10369331594287501, -0.13643511040530806, 0.30894861639690796], \"y\": [-0.2660297465502068, 0.026521333698632053, 0.20107139093441323, 0.0384370219171617], \"topics\": [1, 2, 3, 4], \"cluster\": [1, 1, 1, 1], \"Freq\": [30.047854595519468, 29.779087627563584, 28.033819317334647, 12.139238459582304]}, \"tinfo\": {\"Term\": [\"comedia\", \"policia\", \"terror\", \"ni\\u00f1o\", \"casa\", \"asesino\", \"humor\", \"relato\", \"imagen\", \"guerra\", \"serie\", \"actriz\", \"leone\", \"monstruo\", \"mujer\", \"mirada\", \"amigo\", \"padre\", \"thriller\", \"narracion\", \"saga\", \"sociedad\", \"cineasta\", \"espa\\u00f1ol\", \"negro\", \"trama\", \"crimen\", \"chica\", \"asesinato\", \"cosa\", \"relato\", \"guerra\", \"mirada\", \"narracion\", \"sentimiento\", \"discurso\", \"social\", \"soldado\", \"espacio\", \"narrativa\", \"retrato\", \"politica\", \"necesidad\", \"conflicto\", \"naturaleza\", \"conciencia\", \"libertad\", \"laura\", \"militar\", \"significado\", \"emoci\\u00f3n\", \"estructura\", \"entorno\", \"terreno\", \"soledad\", \"cultura\", \"expresion\", \"material\", \"lynch\", \"silencio\", \"sociedad\", \"cineasta\", \"arte\", \"alma\", \"imagen\", \"vision\", \"trav\", \"realidad\", \"acto\", \"conjunto\", \"elemento\", \"amor\", \"capacidad\", \"violencia\", \"tono\", \"puesta\", \"fotografia\", \"plano\", \"epoca\", \"camara\", \"muerte\", \"filme\", \"pueblo\", \"idea\", \"desarrollo\", \"secuencia\", \"persona\", \"palabra\", \"situacion\", \"punto\", \"terror\", \"monstruo\", \"saga\", \"efectos_especial\", \"secuela\", \"alien\", \"rambo\", \"sangre\", \"duracion\", \"entrega\", \"presupuesto\", \"vampiro\", \"entretenimiento\", \"flashback\", \"gore\", \"remake\", \"mediocre\", \"sonido\", \"comic\", \"will_smith\", \"cloverfield\", \"carisma\", \"scott\", \"monstruoso\", \"depredador\", \"aficionado\", \"expectativa\", \"villano\", \"raza\", \"comics\", \"combate\", \"producci\\u00f3n\", \"leyenda\", \"serie\", \"version\", \"adaptacion\", \"resultado\", \"trilogia\", \"aventura\", \"hora\", \"efecto\", \"producto\", \"pantalla\", \"metraje\", \"calidad\", \"pese\", \"direccion\", \"exito\", \"trama\", \"cosa\", \"minuto\", \"nombre\", \"plano\", \"novela\", \"ritmo\", \"resto\", \"estilo\", \"principio\", \"argumento\", \"aspecto\", \"gracias\", \"sensacion\", \"idea\", \"comedia\", \"humor\", \"gracia\", \"animacion\", \"chiste\", \"risa\", \"juno\", \"adulto\", \"danny\", \"tim_burton\", \"servidor\", \"besito\", \"mago\", \"boca\", \"hotel\", \"canci\\u00f3n\", \"disney\", \"comico\", \"penn\", \"chaval\", \"cuidado\", \"parodia\", \"orfanato\", \"pari\", \"corto\", \"amiga\", \"burton\", \"casa\", \"mierda\", \"encanto\", \"ni\\u00f1o\", \"actriz\", \"espa\\u00f1ol\", \"fiesta\", \"amigo\", \"chica\", \"padre\", \"adolescente\", \"mujer\", \"pareja\", \"madre\", \"espa\\u00f1a\", \"ni\\u00f1a\", \"hermano\", \"chico\", \"tal_vez\", \"hijo\", \"joven\", \"gente\", \"familia\", \"gusto\", \"musica\", \"titulo\", \"cosa\", \"libro\", \"situaci\\u00f3n\", \"cara\", \"dialogo\", \"pantalla\", \"policia\", \"asesino\", \"thriller\", \"crimen\", \"negro\", \"leone\", \"asesinato\", \"agente\", \"periodista\", \"espia\", \"jefe\", \"mafioso\", \"pista\", \"mafia\", \"inglaterra\", \"leonor_watling\", \"sweeney_todd\", \"banda\", \"wilder\", \"investigacion\", \"allen\", \"huston\", \"john_hurt\", \"woody_allen\", \"ambicion\", \"jesus\", \"gangster\", \"coen\", \"plano_secuencia\", \"alumno\", \"crimenes_oxford\", \"tren\", \"american_gangster\", \"affleck\", \"profesor\", \"elijah_wood\", \"habitacion\", \"cadaver\", \"seguridad\", \"droga\", \"calle\", \"trama\", \"nueva_york\", \"carrera\", \"persona\", \"ciudad\", \"italiano\", \"cuerpo\", \"dialogo\", \"principio\", \"muerte\", \"camara\"], \"Freq\": [936.0, 442.0, 763.0, 712.0, 685.0, 381.0, 617.0, 601.0, 925.0, 597.0, 798.0, 590.0, 294.0, 509.0, 1002.0, 490.0, 690.0, 687.0, 249.0, 434.0, 429.0, 453.0, 480.0, 448.0, 239.0, 915.0, 235.0, 511.0, 219.0, 818.0, 600.4374373077526, 596.8540745266931, 490.1756288576143, 433.6617593764519, 274.08040308510147, 241.3525744270338, 234.57847277576317, 238.28455797136306, 236.44514875807644, 214.09667259088928, 215.22091089611328, 202.01821839143207, 205.39699258911003, 203.7708657116482, 194.94795835516132, 179.4811800026907, 182.69930638849033, 195.31764041928415, 168.30913731112827, 157.54825861611698, 151.8507333090744, 149.65045653066997, 150.37724106257724, 148.1808611050281, 145.38382188776035, 144.3326462293325, 139.8437720511111, 140.5452217589791, 138.24353982265652, 135.06596232767197, 449.6941804857445, 470.65872542434465, 234.78194170920878, 234.2042901579765, 801.2236016913116, 341.9556458665914, 421.6245565932597, 670.9817059971748, 242.56280623811736, 250.7466130204205, 497.24009305892287, 502.27961546639364, 303.2913015249718, 349.00897943030213, 328.8221740726519, 324.28919446852495, 406.92605568208484, 468.99975548209704, 323.95525338666897, 397.2535974713096, 357.05432283720154, 350.04430435826515, 300.049190481232, 357.0915347321293, 282.55604333010336, 315.417703086389, 336.00769219055724, 283.9086682683264, 285.8587691478228, 280.92892852622754, 762.9065801042781, 508.936261907972, 429.10872258141063, 314.55732916588755, 278.91813492327225, 279.2459559381308, 318.8970249354924, 319.05946680825633, 291.1164403933318, 249.81699760512282, 233.1155971604682, 225.66820516631384, 220.9677909653464, 208.61979354717337, 186.54967397738633, 179.52769649129732, 181.6280507594901, 183.83413584481332, 155.1311399450548, 146.8724306466554, 200.2975522010281, 148.38572268461567, 130.3915212197599, 124.20120434772495, 113.11321932100205, 112.16229469334563, 110.46855640950169, 111.12588464939007, 106.03619523190038, 93.55336627267215, 96.72428993925915, 302.6678938841158, 287.4543835370984, 743.5250410618733, 310.41582292467893, 270.47320274930547, 531.2072036697776, 176.17160519034692, 335.3082666853735, 434.85941726483975, 315.6849794982754, 426.99606441835476, 626.8933864761345, 436.84318369815367, 310.286604831678, 333.56585676084205, 374.9014388405941, 357.7281823961229, 466.8057242020245, 432.13058526885146, 377.9266086757258, 377.3713124693663, 444.562588589883, 354.25145635588245, 375.6797064254809, 369.25609421716, 347.61133476156186, 376.8892956934204, 338.9713243889343, 334.7203994257689, 324.9296757171197, 322.41987698300045, 321.345445619375, 935.4471910280416, 616.8131558325475, 326.56023316934215, 226.40102140248695, 228.69091297478153, 221.17399435653547, 332.77098901575664, 202.38358219189897, 228.45548824686193, 193.89458925989481, 224.85902425469698, 150.25252037718187, 153.52240271158504, 157.86188631659243, 156.2016340211912, 148.4978851736326, 141.68476236851035, 139.28343628845116, 190.34031901573007, 128.103885278567, 131.31059988538152, 128.96410519532068, 163.02543839892616, 120.55231043623533, 123.95874894438482, 136.84098154529275, 125.73692866896623, 681.7695296531762, 108.55365793149576, 112.51327491008966, 708.23983890831, 576.2280956808562, 433.43314616229384, 163.61542374566005, 601.5722415124234, 453.3654317527863, 560.1895146995087, 357.12227089559474, 755.1598601917913, 343.6268668689548, 367.7175716312887, 287.62371962034223, 228.79987935311215, 331.67231297559596, 196.1005439490317, 313.77093946724534, 410.4659830760779, 581.5311943676196, 335.71875485602135, 385.0049646590306, 312.4996787083227, 365.7149662286305, 358.51876105998986, 385.6266055579656, 294.86045946242575, 291.66696624606465, 299.93018166146385, 329.49786022064563, 343.9426645420941, 441.8061720205672, 380.60038048774567, 248.93063438979073, 234.36232404679822, 238.6097146115501, 293.70937333061886, 218.43259165991998, 199.25844627419153, 147.05089364165337, 139.2938354879818, 141.6023495468271, 113.52868960100534, 118.99167293990936, 100.8292946107958, 108.95386168191547, 94.92673030445854, 134.90969783158945, 82.89593085252469, 80.21464837270666, 79.60197386263134, 77.9354207904859, 89.99871741090924, 116.56387546976089, 75.42011866304561, 80.8064977322325, 81.7463612558386, 73.14968944085258, 76.48824134427352, 114.47940916561338, 76.22602005977807, 127.81623292279073, 145.33474336257748, 100.21072200654868, 78.05573304227623, 172.02487893266962, 117.61068518813937, 152.3536616826333, 98.39402917780122, 92.57560805854355, 108.69036321612568, 151.6868133993228, 251.6024444416757, 115.23249379423588, 170.75257576132267, 165.0974475921359, 139.58749849253599, 108.13672286365569, 124.02702227807102, 134.75865340490392, 130.5784478978234, 125.07881655122328, 125.30625238407688], \"Total\": [936.0, 442.0, 763.0, 712.0, 685.0, 381.0, 617.0, 601.0, 925.0, 597.0, 798.0, 590.0, 294.0, 509.0, 1002.0, 490.0, 690.0, 687.0, 249.0, 434.0, 429.0, 453.0, 480.0, 448.0, 239.0, 915.0, 235.0, 511.0, 219.0, 818.0, 601.160274476773, 597.5820664234706, 490.8949499136227, 434.3748107998181, 274.7938588585121, 242.06038777377677, 235.2879263951574, 239.0120823841032, 237.18385630026316, 214.80148322271836, 215.9561264397014, 202.71724635717248, 206.11534101166652, 204.49158115893354, 195.65748886302873, 180.1804855101572, 183.41789490123065, 196.1033927407893, 169.058424003134, 158.2500409080729, 152.55273016558064, 150.3562976481585, 151.10786757294548, 148.90887640083088, 146.09981623306328, 145.0492233181365, 140.5457313165871, 141.25334990731895, 138.95909505721187, 135.78110310319855, 453.1251807573344, 480.12235095912985, 237.9086972295846, 240.52528001065173, 925.0010109398712, 379.5423890497668, 495.5405838729587, 866.8147173376709, 263.95628614476584, 275.2023423981381, 646.8090188660838, 737.579513710527, 373.8703958259642, 464.68171841892666, 432.92282512476413, 425.3512196717406, 639.6834605619001, 928.5447705625465, 478.129942346655, 744.1232621643928, 635.983184828067, 640.9113971075242, 471.8309264384996, 785.3505888089302, 405.77973618389575, 567.3885154004412, 695.367144166496, 426.0329164282573, 443.1173464917291, 838.5396083631348, 763.6140318604298, 509.6662350788495, 429.8014844056462, 315.304029674079, 279.6192231223028, 279.9590978212494, 319.7154106156652, 319.8812061113228, 291.90640538434354, 250.52078096549954, 233.8339330165517, 226.37151050902327, 221.67442958776806, 209.39593859155133, 187.24731188508244, 180.23604477564638, 182.36757974445987, 184.64251856233204, 155.8216349414854, 147.60531978465812, 201.30074352138115, 149.13276607023877, 131.16752023599247, 124.95197340130929, 113.81770189761636, 112.87513934956408, 111.1747640153319, 111.85318324007225, 106.78122210085242, 94.26281229876612, 97.45891859091437, 312.03080005295175, 297.3806713461613, 798.5544840000151, 329.2125717093691, 288.33306587596775, 619.8525743091899, 188.2467359692193, 411.8598265668012, 587.47801807478, 394.0645638898901, 608.4605751728164, 1021.3473246084015, 704.3281849421354, 418.28238004444273, 480.4799378216964, 581.9137738798012, 552.3522984045333, 915.3201804427276, 818.246082155729, 631.4137612479044, 643.0323978199436, 928.5447705625465, 575.7753818642235, 682.087120355109, 704.3843819711502, 581.0344274911054, 786.501924105304, 613.4828146476957, 609.8087841583442, 575.6756341213683, 571.6663865152157, 785.3505888089302, 936.1424393433715, 617.5254605371107, 327.26365381506577, 227.08670269674985, 229.3970856968432, 221.88245626746962, 333.83749759840447, 203.08693238260423, 229.3396213403452, 194.6475067882334, 225.81891099597232, 150.93963854221298, 154.2271300286717, 158.5969922892609, 156.94145085969916, 149.2061493633208, 142.37038629352617, 139.99554233919454, 191.3150101479753, 128.79561903657006, 132.03897804381577, 129.68231974587647, 163.94205003189444, 121.25215681470287, 124.68065881578869, 137.64406133535618, 126.48781794239976, 685.9098304039105, 109.25098797252234, 113.24309351281468, 712.86843324887, 590.01797477578, 448.61015837001486, 167.42836144597112, 690.7016145946717, 511.63623028082054, 687.4552224185916, 415.048097761363, 1002.4112784401559, 425.21761669118195, 462.8054217315081, 351.7764326291603, 263.34926583163127, 435.2925440344013, 215.01539557528332, 414.40869822848936, 617.2621446626872, 1021.3832306085692, 491.9395389698112, 610.4867046463067, 491.7198754161917, 670.2437887280261, 688.6016113301349, 818.246082155729, 470.6034020075777, 476.40637810151236, 541.0309556618054, 794.0577339942179, 1021.3473246084015, 442.5286449080876, 381.31842408767426, 249.63873469597777, 235.06908693276583, 239.35934018835607, 294.6622248319834, 219.14802316580267, 199.9768052831906, 147.77218536526163, 139.99440619562725, 142.33898972478272, 114.22586888899757, 119.75849301589334, 101.52743174343294, 109.84810667259394, 95.70919052367476, 136.07034486366865, 83.61113574382446, 80.92333355902916, 80.30929365665034, 78.62879209900866, 90.83346340668672, 117.65049660979297, 76.12530118440898, 81.58702645084566, 82.5388761737205, 73.86096598069412, 77.23945148285003, 115.6037765196731, 76.9973397200056, 129.67154113359075, 150.70357582563543, 102.73868972643106, 78.93422109983511, 198.32587364799545, 135.99400377820504, 201.86913858653412, 111.01100652467741, 101.9582795534171, 135.0397055313068, 249.10470596732432, 915.3201804427276, 167.54167270646118, 500.16618708603187, 695.367144166496, 490.1945756301337, 154.62055406682123, 368.13581671379126, 794.0577339942179, 786.501924105304, 635.983184828067, 744.1232621643928], \"Category\": [\"Default\", \"Default\", \"Default\", \"Default\", \"Default\", \"Default\", \"Default\", \"Default\", \"Default\", \"Default\", \"Default\", \"Default\", \"Default\", \"Default\", \"Default\", \"Default\", \"Default\", \"Default\", \"Default\", \"Default\", \"Default\", \"Default\", \"Default\", \"Default\", \"Default\", \"Default\", \"Default\", \"Default\", \"Default\", \"Default\", \"Topic1\", \"Topic1\", \"Topic1\", \"Topic1\", \"Topic1\", \"Topic1\", \"Topic1\", \"Topic1\", \"Topic1\", \"Topic1\", \"Topic1\", \"Topic1\", \"Topic1\", \"Topic1\", \"Topic1\", \"Topic1\", \"Topic1\", \"Topic1\", \"Topic1\", \"Topic1\", \"Topic1\", \"Topic1\", \"Topic1\", \"Topic1\", \"Topic1\", \"Topic1\", \"Topic1\", \"Topic1\", \"Topic1\", \"Topic1\", \"Topic1\", \"Topic1\", \"Topic1\", \"Topic1\", \"Topic1\", \"Topic1\", \"Topic1\", \"Topic1\", \"Topic1\", \"Topic1\", \"Topic1\", \"Topic1\", \"Topic1\", \"Topic1\", \"Topic1\", \"Topic1\", \"Topic1\", \"Topic1\", \"Topic1\", \"Topic1\", \"Topic1\", \"Topic1\", \"Topic1\", \"Topic1\", \"Topic1\", \"Topic1\", \"Topic1\", \"Topic1\", \"Topic1\", \"Topic1\", \"Topic2\", \"Topic2\", \"Topic2\", \"Topic2\", \"Topic2\", \"Topic2\", \"Topic2\", \"Topic2\", \"Topic2\", \"Topic2\", \"Topic2\", \"Topic2\", \"Topic2\", \"Topic2\", \"Topic2\", \"Topic2\", \"Topic2\", \"Topic2\", \"Topic2\", \"Topic2\", \"Topic2\", \"Topic2\", \"Topic2\", \"Topic2\", \"Topic2\", \"Topic2\", \"Topic2\", \"Topic2\", \"Topic2\", \"Topic2\", \"Topic2\", \"Topic2\", \"Topic2\", \"Topic2\", \"Topic2\", \"Topic2\", \"Topic2\", \"Topic2\", \"Topic2\", \"Topic2\", \"Topic2\", \"Topic2\", \"Topic2\", \"Topic2\", \"Topic2\", \"Topic2\", \"Topic2\", \"Topic2\", \"Topic2\", \"Topic2\", \"Topic2\", \"Topic2\", \"Topic2\", \"Topic2\", \"Topic2\", \"Topic2\", \"Topic2\", \"Topic2\", \"Topic2\", \"Topic2\", \"Topic2\", \"Topic2\", \"Topic2\", \"Topic3\", \"Topic3\", \"Topic3\", \"Topic3\", \"Topic3\", \"Topic3\", \"Topic3\", \"Topic3\", \"Topic3\", \"Topic3\", \"Topic3\", \"Topic3\", \"Topic3\", \"Topic3\", \"Topic3\", \"Topic3\", \"Topic3\", \"Topic3\", \"Topic3\", \"Topic3\", \"Topic3\", \"Topic3\", \"Topic3\", \"Topic3\", \"Topic3\", \"Topic3\", \"Topic3\", \"Topic3\", \"Topic3\", \"Topic3\", \"Topic3\", \"Topic3\", \"Topic3\", \"Topic3\", \"Topic3\", \"Topic3\", \"Topic3\", \"Topic3\", \"Topic3\", \"Topic3\", \"Topic3\", \"Topic3\", \"Topic3\", \"Topic3\", \"Topic3\", \"Topic3\", \"Topic3\", \"Topic3\", \"Topic3\", \"Topic3\", \"Topic3\", \"Topic3\", \"Topic3\", \"Topic3\", \"Topic3\", \"Topic3\", \"Topic3\", \"Topic3\", \"Topic3\", \"Topic4\", \"Topic4\", \"Topic4\", \"Topic4\", \"Topic4\", \"Topic4\", \"Topic4\", \"Topic4\", \"Topic4\", \"Topic4\", \"Topic4\", \"Topic4\", \"Topic4\", \"Topic4\", \"Topic4\", \"Topic4\", \"Topic4\", \"Topic4\", \"Topic4\", \"Topic4\", \"Topic4\", \"Topic4\", \"Topic4\", \"Topic4\", \"Topic4\", \"Topic4\", \"Topic4\", \"Topic4\", \"Topic4\", \"Topic4\", \"Topic4\", \"Topic4\", \"Topic4\", \"Topic4\", \"Topic4\", \"Topic4\", \"Topic4\", \"Topic4\", \"Topic4\", \"Topic4\", \"Topic4\", \"Topic4\", \"Topic4\", \"Topic4\", \"Topic4\", \"Topic4\", \"Topic4\", \"Topic4\", \"Topic4\", \"Topic4\", \"Topic4\", \"Topic4\"], \"logprob\": [30.0, 29.0, 28.0, 27.0, 26.0, 25.0, 24.0, 23.0, 22.0, 21.0, 20.0, 19.0, 18.0, 17.0, 16.0, 15.0, 14.0, 13.0, 12.0, 11.0, 10.0, 9.0, 8.0, 7.0, 6.0, 5.0, 4.0, 3.0, 2.0, 1.0, -5.0565, -5.0625, -5.2594, -5.3819, -5.8407, -5.9679, -5.9964, -5.9807, -5.9884, -6.0877, -6.0825, -6.1458, -6.1292, -6.1371, -6.1814, -6.2641, -6.2463, -6.1795, -6.3283, -6.3944, -6.4312, -6.4458, -6.441, -6.4557, -6.4748, -6.482, -6.5136, -6.5086, -6.5251, -6.5484, -5.3456, -5.3, -5.9955, -5.998, -4.768, -5.6195, -5.41, -4.9454, -5.9629, -5.9297, -5.2451, -5.235, -5.7395, -5.599, -5.6586, -5.6725, -5.4455, -5.3035, -5.6735, -5.4696, -5.5763, -5.5961, -5.7502, -5.5762, -5.8103, -5.7002, -5.637, -5.8055, -5.7986, -5.816, -4.808, -5.2128, -5.3834, -5.694, -5.8142, -5.8131, -5.6803, -5.6798, -5.7714, -5.9244, -5.9936, -6.0261, -6.0471, -6.1046, -6.2165, -6.2548, -6.2432, -6.2311, -6.4009, -6.4556, -6.1454, -6.4453, -6.5746, -6.6233, -6.7168, -6.7252, -6.7404, -6.7345, -6.7814, -6.9066, -6.8733, -5.7325, -5.7841, -4.8338, -5.7072, -5.845, -5.17, -6.2737, -5.6301, -5.3701, -5.6904, -5.3884, -5.0044, -5.3656, -5.7077, -5.6353, -5.5185, -5.5654, -5.2992, -5.3764, -5.5105, -5.5119, -5.3481, -5.5752, -5.5164, -5.5337, -5.5941, -5.5132, -5.6192, -5.6319, -5.6616, -5.6693, -5.6726, -4.5437, -4.9602, -5.5962, -5.9625, -5.9524, -5.9858, -5.5773, -6.0746, -5.9534, -6.1175, -5.9693, -6.3724, -6.3509, -6.323, -6.3336, -6.3842, -6.4312, -6.4483, -6.136, -6.5319, -6.5072, -6.5252, -6.2909, -6.5927, -6.5648, -6.4659, -6.5506, -4.8601, -6.6975, -6.6617, -4.822, -5.0283, -5.313, -6.2872, -4.9852, -5.2681, -5.0565, -5.5067, -4.7578, -5.5452, -5.4775, -5.7231, -5.9519, -5.5806, -6.1061, -5.6361, -5.3675, -5.0191, -5.5685, -5.4315, -5.6402, -5.4829, -5.5028, -5.4299, -5.6983, -5.7092, -5.6812, -5.5872, -5.5443, -4.4569, -4.606, -5.0306, -5.0909, -5.073, -4.8652, -5.1613, -5.2532, -5.557, -5.6112, -5.5948, -5.8157, -5.7687, -5.9344, -5.8569, -5.9947, -5.6432, -6.1302, -6.1631, -6.1708, -6.1919, -6.048, -5.7894, -6.2247, -6.1557, -6.1442, -6.2553, -6.2107, -5.8074, -6.2141, -5.6972, -5.5688, -5.9405, -6.1904, -5.4002, -5.7804, -5.5216, -5.9588, -6.0198, -5.8593, -5.526, -5.0199, -5.8008, -5.4076, -5.4413, -5.6091, -5.8644, -5.7273, -5.6443, -5.6758, -5.7189, -5.717], \"loglift\": [30.0, 29.0, 28.0, 27.0, 26.0, 25.0, 24.0, 23.0, 22.0, 21.0, 20.0, 19.0, 18.0, 17.0, 16.0, 15.0, 14.0, 13.0, 12.0, 11.0, 10.0, 9.0, 8.0, 7.0, 6.0, 5.0, 4.0, 3.0, 2.0, 1.0, 1.2012, 1.2012, 1.2009, 1.2007, 1.1998, 1.1995, 1.1994, 1.1993, 1.1993, 1.1991, 1.199, 1.1989, 1.1989, 1.1988, 1.1987, 1.1985, 1.1985, 1.1984, 1.1979, 1.1979, 1.1978, 1.1977, 1.1975, 1.1975, 1.1975, 1.1974, 1.1974, 1.1974, 1.1972, 1.1971, 1.1948, 1.1825, 1.1891, 1.1757, 1.0587, 1.0981, 1.0408, 0.9463, 1.1179, 1.1093, 0.9394, 0.8182, 0.9932, 0.9161, 0.9273, 0.9311, 0.75, 0.5194, 0.8131, 0.5747, 0.6251, 0.5975, 0.7497, 0.4142, 0.8404, 0.6152, 0.4751, 0.7965, 0.764, 0.1088, 1.2104, 1.2099, 1.2098, 1.209, 1.2089, 1.2088, 1.2088, 1.2088, 1.2087, 1.2086, 1.2083, 1.2083, 1.2082, 1.2077, 1.2076, 1.2074, 1.2073, 1.207, 1.2069, 1.2064, 1.2064, 1.2063, 1.2054, 1.2053, 1.2052, 1.205, 1.205, 1.2048, 1.2044, 1.2038, 1.2038, 1.1809, 1.1774, 1.14, 1.1526, 1.1474, 1.057, 1.1451, 1.0057, 0.9105, 0.9896, 0.8572, 0.7233, 0.7337, 0.9127, 0.8464, 0.7717, 0.777, 0.538, 0.5729, 0.6981, 0.6784, 0.4748, 0.7257, 0.6149, 0.5655, 0.6976, 0.4757, 0.6181, 0.6115, 0.6394, 0.6387, 0.3178, 1.271, 1.2706, 1.2696, 1.2687, 1.2687, 1.2686, 1.2686, 1.2683, 1.2679, 1.2679, 1.2675, 1.2672, 1.2672, 1.2671, 1.267, 1.267, 1.2669, 1.2667, 1.2667, 1.2664, 1.2662, 1.2662, 1.2662, 1.266, 1.266, 1.2659, 1.2658, 1.2657, 1.2654, 1.2653, 1.2652, 1.2481, 1.2373, 1.2487, 1.1336, 1.1508, 1.067, 1.1214, 0.9885, 1.0587, 1.0418, 1.0704, 1.1311, 0.9999, 1.1797, 0.9936, 0.8638, 0.7085, 0.8897, 0.8108, 0.8185, 0.666, 0.6191, 0.5195, 0.8042, 0.7811, 0.6818, 0.3922, 0.1834, 2.1071, 2.1068, 2.1059, 2.1057, 2.1056, 2.1055, 2.1055, 2.1051, 2.1038, 2.1037, 2.1035, 2.1026, 2.1023, 2.1018, 2.1006, 2.1005, 2.1002, 2.1001, 2.0999, 2.0999, 2.0999, 2.0995, 2.0994, 2.0994, 2.0991, 2.0991, 2.0991, 2.099, 2.099, 2.0987, 2.0943, 2.0725, 2.0838, 2.0975, 1.9665, 1.9635, 1.8273, 1.9881, 2.0122, 1.8917, 1.6127, 0.8173, 1.7344, 1.034, 0.6708, 0.8526, 1.7511, 1.0208, 0.3351, 0.3131, 0.4825, 0.3273]}, \"token.table\": {\"Topic\": [1, 2, 1, 3, 4, 2, 3, 1, 2, 3, 3, 4, 2, 4, 2, 4, 1, 3, 4, 4, 2, 4, 3, 1, 2, 3, 4, 1, 3, 3, 1, 2, 3, 1, 3, 4, 4, 1, 2, 3, 2, 3, 4, 3, 3, 3, 1, 4, 1, 2, 3, 1, 3, 4, 1, 2, 4, 3, 1, 2, 4, 2, 3, 4, 2, 2, 3, 4, 2, 3, 3, 2, 3, 2, 3, 3, 1, 4, 1, 2, 3, 4, 2, 4, 2, 3, 2, 3, 2, 1, 1, 1, 2, 3, 2, 3, 4, 2, 3, 4, 1, 2, 3, 4, 3, 1, 3, 2, 1, 2, 1, 2, 3, 4, 1, 2, 3, 1, 3, 3, 4, 2, 1, 2, 2, 1, 2, 4, 3, 4, 1, 3, 1, 2, 2, 1, 2, 3, 1, 1, 2, 3, 1, 3, 4, 1, 2, 3, 4, 1, 2, 3, 2, 1, 1, 3, 4, 3, 4, 1, 2, 3, 2, 1, 2, 3, 4, 1, 2, 3, 4, 2, 3, 1, 2, 3, 1, 1, 2, 3, 4, 1, 4, 1, 2, 3, 1, 3, 4, 1, 2, 3, 4, 3, 3, 4, 1, 2, 3, 4, 1, 2, 4, 4, 4, 1, 3, 4, 4, 4, 4, 1, 2, 3, 4, 3, 1, 4, 4, 1, 2, 1, 1, 2, 3, 1, 1, 3, 4, 4, 3, 1, 2, 1, 2, 3, 4, 3, 1, 2, 3, 4, 1, 2, 2, 1, 2, 3, 4, 1, 3, 4, 1, 2, 3, 1, 1, 1, 1, 4, 1, 3, 1, 3, 1, 2, 3, 4, 1, 2, 3, 4, 2, 3, 4, 3, 1, 3, 1, 3, 4, 2, 3, 4, 1, 3, 4, 3, 3, 3, 4, 1, 3, 4, 1, 2, 3, 4, 4, 1, 2, 3, 4, 1, 4, 4, 1, 2, 1, 2, 3, 4, 1, 2, 1, 2, 1, 4, 1, 2, 3, 1, 2, 1, 2, 3, 4, 2, 2, 1, 2, 3, 4, 1, 2, 1, 2, 3, 4, 1, 2, 3, 1, 3, 1, 2, 3, 4, 2, 2, 2, 2, 1, 2, 4, 1, 2, 4, 1, 2, 3, 1, 2, 3, 4, 3, 1, 1, 1, 2, 4, 1, 2, 3, 1, 1, 4, 1, 1, 2, 4, 1, 2, 3, 1, 2, 4, 3, 1, 2, 3, 4, 1, 2, 3, 1, 2, 3, 4, 1, 2, 3, 4, 2, 4, 2, 4, 2, 2, 3, 2, 1, 2, 4, 1, 2, 3, 4, 4, 2, 4], \"Freq\": [0.9206069821225153, 0.07955862808466183, 0.015253772570946168, 0.9762414445405547, 0.008474318094970092, 0.9364170535894968, 0.05895959226304239, 0.09878373186418855, 0.04095910833393184, 0.8601412750125687, 0.9946479452426977, 0.9881645617475148, 0.9922468370395198, 0.9951154071003018, 0.9965741501929624, 0.9920030299051664, 0.9728707102622944, 0.024945402827238318, 0.9870470885925106, 0.9928049044513305, 0.019466863022348534, 0.9733431511174266, 0.9953208200258855, 0.11003304233565388, 0.0014478031886270247, 0.8715775195534688, 0.017373638263524296, 0.6806045865815854, 0.318609716826041, 0.9952145912383032, 0.04238097527626915, 0.5525827161021246, 0.40424930263518266, 0.9877738928275596, 0.012609879482905016, 0.994761425865411, 0.9991649391491216, 0.43948202610740117, 0.5493525326342514, 0.011479008144596299, 0.8133835309758356, 0.18452880105720448, 0.9926907374431928, 0.9937747396821135, 0.9962357905995338, 0.9961433602829491, 0.10809738940014417, 0.8827953467678441, 0.038251671032138605, 0.7411261262476855, 0.21994710843479698, 0.33319322361933745, 0.05620126663458704, 0.6101851806040879, 0.5335137606708688, 0.2969938063180403, 0.1679829221255884, 0.9919162221633118, 0.810441274256563, 0.18188121006417915, 0.0053494473548287985, 0.37705790743611156, 0.5544969227001642, 0.0665396307240197, 0.9924043112718417, 0.30389899182420144, 0.35388237863739247, 0.3418863658022266, 0.004373752739822078, 0.9942997895195522, 0.9938226234516241, 0.11336179216269669, 0.8853946870638207, 0.08371493562979615, 0.9115626324133359, 0.9982690028705598, 0.9809999452412362, 0.018745221883590502, 0.3570010944634415, 0.024480075048921704, 0.33252101941451984, 0.2856008755707532, 0.9935383074169173, 0.9839531294040167, 0.9952911585973914, 0.9987796308602643, 0.9947270804738126, 0.9928887568663975, 0.9972119196069269, 0.9934483165209883, 0.99759608118756, 0.9120561904116197, 0.08720856003935805, 0.9945407826502237, 0.5279585315726346, 0.4717407249699929, 0.9954520309466655, 0.007711792358276793, 0.007711792358276793, 0.9871094218594295, 0.2960863764167302, 0.26077332234867984, 0.10593916220415117, 0.33683220803371144, 0.9921312777544294, 0.9927664327037777, 0.994158788034462, 0.9928156878588893, 0.6974227019353842, 0.3031201142687359, 0.1158605930795832, 0.29972631687979134, 0.4143275556867704, 0.17001282680156232, 0.1134188654101747, 0.6444253716487198, 0.24230393973991868, 0.9956193254768815, 0.997398431631965, 0.19253596486829067, 0.8071700065632185, 0.9968948766877859, 0.19793710764055109, 0.801899051466848, 0.9990357570932624, 0.7683875541365938, 0.20098668418059795, 0.029374976918702778, 0.1323587768572246, 0.8676853149529168, 0.9963767926999358, 0.9978533480031859, 0.9926683660438086, 0.9979212065222994, 0.996957567054431, 0.6776400541028922, 0.16104408693186018, 0.16104408693186018, 0.9950086978147262, 0.1307648714730495, 0.051168862750323715, 0.8187018040051794, 0.03343660351896882, 0.9652032882475667, 0.9928968147896019, 0.208249277968735, 0.5989318077117337, 0.04646884715004831, 0.14629081510200392, 0.9976303111094672, 0.6481370694646897, 0.3512251158551671, 0.9894331773425676, 0.9961170551999348, 0.3505399845259261, 0.6306443646844933, 0.01801841041955695, 0.9795234127816663, 0.017918111209420724, 0.5460973257451394, 0.45092036325812934, 0.001560278073557541, 0.9981091391064483, 0.6362521857959088, 0.36111610545173206, 0.0015632731837737317, 0.9883434237656848, 0.022360471416945884, 0.1402611388881151, 0.6830107632812561, 0.15652329991862118, 0.9986792233085076, 0.9991943687849468, 0.013896714618137511, 0.5645540313618365, 0.4221127065259269, 0.9990259640371167, 0.03253885148827389, 0.327422193100756, 0.6345076040213408, 0.004067356436034236, 0.2427315058809519, 0.7529630386511161, 0.1791898369705033, 0.059729945656834434, 0.762705459925732, 0.3304916748320587, 0.6642234641232553, 0.004860171688706745, 0.11915339441873331, 0.7404532367449855, 0.051065740465171414, 0.0902161414884695, 0.9940012606322801, 0.9991490868463081, 0.9908242692128223, 0.45457405276976925, 0.4087346524904648, 0.10695860065171042, 0.029286283511777852, 0.8659449995477554, 0.12972958794722927, 0.004324319598240975, 0.9922792781934626, 0.9961487190016554, 0.12934890914539568, 0.1681535818890144, 0.6984841093851367, 0.997618433814669, 0.9934712441130611, 0.994470940382424, 0.25847301197876654, 0.10573895944585905, 0.5698155036804626, 0.06559731743400515, 0.9974913015930524, 0.9943734133032172, 0.9977525967831099, 0.992590152316675, 0.03026423996979848, 0.9650929857035737, 0.9977216241552893, 0.07224767151056959, 0.3017402751323789, 0.6268547969299421, 0.9930980044392417, 0.20526985108466014, 0.7951505810437361, 0.9948050321536174, 0.9980226117674179, 0.9985273017229234, 0.9982064148745132, 0.9979844019152146, 0.18173346280401365, 0.6204494003543278, 0.15901677995351193, 0.03975419498837798, 0.9977026480292749, 0.9937393004260209, 0.5986565754489319, 0.28982580239987976, 0.11086232878683926, 0.9981769013639676, 0.9986928012236352, 0.9923812855820066, 0.5613355958404971, 0.13679606957457494, 0.10534869725858069, 0.19654607697496398, 0.1356728549698967, 0.7531838639872941, 0.1107329919239598, 0.16262739294735995, 0.29243090841910596, 0.5460699616397591, 0.9991371258404051, 0.9962687258454015, 0.9966395926532154, 0.9945887530438436, 0.9984987417325211, 0.129106112723084, 0.8695676415760657, 0.005611133574494464, 0.99317064268552, 0.015551315973973854, 0.5862846122188143, 0.2908096087133111, 0.10574894862302221, 0.057314016957713376, 0.6148230910009252, 0.2657286240766711, 0.06252438213568731, 0.10146729303451918, 0.20890325036518653, 0.6863963940570414, 0.9942537620353584, 0.18473930498802682, 0.8145985101834253, 0.6666151582393629, 0.2581960119941194, 0.07511156712556201, 0.6138949844906093, 0.3368100074398239, 0.048954942941834875, 0.17638027460764735, 0.8089975262004091, 0.016462158963380418, 0.9979203931597834, 0.994738529144038, 0.9931264664128644, 0.9947744877471159, 0.4831979808346387, 0.2789893103628569, 0.2372847227312958, 0.06451882286811304, 0.6951382850951534, 0.047868804063438714, 0.19355646860433914, 0.9936664782864905, 0.5050914235571674, 0.47924452768217374, 0.015077355927079624, 0.0010769539947914017, 0.008650236437819338, 0.9861269539114046, 0.9988053995731793, 0.996461838496421, 0.996433652696195, 0.1474885139435067, 0.47933767031639685, 0.20724679114475514, 0.16656030453964982, 0.028843306489207785, 0.9710579851366621, 0.29747202593790395, 0.7017710225164916, 0.1310973677904824, 0.8672595099985758, 0.6358209756712572, 0.038149258540275434, 0.3263881008445787, 0.7617234535028321, 0.23745082964131495, 0.3351064126219679, 0.3196032689775352, 0.3112554223997638, 0.03339138631108577, 0.9977623517919029, 0.9926838999827651, 0.7740985317610954, 0.04268501590933015, 0.12228680233483773, 0.061143401167418863, 0.9980699415346717, 0.9986903575478467, 0.01845583225968296, 0.523861700294078, 0.3975102332854792, 0.059626534992821875, 0.10325035766984818, 0.8566553112920215, 0.038718884126193065, 0.9955725894168214, 0.9960228659700529, 0.14807492618746013, 0.5512492301632179, 0.21258281482358135, 0.08943139106371353, 0.9981352218763169, 0.9972452082382854, 0.9910990141927521, 0.9977854772808951, 0.555175142693336, 0.39126629104101773, 0.05287382311365105, 0.029423799745740765, 0.05884759949148153, 0.9121377921179638, 0.3288631349238795, 0.5632655821568574, 0.10670559165083324, 0.9971110749643031, 0.9316834541749137, 0.05259503370342255, 0.016279415193916503, 0.9963735942558553, 0.9984199630746501, 0.9942473357091165, 0.6454272265898268, 0.11735040483451395, 0.2369575482235378, 0.15952767110898328, 0.22879626514314708, 0.6129221047871463, 0.9987762806210726, 0.9931030521144044, 0.006620687014096029, 0.9957655597407133, 0.9924721586828773, 0.9965202025658292, 0.9921338858607212, 0.08445768669822253, 0.15684998958241328, 0.7577061035211964, 0.9938964256342625, 0.9991958871434908, 0.9974413638301939, 0.9966734390852597, 0.07696758056900671, 0.32239250728904695, 0.5213464419674227, 0.07987201757161073, 0.7599506907615357, 0.011549402595160116, 0.2286781713841703, 0.06555083268346475, 0.5102039810529673, 0.14858188741585343, 0.27531349727055193, 0.8515952350497851, 0.02825197462250472, 0.05650394924500944, 0.06255794380697474, 0.03317771308747855, 0.9621536795368778, 0.9349431696323182, 0.06374612520220352, 0.9983588460041288, 0.941640832214846, 0.054675919289894286, 0.9923722936142009, 0.751051711669372, 0.11836058493356864, 0.13127264874450342, 0.901085122155238, 0.03161702183000835, 0.055329788202514614, 0.01053900727666945, 0.9885900207218276, 0.9958990652536018, 0.9852177769164682], \"Term\": [\"acto\", \"acto\", \"actriz\", \"actriz\", \"actriz\", \"adaptacion\", \"adaptacion\", \"adolescente\", \"adolescente\", \"adolescente\", \"adulto\", \"affleck\", \"aficionado\", \"agente\", \"alien\", \"allen\", \"alma\", \"alma\", \"alumno\", \"ambicion\", \"american_gangster\", \"american_gangster\", \"amiga\", \"amigo\", \"amigo\", \"amigo\", \"amigo\", \"amor\", \"amor\", \"animacion\", \"argumento\", \"argumento\", \"argumento\", \"arte\", \"arte\", \"asesinato\", \"asesino\", \"aspecto\", \"aspecto\", \"aspecto\", \"aventura\", \"aventura\", \"banda\", \"besito\", \"boca\", \"burton\", \"cadaver\", \"cadaver\", \"calidad\", \"calidad\", \"calidad\", \"calle\", \"calle\", \"calle\", \"camara\", \"camara\", \"camara\", \"canci\\u00f3n\", \"capacidad\", \"capacidad\", \"capacidad\", \"cara\", \"cara\", \"cara\", \"carisma\", \"carrera\", \"carrera\", \"carrera\", \"casa\", \"casa\", \"chaval\", \"chica\", \"chica\", \"chico\", \"chico\", \"chiste\", \"cineasta\", \"cineasta\", \"ciudad\", \"ciudad\", \"ciudad\", \"ciudad\", \"cloverfield\", \"coen\", \"combate\", \"comedia\", \"comic\", \"comico\", \"comics\", \"conciencia\", \"conflicto\", \"conjunto\", \"conjunto\", \"corto\", \"cosa\", \"cosa\", \"crimen\", \"crimenes_oxford\", \"crimenes_oxford\", \"crimenes_oxford\", \"cuerpo\", \"cuerpo\", \"cuerpo\", \"cuerpo\", \"cuidado\", \"cultura\", \"danny\", \"depredador\", \"desarrollo\", \"desarrollo\", \"dialogo\", \"dialogo\", \"dialogo\", \"dialogo\", \"direccion\", \"direccion\", \"direccion\", \"discurso\", \"disney\", \"droga\", \"droga\", \"duracion\", \"efecto\", \"efecto\", \"efectos_especial\", \"elemento\", \"elemento\", \"elemento\", \"elijah_wood\", \"elijah_wood\", \"emoci\\u00f3n\", \"encanto\", \"entorno\", \"entrega\", \"entretenimiento\", \"epoca\", \"epoca\", \"epoca\", \"espacio\", \"espa\\u00f1a\", \"espa\\u00f1a\", \"espa\\u00f1a\", \"espa\\u00f1ol\", \"espa\\u00f1ol\", \"espia\", \"estilo\", \"estilo\", \"estilo\", \"estilo\", \"estructura\", \"exito\", \"exito\", \"expectativa\", \"expresion\", \"familia\", \"familia\", \"familia\", \"fiesta\", \"fiesta\", \"filme\", \"filme\", \"filme\", \"flashback\", \"fotografia\", \"fotografia\", \"fotografia\", \"gangster\", \"gente\", \"gente\", \"gente\", \"gente\", \"gore\", \"gracia\", \"gracias\", \"gracias\", \"gracias\", \"guerra\", \"gusto\", \"gusto\", \"gusto\", \"gusto\", \"habitacion\", \"habitacion\", \"hermano\", \"hermano\", \"hermano\", \"hijo\", \"hijo\", \"hijo\", \"hora\", \"hora\", \"hora\", \"hora\", \"hotel\", \"humor\", \"huston\", \"idea\", \"idea\", \"idea\", \"idea\", \"imagen\", \"imagen\", \"imagen\", \"inglaterra\", \"investigacion\", \"italiano\", \"italiano\", \"italiano\", \"jefe\", \"jesus\", \"john_hurt\", \"joven\", \"joven\", \"joven\", \"joven\", \"juno\", \"laura\", \"leone\", \"leonor_watling\", \"leyenda\", \"leyenda\", \"libertad\", \"libro\", \"libro\", \"libro\", \"lynch\", \"madre\", \"madre\", \"mafia\", \"mafioso\", \"mago\", \"material\", \"mediocre\", \"metraje\", \"metraje\", \"metraje\", \"metraje\", \"mierda\", \"militar\", \"minuto\", \"minuto\", \"minuto\", \"mirada\", \"monstruo\", \"monstruoso\", \"muerte\", \"muerte\", \"muerte\", \"muerte\", \"mujer\", \"mujer\", \"mujer\", \"musica\", \"musica\", \"musica\", \"narracion\", \"narrativa\", \"naturaleza\", \"necesidad\", \"negro\", \"ni\\u00f1a\", \"ni\\u00f1a\", \"ni\\u00f1o\", \"ni\\u00f1o\", \"nombre\", \"nombre\", \"nombre\", \"nombre\", \"novela\", \"novela\", \"novela\", \"novela\", \"nueva_york\", \"nueva_york\", \"nueva_york\", \"orfanato\", \"padre\", \"padre\", \"palabra\", \"palabra\", \"palabra\", \"pantalla\", \"pantalla\", \"pantalla\", \"pareja\", \"pareja\", \"pareja\", \"pari\", \"parodia\", \"penn\", \"periodista\", \"persona\", \"persona\", \"persona\", \"pese\", \"pese\", \"pese\", \"pese\", \"pista\", \"plano\", \"plano\", \"plano\", \"plano\", \"plano_secuencia\", \"plano_secuencia\", \"policia\", \"politica\", \"presupuesto\", \"principio\", \"principio\", \"principio\", \"principio\", \"producci\\u00f3n\", \"producci\\u00f3n\", \"producto\", \"producto\", \"profesor\", \"profesor\", \"pueblo\", \"pueblo\", \"pueblo\", \"puesta\", \"puesta\", \"punto\", \"punto\", \"punto\", \"punto\", \"rambo\", \"raza\", \"realidad\", \"realidad\", \"realidad\", \"realidad\", \"relato\", \"remake\", \"resto\", \"resto\", \"resto\", \"resto\", \"resultado\", \"resultado\", \"resultado\", \"retrato\", \"risa\", \"ritmo\", \"ritmo\", \"ritmo\", \"ritmo\", \"saga\", \"sangre\", \"scott\", \"secuela\", \"secuencia\", \"secuencia\", \"secuencia\", \"seguridad\", \"seguridad\", \"seguridad\", \"sensacion\", \"sensacion\", \"sensacion\", \"sentimiento\", \"serie\", \"serie\", \"serie\", \"servidor\", \"significado\", \"silencio\", \"situacion\", \"situacion\", \"situacion\", \"situaci\\u00f3n\", \"situaci\\u00f3n\", \"situaci\\u00f3n\", \"social\", \"sociedad\", \"sociedad\", \"soldado\", \"soledad\", \"sonido\", \"sweeney_todd\", \"tal_vez\", \"tal_vez\", \"tal_vez\", \"terreno\", \"terror\", \"thriller\", \"tim_burton\", \"titulo\", \"titulo\", \"titulo\", \"titulo\", \"tono\", \"tono\", \"tono\", \"trama\", \"trama\", \"trama\", \"trama\", \"trav\", \"trav\", \"trav\", \"trav\", \"tren\", \"tren\", \"trilogia\", \"trilogia\", \"vampiro\", \"version\", \"version\", \"villano\", \"violencia\", \"violencia\", \"violencia\", \"vision\", \"vision\", \"vision\", \"vision\", \"wilder\", \"will_smith\", \"woody_allen\"]}, \"R\": 30, \"lambda.step\": 0.01, \"plot.opts\": {\"xlab\": \"PC1\", \"ylab\": \"PC2\"}, \"topic.order\": [4, 2, 1, 3]};\n",
       "\n",
       "function LDAvis_load_lib(url, callback){\n",
       "  var s = document.createElement('script');\n",
       "  s.src = url;\n",
       "  s.async = true;\n",
       "  s.onreadystatechange = s.onload = callback;\n",
       "  s.onerror = function(){console.warn(\"failed to load library \" + url);};\n",
       "  document.getElementsByTagName(\"head\")[0].appendChild(s);\n",
       "}\n",
       "\n",
       "if(typeof(LDAvis) !== \"undefined\"){\n",
       "   // already loaded: just create the visualization\n",
       "   !function(LDAvis){\n",
       "       new LDAvis(\"#\" + \"ldavis_el1310423429554851043468597638\", ldavis_el1310423429554851043468597638_data);\n",
       "   }(LDAvis);\n",
       "}else if(typeof define === \"function\" && define.amd){\n",
       "   // require.js is available: use it to load d3/LDAvis\n",
       "   require.config({paths: {d3: \"https://d3js.org/d3.v5\"}});\n",
       "   require([\"d3\"], function(d3){\n",
       "      window.d3 = d3;\n",
       "      LDAvis_load_lib(\"https://cdn.jsdelivr.net/gh/bmabey/pyLDAvis@3.3.1/pyLDAvis/js/ldavis.v3.0.0.js\", function(){\n",
       "        new LDAvis(\"#\" + \"ldavis_el1310423429554851043468597638\", ldavis_el1310423429554851043468597638_data);\n",
       "      });\n",
       "    });\n",
       "}else{\n",
       "    // require.js not available: dynamically load d3 & LDAvis\n",
       "    LDAvis_load_lib(\"https://d3js.org/d3.v5.js\", function(){\n",
       "         LDAvis_load_lib(\"https://cdn.jsdelivr.net/gh/bmabey/pyLDAvis@3.3.1/pyLDAvis/js/ldavis.v3.0.0.js\", function(){\n",
       "                 new LDAvis(\"#\" + \"ldavis_el1310423429554851043468597638\", ldavis_el1310423429554851043468597638_data);\n",
       "            })\n",
       "         });\n",
       "}\n",
       "</script>"
      ],
      "text/plain": [
       "<IPython.core.display.HTML object>"
      ]
     },
     "execution_count": 126,
     "metadata": {},
     "output_type": "execute_result"
    }
   ],
   "source": [
    "# Crea corpus (BoW)\n",
    "corpus = [new_corpus_bow.diccionario.doc2bow(text) for text in new_textos_lemas_trigramas]\n",
    "\n",
    "# Aplica el modelo LDA\n",
    "#ldamodel = LdaModel(corpus=corpus, num_topics=4, id2word=new_corpus_bow.diccionario), random_state=100)\n",
    "ldamodel = LdaModel(corpus=corpus, num_topics=4, id2word=new_corpus_bow.diccionario, \n",
    "                    random_state=100,\n",
    "                    update_every=1,\n",
    "                    chunksize=100, \n",
    "                    passes=10,\n",
    "                    alpha='auto')\n",
    "\n",
    "# Representa gráficamente\n",
    "vis_data = gensimvis.prepare(ldamodel, corpus, new_corpus_bow.diccionario)\n",
    "pyLDAvis.display(vis_data)"
   ]
  },
  {
   "cell_type": "markdown",
   "id": "84114610-aeb8-4101-80ff-6f3c17546677",
   "metadata": {},
   "source": [
    "Efectivamente ahora tenemos 4 temáticas perfectamente bien definidas (disjuntas) y con gran separación entre ellas. En el último apartado veremos su interpretación."
   ]
  },
  {
   "cell_type": "markdown",
   "id": "62f4665d-f751-4f53-81d0-d81ab52a8b4c",
   "metadata": {
    "id": "DjXk7WvDr4OX"
   },
   "source": [
    "### Determinar el tema dominante en cada documento\n",
    "Una aplicación práctica del topic modeling es determinar de qué tema trata un documento.  \n",
    "Para hacer esto, se busca el número de tema que tiene una mayor contribución en el documento.  \n",
    "La función `format_topics_sentences()` genera esta información en forma de tabla.  "
   ]
  },
  {
   "cell_type": "code",
   "execution_count": 128,
   "id": "a065f87c-e9cd-47a3-a585-6266a20ad9bb",
   "metadata": {
    "id": "Xn3KJ0S5r4OZ"
   },
   "outputs": [
    {
     "data": {
      "text/html": [
       "<div>\n",
       "<style scoped>\n",
       "    .dataframe tbody tr th:only-of-type {\n",
       "        vertical-align: middle;\n",
       "    }\n",
       "\n",
       "    .dataframe tbody tr th {\n",
       "        vertical-align: top;\n",
       "    }\n",
       "\n",
       "    .dataframe thead th {\n",
       "        text-align: right;\n",
       "    }\n",
       "</style>\n",
       "<table border=\"1\" class=\"dataframe\">\n",
       "  <thead>\n",
       "    <tr style=\"text-align: right;\">\n",
       "      <th></th>\n",
       "      <th>No_doc</th>\n",
       "      <th>Tema_dominante</th>\n",
       "      <th>Contribucion_per</th>\n",
       "      <th>Palabras_clave</th>\n",
       "    </tr>\n",
       "  </thead>\n",
       "  <tbody>\n",
       "    <tr>\n",
       "      <th>0</th>\n",
       "      <td>0</td>\n",
       "      <td>0</td>\n",
       "      <td>0.4938</td>\n",
       "      <td>comedia, mujer, niño, casa, humor, amigo, jove...</td>\n",
       "    </tr>\n",
       "    <tr>\n",
       "      <th>1</th>\n",
       "      <td>1</td>\n",
       "      <td>0</td>\n",
       "      <td>0.5819</td>\n",
       "      <td>comedia, mujer, niño, casa, humor, amigo, jove...</td>\n",
       "    </tr>\n",
       "    <tr>\n",
       "      <th>2</th>\n",
       "      <td>2</td>\n",
       "      <td>0</td>\n",
       "      <td>0.6079</td>\n",
       "      <td>comedia, mujer, niño, casa, humor, amigo, jove...</td>\n",
       "    </tr>\n",
       "    <tr>\n",
       "      <th>3</th>\n",
       "      <td>3</td>\n",
       "      <td>0</td>\n",
       "      <td>0.4145</td>\n",
       "      <td>comedia, mujer, niño, casa, humor, amigo, jove...</td>\n",
       "    </tr>\n",
       "    <tr>\n",
       "      <th>4</th>\n",
       "      <td>4</td>\n",
       "      <td>1</td>\n",
       "      <td>0.4457</td>\n",
       "      <td>terror, serie, pantalla, resultado, monstruo, ...</td>\n",
       "    </tr>\n",
       "    <tr>\n",
       "      <th>5</th>\n",
       "      <td>5</td>\n",
       "      <td>1</td>\n",
       "      <td>0.3950</td>\n",
       "      <td>terror, serie, pantalla, resultado, monstruo, ...</td>\n",
       "    </tr>\n",
       "    <tr>\n",
       "      <th>6</th>\n",
       "      <td>6</td>\n",
       "      <td>0</td>\n",
       "      <td>0.4247</td>\n",
       "      <td>comedia, mujer, niño, casa, humor, amigo, jove...</td>\n",
       "    </tr>\n",
       "    <tr>\n",
       "      <th>7</th>\n",
       "      <td>7</td>\n",
       "      <td>1</td>\n",
       "      <td>0.4676</td>\n",
       "      <td>terror, serie, pantalla, resultado, monstruo, ...</td>\n",
       "    </tr>\n",
       "    <tr>\n",
       "      <th>8</th>\n",
       "      <td>8</td>\n",
       "      <td>1</td>\n",
       "      <td>0.4524</td>\n",
       "      <td>terror, serie, pantalla, resultado, monstruo, ...</td>\n",
       "    </tr>\n",
       "    <tr>\n",
       "      <th>9</th>\n",
       "      <td>9</td>\n",
       "      <td>0</td>\n",
       "      <td>0.3448</td>\n",
       "      <td>comedia, mujer, niño, casa, humor, amigo, jove...</td>\n",
       "    </tr>\n",
       "  </tbody>\n",
       "</table>\n",
       "</div>"
      ],
      "text/plain": [
       "   No_doc  Tema_dominante  Contribucion_per  \\\n",
       "0       0               0            0.4938   \n",
       "1       1               0            0.5819   \n",
       "2       2               0            0.6079   \n",
       "3       3               0            0.4145   \n",
       "4       4               1            0.4457   \n",
       "5       5               1            0.3950   \n",
       "6       6               0            0.4247   \n",
       "7       7               1            0.4676   \n",
       "8       8               1            0.4524   \n",
       "9       9               0            0.3448   \n",
       "\n",
       "                                      Palabras_clave  \n",
       "0  comedia, mujer, niño, casa, humor, amigo, jove...  \n",
       "1  comedia, mujer, niño, casa, humor, amigo, jove...  \n",
       "2  comedia, mujer, niño, casa, humor, amigo, jove...  \n",
       "3  comedia, mujer, niño, casa, humor, amigo, jove...  \n",
       "4  terror, serie, pantalla, resultado, monstruo, ...  \n",
       "5  terror, serie, pantalla, resultado, monstruo, ...  \n",
       "6  comedia, mujer, niño, casa, humor, amigo, jove...  \n",
       "7  terror, serie, pantalla, resultado, monstruo, ...  \n",
       "8  terror, serie, pantalla, resultado, monstruo, ...  \n",
       "9  comedia, mujer, niño, casa, humor, amigo, jove...  "
      ]
     },
     "execution_count": 128,
     "metadata": {},
     "output_type": "execute_result"
    }
   ],
   "source": [
    "df_topic_sents_keywords = format_topics_sentences(ldamodel=ldamodel, corpus=new_corpus_bow)\n",
    "\n",
    "# Manera mas elegante de mostrar la informacion\n",
    "df_topic_sents_keywords.head(10)"
   ]
  },
  {
   "cell_type": "markdown",
   "id": "d7f4ddf9-33a6-4f03-bc21-963993c341f1",
   "metadata": {
    "id": "QI4T9pIXFnx2"
   },
   "source": [
    "Una vez tengo el df de arriba lo puedo usar para varios análisis: por ejemplo para tema ver el doc que tiene un procentaje mayor, no seria el centroide en un cluster pero sí el prototipo que mejor lo define al tema.\n"
   ]
  },
  {
   "cell_type": "markdown",
   "id": "c47c9762-c73e-4807-b35d-470fe5f36747",
   "metadata": {
    "id": "owySHyY2r4OZ"
   },
   "source": [
    "### Determinar el documento más representativo de cada tema\n",
    "Agrupando por temas, podemos seleccionar el de mayor porcentaje como más representativo."
   ]
  },
  {
   "cell_type": "code",
   "execution_count": 130,
   "id": "1d9ef9e2-fc7a-4f38-a5c0-bbda3729352d",
   "metadata": {
    "id": "W25Pz3p8r4Oa"
   },
   "outputs": [
    {
     "data": {
      "text/html": [
       "<div>\n",
       "<style scoped>\n",
       "    .dataframe tbody tr th:only-of-type {\n",
       "        vertical-align: middle;\n",
       "    }\n",
       "\n",
       "    .dataframe tbody tr th {\n",
       "        vertical-align: top;\n",
       "    }\n",
       "\n",
       "    .dataframe thead th {\n",
       "        text-align: right;\n",
       "    }\n",
       "</style>\n",
       "<table border=\"1\" class=\"dataframe\">\n",
       "  <thead>\n",
       "    <tr style=\"text-align: right;\">\n",
       "      <th></th>\n",
       "      <th>No_doc</th>\n",
       "      <th>Tema_dominante</th>\n",
       "      <th>Contribucion_per</th>\n",
       "      <th>Palabras_clave</th>\n",
       "    </tr>\n",
       "  </thead>\n",
       "  <tbody>\n",
       "    <tr>\n",
       "      <th>0</th>\n",
       "      <td>1440</td>\n",
       "      <td>0</td>\n",
       "      <td>0.8512</td>\n",
       "      <td>comedia, mujer, niño, casa, humor, amigo, jove...</td>\n",
       "    </tr>\n",
       "    <tr>\n",
       "      <th>1</th>\n",
       "      <td>3525</td>\n",
       "      <td>1</td>\n",
       "      <td>0.8347</td>\n",
       "      <td>terror, serie, pantalla, resultado, monstruo, ...</td>\n",
       "    </tr>\n",
       "    <tr>\n",
       "      <th>2</th>\n",
       "      <td>951</td>\n",
       "      <td>2</td>\n",
       "      <td>0.6261</td>\n",
       "      <td>policia, asesino, leone, trama, thriller, negr...</td>\n",
       "    </tr>\n",
       "    <tr>\n",
       "      <th>3</th>\n",
       "      <td>3617</td>\n",
       "      <td>3</td>\n",
       "      <td>0.9234</td>\n",
       "      <td>imagen, realidad, relato, guerra, amor, elemen...</td>\n",
       "    </tr>\n",
       "  </tbody>\n",
       "</table>\n",
       "</div>"
      ],
      "text/plain": [
       "   No_doc  Tema_dominante  Contribucion_per  \\\n",
       "0    1440               0            0.8512   \n",
       "1    3525               1            0.8347   \n",
       "2     951               2            0.6261   \n",
       "3    3617               3            0.9234   \n",
       "\n",
       "                                      Palabras_clave  \n",
       "0  comedia, mujer, niño, casa, humor, amigo, jove...  \n",
       "1  terror, serie, pantalla, resultado, monstruo, ...  \n",
       "2  policia, asesino, leone, trama, thriller, negr...  \n",
       "3  imagen, realidad, relato, guerra, amor, elemen...  "
      ]
     },
     "execution_count": 130,
     "metadata": {},
     "output_type": "execute_result"
    }
   ],
   "source": [
    "# Agrupamos documentos por tema\n",
    "sent_topics_sorted = pd.DataFrame()\n",
    "\n",
    "sent_topics_outdf_grpd = df_topic_sents_keywords.groupby('Tema_dominante')\n",
    "\n",
    "for i, grp in sent_topics_outdf_grpd:\n",
    "    sent_topics_sorted = pd.concat([sent_topics_sorted, \n",
    "                                    grp.sort_values(['Contribucion_per'], \n",
    "                                    ascending=[0]).head(1)], axis=0)\n",
    "\n",
    "# Reset Index    \n",
    "sent_topics_sorted.reset_index(drop=True, inplace=True)\n",
    "\n",
    "# cambiamos nombre de columna\n",
    "sent_topics_sorted.columns = df_topic_sents_keywords.columns\n",
    "\n",
    "# Mostramos\n",
    "sent_topics_sorted"
   ]
  },
  {
   "cell_type": "markdown",
   "id": "f0750f12-4e8d-4b5d-826d-e492b9bc7565",
   "metadata": {
    "id": "N5noP5odr4Oa"
   },
   "source": [
    "### Distribución de temas entre documentos\n",
    "Por último, podemos analizar el volumen y la distribución de temas entre los documentos del tema.  \n",
    "\n",
    "**Ver cómo se han separado los distintos docs entre los distintos temas**"
   ]
  },
  {
   "cell_type": "code",
   "execution_count": 131,
   "id": "13e6834a-aa00-431e-b280-c10ff969b474",
   "metadata": {
    "id": "haGCYHIBr4Ob"
   },
   "outputs": [
    {
     "data": {
      "text/html": [
       "<div>\n",
       "<style scoped>\n",
       "    .dataframe tbody tr th:only-of-type {\n",
       "        vertical-align: middle;\n",
       "    }\n",
       "\n",
       "    .dataframe tbody tr th {\n",
       "        vertical-align: top;\n",
       "    }\n",
       "\n",
       "    .dataframe thead th {\n",
       "        text-align: right;\n",
       "    }\n",
       "</style>\n",
       "<table border=\"1\" class=\"dataframe\">\n",
       "  <thead>\n",
       "    <tr style=\"text-align: right;\">\n",
       "      <th></th>\n",
       "      <th>Tema_dominante</th>\n",
       "      <th>Palabras_clave</th>\n",
       "      <th>Num_Documentos</th>\n",
       "      <th>Porcent_Documentos</th>\n",
       "    </tr>\n",
       "  </thead>\n",
       "  <tbody>\n",
       "    <tr>\n",
       "      <th>0</th>\n",
       "      <td>0</td>\n",
       "      <td>comedia, mujer, niño, casa, humor, amigo, jove...</td>\n",
       "      <td>1356</td>\n",
       "      <td>0.3497</td>\n",
       "    </tr>\n",
       "    <tr>\n",
       "      <th>1</th>\n",
       "      <td>1</td>\n",
       "      <td>terror, serie, pantalla, resultado, monstruo, ...</td>\n",
       "      <td>1247</td>\n",
       "      <td>0.3216</td>\n",
       "    </tr>\n",
       "    <tr>\n",
       "      <th>2</th>\n",
       "      <td>2</td>\n",
       "      <td>policia, asesino, leone, trama, thriller, negr...</td>\n",
       "      <td>226</td>\n",
       "      <td>0.0583</td>\n",
       "    </tr>\n",
       "    <tr>\n",
       "      <th>3</th>\n",
       "      <td>3</td>\n",
       "      <td>imagen, realidad, relato, guerra, amor, elemen...</td>\n",
       "      <td>1049</td>\n",
       "      <td>0.2705</td>\n",
       "    </tr>\n",
       "  </tbody>\n",
       "</table>\n",
       "</div>"
      ],
      "text/plain": [
       "   Tema_dominante                                     Palabras_clave  \\\n",
       "0               0  comedia, mujer, niño, casa, humor, amigo, jove...   \n",
       "1               1  terror, serie, pantalla, resultado, monstruo, ...   \n",
       "2               2  policia, asesino, leone, trama, thriller, negr...   \n",
       "3               3  imagen, realidad, relato, guerra, amor, elemen...   \n",
       "\n",
       "   Num_Documentos  Porcent_Documentos  \n",
       "0            1356              0.3497  \n",
       "1            1247              0.3216  \n",
       "2             226              0.0583  \n",
       "3            1049              0.2705  "
      ]
     },
     "execution_count": 131,
     "metadata": {},
     "output_type": "execute_result"
    }
   ],
   "source": [
    "# núm de documentos por cada tema\n",
    "topic_counts = df_topic_sents_keywords['Tema_dominante'].value_counts()\n",
    "\n",
    "# porcentaje de documentos por cada tema\n",
    "topic_contribution = round(topic_counts/topic_counts.sum(), 4)\n",
    "\n",
    "# palabras clave de cada tema\n",
    "topic_num_keywords = sent_topics_sorted[['Tema_dominante', 'Palabras_clave']]\n",
    "\n",
    "# Concatenamos por columna\n",
    "df_dominant_topics = pd.concat([topic_num_keywords, topic_counts, topic_contribution], axis=1)\n",
    "\n",
    "# cambiamos nombre de columna\n",
    "df_dominant_topics.columns = ['Tema_dominante', 'Palabras_clave', 'Num_Documentos', 'Porcent_Documentos']\n",
    "\n",
    "# Show\n",
    "df_dominant_topics"
   ]
  },
  {
   "cell_type": "markdown",
   "id": "676bf4c3-ead2-44c8-8980-99490b82e708",
   "metadata": {},
   "source": [
    "En este apartado final podemos ver tanto el número de documentos como su porcentaje relativo, aprovecharemos aquí para dar una interpretación de cada temática y su peso:\n",
    " - **Tema_dominante\t 0:** Comedias, cine para toda la familia, ahora con un 35% de los documentos.\n",
    " - **Tema_dominante\t 1:** Terror y fantástico: cine y series cinematográficas (recordemos que dentro de este género hay largas sagas...), ahora con un 32% de los documentos.\n",
    " - **Tema_dominante\t 2:** Género policíaco, thriller y de suspense, ahora con un 6% de los documentos.\n",
    " - **Tema_dominante\t 3:** Cine de autor, documental y social, ahora con un 27% de los documentos.\n"
   ]
  },
  {
   "cell_type": "markdown",
   "id": "d5497f72-124d-4e65-b158-d6c27898e310",
   "metadata": {},
   "source": [
    "# Referencias:\n",
    "    - Martin, F., & Johnson, M. (2015). More efficient topic modelling through a noun only approach. In B. Hachey, & K. Webster (Eds.), Proceedings of the Australasian Language Technology Association Workshop 2015 (pp. 111-115). (Australasian Language Technology Association workshop; Vol. 13). Australasian Language Technology Association. http://www.aclweb.org/anthology/U15-1013\n",
    "    - Topic Modeling on Spanish Texts: https://medium.com/@armandj.olivares/topic-modeling-on-spanish-text-f7a5e998fb90"
   ]
  }
 ],
 "metadata": {
  "kernelspec": {
   "display_name": "Python 3",
   "language": "python",
   "name": "python3"
  },
  "language_info": {
   "codemirror_mode": {
    "name": "ipython",
    "version": 3
   },
   "file_extension": ".py",
   "mimetype": "text/x-python",
   "name": "python",
   "nbconvert_exporter": "python",
   "pygments_lexer": "ipython3",
   "version": "3.8.10"
  }
 },
 "nbformat": 4,
 "nbformat_minor": 5
}
